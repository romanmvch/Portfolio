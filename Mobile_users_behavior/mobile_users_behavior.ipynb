{
  "cells": [
    {
      "cell_type": "markdown",
      "metadata": {
        "id": "3fFQfEn6QNhk"
      },
      "source": [
        "# Рекомендация тарифов"
      ]
    },
    {
      "cell_type": "markdown",
      "metadata": {
        "id": "-3IHtPO4QNhl"
      },
      "source": [
        "Оператор мобильной связи «Мегалайн» выяснил: многие клиенты пользуются архивными тарифами. Они хотят построить систему, способную проанализировать поведение клиентов и предложить пользователям новый тариф: «Смарт» или «Ультра».\n",
        "\n",
        "В вашем распоряжении данные о поведении клиентов, которые уже перешли на эти тарифы (из проекта курса «Статистический анализ данных»). Нужно построить модель для задачи классификации, которая выберет подходящий тариф. Предобработка данных не понадобится — вы её уже сделали.\n",
        "\n",
        "Постройте модель с максимально большим значением *accuracy*. Чтобы сдать проект успешно, нужно довести долю правильных ответов по крайней мере до 0.75. Проверьте *accuracy* на тестовой выборке самостоятельно.\n",
        "\n",
        "**Описание данных**\n",
        "\n",
        "Каждый объект в наборе данных — это информация о поведении одного пользователя за месяц. Известно:\n",
        "* сalls — количество звонков,\n",
        "* minutes — суммарная длительность звонков в минутах,\n",
        "* messages — количество sms-сообщений,\n",
        "* mb_used — израсходованный интернет-трафик в Мб,\n",
        "* is_ultra — каким тарифом пользовался в течение месяца («Ультра» — 1, «Смарт» — 0)."
      ]
    },
    {
      "cell_type": "markdown",
      "metadata": {
        "id": "b7jDXFOtQNho"
      },
      "source": [
        "## Подключение библиотек, загрузка данных"
      ]
    },
    {
      "cell_type": "code",
      "execution_count": null,
      "metadata": {
        "id": "siYyDjZbQNhp"
      },
      "outputs": [],
      "source": [
        "import pandas as pd\n",
        "import numpy as np\n",
        "\n",
        "from sklearn.model_selection import train_test_split\n",
        "from sklearn.metrics import accuracy_score\n",
        "from sklearn.metrics import confusion_matrix,accuracy_score, classification_report\n",
        "\n",
        "from sklearn.ensemble import RandomForestClassifier\n",
        "from sklearn.linear_model import LogisticRegression\n",
        "from sklearn.neighbors import KNeighborsClassifier\n",
        "from sklearn.naive_bayes import GaussianNB"
      ]
    },
    {
      "cell_type": "code",
      "execution_count": null,
      "metadata": {
        "id": "_Uuw1pCbQNht",
        "outputId": "fa883520-188a-4310-d183-bd320dce6b94"
      },
      "outputs": [
        {
          "data": {
            "text/html": [
              "<div>\n",
              "<style scoped>\n",
              "    .dataframe tbody tr th:only-of-type {\n",
              "        vertical-align: middle;\n",
              "    }\n",
              "\n",
              "    .dataframe tbody tr th {\n",
              "        vertical-align: top;\n",
              "    }\n",
              "\n",
              "    .dataframe thead th {\n",
              "        text-align: right;\n",
              "    }\n",
              "</style>\n",
              "<table border=\"1\" class=\"dataframe\">\n",
              "  <thead>\n",
              "    <tr style=\"text-align: right;\">\n",
              "      <th></th>\n",
              "      <th>calls</th>\n",
              "      <th>minutes</th>\n",
              "      <th>messages</th>\n",
              "      <th>mb_used</th>\n",
              "      <th>is_ultra</th>\n",
              "    </tr>\n",
              "  </thead>\n",
              "  <tbody>\n",
              "    <tr>\n",
              "      <th>0</th>\n",
              "      <td>40.0</td>\n",
              "      <td>311.90</td>\n",
              "      <td>83.0</td>\n",
              "      <td>19915.42</td>\n",
              "      <td>0</td>\n",
              "    </tr>\n",
              "    <tr>\n",
              "      <th>1</th>\n",
              "      <td>85.0</td>\n",
              "      <td>516.75</td>\n",
              "      <td>56.0</td>\n",
              "      <td>22696.96</td>\n",
              "      <td>0</td>\n",
              "    </tr>\n",
              "    <tr>\n",
              "      <th>2</th>\n",
              "      <td>77.0</td>\n",
              "      <td>467.66</td>\n",
              "      <td>86.0</td>\n",
              "      <td>21060.45</td>\n",
              "      <td>0</td>\n",
              "    </tr>\n",
              "    <tr>\n",
              "      <th>3</th>\n",
              "      <td>106.0</td>\n",
              "      <td>745.53</td>\n",
              "      <td>81.0</td>\n",
              "      <td>8437.39</td>\n",
              "      <td>1</td>\n",
              "    </tr>\n",
              "    <tr>\n",
              "      <th>4</th>\n",
              "      <td>66.0</td>\n",
              "      <td>418.74</td>\n",
              "      <td>1.0</td>\n",
              "      <td>14502.75</td>\n",
              "      <td>0</td>\n",
              "    </tr>\n",
              "    <tr>\n",
              "      <th>5</th>\n",
              "      <td>58.0</td>\n",
              "      <td>344.56</td>\n",
              "      <td>21.0</td>\n",
              "      <td>15823.37</td>\n",
              "      <td>0</td>\n",
              "    </tr>\n",
              "    <tr>\n",
              "      <th>6</th>\n",
              "      <td>57.0</td>\n",
              "      <td>431.64</td>\n",
              "      <td>20.0</td>\n",
              "      <td>3738.90</td>\n",
              "      <td>1</td>\n",
              "    </tr>\n",
              "    <tr>\n",
              "      <th>7</th>\n",
              "      <td>15.0</td>\n",
              "      <td>132.40</td>\n",
              "      <td>6.0</td>\n",
              "      <td>21911.60</td>\n",
              "      <td>0</td>\n",
              "    </tr>\n",
              "    <tr>\n",
              "      <th>8</th>\n",
              "      <td>7.0</td>\n",
              "      <td>43.39</td>\n",
              "      <td>3.0</td>\n",
              "      <td>2538.67</td>\n",
              "      <td>1</td>\n",
              "    </tr>\n",
              "    <tr>\n",
              "      <th>9</th>\n",
              "      <td>90.0</td>\n",
              "      <td>665.41</td>\n",
              "      <td>38.0</td>\n",
              "      <td>17358.61</td>\n",
              "      <td>0</td>\n",
              "    </tr>\n",
              "  </tbody>\n",
              "</table>\n",
              "</div>"
            ],
            "text/plain": [
              "   calls  minutes  messages   mb_used  is_ultra\n",
              "0   40.0   311.90      83.0  19915.42         0\n",
              "1   85.0   516.75      56.0  22696.96         0\n",
              "2   77.0   467.66      86.0  21060.45         0\n",
              "3  106.0   745.53      81.0   8437.39         1\n",
              "4   66.0   418.74       1.0  14502.75         0\n",
              "5   58.0   344.56      21.0  15823.37         0\n",
              "6   57.0   431.64      20.0   3738.90         1\n",
              "7   15.0   132.40       6.0  21911.60         0\n",
              "8    7.0    43.39       3.0   2538.67         1\n",
              "9   90.0   665.41      38.0  17358.61         0"
            ]
          },
          "execution_count": 3,
          "metadata": {},
          "output_type": "execute_result"
        }
      ],
      "source": [
        "data = pd.read_csv('/datasets/users_behavior.csv')\n",
        "data.head(10)"
      ]
    },
    {
      "cell_type": "code",
      "execution_count": null,
      "metadata": {
        "id": "bCn56fkNQNhv",
        "outputId": "6758db33-e751-46bd-d460-591b0eb8b778"
      },
      "outputs": [
        {
          "name": "stdout",
          "output_type": "stream",
          "text": [
            "<class 'pandas.core.frame.DataFrame'>\n",
            "RangeIndex: 3214 entries, 0 to 3213\n",
            "Data columns (total 5 columns):\n",
            " #   Column    Non-Null Count  Dtype  \n",
            "---  ------    --------------  -----  \n",
            " 0   calls     3214 non-null   float64\n",
            " 1   minutes   3214 non-null   float64\n",
            " 2   messages  3214 non-null   float64\n",
            " 3   mb_used   3214 non-null   float64\n",
            " 4   is_ultra  3214 non-null   int64  \n",
            "dtypes: float64(4), int64(1)\n",
            "memory usage: 125.7 KB\n"
          ]
        }
      ],
      "source": [
        "data.info()"
      ]
    },
    {
      "cell_type": "code",
      "execution_count": null,
      "metadata": {
        "id": "wu4Js7IlQNhv"
      },
      "outputs": [],
      "source": [
        "data['calls'] = data['calls'].astype(int)\n",
        "data['messages'] = data['messages'].astype(int)"
      ]
    },
    {
      "cell_type": "markdown",
      "metadata": {
        "id": "GhWqLwxTQNhw"
      },
      "source": [
        "Количество данных достаточное для анализа, пропусков нет."
      ]
    },
    {
      "cell_type": "code",
      "execution_count": null,
      "metadata": {
        "id": "TLM3qzfJQNhx",
        "outputId": "708bd738-c58d-4c94-8565-3966786592dc"
      },
      "outputs": [
        {
          "data": {
            "text/html": [
              "<div>\n",
              "<style scoped>\n",
              "    .dataframe tbody tr th:only-of-type {\n",
              "        vertical-align: middle;\n",
              "    }\n",
              "\n",
              "    .dataframe tbody tr th {\n",
              "        vertical-align: top;\n",
              "    }\n",
              "\n",
              "    .dataframe thead th {\n",
              "        text-align: right;\n",
              "    }\n",
              "</style>\n",
              "<table border=\"1\" class=\"dataframe\">\n",
              "  <thead>\n",
              "    <tr style=\"text-align: right;\">\n",
              "      <th>is_ultra</th>\n",
              "      <th>0</th>\n",
              "      <th>1</th>\n",
              "    </tr>\n",
              "  </thead>\n",
              "  <tbody>\n",
              "    <tr>\n",
              "      <th>calls</th>\n",
              "      <td>2229</td>\n",
              "      <td>985</td>\n",
              "    </tr>\n",
              "    <tr>\n",
              "      <th>mb_used</th>\n",
              "      <td>2229</td>\n",
              "      <td>985</td>\n",
              "    </tr>\n",
              "    <tr>\n",
              "      <th>messages</th>\n",
              "      <td>2229</td>\n",
              "      <td>985</td>\n",
              "    </tr>\n",
              "    <tr>\n",
              "      <th>minutes</th>\n",
              "      <td>2229</td>\n",
              "      <td>985</td>\n",
              "    </tr>\n",
              "  </tbody>\n",
              "</table>\n",
              "</div>"
            ],
            "text/plain": [
              "is_ultra     0    1\n",
              "calls     2229  985\n",
              "mb_used   2229  985\n",
              "messages  2229  985\n",
              "minutes   2229  985"
            ]
          },
          "execution_count": 47,
          "metadata": {},
          "output_type": "execute_result"
        }
      ],
      "source": [
        "pd.pivot_table(data, columns='is_ultra', aggfunc='count')"
      ]
    },
    {
      "cell_type": "markdown",
      "metadata": {
        "id": "nL3oPBtrQNhx"
      },
      "source": [
        "В датасете преобладают данные для тарифа «Смарт»."
      ]
    },
    {
      "cell_type": "markdown",
      "metadata": {
        "id": "Qw2woOt_QNhz"
      },
      "source": [
        "## Разбиение данных на выборки"
      ]
    },
    {
      "cell_type": "code",
      "execution_count": null,
      "metadata": {
        "id": "qj-v4bW-QNhz"
      },
      "outputs": [],
      "source": [
        "features = data.drop(columns='is_ultra')\n",
        "target = data['is_ultra']\n",
        "\n",
        "features_train, features_temp, target_train, target_temp = train_test_split(\n",
        "    features, \n",
        "    target, \n",
        "    test_size=0.4, \n",
        "    train_size=0.6)\n",
        "\n",
        "features_valid, features_test, target_valid, target_test = train_test_split(\n",
        "    features_temp, \n",
        "    target_temp, \n",
        "    test_size = 0.5, \n",
        "    train_size =0.5)"
      ]
    },
    {
      "cell_type": "markdown",
      "metadata": {
        "id": "2ms1mDdvQNh1"
      },
      "source": [
        "## Исследование моделей"
      ]
    },
    {
      "cell_type": "code",
      "execution_count": null,
      "metadata": {
        "id": "ui0huJ-2QNh2",
        "outputId": "f4fa7133-dd17-4e5c-d0cc-48df0e913c84"
      },
      "outputs": [
        {
          "name": "stdout",
          "output_type": "stream",
          "text": [
            "model: RandomForestClassifier()\n",
            "accuracy train: 1.0\n",
            "accuracy valid: 0.80248833592535\n",
            "------------------------------------------------------------ \n",
            "\n",
            "model: KNeighborsClassifier()\n",
            "accuracy train: 0.8205394190871369\n",
            "accuracy valid: 0.7387247278382582\n",
            "------------------------------------------------------------ \n",
            "\n",
            "model: LogisticRegression()\n",
            "accuracy train: 0.7614107883817427\n",
            "accuracy valid: 0.7076205287713841\n",
            "------------------------------------------------------------ \n",
            "\n",
            "model: GaussianNB()\n",
            "accuracy train: 0.7940871369294605\n",
            "accuracy valid: 0.7682737169517885\n",
            "------------------------------------------------------------ \n",
            "\n"
          ]
        },
        {
          "name": "stderr",
          "output_type": "stream",
          "text": [
            "/opt/conda/lib/python3.9/site-packages/sklearn/neighbors/_classification.py:211: FutureWarning: Unlike other reduction functions (e.g. `skew`, `kurtosis`), the default behavior of `mode` typically preserves the axis it acts along. In SciPy 1.11.0, this behavior will change: the default value of `keepdims` will become False, the `axis` over which the statistic is taken will be eliminated, and the value None will no longer be accepted. Set `keepdims` to True or False to avoid this warning.\n",
            "  mode, _ = stats.mode(_y[neigh_ind, k], axis=1)\n",
            "/opt/conda/lib/python3.9/site-packages/sklearn/neighbors/_classification.py:211: FutureWarning: Unlike other reduction functions (e.g. `skew`, `kurtosis`), the default behavior of `mode` typically preserves the axis it acts along. In SciPy 1.11.0, this behavior will change: the default value of `keepdims` will become False, the `axis` over which the statistic is taken will be eliminated, and the value None will no longer be accepted. Set `keepdims` to True or False to avoid this warning.\n",
            "  mode, _ = stats.mode(_y[neigh_ind, k], axis=1)\n"
          ]
        }
      ],
      "source": [
        "models = [RandomForestClassifier(), KNeighborsClassifier(), LogisticRegression(), GaussianNB()]\n",
        "\n",
        "for m in models:\n",
        "    m.fit(features_train, target_train)\n",
        "    y_pred_valid = m.predict(features_valid)\n",
        "    y_pred_train = m.predict(features_train)\n",
        "\n",
        "    print(f'model: {str(m)}')\n",
        "    print(f'accuracy train: {accuracy_score(target_train,y_pred_train)}')\n",
        "    print(f'accuracy valid: {accuracy_score(target_valid,y_pred_valid)}')\n",
        "    print('-'*60, '\\n')"
      ]
    },
    {
      "cell_type": "markdown",
      "metadata": {
        "id": "kqW6rtI0QNh2"
      },
      "source": [
        "Лучший результат показывает Случайный лес."
      ]
    },
    {
      "cell_type": "code",
      "execution_count": null,
      "metadata": {
        "id": "uWBv_R0TQNh3",
        "outputId": "13fa6811-9857-45f0-a7c9-6e52dd34b040"
      },
      "outputs": [
        {
          "name": "stdout",
          "output_type": "stream",
          "text": [
            "RMSE наилучшей модели на валидационной выборке: 0.8180404354587869 \n",
            " Количество деревьев: 70 \n",
            " Максимальная глубина: 19\n"
          ]
        }
      ],
      "source": [
        "best_model = None\n",
        "best_result = 0.8\n",
        "best_est = 0\n",
        "best_depth = 0\n",
        "for est in range(10, 300, 10):\n",
        "    for depth in range (1, 20):\n",
        "        model = RandomForestClassifier(n_estimators=est, max_depth=depth, random_state=12345)\n",
        "        model.fit(features_train,target_train)\n",
        "        predictions_valid = model.predict(features_valid)\n",
        "        result = accuracy_score(target_valid,predictions_valid)\n",
        "        if result > best_result:\n",
        "            best_model = model\n",
        "            best_result = result\n",
        "            best_est = est\n",
        "            best_depth = depth\n",
        "\n",
        "print(\"RMSE наилучшей модели на валидационной выборке:\", best_result, '\\n',\n",
        "      \"Количество деревьев:\", best_est,'\\n', \n",
        "      \"Максимальная глубина:\", depth)"
      ]
    },
    {
      "cell_type": "code",
      "execution_count": null,
      "metadata": {
        "id": "h3nzyu_3QNh3",
        "outputId": "9e154905-6f86-4f0b-8790-0c6e12a6ec23"
      },
      "outputs": [
        {
          "data": {
            "text/plain": [
              "<AxesSubplot:ylabel='importance'>"
            ]
          },
          "execution_count": 80,
          "metadata": {},
          "output_type": "execute_result"
        },
        {
          "data": {
            "image/png": "[encoded data removed]",
            "text/plain": [
              "<Figure size 576x576 with 1 Axes>"
            ]
          },
          "metadata": {},
          "output_type": "display_data"
        }
      ],
      "source": [
        "feature_importance = pd.DataFrame({'feature': list(features_train.columns),\n",
        "                   'importance': model.feature_importances_}).\\\n",
        "                    sort_values('importance', ascending = False)\n",
        "feature_importance=feature_importance.set_index(feature_importance['feature'])\n",
        "feature_importance.plot.pie(y='importance', autopct='%1.0f%%', figsize=(8, 8))"
      ]
    },
    {
      "cell_type": "markdown",
      "metadata": {
        "id": "jsFSb0MnQNh4"
      },
      "source": [
        "Наиболе значимым параметром, влияющим на выбоор тарифа, является израсходованный интернет-трафик."
      ]
    },
    {
      "cell_type": "markdown",
      "metadata": {
        "id": "QlvdHlb4QNh4"
      },
      "source": [
        "## Проверка модели на тестовой выборке"
      ]
    },
    {
      "cell_type": "code",
      "execution_count": null,
      "metadata": {
        "id": "IUD7WylcQNh5",
        "outputId": "eff9ff7d-9826-4dc4-e32c-b01b30c82e28"
      },
      "outputs": [
        {
          "name": "stdout",
          "output_type": "stream",
          "text": [
            "0.7978227060653188\n"
          ]
        }
      ],
      "source": [
        "predictions_test = best_model.predict(features_test)\n",
        "print(accuracy_score(target_test,predictions_test))\n"
      ]
    },
    {
      "cell_type": "markdown",
      "metadata": {
        "id": "W_VmNp45QNh5"
      },
      "source": [
        "## (бонус) Проверьте модели на адекватность"
      ]
    },
    {
      "cell_type": "code",
      "execution_count": null,
      "metadata": {
        "id": "xOxXGbucQNh6",
        "outputId": "f48e932d-0659-4ac9-a468-e9a819854a0f"
      },
      "outputs": [
        {
          "name": "stdout",
          "output_type": "stream",
          "text": [
            "0.5\n"
          ]
        }
      ],
      "source": [
        "is_ultra_0 = (2229/3214)*0.5\n",
        "is_ultra_1 = (985/3214)*0.5\n",
        "print(is_ultra_0+is_ultra_1)"
      ]
    },
    {
      "cell_type": "markdown",
      "source": [
        "## Вывод"
      ],
      "metadata": {
        "id": "nxJdof1yRRcN"
      }
    },
    {
      "cell_type": "markdown",
      "source": [
        "При выборе тарифа наиболее важным фактором оказался интернет-трафик, израсходованный абонентом. \n",
        "\n",
        "С помощью построенной модели можно с высокой долей успешности рекомендовать абоненту перейти на наиболее интересный для него тариф."
      ],
      "metadata": {
        "id": "lomw6D95RUyj"
      }
    }
  ],
  "metadata": {
    "ExecuteTimeLog": [
      {
        "duration": 424,
        "start_time": "2022-09-30T07:22:19.278Z"
      },
      {
        "duration": 82,
        "start_time": "2022-09-30T07:22:19.805Z"
      },
      {
        "duration": 11,
        "start_time": "2022-09-30T07:22:45.876Z"
      },
      {
        "duration": 699,
        "start_time": "2022-09-30T07:38:49.231Z"
      },
      {
        "duration": 7,
        "start_time": "2022-09-30T07:39:37.311Z"
      },
      {
        "duration": 103,
        "start_time": "2022-09-30T08:34:08.705Z"
      },
      {
        "duration": 3,
        "start_time": "2022-09-30T08:34:33.213Z"
      },
      {
        "duration": 10,
        "start_time": "2022-09-30T08:34:36.417Z"
      },
      {
        "duration": 9,
        "start_time": "2022-09-30T08:34:48.025Z"
      },
      {
        "duration": 4,
        "start_time": "2022-09-30T08:35:01.025Z"
      },
      {
        "duration": 10,
        "start_time": "2022-09-30T08:35:03.913Z"
      },
      {
        "duration": 189,
        "start_time": "2022-09-30T08:36:21.501Z"
      },
      {
        "duration": 500,
        "start_time": "2022-09-30T08:36:24.541Z"
      },
      {
        "duration": 3,
        "start_time": "2022-09-30T08:36:43.766Z"
      },
      {
        "duration": 4610,
        "start_time": "2022-09-30T08:36:46.298Z"
      },
      {
        "duration": 1301,
        "start_time": "2022-10-03T10:26:03.966Z"
      },
      {
        "duration": 79,
        "start_time": "2022-10-03T10:26:07.445Z"
      },
      {
        "duration": 12,
        "start_time": "2022-10-03T10:26:09.092Z"
      },
      {
        "duration": 4,
        "start_time": "2022-10-03T10:27:57.637Z"
      },
      {
        "duration": 11,
        "start_time": "2022-10-03T10:28:00.972Z"
      },
      {
        "duration": 5,
        "start_time": "2022-10-03T10:28:40.093Z"
      },
      {
        "duration": 12,
        "start_time": "2022-10-03T10:28:41.172Z"
      },
      {
        "duration": 7,
        "start_time": "2022-10-03T10:28:55.916Z"
      },
      {
        "duration": 70520,
        "start_time": "2022-10-03T10:31:06.924Z"
      },
      {
        "duration": 0,
        "start_time": "2022-10-03T10:32:17.446Z"
      },
      {
        "duration": 21523,
        "start_time": "2022-10-03T10:32:19.011Z"
      },
      {
        "duration": 36,
        "start_time": "2022-10-03T10:32:44.549Z"
      },
      {
        "duration": 4104,
        "start_time": "2022-10-03T10:32:51.293Z"
      },
      {
        "duration": 638,
        "start_time": "2022-10-03T10:33:19.563Z"
      },
      {
        "duration": 7,
        "start_time": "2022-10-03T10:33:42.524Z"
      },
      {
        "duration": 676,
        "start_time": "2022-10-03T10:33:47.619Z"
      },
      {
        "duration": 10,
        "start_time": "2022-10-03T10:33:56.380Z"
      },
      {
        "duration": 667,
        "start_time": "2022-10-03T10:37:53.134Z"
      },
      {
        "duration": 469,
        "start_time": "2022-10-03T10:38:37.612Z"
      },
      {
        "duration": 3,
        "start_time": "2022-10-03T10:38:57.947Z"
      },
      {
        "duration": 481,
        "start_time": "2022-10-03T10:39:01.467Z"
      },
      {
        "duration": 829,
        "start_time": "2022-10-03T10:39:13.075Z"
      },
      {
        "duration": 646,
        "start_time": "2022-10-03T10:39:38.252Z"
      },
      {
        "duration": 4524,
        "start_time": "2022-10-03T10:44:03.531Z"
      },
      {
        "duration": 4304,
        "start_time": "2022-10-03T10:44:39.180Z"
      },
      {
        "duration": 16240,
        "start_time": "2022-10-03T10:45:25.484Z"
      },
      {
        "duration": 12978,
        "start_time": "2022-10-03T10:47:29.419Z"
      },
      {
        "duration": 610,
        "start_time": "2022-10-03T10:52:03.494Z"
      },
      {
        "duration": 616,
        "start_time": "2022-10-03T10:52:23.286Z"
      },
      {
        "duration": 12033,
        "start_time": "2022-10-03T10:52:36.522Z"
      },
      {
        "duration": 3204,
        "start_time": "2022-10-03T10:53:14.387Z"
      },
      {
        "duration": 10064,
        "start_time": "2022-10-03T10:53:51.114Z"
      },
      {
        "duration": 18772,
        "start_time": "2022-10-03T10:54:10.986Z"
      },
      {
        "duration": 18069,
        "start_time": "2022-10-03T10:54:49.570Z"
      },
      {
        "duration": 4003,
        "start_time": "2022-10-03T10:55:46.131Z"
      },
      {
        "duration": 10064,
        "start_time": "2022-10-03T10:56:15.395Z"
      },
      {
        "duration": 20567,
        "start_time": "2022-10-03T10:56:36.786Z"
      },
      {
        "duration": 30810,
        "start_time": "2022-10-03T10:57:05.314Z"
      },
      {
        "duration": 70289,
        "start_time": "2022-10-03T11:04:13.411Z"
      },
      {
        "duration": 186217,
        "start_time": "2022-10-03T11:46:35.178Z"
      },
      {
        "duration": 12,
        "start_time": "2022-10-03T11:52:15.881Z"
      },
      {
        "duration": 431,
        "start_time": "2022-10-03T11:55:03.425Z"
      },
      {
        "duration": 4,
        "start_time": "2022-10-03T11:56:37.521Z"
      },
      {
        "duration": 665,
        "start_time": "2022-10-03T11:56:51.432Z"
      },
      {
        "duration": 646,
        "start_time": "2022-10-03T12:04:12.056Z"
      },
      {
        "duration": 811,
        "start_time": "2022-10-03T12:18:36.784Z"
      },
      {
        "duration": 615,
        "start_time": "2022-10-03T12:18:58.487Z"
      },
      {
        "duration": 12,
        "start_time": "2022-10-03T12:20:54.249Z"
      },
      {
        "duration": 4,
        "start_time": "2022-10-03T13:16:06.279Z"
      },
      {
        "duration": 628,
        "start_time": "2022-10-03T13:16:09.881Z"
      },
      {
        "duration": 480,
        "start_time": "2022-10-03T13:19:35.698Z"
      },
      {
        "duration": 770,
        "start_time": "2022-10-03T13:19:50.731Z"
      },
      {
        "duration": 901,
        "start_time": "2022-10-03T13:21:04.995Z"
      },
      {
        "duration": 850,
        "start_time": "2022-10-03T13:21:32.546Z"
      },
      {
        "duration": 7,
        "start_time": "2022-10-03T13:21:50.810Z"
      },
      {
        "duration": 562,
        "start_time": "2022-10-03T13:21:53.354Z"
      },
      {
        "duration": 6,
        "start_time": "2022-10-03T13:22:03.106Z"
      },
      {
        "duration": 833,
        "start_time": "2022-10-03T13:22:04.866Z"
      },
      {
        "duration": 10,
        "start_time": "2022-10-03T13:22:24.435Z"
      },
      {
        "duration": 9,
        "start_time": "2022-10-03T13:23:23.400Z"
      },
      {
        "duration": 9,
        "start_time": "2022-10-03T13:23:30.170Z"
      },
      {
        "duration": 9,
        "start_time": "2022-10-03T13:23:35.154Z"
      },
      {
        "duration": 11,
        "start_time": "2022-10-03T13:23:44.027Z"
      },
      {
        "duration": 12,
        "start_time": "2022-10-03T13:23:48.699Z"
      },
      {
        "duration": 10,
        "start_time": "2022-10-03T13:23:54.714Z"
      },
      {
        "duration": 48,
        "start_time": "2022-10-03T16:38:47.029Z"
      },
      {
        "duration": 1027,
        "start_time": "2022-10-03T16:39:18.904Z"
      },
      {
        "duration": 128,
        "start_time": "2022-10-03T16:39:20.452Z"
      },
      {
        "duration": 10,
        "start_time": "2022-10-03T16:39:21.535Z"
      },
      {
        "duration": 5,
        "start_time": "2022-10-03T16:39:23.902Z"
      },
      {
        "duration": 5,
        "start_time": "2022-10-03T16:39:25.640Z"
      },
      {
        "duration": 8,
        "start_time": "2022-10-03T16:50:18.856Z"
      },
      {
        "duration": 12,
        "start_time": "2022-10-03T16:50:27.553Z"
      },
      {
        "duration": 580,
        "start_time": "2022-10-03T16:51:46.919Z"
      },
      {
        "duration": 81,
        "start_time": "2022-10-03T16:56:32.322Z"
      },
      {
        "duration": 3464,
        "start_time": "2022-10-03T16:56:59.869Z"
      },
      {
        "duration": 52212,
        "start_time": "2022-10-03T16:57:18.952Z"
      },
      {
        "duration": 52477,
        "start_time": "2022-10-03T16:58:24.312Z"
      },
      {
        "duration": 310589,
        "start_time": "2022-10-03T17:01:15.686Z"
      },
      {
        "duration": 341,
        "start_time": "2022-10-03T17:09:12.815Z"
      },
      {
        "duration": 876,
        "start_time": "2022-10-03T17:09:58.867Z"
      },
      {
        "duration": 1844,
        "start_time": "2022-10-03T17:10:08.776Z"
      },
      {
        "duration": 415,
        "start_time": "2022-10-03T17:10:17.281Z"
      },
      {
        "duration": 204,
        "start_time": "2022-10-03T17:10:27.440Z"
      },
      {
        "duration": 96,
        "start_time": "2022-10-03T17:10:34.291Z"
      },
      {
        "duration": 80,
        "start_time": "2022-10-03T17:10:59.199Z"
      },
      {
        "duration": 731,
        "start_time": "2022-10-03T17:11:03.908Z"
      },
      {
        "duration": 1793,
        "start_time": "2022-10-03T17:11:13.378Z"
      },
      {
        "duration": 3681,
        "start_time": "2022-10-03T17:11:24.104Z"
      },
      {
        "duration": 37621,
        "start_time": "2022-10-03T17:11:32.768Z"
      },
      {
        "duration": 199,
        "start_time": "2022-10-03T17:12:33.597Z"
      },
      {
        "duration": 560,
        "start_time": "2022-10-03T17:12:41.763Z"
      },
      {
        "duration": 652,
        "start_time": "2022-10-03T17:12:47.633Z"
      },
      {
        "duration": 711,
        "start_time": "2022-10-03T17:13:05.517Z"
      },
      {
        "duration": 646,
        "start_time": "2022-10-03T17:13:12.131Z"
      },
      {
        "duration": 806,
        "start_time": "2022-10-03T17:13:19.040Z"
      },
      {
        "duration": 649,
        "start_time": "2022-10-03T17:13:24.624Z"
      },
      {
        "duration": 15,
        "start_time": "2022-10-03T17:14:28.009Z"
      },
      {
        "duration": 317009,
        "start_time": "2022-10-03T17:14:41.834Z"
      },
      {
        "duration": 239808,
        "start_time": "2022-10-03T17:20:47.544Z"
      },
      {
        "duration": 13,
        "start_time": "2022-10-03T17:27:21.434Z"
      },
      {
        "duration": 13,
        "start_time": "2022-10-03T17:27:31.462Z"
      },
      {
        "duration": 9,
        "start_time": "2022-10-03T17:28:03.571Z"
      },
      {
        "duration": 7,
        "start_time": "2022-10-03T17:28:22.742Z"
      },
      {
        "duration": 13,
        "start_time": "2022-10-03T17:28:31.760Z"
      },
      {
        "duration": 20,
        "start_time": "2022-10-03T17:28:57.218Z"
      },
      {
        "duration": 8,
        "start_time": "2022-10-03T17:30:43.176Z"
      },
      {
        "duration": 11,
        "start_time": "2022-10-03T17:30:51.828Z"
      },
      {
        "duration": 16,
        "start_time": "2022-10-03T17:32:59.200Z"
      },
      {
        "duration": 13,
        "start_time": "2022-10-03T17:33:17.096Z"
      },
      {
        "duration": 12,
        "start_time": "2022-10-03T17:34:00.450Z"
      },
      {
        "duration": 11,
        "start_time": "2022-10-03T17:34:06.120Z"
      },
      {
        "duration": 8,
        "start_time": "2022-10-03T17:36:01.835Z"
      },
      {
        "duration": 478,
        "start_time": "2022-10-03T17:36:05.841Z"
      },
      {
        "duration": 29,
        "start_time": "2022-10-03T17:37:18.384Z"
      },
      {
        "duration": 30,
        "start_time": "2022-10-03T17:37:43.759Z"
      },
      {
        "duration": 25,
        "start_time": "2022-10-03T17:38:11.960Z"
      },
      {
        "duration": 635,
        "start_time": "2022-10-03T17:38:38.451Z"
      },
      {
        "duration": 40,
        "start_time": "2022-10-03T17:38:54.154Z"
      },
      {
        "duration": 35,
        "start_time": "2022-10-03T17:39:32.055Z"
      },
      {
        "duration": 153,
        "start_time": "2022-10-03T17:42:54.815Z"
      },
      {
        "duration": 129,
        "start_time": "2022-10-03T17:43:17.828Z"
      },
      {
        "duration": 132,
        "start_time": "2022-10-03T17:43:26.397Z"
      },
      {
        "duration": 137,
        "start_time": "2022-10-03T17:45:20.039Z"
      },
      {
        "duration": 112,
        "start_time": "2022-10-03T17:45:59.339Z"
      },
      {
        "duration": 235,
        "start_time": "2022-10-03T17:46:21.078Z"
      },
      {
        "duration": 31,
        "start_time": "2022-10-03T17:46:40.257Z"
      },
      {
        "duration": 37,
        "start_time": "2022-10-03T17:46:53.060Z"
      },
      {
        "duration": 159,
        "start_time": "2022-10-03T17:47:45.994Z"
      },
      {
        "duration": 30,
        "start_time": "2022-10-03T17:48:55.316Z"
      },
      {
        "duration": 30,
        "start_time": "2022-10-03T17:48:59.679Z"
      },
      {
        "duration": 163,
        "start_time": "2022-10-03T17:50:24.043Z"
      },
      {
        "duration": 33,
        "start_time": "2022-10-03T17:51:30.613Z"
      },
      {
        "duration": 158,
        "start_time": "2022-10-03T17:53:46.657Z"
      },
      {
        "duration": 230,
        "start_time": "2022-10-03T17:53:59.384Z"
      },
      {
        "duration": 160,
        "start_time": "2022-10-03T17:54:09.212Z"
      },
      {
        "duration": 32,
        "start_time": "2022-10-03T17:54:23.784Z"
      },
      {
        "duration": 33,
        "start_time": "2022-10-03T17:56:48.518Z"
      },
      {
        "duration": 192,
        "start_time": "2022-10-03T17:56:53.600Z"
      },
      {
        "duration": 225,
        "start_time": "2022-10-03T17:56:57.386Z"
      },
      {
        "duration": 29,
        "start_time": "2022-10-03T17:57:02.112Z"
      },
      {
        "duration": 179,
        "start_time": "2022-10-03T17:57:24.860Z"
      },
      {
        "duration": 187,
        "start_time": "2022-10-03T17:57:42.084Z"
      },
      {
        "duration": 97308,
        "start_time": "2022-10-03T18:00:10.732Z"
      },
      {
        "duration": 257,
        "start_time": "2022-10-03T18:01:48.043Z"
      },
      {
        "duration": 226630,
        "start_time": "2022-10-03T18:02:02.810Z"
      },
      {
        "duration": 20,
        "start_time": "2022-10-03T18:06:15.751Z"
      },
      {
        "duration": 19,
        "start_time": "2022-10-03T18:07:56.943Z"
      },
      {
        "duration": 3,
        "start_time": "2022-10-03T18:15:38.196Z"
      }
    ],
    "kernelspec": {
      "display_name": "Python 3 (ipykernel)",
      "language": "python",
      "name": "python3"
    },
    "language_info": {
      "codemirror_mode": {
        "name": "ipython",
        "version": 3
      },
      "file_extension": ".py",
      "mimetype": "text/x-python",
      "name": "python",
      "nbconvert_exporter": "python",
      "pygments_lexer": "ipython3",
      "version": "3.9.5"
    },
    "toc": {
      "base_numbering": 1,
      "nav_menu": {},
      "number_sections": true,
      "sideBar": true,
      "skip_h1_title": true,
      "title_cell": "Table of Contents",
      "title_sidebar": "Contents",
      "toc_cell": false,
      "toc_position": {},
      "toc_section_display": true,
      "toc_window_display": false
    },
    "colab": {
      "provenance": []
    }
  },
  "nbformat": 4,
  "nbformat_minor": 0
}