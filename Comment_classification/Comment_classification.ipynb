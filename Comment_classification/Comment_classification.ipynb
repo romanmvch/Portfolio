{
  "cells": [
    {
      "cell_type": "markdown",
      "metadata": {
        "id": "xo1K5QYXSg19"
      },
      "source": [
        "# Проект для «Викишоп»"
      ]
    },
    {
      "cell_type": "markdown",
      "metadata": {
        "id": "QwEhehgUSg1-"
      },
      "source": [
        "Интернет-магазин «Викишоп» запускает новый сервис. Теперь пользователи могут редактировать и дополнять описания товаров, как в вики-сообществах. То есть клиенты предлагают свои правки и комментируют изменения других. Магазину нужен инструмент, который будет искать токсичные комментарии и отправлять их на модерацию. \n",
        "\n",
        "Обучите модель классифицировать комментарии на позитивные и негативные. В вашем распоряжении набор данных с разметкой о токсичности правок.\n",
        "\n",
        "**Задача:**\n",
        "Постройте модель со значением метрики качества *F1* не меньше 0.75. \n",
        "\n",
        "**Инструкция по выполнению проекта**\n",
        "\n",
        "1. Загрузите и подготовьте данные.\n",
        "2. Обучите разные модели. \n",
        "3. Сделайте выводы.\n",
        "\n",
        "Для выполнения проекта применять *BERT* необязательно, но вы можете попробовать.\n",
        "\n",
        "**Описание данных**\n",
        "\n",
        "Данные находятся в файле `toxic_comments.csv`. Столбец *text* в нём содержит текст комментария, а *toxic* — целевой признак."
      ]
    },
    {
      "cell_type": "markdown",
      "metadata": {
        "id": "90GGhltDSg2B"
      },
      "source": [
        "## Подготовка"
      ]
    },
    {
      "cell_type": "code",
      "execution_count": null,
      "metadata": {
        "id": "YHjNo8W0Sg2E"
      },
      "outputs": [],
      "source": [
        "#Загрузка библиотек\n",
        "import pandas as pd\n",
        "import seaborn as sns\n",
        "import matplotlib.pyplot as plt\n",
        "import re\n",
        "import nltk\n",
        "import spacy\n",
        "\n",
        "from pymystem3 import Mystem\n",
        "\n",
        "from sklearn.utils import shuffle, resample\n",
        "\n",
        "\n",
        "from nltk.stem import WordNetLemmatizer\n",
        "\n",
        "from sklearn.model_selection import train_test_split\n",
        "from sklearn.model_selection import cross_val_score\n",
        "from sklearn.model_selection import GridSearchCV\n",
        "\n",
        "from sklearn.metrics import f1_score\n",
        "from sklearn.metrics import recall_score\n",
        "from sklearn.metrics import accuracy_score\n",
        "from sklearn.metrics import roc_auc_score\n",
        "from sklearn.metrics import roc_curve\n",
        "\n",
        "from nltk.corpus import stopwords as nltk_stopwords\n",
        "from sklearn.feature_extraction.text import TfidfVectorizer \n",
        "\n",
        "from sklearn.linear_model import LogisticRegression\n",
        "from sklearn.tree import DecisionTreeClassifier\n",
        "from catboost import CatBoostClassifier\n"
      ]
    },
    {
      "cell_type": "code",
      "execution_count": null,
      "metadata": {
        "id": "NEA9WITmSg2L",
        "outputId": "46c293d1-a6cb-4149-82f9-ed7317abbef7"
      },
      "outputs": [
        {
          "data": {
            "text/html": [
              "<div>\n",
              "<style scoped>\n",
              "    .dataframe tbody tr th:only-of-type {\n",
              "        vertical-align: middle;\n",
              "    }\n",
              "\n",
              "    .dataframe tbody tr th {\n",
              "        vertical-align: top;\n",
              "    }\n",
              "\n",
              "    .dataframe thead th {\n",
              "        text-align: right;\n",
              "    }\n",
              "</style>\n",
              "<table border=\"1\" class=\"dataframe\">\n",
              "  <thead>\n",
              "    <tr style=\"text-align: right;\">\n",
              "      <th></th>\n",
              "      <th>Unnamed: 0</th>\n",
              "      <th>text</th>\n",
              "      <th>toxic</th>\n",
              "    </tr>\n",
              "  </thead>\n",
              "  <tbody>\n",
              "    <tr>\n",
              "      <th>0</th>\n",
              "      <td>0</td>\n",
              "      <td>Explanation\\nWhy the edits made under my usern...</td>\n",
              "      <td>0</td>\n",
              "    </tr>\n",
              "    <tr>\n",
              "      <th>1</th>\n",
              "      <td>1</td>\n",
              "      <td>D'aww! He matches this background colour I'm s...</td>\n",
              "      <td>0</td>\n",
              "    </tr>\n",
              "    <tr>\n",
              "      <th>2</th>\n",
              "      <td>2</td>\n",
              "      <td>Hey man, I'm really not trying to edit war. It...</td>\n",
              "      <td>0</td>\n",
              "    </tr>\n",
              "    <tr>\n",
              "      <th>3</th>\n",
              "      <td>3</td>\n",
              "      <td>\"\\nMore\\nI can't make any real suggestions on ...</td>\n",
              "      <td>0</td>\n",
              "    </tr>\n",
              "    <tr>\n",
              "      <th>4</th>\n",
              "      <td>4</td>\n",
              "      <td>You, sir, are my hero. Any chance you remember...</td>\n",
              "      <td>0</td>\n",
              "    </tr>\n",
              "    <tr>\n",
              "      <th>5</th>\n",
              "      <td>5</td>\n",
              "      <td>\"\\n\\nCongratulations from me as well, use the ...</td>\n",
              "      <td>0</td>\n",
              "    </tr>\n",
              "    <tr>\n",
              "      <th>6</th>\n",
              "      <td>6</td>\n",
              "      <td>COCKSUCKER BEFORE YOU PISS AROUND ON MY WORK</td>\n",
              "      <td>1</td>\n",
              "    </tr>\n",
              "    <tr>\n",
              "      <th>7</th>\n",
              "      <td>7</td>\n",
              "      <td>Your vandalism to the Matt Shirvington article...</td>\n",
              "      <td>0</td>\n",
              "    </tr>\n",
              "    <tr>\n",
              "      <th>8</th>\n",
              "      <td>8</td>\n",
              "      <td>Sorry if the word 'nonsense' was offensive to ...</td>\n",
              "      <td>0</td>\n",
              "    </tr>\n",
              "    <tr>\n",
              "      <th>9</th>\n",
              "      <td>9</td>\n",
              "      <td>alignment on this subject and which are contra...</td>\n",
              "      <td>0</td>\n",
              "    </tr>\n",
              "  </tbody>\n",
              "</table>\n",
              "</div>"
            ],
            "text/plain": [
              "   Unnamed: 0                                               text  toxic\n",
              "0           0  Explanation\\nWhy the edits made under my usern...      0\n",
              "1           1  D'aww! He matches this background colour I'm s...      0\n",
              "2           2  Hey man, I'm really not trying to edit war. It...      0\n",
              "3           3  \"\\nMore\\nI can't make any real suggestions on ...      0\n",
              "4           4  You, sir, are my hero. Any chance you remember...      0\n",
              "5           5  \"\\n\\nCongratulations from me as well, use the ...      0\n",
              "6           6       COCKSUCKER BEFORE YOU PISS AROUND ON MY WORK      1\n",
              "7           7  Your vandalism to the Matt Shirvington article...      0\n",
              "8           8  Sorry if the word 'nonsense' was offensive to ...      0\n",
              "9           9  alignment on this subject and which are contra...      0"
            ]
          },
          "execution_count": 28,
          "metadata": {},
          "output_type": "execute_result"
        }
      ],
      "source": [
        "#Загрузка данных\n",
        "try:\n",
        "    data = pd.read_csv('toxic_comments.csv')\n",
        "except:\n",
        "    try:\n",
        "        data  = pd.read_csv('/datasets/toxic_comments.csv')\n",
        "    except:\n",
        "        print('Ошибка. Проверьте путь к файлу')\n",
        "data.head(10)"
      ]
    },
    {
      "cell_type": "code",
      "execution_count": null,
      "metadata": {
        "id": "fX1KWTG_Sg2P",
        "outputId": "4a17244c-b79b-4067-9df5-117ec6eba0c3"
      },
      "outputs": [
        {
          "name": "stdout",
          "output_type": "stream",
          "text": [
            "<class 'pandas.core.frame.DataFrame'>\n",
            "RangeIndex: 159292 entries, 0 to 159291\n",
            "Data columns (total 3 columns):\n",
            " #   Column      Non-Null Count   Dtype \n",
            "---  ------      --------------   ----- \n",
            " 0   Unnamed: 0  159292 non-null  int64 \n",
            " 1   text        159292 non-null  object\n",
            " 2   toxic       159292 non-null  int64 \n",
            "dtypes: int64(2), object(1)\n",
            "memory usage: 3.6+ MB\n"
          ]
        }
      ],
      "source": [
        "#Основная информация\n",
        "data.info()"
      ]
    },
    {
      "cell_type": "markdown",
      "metadata": {
        "id": "LXZjOK4TSg2R"
      },
      "source": [
        "Количество строк - 159 292, данных достаточно для анализа.\n",
        "\n",
        "Пропуски отсутствуют."
      ]
    },
    {
      "cell_type": "markdown",
      "metadata": {
        "id": "7p1hiUJ6Sg2U"
      },
      "source": [
        "Для построение моделей необходимо лемматизировать содержание столбца 'text' - привести слова к их начальной форме, а также очистить от посторонних знаков."
      ]
    },
    {
      "cell_type": "code",
      "execution_count": null,
      "metadata": {
        "id": "mNwJZvPaSg2X",
        "outputId": "46c7a2e6-f6a7-4d98-b9b5-e789712ba150"
      },
      "outputs": [
        {
          "data": {
            "text/html": [
              "<div>\n",
              "<style scoped>\n",
              "    .dataframe tbody tr th:only-of-type {\n",
              "        vertical-align: middle;\n",
              "    }\n",
              "\n",
              "    .dataframe tbody tr th {\n",
              "        vertical-align: top;\n",
              "    }\n",
              "\n",
              "    .dataframe thead th {\n",
              "        text-align: right;\n",
              "    }\n",
              "</style>\n",
              "<table border=\"1\" class=\"dataframe\">\n",
              "  <thead>\n",
              "    <tr style=\"text-align: right;\">\n",
              "      <th></th>\n",
              "      <th>Unnamed: 0</th>\n",
              "      <th>text</th>\n",
              "      <th>toxic</th>\n",
              "      <th>lemm</th>\n",
              "    </tr>\n",
              "  </thead>\n",
              "  <tbody>\n",
              "    <tr>\n",
              "      <th>0</th>\n",
              "      <td>0</td>\n",
              "      <td>Explanation\\nWhy the edits made under my usern...</td>\n",
              "      <td>0</td>\n",
              "      <td>explanation why the edit make under my usernam...</td>\n",
              "    </tr>\n",
              "    <tr>\n",
              "      <th>1</th>\n",
              "      <td>1</td>\n",
              "      <td>D'aww! He matches this background colour I'm s...</td>\n",
              "      <td>0</td>\n",
              "      <td>d aww he match this background colour I be see...</td>\n",
              "    </tr>\n",
              "    <tr>\n",
              "      <th>2</th>\n",
              "      <td>2</td>\n",
              "      <td>Hey man, I'm really not trying to edit war. It...</td>\n",
              "      <td>0</td>\n",
              "      <td>hey man I be really not try to edit war it be ...</td>\n",
              "    </tr>\n",
              "    <tr>\n",
              "      <th>3</th>\n",
              "      <td>3</td>\n",
              "      <td>\"\\nMore\\nI can't make any real suggestions on ...</td>\n",
              "      <td>0</td>\n",
              "      <td>more I can not make any real suggestion on imp...</td>\n",
              "    </tr>\n",
              "    <tr>\n",
              "      <th>4</th>\n",
              "      <td>4</td>\n",
              "      <td>You, sir, are my hero. Any chance you remember...</td>\n",
              "      <td>0</td>\n",
              "      <td>you sir be my hero any chance you remember wha...</td>\n",
              "    </tr>\n",
              "    <tr>\n",
              "      <th>5</th>\n",
              "      <td>5</td>\n",
              "      <td>\"\\n\\nCongratulations from me as well, use the ...</td>\n",
              "      <td>0</td>\n",
              "      <td>congratulation from I as well use the tool wel...</td>\n",
              "    </tr>\n",
              "    <tr>\n",
              "      <th>6</th>\n",
              "      <td>6</td>\n",
              "      <td>COCKSUCKER BEFORE YOU PISS AROUND ON MY WORK</td>\n",
              "      <td>1</td>\n",
              "      <td>cocksucker before you piss around on my work</td>\n",
              "    </tr>\n",
              "    <tr>\n",
              "      <th>7</th>\n",
              "      <td>7</td>\n",
              "      <td>Your vandalism to the Matt Shirvington article...</td>\n",
              "      <td>0</td>\n",
              "      <td>your vandalism to the matt shirvington article...</td>\n",
              "    </tr>\n",
              "    <tr>\n",
              "      <th>8</th>\n",
              "      <td>8</td>\n",
              "      <td>Sorry if the word 'nonsense' was offensive to ...</td>\n",
              "      <td>0</td>\n",
              "      <td>sorry if the word nonsense be offensive to you...</td>\n",
              "    </tr>\n",
              "    <tr>\n",
              "      <th>9</th>\n",
              "      <td>9</td>\n",
              "      <td>alignment on this subject and which are contra...</td>\n",
              "      <td>0</td>\n",
              "      <td>alignment on this subject and which be contrar...</td>\n",
              "    </tr>\n",
              "  </tbody>\n",
              "</table>\n",
              "</div>"
            ],
            "text/plain": [
              "   Unnamed: 0                                               text  toxic  \\\n",
              "0           0  Explanation\\nWhy the edits made under my usern...      0   \n",
              "1           1  D'aww! He matches this background colour I'm s...      0   \n",
              "2           2  Hey man, I'm really not trying to edit war. It...      0   \n",
              "3           3  \"\\nMore\\nI can't make any real suggestions on ...      0   \n",
              "4           4  You, sir, are my hero. Any chance you remember...      0   \n",
              "5           5  \"\\n\\nCongratulations from me as well, use the ...      0   \n",
              "6           6       COCKSUCKER BEFORE YOU PISS AROUND ON MY WORK      1   \n",
              "7           7  Your vandalism to the Matt Shirvington article...      0   \n",
              "8           8  Sorry if the word 'nonsense' was offensive to ...      0   \n",
              "9           9  alignment on this subject and which are contra...      0   \n",
              "\n",
              "                                                lemm  \n",
              "0  explanation why the edit make under my usernam...  \n",
              "1  d aww he match this background colour I be see...  \n",
              "2  hey man I be really not try to edit war it be ...  \n",
              "3  more I can not make any real suggestion on imp...  \n",
              "4  you sir be my hero any chance you remember wha...  \n",
              "5  congratulation from I as well use the tool wel...  \n",
              "6       cocksucker before you piss around on my work  \n",
              "7  your vandalism to the matt shirvington article...  \n",
              "8  sorry if the word nonsense be offensive to you...  \n",
              "9  alignment on this subject and which be contrar...  "
            ]
          },
          "execution_count": 29,
          "metadata": {},
          "output_type": "execute_result"
        }
      ],
      "source": [
        "nlp = spacy.load('en_core_web_sm', disable=['parser', 'ner'])\n",
        "#Функция лемматизации и очистки текста\n",
        "def spacy_lemm(row):\n",
        "    doc = nlp(row.lower())  \n",
        "    lemma = ' '.join([token.lemma_ for token in doc])\n",
        "    lemma = ''.join(re.sub(r'[^A-Za-z]',' ',lemma))\n",
        "    lemma = \" \".join(lemma.split())\n",
        "    return lemma\n",
        "\n",
        "#Добавление столбца с лемматизированным и очищенным текстом\n",
        "data['lemm']=data['text'].apply(spacy_lemm)\n",
        "\n",
        "data.head(10)"
      ]
    },
    {
      "cell_type": "markdown",
      "metadata": {
        "id": "Xgq86BRSSg2i"
      },
      "source": [
        "Посмотрим на баланс классов в столбце 'toxic'."
      ]
    },
    {
      "cell_type": "code",
      "execution_count": null,
      "metadata": {
        "id": "T1E01vFTSg2j",
        "outputId": "cb184e3c-345e-42c3-b9d9-f2aa23004a65"
      },
      "outputs": [
        {
          "data": {
            "image/png": "[encoded data removed]",
            "text/plain": [
              "<Figure size 432x432 with 1 Axes>"
            ]
          },
          "metadata": {},
          "output_type": "display_data"
        }
      ],
      "source": [
        "#Проверка дисбаланса классов\n",
        "data['toxic'].value_counts(normalize=True).plot(\n",
        "    kind='pie',\n",
        "    figsize=[6,6], \n",
        "    legend=False, \n",
        "    autopct='%1.1f%%',\n",
        "    labels=['Класс 0','Класс 1'])\n",
        "\n",
        "plt.title('Баланс классов')\n",
        "plt.show()"
      ]
    },
    {
      "cell_type": "markdown",
      "metadata": {
        "id": "jbvIWiMQSg2k"
      },
      "source": [
        "Видно, что Класс 0 (не токсичный текст) существенно превышает Класс 1 (токсичный текст). Такой дисбаланс негативно скажется на результатах работы моделей."
      ]
    },
    {
      "cell_type": "code",
      "execution_count": null,
      "metadata": {
        "id": "kxE3PV6qSg2l"
      },
      "outputs": [],
      "source": [
        "#Выделим признаки и целевую переменную\n",
        "target = data['toxic']\n",
        "features = data['lemm']"
      ]
    },
    {
      "cell_type": "code",
      "execution_count": null,
      "metadata": {
        "id": "dbk9wk2hSg2m"
      },
      "outputs": [],
      "source": [
        "#Разделим данные на обучающую, валидационную и тестовую выборки.\n",
        "features_train, features_temp, target_train, target_temp = train_test_split(features, \n",
        "                                                                            target, \n",
        "                                                                            test_size=0.4, \n",
        "                                                                            random_state=12345)\n",
        "\n",
        "features_valid, features_test, target_valid, target_test = train_test_split(features_temp, \n",
        "                                                                            target_temp, \n",
        "                                                                            test_size=0.5,\n",
        "                                                                            random_state=12345)"
      ]
    },
    {
      "cell_type": "code",
      "execution_count": null,
      "metadata": {
        "id": "qovQfjHZSg2n",
        "outputId": "e56c68c5-e258-420a-b44a-a607bfec7247"
      },
      "outputs": [
        {
          "name": "stderr",
          "output_type": "stream",
          "text": [
            "[nltk_data] Downloading package stopwords to /home/jovyan/nltk_data...\n",
            "[nltk_data]   Package stopwords is already up-to-date!\n"
          ]
        }
      ],
      "source": [
        "#Загрузим стоп-слова\n",
        "nltk.download('stopwords')\n",
        "stopwords = set(nltk_stopwords.words('english'))"
      ]
    },
    {
      "cell_type": "code",
      "execution_count": null,
      "metadata": {
        "id": "uHQJXwYoSg2o",
        "outputId": "638450c9-26d3-4dc5-94bd-1708956cf521"
      },
      "outputs": [
        {
          "name": "stdout",
          "output_type": "stream",
          "text": [
            "(95575, 112667)\n",
            "(31858, 112667)\n",
            "(31859, 112667)\n"
          ]
        }
      ],
      "source": [
        "#Создание матрицы TF-IDF\n",
        "count_tf_idf = TfidfVectorizer(stop_words=stopwords) \n",
        "\n",
        "features_train = count_tf_idf.fit_transform(features_train)\n",
        "features_valid = count_tf_idf.transform(features_valid)\n",
        "features_test = count_tf_idf.transform(features_test)\n",
        "print(features_train.shape)\n",
        "print(features_valid.shape)\n",
        "print(features_test.shape)"
      ]
    },
    {
      "cell_type": "code",
      "execution_count": null,
      "metadata": {
        "id": "sCEwwCl8Sg2r",
        "outputId": "3deeeeae-c0d3-4950-9d5f-b9716b4fac02"
      },
      "outputs": [
        {
          "name": "stdout",
          "output_type": "stream",
          "text": [
            "F1 на обучающей выборке 0.6938059632043053\n"
          ]
        }
      ],
      "source": [
        "#Построение модели LogisticRegression\n",
        "CV = 3\n",
        "model_LR = LogisticRegression()\n",
        "train_LR_f1 = cross_val_score(model_LR, \n",
        "                           features_train, \n",
        "                           target_train, \n",
        "                           cv=CV, \n",
        "                           scoring='f1').mean()\n",
        "print('F1 на обучающей выборке', train_LR_f1)"
      ]
    },
    {
      "cell_type": "markdown",
      "metadata": {
        "id": "MR48NpxrSg2r"
      },
      "source": [
        "Результат F1 ниже порогового значения из задания."
      ]
    },
    {
      "cell_type": "markdown",
      "metadata": {
        "id": "W_OeTbHtSg2s"
      },
      "source": [
        "Для борьбы с дисбалансом классов попробуем применить уменьшение значений класса 0."
      ]
    },
    {
      "cell_type": "code",
      "execution_count": null,
      "metadata": {
        "id": "r2uQkIZ5Sg2s",
        "outputId": "4dc70d4d-d67a-42b6-fbef-c18a1b0952d9"
      },
      "outputs": [
        {
          "name": "stdout",
          "output_type": "stream",
          "text": [
            "До\n",
            "0    85923\n",
            "1     9652\n",
            "Name: toxic, dtype: int64\n",
            "----------------------------------------\n",
            "После\n",
            "0    9652\n",
            "1    9652\n",
            "Name: toxic, dtype: int64\n"
          ]
        }
      ],
      "source": [
        "data_train = data.iloc[target_train.index]\n",
        "\n",
        "target_train_zero = data_train[data_train['toxic'] == 0]['toxic']\n",
        "target_train_one = data_train[data_train['toxic'] == 1]['toxic']\n",
        "\n",
        "target_train_zero_downsample = target_train_zero.sample(target_train_one.shape[0],\n",
        "                                                        random_state=12345)\n",
        "\n",
        "target_train_downsample = pd.concat([target_train_zero_downsample, target_train_one])\n",
        "\n",
        "\n",
        "features_train_downsample = data.iloc[target_train_downsample.index]\n",
        "\n",
        "#Перемешивание\n",
        "features_train_downsample, target_train_downsample = shuffle(features_train_downsample,\n",
        "                                                             target_train_downsample,\n",
        "                                                             random_state=12345)\n",
        "#Создание матрицы TF-IDF\n",
        "features_train_downsample = count_tf_idf.transform(features_train_downsample['lemm'])\n",
        "\n",
        "#Проверка\n",
        "print('До')\n",
        "print(target_train.value_counts())\n",
        "print('-'*40)\n",
        "print('После')\n",
        "print(target_train_downsample.value_counts())"
      ]
    },
    {
      "cell_type": "markdown",
      "metadata": {
        "id": "pum5ZdiFSg2t"
      },
      "source": [
        "Количество примеров Класса 0 теперь равно количеству Класса 1. "
      ]
    },
    {
      "cell_type": "code",
      "execution_count": null,
      "metadata": {
        "id": "dRXvbTsvSg2t"
      },
      "outputs": [],
      "source": [
        "#Построение модели LogisticRegression с уменьшенной выборкой\n",
        "model_LR = LogisticRegression()\n",
        "train_LR_f1_dw = cross_val_score(model_LR,\n",
        "                      features_train_downsample, \n",
        "                      target_train_downsample, \n",
        "                      cv=CV, \n",
        "                      scoring='f1').mean()\n",
        "print('F1 на обучающей выборке сбалансированной', train_LR_f1_dw)"
      ]
    },
    {
      "cell_type": "code",
      "execution_count": null,
      "metadata": {
        "id": "kEUb0wLkSg2u"
      },
      "outputs": [],
      "source": [
        "#Результаты модели LogisticRegression\n",
        "result_tab = pd.DataFrame(\n",
        "    index=['LogisticRegression'])\n",
        "result_tab['F1 original train data'] = train_LR_f1\n",
        "result_tab['F1 downsampled train data'] = train_LR_f1_dw\n",
        "result_tab"
      ]
    },
    {
      "cell_type": "markdown",
      "metadata": {
        "id": "pEK1pABBSg2u"
      },
      "source": [
        "Результат модели существенно улучшился. Для обучения моделей целесообразно использовать сбалансированную выборку."
      ]
    },
    {
      "cell_type": "markdown",
      "metadata": {
        "id": "YKak7F_DSg2v"
      },
      "source": [
        "## Обучение"
      ]
    },
    {
      "cell_type": "markdown",
      "metadata": {
        "id": "0yGDts74Sg2v"
      },
      "source": [
        "**LogisticRegression**"
      ]
    },
    {
      "cell_type": "code",
      "execution_count": null,
      "metadata": {
        "id": "nCpwp5mzSg2v",
        "outputId": "971bd8dc-5224-4656-98bc-c1167cfa14f1"
      },
      "outputs": [
        {
          "name": "stderr",
          "output_type": "stream",
          "text": [
            "/opt/conda/lib/python3.9/site-packages/sklearn/linear_model/_logistic.py:763: ConvergenceWarning: lbfgs failed to converge (status=1):\n",
            "STOP: TOTAL NO. of ITERATIONS REACHED LIMIT.\n",
            "\n",
            "Increase the number of iterations (max_iter) or scale the data as shown in:\n",
            "    https://scikit-learn.org/stable/modules/preprocessing.html\n",
            "Please also refer to the documentation for alternative solver options:\n",
            "    https://scikit-learn.org/stable/modules/linear_model.html#logistic-regression\n",
            "  n_iter_i = _check_optimize_result(\n",
            "/opt/conda/lib/python3.9/site-packages/sklearn/linear_model/_logistic.py:763: ConvergenceWarning: lbfgs failed to converge (status=1):\n",
            "STOP: TOTAL NO. of ITERATIONS REACHED LIMIT.\n",
            "\n",
            "Increase the number of iterations (max_iter) or scale the data as shown in:\n",
            "    https://scikit-learn.org/stable/modules/preprocessing.html\n",
            "Please also refer to the documentation for alternative solver options:\n",
            "    https://scikit-learn.org/stable/modules/linear_model.html#logistic-regression\n",
            "  n_iter_i = _check_optimize_result(\n",
            "/opt/conda/lib/python3.9/site-packages/sklearn/linear_model/_logistic.py:763: ConvergenceWarning: lbfgs failed to converge (status=1):\n",
            "STOP: TOTAL NO. of ITERATIONS REACHED LIMIT.\n",
            "\n",
            "Increase the number of iterations (max_iter) or scale the data as shown in:\n",
            "    https://scikit-learn.org/stable/modules/preprocessing.html\n",
            "Please also refer to the documentation for alternative solver options:\n",
            "    https://scikit-learn.org/stable/modules/linear_model.html#logistic-regression\n",
            "  n_iter_i = _check_optimize_result(\n"
          ]
        },
        {
          "name": "stdout",
          "output_type": "stream",
          "text": [
            "Лучшие параметры: {'C': 10, 'solver': 'newton-cg'}\n",
            "F1 обучающей выборки: 0.8877186123430666\n"
          ]
        }
      ],
      "source": [
        "model_LR = LogisticRegression()\n",
        "\n",
        "model_LR_param = {'solver':['newton-cg', 'lbfgs', 'liblinear'],\n",
        "                   'C':[0.1, 1, 10]}\n",
        "\n",
        "model_LR_grid = GridSearchCV(model_LR, model_LR_param, scoring='f1', cv=CV)\n",
        "model_LR_grid.fit(features_train_downsample, target_train_downsample)\n",
        "\n",
        "model_LR_best_params = model_LR_grid.best_params_\n",
        "\n",
        "result_train_LR = model_LR_grid.best_score_\n",
        "print(\"Лучшие параметры:\", model_LR_best_params)\n",
        "print(\"F1 обучающей выборки:\", result_train_LR)"
      ]
    },
    {
      "cell_type": "code",
      "execution_count": null,
      "metadata": {
        "id": "bBHi4qfSSg2x",
        "outputId": "0cd23f7c-a0b4-4ef6-c572-f0f32ea1e141"
      },
      "outputs": [
        {
          "name": "stdout",
          "output_type": "stream",
          "text": [
            "F1 на cv 0.8877186123430666\n",
            "F1 на валидации 0.7770722498712889\n"
          ]
        }
      ],
      "source": [
        "model_LR = LogisticRegression()\n",
        "model_LR.set_params(**model_LR_best_params)\n",
        "model_LR.fit(features_train, target_train)\n",
        "target_predict = model_LR.predict(features_valid)\n",
        "valid_f1_LR = f1_score(target_valid, target_predict)\n",
        "print('F1 на cv', result_train_LR)\n",
        "print('F1 на валидации', valid_f1_LR)"
      ]
    },
    {
      "cell_type": "markdown",
      "metadata": {
        "id": "KuCqlbRgSg2y"
      },
      "source": [
        "**DecisionTreeClassifier**"
      ]
    },
    {
      "cell_type": "code",
      "execution_count": null,
      "metadata": {
        "id": "a_y6GxE2Sg2y"
      },
      "outputs": [],
      "source": [
        "model_DTC = DecisionTreeClassifier()\n",
        "model_DTC_param = {'max_depth': range(1, 15, 2),\n",
        "                   'min_samples_leaf': range(1,5),\n",
        "                   'min_samples_split': range(2,8,2)}\n",
        "\n",
        "\n",
        "model_DTC_grid = GridSearchCV(model_DTC, model_DTC_param, scoring='f1', cv=CV)\n",
        "model_DTC_grid.fit(features_train_downsample, target_train_downsample)\n",
        "\n",
        "model_DTC_best_params = model_DTC_grid.best_params_\n",
        "\n",
        "result_train_DTC = model_DTC_grid.best_score_\n",
        "print(\"Лучшие параметры:\", model_DTC_best_params)\n",
        "print(\"F1 на валидации:\", result_train_DTC)"
      ]
    },
    {
      "cell_type": "code",
      "execution_count": null,
      "metadata": {
        "id": "BoAW0zULSg2y"
      },
      "outputs": [],
      "source": [
        "model_DTC = DecisionTreeClassifier()\n",
        "model_DTC.set_params(**model_DTC_best_params)\n",
        "model_DTC.fit(features_train, target_train)\n",
        "target_predict = model_DTC.predict(features_valid)\n",
        "valid_f1_DTC = f1_score(target_valid, target_predict)\n",
        "print('F1 на cv', result_train_DTC)\n",
        "print('F1 на валидации', valid_f1_DTC)"
      ]
    },
    {
      "cell_type": "markdown",
      "metadata": {
        "id": "U4rDky6uSg2z"
      },
      "source": [
        "**CatBoostClassifier**"
      ]
    },
    {
      "cell_type": "code",
      "execution_count": null,
      "metadata": {
        "id": "H1MasaCvSg2z"
      },
      "outputs": [],
      "source": [
        "model_CAT = CatBoostClassifier(verbose=False, iterations=200)\n",
        "model_CAT.fit(features_train_downsample, target_train_downsample)\n",
        "target_predict = model_CAT.predict(features_valid)\n",
        "CV_f1_CAT = cross_val_score(model_CAT,\n",
        "                            features_train, \n",
        "                            target_train, \n",
        "                            cv=CV, \n",
        "                            scoring='f1').mean()\n",
        "\n",
        "valid_f1_CAT = f1_score(target_valid, target_predict)\n",
        "print('F1 на cv', CV_f1_CAT)\n",
        "print('F1 на валидации', valid_f1_CAT)"
      ]
    },
    {
      "cell_type": "markdown",
      "metadata": {
        "id": "fnnsQ7NWSg20"
      },
      "source": [
        "## Выводы"
      ]
    },
    {
      "cell_type": "code",
      "execution_count": null,
      "metadata": {
        "id": "3juYYZeASg21"
      },
      "outputs": [],
      "source": [
        "#Результаты моделей\n",
        "result_tab = pd.DataFrame(\n",
        "    index=['LogisticRegression',\n",
        "           'DecisionTreeClassifier',\n",
        "           'CatBoostClassifier'])\n",
        "result_tab['F1 CV'] = result_train_LR, result_train_DTC, result_train_CAT\n",
        "result_tab['F1 Validation'] = valid_f1_LR, valid_f1_DTC, valid_f1_CAT\n",
        "result_tab"
      ]
    },
    {
      "cell_type": "code",
      "execution_count": null,
      "metadata": {
        "id": "cw45GAeDSg21",
        "outputId": "89e437d0-9a34-425b-a7b6-d3fc477b4581"
      },
      "outputs": [
        {
          "name": "stdout",
          "output_type": "stream",
          "text": [
            "F1 на Test 0.8877186123430666\n"
          ]
        }
      ],
      "source": [
        "#Результаты модели LogisticRegression на тестовой выборке\n",
        "test_predict = model_LR.predict(features_test)\n",
        "test_f1_LR = f1_score(target_test, test_predict)\n",
        "print('F1 на Test', result_train_LR)"
      ]
    },
    {
      "cell_type": "markdown",
      "metadata": {
        "id": "48i0mtRqSg22"
      },
      "source": [
        "Построение ROC-кривой"
      ]
    },
    {
      "cell_type": "code",
      "execution_count": null,
      "metadata": {
        "id": "7RWzA3YNSg22",
        "outputId": "90866e50-924d-46b5-c345-c914649d9942"
      },
      "outputs": [
        {
          "data": {
            "image/png": "[encoded data removed]",
            "text/plain": [
              "<Figure size 432x288 with 1 Axes>"
            ]
          },
          "metadata": {
            "needs_background": "light"
          },
          "output_type": "display_data"
        }
      ],
      "source": [
        "probabilities_valid = model_LR.predict_proba(features_test)\n",
        "probabilities_one_valid = probabilities_valid[:, 1]\n",
        "\n",
        "fpr, tpr, thresholds = roc_curve(target_test, probabilities_one_valid)\n",
        "plt.figure()\n",
        "plt.plot(fpr, tpr)\n",
        "\n",
        "#Случайная кривая\n",
        "plt.plot([0, 1], [0, 1], linestyle='--')\n",
        "\n",
        "#Установка границы осей от 0 до 1\n",
        "plt.xlim([0.0, 1.0])\n",
        "plt.ylim([0.0, 1.0])\n",
        "\n",
        "#Подписи осей \"False Positive Rate\" и \"True Positive Rate\" >\n",
        "plt.xlabel('False Positive Rate')\n",
        "plt.ylabel('True Positive Rate')\n",
        "\n",
        "#Заголовок \n",
        "plt.title('ROC-кривая')\n",
        "\n",
        "plt.show()"
      ]
    },
    {
      "cell_type": "markdown",
      "metadata": {
        "id": "ovGPcTlESg24"
      },
      "source": [
        "**Вывод**\n",
        "\n",
        "В рамках выполнения проекта было сделано:\n",
        "\n",
        "- Произведена загрузка данных,их подготовка для обучения моделей.\n",
        "- Скорректирован дисбаланс классов, данные поделены на обучающую, валидационную и тестовою выборки.\n",
        "- Обучены модели, подобраны опртимальные гиперпараметры.\n"
      ]
    }
  ],
  "metadata": {
    "ExecuteTimeLog": [
      {
        "duration": 397,
        "start_time": "2022-12-02T06:51:07.243Z"
      },
      {
        "duration": 1345,
        "start_time": "2022-12-02T06:51:07.642Z"
      },
      {
        "duration": 20,
        "start_time": "2022-12-02T06:51:15.065Z"
      },
      {
        "duration": 35,
        "start_time": "2022-12-02T06:51:29.155Z"
      },
      {
        "duration": 9,
        "start_time": "2022-12-02T06:51:45.364Z"
      },
      {
        "duration": 18,
        "start_time": "2022-12-02T07:06:56.622Z"
      },
      {
        "duration": 2970,
        "start_time": "2022-12-02T07:08:02.171Z"
      },
      {
        "duration": 5,
        "start_time": "2022-12-02T07:08:16.571Z"
      },
      {
        "duration": 13,
        "start_time": "2022-12-02T07:08:24.942Z"
      },
      {
        "duration": 65,
        "start_time": "2022-12-02T07:10:28.384Z"
      },
      {
        "duration": 59,
        "start_time": "2022-12-02T07:10:31.369Z"
      },
      {
        "duration": 64,
        "start_time": "2022-12-02T07:12:11.418Z"
      },
      {
        "duration": 391,
        "start_time": "2022-12-02T07:12:16.745Z"
      },
      {
        "duration": 1177,
        "start_time": "2022-12-02T07:12:17.138Z"
      },
      {
        "duration": 1875,
        "start_time": "2022-12-02T07:12:21.770Z"
      },
      {
        "duration": 9,
        "start_time": "2022-12-02T07:12:27.298Z"
      },
      {
        "duration": 1000,
        "start_time": "2022-12-02T08:10:59.445Z"
      },
      {
        "duration": 779,
        "start_time": "2022-12-02T08:11:01.227Z"
      },
      {
        "duration": 1107,
        "start_time": "2022-12-02T08:11:04.951Z"
      },
      {
        "duration": 3,
        "start_time": "2022-12-02T08:12:01.853Z"
      },
      {
        "duration": 95699,
        "start_time": "2022-12-02T08:12:04.372Z"
      },
      {
        "duration": 16,
        "start_time": "2022-12-02T08:13:52.748Z"
      },
      {
        "duration": 14,
        "start_time": "2022-12-02T08:54:18.169Z"
      },
      {
        "duration": 3,
        "start_time": "2022-12-02T08:54:40.797Z"
      },
      {
        "duration": 45,
        "start_time": "2022-12-02T08:54:44.662Z"
      },
      {
        "duration": 4,
        "start_time": "2022-12-02T09:00:48.296Z"
      },
      {
        "duration": 4,
        "start_time": "2022-12-02T10:32:05.314Z"
      },
      {
        "duration": 755,
        "start_time": "2022-12-02T10:32:05.319Z"
      },
      {
        "duration": 8,
        "start_time": "2022-12-02T10:32:06.076Z"
      },
      {
        "duration": 43,
        "start_time": "2022-12-02T10:32:06.086Z"
      },
      {
        "duration": 98011,
        "start_time": "2022-12-02T10:32:06.131Z"
      },
      {
        "duration": 14,
        "start_time": "2022-12-02T10:33:44.144Z"
      },
      {
        "duration": 88,
        "start_time": "2022-12-02T10:33:44.160Z"
      },
      {
        "duration": 165,
        "start_time": "2022-12-02T10:33:44.250Z"
      },
      {
        "duration": 576,
        "start_time": "2022-12-02T10:33:44.417Z"
      },
      {
        "duration": 57,
        "start_time": "2022-12-02T10:38:24.166Z"
      },
      {
        "duration": 1443,
        "start_time": "2022-12-02T10:38:28.888Z"
      },
      {
        "duration": 1202,
        "start_time": "2022-12-02T10:38:30.333Z"
      },
      {
        "duration": 17,
        "start_time": "2022-12-02T10:38:31.537Z"
      },
      {
        "duration": 46,
        "start_time": "2022-12-02T10:38:31.556Z"
      },
      {
        "duration": 95164,
        "start_time": "2022-12-02T10:38:31.604Z"
      },
      {
        "duration": 16,
        "start_time": "2022-12-02T10:40:06.769Z"
      },
      {
        "duration": 58,
        "start_time": "2022-12-02T10:40:06.787Z"
      },
      {
        "duration": 198,
        "start_time": "2022-12-02T10:40:06.846Z"
      },
      {
        "duration": 11294,
        "start_time": "2022-12-02T10:42:36.789Z"
      },
      {
        "duration": 87,
        "start_time": "2022-12-02T10:42:50.126Z"
      },
      {
        "duration": 4,
        "start_time": "2022-12-02T10:43:13.493Z"
      },
      {
        "duration": 10,
        "start_time": "2022-12-02T10:43:16.893Z"
      },
      {
        "duration": 4,
        "start_time": "2022-12-02T10:43:37.565Z"
      },
      {
        "duration": 100959,
        "start_time": "2022-12-02T10:43:41.559Z"
      },
      {
        "duration": 13,
        "start_time": "2022-12-02T10:55:16.738Z"
      },
      {
        "duration": 56,
        "start_time": "2022-12-02T10:55:36.445Z"
      },
      {
        "duration": 285,
        "start_time": "2022-12-02T10:55:53.726Z"
      },
      {
        "duration": 779226,
        "start_time": "2022-12-02T10:56:24.816Z"
      },
      {
        "duration": 417,
        "start_time": "2022-12-02T11:22:24.911Z"
      },
      {
        "duration": 220,
        "start_time": "2022-12-02T11:22:29.870Z"
      },
      {
        "duration": 98,
        "start_time": "2022-12-02T11:23:34.471Z"
      },
      {
        "duration": 87,
        "start_time": "2022-12-02T11:24:10.902Z"
      },
      {
        "duration": 30,
        "start_time": "2022-12-02T11:26:49.331Z"
      },
      {
        "duration": 4,
        "start_time": "2022-12-02T11:27:07.822Z"
      },
      {
        "duration": 786,
        "start_time": "2022-12-02T11:27:07.828Z"
      },
      {
        "duration": 8,
        "start_time": "2022-12-02T11:27:08.616Z"
      },
      {
        "duration": 39,
        "start_time": "2022-12-02T11:27:08.626Z"
      },
      {
        "duration": 100890,
        "start_time": "2022-12-02T11:27:08.666Z"
      },
      {
        "duration": 14,
        "start_time": "2022-12-02T11:28:49.559Z"
      },
      {
        "duration": 88,
        "start_time": "2022-12-02T11:28:49.575Z"
      },
      {
        "duration": 34,
        "start_time": "2022-12-02T11:30:09.808Z"
      },
      {
        "duration": 4,
        "start_time": "2022-12-02T11:30:48.229Z"
      },
      {
        "duration": 39,
        "start_time": "2022-12-02T11:31:12.575Z"
      },
      {
        "duration": 5,
        "start_time": "2022-12-02T11:31:26.358Z"
      },
      {
        "duration": 39,
        "start_time": "2022-12-02T11:31:35.856Z"
      },
      {
        "duration": 4,
        "start_time": "2022-12-02T11:35:01.598Z"
      },
      {
        "duration": 11322,
        "start_time": "2022-12-02T11:35:02.422Z"
      },
      {
        "duration": 110092,
        "start_time": "2022-12-02T11:38:18.038Z"
      },
      {
        "duration": 17743,
        "start_time": "2022-12-02T11:46:09.470Z"
      },
      {
        "duration": 97502,
        "start_time": "2022-12-02T11:46:27.553Z"
      },
      {
        "duration": 98,
        "start_time": "2022-12-02T11:48:55.078Z"
      },
      {
        "duration": 17,
        "start_time": "2022-12-02T12:13:15.226Z"
      },
      {
        "duration": 4,
        "start_time": "2022-12-02T12:13:27.888Z"
      },
      {
        "duration": 828,
        "start_time": "2022-12-02T12:13:27.894Z"
      },
      {
        "duration": 33,
        "start_time": "2022-12-02T12:13:28.723Z"
      },
      {
        "duration": 100909,
        "start_time": "2022-12-02T12:13:28.759Z"
      },
      {
        "duration": 106,
        "start_time": "2022-12-02T12:15:09.670Z"
      },
      {
        "duration": 4,
        "start_time": "2022-12-02T12:15:09.777Z"
      },
      {
        "duration": 84,
        "start_time": "2022-12-02T12:15:09.782Z"
      },
      {
        "duration": 295,
        "start_time": "2022-12-02T12:15:09.868Z"
      },
      {
        "duration": 11700,
        "start_time": "2022-12-02T12:15:10.165Z"
      },
      {
        "duration": 98066,
        "start_time": "2022-12-02T12:15:21.867Z"
      },
      {
        "duration": 19,
        "start_time": "2022-12-02T12:17:14.143Z"
      },
      {
        "duration": 3,
        "start_time": "2022-12-02T12:27:48.271Z"
      },
      {
        "duration": 47,
        "start_time": "2022-12-02T12:27:55.734Z"
      },
      {
        "duration": 54,
        "start_time": "2022-12-02T12:27:59.071Z"
      },
      {
        "duration": 1443,
        "start_time": "2022-12-02T12:45:46.141Z"
      },
      {
        "duration": 1374,
        "start_time": "2022-12-02T12:46:14.477Z"
      },
      {
        "duration": 4,
        "start_time": "2022-12-02T12:48:34.561Z"
      },
      {
        "duration": 826,
        "start_time": "2022-12-02T12:48:34.567Z"
      },
      {
        "duration": 34,
        "start_time": "2022-12-02T12:48:35.395Z"
      },
      {
        "duration": 102318,
        "start_time": "2022-12-02T12:48:35.431Z"
      },
      {
        "duration": 108,
        "start_time": "2022-12-02T12:50:17.751Z"
      },
      {
        "duration": 4,
        "start_time": "2022-12-02T12:50:17.861Z"
      },
      {
        "duration": 75,
        "start_time": "2022-12-02T12:50:17.866Z"
      },
      {
        "duration": 4,
        "start_time": "2022-12-02T12:50:17.943Z"
      },
      {
        "duration": 11954,
        "start_time": "2022-12-02T12:50:17.949Z"
      },
      {
        "duration": 101028,
        "start_time": "2022-12-02T12:50:29.906Z"
      },
      {
        "duration": 1388,
        "start_time": "2022-12-02T13:20:01.531Z"
      },
      {
        "duration": 13,
        "start_time": "2022-12-02T13:21:33.411Z"
      },
      {
        "duration": 31568,
        "start_time": "2022-12-02T13:21:41.547Z"
      },
      {
        "duration": 4,
        "start_time": "2022-12-02T13:32:08.333Z"
      },
      {
        "duration": 18,
        "start_time": "2022-12-02T13:32:25.435Z"
      },
      {
        "duration": 16,
        "start_time": "2022-12-02T13:33:45.242Z"
      },
      {
        "duration": 16,
        "start_time": "2022-12-02T13:33:58.498Z"
      },
      {
        "duration": 4,
        "start_time": "2022-12-02T13:34:03.811Z"
      },
      {
        "duration": 10,
        "start_time": "2022-12-02T13:34:08.842Z"
      },
      {
        "duration": 10,
        "start_time": "2022-12-02T13:34:30.974Z"
      },
      {
        "duration": 12,
        "start_time": "2022-12-02T13:36:47.658Z"
      },
      {
        "duration": 80,
        "start_time": "2022-12-02T13:37:04.092Z"
      },
      {
        "duration": 11,
        "start_time": "2022-12-02T13:37:12.698Z"
      },
      {
        "duration": 10,
        "start_time": "2022-12-02T13:37:49.899Z"
      },
      {
        "duration": 27498,
        "start_time": "2022-12-02T13:40:00.130Z"
      },
      {
        "duration": 99168,
        "start_time": "2022-12-02T13:40:40.876Z"
      },
      {
        "duration": 26781,
        "start_time": "2022-12-02T13:46:41.643Z"
      },
      {
        "duration": 98182,
        "start_time": "2022-12-02T13:47:56.636Z"
      },
      {
        "duration": 1694,
        "start_time": "2022-12-03T09:24:40.746Z"
      },
      {
        "duration": 1057,
        "start_time": "2022-12-03T09:24:42.445Z"
      },
      {
        "duration": 32,
        "start_time": "2022-12-03T09:24:43.503Z"
      },
      {
        "duration": 96831,
        "start_time": "2022-12-03T09:24:43.537Z"
      },
      {
        "duration": 118,
        "start_time": "2022-12-03T09:26:20.369Z"
      },
      {
        "duration": 9,
        "start_time": "2022-12-03T09:26:20.488Z"
      },
      {
        "duration": 53,
        "start_time": "2022-12-03T09:26:20.499Z"
      },
      {
        "duration": 134,
        "start_time": "2022-12-03T09:26:20.554Z"
      },
      {
        "duration": 10929,
        "start_time": "2022-12-03T09:26:20.690Z"
      },
      {
        "duration": 99476,
        "start_time": "2022-12-03T09:26:31.621Z"
      },
      {
        "duration": 1268,
        "start_time": "2022-12-03T09:28:11.099Z"
      },
      {
        "duration": 29028,
        "start_time": "2022-12-03T09:28:12.369Z"
      },
      {
        "duration": 9,
        "start_time": "2022-12-03T09:28:41.398Z"
      },
      {
        "duration": 125,
        "start_time": "2022-12-03T09:30:36.957Z"
      },
      {
        "duration": 3,
        "start_time": "2022-12-03T09:31:06.670Z"
      },
      {
        "duration": 453805,
        "start_time": "2022-12-03T09:31:11.393Z"
      },
      {
        "duration": 12,
        "start_time": "2022-12-03T09:39:52.142Z"
      },
      {
        "duration": 41298,
        "start_time": "2022-12-03T09:40:09.800Z"
      },
      {
        "duration": 47,
        "start_time": "2022-12-03T09:41:36.177Z"
      },
      {
        "duration": 40821,
        "start_time": "2022-12-03T09:41:43.384Z"
      },
      {
        "duration": 13505,
        "start_time": "2022-12-03T09:42:44.291Z"
      },
      {
        "duration": 68822,
        "start_time": "2022-12-03T09:43:15.120Z"
      },
      {
        "duration": 25,
        "start_time": "2022-12-03T09:45:20.034Z"
      },
      {
        "duration": 142754,
        "start_time": "2022-12-03T09:45:45.598Z"
      },
      {
        "duration": 11,
        "start_time": "2022-12-03T09:49:38.295Z"
      },
      {
        "duration": 4866,
        "start_time": "2022-12-03T09:49:49.751Z"
      },
      {
        "duration": 96822,
        "start_time": "2022-12-03T09:50:24.507Z"
      },
      {
        "duration": 766145,
        "start_time": "2022-12-03T10:34:28.908Z"
      },
      {
        "duration": 12,
        "start_time": "2022-12-03T10:48:03.911Z"
      },
      {
        "duration": 11,
        "start_time": "2022-12-03T10:48:12.379Z"
      },
      {
        "duration": 0,
        "start_time": "2022-12-03T10:54:10.971Z"
      },
      {
        "duration": 34,
        "start_time": "2022-12-03T10:54:12.409Z"
      },
      {
        "duration": 186340,
        "start_time": "2022-12-03T10:54:33.379Z"
      },
      {
        "duration": 17,
        "start_time": "2022-12-03T10:57:56.058Z"
      },
      {
        "duration": 5,
        "start_time": "2022-12-03T10:58:03.162Z"
      },
      {
        "duration": 159,
        "start_time": "2022-12-03T10:58:08.135Z"
      },
      {
        "duration": 15,
        "start_time": "2022-12-03T11:00:05.155Z"
      },
      {
        "duration": 2299,
        "start_time": "2022-12-03T17:33:49.818Z"
      },
      {
        "duration": 3682,
        "start_time": "2022-12-03T17:33:52.119Z"
      },
      {
        "duration": 32,
        "start_time": "2022-12-03T17:33:55.803Z"
      },
      {
        "duration": 6,
        "start_time": "2022-12-03T17:33:55.837Z"
      },
      {
        "duration": 658,
        "start_time": "2022-12-03T17:33:55.846Z"
      },
      {
        "duration": 5,
        "start_time": "2022-12-03T17:42:58.136Z"
      },
      {
        "duration": 956,
        "start_time": "2022-12-03T17:42:58.144Z"
      },
      {
        "duration": 47,
        "start_time": "2022-12-03T17:42:59.102Z"
      },
      {
        "duration": 105396,
        "start_time": "2022-12-03T17:42:59.152Z"
      },
      {
        "duration": 119,
        "start_time": "2022-12-03T17:44:44.550Z"
      },
      {
        "duration": 3,
        "start_time": "2022-12-03T17:44:44.671Z"
      },
      {
        "duration": 77,
        "start_time": "2022-12-03T17:44:44.675Z"
      },
      {
        "duration": 170,
        "start_time": "2022-12-03T17:44:44.754Z"
      },
      {
        "duration": 11610,
        "start_time": "2022-12-03T17:44:44.929Z"
      },
      {
        "duration": 1301,
        "start_time": "2022-12-03T17:45:44.437Z"
      },
      {
        "duration": 135,
        "start_time": "2022-12-03T17:46:30.578Z"
      },
      {
        "duration": 3,
        "start_time": "2022-12-03T17:46:53.137Z"
      },
      {
        "duration": 202080,
        "start_time": "2022-12-03T17:47:08.743Z"
      },
      {
        "duration": 25714,
        "start_time": "2022-12-03T17:51:15.974Z"
      },
      {
        "duration": 16,
        "start_time": "2022-12-03T17:51:56.338Z"
      },
      {
        "duration": 128,
        "start_time": "2022-12-03T17:52:04.493Z"
      },
      {
        "duration": 4,
        "start_time": "2022-12-03T17:56:18.577Z"
      },
      {
        "duration": 6,
        "start_time": "2022-12-03T17:57:04.538Z"
      },
      {
        "duration": 5897,
        "start_time": "2022-12-04T12:49:20.698Z"
      },
      {
        "duration": 1115,
        "start_time": "2022-12-04T12:49:26.598Z"
      },
      {
        "duration": 29,
        "start_time": "2022-12-04T12:49:27.715Z"
      },
      {
        "duration": 400,
        "start_time": "2022-12-04T12:49:36.359Z"
      },
      {
        "duration": 12828,
        "start_time": "2022-12-04T12:50:22.953Z"
      },
      {
        "duration": 732,
        "start_time": "2022-12-04T12:58:26.647Z"
      },
      {
        "duration": 461,
        "start_time": "2022-12-04T12:58:58.530Z"
      },
      {
        "duration": 497,
        "start_time": "2022-12-04T13:02:57.570Z"
      },
      {
        "duration": 221,
        "start_time": "2022-12-04T13:06:04.495Z"
      },
      {
        "duration": 868453,
        "start_time": "2022-12-04T13:06:20.833Z"
      },
      {
        "duration": 0,
        "start_time": "2022-12-04T13:21:46.469Z"
      },
      {
        "duration": 1459606,
        "start_time": "2022-12-04T13:21:51.018Z"
      },
      {
        "duration": 4140,
        "start_time": "2022-12-04T13:46:58.058Z"
      },
      {
        "duration": 245976,
        "start_time": "2022-12-04T13:47:11.000Z"
      },
      {
        "duration": 769,
        "start_time": "2022-12-04T13:51:20.238Z"
      },
      {
        "duration": 473,
        "start_time": "2022-12-04T13:51:28.143Z"
      },
      {
        "duration": 2861,
        "start_time": "2022-12-04T13:51:40.858Z"
      },
      {
        "duration": 39037,
        "start_time": "2022-12-04T13:54:30.949Z"
      },
      {
        "duration": 133968,
        "start_time": "2022-12-04T13:55:25.528Z"
      },
      {
        "duration": 291,
        "start_time": "2022-12-04T14:03:47.165Z"
      },
      {
        "duration": 750,
        "start_time": "2022-12-04T14:04:30.606Z"
      },
      {
        "duration": 4,
        "start_time": "2022-12-04T14:13:58.632Z"
      },
      {
        "duration": 802,
        "start_time": "2022-12-04T14:14:00.670Z"
      },
      {
        "duration": 1158768,
        "start_time": "2022-12-04T14:14:06.464Z"
      },
      {
        "duration": 8,
        "start_time": "2022-12-04T14:34:00.572Z"
      },
      {
        "duration": 10161,
        "start_time": "2022-12-04T14:35:24.664Z"
      },
      {
        "duration": 5221,
        "start_time": "2022-12-04T14:35:35.082Z"
      },
      {
        "duration": 768,
        "start_time": "2022-12-04T14:35:43.905Z"
      },
      {
        "duration": 1173932,
        "start_time": "2022-12-04T14:35:48.703Z"
      },
      {
        "duration": 937,
        "start_time": "2022-12-04T14:59:15.889Z"
      },
      {
        "duration": 0,
        "start_time": "2022-12-04T14:59:16.828Z"
      },
      {
        "duration": 3,
        "start_time": "2022-12-04T14:59:28.853Z"
      },
      {
        "duration": 62,
        "start_time": "2022-12-04T14:59:29.503Z"
      },
      {
        "duration": 165,
        "start_time": "2022-12-04T14:59:32.466Z"
      },
      {
        "duration": 7467,
        "start_time": "2022-12-04T14:59:50.055Z"
      },
      {
        "duration": 49,
        "start_time": "2022-12-04T15:02:58.097Z"
      },
      {
        "duration": 85447,
        "start_time": "2022-12-04T15:03:06.860Z"
      },
      {
        "duration": 887,
        "start_time": "2022-12-04T15:05:05.751Z"
      },
      {
        "duration": 741,
        "start_time": "2022-12-04T15:05:33.711Z"
      }
    ],
    "kernelspec": {
      "display_name": "Python 3 (ipykernel)",
      "language": "python",
      "name": "python3"
    },
    "language_info": {
      "codemirror_mode": {
        "name": "ipython",
        "version": 3
      },
      "file_extension": ".py",
      "mimetype": "text/x-python",
      "name": "python",
      "nbconvert_exporter": "python",
      "pygments_lexer": "ipython3",
      "version": "3.9.5"
    },
    "toc": {
      "base_numbering": 1,
      "nav_menu": {},
      "number_sections": true,
      "sideBar": true,
      "skip_h1_title": true,
      "title_cell": "Содержание",
      "title_sidebar": "Contents",
      "toc_cell": true,
      "toc_position": {
        "height": "calc(100% - 180px)",
        "left": "10px",
        "top": "150px",
        "width": "302.391px"
      },
      "toc_section_display": true,
      "toc_window_display": false
    },
    "colab": {
      "provenance": []
    }
  },
  "nbformat": 4,
  "nbformat_minor": 0
}