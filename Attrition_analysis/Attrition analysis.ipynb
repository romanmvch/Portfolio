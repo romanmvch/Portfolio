{
 "cells": [
  {
   "cell_type": "markdown",
   "metadata": {},
   "source": [
    "# Анализ увольнения сотрудников"
   ]
  },
  {
   "cell_type": "markdown",
   "metadata": {
    "id": "T8lLkZMAqrjF"
   },
   "source": [
    "**Описание значений параметров датасета**\n",
    "\n",
    "*   EmployeeID - идентификатор сотрудника.\n",
    "*   total months of experience - общий стаж сотрудника в месяцах.\n",
    "*   total organization worked at - общее количество организаций, в которых сотрудник работал на данный момент.\n",
    "*   months in organization - общее количество месяцев, которые сотрудник проработал в данной организации.\n",
    "*   last pay increment - последний диапазон повышения заработной платы - это шкала от одного до пяти, где один - самый высокий. Чем выше диапазон, тем выше повышение заработной платы сотрудника в последнем цикле повышения.\n",
    "*   average feedback - средняя обратная связь, основанная на 360-градусной обратной связи, которую сотрудник получил в ходе оценки результатов работы. Опять же, это шкала от одного до пяти, где один - самая высокая оценка.\n",
    "*   last promotion year - общее количество лет, прошедших с момента последнего повышения сотрудника.\n",
    "*   attrition - показывает, покинул ли сотрудник организацию или нет.\n"
   ]
  },
  {
   "cell_type": "markdown",
   "metadata": {
    "id": "6NUv8vaq-RRj"
   },
   "source": [
    "# **Подключение используемых библиотек**"
   ]
  },
  {
   "cell_type": "code",
   "execution_count": 13,
   "metadata": {
    "executionInfo": {
     "elapsed": 338,
     "status": "ok",
     "timestamp": 1655894287887,
     "user": {
      "displayName": "Роман Иванов",
      "userId": "11781047996542916843"
     },
     "user_tz": -180
    },
    "id": "b7unFAY_z8AS"
   },
   "outputs": [],
   "source": [
    "# preprocessing \n",
    "import pandas as pd\n",
    "import numpy as np\n",
    "\n",
    "# visualization \n",
    "import seaborn as sns\n",
    "import matplotlib.pyplot as plt\n",
    "\n",
    "# datasets, classifiers and performance metrics\n",
    "from sklearn import datasets, metrics, decomposition\n",
    "from sklearn.model_selection import train_test_split\n",
    "from sklearn.linear_model import LogisticRegression\n",
    "from sklearn.ensemble import RandomForestClassifier\n",
    "from sklearn.neighbors import KNeighborsClassifier\n",
    "from sklearn import svm\n",
    "from sklearn.linear_model import LogisticRegression\n",
    "from sklearn.ensemble import GradientBoostingClassifier\n",
    "from sklearn.svm import SVC\n",
    "from sklearn.metrics import accuracy_score\n",
    "from sklearn.model_selection import train_test_split, GridSearchCV\n",
    "import xgboost as xgb\n",
    "import tensorflow as tf\n",
    "from tensorflow import keras\n",
    "from tensorflow.keras import optimizers\n",
    "from tensorflow.keras.regularizers import l2\n",
    "\n",
    "from sklearn.metrics import precision_score,recall_score\n",
    "from sklearn.metrics import f1_score\n",
    "from sklearn.metrics import confusion_matrix,accuracy_score, classification_report"
   ]
  },
  {
   "cell_type": "markdown",
   "metadata": {
    "id": "rnrQGggGm8FH"
   },
   "source": [
    "Версии используемых пакетов."
   ]
  },
  {
   "cell_type": "code",
   "execution_count": 2,
   "metadata": {
    "colab": {
     "base_uri": "https://localhost:8080/"
    },
    "executionInfo": {
     "elapsed": 6,
     "status": "ok",
     "timestamp": 1655878219781,
     "user": {
      "displayName": "Роман Иванов",
      "userId": "11781047996542916843"
     },
     "user_tz": -180
    },
    "id": "KLQxFsTUnUgF",
    "outputId": "15b746e5-878d-4d5b-e976-fa6594f44a48"
   },
   "outputs": [
    {
     "name": "stdout",
     "output_type": "stream",
     "text": [
      "numpy version: 1.20.3\n",
      "pandas version: 1.3.4\n",
      "tensorflow version: 2.8.0\n"
     ]
    }
   ],
   "source": [
    "for package in [np, pd, tf]:\n",
    "    print(package.__name__, 'version:', package.__version__)"
   ]
  },
  {
   "cell_type": "markdown",
   "metadata": {
    "id": "EtEBsfnB-qI7"
   },
   "source": [
    "# **Загрузка данных**"
   ]
  },
  {
   "cell_type": "code",
   "execution_count": 3,
   "metadata": {
    "colab": {
     "base_uri": "https://localhost:8080/"
    },
    "executionInfo": {
     "elapsed": 37614,
     "status": "ok",
     "timestamp": 1655894108203,
     "user": {
      "displayName": "Роман Иванов",
      "userId": "11781047996542916843"
     },
     "user_tz": -180
    },
    "id": "xUVZp3zkm6M_",
    "outputId": "f992b700-c4da-4584-c1b9-0e56401b6e1e"
   },
   "outputs": [],
   "source": [
    "df = pd.read_csv('employee_attrition.csv')"
   ]
  },
  {
   "cell_type": "code",
   "execution_count": 4,
   "metadata": {
    "colab": {
     "base_uri": "https://localhost:8080/",
     "height": 424
    },
    "executionInfo": {
     "elapsed": 267,
     "status": "ok",
     "timestamp": 1655816606145,
     "user": {
      "displayName": "Роман Иванов",
      "userId": "11781047996542916843"
     },
     "user_tz": -180
    },
    "id": "aK14JPTzm6Ph",
    "outputId": "993f17e6-62e5-4559-de13-257f58d311ea"
   },
   "outputs": [
    {
     "data": {
      "text/html": [
       "<div>\n",
       "<style scoped>\n",
       "    .dataframe tbody tr th:only-of-type {\n",
       "        vertical-align: middle;\n",
       "    }\n",
       "\n",
       "    .dataframe tbody tr th {\n",
       "        vertical-align: top;\n",
       "    }\n",
       "\n",
       "    .dataframe thead th {\n",
       "        text-align: right;\n",
       "    }\n",
       "</style>\n",
       "<table border=\"1\" class=\"dataframe\">\n",
       "  <thead>\n",
       "    <tr style=\"text-align: right;\">\n",
       "      <th></th>\n",
       "      <th>EmployeeID</th>\n",
       "      <th>TotalMonthsOfExp</th>\n",
       "      <th>TotalOrgsWorked</th>\n",
       "      <th>MonthsInOrg</th>\n",
       "      <th>LastPayIncrementBand</th>\n",
       "      <th>AverageFeedback</th>\n",
       "      <th>LastPromotionYears</th>\n",
       "      <th>Attrition</th>\n",
       "    </tr>\n",
       "  </thead>\n",
       "  <tbody>\n",
       "    <tr>\n",
       "      <th>0</th>\n",
       "      <td>1</td>\n",
       "      <td>110</td>\n",
       "      <td>4</td>\n",
       "      <td>9</td>\n",
       "      <td>5</td>\n",
       "      <td>4</td>\n",
       "      <td>4</td>\n",
       "      <td>1</td>\n",
       "    </tr>\n",
       "    <tr>\n",
       "      <th>1</th>\n",
       "      <td>2</td>\n",
       "      <td>103</td>\n",
       "      <td>3</td>\n",
       "      <td>51</td>\n",
       "      <td>1</td>\n",
       "      <td>4</td>\n",
       "      <td>2</td>\n",
       "      <td>0</td>\n",
       "    </tr>\n",
       "    <tr>\n",
       "      <th>2</th>\n",
       "      <td>3</td>\n",
       "      <td>41</td>\n",
       "      <td>4</td>\n",
       "      <td>16</td>\n",
       "      <td>5</td>\n",
       "      <td>4</td>\n",
       "      <td>4</td>\n",
       "      <td>1</td>\n",
       "    </tr>\n",
       "    <tr>\n",
       "      <th>3</th>\n",
       "      <td>4</td>\n",
       "      <td>32</td>\n",
       "      <td>4</td>\n",
       "      <td>17</td>\n",
       "      <td>5</td>\n",
       "      <td>2</td>\n",
       "      <td>3</td>\n",
       "      <td>0</td>\n",
       "    </tr>\n",
       "    <tr>\n",
       "      <th>4</th>\n",
       "      <td>5</td>\n",
       "      <td>80</td>\n",
       "      <td>3</td>\n",
       "      <td>16</td>\n",
       "      <td>3</td>\n",
       "      <td>4</td>\n",
       "      <td>2</td>\n",
       "      <td>0</td>\n",
       "    </tr>\n",
       "    <tr>\n",
       "      <th>...</th>\n",
       "      <td>...</td>\n",
       "      <td>...</td>\n",
       "      <td>...</td>\n",
       "      <td>...</td>\n",
       "      <td>...</td>\n",
       "      <td>...</td>\n",
       "      <td>...</td>\n",
       "      <td>...</td>\n",
       "    </tr>\n",
       "    <tr>\n",
       "      <th>995</th>\n",
       "      <td>996</td>\n",
       "      <td>44</td>\n",
       "      <td>1</td>\n",
       "      <td>9</td>\n",
       "      <td>3</td>\n",
       "      <td>1</td>\n",
       "      <td>2</td>\n",
       "      <td>0</td>\n",
       "    </tr>\n",
       "    <tr>\n",
       "      <th>996</th>\n",
       "      <td>997</td>\n",
       "      <td>6</td>\n",
       "      <td>2</td>\n",
       "      <td>5</td>\n",
       "      <td>2</td>\n",
       "      <td>1</td>\n",
       "      <td>1</td>\n",
       "      <td>0</td>\n",
       "    </tr>\n",
       "    <tr>\n",
       "      <th>997</th>\n",
       "      <td>998</td>\n",
       "      <td>29</td>\n",
       "      <td>3</td>\n",
       "      <td>1</td>\n",
       "      <td>3</td>\n",
       "      <td>4</td>\n",
       "      <td>2</td>\n",
       "      <td>0</td>\n",
       "    </tr>\n",
       "    <tr>\n",
       "      <th>998</th>\n",
       "      <td>999</td>\n",
       "      <td>92</td>\n",
       "      <td>2</td>\n",
       "      <td>7</td>\n",
       "      <td>1</td>\n",
       "      <td>2</td>\n",
       "      <td>4</td>\n",
       "      <td>1</td>\n",
       "    </tr>\n",
       "    <tr>\n",
       "      <th>999</th>\n",
       "      <td>1000</td>\n",
       "      <td>107</td>\n",
       "      <td>3</td>\n",
       "      <td>76</td>\n",
       "      <td>3</td>\n",
       "      <td>1</td>\n",
       "      <td>4</td>\n",
       "      <td>1</td>\n",
       "    </tr>\n",
       "  </tbody>\n",
       "</table>\n",
       "<p>1000 rows × 8 columns</p>\n",
       "</div>"
      ],
      "text/plain": [
       "     EmployeeID  TotalMonthsOfExp  TotalOrgsWorked  MonthsInOrg  \\\n",
       "0             1               110                4            9   \n",
       "1             2               103                3           51   \n",
       "2             3                41                4           16   \n",
       "3             4                32                4           17   \n",
       "4             5                80                3           16   \n",
       "..          ...               ...              ...          ...   \n",
       "995         996                44                1            9   \n",
       "996         997                 6                2            5   \n",
       "997         998                29                3            1   \n",
       "998         999                92                2            7   \n",
       "999        1000               107                3           76   \n",
       "\n",
       "     LastPayIncrementBand  AverageFeedback  LastPromotionYears  Attrition  \n",
       "0                       5                4                   4          1  \n",
       "1                       1                4                   2          0  \n",
       "2                       5                4                   4          1  \n",
       "3                       5                2                   3          0  \n",
       "4                       3                4                   2          0  \n",
       "..                    ...              ...                 ...        ...  \n",
       "995                     3                1                   2          0  \n",
       "996                     2                1                   1          0  \n",
       "997                     3                4                   2          0  \n",
       "998                     1                2                   4          1  \n",
       "999                     3                1                   4          1  \n",
       "\n",
       "[1000 rows x 8 columns]"
      ]
     },
     "execution_count": 4,
     "metadata": {},
     "output_type": "execute_result"
    }
   ],
   "source": [
    "df"
   ]
  },
  {
   "cell_type": "code",
   "execution_count": 5,
   "metadata": {
    "colab": {
     "base_uri": "https://localhost:8080/"
    },
    "executionInfo": {
     "elapsed": 284,
     "status": "ok",
     "timestamp": 1655816608690,
     "user": {
      "displayName": "Роман Иванов",
      "userId": "11781047996542916843"
     },
     "user_tz": -180
    },
    "id": "D87zDT_99Peo",
    "outputId": "cb5f1520-f8ab-454e-edb8-17c37929645c"
   },
   "outputs": [
    {
     "name": "stdout",
     "output_type": "stream",
     "text": [
      "Размерность данных: количество строк - 1000, количество колонок - 8\n"
     ]
    }
   ],
   "source": [
    "print('Размерность данных: количество строк - {0}, количество колонок - {1}'.format(df.shape[0], df.shape[1]))"
   ]
  },
  {
   "cell_type": "markdown",
   "metadata": {
    "id": "dl6eOUa_A6wc"
   },
   "source": [
    "## **Визуализация наличия пропусков данных, Проверка дубликатов**"
   ]
  },
  {
   "cell_type": "code",
   "execution_count": 8,
   "metadata": {
    "colab": {
     "base_uri": "https://localhost:8080/",
     "height": 388
    },
    "executionInfo": {
     "elapsed": 311,
     "status": "ok",
     "timestamp": 1655816614378,
     "user": {
      "displayName": "Роман Иванов",
      "userId": "11781047996542916843"
     },
     "user_tz": -180
    },
    "id": "f79ciqWVBA0S",
    "outputId": "e8c7ea8f-19a9-4aa3-8d30-0af3a63ee7b6"
   },
   "outputs": [
    {
     "data": {
      "text/plain": [
       "<AxesSubplot:>"
      ]
     },
     "execution_count": 8,
     "metadata": {},
     "output_type": "execute_result"
    },
    {
     "data": {
      "image/png": "[encoded data removed]",
      "text/plain": [
       "<Figure size 432x288 with 1 Axes>"
      ]
     },
     "metadata": {
      "needs_background": "light"
     },
     "output_type": "display_data"
    }
   ],
   "source": [
    "sns.heatmap(df.isnull(),yticklabels=False,cbar=False,cmap='viridis')"
   ]
  },
  {
   "cell_type": "code",
   "execution_count": 9,
   "metadata": {
    "colab": {
     "base_uri": "https://localhost:8080/"
    },
    "executionInfo": {
     "elapsed": 11,
     "status": "ok",
     "timestamp": 1655816614722,
     "user": {
      "displayName": "Роман Иванов",
      "userId": "11781047996542916843"
     },
     "user_tz": -180
    },
    "id": "rWPqckW4CFP0",
    "outputId": "835deec5-40ef-4db5-d45b-5b5fd21e2d92"
   },
   "outputs": [
    {
     "name": "stdout",
     "output_type": "stream",
     "text": [
      "<class 'pandas.core.frame.DataFrame'>\n",
      "RangeIndex: 1000 entries, 0 to 999\n",
      "Data columns (total 8 columns):\n",
      " #   Column                Non-Null Count  Dtype\n",
      "---  ------                --------------  -----\n",
      " 0   EmployeeID            1000 non-null   int64\n",
      " 1   TotalMonthsOfExp      1000 non-null   int64\n",
      " 2   TotalOrgsWorked       1000 non-null   int64\n",
      " 3   MonthsInOrg           1000 non-null   int64\n",
      " 4   LastPayIncrementBand  1000 non-null   int64\n",
      " 5   AverageFeedback       1000 non-null   int64\n",
      " 6   LastPromotionYears    1000 non-null   int64\n",
      " 7   Attrition             1000 non-null   int64\n",
      "dtypes: int64(8)\n",
      "memory usage: 62.6 KB\n"
     ]
    }
   ],
   "source": [
    "df.info()"
   ]
  },
  {
   "cell_type": "markdown",
   "metadata": {
    "id": "ZNOkRWzQCYPY"
   },
   "source": [
    "**Пропуски данных отсутствуют**"
   ]
  },
  {
   "cell_type": "code",
   "execution_count": 10,
   "metadata": {
    "colab": {
     "base_uri": "https://localhost:8080/"
    },
    "executionInfo": {
     "elapsed": 299,
     "status": "ok",
     "timestamp": 1655816643779,
     "user": {
      "displayName": "Роман Иванов",
      "userId": "11781047996542916843"
     },
     "user_tz": -180
    },
    "id": "zDQXRcyaAR4P",
    "outputId": "305aa5e5-b370-4f96-f7c7-11439ed31b86"
   },
   "outputs": [
    {
     "data": {
      "text/plain": [
       "0"
      ]
     },
     "execution_count": 10,
     "metadata": {},
     "output_type": "execute_result"
    }
   ],
   "source": [
    "df.duplicated().sum()"
   ]
  },
  {
   "cell_type": "markdown",
   "metadata": {
    "id": "q9Z3M_cEJCJy"
   },
   "source": [
    "**Дублирующиеся значения отсутствуют**"
   ]
  },
  {
   "cell_type": "markdown",
   "metadata": {
    "id": "RG5MPz9dKwu1"
   },
   "source": [
    "## Посмотрим основную статистику."
   ]
  },
  {
   "cell_type": "code",
   "execution_count": 11,
   "metadata": {
    "colab": {
     "base_uri": "https://localhost:8080/",
     "height": 300
    },
    "executionInfo": {
     "elapsed": 287,
     "status": "ok",
     "timestamp": 1655729456240,
     "user": {
      "displayName": "Роман Иванов",
      "userId": "11781047996542916843"
     },
     "user_tz": -180
    },
    "id": "yuG2vrvKKk7b",
    "outputId": "7fdb1882-fda6-414b-934c-dff742504906"
   },
   "outputs": [
    {
     "data": {
      "text/html": [
       "<div>\n",
       "<style scoped>\n",
       "    .dataframe tbody tr th:only-of-type {\n",
       "        vertical-align: middle;\n",
       "    }\n",
       "\n",
       "    .dataframe tbody tr th {\n",
       "        vertical-align: top;\n",
       "    }\n",
       "\n",
       "    .dataframe thead th {\n",
       "        text-align: right;\n",
       "    }\n",
       "</style>\n",
       "<table border=\"1\" class=\"dataframe\">\n",
       "  <thead>\n",
       "    <tr style=\"text-align: right;\">\n",
       "      <th></th>\n",
       "      <th>EmployeeID</th>\n",
       "      <th>TotalMonthsOfExp</th>\n",
       "      <th>TotalOrgsWorked</th>\n",
       "      <th>MonthsInOrg</th>\n",
       "      <th>LastPayIncrementBand</th>\n",
       "      <th>AverageFeedback</th>\n",
       "      <th>LastPromotionYears</th>\n",
       "      <th>Attrition</th>\n",
       "    </tr>\n",
       "  </thead>\n",
       "  <tbody>\n",
       "    <tr>\n",
       "      <th>count</th>\n",
       "      <td>1000.000000</td>\n",
       "      <td>1000.000000</td>\n",
       "      <td>1000.000000</td>\n",
       "      <td>1000.000000</td>\n",
       "      <td>1000.000000</td>\n",
       "      <td>1000.000000</td>\n",
       "      <td>1000.00000</td>\n",
       "      <td>1000.000000</td>\n",
       "    </tr>\n",
       "    <tr>\n",
       "      <th>mean</th>\n",
       "      <td>500.500000</td>\n",
       "      <td>61.002000</td>\n",
       "      <td>3.056000</td>\n",
       "      <td>31.000000</td>\n",
       "      <td>3.063000</td>\n",
       "      <td>2.539000</td>\n",
       "      <td>2.45400</td>\n",
       "      <td>0.230000</td>\n",
       "    </tr>\n",
       "    <tr>\n",
       "      <th>std</th>\n",
       "      <td>288.819436</td>\n",
       "      <td>34.818132</td>\n",
       "      <td>1.398148</td>\n",
       "      <td>26.783341</td>\n",
       "      <td>1.413162</td>\n",
       "      <td>1.143585</td>\n",
       "      <td>1.10413</td>\n",
       "      <td>0.421043</td>\n",
       "    </tr>\n",
       "    <tr>\n",
       "      <th>min</th>\n",
       "      <td>1.000000</td>\n",
       "      <td>1.000000</td>\n",
       "      <td>1.000000</td>\n",
       "      <td>0.000000</td>\n",
       "      <td>1.000000</td>\n",
       "      <td>1.000000</td>\n",
       "      <td>1.00000</td>\n",
       "      <td>0.000000</td>\n",
       "    </tr>\n",
       "    <tr>\n",
       "      <th>25%</th>\n",
       "      <td>250.750000</td>\n",
       "      <td>31.000000</td>\n",
       "      <td>2.000000</td>\n",
       "      <td>9.000000</td>\n",
       "      <td>2.000000</td>\n",
       "      <td>1.000000</td>\n",
       "      <td>1.00000</td>\n",
       "      <td>0.000000</td>\n",
       "    </tr>\n",
       "    <tr>\n",
       "      <th>50%</th>\n",
       "      <td>500.500000</td>\n",
       "      <td>61.000000</td>\n",
       "      <td>3.000000</td>\n",
       "      <td>23.000000</td>\n",
       "      <td>3.000000</td>\n",
       "      <td>3.000000</td>\n",
       "      <td>2.00000</td>\n",
       "      <td>0.000000</td>\n",
       "    </tr>\n",
       "    <tr>\n",
       "      <th>75%</th>\n",
       "      <td>750.250000</td>\n",
       "      <td>91.250000</td>\n",
       "      <td>4.000000</td>\n",
       "      <td>48.000000</td>\n",
       "      <td>4.000000</td>\n",
       "      <td>4.000000</td>\n",
       "      <td>3.00000</td>\n",
       "      <td>0.000000</td>\n",
       "    </tr>\n",
       "    <tr>\n",
       "      <th>max</th>\n",
       "      <td>1000.000000</td>\n",
       "      <td>120.000000</td>\n",
       "      <td>5.000000</td>\n",
       "      <td>116.000000</td>\n",
       "      <td>5.000000</td>\n",
       "      <td>4.000000</td>\n",
       "      <td>4.00000</td>\n",
       "      <td>1.000000</td>\n",
       "    </tr>\n",
       "  </tbody>\n",
       "</table>\n",
       "</div>"
      ],
      "text/plain": [
       "        EmployeeID  TotalMonthsOfExp  TotalOrgsWorked  MonthsInOrg  \\\n",
       "count  1000.000000       1000.000000      1000.000000  1000.000000   \n",
       "mean    500.500000         61.002000         3.056000    31.000000   \n",
       "std     288.819436         34.818132         1.398148    26.783341   \n",
       "min       1.000000          1.000000         1.000000     0.000000   \n",
       "25%     250.750000         31.000000         2.000000     9.000000   \n",
       "50%     500.500000         61.000000         3.000000    23.000000   \n",
       "75%     750.250000         91.250000         4.000000    48.000000   \n",
       "max    1000.000000        120.000000         5.000000   116.000000   \n",
       "\n",
       "       LastPayIncrementBand  AverageFeedback  LastPromotionYears    Attrition  \n",
       "count           1000.000000      1000.000000          1000.00000  1000.000000  \n",
       "mean               3.063000         2.539000             2.45400     0.230000  \n",
       "std                1.413162         1.143585             1.10413     0.421043  \n",
       "min                1.000000         1.000000             1.00000     0.000000  \n",
       "25%                2.000000         1.000000             1.00000     0.000000  \n",
       "50%                3.000000         3.000000             2.00000     0.000000  \n",
       "75%                4.000000         4.000000             3.00000     0.000000  \n",
       "max                5.000000         4.000000             4.00000     1.000000  "
      ]
     },
     "execution_count": 11,
     "metadata": {},
     "output_type": "execute_result"
    }
   ],
   "source": [
    "df.describe()"
   ]
  },
  {
   "cell_type": "markdown",
   "metadata": {
    "id": "2j8iNT05K7eG"
   },
   "source": [
    "В среднем сотрудники имеют общий опыт работы 5 лет, из которых 2,5 в нашей организации.\n",
    "\n",
    "Максимальный стаж в организации - 9,5 лет, минимальный - 1 месяц.\n",
    "\n",
    "Средняя обратная связь распределена почти равномерно.\n"
   ]
  },
  {
   "cell_type": "markdown",
   "metadata": {
    "id": "g8BNqiforktd"
   },
   "source": [
    "# **Коэффициент корреляции - Построеное тепловой карты**"
   ]
  },
  {
   "cell_type": "code",
   "execution_count": 16,
   "metadata": {
    "colab": {
     "base_uri": "https://localhost:8080/",
     "height": 932
    },
    "executionInfo": {
     "elapsed": 1580,
     "status": "ok",
     "timestamp": 1655818599228,
     "user": {
      "displayName": "Роман Иванов",
      "userId": "11781047996542916843"
     },
     "user_tz": -180
    },
    "id": "pI0clmulrqWw",
    "outputId": "1e3bb753-3659-472b-97ca-3d992bce5e7b"
   },
   "outputs": [
    {
     "data": {
      "text/plain": [
       "<AxesSubplot:title={'center':'Попарная корреляция'}>"
      ]
     },
     "execution_count": 16,
     "metadata": {},
     "output_type": "execute_result"
    },
    {
     "data": {
      "image/png": "[encoded data removed]",
      "text/plain": [
       "<Figure size 1080x1080 with 2 Axes>"
      ]
     },
     "metadata": {},
     "output_type": "display_data"
    }
   ],
   "source": [
    "plt.title('Попарная корреляция', y = 1.05, size = 25)\n",
    "sns.set(rc={\"figure.figsize\": (15, 15)})\n",
    "sns.heatmap(df.corr(), annot = True,  fmt='.1g', vmax = 1.0, cmap = 'coolwarm', square= True, linewidths=1, linecolor='black')"
   ]
  },
  {
   "cell_type": "markdown",
   "metadata": {
    "id": "HnQNRN_OfCkt"
   },
   "source": [
    "Выведем отдельно корреляцию к целевому показетелю Attrition"
   ]
  },
  {
   "cell_type": "code",
   "execution_count": 17,
   "metadata": {
    "colab": {
     "base_uri": "https://localhost:8080/"
    },
    "executionInfo": {
     "elapsed": 294,
     "status": "ok",
     "timestamp": 1655818681308,
     "user": {
      "displayName": "Роман Иванов",
      "userId": "11781047996542916843"
     },
     "user_tz": -180
    },
    "id": "bQzNWRg-e9EZ",
    "outputId": "8cdcfc40-54af-454d-e20b-0b90296c6b04"
   },
   "outputs": [
    {
     "data": {
      "text/plain": [
       "EmployeeID             -0.036630\n",
       "TotalMonthsOfExp        0.019702\n",
       "TotalOrgsWorked         0.008706\n",
       "MonthsInOrg             0.012605\n",
       "LastPayIncrementBand    0.108528\n",
       "AverageFeedback        -0.008253\n",
       "LastPromotionYears      0.765641\n",
       "Attrition               1.000000\n",
       "Name: Attrition, dtype: float64"
      ]
     },
     "execution_count": 17,
     "metadata": {},
     "output_type": "execute_result"
    }
   ],
   "source": [
    "df.corr()['Attrition']"
   ]
  },
  {
   "cell_type": "markdown",
   "metadata": {
    "id": "YxbJ14ZmvzPi"
   },
   "source": [
    "**Вывод:**\n",
    "1. Прослеживается зависимость между общим стажем сотрудника и стажем его работы в организации;\n",
    "2. Параметр LastPromotionYears оказывает значительное влияние на отсев, что означает, что сотрудники уходят, когда не видят достаточного карьерного роста.\n",
    "\n"
   ]
  },
  {
   "cell_type": "markdown",
   "metadata": {
    "id": "hBeakc20y3Wi"
   },
   "source": [
    "# **Построение моделей**"
   ]
  },
  {
   "cell_type": "markdown",
   "metadata": {
    "id": "uj1nGwTDoPW6"
   },
   "source": [
    "Сохраняем отдельно целевые значения и отдельные данные без целевых значений."
   ]
  },
  {
   "cell_type": "code",
   "execution_count": 6,
   "metadata": {
    "executionInfo": {
     "elapsed": 294,
     "status": "ok",
     "timestamp": 1655894168432,
     "user": {
      "displayName": "Роман Иванов",
      "userId": "11781047996542916843"
     },
     "user_tz": -180
    },
    "id": "wMxWf-wEpGuY"
   },
   "outputs": [],
   "source": [
    "X = df.drop('Attrition', axis = 1)\n",
    "y = df['Attrition']"
   ]
  },
  {
   "cell_type": "markdown",
   "metadata": {
    "id": "pzI1MkzSAzh8"
   },
   "source": [
    "## **Построим простые модели**"
   ]
  },
  {
   "cell_type": "markdown",
   "metadata": {
    "id": "P96R657GpSWq"
   },
   "source": [
    "Разделение датасета на тренировочный (80%) и тестовый (20%) блоки, зададим параметр random_state."
   ]
  },
  {
   "cell_type": "code",
   "execution_count": 8,
   "metadata": {
    "executionInfo": {
     "elapsed": 228,
     "status": "ok",
     "timestamp": 1655894228519,
     "user": {
      "displayName": "Роман Иванов",
      "userId": "11781047996542916843"
     },
     "user_tz": -180
    },
    "id": "oaENdCaPrZSt"
   },
   "outputs": [],
   "source": [
    "X_train, X_test, y_train, y_test = train_test_split(X, y, test_size = 0.2, random_state = 42)"
   ]
  },
  {
   "cell_type": "code",
   "execution_count": 10,
   "metadata": {
    "colab": {
     "base_uri": "https://localhost:8080/"
    },
    "executionInfo": {
     "elapsed": 626,
     "status": "ok",
     "timestamp": 1655878511360,
     "user": {
      "displayName": "Роман Иванов",
      "userId": "11781047996542916843"
     },
     "user_tz": -180
    },
    "id": "m-Uo4wu0ioIw",
    "outputId": "394f2d28-e31d-42a0-a34b-b73334aba549"
   },
   "outputs": [
    {
     "name": "stdout",
     "output_type": "stream",
     "text": [
      "model: RandomForestClassifier()\n",
      "              precision    recall  f1-score   support\n",
      "\n",
      "           0       1.00      1.00      1.00       152\n",
      "           1       1.00      1.00      1.00        48\n",
      "\n",
      "    accuracy                           1.00       200\n",
      "   macro avg       1.00      1.00      1.00       200\n",
      "weighted avg       1.00      1.00      1.00       200\n",
      "\n",
      "------------------------------------------------------------ \n",
      "\n",
      "model: KNeighborsClassifier()\n",
      "              precision    recall  f1-score   support\n",
      "\n",
      "           0       0.76      0.88      0.81       152\n",
      "           1       0.22      0.10      0.14        48\n",
      "\n",
      "    accuracy                           0.69       200\n",
      "   macro avg       0.49      0.49      0.48       200\n",
      "weighted avg       0.63      0.69      0.65       200\n",
      "\n",
      "------------------------------------------------------------ \n",
      "\n",
      "model: SVC()\n",
      "              precision    recall  f1-score   support\n",
      "\n",
      "           0       0.76      1.00      0.86       152\n",
      "           1       1.00      0.00      0.00        48\n",
      "\n",
      "    accuracy                           0.76       200\n",
      "   macro avg       0.88      0.50      0.43       200\n",
      "weighted avg       0.82      0.76      0.66       200\n",
      "\n",
      "------------------------------------------------------------ \n",
      "\n",
      "model: LogisticRegression()\n",
      "              precision    recall  f1-score   support\n",
      "\n",
      "           0       1.00      1.00      1.00       152\n",
      "           1       1.00      1.00      1.00        48\n",
      "\n",
      "    accuracy                           1.00       200\n",
      "   macro avg       1.00      1.00      1.00       200\n",
      "weighted avg       1.00      1.00      1.00       200\n",
      "\n",
      "------------------------------------------------------------ \n",
      "\n"
     ]
    },
    {
     "name": "stderr",
     "output_type": "stream",
     "text": [
      "/usr/local/lib/python3.7/dist-packages/sklearn/linear_model/_logistic.py:818: ConvergenceWarning: lbfgs failed to converge (status=1):\n",
      "STOP: TOTAL NO. of ITERATIONS REACHED LIMIT.\n",
      "\n",
      "Increase the number of iterations (max_iter) or scale the data as shown in:\n",
      "    https://scikit-learn.org/stable/modules/preprocessing.html\n",
      "Please also refer to the documentation for alternative solver options:\n",
      "    https://scikit-learn.org/stable/modules/linear_model.html#logistic-regression\n",
      "  extra_warning_msg=_LOGISTIC_SOLVER_CONVERGENCE_MSG,\n"
     ]
    },
    {
     "name": "stdout",
     "output_type": "stream",
     "text": [
      "model: XGBClassifier()\n",
      "              precision    recall  f1-score   support\n",
      "\n",
      "           0       1.00      1.00      1.00       152\n",
      "           1       1.00      1.00      1.00        48\n",
      "\n",
      "    accuracy                           1.00       200\n",
      "   macro avg       1.00      1.00      1.00       200\n",
      "weighted avg       1.00      1.00      1.00       200\n",
      "\n",
      "------------------------------------------------------------ \n",
      "\n"
     ]
    }
   ],
   "source": [
    "models = [RandomForestClassifier(), KNeighborsClassifier(), SVC(), LogisticRegression(),xgb.XGBClassifier()]\n",
    "scores = dict()\n",
    "\n",
    "for m in models:\n",
    "    m.fit(X_train, y_train)\n",
    "    y_pred = m.predict(X_test)\n",
    "\n",
    "    print(f'model: {str(m)}')\n",
    "    print(classification_report(y_test,y_pred, zero_division=1))\n",
    "    print('-'*60, '\\n')"
   ]
  },
  {
   "cell_type": "markdown",
   "metadata": {
    "id": "clhihJUjA8KY"
   },
   "source": [
    "**RandomForestClassifier хорошо себя показал.**"
   ]
  },
  {
   "cell_type": "code",
   "execution_count": 16,
   "metadata": {
    "colab": {
     "base_uri": "https://localhost:8080/"
    },
    "executionInfo": {
     "elapsed": 755,
     "status": "ok",
     "timestamp": 1655879027797,
     "user": {
      "displayName": "Роман Иванов",
      "userId": "11781047996542916843"
     },
     "user_tz": -180
    },
    "id": "7mECz9yuDY-E",
    "outputId": "aaa177ca-fe3d-42ee-d781-9345d5847c6d"
   },
   "outputs": [
    {
     "name": "stdout",
     "output_type": "stream",
     "text": [
      "              precision    recall  f1-score   support\n",
      "\n",
      "           0       1.00      1.00      1.00       152\n",
      "           1       1.00      1.00      1.00        48\n",
      "\n",
      "    accuracy                           1.00       200\n",
      "   macro avg       1.00      1.00      1.00       200\n",
      "weighted avg       1.00      1.00      1.00       200\n",
      "\n"
     ]
    }
   ],
   "source": [
    "model=RandomForestClassifier()\n",
    "model.fit(X_train, y_train)\n",
    "y_pred = model.predict(X_test)\n",
    "print(classification_report(y_test,y_pred, zero_division=1))"
   ]
  },
  {
   "cell_type": "markdown",
   "metadata": {
    "id": "Ixl51Z7IBFRQ"
   },
   "source": [
    "**Посмотрим, как распределены веса.**"
   ]
  },
  {
   "cell_type": "code",
   "execution_count": 17,
   "metadata": {
    "colab": {
     "base_uri": "https://localhost:8080/",
     "height": 269
    },
    "executionInfo": {
     "elapsed": 323,
     "status": "ok",
     "timestamp": 1655879033577,
     "user": {
      "displayName": "Роман Иванов",
      "userId": "11781047996542916843"
     },
     "user_tz": -180
    },
    "id": "TJH7uCRaioLS",
    "outputId": "0cbf800b-5767-4c98-cc17-d59385990837"
   },
   "outputs": [
    {
     "data": {
      "text/html": [
       "\n",
       "  <div id=\"df-32053f68-136c-4ed9-8145-81a43c758f89\">\n",
       "    <div class=\"colab-df-container\">\n",
       "      <div>\n",
       "<style scoped>\n",
       "    .dataframe tbody tr th:only-of-type {\n",
       "        vertical-align: middle;\n",
       "    }\n",
       "\n",
       "    .dataframe tbody tr th {\n",
       "        vertical-align: top;\n",
       "    }\n",
       "\n",
       "    .dataframe thead th {\n",
       "        text-align: right;\n",
       "    }\n",
       "</style>\n",
       "<table border=\"1\" class=\"dataframe\">\n",
       "  <thead>\n",
       "    <tr style=\"text-align: right;\">\n",
       "      <th></th>\n",
       "      <th>features</th>\n",
       "      <th>feature_importances</th>\n",
       "    </tr>\n",
       "  </thead>\n",
       "  <tbody>\n",
       "    <tr>\n",
       "      <th>6</th>\n",
       "      <td>LastPromotionYears</td>\n",
       "      <td>0.898268</td>\n",
       "    </tr>\n",
       "    <tr>\n",
       "      <th>0</th>\n",
       "      <td>EmployeeID</td>\n",
       "      <td>0.030719</td>\n",
       "    </tr>\n",
       "    <tr>\n",
       "      <th>3</th>\n",
       "      <td>MonthsInOrg</td>\n",
       "      <td>0.022972</td>\n",
       "    </tr>\n",
       "    <tr>\n",
       "      <th>1</th>\n",
       "      <td>TotalMonthsOfExp</td>\n",
       "      <td>0.022073</td>\n",
       "    </tr>\n",
       "    <tr>\n",
       "      <th>4</th>\n",
       "      <td>LastPayIncrementBand</td>\n",
       "      <td>0.012957</td>\n",
       "    </tr>\n",
       "    <tr>\n",
       "      <th>2</th>\n",
       "      <td>TotalOrgsWorked</td>\n",
       "      <td>0.006827</td>\n",
       "    </tr>\n",
       "    <tr>\n",
       "      <th>5</th>\n",
       "      <td>AverageFeedback</td>\n",
       "      <td>0.006184</td>\n",
       "    </tr>\n",
       "  </tbody>\n",
       "</table>\n",
       "</div>\n",
       "      <button class=\"colab-df-convert\" onclick=\"convertToInteractive('df-32053f68-136c-4ed9-8145-81a43c758f89')\"\n",
       "              title=\"Convert this dataframe to an interactive table.\"\n",
       "              style=\"display:none;\">\n",
       "        \n",
       "  <svg xmlns=\"http://www.w3.org/2000/svg\" height=\"24px\"viewBox=\"0 0 24 24\"\n",
       "       width=\"24px\">\n",
       "    <path d=\"M0 0h24v24H0V0z\" fill=\"none\"/>\n",
       "    <path d=\"M18.56 5.44l.94 2.06.94-2.06 2.06-.94-2.06-.94-.94-2.06-.94 2.06-2.06.94zm-11 1L8.5 8.5l.94-2.06 2.06-.94-2.06-.94L8.5 2.5l-.94 2.06-2.06.94zm10 10l.94 2.06.94-2.06 2.06-.94-2.06-.94-.94-2.06-.94 2.06-2.06.94z\"/><path d=\"M17.41 7.96l-1.37-1.37c-.4-.4-.92-.59-1.43-.59-.52 0-1.04.2-1.43.59L10.3 9.45l-7.72 7.72c-.78.78-.78 2.05 0 2.83L4 21.41c.39.39.9.59 1.41.59.51 0 1.02-.2 1.41-.59l7.78-7.78 2.81-2.81c.8-.78.8-2.07 0-2.86zM5.41 20L4 18.59l7.72-7.72 1.47 1.35L5.41 20z\"/>\n",
       "  </svg>\n",
       "      </button>\n",
       "      \n",
       "  <style>\n",
       "    .colab-df-container {\n",
       "      display:flex;\n",
       "      flex-wrap:wrap;\n",
       "      gap: 12px;\n",
       "    }\n",
       "\n",
       "    .colab-df-convert {\n",
       "      background-color: #E8F0FE;\n",
       "      border: none;\n",
       "      border-radius: 50%;\n",
       "      cursor: pointer;\n",
       "      display: none;\n",
       "      fill: #1967D2;\n",
       "      height: 32px;\n",
       "      padding: 0 0 0 0;\n",
       "      width: 32px;\n",
       "    }\n",
       "\n",
       "    .colab-df-convert:hover {\n",
       "      background-color: #E2EBFA;\n",
       "      box-shadow: 0px 1px 2px rgba(60, 64, 67, 0.3), 0px 1px 3px 1px rgba(60, 64, 67, 0.15);\n",
       "      fill: #174EA6;\n",
       "    }\n",
       "\n",
       "    [theme=dark] .colab-df-convert {\n",
       "      background-color: #3B4455;\n",
       "      fill: #D2E3FC;\n",
       "    }\n",
       "\n",
       "    [theme=dark] .colab-df-convert:hover {\n",
       "      background-color: #434B5C;\n",
       "      box-shadow: 0px 1px 3px 1px rgba(0, 0, 0, 0.15);\n",
       "      filter: drop-shadow(0px 1px 2px rgba(0, 0, 0, 0.3));\n",
       "      fill: #FFFFFF;\n",
       "    }\n",
       "  </style>\n",
       "\n",
       "      <script>\n",
       "        const buttonEl =\n",
       "          document.querySelector('#df-32053f68-136c-4ed9-8145-81a43c758f89 button.colab-df-convert');\n",
       "        buttonEl.style.display =\n",
       "          google.colab.kernel.accessAllowed ? 'block' : 'none';\n",
       "\n",
       "        async function convertToInteractive(key) {\n",
       "          const element = document.querySelector('#df-32053f68-136c-4ed9-8145-81a43c758f89');\n",
       "          const dataTable =\n",
       "            await google.colab.kernel.invokeFunction('convertToInteractive',\n",
       "                                                     [key], {});\n",
       "          if (!dataTable) return;\n",
       "\n",
       "          const docLinkHtml = 'Like what you see? Visit the ' +\n",
       "            '<a target=\"_blank\" href=https://colab.research.google.com/notebooks/data_table.ipynb>data table notebook</a>'\n",
       "            + ' to learn more about interactive tables.';\n",
       "          element.innerHTML = '';\n",
       "          dataTable['output_type'] = 'display_data';\n",
       "          await google.colab.output.renderOutput(dataTable, element);\n",
       "          const docLink = document.createElement('div');\n",
       "          docLink.innerHTML = docLinkHtml;\n",
       "          element.appendChild(docLink);\n",
       "        }\n",
       "      </script>\n",
       "    </div>\n",
       "  </div>\n",
       "  "
      ],
      "text/plain": [
       "               features  feature_importances\n",
       "6    LastPromotionYears             0.898268\n",
       "0            EmployeeID             0.030719\n",
       "3           MonthsInOrg             0.022972\n",
       "1      TotalMonthsOfExp             0.022073\n",
       "4  LastPayIncrementBand             0.012957\n",
       "2       TotalOrgsWorked             0.006827\n",
       "5       AverageFeedback             0.006184"
      ]
     },
     "execution_count": 17,
     "metadata": {},
     "output_type": "execute_result"
    }
   ],
   "source": [
    "feature_importances=model.feature_importances_\n",
    "feature_importances_df=pd.DataFrame({'features':list(X_train), 'feature_importances':feature_importances})\n",
    "feature_importances_df=pd.DataFrame({'features':list(X_train), 'feature_importances':feature_importances})\n",
    "feature_importances_df.sort_values('feature_importances',ascending=False)"
   ]
  },
  {
   "cell_type": "markdown",
   "metadata": {
    "id": "W2JHpfByBNsv"
   },
   "source": [
    "**Как было видно на корреляционной карте, наиболее весомый вклад в решение работника уволиться вносит параметр LastPromotionYears.**"
   ]
  },
  {
   "cell_type": "markdown",
   "metadata": {
    "id": "Hxbapti0BiGP"
   },
   "source": [
    "## **Построим нейросеть**"
   ]
  },
  {
   "cell_type": "markdown",
   "metadata": {
    "id": "kpQyhEBWGr_d"
   },
   "source": [
    "Подготовим данные для работы с Keras."
   ]
  },
  {
   "cell_type": "code",
   "execution_count": 12,
   "metadata": {
    "colab": {
     "base_uri": "https://localhost:8080/"
    },
    "executionInfo": {
     "elapsed": 327,
     "status": "ok",
     "timestamp": 1655894293957,
     "user": {
      "displayName": "Роман Иванов",
      "userId": "11781047996542916843"
     },
     "user_tz": -180
    },
    "id": "AVcevLl1GsOQ",
    "outputId": "08a1169a-53f7-4a1f-cf97-03657e57c5b5"
   },
   "outputs": [
    {
     "name": "stdout",
     "output_type": "stream",
     "text": [
      "Размерность X_train: количество строк - 1000, количество колонок - 6\n",
      "Размерность Y_train: количество строк - 1000, количество колонок - 2\n"
     ]
    }
   ],
   "source": [
    "#Перевод Dataframe в numpy array\n",
    "np_df = df.to_numpy().astype(float)\n",
    "\n",
    "#Преобразуем датафрейм в массив\n",
    "np_df = df.to_numpy().astype(float)\n",
    "\n",
    "#Разделим данные\n",
    "X_train = np_df[:,1:7]\n",
    "Y_train=np_df[:,7]\n",
    "\n",
    "#Преобразуем Y_train в one-hot-encoding\n",
    "Y_train = tf.keras.utils.to_categorical(Y_train,2)\n",
    "\n",
    "print('Размерность X_train: количество строк - {0}, количество колонок - {1}'.format(X_train.shape[0], X_train.shape[1]))\n",
    "print('Размерность Y_train: количество строк - {0}, количество колонок - {1}'.format(Y_train.shape[0], Y_train.shape[1]))"
   ]
  },
  {
   "cell_type": "code",
   "execution_count": 13,
   "metadata": {
    "colab": {
     "base_uri": "https://localhost:8080/"
    },
    "executionInfo": {
     "elapsed": 9277,
     "status": "ok",
     "timestamp": 1655894307659,
     "user": {
      "displayName": "Роман Иванов",
      "userId": "11781047996542916843"
     },
     "user_tz": -180
    },
    "id": "Ixc8P1S4Ml-C",
    "outputId": "97288515-2810-4cde-d811-3103ad910b9b"
   },
   "outputs": [
    {
     "name": "stdout",
     "output_type": "stream",
     "text": [
      "Epoch 1/130\n",
      "8/8 [==============================] - 1s 32ms/step - loss: 0.8419 - accuracy: 0.6837 - val_loss: 0.8256 - val_accuracy: 0.5050\n",
      "Epoch 2/130\n",
      "8/8 [==============================] - 0s 6ms/step - loss: 0.6574 - accuracy: 0.7275 - val_loss: 0.7529 - val_accuracy: 0.5250\n",
      "Epoch 3/130\n",
      "8/8 [==============================] - 0s 6ms/step - loss: 0.5909 - accuracy: 0.7400 - val_loss: 0.4859 - val_accuracy: 0.8000\n",
      "Epoch 4/130\n",
      "8/8 [==============================] - 0s 7ms/step - loss: 0.4969 - accuracy: 0.8037 - val_loss: 0.4662 - val_accuracy: 0.8100\n",
      "Epoch 5/130\n",
      "8/8 [==============================] - 0s 7ms/step - loss: 0.4499 - accuracy: 0.8025 - val_loss: 0.4357 - val_accuracy: 0.8400\n",
      "Epoch 6/130\n",
      "8/8 [==============================] - 0s 6ms/step - loss: 0.4191 - accuracy: 0.8163 - val_loss: 0.4061 - val_accuracy: 0.8400\n",
      "Epoch 7/130\n",
      "8/8 [==============================] - 0s 7ms/step - loss: 0.3940 - accuracy: 0.8338 - val_loss: 0.3799 - val_accuracy: 0.8400\n",
      "Epoch 8/130\n",
      "8/8 [==============================] - 0s 7ms/step - loss: 0.3910 - accuracy: 0.8200 - val_loss: 0.3602 - val_accuracy: 0.8700\n",
      "Epoch 9/130\n",
      "8/8 [==============================] - 0s 7ms/step - loss: 0.3813 - accuracy: 0.8213 - val_loss: 0.3517 - val_accuracy: 0.8650\n",
      "Epoch 10/130\n",
      "8/8 [==============================] - 0s 6ms/step - loss: 0.3536 - accuracy: 0.8400 - val_loss: 0.3451 - val_accuracy: 0.8600\n",
      "Epoch 11/130\n",
      "8/8 [==============================] - 0s 7ms/step - loss: 0.3415 - accuracy: 0.8587 - val_loss: 0.3370 - val_accuracy: 0.8550\n",
      "Epoch 12/130\n",
      "8/8 [==============================] - 0s 6ms/step - loss: 0.3410 - accuracy: 0.8388 - val_loss: 0.3382 - val_accuracy: 0.8450\n",
      "Epoch 13/130\n",
      "8/8 [==============================] - 0s 7ms/step - loss: 0.3258 - accuracy: 0.8438 - val_loss: 0.3153 - val_accuracy: 0.8750\n",
      "Epoch 14/130\n",
      "8/8 [==============================] - 0s 6ms/step - loss: 0.3090 - accuracy: 0.8662 - val_loss: 0.3178 - val_accuracy: 0.8550\n",
      "Epoch 15/130\n",
      "8/8 [==============================] - 0s 8ms/step - loss: 0.3105 - accuracy: 0.8537 - val_loss: 0.3973 - val_accuracy: 0.8300\n",
      "Epoch 16/130\n",
      "8/8 [==============================] - 0s 7ms/step - loss: 0.3581 - accuracy: 0.8375 - val_loss: 0.4047 - val_accuracy: 0.8350\n",
      "Epoch 17/130\n",
      "8/8 [==============================] - 0s 7ms/step - loss: 0.3192 - accuracy: 0.8400 - val_loss: 0.2919 - val_accuracy: 0.8800\n",
      "Epoch 18/130\n",
      "8/8 [==============================] - 0s 6ms/step - loss: 0.2842 - accuracy: 0.8775 - val_loss: 0.2883 - val_accuracy: 0.8800\n",
      "Epoch 19/130\n",
      "8/8 [==============================] - 0s 6ms/step - loss: 0.2863 - accuracy: 0.8775 - val_loss: 0.2856 - val_accuracy: 0.8850\n",
      "Epoch 20/130\n",
      "8/8 [==============================] - 0s 6ms/step - loss: 0.3109 - accuracy: 0.8625 - val_loss: 0.3209 - val_accuracy: 0.8750\n",
      "Epoch 21/130\n",
      "8/8 [==============================] - 0s 6ms/step - loss: 0.3392 - accuracy: 0.8363 - val_loss: 0.2978 - val_accuracy: 0.8950\n",
      "Epoch 22/130\n",
      "8/8 [==============================] - 0s 6ms/step - loss: 0.2834 - accuracy: 0.8800 - val_loss: 0.2970 - val_accuracy: 0.8600\n",
      "Epoch 23/130\n",
      "8/8 [==============================] - 0s 6ms/step - loss: 0.2631 - accuracy: 0.8900 - val_loss: 0.2727 - val_accuracy: 0.9050\n",
      "Epoch 24/130\n",
      "8/8 [==============================] - 0s 6ms/step - loss: 0.2547 - accuracy: 0.9025 - val_loss: 0.2641 - val_accuracy: 0.9100\n",
      "Epoch 25/130\n",
      "8/8 [==============================] - 0s 6ms/step - loss: 0.2539 - accuracy: 0.8913 - val_loss: 0.2637 - val_accuracy: 0.8800\n",
      "Epoch 26/130\n",
      "8/8 [==============================] - 0s 7ms/step - loss: 0.2631 - accuracy: 0.8900 - val_loss: 0.2757 - val_accuracy: 0.8800\n",
      "Epoch 27/130\n",
      "8/8 [==============================] - 0s 6ms/step - loss: 0.2542 - accuracy: 0.8863 - val_loss: 0.3070 - val_accuracy: 0.8800\n",
      "Epoch 28/130\n",
      "8/8 [==============================] - 0s 7ms/step - loss: 0.3027 - accuracy: 0.8650 - val_loss: 0.2587 - val_accuracy: 0.8800\n",
      "Epoch 29/130\n",
      "8/8 [==============================] - 0s 6ms/step - loss: 0.3093 - accuracy: 0.8662 - val_loss: 0.3637 - val_accuracy: 0.8500\n",
      "Epoch 30/130\n",
      "8/8 [==============================] - 0s 7ms/step - loss: 0.2924 - accuracy: 0.8750 - val_loss: 0.2672 - val_accuracy: 0.8800\n",
      "Epoch 31/130\n",
      "8/8 [==============================] - 0s 6ms/step - loss: 0.2600 - accuracy: 0.8925 - val_loss: 0.2477 - val_accuracy: 0.9050\n",
      "Epoch 32/130\n",
      "8/8 [==============================] - 0s 7ms/step - loss: 0.2294 - accuracy: 0.9075 - val_loss: 0.2469 - val_accuracy: 0.8900\n",
      "Epoch 33/130\n",
      "8/8 [==============================] - 0s 7ms/step - loss: 0.2348 - accuracy: 0.9038 - val_loss: 0.2327 - val_accuracy: 0.9100\n",
      "Epoch 34/130\n",
      "8/8 [==============================] - 0s 6ms/step - loss: 0.2388 - accuracy: 0.8988 - val_loss: 0.2762 - val_accuracy: 0.8600\n",
      "Epoch 35/130\n",
      "8/8 [==============================] - 0s 7ms/step - loss: 0.2400 - accuracy: 0.9000 - val_loss: 0.2378 - val_accuracy: 0.9150\n",
      "Epoch 36/130\n",
      "8/8 [==============================] - 0s 6ms/step - loss: 0.2264 - accuracy: 0.9112 - val_loss: 0.2258 - val_accuracy: 0.8950\n",
      "Epoch 37/130\n",
      "8/8 [==============================] - 0s 10ms/step - loss: 0.2098 - accuracy: 0.9150 - val_loss: 0.2441 - val_accuracy: 0.8700\n",
      "Epoch 38/130\n",
      "8/8 [==============================] - 0s 7ms/step - loss: 0.2105 - accuracy: 0.9112 - val_loss: 0.2445 - val_accuracy: 0.8900\n",
      "Epoch 39/130\n",
      "8/8 [==============================] - 0s 6ms/step - loss: 0.2079 - accuracy: 0.9150 - val_loss: 0.2474 - val_accuracy: 0.9100\n",
      "Epoch 40/130\n",
      "8/8 [==============================] - 0s 6ms/step - loss: 0.2417 - accuracy: 0.8938 - val_loss: 0.2280 - val_accuracy: 0.8900\n",
      "Epoch 41/130\n",
      "8/8 [==============================] - 0s 6ms/step - loss: 0.2320 - accuracy: 0.8925 - val_loss: 0.3529 - val_accuracy: 0.8400\n",
      "Epoch 42/130\n",
      "8/8 [==============================] - 0s 7ms/step - loss: 0.2660 - accuracy: 0.8800 - val_loss: 0.2576 - val_accuracy: 0.8800\n",
      "Epoch 43/130\n",
      "8/8 [==============================] - 0s 7ms/step - loss: 0.2766 - accuracy: 0.8788 - val_loss: 0.2431 - val_accuracy: 0.9150\n",
      "Epoch 44/130\n",
      "8/8 [==============================] - 0s 6ms/step - loss: 0.1990 - accuracy: 0.9250 - val_loss: 0.1951 - val_accuracy: 0.9300\n",
      "Epoch 45/130\n",
      "8/8 [==============================] - 0s 6ms/step - loss: 0.1826 - accuracy: 0.9438 - val_loss: 0.1925 - val_accuracy: 0.9200\n",
      "Epoch 46/130\n",
      "8/8 [==============================] - 0s 6ms/step - loss: 0.1764 - accuracy: 0.9388 - val_loss: 0.1875 - val_accuracy: 0.9350\n",
      "Epoch 47/130\n",
      "8/8 [==============================] - 0s 6ms/step - loss: 0.1759 - accuracy: 0.9463 - val_loss: 0.1861 - val_accuracy: 0.9300\n",
      "Epoch 48/130\n",
      "8/8 [==============================] - 0s 6ms/step - loss: 0.1845 - accuracy: 0.9262 - val_loss: 0.2186 - val_accuracy: 0.9100\n",
      "Epoch 49/130\n",
      "8/8 [==============================] - 0s 7ms/step - loss: 0.2055 - accuracy: 0.9112 - val_loss: 0.2200 - val_accuracy: 0.9200\n",
      "Epoch 50/130\n",
      "8/8 [==============================] - 0s 7ms/step - loss: 0.2048 - accuracy: 0.9162 - val_loss: 0.2533 - val_accuracy: 0.8650\n",
      "Epoch 51/130\n",
      "8/8 [==============================] - 0s 6ms/step - loss: 0.2317 - accuracy: 0.9050 - val_loss: 0.2202 - val_accuracy: 0.8800\n",
      "Epoch 52/130\n",
      "8/8 [==============================] - 0s 6ms/step - loss: 0.2256 - accuracy: 0.8963 - val_loss: 0.1937 - val_accuracy: 0.9250\n",
      "Epoch 53/130\n",
      "8/8 [==============================] - 0s 7ms/step - loss: 0.1816 - accuracy: 0.9262 - val_loss: 0.1976 - val_accuracy: 0.9200\n",
      "Epoch 54/130\n",
      "8/8 [==============================] - 0s 6ms/step - loss: 0.1710 - accuracy: 0.9362 - val_loss: 0.1696 - val_accuracy: 0.9400\n",
      "Epoch 55/130\n",
      "8/8 [==============================] - 0s 7ms/step - loss: 0.1595 - accuracy: 0.9463 - val_loss: 0.1731 - val_accuracy: 0.9400\n",
      "Epoch 56/130\n",
      "8/8 [==============================] - 0s 6ms/step - loss: 0.1685 - accuracy: 0.9362 - val_loss: 0.2054 - val_accuracy: 0.8900\n",
      "Epoch 57/130\n",
      "8/8 [==============================] - 0s 6ms/step - loss: 0.2097 - accuracy: 0.9112 - val_loss: 0.1898 - val_accuracy: 0.8950\n",
      "Epoch 58/130\n",
      "8/8 [==============================] - 0s 6ms/step - loss: 0.1611 - accuracy: 0.9400 - val_loss: 0.1688 - val_accuracy: 0.9400\n",
      "Epoch 59/130\n",
      "8/8 [==============================] - 0s 7ms/step - loss: 0.1598 - accuracy: 0.9400 - val_loss: 0.2199 - val_accuracy: 0.8850\n",
      "Epoch 60/130\n",
      "8/8 [==============================] - 0s 6ms/step - loss: 0.1557 - accuracy: 0.9475 - val_loss: 0.1567 - val_accuracy: 0.9450\n",
      "Epoch 61/130\n",
      "8/8 [==============================] - 0s 6ms/step - loss: 0.1542 - accuracy: 0.9463 - val_loss: 0.1513 - val_accuracy: 0.9550\n",
      "Epoch 62/130\n",
      "8/8 [==============================] - 0s 7ms/step - loss: 0.1378 - accuracy: 0.9538 - val_loss: 0.1428 - val_accuracy: 0.9550\n",
      "Epoch 63/130\n",
      "8/8 [==============================] - 0s 6ms/step - loss: 0.1360 - accuracy: 0.9613 - val_loss: 0.1489 - val_accuracy: 0.9400\n",
      "Epoch 64/130\n",
      "8/8 [==============================] - 0s 6ms/step - loss: 0.1348 - accuracy: 0.9575 - val_loss: 0.1426 - val_accuracy: 0.9300\n",
      "Epoch 65/130\n",
      "8/8 [==============================] - 0s 6ms/step - loss: 0.1325 - accuracy: 0.9625 - val_loss: 0.1436 - val_accuracy: 0.9550\n",
      "Epoch 66/130\n",
      "8/8 [==============================] - 0s 6ms/step - loss: 0.1252 - accuracy: 0.9650 - val_loss: 0.1424 - val_accuracy: 0.9350\n",
      "Epoch 67/130\n",
      "8/8 [==============================] - 0s 8ms/step - loss: 0.1263 - accuracy: 0.9625 - val_loss: 0.1382 - val_accuracy: 0.9500\n",
      "Epoch 68/130\n",
      "8/8 [==============================] - 0s 6ms/step - loss: 0.1377 - accuracy: 0.9525 - val_loss: 0.1626 - val_accuracy: 0.9250\n",
      "Epoch 69/130\n",
      "8/8 [==============================] - 0s 6ms/step - loss: 0.1331 - accuracy: 0.9550 - val_loss: 0.1289 - val_accuracy: 0.9600\n",
      "Epoch 70/130\n",
      "8/8 [==============================] - 0s 7ms/step - loss: 0.1253 - accuracy: 0.9600 - val_loss: 0.1518 - val_accuracy: 0.9300\n",
      "Epoch 71/130\n",
      "8/8 [==============================] - 0s 6ms/step - loss: 0.1150 - accuracy: 0.9688 - val_loss: 0.1273 - val_accuracy: 0.9600\n",
      "Epoch 72/130\n",
      "8/8 [==============================] - 0s 7ms/step - loss: 0.1095 - accuracy: 0.9787 - val_loss: 0.1259 - val_accuracy: 0.9600\n",
      "Epoch 73/130\n",
      "8/8 [==============================] - 0s 6ms/step - loss: 0.1056 - accuracy: 0.9762 - val_loss: 0.1349 - val_accuracy: 0.9500\n",
      "Epoch 74/130\n",
      "8/8 [==============================] - 0s 6ms/step - loss: 0.1164 - accuracy: 0.9663 - val_loss: 0.1237 - val_accuracy: 0.9700\n",
      "Epoch 75/130\n",
      "8/8 [==============================] - 0s 8ms/step - loss: 0.1070 - accuracy: 0.9762 - val_loss: 0.1097 - val_accuracy: 0.9850\n",
      "Epoch 76/130\n",
      "8/8 [==============================] - 0s 6ms/step - loss: 0.1031 - accuracy: 0.9862 - val_loss: 0.1127 - val_accuracy: 0.9900\n",
      "Epoch 77/130\n",
      "8/8 [==============================] - 0s 7ms/step - loss: 0.0983 - accuracy: 0.9850 - val_loss: 0.1125 - val_accuracy: 0.9850\n",
      "Epoch 78/130\n",
      "8/8 [==============================] - 0s 6ms/step - loss: 0.0997 - accuracy: 0.9837 - val_loss: 0.1220 - val_accuracy: 0.9650\n",
      "Epoch 79/130\n",
      "8/8 [==============================] - 0s 6ms/step - loss: 0.0986 - accuracy: 0.9862 - val_loss: 0.1102 - val_accuracy: 0.9750\n",
      "Epoch 80/130\n",
      "8/8 [==============================] - 0s 6ms/step - loss: 0.0940 - accuracy: 0.9812 - val_loss: 0.1033 - val_accuracy: 0.9900\n",
      "Epoch 81/130\n",
      "8/8 [==============================] - 0s 6ms/step - loss: 0.0900 - accuracy: 0.9925 - val_loss: 0.1023 - val_accuracy: 0.9800\n",
      "Epoch 82/130\n",
      "8/8 [==============================] - 0s 7ms/step - loss: 0.0917 - accuracy: 0.9825 - val_loss: 0.1169 - val_accuracy: 0.9750\n",
      "Epoch 83/130\n",
      "8/8 [==============================] - 0s 6ms/step - loss: 0.0918 - accuracy: 0.9850 - val_loss: 0.1184 - val_accuracy: 0.9550\n",
      "Epoch 84/130\n",
      "8/8 [==============================] - 0s 6ms/step - loss: 0.0810 - accuracy: 0.9925 - val_loss: 0.1233 - val_accuracy: 0.9600\n",
      "Epoch 85/130\n",
      "8/8 [==============================] - 0s 7ms/step - loss: 0.0821 - accuracy: 0.9887 - val_loss: 0.0991 - val_accuracy: 0.9850\n",
      "Epoch 86/130\n",
      "8/8 [==============================] - 0s 6ms/step - loss: 0.0877 - accuracy: 0.9850 - val_loss: 0.1169 - val_accuracy: 0.9650\n",
      "Epoch 87/130\n",
      "8/8 [==============================] - 0s 5ms/step - loss: 0.0847 - accuracy: 0.9875 - val_loss: 0.1032 - val_accuracy: 0.9900\n",
      "Epoch 88/130\n",
      "8/8 [==============================] - 0s 6ms/step - loss: 0.0823 - accuracy: 0.9862 - val_loss: 0.0979 - val_accuracy: 0.9800\n",
      "Epoch 89/130\n",
      "8/8 [==============================] - 0s 5ms/step - loss: 0.0831 - accuracy: 0.9850 - val_loss: 0.1100 - val_accuracy: 0.9700\n",
      "Epoch 90/130\n",
      "8/8 [==============================] - 0s 6ms/step - loss: 0.0805 - accuracy: 0.9875 - val_loss: 0.0829 - val_accuracy: 0.9900\n",
      "Epoch 91/130\n",
      "8/8 [==============================] - 0s 6ms/step - loss: 0.0743 - accuracy: 0.9875 - val_loss: 0.0957 - val_accuracy: 0.9800\n",
      "Epoch 92/130\n",
      "8/8 [==============================] - 0s 6ms/step - loss: 0.0743 - accuracy: 0.9887 - val_loss: 0.1053 - val_accuracy: 0.9750\n",
      "Epoch 93/130\n",
      "8/8 [==============================] - 0s 6ms/step - loss: 0.0744 - accuracy: 0.9912 - val_loss: 0.1204 - val_accuracy: 0.9650\n",
      "Epoch 94/130\n",
      "8/8 [==============================] - 0s 6ms/step - loss: 0.0914 - accuracy: 0.9700 - val_loss: 0.1274 - val_accuracy: 0.9400\n",
      "Epoch 95/130\n",
      "8/8 [==============================] - 0s 7ms/step - loss: 0.1100 - accuracy: 0.9563 - val_loss: 0.1976 - val_accuracy: 0.8950\n",
      "Epoch 96/130\n",
      "8/8 [==============================] - 0s 6ms/step - loss: 0.2068 - accuracy: 0.8975 - val_loss: 0.1172 - val_accuracy: 0.9550\n",
      "Epoch 97/130\n",
      "8/8 [==============================] - 0s 6ms/step - loss: 0.1490 - accuracy: 0.9388 - val_loss: 0.1781 - val_accuracy: 0.9200\n",
      "Epoch 98/130\n",
      "8/8 [==============================] - 0s 6ms/step - loss: 0.1055 - accuracy: 0.9675 - val_loss: 0.1174 - val_accuracy: 0.9450\n",
      "Epoch 99/130\n",
      "8/8 [==============================] - 0s 6ms/step - loss: 0.0807 - accuracy: 0.9775 - val_loss: 0.0865 - val_accuracy: 0.9800\n",
      "Epoch 100/130\n",
      "8/8 [==============================] - 0s 7ms/step - loss: 0.0710 - accuracy: 0.9875 - val_loss: 0.0791 - val_accuracy: 0.9950\n",
      "Epoch 101/130\n",
      "8/8 [==============================] - 0s 6ms/step - loss: 0.0620 - accuracy: 0.9950 - val_loss: 0.0776 - val_accuracy: 0.9950\n",
      "Epoch 102/130\n",
      "8/8 [==============================] - 0s 6ms/step - loss: 0.0608 - accuracy: 0.9962 - val_loss: 0.0768 - val_accuracy: 0.9850\n",
      "Epoch 103/130\n",
      "8/8 [==============================] - 0s 8ms/step - loss: 0.0561 - accuracy: 0.9962 - val_loss: 0.0724 - val_accuracy: 0.9950\n",
      "Epoch 104/130\n",
      "8/8 [==============================] - 0s 6ms/step - loss: 0.0552 - accuracy: 0.9975 - val_loss: 0.0692 - val_accuracy: 0.9950\n",
      "Epoch 105/130\n",
      "8/8 [==============================] - 0s 6ms/step - loss: 0.0535 - accuracy: 0.9987 - val_loss: 0.0788 - val_accuracy: 0.9950\n",
      "Epoch 106/130\n",
      "8/8 [==============================] - 0s 6ms/step - loss: 0.0503 - accuracy: 0.9987 - val_loss: 0.0719 - val_accuracy: 0.9950\n",
      "Epoch 107/130\n",
      "8/8 [==============================] - 0s 8ms/step - loss: 0.0516 - accuracy: 0.9975 - val_loss: 0.0634 - val_accuracy: 0.9950\n",
      "Epoch 108/130\n",
      "8/8 [==============================] - 0s 6ms/step - loss: 0.0521 - accuracy: 0.9975 - val_loss: 0.0654 - val_accuracy: 0.9950\n",
      "Epoch 109/130\n",
      "8/8 [==============================] - 0s 6ms/step - loss: 0.0473 - accuracy: 0.9975 - val_loss: 0.0698 - val_accuracy: 0.9950\n",
      "Epoch 110/130\n",
      "8/8 [==============================] - 0s 6ms/step - loss: 0.0468 - accuracy: 0.9987 - val_loss: 0.0924 - val_accuracy: 0.9700\n",
      "Epoch 111/130\n",
      "8/8 [==============================] - 0s 6ms/step - loss: 0.0774 - accuracy: 0.9787 - val_loss: 0.1507 - val_accuracy: 0.9100\n",
      "Epoch 112/130\n",
      "8/8 [==============================] - 0s 7ms/step - loss: 0.1360 - accuracy: 0.9400 - val_loss: 0.1674 - val_accuracy: 0.9300\n",
      "Epoch 113/130\n",
      "8/8 [==============================] - 0s 6ms/step - loss: 0.1027 - accuracy: 0.9588 - val_loss: 0.0820 - val_accuracy: 0.9800\n",
      "Epoch 114/130\n",
      "8/8 [==============================] - 0s 6ms/step - loss: 0.0792 - accuracy: 0.9737 - val_loss: 0.1872 - val_accuracy: 0.9100\n",
      "Epoch 115/130\n",
      "8/8 [==============================] - 0s 6ms/step - loss: 0.0832 - accuracy: 0.9725 - val_loss: 0.1057 - val_accuracy: 0.9650\n",
      "Epoch 116/130\n",
      "8/8 [==============================] - 0s 6ms/step - loss: 0.0892 - accuracy: 0.9712 - val_loss: 0.0818 - val_accuracy: 0.9900\n",
      "Epoch 117/130\n",
      "8/8 [==============================] - 0s 6ms/step - loss: 0.1227 - accuracy: 0.9538 - val_loss: 0.0534 - val_accuracy: 0.9950\n",
      "Epoch 118/130\n",
      "8/8 [==============================] - 0s 6ms/step - loss: 0.1088 - accuracy: 0.9575 - val_loss: 0.0945 - val_accuracy: 0.9750\n",
      "Epoch 119/130\n",
      "8/8 [==============================] - 0s 6ms/step - loss: 0.0954 - accuracy: 0.9613 - val_loss: 0.0681 - val_accuracy: 0.9950\n",
      "Epoch 120/130\n",
      "8/8 [==============================] - 0s 9ms/step - loss: 0.0865 - accuracy: 0.9700 - val_loss: 0.0670 - val_accuracy: 0.9850\n",
      "Epoch 121/130\n",
      "8/8 [==============================] - 0s 6ms/step - loss: 0.0600 - accuracy: 0.9887 - val_loss: 0.0933 - val_accuracy: 0.9600\n",
      "Epoch 122/130\n",
      "8/8 [==============================] - 0s 7ms/step - loss: 0.0465 - accuracy: 0.9937 - val_loss: 0.0601 - val_accuracy: 0.9850\n",
      "Epoch 123/130\n",
      "8/8 [==============================] - 0s 6ms/step - loss: 0.0418 - accuracy: 1.0000 - val_loss: 0.0694 - val_accuracy: 0.9900\n",
      "Epoch 124/130\n",
      "8/8 [==============================] - 0s 6ms/step - loss: 0.0370 - accuracy: 1.0000 - val_loss: 0.0499 - val_accuracy: 0.9950\n",
      "Epoch 125/130\n",
      "8/8 [==============================] - 0s 6ms/step - loss: 0.0381 - accuracy: 0.9987 - val_loss: 0.0567 - val_accuracy: 0.9950\n",
      "Epoch 126/130\n",
      "8/8 [==============================] - 0s 7ms/step - loss: 0.0386 - accuracy: 0.9987 - val_loss: 0.0481 - val_accuracy: 0.9950\n",
      "Epoch 127/130\n",
      "8/8 [==============================] - 0s 6ms/step - loss: 0.0335 - accuracy: 0.9987 - val_loss: 0.0548 - val_accuracy: 0.9950\n",
      "Epoch 128/130\n",
      "8/8 [==============================] - 0s 8ms/step - loss: 0.0347 - accuracy: 0.9987 - val_loss: 0.0511 - val_accuracy: 0.9950\n",
      "Epoch 129/130\n",
      "8/8 [==============================] - 0s 6ms/step - loss: 0.0335 - accuracy: 1.0000 - val_loss: 0.0634 - val_accuracy: 0.9850\n",
      "Epoch 130/130\n",
      "8/8 [==============================] - 0s 5ms/step - loss: 0.0366 - accuracy: 0.9975 - val_loss: 0.0461 - val_accuracy: 0.9950\n"
     ]
    },
    {
     "data": {
      "text/plain": [
       "<keras.callbacks.History at 0x7fbad2accb10>"
      ]
     },
     "execution_count": 13,
     "metadata": {},
     "output_type": "execute_result"
    }
   ],
   "source": [
    "from tensorflow import keras\n",
    "from tensorflow.keras import optimizers\n",
    "from tensorflow.keras.regularizers import l2\n",
    "\n",
    "#Гиперпараметры нейросети\n",
    "EPOCHS=130\n",
    "BATCH_SIZE=100\n",
    "VERBOSE=1\n",
    "NB_CLASSES=2\n",
    "N_HIDDEN=128\n",
    "VALIDATION_SPLIT=0.2\n",
    "\n",
    "#Создание модели\n",
    "model = tf.keras.models.Sequential()\n",
    "\n",
    "#Добавим превый скрытый слой\n",
    "model.add(keras.layers.Dense(N_HIDDEN,\n",
    "                             input_shape=(6,),\n",
    "                              name='Dense-Layer-1',\n",
    "                              activation='relu'))\n",
    "\n",
    "#Добавим второй скрытый слой\n",
    "model.add(keras.layers.Dense(N_HIDDEN,\n",
    "                              name='Dense-Layer-2',\n",
    "                              activation='relu'))\n",
    "\n",
    "#Добавим последний слой\n",
    "model.add(keras.layers.Dense(NB_CLASSES,\n",
    "                             name='Final',\n",
    "                             activation='softmax'))\n",
    "\n",
    "#Компиляция модели\n",
    "model.compile(optimizer='adam',\n",
    "              loss='categorical_crossentropy',\n",
    "              metrics=['accuracy'])\n",
    "\n",
    "#Обучение \n",
    "model.fit(X_train,\n",
    "          Y_train,\n",
    "          batch_size=BATCH_SIZE,\n",
    "          epochs=EPOCHS,\n",
    "          verbose=VERBOSE,\n",
    "          validation_split=VALIDATION_SPLIT)"
   ]
  },
  {
   "cell_type": "markdown",
   "metadata": {
    "id": "Sb3dSCnCCVuE"
   },
   "source": [
    "**Модель показывает точность 99,5% на валидационной выборке.**"
   ]
  },
  {
   "cell_type": "markdown",
   "metadata": {
    "id": "nuiUbZMJClvh"
   },
   "source": [
    "## Можно спрогнозировать увольнение сотрудника, задав параметры"
   ]
  },
  {
   "cell_type": "code",
   "execution_count": 18,
   "metadata": {
    "colab": {
     "base_uri": "https://localhost:8080/"
    },
    "executionInfo": {
     "elapsed": 277,
     "status": "ok",
     "timestamp": 1655894542192,
     "user": {
      "displayName": "Роман Иванов",
      "userId": "11781047996542916843"
     },
     "user_tz": -180
    },
    "id": "Jb5w-ormMmAd",
    "outputId": "e88f203b-392c-49be-83d4-22b3dd02bc9e"
   },
   "outputs": [
    {
     "name": "stdout",
     "output_type": "stream",
     "text": [
      "Прогноз: Работник пока будет работать\n"
     ]
    }
   ],
   "source": [
    "TotalMonthsOfExp=24\n",
    "TotalOrgsWorked=4\n",
    "MonthsInOrg=6\n",
    "LastPayIncrementBand=2\n",
    "AverageFeedback=4\n",
    "LastPromotionYears=1\n",
    "\n",
    "prediction= np.argmax(model.predict([[TotalMonthsOfExp,\n",
    "                                  TotalOrgsWorked,\n",
    "                                  MonthsInOrg,\n",
    "                                  LastPayIncrementBand,\n",
    "                                  AverageFeedback,\n",
    "                                  LastPromotionYears]]), axis=1)\n",
    "if prediction == 1:\n",
    "  conclusion = 'Сотрудник скоро уволится'\n",
    "else:\n",
    "  conclusion = 'Сотрудник пока будет работать'\n",
    "print('Прогноз:', conclusion)"
   ]
  }
 ],
 "metadata": {
  "colab": {
   "authorship_tag": "ABX9TyMgsgzphVKSdstpYLBA6qI/",
   "collapsed_sections": [
    "6NUv8vaq-RRj",
    "dl6eOUa_A6wc",
    "cJQ7R0c4AMa8",
    "C4EoNty_C-Hh",
    "wVG3qIrgK-Fo",
    "y4TthcQ7gShn",
    "g8BNqiforktd",
    "LyfBpQNdwQkp",
    "_gW4-h8SxiSK",
    "8D-mTNmV0TFA",
    "68vxEnPkPlfU",
    "YsKo2Sg40qzg",
    "jPNBxSFh0_GH"
   ],
   "name": "Копия ВКР.ipynb",
   "provenance": []
  },
  "kernelspec": {
   "display_name": "Python 3 (ipykernel)",
   "language": "python",
   "name": "python3"
  },
  "language_info": {
   "codemirror_mode": {
    "name": "ipython",
    "version": 3
   },
   "file_extension": ".py",
   "mimetype": "text/x-python",
   "name": "python",
   "nbconvert_exporter": "python",
   "pygments_lexer": "ipython3",
   "version": "3.9.7"
  }
 },
 "nbformat": 4,
 "nbformat_minor": 1
}
