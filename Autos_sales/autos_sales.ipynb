{
  "cells": [
    {
      "cell_type": "markdown",
      "metadata": {
        "id": "zCUjevylatK7"
      },
      "source": [
        "# Определение стоимости автомобилей"
      ]
    },
    {
      "cell_type": "markdown",
      "metadata": {
        "id": "YhaC4USpatK7"
      },
      "source": [
        "Сервис по продаже автомобилей с пробегом «Не бит, не крашен» разрабатывает приложение для привлечения новых клиентов. В нём можно быстро узнать рыночную стоимость своего автомобиля. В вашем распоряжении исторические данные: технические характеристики, комплектации и цены автомобилей. Вам нужно построить модель для определения стоимости. \n",
        "\n",
        "Заказчику важны:\n",
        "\n",
        "- качество предсказания;\n",
        "- скорость предсказания;\n",
        "- время обучения."
      ]
    },
    {
      "cell_type": "markdown",
      "metadata": {
        "id": "jHmNNc-yatK8"
      },
      "source": [
        "**Описание данных**\n",
        "\n",
        "Данные находятся в файле /datasets/autos.csv.\n",
        "\n",
        "* DateCrawled — дата скачивания анкеты из базы\n",
        "* VehicleType — тип автомобильного кузова\n",
        "* RegistrationYear — год регистрации автомобиля\n",
        "* Gearbox — тип коробки передач\n",
        "* Power — мощность (л. с.)\n",
        "* Model — модель автомобиля\n",
        "* Kilometer — пробег (км)\n",
        "* RegistrationMonth — месяц регистрации автомобиля\n",
        "* FuelType — тип топлива\n",
        "* Brand — марка автомобиля\n",
        "* Repaired — была машина в ремонте или нет\n",
        "* DateCreated — дата создания анкеты\n",
        "* NumberOfPictures — количество фотографий автомобиля\n",
        "* PostalCode — почтовый индекс владельца анкеты (пользователя)\n",
        "* LastSeen — дата последней активности пользователя\n",
        "\n",
        "Целевой признак\n",
        "* Price — цена (евро)"
      ]
    },
    {
      "cell_type": "markdown",
      "metadata": {
        "id": "85NvhYaUatK_"
      },
      "source": [
        "## Подготовка данных"
      ]
    },
    {
      "cell_type": "code",
      "execution_count": null,
      "metadata": {
        "id": "MXzQaVxHatLA"
      },
      "outputs": [],
      "source": [
        "import pandas as pd\n",
        "import numpy as np\n",
        "\n",
        "import seaborn as sns\n",
        "import matplotlib.pyplot as plt\n",
        "\n",
        "from sklearn.model_selection import train_test_split\n",
        "\n",
        "from sklearn.preprocessing import StandardScaler\n",
        "from sklearn.preprocessing import OneHotEncoder\n",
        "from sklearn.preprocessing import OrdinalEncoder\n",
        "\n",
        "from sklearn.linear_model import LinearRegression\n",
        "from sklearn.linear_model import LogisticRegression\n",
        "from sklearn.ensemble import RandomForestRegressor\n",
        "\n",
        "import lightgbm as lgbm\n",
        "from catboost import CatBoostRegressor\n",
        "\n",
        "from sklearn.metrics import r2_score\n",
        "from sklearn.metrics import make_scorer\n",
        "from sklearn.metrics import mean_squared_error\n",
        "from sklearn.model_selection import cross_val_score\n",
        "    \n",
        "import time"
      ]
    },
    {
      "cell_type": "code",
      "execution_count": null,
      "metadata": {
        "id": "1PpIMuyyatLD"
      },
      "outputs": [],
      "source": [
        "try:\n",
        "    data = pd.read_csv('autos.csv')\n",
        "except:\n",
        "    try:\n",
        "        data  = pd.read_csv('/datasets/autos.csv')\n",
        "    except:\n",
        "        print('Ошибка. Проверьте путь к файлу')"
      ]
    },
    {
      "cell_type": "code",
      "execution_count": null,
      "metadata": {
        "id": "xwCDr5HpatLE",
        "outputId": "2dfa9e7f-79a2-4a6c-8ec1-f0c1f5db7c77"
      },
      "outputs": [
        {
          "data": {
            "text/html": [
              "<div>\n",
              "<style scoped>\n",
              "    .dataframe tbody tr th:only-of-type {\n",
              "        vertical-align: middle;\n",
              "    }\n",
              "\n",
              "    .dataframe tbody tr th {\n",
              "        vertical-align: top;\n",
              "    }\n",
              "\n",
              "    .dataframe thead th {\n",
              "        text-align: right;\n",
              "    }\n",
              "</style>\n",
              "<table border=\"1\" class=\"dataframe\">\n",
              "  <thead>\n",
              "    <tr style=\"text-align: right;\">\n",
              "      <th></th>\n",
              "      <th>DateCrawled</th>\n",
              "      <th>Price</th>\n",
              "      <th>VehicleType</th>\n",
              "      <th>RegistrationYear</th>\n",
              "      <th>Gearbox</th>\n",
              "      <th>Power</th>\n",
              "      <th>Model</th>\n",
              "      <th>Kilometer</th>\n",
              "      <th>RegistrationMonth</th>\n",
              "      <th>FuelType</th>\n",
              "      <th>Brand</th>\n",
              "      <th>Repaired</th>\n",
              "      <th>DateCreated</th>\n",
              "      <th>NumberOfPictures</th>\n",
              "      <th>PostalCode</th>\n",
              "      <th>LastSeen</th>\n",
              "    </tr>\n",
              "  </thead>\n",
              "  <tbody>\n",
              "    <tr>\n",
              "      <th>0</th>\n",
              "      <td>2016-03-24 11:52:17</td>\n",
              "      <td>480</td>\n",
              "      <td>NaN</td>\n",
              "      <td>1993</td>\n",
              "      <td>manual</td>\n",
              "      <td>0</td>\n",
              "      <td>golf</td>\n",
              "      <td>150000</td>\n",
              "      <td>0</td>\n",
              "      <td>petrol</td>\n",
              "      <td>volkswagen</td>\n",
              "      <td>NaN</td>\n",
              "      <td>2016-03-24 00:00:00</td>\n",
              "      <td>0</td>\n",
              "      <td>70435</td>\n",
              "      <td>2016-04-07 03:16:57</td>\n",
              "    </tr>\n",
              "    <tr>\n",
              "      <th>1</th>\n",
              "      <td>2016-03-24 10:58:45</td>\n",
              "      <td>18300</td>\n",
              "      <td>coupe</td>\n",
              "      <td>2011</td>\n",
              "      <td>manual</td>\n",
              "      <td>190</td>\n",
              "      <td>NaN</td>\n",
              "      <td>125000</td>\n",
              "      <td>5</td>\n",
              "      <td>gasoline</td>\n",
              "      <td>audi</td>\n",
              "      <td>yes</td>\n",
              "      <td>2016-03-24 00:00:00</td>\n",
              "      <td>0</td>\n",
              "      <td>66954</td>\n",
              "      <td>2016-04-07 01:46:50</td>\n",
              "    </tr>\n",
              "    <tr>\n",
              "      <th>2</th>\n",
              "      <td>2016-03-14 12:52:21</td>\n",
              "      <td>9800</td>\n",
              "      <td>suv</td>\n",
              "      <td>2004</td>\n",
              "      <td>auto</td>\n",
              "      <td>163</td>\n",
              "      <td>grand</td>\n",
              "      <td>125000</td>\n",
              "      <td>8</td>\n",
              "      <td>gasoline</td>\n",
              "      <td>jeep</td>\n",
              "      <td>NaN</td>\n",
              "      <td>2016-03-14 00:00:00</td>\n",
              "      <td>0</td>\n",
              "      <td>90480</td>\n",
              "      <td>2016-04-05 12:47:46</td>\n",
              "    </tr>\n",
              "    <tr>\n",
              "      <th>3</th>\n",
              "      <td>2016-03-17 16:54:04</td>\n",
              "      <td>1500</td>\n",
              "      <td>small</td>\n",
              "      <td>2001</td>\n",
              "      <td>manual</td>\n",
              "      <td>75</td>\n",
              "      <td>golf</td>\n",
              "      <td>150000</td>\n",
              "      <td>6</td>\n",
              "      <td>petrol</td>\n",
              "      <td>volkswagen</td>\n",
              "      <td>no</td>\n",
              "      <td>2016-03-17 00:00:00</td>\n",
              "      <td>0</td>\n",
              "      <td>91074</td>\n",
              "      <td>2016-03-17 17:40:17</td>\n",
              "    </tr>\n",
              "    <tr>\n",
              "      <th>4</th>\n",
              "      <td>2016-03-31 17:25:20</td>\n",
              "      <td>3600</td>\n",
              "      <td>small</td>\n",
              "      <td>2008</td>\n",
              "      <td>manual</td>\n",
              "      <td>69</td>\n",
              "      <td>fabia</td>\n",
              "      <td>90000</td>\n",
              "      <td>7</td>\n",
              "      <td>gasoline</td>\n",
              "      <td>skoda</td>\n",
              "      <td>no</td>\n",
              "      <td>2016-03-31 00:00:00</td>\n",
              "      <td>0</td>\n",
              "      <td>60437</td>\n",
              "      <td>2016-04-06 10:17:21</td>\n",
              "    </tr>\n",
              "    <tr>\n",
              "      <th>5</th>\n",
              "      <td>2016-04-04 17:36:23</td>\n",
              "      <td>650</td>\n",
              "      <td>sedan</td>\n",
              "      <td>1995</td>\n",
              "      <td>manual</td>\n",
              "      <td>102</td>\n",
              "      <td>3er</td>\n",
              "      <td>150000</td>\n",
              "      <td>10</td>\n",
              "      <td>petrol</td>\n",
              "      <td>bmw</td>\n",
              "      <td>yes</td>\n",
              "      <td>2016-04-04 00:00:00</td>\n",
              "      <td>0</td>\n",
              "      <td>33775</td>\n",
              "      <td>2016-04-06 19:17:07</td>\n",
              "    </tr>\n",
              "    <tr>\n",
              "      <th>6</th>\n",
              "      <td>2016-04-01 20:48:51</td>\n",
              "      <td>2200</td>\n",
              "      <td>convertible</td>\n",
              "      <td>2004</td>\n",
              "      <td>manual</td>\n",
              "      <td>109</td>\n",
              "      <td>2_reihe</td>\n",
              "      <td>150000</td>\n",
              "      <td>8</td>\n",
              "      <td>petrol</td>\n",
              "      <td>peugeot</td>\n",
              "      <td>no</td>\n",
              "      <td>2016-04-01 00:00:00</td>\n",
              "      <td>0</td>\n",
              "      <td>67112</td>\n",
              "      <td>2016-04-05 18:18:39</td>\n",
              "    </tr>\n",
              "    <tr>\n",
              "      <th>7</th>\n",
              "      <td>2016-03-21 18:54:38</td>\n",
              "      <td>0</td>\n",
              "      <td>sedan</td>\n",
              "      <td>1980</td>\n",
              "      <td>manual</td>\n",
              "      <td>50</td>\n",
              "      <td>other</td>\n",
              "      <td>40000</td>\n",
              "      <td>7</td>\n",
              "      <td>petrol</td>\n",
              "      <td>volkswagen</td>\n",
              "      <td>no</td>\n",
              "      <td>2016-03-21 00:00:00</td>\n",
              "      <td>0</td>\n",
              "      <td>19348</td>\n",
              "      <td>2016-03-25 16:47:58</td>\n",
              "    </tr>\n",
              "    <tr>\n",
              "      <th>8</th>\n",
              "      <td>2016-04-04 23:42:13</td>\n",
              "      <td>14500</td>\n",
              "      <td>bus</td>\n",
              "      <td>2014</td>\n",
              "      <td>manual</td>\n",
              "      <td>125</td>\n",
              "      <td>c_max</td>\n",
              "      <td>30000</td>\n",
              "      <td>8</td>\n",
              "      <td>petrol</td>\n",
              "      <td>ford</td>\n",
              "      <td>NaN</td>\n",
              "      <td>2016-04-04 00:00:00</td>\n",
              "      <td>0</td>\n",
              "      <td>94505</td>\n",
              "      <td>2016-04-04 23:42:13</td>\n",
              "    </tr>\n",
              "    <tr>\n",
              "      <th>9</th>\n",
              "      <td>2016-03-17 10:53:50</td>\n",
              "      <td>999</td>\n",
              "      <td>small</td>\n",
              "      <td>1998</td>\n",
              "      <td>manual</td>\n",
              "      <td>101</td>\n",
              "      <td>golf</td>\n",
              "      <td>150000</td>\n",
              "      <td>0</td>\n",
              "      <td>NaN</td>\n",
              "      <td>volkswagen</td>\n",
              "      <td>NaN</td>\n",
              "      <td>2016-03-17 00:00:00</td>\n",
              "      <td>0</td>\n",
              "      <td>27472</td>\n",
              "      <td>2016-03-31 17:17:06</td>\n",
              "    </tr>\n",
              "  </tbody>\n",
              "</table>\n",
              "</div>"
            ],
            "text/plain": [
              "           DateCrawled  Price  VehicleType  RegistrationYear Gearbox  Power  \\\n",
              "0  2016-03-24 11:52:17    480          NaN              1993  manual      0   \n",
              "1  2016-03-24 10:58:45  18300        coupe              2011  manual    190   \n",
              "2  2016-03-14 12:52:21   9800          suv              2004    auto    163   \n",
              "3  2016-03-17 16:54:04   1500        small              2001  manual     75   \n",
              "4  2016-03-31 17:25:20   3600        small              2008  manual     69   \n",
              "5  2016-04-04 17:36:23    650        sedan              1995  manual    102   \n",
              "6  2016-04-01 20:48:51   2200  convertible              2004  manual    109   \n",
              "7  2016-03-21 18:54:38      0        sedan              1980  manual     50   \n",
              "8  2016-04-04 23:42:13  14500          bus              2014  manual    125   \n",
              "9  2016-03-17 10:53:50    999        small              1998  manual    101   \n",
              "\n",
              "     Model  Kilometer  RegistrationMonth  FuelType       Brand Repaired  \\\n",
              "0     golf     150000                  0    petrol  volkswagen      NaN   \n",
              "1      NaN     125000                  5  gasoline        audi      yes   \n",
              "2    grand     125000                  8  gasoline        jeep      NaN   \n",
              "3     golf     150000                  6    petrol  volkswagen       no   \n",
              "4    fabia      90000                  7  gasoline       skoda       no   \n",
              "5      3er     150000                 10    petrol         bmw      yes   \n",
              "6  2_reihe     150000                  8    petrol     peugeot       no   \n",
              "7    other      40000                  7    petrol  volkswagen       no   \n",
              "8    c_max      30000                  8    petrol        ford      NaN   \n",
              "9     golf     150000                  0       NaN  volkswagen      NaN   \n",
              "\n",
              "           DateCreated  NumberOfPictures  PostalCode             LastSeen  \n",
              "0  2016-03-24 00:00:00                 0       70435  2016-04-07 03:16:57  \n",
              "1  2016-03-24 00:00:00                 0       66954  2016-04-07 01:46:50  \n",
              "2  2016-03-14 00:00:00                 0       90480  2016-04-05 12:47:46  \n",
              "3  2016-03-17 00:00:00                 0       91074  2016-03-17 17:40:17  \n",
              "4  2016-03-31 00:00:00                 0       60437  2016-04-06 10:17:21  \n",
              "5  2016-04-04 00:00:00                 0       33775  2016-04-06 19:17:07  \n",
              "6  2016-04-01 00:00:00                 0       67112  2016-04-05 18:18:39  \n",
              "7  2016-03-21 00:00:00                 0       19348  2016-03-25 16:47:58  \n",
              "8  2016-04-04 00:00:00                 0       94505  2016-04-04 23:42:13  \n",
              "9  2016-03-17 00:00:00                 0       27472  2016-03-31 17:17:06  "
            ]
          },
          "execution_count": 4,
          "metadata": {},
          "output_type": "execute_result"
        }
      ],
      "source": [
        "data.head(10)"
      ]
    },
    {
      "cell_type": "code",
      "execution_count": null,
      "metadata": {
        "id": "C4Wt1GleatLG",
        "outputId": "8a6d8ee8-dbcf-43f4-fff5-734dea53f369"
      },
      "outputs": [
        {
          "name": "stdout",
          "output_type": "stream",
          "text": [
            "<class 'pandas.core.frame.DataFrame'>\n",
            "RangeIndex: 354369 entries, 0 to 354368\n",
            "Data columns (total 16 columns):\n",
            " #   Column             Non-Null Count   Dtype \n",
            "---  ------             --------------   ----- \n",
            " 0   DateCrawled        354369 non-null  object\n",
            " 1   Price              354369 non-null  int64 \n",
            " 2   VehicleType        316879 non-null  object\n",
            " 3   RegistrationYear   354369 non-null  int64 \n",
            " 4   Gearbox            334536 non-null  object\n",
            " 5   Power              354369 non-null  int64 \n",
            " 6   Model              334664 non-null  object\n",
            " 7   Kilometer          354369 non-null  int64 \n",
            " 8   RegistrationMonth  354369 non-null  int64 \n",
            " 9   FuelType           321474 non-null  object\n",
            " 10  Brand              354369 non-null  object\n",
            " 11  Repaired           283215 non-null  object\n",
            " 12  DateCreated        354369 non-null  object\n",
            " 13  NumberOfPictures   354369 non-null  int64 \n",
            " 14  PostalCode         354369 non-null  int64 \n",
            " 15  LastSeen           354369 non-null  object\n",
            "dtypes: int64(7), object(9)\n",
            "memory usage: 43.3+ MB\n"
          ]
        }
      ],
      "source": [
        "#Основная информация о датафрейме\n",
        "data.info()"
      ]
    },
    {
      "cell_type": "markdown",
      "metadata": {
        "id": "tAxBzq7UatLH"
      },
      "source": [
        "Данные представлены 16 признаками и содержат 354 369 строк."
      ]
    },
    {
      "cell_type": "markdown",
      "metadata": {
        "id": "adVVnaGmatLH"
      },
      "source": [
        "Целесообразно изменить название столбцов и формат некоторых признаков."
      ]
    },
    {
      "cell_type": "code",
      "execution_count": null,
      "metadata": {
        "id": "G0vvgOkXatLI"
      },
      "outputs": [],
      "source": [
        "#Изменение названия колонок\n",
        "data.columns = ['Date_Crawled', 'Price', 'Vehicle_Type', 'Registration_Year', 'Gearbox',\n",
        "       'Power', 'Model', 'Kilometer', 'Registration_Month', 'Fuel_Type', 'Brand',\n",
        "       'Repaired', 'Date_Created', 'Number_Of_Pictures', 'Postal_Code',\n",
        "       'Last_Seen']\n",
        "\n",
        "#Приведение названия колонок к нижнему регистру\n",
        "data.columns = data.columns.str.lower()\n",
        "\n",
        "#Изменение формата \n",
        "data['date_crawled'] = pd.to_datetime(data['date_crawled'])\n",
        "data['date_created'] = pd.to_datetime(data['date_created'])\n",
        "data['last_seen'] = pd.to_datetime(data['last_seen'])\n"
      ]
    },
    {
      "cell_type": "markdown",
      "metadata": {
        "id": "wNvyyOH3atLJ"
      },
      "source": [
        "Посмотрим оснувную статистику датасета."
      ]
    },
    {
      "cell_type": "code",
      "execution_count": null,
      "metadata": {
        "id": "v16kE92vatLJ",
        "outputId": "bcaad8e5-fe29-4efe-f185-2668645df995"
      },
      "outputs": [
        {
          "data": {
            "text/html": [
              "<div>\n",
              "<style scoped>\n",
              "    .dataframe tbody tr th:only-of-type {\n",
              "        vertical-align: middle;\n",
              "    }\n",
              "\n",
              "    .dataframe tbody tr th {\n",
              "        vertical-align: top;\n",
              "    }\n",
              "\n",
              "    .dataframe thead th {\n",
              "        text-align: right;\n",
              "    }\n",
              "</style>\n",
              "<table border=\"1\" class=\"dataframe\">\n",
              "  <thead>\n",
              "    <tr style=\"text-align: right;\">\n",
              "      <th></th>\n",
              "      <th>date_crawled</th>\n",
              "      <th>price</th>\n",
              "      <th>vehicle_type</th>\n",
              "      <th>registration_year</th>\n",
              "      <th>gearbox</th>\n",
              "      <th>power</th>\n",
              "      <th>model</th>\n",
              "      <th>kilometer</th>\n",
              "      <th>registration_month</th>\n",
              "      <th>fuel_type</th>\n",
              "      <th>brand</th>\n",
              "      <th>repaired</th>\n",
              "      <th>date_created</th>\n",
              "      <th>number_of_pictures</th>\n",
              "      <th>postal_code</th>\n",
              "      <th>last_seen</th>\n",
              "    </tr>\n",
              "  </thead>\n",
              "  <tbody>\n",
              "    <tr>\n",
              "      <th>count</th>\n",
              "      <td>354369</td>\n",
              "      <td>354369.000000</td>\n",
              "      <td>316879</td>\n",
              "      <td>354369.000000</td>\n",
              "      <td>334536</td>\n",
              "      <td>354369.000000</td>\n",
              "      <td>334664</td>\n",
              "      <td>354369.000000</td>\n",
              "      <td>354369.000000</td>\n",
              "      <td>321474</td>\n",
              "      <td>354369</td>\n",
              "      <td>283215</td>\n",
              "      <td>354369</td>\n",
              "      <td>354369.0</td>\n",
              "      <td>354369.000000</td>\n",
              "      <td>354369</td>\n",
              "    </tr>\n",
              "    <tr>\n",
              "      <th>unique</th>\n",
              "      <td>NaN</td>\n",
              "      <td>NaN</td>\n",
              "      <td>8</td>\n",
              "      <td>NaN</td>\n",
              "      <td>2</td>\n",
              "      <td>NaN</td>\n",
              "      <td>250</td>\n",
              "      <td>NaN</td>\n",
              "      <td>NaN</td>\n",
              "      <td>7</td>\n",
              "      <td>40</td>\n",
              "      <td>2</td>\n",
              "      <td>NaN</td>\n",
              "      <td>NaN</td>\n",
              "      <td>NaN</td>\n",
              "      <td>NaN</td>\n",
              "    </tr>\n",
              "    <tr>\n",
              "      <th>top</th>\n",
              "      <td>NaN</td>\n",
              "      <td>NaN</td>\n",
              "      <td>sedan</td>\n",
              "      <td>NaN</td>\n",
              "      <td>manual</td>\n",
              "      <td>NaN</td>\n",
              "      <td>golf</td>\n",
              "      <td>NaN</td>\n",
              "      <td>NaN</td>\n",
              "      <td>petrol</td>\n",
              "      <td>volkswagen</td>\n",
              "      <td>no</td>\n",
              "      <td>NaN</td>\n",
              "      <td>NaN</td>\n",
              "      <td>NaN</td>\n",
              "      <td>NaN</td>\n",
              "    </tr>\n",
              "    <tr>\n",
              "      <th>freq</th>\n",
              "      <td>NaN</td>\n",
              "      <td>NaN</td>\n",
              "      <td>91457</td>\n",
              "      <td>NaN</td>\n",
              "      <td>268251</td>\n",
              "      <td>NaN</td>\n",
              "      <td>29232</td>\n",
              "      <td>NaN</td>\n",
              "      <td>NaN</td>\n",
              "      <td>216352</td>\n",
              "      <td>77013</td>\n",
              "      <td>247161</td>\n",
              "      <td>NaN</td>\n",
              "      <td>NaN</td>\n",
              "      <td>NaN</td>\n",
              "      <td>NaN</td>\n",
              "    </tr>\n",
              "    <tr>\n",
              "      <th>mean</th>\n",
              "      <td>2016-03-21 12:58:10.450648320</td>\n",
              "      <td>4416.656776</td>\n",
              "      <td>NaN</td>\n",
              "      <td>2004.234448</td>\n",
              "      <td>NaN</td>\n",
              "      <td>110.094337</td>\n",
              "      <td>NaN</td>\n",
              "      <td>128211.172535</td>\n",
              "      <td>5.714645</td>\n",
              "      <td>NaN</td>\n",
              "      <td>NaN</td>\n",
              "      <td>NaN</td>\n",
              "      <td>2016-03-20 19:12:07.753274112</td>\n",
              "      <td>0.0</td>\n",
              "      <td>50508.689087</td>\n",
              "      <td>2016-03-29 23:51:00.667456768</td>\n",
              "    </tr>\n",
              "    <tr>\n",
              "      <th>min</th>\n",
              "      <td>2016-03-05 14:06:22</td>\n",
              "      <td>0.000000</td>\n",
              "      <td>NaN</td>\n",
              "      <td>1000.000000</td>\n",
              "      <td>NaN</td>\n",
              "      <td>0.000000</td>\n",
              "      <td>NaN</td>\n",
              "      <td>5000.000000</td>\n",
              "      <td>0.000000</td>\n",
              "      <td>NaN</td>\n",
              "      <td>NaN</td>\n",
              "      <td>NaN</td>\n",
              "      <td>2014-03-10 00:00:00</td>\n",
              "      <td>0.0</td>\n",
              "      <td>1067.000000</td>\n",
              "      <td>2016-03-05 14:15:08</td>\n",
              "    </tr>\n",
              "    <tr>\n",
              "      <th>25%</th>\n",
              "      <td>2016-03-13 11:52:33</td>\n",
              "      <td>1050.000000</td>\n",
              "      <td>NaN</td>\n",
              "      <td>1999.000000</td>\n",
              "      <td>NaN</td>\n",
              "      <td>69.000000</td>\n",
              "      <td>NaN</td>\n",
              "      <td>125000.000000</td>\n",
              "      <td>3.000000</td>\n",
              "      <td>NaN</td>\n",
              "      <td>NaN</td>\n",
              "      <td>NaN</td>\n",
              "      <td>2016-03-13 00:00:00</td>\n",
              "      <td>0.0</td>\n",
              "      <td>30165.000000</td>\n",
              "      <td>2016-03-23 02:50:03</td>\n",
              "    </tr>\n",
              "    <tr>\n",
              "      <th>50%</th>\n",
              "      <td>2016-03-21 17:50:55</td>\n",
              "      <td>2700.000000</td>\n",
              "      <td>NaN</td>\n",
              "      <td>2003.000000</td>\n",
              "      <td>NaN</td>\n",
              "      <td>105.000000</td>\n",
              "      <td>NaN</td>\n",
              "      <td>150000.000000</td>\n",
              "      <td>6.000000</td>\n",
              "      <td>NaN</td>\n",
              "      <td>NaN</td>\n",
              "      <td>NaN</td>\n",
              "      <td>2016-03-21 00:00:00</td>\n",
              "      <td>0.0</td>\n",
              "      <td>49413.000000</td>\n",
              "      <td>2016-04-03 15:15:51</td>\n",
              "    </tr>\n",
              "    <tr>\n",
              "      <th>75%</th>\n",
              "      <td>2016-03-29 14:37:20</td>\n",
              "      <td>6400.000000</td>\n",
              "      <td>NaN</td>\n",
              "      <td>2008.000000</td>\n",
              "      <td>NaN</td>\n",
              "      <td>143.000000</td>\n",
              "      <td>NaN</td>\n",
              "      <td>150000.000000</td>\n",
              "      <td>9.000000</td>\n",
              "      <td>NaN</td>\n",
              "      <td>NaN</td>\n",
              "      <td>NaN</td>\n",
              "      <td>2016-03-29 00:00:00</td>\n",
              "      <td>0.0</td>\n",
              "      <td>71083.000000</td>\n",
              "      <td>2016-04-06 10:15:19</td>\n",
              "    </tr>\n",
              "    <tr>\n",
              "      <th>max</th>\n",
              "      <td>2016-04-07 14:36:58</td>\n",
              "      <td>20000.000000</td>\n",
              "      <td>NaN</td>\n",
              "      <td>9999.000000</td>\n",
              "      <td>NaN</td>\n",
              "      <td>20000.000000</td>\n",
              "      <td>NaN</td>\n",
              "      <td>150000.000000</td>\n",
              "      <td>12.000000</td>\n",
              "      <td>NaN</td>\n",
              "      <td>NaN</td>\n",
              "      <td>NaN</td>\n",
              "      <td>2016-04-07 00:00:00</td>\n",
              "      <td>0.0</td>\n",
              "      <td>99998.000000</td>\n",
              "      <td>2016-04-07 14:58:51</td>\n",
              "    </tr>\n",
              "    <tr>\n",
              "      <th>std</th>\n",
              "      <td>NaN</td>\n",
              "      <td>4514.158514</td>\n",
              "      <td>NaN</td>\n",
              "      <td>90.227958</td>\n",
              "      <td>NaN</td>\n",
              "      <td>189.850405</td>\n",
              "      <td>NaN</td>\n",
              "      <td>37905.341530</td>\n",
              "      <td>3.726421</td>\n",
              "      <td>NaN</td>\n",
              "      <td>NaN</td>\n",
              "      <td>NaN</td>\n",
              "      <td>NaN</td>\n",
              "      <td>0.0</td>\n",
              "      <td>25783.096248</td>\n",
              "      <td>NaN</td>\n",
              "    </tr>\n",
              "  </tbody>\n",
              "</table>\n",
              "</div>"
            ],
            "text/plain": [
              "                         date_crawled          price vehicle_type  \\\n",
              "count                          354369  354369.000000       316879   \n",
              "unique                            NaN            NaN            8   \n",
              "top                               NaN            NaN        sedan   \n",
              "freq                              NaN            NaN        91457   \n",
              "mean    2016-03-21 12:58:10.450648320    4416.656776          NaN   \n",
              "min               2016-03-05 14:06:22       0.000000          NaN   \n",
              "25%               2016-03-13 11:52:33    1050.000000          NaN   \n",
              "50%               2016-03-21 17:50:55    2700.000000          NaN   \n",
              "75%               2016-03-29 14:37:20    6400.000000          NaN   \n",
              "max               2016-04-07 14:36:58   20000.000000          NaN   \n",
              "std                               NaN    4514.158514          NaN   \n",
              "\n",
              "        registration_year gearbox          power   model      kilometer  \\\n",
              "count       354369.000000  334536  354369.000000  334664  354369.000000   \n",
              "unique                NaN       2            NaN     250            NaN   \n",
              "top                   NaN  manual            NaN    golf            NaN   \n",
              "freq                  NaN  268251            NaN   29232            NaN   \n",
              "mean          2004.234448     NaN     110.094337     NaN  128211.172535   \n",
              "min           1000.000000     NaN       0.000000     NaN    5000.000000   \n",
              "25%           1999.000000     NaN      69.000000     NaN  125000.000000   \n",
              "50%           2003.000000     NaN     105.000000     NaN  150000.000000   \n",
              "75%           2008.000000     NaN     143.000000     NaN  150000.000000   \n",
              "max           9999.000000     NaN   20000.000000     NaN  150000.000000   \n",
              "std             90.227958     NaN     189.850405     NaN   37905.341530   \n",
              "\n",
              "        registration_month fuel_type       brand repaired  \\\n",
              "count        354369.000000    321474      354369   283215   \n",
              "unique                 NaN         7          40        2   \n",
              "top                    NaN    petrol  volkswagen       no   \n",
              "freq                   NaN    216352       77013   247161   \n",
              "mean              5.714645       NaN         NaN      NaN   \n",
              "min               0.000000       NaN         NaN      NaN   \n",
              "25%               3.000000       NaN         NaN      NaN   \n",
              "50%               6.000000       NaN         NaN      NaN   \n",
              "75%               9.000000       NaN         NaN      NaN   \n",
              "max              12.000000       NaN         NaN      NaN   \n",
              "std               3.726421       NaN         NaN      NaN   \n",
              "\n",
              "                         date_created  number_of_pictures    postal_code  \\\n",
              "count                          354369            354369.0  354369.000000   \n",
              "unique                            NaN                 NaN            NaN   \n",
              "top                               NaN                 NaN            NaN   \n",
              "freq                              NaN                 NaN            NaN   \n",
              "mean    2016-03-20 19:12:07.753274112                 0.0   50508.689087   \n",
              "min               2014-03-10 00:00:00                 0.0    1067.000000   \n",
              "25%               2016-03-13 00:00:00                 0.0   30165.000000   \n",
              "50%               2016-03-21 00:00:00                 0.0   49413.000000   \n",
              "75%               2016-03-29 00:00:00                 0.0   71083.000000   \n",
              "max               2016-04-07 00:00:00                 0.0   99998.000000   \n",
              "std                               NaN                 0.0   25783.096248   \n",
              "\n",
              "                            last_seen  \n",
              "count                          354369  \n",
              "unique                            NaN  \n",
              "top                               NaN  \n",
              "freq                              NaN  \n",
              "mean    2016-03-29 23:51:00.667456768  \n",
              "min               2016-03-05 14:15:08  \n",
              "25%               2016-03-23 02:50:03  \n",
              "50%               2016-04-03 15:15:51  \n",
              "75%               2016-04-06 10:15:19  \n",
              "max               2016-04-07 14:58:51  \n",
              "std                               NaN  "
            ]
          },
          "execution_count": 7,
          "metadata": {},
          "output_type": "execute_result"
        }
      ],
      "source": [
        "data.describe(include='all', datetime_is_numeric=True)"
      ]
    },
    {
      "cell_type": "markdown",
      "metadata": {
        "id": "cV4Jn1gkatLK"
      },
      "source": [
        "Из основной статистики по датасету выделяются несколько странных моментов:\n",
        "* Максимальное значение года регистрации в столбце \"registration_year\": 9999, минимальное: 1000\n",
        "* Максимальное значение мощности в столбце \"power\": 20000, минимальное: 0\n",
        "* Минимальная цена в столбце \"price\": 0\n",
        "* Минимальное значение месяца регистрации: 0"
      ]
    },
    {
      "cell_type": "markdown",
      "metadata": {
        "id": "u4vh7gN5atLL"
      },
      "source": [
        "Рассмотрим каждый из признаков по отдельности."
      ]
    },
    {
      "cell_type": "markdown",
      "metadata": {
        "id": "8m_a1S8AatLL"
      },
      "source": [
        "**Цена**"
      ]
    },
    {
      "cell_type": "code",
      "execution_count": null,
      "metadata": {
        "id": "IWBM_pIkatLM",
        "outputId": "8a820cb8-d0db-4ba2-bd92-c4f33b01b915"
      },
      "outputs": [
        {
          "data": {
            "image/png": "[encoded data removed]",
            "text/plain": [
              "<Figure size 864x504 with 1 Axes>"
            ]
          },
          "metadata": {
            "needs_background": "light"
          },
          "output_type": "display_data"
        }
      ],
      "source": [
        "data['price'].hist(bins=50,figsize=(12,7))\n",
        "plt.title('Диаграмма распределения стоимости автомобилей')\n",
        "plt.xlabel('Стоимость,Евро')\n",
        "plt.ylabel('Количество')\n",
        "plt.show()"
      ]
    },
    {
      "cell_type": "markdown",
      "metadata": {
        "id": "G9wfIOiDatLM"
      },
      "source": [
        "Присутствующие нулевые значения цены точно стоит удалить. Однако в выборке много других непрадоподобно низких значений. \n",
        "\n",
        "Определим нижний порог в 10 евро."
      ]
    },
    {
      "cell_type": "code",
      "execution_count": null,
      "metadata": {
        "id": "fB1G3sQ-atLM"
      },
      "outputs": [],
      "source": [
        "data_prepared = data[data['price'] > 10]"
      ]
    },
    {
      "cell_type": "markdown",
      "metadata": {
        "id": "tF0yjmpuatLN"
      },
      "source": [
        "**Год регистрации автомобиля**"
      ]
    },
    {
      "cell_type": "code",
      "execution_count": null,
      "metadata": {
        "id": "WYGybq67atLN",
        "outputId": "1d4860a9-bb53-4beb-f14f-ef325a74b511"
      },
      "outputs": [
        {
          "data": {
            "image/png": "[encoded data removed]",
            "text/plain": [
              "<Figure size 864x504 with 1 Axes>"
            ]
          },
          "metadata": {
            "needs_background": "light"
          },
          "output_type": "display_data"
        }
      ],
      "source": [
        "data_prepared.boxplot(column='registration_year', figsize=(12, 7), vert=False)\n",
        "plt.title('Диаграмма размаха столбца \"registration_year\"')\n",
        "plt.xlabel('Год')\n",
        "plt.show()"
      ]
    },
    {
      "cell_type": "code",
      "execution_count": null,
      "metadata": {
        "id": "3CL68r1BatLO",
        "outputId": "67cf0cf5-78b1-45f5-8844-0cbb048f8ba4"
      },
      "outputs": [
        {
          "data": {
            "text/plain": [
              "array([1993, 2011, 2004, 2001, 2008, 1995, 2014, 1998, 2005, 1910, 2016,\n",
              "       2007, 2009, 2002, 2018, 1997, 1990, 2017, 1981, 2003, 1994, 1991,\n",
              "       1984, 2006, 1999, 2012, 2010, 2000, 1992, 2013, 1996, 1985, 1989,\n",
              "       2015, 1982, 1976, 1983, 1973, 1969, 1971, 1987, 1986, 1988, 1980,\n",
              "       1970, 1965, 1945, 1925, 1974, 1979, 1955, 1978, 1972, 1968, 1977,\n",
              "       1961, 1966, 1975, 1963, 1964, 1960, 5000, 1958, 1967, 1956, 3200,\n",
              "       1000, 1941, 9999, 8888, 1500, 2200, 4100, 1962, 1929, 1957, 1940,\n",
              "       3000, 2066, 1949, 2019, 1937, 1951, 1800, 1959, 1953, 1954, 1234,\n",
              "       8000, 5300, 9000, 2900, 6000, 5900, 5911, 1400, 1950, 4000, 1948,\n",
              "       1952, 8500, 1932, 1255, 3700, 3800, 4800, 1942, 7000, 1935, 1933,\n",
              "       1936, 1923, 2290, 1930, 1001, 9450, 1944, 2500, 1943, 1938, 1934,\n",
              "       1928, 5555, 5600, 1600, 1111, 2222, 1039, 1300, 2800, 1931, 4500,\n",
              "       1602, 7800, 1947, 1927, 7100, 8200, 1946])"
            ]
          },
          "execution_count": 11,
          "metadata": {},
          "output_type": "execute_result"
        }
      ],
      "source": [
        "#Уникальные значения в столбце registration_year\n",
        "data_prepared['registration_year'].unique()"
      ]
    },
    {
      "cell_type": "markdown",
      "metadata": {
        "id": "RSaxopNOatLO"
      },
      "source": [
        "Часть значений года регистрации автомобиля явно не корректны. Удалим все года, не попадающие в интервал от 1910 до 2016"
      ]
    },
    {
      "cell_type": "code",
      "execution_count": null,
      "metadata": {
        "id": "3EaSwsGyatLO",
        "outputId": "31db9123-0308-45ee-fe80-f53a7e3923dd"
      },
      "outputs": [
        {
          "data": {
            "text/html": [
              "<div>\n",
              "<style scoped>\n",
              "    .dataframe tbody tr th:only-of-type {\n",
              "        vertical-align: middle;\n",
              "    }\n",
              "\n",
              "    .dataframe tbody tr th {\n",
              "        vertical-align: top;\n",
              "    }\n",
              "\n",
              "    .dataframe thead th {\n",
              "        text-align: right;\n",
              "    }\n",
              "</style>\n",
              "<table border=\"1\" class=\"dataframe\">\n",
              "  <thead>\n",
              "    <tr style=\"text-align: right;\">\n",
              "      <th></th>\n",
              "      <th>date_crawled</th>\n",
              "      <th>price</th>\n",
              "      <th>vehicle_type</th>\n",
              "      <th>registration_year</th>\n",
              "      <th>gearbox</th>\n",
              "      <th>power</th>\n",
              "      <th>model</th>\n",
              "      <th>kilometer</th>\n",
              "      <th>registration_month</th>\n",
              "      <th>fuel_type</th>\n",
              "      <th>brand</th>\n",
              "      <th>repaired</th>\n",
              "      <th>date_created</th>\n",
              "      <th>number_of_pictures</th>\n",
              "      <th>postal_code</th>\n",
              "      <th>last_seen</th>\n",
              "    </tr>\n",
              "  </thead>\n",
              "  <tbody>\n",
              "    <tr>\n",
              "      <th>0</th>\n",
              "      <td>2016-03-24 11:52:17</td>\n",
              "      <td>480</td>\n",
              "      <td>NaN</td>\n",
              "      <td>1993</td>\n",
              "      <td>manual</td>\n",
              "      <td>0</td>\n",
              "      <td>golf</td>\n",
              "      <td>150000</td>\n",
              "      <td>0</td>\n",
              "      <td>petrol</td>\n",
              "      <td>volkswagen</td>\n",
              "      <td>NaN</td>\n",
              "      <td>2016-03-24</td>\n",
              "      <td>0</td>\n",
              "      <td>70435</td>\n",
              "      <td>2016-04-07 03:16:57</td>\n",
              "    </tr>\n",
              "    <tr>\n",
              "      <th>1</th>\n",
              "      <td>2016-03-24 10:58:45</td>\n",
              "      <td>18300</td>\n",
              "      <td>coupe</td>\n",
              "      <td>2011</td>\n",
              "      <td>manual</td>\n",
              "      <td>190</td>\n",
              "      <td>NaN</td>\n",
              "      <td>125000</td>\n",
              "      <td>5</td>\n",
              "      <td>gasoline</td>\n",
              "      <td>audi</td>\n",
              "      <td>yes</td>\n",
              "      <td>2016-03-24</td>\n",
              "      <td>0</td>\n",
              "      <td>66954</td>\n",
              "      <td>2016-04-07 01:46:50</td>\n",
              "    </tr>\n",
              "    <tr>\n",
              "      <th>2</th>\n",
              "      <td>2016-03-14 12:52:21</td>\n",
              "      <td>9800</td>\n",
              "      <td>suv</td>\n",
              "      <td>2004</td>\n",
              "      <td>auto</td>\n",
              "      <td>163</td>\n",
              "      <td>grand</td>\n",
              "      <td>125000</td>\n",
              "      <td>8</td>\n",
              "      <td>gasoline</td>\n",
              "      <td>jeep</td>\n",
              "      <td>NaN</td>\n",
              "      <td>2016-03-14</td>\n",
              "      <td>0</td>\n",
              "      <td>90480</td>\n",
              "      <td>2016-04-05 12:47:46</td>\n",
              "    </tr>\n",
              "    <tr>\n",
              "      <th>3</th>\n",
              "      <td>2016-03-17 16:54:04</td>\n",
              "      <td>1500</td>\n",
              "      <td>small</td>\n",
              "      <td>2001</td>\n",
              "      <td>manual</td>\n",
              "      <td>75</td>\n",
              "      <td>golf</td>\n",
              "      <td>150000</td>\n",
              "      <td>6</td>\n",
              "      <td>petrol</td>\n",
              "      <td>volkswagen</td>\n",
              "      <td>no</td>\n",
              "      <td>2016-03-17</td>\n",
              "      <td>0</td>\n",
              "      <td>91074</td>\n",
              "      <td>2016-03-17 17:40:17</td>\n",
              "    </tr>\n",
              "    <tr>\n",
              "      <th>4</th>\n",
              "      <td>2016-03-31 17:25:20</td>\n",
              "      <td>3600</td>\n",
              "      <td>small</td>\n",
              "      <td>2008</td>\n",
              "      <td>manual</td>\n",
              "      <td>69</td>\n",
              "      <td>fabia</td>\n",
              "      <td>90000</td>\n",
              "      <td>7</td>\n",
              "      <td>gasoline</td>\n",
              "      <td>skoda</td>\n",
              "      <td>no</td>\n",
              "      <td>2016-03-31</td>\n",
              "      <td>0</td>\n",
              "      <td>60437</td>\n",
              "      <td>2016-04-06 10:17:21</td>\n",
              "    </tr>\n",
              "    <tr>\n",
              "      <th>...</th>\n",
              "      <td>...</td>\n",
              "      <td>...</td>\n",
              "      <td>...</td>\n",
              "      <td>...</td>\n",
              "      <td>...</td>\n",
              "      <td>...</td>\n",
              "      <td>...</td>\n",
              "      <td>...</td>\n",
              "      <td>...</td>\n",
              "      <td>...</td>\n",
              "      <td>...</td>\n",
              "      <td>...</td>\n",
              "      <td>...</td>\n",
              "      <td>...</td>\n",
              "      <td>...</td>\n",
              "      <td>...</td>\n",
              "    </tr>\n",
              "    <tr>\n",
              "      <th>354364</th>\n",
              "      <td>2016-03-21 09:50:58</td>\n",
              "      <td>0</td>\n",
              "      <td>NaN</td>\n",
              "      <td>2005</td>\n",
              "      <td>manual</td>\n",
              "      <td>0</td>\n",
              "      <td>colt</td>\n",
              "      <td>150000</td>\n",
              "      <td>7</td>\n",
              "      <td>petrol</td>\n",
              "      <td>mitsubishi</td>\n",
              "      <td>yes</td>\n",
              "      <td>2016-03-21</td>\n",
              "      <td>0</td>\n",
              "      <td>2694</td>\n",
              "      <td>2016-03-21 10:42:49</td>\n",
              "    </tr>\n",
              "    <tr>\n",
              "      <th>354365</th>\n",
              "      <td>2016-03-14 17:48:27</td>\n",
              "      <td>2200</td>\n",
              "      <td>NaN</td>\n",
              "      <td>2005</td>\n",
              "      <td>NaN</td>\n",
              "      <td>0</td>\n",
              "      <td>NaN</td>\n",
              "      <td>20000</td>\n",
              "      <td>1</td>\n",
              "      <td>NaN</td>\n",
              "      <td>sonstige_autos</td>\n",
              "      <td>NaN</td>\n",
              "      <td>2016-03-14</td>\n",
              "      <td>0</td>\n",
              "      <td>39576</td>\n",
              "      <td>2016-04-06 00:46:52</td>\n",
              "    </tr>\n",
              "    <tr>\n",
              "      <th>354366</th>\n",
              "      <td>2016-03-05 19:56:21</td>\n",
              "      <td>1199</td>\n",
              "      <td>convertible</td>\n",
              "      <td>2000</td>\n",
              "      <td>auto</td>\n",
              "      <td>101</td>\n",
              "      <td>fortwo</td>\n",
              "      <td>125000</td>\n",
              "      <td>3</td>\n",
              "      <td>petrol</td>\n",
              "      <td>smart</td>\n",
              "      <td>no</td>\n",
              "      <td>2016-03-05</td>\n",
              "      <td>0</td>\n",
              "      <td>26135</td>\n",
              "      <td>2016-03-11 18:17:12</td>\n",
              "    </tr>\n",
              "    <tr>\n",
              "      <th>354367</th>\n",
              "      <td>2016-03-19 18:57:12</td>\n",
              "      <td>9200</td>\n",
              "      <td>bus</td>\n",
              "      <td>1996</td>\n",
              "      <td>manual</td>\n",
              "      <td>102</td>\n",
              "      <td>transporter</td>\n",
              "      <td>150000</td>\n",
              "      <td>3</td>\n",
              "      <td>gasoline</td>\n",
              "      <td>volkswagen</td>\n",
              "      <td>no</td>\n",
              "      <td>2016-03-19</td>\n",
              "      <td>0</td>\n",
              "      <td>87439</td>\n",
              "      <td>2016-04-07 07:15:26</td>\n",
              "    </tr>\n",
              "    <tr>\n",
              "      <th>354368</th>\n",
              "      <td>2016-03-20 19:41:08</td>\n",
              "      <td>3400</td>\n",
              "      <td>wagon</td>\n",
              "      <td>2002</td>\n",
              "      <td>manual</td>\n",
              "      <td>100</td>\n",
              "      <td>golf</td>\n",
              "      <td>150000</td>\n",
              "      <td>6</td>\n",
              "      <td>gasoline</td>\n",
              "      <td>volkswagen</td>\n",
              "      <td>NaN</td>\n",
              "      <td>2016-03-20</td>\n",
              "      <td>0</td>\n",
              "      <td>40764</td>\n",
              "      <td>2016-03-24 12:45:21</td>\n",
              "    </tr>\n",
              "  </tbody>\n",
              "</table>\n",
              "<p>354369 rows × 16 columns</p>\n",
              "</div>"
            ],
            "text/plain": [
              "              date_crawled  price vehicle_type  registration_year gearbox  \\\n",
              "0      2016-03-24 11:52:17    480          NaN               1993  manual   \n",
              "1      2016-03-24 10:58:45  18300        coupe               2011  manual   \n",
              "2      2016-03-14 12:52:21   9800          suv               2004    auto   \n",
              "3      2016-03-17 16:54:04   1500        small               2001  manual   \n",
              "4      2016-03-31 17:25:20   3600        small               2008  manual   \n",
              "...                    ...    ...          ...                ...     ...   \n",
              "354364 2016-03-21 09:50:58      0          NaN               2005  manual   \n",
              "354365 2016-03-14 17:48:27   2200          NaN               2005     NaN   \n",
              "354366 2016-03-05 19:56:21   1199  convertible               2000    auto   \n",
              "354367 2016-03-19 18:57:12   9200          bus               1996  manual   \n",
              "354368 2016-03-20 19:41:08   3400        wagon               2002  manual   \n",
              "\n",
              "        power        model  kilometer  registration_month fuel_type  \\\n",
              "0           0         golf     150000                   0    petrol   \n",
              "1         190          NaN     125000                   5  gasoline   \n",
              "2         163        grand     125000                   8  gasoline   \n",
              "3          75         golf     150000                   6    petrol   \n",
              "4          69        fabia      90000                   7  gasoline   \n",
              "...       ...          ...        ...                 ...       ...   \n",
              "354364      0         colt     150000                   7    petrol   \n",
              "354365      0          NaN      20000                   1       NaN   \n",
              "354366    101       fortwo     125000                   3    petrol   \n",
              "354367    102  transporter     150000                   3  gasoline   \n",
              "354368    100         golf     150000                   6  gasoline   \n",
              "\n",
              "                 brand repaired date_created  number_of_pictures  postal_code  \\\n",
              "0           volkswagen      NaN   2016-03-24                   0        70435   \n",
              "1                 audi      yes   2016-03-24                   0        66954   \n",
              "2                 jeep      NaN   2016-03-14                   0        90480   \n",
              "3           volkswagen       no   2016-03-17                   0        91074   \n",
              "4                skoda       no   2016-03-31                   0        60437   \n",
              "...                ...      ...          ...                 ...          ...   \n",
              "354364      mitsubishi      yes   2016-03-21                   0         2694   \n",
              "354365  sonstige_autos      NaN   2016-03-14                   0        39576   \n",
              "354366           smart       no   2016-03-05                   0        26135   \n",
              "354367      volkswagen       no   2016-03-19                   0        87439   \n",
              "354368      volkswagen      NaN   2016-03-20                   0        40764   \n",
              "\n",
              "                 last_seen  \n",
              "0      2016-04-07 03:16:57  \n",
              "1      2016-04-07 01:46:50  \n",
              "2      2016-04-05 12:47:46  \n",
              "3      2016-03-17 17:40:17  \n",
              "4      2016-04-06 10:17:21  \n",
              "...                    ...  \n",
              "354364 2016-03-21 10:42:49  \n",
              "354365 2016-04-06 00:46:52  \n",
              "354366 2016-03-11 18:17:12  \n",
              "354367 2016-04-07 07:15:26  \n",
              "354368 2016-03-24 12:45:21  \n",
              "\n",
              "[354369 rows x 16 columns]"
            ]
          },
          "execution_count": 12,
          "metadata": {},
          "output_type": "execute_result"
        }
      ],
      "source": [
        "data_prepared = data_prepared[(data_prepared['registration_year'] <= 2016)&(data_prepared['registration_year'] >= 1910)]\n",
        "data"
      ]
    },
    {
      "cell_type": "markdown",
      "metadata": {
        "id": "PLSIAcyOatLP"
      },
      "source": [
        "Посмотрим получившийся boxplot."
      ]
    },
    {
      "cell_type": "code",
      "execution_count": null,
      "metadata": {
        "id": "PHk9yzZ3atLP",
        "outputId": "698ea835-667b-4e84-dae2-03a5a9c534c7"
      },
      "outputs": [
        {
          "data": {
            "image/png": "[encoded data removed]",
            "text/plain": [
              "<Figure size 864x504 with 1 Axes>"
            ]
          },
          "metadata": {
            "needs_background": "light"
          },
          "output_type": "display_data"
        }
      ],
      "source": [
        "data_prepared.boxplot(column='registration_year', figsize=(12, 7), vert=False)\n",
        "plt.title('Диаграмма размаха столбца \"registration_year\"')\n",
        "plt.xlabel('Год')\n",
        "plt.show()"
      ]
    },
    {
      "cell_type": "markdown",
      "metadata": {
        "id": "syMNsCsuatLQ"
      },
      "source": [
        "Осталось большое количество выбросов со значениями года регистрации раньше 1985-1990. Однако удалять их все будет не корректно."
      ]
    },
    {
      "cell_type": "code",
      "execution_count": null,
      "metadata": {
        "id": "h_TtawZqatLQ",
        "outputId": "db526a99-eba3-462a-cd69-d91b3ac978bb"
      },
      "outputs": [
        {
          "data": {
            "image/png": "[encoded data removed]",
            "text/plain": [
              "<Figure size 864x504 with 1 Axes>"
            ]
          },
          "metadata": {
            "needs_background": "light"
          },
          "output_type": "display_data"
        }
      ],
      "source": [
        "data_prepared['registration_year'].hist(bins=50, figsize=(12,7))\n",
        "plt.title('Диаграмма распределения года регистрации')\n",
        "plt.xlabel('Год')\n",
        "plt.ylabel('Количество')\n",
        "plt.show()"
      ]
    },
    {
      "cell_type": "markdown",
      "metadata": {
        "id": "u--R0OCNatLR"
      },
      "source": [
        "На гистограмме видно условную границу на значении 1960. Удалим значения ниже."
      ]
    },
    {
      "cell_type": "code",
      "execution_count": null,
      "metadata": {
        "id": "MHAEd-vMatLR"
      },
      "outputs": [],
      "source": [
        "data_prepared = data_prepared[data_prepared['registration_year'] >= 1960]"
      ]
    },
    {
      "cell_type": "markdown",
      "metadata": {
        "id": "8Hvi69KWatLR"
      },
      "source": [
        "**Мощность**"
      ]
    },
    {
      "cell_type": "code",
      "execution_count": null,
      "metadata": {
        "id": "WyFbGT-gatLS",
        "outputId": "b6dc7eeb-8a69-436f-b327-8aae9b388584"
      },
      "outputs": [
        {
          "data": {
            "image/png": "[encoded data removed]",
            "text/plain": [
              "<Figure size 864x504 with 1 Axes>"
            ]
          },
          "metadata": {
            "needs_background": "light"
          },
          "output_type": "display_data"
        }
      ],
      "source": [
        "data_prepared['power'].hist(bins=50, figsize=(12,7))\n",
        "plt.title('Диаграмма распределения мощности')\n",
        "plt.xlabel('Мощность, Л.С.')\n",
        "plt.ylabel('Количество')\n",
        "plt.show()"
      ]
    },
    {
      "cell_type": "code",
      "execution_count": null,
      "metadata": {
        "id": "k8uJEqwvatLS",
        "outputId": "869b9880-7d9f-4c99-bded-8075460f6595"
      },
      "outputs": [
        {
          "data": {
            "image/png": "[encoded data removed]",
            "text/plain": [
              "<Figure size 864x504 with 1 Axes>"
            ]
          },
          "metadata": {
            "needs_background": "light"
          },
          "output_type": "display_data"
        }
      ],
      "source": [
        "data_prepared.boxplot(column='power', figsize=(12, 7), vert=False)\n",
        "plt.title('Диаграмма размаха столбца \"power\"')\n",
        "plt.xlabel('Год')\n",
        "plt.show()"
      ]
    },
    {
      "cell_type": "markdown",
      "metadata": {
        "id": "F7MLiTf8atLS"
      },
      "source": [
        "В значениях мощноти встречаются неправдоподобно большие значения. Самый мощный двигатель в мире для машины серийного производства демонстрирует мощность в 2040 л/с, значения выше этого явно не корректные."
      ]
    },
    {
      "cell_type": "code",
      "execution_count": null,
      "metadata": {
        "id": "oTHx4e4CatLT"
      },
      "outputs": [],
      "source": [
        "data_prepared = data_prepared[(data_prepared['power'] < 2040) & (data_prepared['power'] != 0)]"
      ]
    },
    {
      "cell_type": "code",
      "execution_count": null,
      "metadata": {
        "id": "ifKbpT_datLT",
        "outputId": "7b6d0aac-f019-49a4-fe70-eaeec34b5418"
      },
      "outputs": [
        {
          "data": {
            "image/png": "[encoded data removed]",
            "text/plain": [
              "<Figure size 864x504 with 1 Axes>"
            ]
          },
          "metadata": {
            "needs_background": "light"
          },
          "output_type": "display_data"
        }
      ],
      "source": [
        "data_prepared['power'].hist(bins=50, figsize=(12,7))\n",
        "plt.title('Диаграмма распределения года регистрации')\n",
        "plt.xlabel('Год')\n",
        "plt.ylabel('Количество')\n",
        "plt.show()"
      ]
    },
    {
      "cell_type": "markdown",
      "metadata": {
        "id": "OOeatW04atLU"
      },
      "source": [
        "Выберем верхнюю границу для мощности равную 500 л.с."
      ]
    },
    {
      "cell_type": "code",
      "execution_count": null,
      "metadata": {
        "id": "597KO28YatLU"
      },
      "outputs": [],
      "source": [
        "data_prepared = data_prepared[data_prepared['power'] <= 500]"
      ]
    },
    {
      "cell_type": "markdown",
      "metadata": {
        "id": "cT05LQtcatLU"
      },
      "source": [
        "Отберем признаки, которые потребуются для построения модели: \n",
        "* date_crawled — дата скачивания анкеты из базы - неважный признак, нак не влияет на стоимость.\n",
        "* vehicle_type — тип автомобильного кузова - важный признак, определяющий функционал автомобиля.\n",
        "* registration_year — год регистрации автомобиля - важный признак, определяет, сколько автомобиль находится в эксплуатации.\n",
        "* gearbox — тип коробки передач - важный признак, механическая КПП стоит ниже, чем автомат.\n",
        "* power — мощность (л. с.) - важный признак, одна из основных характеристик автомобиля.\n",
        "* model — модель автомобиля - важный признак, объединяет в себе несколько других.\n",
        "* kilometer — пробег (км) - важный признак, чем выше пробег, тем выше износ, и, как следствие, ниже стоимость.\n",
        "* registration_month — месяц регистрации автомобиля - неважный признак, учитывая, что разброс измеряется годами.\n",
        "* FuelType — тип топлива - важный признак.\n",
        "* Brand — марка автомобиля - важный признак, марка существенно влияет на стоимость, так как у потребителя есть представление о качестве продукта конкретной компании.\n",
        "* repaired — была машина в ремонте или нет - важный признак, ремонт и замена деталей снижает надежность автомобиля.\n",
        "* date_created — дата создания анкеты - неважный признак.\n",
        "* number_of_pictures — количество фотографий автомобиля - неважный признак.\n",
        "* postal_code — почтовый индекс владельца анкеты (пользователя) - неважный признак.\n",
        "* last_seen — дата последней активности пользователя - неважный признак."
      ]
    },
    {
      "cell_type": "code",
      "execution_count": null,
      "metadata": {
        "id": "P45wN_g2atLV",
        "outputId": "a596679b-4ee3-4ce7-dd74-688c73a08895"
      },
      "outputs": [
        {
          "data": {
            "text/html": [
              "<div>\n",
              "<style scoped>\n",
              "    .dataframe tbody tr th:only-of-type {\n",
              "        vertical-align: middle;\n",
              "    }\n",
              "\n",
              "    .dataframe tbody tr th {\n",
              "        vertical-align: top;\n",
              "    }\n",
              "\n",
              "    .dataframe thead th {\n",
              "        text-align: right;\n",
              "    }\n",
              "</style>\n",
              "<table border=\"1\" class=\"dataframe\">\n",
              "  <thead>\n",
              "    <tr style=\"text-align: right;\">\n",
              "      <th></th>\n",
              "      <th>price</th>\n",
              "      <th>vehicle_type</th>\n",
              "      <th>registration_year</th>\n",
              "      <th>gearbox</th>\n",
              "      <th>power</th>\n",
              "      <th>model</th>\n",
              "      <th>kilometer</th>\n",
              "      <th>fuel_type</th>\n",
              "      <th>brand</th>\n",
              "      <th>repaired</th>\n",
              "    </tr>\n",
              "  </thead>\n",
              "  <tbody>\n",
              "    <tr>\n",
              "      <th>1</th>\n",
              "      <td>18300</td>\n",
              "      <td>coupe</td>\n",
              "      <td>2011</td>\n",
              "      <td>manual</td>\n",
              "      <td>190</td>\n",
              "      <td>NaN</td>\n",
              "      <td>125000</td>\n",
              "      <td>gasoline</td>\n",
              "      <td>audi</td>\n",
              "      <td>yes</td>\n",
              "    </tr>\n",
              "    <tr>\n",
              "      <th>2</th>\n",
              "      <td>9800</td>\n",
              "      <td>suv</td>\n",
              "      <td>2004</td>\n",
              "      <td>auto</td>\n",
              "      <td>163</td>\n",
              "      <td>grand</td>\n",
              "      <td>125000</td>\n",
              "      <td>gasoline</td>\n",
              "      <td>jeep</td>\n",
              "      <td>NaN</td>\n",
              "    </tr>\n",
              "    <tr>\n",
              "      <th>3</th>\n",
              "      <td>1500</td>\n",
              "      <td>small</td>\n",
              "      <td>2001</td>\n",
              "      <td>manual</td>\n",
              "      <td>75</td>\n",
              "      <td>golf</td>\n",
              "      <td>150000</td>\n",
              "      <td>petrol</td>\n",
              "      <td>volkswagen</td>\n",
              "      <td>no</td>\n",
              "    </tr>\n",
              "    <tr>\n",
              "      <th>4</th>\n",
              "      <td>3600</td>\n",
              "      <td>small</td>\n",
              "      <td>2008</td>\n",
              "      <td>manual</td>\n",
              "      <td>69</td>\n",
              "      <td>fabia</td>\n",
              "      <td>90000</td>\n",
              "      <td>gasoline</td>\n",
              "      <td>skoda</td>\n",
              "      <td>no</td>\n",
              "    </tr>\n",
              "    <tr>\n",
              "      <th>5</th>\n",
              "      <td>650</td>\n",
              "      <td>sedan</td>\n",
              "      <td>1995</td>\n",
              "      <td>manual</td>\n",
              "      <td>102</td>\n",
              "      <td>3er</td>\n",
              "      <td>150000</td>\n",
              "      <td>petrol</td>\n",
              "      <td>bmw</td>\n",
              "      <td>yes</td>\n",
              "    </tr>\n",
              "  </tbody>\n",
              "</table>\n",
              "</div>"
            ],
            "text/plain": [
              "   price vehicle_type  registration_year gearbox  power  model  kilometer  \\\n",
              "1  18300        coupe               2011  manual    190    NaN     125000   \n",
              "2   9800          suv               2004    auto    163  grand     125000   \n",
              "3   1500        small               2001  manual     75   golf     150000   \n",
              "4   3600        small               2008  manual     69  fabia      90000   \n",
              "5    650        sedan               1995  manual    102    3er     150000   \n",
              "\n",
              "  fuel_type       brand repaired  \n",
              "1  gasoline        audi      yes  \n",
              "2  gasoline        jeep      NaN  \n",
              "3    petrol  volkswagen       no  \n",
              "4  gasoline       skoda       no  \n",
              "5    petrol         bmw      yes  "
            ]
          },
          "execution_count": 21,
          "metadata": {},
          "output_type": "execute_result"
        }
      ],
      "source": [
        "#Список важных признаков\n",
        "importatnt_columns = ['price', \n",
        "                      'vehicle_type', \n",
        "                      'registration_year', \n",
        "                      'gearbox',\n",
        "                      'power', \n",
        "                      'model', \n",
        "                      'kilometer',  \n",
        "                      'fuel_type',\n",
        "                      'brand', \n",
        "                      'repaired']\n",
        "\n",
        "data_prepared = data_prepared[importatnt_columns]\n",
        "data_prepared.head()"
      ]
    },
    {
      "cell_type": "markdown",
      "metadata": {
        "id": "ymSTSFrUatLX"
      },
      "source": [
        "**Обработка пропусков**"
      ]
    },
    {
      "cell_type": "code",
      "execution_count": null,
      "metadata": {
        "id": "seyQ9XCMatLX",
        "outputId": "fbc9df82-bf0b-4474-e4e4-7fc2389aefa2"
      },
      "outputs": [
        {
          "data": {
            "text/html": [
              "<style  type=\"text/css\" >\n",
              "#T_77b10_row0_col0{\n",
              "            background-color:  #b40426;\n",
              "            color:  #f1f1f1;\n",
              "        }#T_77b10_row1_col0{\n",
              "            background-color:  #b3cdfb;\n",
              "            color:  #000000;\n",
              "        }#T_77b10_row2_col0{\n",
              "            background-color:  #90b2fe;\n",
              "            color:  #000000;\n",
              "        }#T_77b10_row3_col0{\n",
              "            background-color:  #8fb1fe;\n",
              "            color:  #000000;\n",
              "        }#T_77b10_row4_col0{\n",
              "            background-color:  #6180e9;\n",
              "            color:  #000000;\n",
              "        }#T_77b10_row5_col0,#T_77b10_row6_col0,#T_77b10_row7_col0,#T_77b10_row8_col0,#T_77b10_row9_col0{\n",
              "            background-color:  #3b4cc0;\n",
              "            color:  #f1f1f1;\n",
              "        }</style><table id=\"T_77b10_\" ><thead>    <tr>        <th class=\"blank level0\" ></th>        <th class=\"col_heading level0 col0\" >percent_space</th>    </tr></thead><tbody>\n",
              "                <tr>\n",
              "                        <th id=\"T_77b10_level0_row0\" class=\"row_heading level0 row0\" >repaired</th>\n",
              "                        <td id=\"T_77b10_row0_col0\" class=\"data row0 col0\" >14.4</td>\n",
              "            </tr>\n",
              "            <tr>\n",
              "                        <th id=\"T_77b10_level0_row1\" class=\"row_heading level0 row1\" >fuel_type</th>\n",
              "                        <td id=\"T_77b10_row1_col0\" class=\"data row1 col0\" >5.2</td>\n",
              "            </tr>\n",
              "            <tr>\n",
              "                        <th id=\"T_77b10_level0_row2\" class=\"row_heading level0 row2\" >model</th>\n",
              "                        <td id=\"T_77b10_row2_col0\" class=\"data row2 col0\" >3.7</td>\n",
              "            </tr>\n",
              "            <tr>\n",
              "                        <th id=\"T_77b10_level0_row3\" class=\"row_heading level0 row3\" >vehicle_type</th>\n",
              "                        <td id=\"T_77b10_row3_col0\" class=\"data row3 col0\" >3.7</td>\n",
              "            </tr>\n",
              "            <tr>\n",
              "                        <th id=\"T_77b10_level0_row4\" class=\"row_heading level0 row4\" >gearbox</th>\n",
              "                        <td id=\"T_77b10_row4_col0\" class=\"data row4 col0\" >1.8</td>\n",
              "            </tr>\n",
              "            <tr>\n",
              "                        <th id=\"T_77b10_level0_row5\" class=\"row_heading level0 row5\" >price</th>\n",
              "                        <td id=\"T_77b10_row5_col0\" class=\"data row5 col0\" >0.0</td>\n",
              "            </tr>\n",
              "            <tr>\n",
              "                        <th id=\"T_77b10_level0_row6\" class=\"row_heading level0 row6\" >registration_year</th>\n",
              "                        <td id=\"T_77b10_row6_col0\" class=\"data row6 col0\" >0.0</td>\n",
              "            </tr>\n",
              "            <tr>\n",
              "                        <th id=\"T_77b10_level0_row7\" class=\"row_heading level0 row7\" >power</th>\n",
              "                        <td id=\"T_77b10_row7_col0\" class=\"data row7 col0\" >0.0</td>\n",
              "            </tr>\n",
              "            <tr>\n",
              "                        <th id=\"T_77b10_level0_row8\" class=\"row_heading level0 row8\" >kilometer</th>\n",
              "                        <td id=\"T_77b10_row8_col0\" class=\"data row8 col0\" >0.0</td>\n",
              "            </tr>\n",
              "            <tr>\n",
              "                        <th id=\"T_77b10_level0_row9\" class=\"row_heading level0 row9\" >brand</th>\n",
              "                        <td id=\"T_77b10_row9_col0\" class=\"data row9 col0\" >0.0</td>\n",
              "            </tr>\n",
              "    </tbody></table>"
            ],
            "text/plain": [
              "<pandas.io.formats.style.Styler at 0x7f048c5ddd00>"
            ]
          },
          "execution_count": 22,
          "metadata": {},
          "output_type": "execute_result"
        }
      ],
      "source": [
        "#Процентное количество пропусков по каждому параметру.\n",
        "def isna_view (df):\n",
        "    return  (\n",
        "                (df.isna().mean()*100)\n",
        "                .sort_values(ascending=False)\n",
        "                .to_frame()\n",
        "                .rename(columns = {0:'percent_space'})\n",
        "                .style.background_gradient('coolwarm').format(\"{:.1f}\")\n",
        "            )\n",
        "\n",
        "isna_view (data_prepared)"
      ]
    },
    {
      "cell_type": "markdown",
      "metadata": {
        "id": "8Bvjr5GiatLY"
      },
      "source": [
        "Пропуски есть в столбцах \"repaired\", \"vehicle_type\", \"fuel_type\", \"gearbox\" и \"model\".\n",
        "\n",
        "Для \"model\" пропущенные значения можно заполнить unknown"
      ]
    },
    {
      "cell_type": "code",
      "execution_count": null,
      "metadata": {
        "id": "IXrTImOjatLY"
      },
      "outputs": [],
      "source": [
        "data_prepared['model'] = data_prepared['model'].fillna('unknown')\n",
        "data_prepared['vehicle_type'] = data_prepared['vehicle_type'].fillna('unknown')\n",
        "data_prepared['repaired'] = data_prepared['repaired'].fillna('unknown')\n",
        "data_prepared['fuel_type'] = data_prepared['fuel_type'].fillna('unknown')\n",
        "\n",
        "data_prepared.dropna(subset=['gearbox'], inplace=True)\n",
        "data_prepared.dropna(subset=['gearbox'], inplace=True)"
      ]
    },
    {
      "cell_type": "code",
      "execution_count": null,
      "metadata": {
        "id": "JdPahMc0atLZ",
        "outputId": "6b923684-1feb-4a20-fcce-aa3ad37b695d"
      },
      "outputs": [
        {
          "data": {
            "text/html": [
              "<style  type=\"text/css\" >\n",
              "#T_d0243_row0_col0,#T_d0243_row1_col0,#T_d0243_row2_col0,#T_d0243_row3_col0,#T_d0243_row4_col0,#T_d0243_row5_col0,#T_d0243_row6_col0,#T_d0243_row7_col0,#T_d0243_row8_col0,#T_d0243_row9_col0{\n",
              "            background-color:  #3b4cc0;\n",
              "            color:  #f1f1f1;\n",
              "        }</style><table id=\"T_d0243_\" ><thead>    <tr>        <th class=\"blank level0\" ></th>        <th class=\"col_heading level0 col0\" >percent_space</th>    </tr></thead><tbody>\n",
              "                <tr>\n",
              "                        <th id=\"T_d0243_level0_row0\" class=\"row_heading level0 row0\" >price</th>\n",
              "                        <td id=\"T_d0243_row0_col0\" class=\"data row0 col0\" >0.0</td>\n",
              "            </tr>\n",
              "            <tr>\n",
              "                        <th id=\"T_d0243_level0_row1\" class=\"row_heading level0 row1\" >vehicle_type</th>\n",
              "                        <td id=\"T_d0243_row1_col0\" class=\"data row1 col0\" >0.0</td>\n",
              "            </tr>\n",
              "            <tr>\n",
              "                        <th id=\"T_d0243_level0_row2\" class=\"row_heading level0 row2\" >registration_year</th>\n",
              "                        <td id=\"T_d0243_row2_col0\" class=\"data row2 col0\" >0.0</td>\n",
              "            </tr>\n",
              "            <tr>\n",
              "                        <th id=\"T_d0243_level0_row3\" class=\"row_heading level0 row3\" >gearbox</th>\n",
              "                        <td id=\"T_d0243_row3_col0\" class=\"data row3 col0\" >0.0</td>\n",
              "            </tr>\n",
              "            <tr>\n",
              "                        <th id=\"T_d0243_level0_row4\" class=\"row_heading level0 row4\" >power</th>\n",
              "                        <td id=\"T_d0243_row4_col0\" class=\"data row4 col0\" >0.0</td>\n",
              "            </tr>\n",
              "            <tr>\n",
              "                        <th id=\"T_d0243_level0_row5\" class=\"row_heading level0 row5\" >model</th>\n",
              "                        <td id=\"T_d0243_row5_col0\" class=\"data row5 col0\" >0.0</td>\n",
              "            </tr>\n",
              "            <tr>\n",
              "                        <th id=\"T_d0243_level0_row6\" class=\"row_heading level0 row6\" >kilometer</th>\n",
              "                        <td id=\"T_d0243_row6_col0\" class=\"data row6 col0\" >0.0</td>\n",
              "            </tr>\n",
              "            <tr>\n",
              "                        <th id=\"T_d0243_level0_row7\" class=\"row_heading level0 row7\" >fuel_type</th>\n",
              "                        <td id=\"T_d0243_row7_col0\" class=\"data row7 col0\" >0.0</td>\n",
              "            </tr>\n",
              "            <tr>\n",
              "                        <th id=\"T_d0243_level0_row8\" class=\"row_heading level0 row8\" >brand</th>\n",
              "                        <td id=\"T_d0243_row8_col0\" class=\"data row8 col0\" >0.0</td>\n",
              "            </tr>\n",
              "            <tr>\n",
              "                        <th id=\"T_d0243_level0_row9\" class=\"row_heading level0 row9\" >repaired</th>\n",
              "                        <td id=\"T_d0243_row9_col0\" class=\"data row9 col0\" >0.0</td>\n",
              "            </tr>\n",
              "    </tbody></table>"
            ],
            "text/plain": [
              "<pandas.io.formats.style.Styler at 0x7f048c99d610>"
            ]
          },
          "execution_count": 24,
          "metadata": {},
          "output_type": "execute_result"
        }
      ],
      "source": [
        "isna_view (data_prepared)"
      ]
    },
    {
      "cell_type": "code",
      "execution_count": null,
      "metadata": {
        "id": "WVJWeTDEatLZ",
        "outputId": "7a70e84b-c13c-4b80-b135-f028228c4b4a"
      },
      "outputs": [
        {
          "name": "stdout",
          "output_type": "stream",
          "text": [
            "Количество строк до предобработки: 354369\n",
            "Количество строк после предобработки: 290337\n",
            "Потеряно: 0.18069300644243713 %\n"
          ]
        }
      ],
      "source": [
        "print('Количество строк до предобработки:', data.shape[0])\n",
        "print('Количество строк после предобработки:', data_prepared.shape[0])\n",
        "print('Потеряно:', (data.shape[0] - data_prepared.shape[0])/data.shape[0], '%')"
      ]
    },
    {
      "cell_type": "code",
      "execution_count": null,
      "metadata": {
        "id": "VkhCNl8patLa",
        "outputId": "49eafb53-e94b-47c6-cf8b-3ecafdff7dad"
      },
      "outputs": [
        {
          "name": "stdout",
          "output_type": "stream",
          "text": [
            "<class 'pandas.core.frame.DataFrame'>\n",
            "RangeIndex: 354369 entries, 0 to 354368\n",
            "Data columns (total 16 columns):\n",
            " #   Column              Non-Null Count   Dtype         \n",
            "---  ------              --------------   -----         \n",
            " 0   date_crawled        354369 non-null  datetime64[ns]\n",
            " 1   price               354369 non-null  int64         \n",
            " 2   vehicle_type        316879 non-null  object        \n",
            " 3   registration_year   354369 non-null  int64         \n",
            " 4   gearbox             334536 non-null  object        \n",
            " 5   power               354369 non-null  int64         \n",
            " 6   model               334664 non-null  object        \n",
            " 7   kilometer           354369 non-null  int64         \n",
            " 8   registration_month  354369 non-null  int64         \n",
            " 9   fuel_type           321474 non-null  object        \n",
            " 10  brand               354369 non-null  object        \n",
            " 11  repaired            283215 non-null  object        \n",
            " 12  date_created        354369 non-null  datetime64[ns]\n",
            " 13  number_of_pictures  354369 non-null  int64         \n",
            " 14  postal_code         354369 non-null  int64         \n",
            " 15  last_seen           354369 non-null  datetime64[ns]\n",
            "dtypes: datetime64[ns](3), int64(7), object(6)\n",
            "memory usage: 43.3+ MB\n"
          ]
        }
      ],
      "source": [
        "data.info()"
      ]
    },
    {
      "cell_type": "code",
      "execution_count": null,
      "metadata": {
        "id": "fo5-xUvhatLa",
        "outputId": "6eb328b2-c36c-42ff-cb55-e19c3e85f28a"
      },
      "outputs": [
        {
          "name": "stdout",
          "output_type": "stream",
          "text": [
            "<class 'pandas.core.frame.DataFrame'>\n",
            "Int64Index: 290337 entries, 1 to 354368\n",
            "Data columns (total 10 columns):\n",
            " #   Column             Non-Null Count   Dtype \n",
            "---  ------             --------------   ----- \n",
            " 0   price              290337 non-null  int64 \n",
            " 1   vehicle_type       290337 non-null  object\n",
            " 2   registration_year  290337 non-null  int64 \n",
            " 3   gearbox            290337 non-null  object\n",
            " 4   power              290337 non-null  int64 \n",
            " 5   model              290337 non-null  object\n",
            " 6   kilometer          290337 non-null  int64 \n",
            " 7   fuel_type          290337 non-null  object\n",
            " 8   brand              290337 non-null  object\n",
            " 9   repaired           290337 non-null  object\n",
            "dtypes: int64(4), object(6)\n",
            "memory usage: 24.4+ MB\n"
          ]
        }
      ],
      "source": [
        "data_prepared.info()"
      ]
    },
    {
      "cell_type": "markdown",
      "metadata": {
        "id": "7nU6Wm02atLb"
      },
      "source": [
        "**Подготовка данных к обучению**"
      ]
    },
    {
      "cell_type": "markdown",
      "metadata": {
        "id": "AHNDC4MxatLb"
      },
      "source": [
        "Категориальные признаки необходимо преобразовать методом прямого кодирования, удалив первые столбцы для избежания дамми-ловушки."
      ]
    },
    {
      "cell_type": "code",
      "execution_count": null,
      "metadata": {
        "id": "q09n-ql8atLb",
        "outputId": "682df841-cc7c-49b4-c128-3977b5db9cac"
      },
      "outputs": [
        {
          "data": {
            "text/html": [
              "<div>\n",
              "<style scoped>\n",
              "    .dataframe tbody tr th:only-of-type {\n",
              "        vertical-align: middle;\n",
              "    }\n",
              "\n",
              "    .dataframe tbody tr th {\n",
              "        vertical-align: top;\n",
              "    }\n",
              "\n",
              "    .dataframe thead th {\n",
              "        text-align: right;\n",
              "    }\n",
              "</style>\n",
              "<table border=\"1\" class=\"dataframe\">\n",
              "  <thead>\n",
              "    <tr style=\"text-align: right;\">\n",
              "      <th></th>\n",
              "      <th>price</th>\n",
              "      <th>vehicle_type</th>\n",
              "      <th>registration_year</th>\n",
              "      <th>gearbox</th>\n",
              "      <th>power</th>\n",
              "      <th>model</th>\n",
              "      <th>kilometer</th>\n",
              "      <th>fuel_type</th>\n",
              "      <th>brand</th>\n",
              "      <th>repaired</th>\n",
              "    </tr>\n",
              "  </thead>\n",
              "  <tbody>\n",
              "    <tr>\n",
              "      <th>1</th>\n",
              "      <td>18300</td>\n",
              "      <td>coupe</td>\n",
              "      <td>2011</td>\n",
              "      <td>manual</td>\n",
              "      <td>190</td>\n",
              "      <td>unknown</td>\n",
              "      <td>125000</td>\n",
              "      <td>gasoline</td>\n",
              "      <td>audi</td>\n",
              "      <td>yes</td>\n",
              "    </tr>\n",
              "    <tr>\n",
              "      <th>2</th>\n",
              "      <td>9800</td>\n",
              "      <td>suv</td>\n",
              "      <td>2004</td>\n",
              "      <td>auto</td>\n",
              "      <td>163</td>\n",
              "      <td>grand</td>\n",
              "      <td>125000</td>\n",
              "      <td>gasoline</td>\n",
              "      <td>jeep</td>\n",
              "      <td>unknown</td>\n",
              "    </tr>\n",
              "    <tr>\n",
              "      <th>3</th>\n",
              "      <td>1500</td>\n",
              "      <td>small</td>\n",
              "      <td>2001</td>\n",
              "      <td>manual</td>\n",
              "      <td>75</td>\n",
              "      <td>golf</td>\n",
              "      <td>150000</td>\n",
              "      <td>petrol</td>\n",
              "      <td>volkswagen</td>\n",
              "      <td>no</td>\n",
              "    </tr>\n",
              "    <tr>\n",
              "      <th>4</th>\n",
              "      <td>3600</td>\n",
              "      <td>small</td>\n",
              "      <td>2008</td>\n",
              "      <td>manual</td>\n",
              "      <td>69</td>\n",
              "      <td>fabia</td>\n",
              "      <td>90000</td>\n",
              "      <td>gasoline</td>\n",
              "      <td>skoda</td>\n",
              "      <td>no</td>\n",
              "    </tr>\n",
              "    <tr>\n",
              "      <th>5</th>\n",
              "      <td>650</td>\n",
              "      <td>sedan</td>\n",
              "      <td>1995</td>\n",
              "      <td>manual</td>\n",
              "      <td>102</td>\n",
              "      <td>3er</td>\n",
              "      <td>150000</td>\n",
              "      <td>petrol</td>\n",
              "      <td>bmw</td>\n",
              "      <td>yes</td>\n",
              "    </tr>\n",
              "  </tbody>\n",
              "</table>\n",
              "</div>"
            ],
            "text/plain": [
              "   price vehicle_type  registration_year gearbox  power    model  kilometer  \\\n",
              "1  18300        coupe               2011  manual    190  unknown     125000   \n",
              "2   9800          suv               2004    auto    163    grand     125000   \n",
              "3   1500        small               2001  manual     75     golf     150000   \n",
              "4   3600        small               2008  manual     69    fabia      90000   \n",
              "5    650        sedan               1995  manual    102      3er     150000   \n",
              "\n",
              "  fuel_type       brand repaired  \n",
              "1  gasoline        audi      yes  \n",
              "2  gasoline        jeep  unknown  \n",
              "3    petrol  volkswagen       no  \n",
              "4  gasoline       skoda       no  \n",
              "5    petrol         bmw      yes  "
            ]
          },
          "execution_count": 28,
          "metadata": {},
          "output_type": "execute_result"
        }
      ],
      "source": [
        "data_prepared.head()"
      ]
    },
    {
      "cell_type": "code",
      "execution_count": null,
      "metadata": {
        "id": "Rrvl430FatLc"
      },
      "outputs": [],
      "source": [
        "#Список категориальных признаков\n",
        "category_columns = ['vehicle_type', \n",
        "                    'gearbox',\n",
        "                    'model', \n",
        "                    'fuel_type',\n",
        "                    'brand', \n",
        "                    'repaired']\n",
        "\n",
        "#Кодирование OHE\n",
        "data_prepared_OHE = data_prepared \n",
        "data_prepared_OHE = pd.get_dummies(data_prepared, columns=category_columns)\n",
        "\n",
        "\n",
        "#Кодирование OE\n",
        "encoder = OrdinalEncoder()\n",
        "data_prepared_OE = data_prepared\n",
        "data_prepared_OE[category_columns] = encoder.fit_transform(data_prepared[category_columns])\n"
      ]
    },
    {
      "cell_type": "markdown",
      "metadata": {
        "id": "eiPWJ8platLc"
      },
      "source": [
        "Выполним разделение на тренировочную и валидационную выборки."
      ]
    },
    {
      "cell_type": "markdown",
      "metadata": {
        "id": "Qy6LWF_latLc"
      },
      "source": [
        "#Разделение признаков и целевой переменной\n",
        "features = data_prepared.drop(columns='price')\n",
        "target = data_prepared['price']\n",
        "\n",
        "#Разделение выборки на тренировочную и тестовую\n",
        "features_train, features_test, target_train, target_test = train_test_split(\n",
        "    features, \n",
        "    target, \n",
        "    test_size=0.25, \n",
        "    train_size=0.75)"
      ]
    },
    {
      "cell_type": "code",
      "execution_count": null,
      "metadata": {
        "scrolled": true,
        "id": "U8QodFdSatLd",
        "outputId": "6231dd7c-823f-4359-9ffb-5b257c1f2774"
      },
      "outputs": [
        {
          "name": "stdout",
          "output_type": "stream",
          "text": [
            "Размер обучающей выборки OHE: (174202, 315)\n",
            "Размер валидационной выборки OHE: (58067, 315)\n",
            "Размер тестовой выборки OHE: (58068, 315)\n",
            "**************************************************\n",
            "Размер обучающей выборки OE: (174202, 9)\n",
            "Размер валидационной выборки OE: (58067, 9)\n",
            "Размер тестовой выборки OE: (58068, 9)\n"
          ]
        }
      ],
      "source": [
        "#Разделение признаков и целевой переменной\n",
        "features_OHE = data_prepared_OHE.drop(columns='price')\n",
        "target_OHE = data_prepared_OHE['price']\n",
        "\n",
        "#Разделение на тренировочную, валидационную и тестовую выборки.\n",
        "features_train_OHE, features_temp_OHE, target_train_OHE, target_temp_OHE = train_test_split(\n",
        "    features_OHE, \n",
        "    target_OHE, \n",
        "    test_size=0.4, \n",
        "    train_size=0.6)\n",
        "\n",
        "features_valid_OHE, features_test_OHE, target_valid_OHE, target_test_OHE = train_test_split(\n",
        "    features_temp_OHE, \n",
        "    target_temp_OHE, \n",
        "    test_size = 0.5, \n",
        "    train_size =0.5)\n",
        "\n",
        "print(f'Размер обучающей выборки OHE: {features_train_OHE.shape}')\n",
        "print(f'Размер валидационной выборки OHE: {features_valid_OHE.shape}')\n",
        "print(f'Размер тестовой выборки OHE: {features_test_OHE.shape}')\n",
        "\n",
        "print('*'*50)\n",
        "\n",
        "#Разделение признаков и целевой переменной\n",
        "features_OE = data_prepared_OE.drop(columns='price')\n",
        "target_OE = data_prepared_OE['price']\n",
        "\n",
        "#Разделение на тренировочную, валидационную и тестовую выборки.\n",
        "features_train_OE, features_temp_OE, target_train_OE, target_temp_OE = train_test_split(\n",
        "    features_OE, \n",
        "    target_OE, \n",
        "    test_size=0.4, \n",
        "    train_size=0.6)\n",
        "\n",
        "features_valid_OE, features_test_OE, target_valid_OE, target_test_OE = train_test_split(\n",
        "    features_temp_OE, \n",
        "    target_temp_OE, \n",
        "    test_size = 0.5, \n",
        "    train_size =0.5)\n",
        "\n",
        "print(f'Размер обучающей выборки OE: {features_train_OE.shape}')\n",
        "print(f'Размер валидационной выборки OE: {features_valid_OE.shape}')\n",
        "print(f'Размер тестовой выборки OE: {features_test_OE.shape}')"
      ]
    },
    {
      "cell_type": "markdown",
      "metadata": {
        "id": "PrVq9F9ZatLd"
      },
      "source": [
        "Выполним масштабирование признаков путем стандартизации данных."
      ]
    },
    {
      "cell_type": "code",
      "execution_count": null,
      "metadata": {
        "collapsed": true,
        "id": "tAvdzjBUatLd",
        "outputId": "55fe8e0f-f1d1-4f0a-8885-1fb21abe5224"
      },
      "outputs": [
        {
          "name": "stderr",
          "output_type": "stream",
          "text": [
            "/tmp/ipykernel_85/1167851719.py:6: SettingWithCopyWarning: \n",
            "A value is trying to be set on a copy of a slice from a DataFrame.\n",
            "Try using .loc[row_indexer,col_indexer] = value instead\n",
            "\n",
            "See the caveats in the documentation: https://pandas.pydata.org/pandas-docs/stable/user_guide/indexing.html#returning-a-view-versus-a-copy\n",
            "  features_train_OHE[numeric] = scaler.transform(features_train_OHE[numeric])\n",
            "/opt/conda/lib/python3.9/site-packages/pandas/core/indexing.py:1738: SettingWithCopyWarning: \n",
            "A value is trying to be set on a copy of a slice from a DataFrame.\n",
            "Try using .loc[row_indexer,col_indexer] = value instead\n",
            "\n",
            "See the caveats in the documentation: https://pandas.pydata.org/pandas-docs/stable/user_guide/indexing.html#returning-a-view-versus-a-copy\n",
            "  self._setitem_single_column(loc, value[:, i].tolist(), pi)\n",
            "/tmp/ipykernel_85/1167851719.py:7: SettingWithCopyWarning: \n",
            "A value is trying to be set on a copy of a slice from a DataFrame.\n",
            "Try using .loc[row_indexer,col_indexer] = value instead\n",
            "\n",
            "See the caveats in the documentation: https://pandas.pydata.org/pandas-docs/stable/user_guide/indexing.html#returning-a-view-versus-a-copy\n",
            "  features_valid_OHE[numeric] = scaler.transform(features_valid_OHE[numeric])\n",
            "/opt/conda/lib/python3.9/site-packages/pandas/core/indexing.py:1738: SettingWithCopyWarning: \n",
            "A value is trying to be set on a copy of a slice from a DataFrame.\n",
            "Try using .loc[row_indexer,col_indexer] = value instead\n",
            "\n",
            "See the caveats in the documentation: https://pandas.pydata.org/pandas-docs/stable/user_guide/indexing.html#returning-a-view-versus-a-copy\n",
            "  self._setitem_single_column(loc, value[:, i].tolist(), pi)\n",
            "/tmp/ipykernel_85/1167851719.py:8: SettingWithCopyWarning: \n",
            "A value is trying to be set on a copy of a slice from a DataFrame.\n",
            "Try using .loc[row_indexer,col_indexer] = value instead\n",
            "\n",
            "See the caveats in the documentation: https://pandas.pydata.org/pandas-docs/stable/user_guide/indexing.html#returning-a-view-versus-a-copy\n",
            "  features_test_OHE[numeric] = scaler.transform(features_test_OHE[numeric])\n",
            "/opt/conda/lib/python3.9/site-packages/pandas/core/indexing.py:1738: SettingWithCopyWarning: \n",
            "A value is trying to be set on a copy of a slice from a DataFrame.\n",
            "Try using .loc[row_indexer,col_indexer] = value instead\n",
            "\n",
            "See the caveats in the documentation: https://pandas.pydata.org/pandas-docs/stable/user_guide/indexing.html#returning-a-view-versus-a-copy\n",
            "  self._setitem_single_column(loc, value[:, i].tolist(), pi)\n",
            "/tmp/ipykernel_85/1167851719.py:19: SettingWithCopyWarning: \n",
            "A value is trying to be set on a copy of a slice from a DataFrame.\n",
            "Try using .loc[row_indexer,col_indexer] = value instead\n",
            "\n",
            "See the caveats in the documentation: https://pandas.pydata.org/pandas-docs/stable/user_guide/indexing.html#returning-a-view-versus-a-copy\n",
            "  features_train_OE[numeric] = scaler.transform(features_train_OE[numeric])\n",
            "/opt/conda/lib/python3.9/site-packages/pandas/core/indexing.py:1738: SettingWithCopyWarning: \n",
            "A value is trying to be set on a copy of a slice from a DataFrame.\n",
            "Try using .loc[row_indexer,col_indexer] = value instead\n",
            "\n",
            "See the caveats in the documentation: https://pandas.pydata.org/pandas-docs/stable/user_guide/indexing.html#returning-a-view-versus-a-copy\n",
            "  self._setitem_single_column(loc, value[:, i].tolist(), pi)\n",
            "/tmp/ipykernel_85/1167851719.py:20: SettingWithCopyWarning: \n",
            "A value is trying to be set on a copy of a slice from a DataFrame.\n",
            "Try using .loc[row_indexer,col_indexer] = value instead\n",
            "\n",
            "See the caveats in the documentation: https://pandas.pydata.org/pandas-docs/stable/user_guide/indexing.html#returning-a-view-versus-a-copy\n",
            "  features_valid_OE[numeric] = scaler.transform(features_valid_OE[numeric])\n"
          ]
        },
        {
          "name": "stdout",
          "output_type": "stream",
          "text": [
            "(174202, 315)\n",
            "(58067, 315)\n",
            "(58068, 315)\n",
            "**************************************************\n",
            "(174202, 9)\n",
            "(58067, 9)\n",
            "(58068, 9)\n"
          ]
        },
        {
          "name": "stderr",
          "output_type": "stream",
          "text": [
            "/opt/conda/lib/python3.9/site-packages/pandas/core/indexing.py:1738: SettingWithCopyWarning: \n",
            "A value is trying to be set on a copy of a slice from a DataFrame.\n",
            "Try using .loc[row_indexer,col_indexer] = value instead\n",
            "\n",
            "See the caveats in the documentation: https://pandas.pydata.org/pandas-docs/stable/user_guide/indexing.html#returning-a-view-versus-a-copy\n",
            "  self._setitem_single_column(loc, value[:, i].tolist(), pi)\n",
            "/tmp/ipykernel_85/1167851719.py:21: SettingWithCopyWarning: \n",
            "A value is trying to be set on a copy of a slice from a DataFrame.\n",
            "Try using .loc[row_indexer,col_indexer] = value instead\n",
            "\n",
            "See the caveats in the documentation: https://pandas.pydata.org/pandas-docs/stable/user_guide/indexing.html#returning-a-view-versus-a-copy\n",
            "  features_test_OE[numeric] = scaler.transform(features_test_OE[numeric])\n",
            "/opt/conda/lib/python3.9/site-packages/pandas/core/indexing.py:1738: SettingWithCopyWarning: \n",
            "A value is trying to be set on a copy of a slice from a DataFrame.\n",
            "Try using .loc[row_indexer,col_indexer] = value instead\n",
            "\n",
            "See the caveats in the documentation: https://pandas.pydata.org/pandas-docs/stable/user_guide/indexing.html#returning-a-view-versus-a-copy\n",
            "  self._setitem_single_column(loc, value[:, i].tolist(), pi)\n"
          ]
        }
      ],
      "source": [
        "#Названия признаков, содержащих числовые значения\n",
        "numeric = ['registration_year', 'power', 'kilometer']\n",
        "\n",
        "scaler = StandardScaler()\n",
        "scaler.fit(features_train_OHE[numeric])\n",
        "features_train_OHE[numeric] = scaler.transform(features_train_OHE[numeric])\n",
        "features_valid_OHE[numeric] = scaler.transform(features_valid_OHE[numeric])\n",
        "features_test_OHE[numeric] = scaler.transform(features_test_OHE[numeric])\n",
        "\n",
        "\n",
        "print(features_train_OHE.shape)\n",
        "print(features_valid_OHE.shape)\n",
        "print(features_test_OHE.shape)\n",
        "\n",
        "print('*'*50)\n",
        "\n",
        "scaler = StandardScaler()\n",
        "scaler.fit(features_train_OE[numeric])\n",
        "features_train_OE[numeric] = scaler.transform(features_train_OE[numeric])\n",
        "features_valid_OE[numeric] = scaler.transform(features_valid_OE[numeric])\n",
        "features_test_OE[numeric] = scaler.transform(features_test_OE[numeric])\n",
        "\n",
        "print(features_train_OE.shape)\n",
        "print(features_valid_OE.shape)\n",
        "print(features_test_OE.shape)"
      ]
    },
    {
      "cell_type": "markdown",
      "metadata": {
        "id": "N87_ByCIatLe"
      },
      "source": [
        "## Обучение моделей"
      ]
    },
    {
      "cell_type": "markdown",
      "metadata": {
        "id": "gT1DEzJOatLf"
      },
      "source": [
        "Обучим несколько моделей, оценивая их качество метрикой MAE, и замеряя время обучения и предсказания."
      ]
    },
    {
      "cell_type": "markdown",
      "metadata": {
        "id": "7WeLglcQatLf"
      },
      "source": [
        "**LinearRegression**"
      ]
    },
    {
      "cell_type": "code",
      "execution_count": null,
      "metadata": {
        "id": "knAdMe4WatLf",
        "outputId": "5fca31d5-29ac-4737-ede4-a48601280a3f"
      },
      "outputs": [
        {
          "name": "stdout",
          "output_type": "stream",
          "text": [
            "RMSE: 2524.6899554300344\n",
            "Время обучения модели 17.924330234527588\n",
            "Время предсказания модели 0.11875009536743164\n",
            "CPU times: user 12 s, sys: 6.06 s, total: 18.1 s\n",
            "Wall time: 18 s\n"
          ]
        }
      ],
      "source": [
        "%%time\n",
        "#Обучение модели\n",
        "start = time.time()\n",
        "model_LR = LinearRegression()\n",
        "model_LR = model_LR.fit(features_train_OHE, target_train_OHE)\n",
        "train_LR = time.time() - start\n",
        "\n",
        "#Предсказание модели\n",
        "start = time.time()\n",
        "predictions_LR = model_LR.predict(features_valid_OHE) \n",
        "result_LR = mean_squared_error(target_valid_OHE, predictions_LR, squared=False)\n",
        "predict_LR = time.time() - start\n",
        "\n",
        "print(\"RMSE:\", result_LR)\n",
        "print('Время обучения модели', train_LR)\n",
        "print('Время предсказания модели',predict_LR)"
      ]
    },
    {
      "cell_type": "markdown",
      "metadata": {
        "id": "9lZ-mgX3atLg"
      },
      "source": [
        "**RandomForestRegressor**"
      ]
    },
    {
      "cell_type": "code",
      "execution_count": null,
      "metadata": {
        "id": "huvojzDkatLg",
        "outputId": "90b10f7d-f128-41f5-e2ce-4496453c3520"
      },
      "outputs": [
        {
          "name": "stdout",
          "output_type": "stream",
          "text": [
            "RMSE: 1586.645062673646\n",
            "Время обучения модели 121.50795578956604\n",
            "Время предсказания модели 6.598031759262085\n",
            "CPU times: user 2min 6s, sys: 1.59 s, total: 2min 7s\n",
            "Wall time: 2min 8s\n"
          ]
        }
      ],
      "source": [
        "%%time\n",
        "#Обучение модели\n",
        "start = time.time()\n",
        "model_RFR = RandomForestRegressor(\n",
        "    random_state=12345, \n",
        "    criterion='mse', \n",
        "    n_estimators=300)\n",
        "model_RFR.fit(features_train_OE, target_train_OE)\n",
        "train_RFR = time.time() - start\n",
        "\n",
        "#Предсказание модели\n",
        "start = time.time()\n",
        "predictions_RFR = model_RFR.predict(features_valid_OE) \n",
        "result_RFR = (mean_squared_error(target_valid_OE, predictions_RFR))**0.5\n",
        "predict_RFR = time.time() - start\n",
        "\n",
        "print(\"RMSE:\", result_RFR)\n",
        "print('Время обучения модели', train_RFR)\n",
        "print('Время предсказания модели',predict_RFR)"
      ]
    },
    {
      "cell_type": "markdown",
      "metadata": {
        "id": "yDot8rcFatLh"
      },
      "source": [
        "**CatBoostRegressor**"
      ]
    },
    {
      "cell_type": "code",
      "execution_count": null,
      "metadata": {
        "id": "Dg0lKXiXatLh",
        "outputId": "0fe44b75-2858-447a-b31d-ad60c6a3431a"
      },
      "outputs": [
        {
          "name": "stdout",
          "output_type": "stream",
          "text": [
            "0:\tlearn: 3512.0155933\ttest: 3495.1041838\tbest: 3495.1041838 (0)\ttotal: 23.1ms\tremaining: 23.1s\n",
            "100:\tlearn: 1610.4353905\ttest: 1654.7530502\tbest: 1654.7530502 (100)\ttotal: 2.19s\tremaining: 19.5s\n",
            "200:\tlearn: 1531.0063391\ttest: 1606.3920251\tbest: 1606.3101104 (199)\ttotal: 4.36s\tremaining: 17.3s\n",
            "300:\tlearn: 1483.7893984\ttest: 1581.7496460\tbest: 1581.7304563 (299)\ttotal: 6.53s\tremaining: 15.2s\n",
            "400:\tlearn: 1447.9887091\ttest: 1566.5014716\tbest: 1566.5014716 (400)\ttotal: 8.82s\tremaining: 13.2s\n",
            "500:\tlearn: 1421.7163673\ttest: 1557.0585616\tbest: 1557.0585616 (500)\ttotal: 11s\tremaining: 10.9s\n",
            "600:\tlearn: 1401.2421374\ttest: 1551.2621399\tbest: 1551.1238917 (590)\ttotal: 13.1s\tremaining: 8.7s\n",
            "700:\tlearn: 1382.4087874\ttest: 1545.5991748\tbest: 1545.5634720 (699)\ttotal: 15.3s\tremaining: 6.51s\n",
            "800:\tlearn: 1366.3482573\ttest: 1541.5985589\tbest: 1541.3624213 (798)\ttotal: 17.5s\tremaining: 4.34s\n",
            "900:\tlearn: 1353.5170931\ttest: 1539.5648260\tbest: 1539.5648260 (900)\ttotal: 19.6s\tremaining: 2.15s\n",
            "999:\tlearn: 1340.6991734\ttest: 1535.9383765\tbest: 1535.8055926 (994)\ttotal: 21.7s\tremaining: 0us\n",
            "\n",
            "bestTest = 1535.805593\n",
            "bestIteration = 994\n",
            "\n",
            "Shrink model to first 995 iterations.\n",
            "RMSE: 1535.8055926366505\n",
            "Время обучения модели 23.034512519836426\n",
            "Время предсказания модели 0.06418108940124512\n",
            "CPU times: user 21.9 s, sys: 131 ms, total: 22.1 s\n",
            "Wall time: 23.1 s\n"
          ]
        }
      ],
      "source": [
        "%%time\n",
        "#Обучение модели\n",
        "start = time.time()\n",
        "model_CAT = CatBoostRegressor(random_state=123,learning_rate=0.4, verbose=100, n_estimators=1000)\n",
        "model_CAT.fit(features_train_OE, target_train_OE, eval_set=(features_valid_OE, target_valid_OE))\n",
        "train_CAT = time.time() - start\n",
        "\n",
        "#Предсказание модели\n",
        "start = time.time()\n",
        "predictions_CAT = model_CAT.predict(features_valid_OE)\n",
        "result_CAT = (mean_squared_error(target_valid_OE, predictions_CAT))**0.5\n",
        "predict_CAT = time.time() - start\n",
        "\n",
        "print(\"RMSE:\", result_CAT)\n",
        "print('Время обучения модели', train_CAT)\n",
        "print('Время предсказания модели',predict_CAT)"
      ]
    },
    {
      "cell_type": "markdown",
      "metadata": {
        "id": "29b61BwKatLi"
      },
      "source": [
        "**LGBMRegressor**"
      ]
    },
    {
      "cell_type": "code",
      "execution_count": null,
      "metadata": {
        "scrolled": true,
        "id": "sHoDZ-JZatLi",
        "outputId": "0386013b-ab59-4ac7-daee-cf1fcceaa806"
      },
      "outputs": [
        {
          "name": "stderr",
          "output_type": "stream",
          "text": [
            "/opt/conda/lib/python3.9/site-packages/lightgbm/sklearn.py:736: UserWarning: 'verbose' argument is deprecated and will be removed in a future release of LightGBM. Pass 'log_evaluation()' callback via 'callbacks' argument instead.\n",
            "  _log_warning(\"'verbose' argument is deprecated and will be removed in a future release of LightGBM. \"\n"
          ]
        },
        {
          "name": "stdout",
          "output_type": "stream",
          "text": [
            "[100]\tvalid_0's rmse: 1591.81\n",
            "[200]\tvalid_0's rmse: 1565.06\n",
            "[300]\tvalid_0's rmse: 1554.1\n",
            "[400]\tvalid_0's rmse: 1548.88\n",
            "[500]\tvalid_0's rmse: 1541.44\n",
            "[600]\tvalid_0's rmse: 1537.89\n",
            "[700]\tvalid_0's rmse: 1536.91\n",
            "[800]\tvalid_0's rmse: 1538.09\n",
            "[900]\tvalid_0's rmse: 1538.89\n",
            "[1000]\tvalid_0's rmse: 1540.15\n",
            "RMSE: 1540.149874438612\n",
            "Время обучения модели 333.8690915107727\n",
            "Время предсказания модели 4.533081531524658\n",
            "CPU times: user 5min 33s, sys: 2.6 s, total: 5min 36s\n",
            "Wall time: 5min 38s\n"
          ]
        }
      ],
      "source": [
        "%%time\n",
        "#Обучение модели\n",
        "start = time.time()\n",
        "model_LGB = lgbm.sklearn.LGBMRegressor(n_estimators=1000, random_state=12345, learning_rate=0.4, objective='rmse')\n",
        "model_LGB.fit(features_train_OE, target_train_OE, eval_set=(features_valid_OE, target_valid_OE), verbose=100)\n",
        "end = time.time()\n",
        "train_LGB = time.time() - start\n",
        "\n",
        "#Предсказание модели\n",
        "start = time.time()\n",
        "predictions_LGB = model_LGB.predict(features_valid_OE)\n",
        "result_LGB = (mean_squared_error(target_valid_OE, predictions_LGB))**0.5\n",
        "predict_LGB = time.time() - start\n",
        "\n",
        "print(\"RMSE:\", result_LGB)\n",
        "print('Время обучения модели', train_LGB)\n",
        "print('Время предсказания модели',predict_LGB)"
      ]
    },
    {
      "cell_type": "markdown",
      "metadata": {
        "id": "sYJCwKwsatLi"
      },
      "source": [
        "## Анализ моделей"
      ]
    },
    {
      "cell_type": "markdown",
      "metadata": {
        "id": "zPD-3wZcatLj"
      },
      "source": [
        "Полученные при обучении моделей результаты сведем в таблицу для наглядности."
      ]
    },
    {
      "cell_type": "code",
      "execution_count": null,
      "metadata": {
        "scrolled": false,
        "id": "KY8UJ2h5atLj",
        "outputId": "4f72de3d-ad71-4e94-f2eb-53d10757531b"
      },
      "outputs": [
        {
          "data": {
            "text/html": [
              "<div>\n",
              "<style scoped>\n",
              "    .dataframe tbody tr th:only-of-type {\n",
              "        vertical-align: middle;\n",
              "    }\n",
              "\n",
              "    .dataframe tbody tr th {\n",
              "        vertical-align: top;\n",
              "    }\n",
              "\n",
              "    .dataframe thead th {\n",
              "        text-align: right;\n",
              "    }\n",
              "</style>\n",
              "<table border=\"1\" class=\"dataframe\">\n",
              "  <thead>\n",
              "    <tr style=\"text-align: right;\">\n",
              "      <th></th>\n",
              "      <th>LinearRegression</th>\n",
              "      <th>RandomForestRegressor</th>\n",
              "      <th>CatBoostRegressor</th>\n",
              "      <th>LGBMRegressor</th>\n",
              "    </tr>\n",
              "  </thead>\n",
              "  <tbody>\n",
              "    <tr>\n",
              "      <th>RMSE</th>\n",
              "      <td>2524.689955</td>\n",
              "      <td>1586.645063</td>\n",
              "      <td>1535.805593</td>\n",
              "      <td>1540.149874</td>\n",
              "    </tr>\n",
              "    <tr>\n",
              "      <th>Скорость обучения модели</th>\n",
              "      <td>17.924330</td>\n",
              "      <td>121.507956</td>\n",
              "      <td>24.767786</td>\n",
              "      <td>333.869092</td>\n",
              "    </tr>\n",
              "    <tr>\n",
              "      <th>Скорость предсказания модели</th>\n",
              "      <td>0.118750</td>\n",
              "      <td>6.598032</td>\n",
              "      <td>0.061962</td>\n",
              "      <td>4.533082</td>\n",
              "    </tr>\n",
              "  </tbody>\n",
              "</table>\n",
              "</div>"
            ],
            "text/plain": [
              "                              LinearRegression  RandomForestRegressor  \\\n",
              "RMSE                               2524.689955            1586.645063   \n",
              "Скорость обучения модели             17.924330             121.507956   \n",
              "Скорость предсказания модели          0.118750               6.598032   \n",
              "\n",
              "                              CatBoostRegressor  LGBMRegressor  \n",
              "RMSE                                1535.805593    1540.149874  \n",
              "Скорость обучения модели              24.767786     333.869092  \n",
              "Скорость предсказания модели           0.061962       4.533082  "
            ]
          },
          "execution_count": 36,
          "metadata": {},
          "output_type": "execute_result"
        }
      ],
      "source": [
        "#Результаты моделей\n",
        "result_tab = pd.DataFrame(\n",
        "    index=['RMSE','Скорость обучения модели','Скорость предсказания модели'], \n",
        "    columns=[\n",
        "        'LinearRegression',\n",
        "        'RandomForestRegressor',\n",
        "        'CatBoostRegressor',\n",
        "        'LGBMRegressor'])\n",
        "result_tab['LinearRegression'] = result_LR, train_LR, predict_LR\n",
        "result_tab['RandomForestRegressor'] = result_RFR, train_RFR, predict_RFR\n",
        "result_tab['CatBoostRegressor'] = result_CAT, train_CAT, predict_CAT\n",
        "result_tab['LGBMRegressor'] = result_LGB, train_LGB, predict_LGB\n",
        "result_tab"
      ]
    },
    {
      "cell_type": "markdown",
      "metadata": {
        "id": "1k-xlm6eatLj"
      },
      "source": [
        "Проверим качество CatBoostRegressor на тестовой выборке."
      ]
    },
    {
      "cell_type": "code",
      "execution_count": null,
      "metadata": {
        "scrolled": true,
        "id": "uQ1YLTagatLk",
        "outputId": "bd0c3ef3-7338-4d4c-a906-d4009cda1993"
      },
      "outputs": [
        {
          "name": "stdout",
          "output_type": "stream",
          "text": [
            "RMSE: 1554.3935430244965\n",
            "Время предсказания модели 0.05555081367492676\n",
            "CPU times: user 53.9 ms, sys: 3.98 ms, total: 57.9 ms\n",
            "Wall time: 55.9 ms\n"
          ]
        }
      ],
      "source": [
        "%%time\n",
        "\n",
        "#Предсказание модели\n",
        "start = time.time()\n",
        "predictions_CAT = model_CAT.predict(features_test_OE)\n",
        "result_CAT_test = (mean_squared_error(target_test_OE, predictions_CAT))**0.5\n",
        "predict_CAT_test = time.time() - start\n",
        "\n",
        "print(\"RMSE:\", result_CAT_test)\n",
        "print('Время предсказания модели',predict_CAT_test)"
      ]
    },
    {
      "cell_type": "markdown",
      "metadata": {
        "id": "OXphrwg1atLk"
      },
      "source": [
        "По условию задания, критерии, которые важны заказчику:\n",
        "- качество предсказания;\n",
        "- время обучения модели;\n",
        "- время предсказания модели.\n",
        "\n",
        "Лучшее качество предсказания показала модель CatBoostRegressor, но с небольшим отрывом идет LGBMRegressor, который существенно отстает по скорости обучения и предсказания. Учитывая высокую скорость работы, лучшей моделью можно назвать CatBoostRegressor."
      ]
    }
  ],
  "metadata": {
    "ExecuteTimeLog": [
      {
        "duration": 1138,
        "start_time": "2022-11-15T10:09:36.153Z"
      },
      {
        "duration": 1027,
        "start_time": "2022-11-15T10:09:37.293Z"
      },
      {
        "duration": 36,
        "start_time": "2022-11-15T10:10:05.825Z"
      },
      {
        "duration": 27,
        "start_time": "2022-11-15T10:16:01.657Z"
      },
      {
        "duration": 125,
        "start_time": "2022-11-15T10:16:02.387Z"
      },
      {
        "duration": 637,
        "start_time": "2022-11-15T10:16:03.954Z"
      },
      {
        "duration": 5,
        "start_time": "2022-11-15T10:24:05.298Z"
      },
      {
        "duration": 3,
        "start_time": "2022-11-15T10:25:00.634Z"
      },
      {
        "duration": 133,
        "start_time": "2022-11-15T10:25:03.745Z"
      },
      {
        "duration": 104,
        "start_time": "2022-11-15T10:26:12.826Z"
      },
      {
        "duration": 9,
        "start_time": "2022-11-15T10:26:22.250Z"
      },
      {
        "duration": 3,
        "start_time": "2022-11-15T10:31:16.242Z"
      },
      {
        "duration": 111,
        "start_time": "2022-11-15T10:31:26.641Z"
      },
      {
        "duration": 804,
        "start_time": "2022-11-15T10:31:42.818Z"
      },
      {
        "duration": 117,
        "start_time": "2022-11-15T10:31:46.090Z"
      },
      {
        "duration": 11,
        "start_time": "2022-11-15T10:31:48.425Z"
      },
      {
        "duration": 10,
        "start_time": "2022-11-15T10:32:10.256Z"
      },
      {
        "duration": 4,
        "start_time": "2022-11-15T10:32:27.986Z"
      },
      {
        "duration": 118,
        "start_time": "2022-11-15T10:32:53.833Z"
      },
      {
        "duration": 1273,
        "start_time": "2022-11-15T10:34:47.667Z"
      },
      {
        "duration": 1339,
        "start_time": "2022-11-15T10:35:17.602Z"
      },
      {
        "duration": 1316,
        "start_time": "2022-11-15T10:35:37.113Z"
      },
      {
        "duration": 121,
        "start_time": "2022-11-15T10:36:00.898Z"
      },
      {
        "duration": 105,
        "start_time": "2022-11-15T10:36:12.880Z"
      },
      {
        "duration": 213,
        "start_time": "2022-11-15T10:36:44.035Z"
      },
      {
        "duration": 79,
        "start_time": "2022-11-15T10:37:52.507Z"
      },
      {
        "duration": 25,
        "start_time": "2022-11-15T10:37:55.242Z"
      },
      {
        "duration": 278,
        "start_time": "2022-11-15T10:38:58.921Z"
      },
      {
        "duration": 252,
        "start_time": "2022-11-15T10:39:13.394Z"
      },
      {
        "duration": 259,
        "start_time": "2022-11-15T10:39:33.124Z"
      },
      {
        "duration": 268,
        "start_time": "2022-11-15T10:39:48.145Z"
      },
      {
        "duration": 165,
        "start_time": "2022-11-15T10:40:09.769Z"
      },
      {
        "duration": 101,
        "start_time": "2022-11-15T10:40:17.233Z"
      },
      {
        "duration": 250,
        "start_time": "2022-11-15T10:40:22.856Z"
      },
      {
        "duration": 250,
        "start_time": "2022-11-15T10:40:29.257Z"
      },
      {
        "duration": 278,
        "start_time": "2022-11-15T11:10:05.167Z"
      },
      {
        "duration": 290,
        "start_time": "2022-11-15T11:10:16.168Z"
      },
      {
        "duration": 268,
        "start_time": "2022-11-15T11:10:25.191Z"
      },
      {
        "duration": 273,
        "start_time": "2022-11-15T11:12:08.855Z"
      },
      {
        "duration": 268,
        "start_time": "2022-11-15T11:14:03.672Z"
      },
      {
        "duration": 1909,
        "start_time": "2022-11-15T11:16:25.895Z"
      },
      {
        "duration": 1386,
        "start_time": "2022-11-15T11:17:10.744Z"
      },
      {
        "duration": 6,
        "start_time": "2022-11-15T11:17:19.015Z"
      },
      {
        "duration": 7,
        "start_time": "2022-11-15T11:18:12.303Z"
      },
      {
        "duration": 5,
        "start_time": "2022-11-15T11:21:55.256Z"
      },
      {
        "duration": 7,
        "start_time": "2022-11-15T11:23:53.071Z"
      },
      {
        "duration": 2067,
        "start_time": "2022-11-15T11:24:28.559Z"
      },
      {
        "duration": 80,
        "start_time": "2022-11-15T11:31:00.651Z"
      },
      {
        "duration": 1882,
        "start_time": "2022-11-15T11:33:21.248Z"
      },
      {
        "duration": 95,
        "start_time": "2022-11-15T11:34:06.471Z"
      },
      {
        "duration": 6,
        "start_time": "2022-11-15T11:43:09.822Z"
      },
      {
        "duration": 6,
        "start_time": "2022-11-15T11:43:36.081Z"
      },
      {
        "duration": 13,
        "start_time": "2022-11-15T11:43:56.158Z"
      },
      {
        "duration": 210,
        "start_time": "2022-11-15T11:44:26.734Z"
      },
      {
        "duration": 48,
        "start_time": "2022-11-15T11:45:02.990Z"
      },
      {
        "duration": 27,
        "start_time": "2022-11-15T11:45:21.903Z"
      },
      {
        "duration": 36,
        "start_time": "2022-11-15T11:46:50.087Z"
      },
      {
        "duration": 163,
        "start_time": "2022-11-15T11:48:40.408Z"
      },
      {
        "duration": 242,
        "start_time": "2022-11-15T11:49:35.623Z"
      },
      {
        "duration": 206,
        "start_time": "2022-11-15T11:49:39.744Z"
      },
      {
        "duration": 93,
        "start_time": "2022-11-15T11:50:03.210Z"
      },
      {
        "duration": 216,
        "start_time": "2022-11-15T11:52:11.519Z"
      },
      {
        "duration": 4,
        "start_time": "2022-11-15T11:53:43.591Z"
      },
      {
        "duration": 11,
        "start_time": "2022-11-15T11:53:51.782Z"
      },
      {
        "duration": 11,
        "start_time": "2022-11-16T06:56:32.687Z"
      },
      {
        "duration": 52,
        "start_time": "2022-11-16T06:56:34.115Z"
      },
      {
        "duration": 1570,
        "start_time": "2022-11-16T06:56:38.948Z"
      },
      {
        "duration": 3025,
        "start_time": "2022-11-16T06:56:40.520Z"
      },
      {
        "duration": 24,
        "start_time": "2022-11-16T06:56:43.547Z"
      },
      {
        "duration": 140,
        "start_time": "2022-11-16T06:56:47.372Z"
      },
      {
        "duration": 310,
        "start_time": "2022-11-16T06:57:06.041Z"
      },
      {
        "duration": 64,
        "start_time": "2022-11-16T06:57:19.156Z"
      },
      {
        "duration": 50,
        "start_time": "2022-11-16T07:15:59.456Z"
      },
      {
        "duration": 46,
        "start_time": "2022-11-16T07:16:12.419Z"
      },
      {
        "duration": 59,
        "start_time": "2022-11-16T07:16:24.750Z"
      },
      {
        "duration": 177,
        "start_time": "2022-11-16T07:21:11.940Z"
      },
      {
        "duration": 181,
        "start_time": "2022-11-16T07:24:59.909Z"
      },
      {
        "duration": 71,
        "start_time": "2022-11-16T07:25:47.206Z"
      },
      {
        "duration": 432,
        "start_time": "2022-11-16T07:25:55.042Z"
      },
      {
        "duration": 769,
        "start_time": "2022-11-16T07:26:11.425Z"
      },
      {
        "duration": 28,
        "start_time": "2022-11-16T07:26:12.502Z"
      },
      {
        "duration": 14,
        "start_time": "2022-11-16T07:26:31.299Z"
      },
      {
        "duration": 249,
        "start_time": "2022-11-16T07:28:42.538Z"
      },
      {
        "duration": 84,
        "start_time": "2022-11-16T07:29:09.514Z"
      },
      {
        "duration": 423,
        "start_time": "2022-11-16T07:29:42.883Z"
      },
      {
        "duration": 6,
        "start_time": "2022-11-16T07:29:54.714Z"
      },
      {
        "duration": 10,
        "start_time": "2022-11-16T07:32:22.954Z"
      },
      {
        "duration": 48,
        "start_time": "2022-11-16T07:32:37.189Z"
      },
      {
        "duration": 533,
        "start_time": "2022-11-16T07:32:40.266Z"
      },
      {
        "duration": 31,
        "start_time": "2022-11-16T07:35:04.676Z"
      },
      {
        "duration": 26,
        "start_time": "2022-11-16T07:35:59.611Z"
      },
      {
        "duration": 364,
        "start_time": "2022-11-16T07:37:48.371Z"
      },
      {
        "duration": 493,
        "start_time": "2022-11-16T07:38:02.653Z"
      },
      {
        "duration": 34,
        "start_time": "2022-11-16T08:19:35.931Z"
      },
      {
        "duration": 39,
        "start_time": "2022-11-16T08:19:42.702Z"
      },
      {
        "duration": 28,
        "start_time": "2022-11-16T08:20:37.498Z"
      },
      {
        "duration": 39,
        "start_time": "2022-11-16T08:20:47.307Z"
      },
      {
        "duration": 73,
        "start_time": "2022-11-16T08:21:37.594Z"
      },
      {
        "duration": 22,
        "start_time": "2022-11-16T08:21:53.189Z"
      },
      {
        "duration": 25,
        "start_time": "2022-11-16T08:24:39.883Z"
      },
      {
        "duration": 29,
        "start_time": "2022-11-16T08:25:22.865Z"
      },
      {
        "duration": 28,
        "start_time": "2022-11-16T08:25:28.017Z"
      },
      {
        "duration": 1653,
        "start_time": "2022-11-16T08:26:01.017Z"
      },
      {
        "duration": 20,
        "start_time": "2022-11-16T08:27:20.435Z"
      },
      {
        "duration": 1443,
        "start_time": "2022-11-16T08:27:22.570Z"
      },
      {
        "duration": 160,
        "start_time": "2022-11-16T08:27:34.482Z"
      },
      {
        "duration": 28,
        "start_time": "2022-11-16T08:27:57.154Z"
      },
      {
        "duration": 437,
        "start_time": "2022-11-16T08:27:57.617Z"
      },
      {
        "duration": 478,
        "start_time": "2022-11-16T08:29:49.001Z"
      },
      {
        "duration": 6,
        "start_time": "2022-11-16T08:29:53.064Z"
      },
      {
        "duration": 55,
        "start_time": "2022-11-16T08:30:06.562Z"
      },
      {
        "duration": 418,
        "start_time": "2022-11-16T08:30:11.105Z"
      },
      {
        "duration": 347,
        "start_time": "2022-11-16T08:32:36.246Z"
      },
      {
        "duration": 24,
        "start_time": "2022-11-16T08:35:21.482Z"
      },
      {
        "duration": 222,
        "start_time": "2022-11-16T08:37:04.635Z"
      },
      {
        "duration": 390,
        "start_time": "2022-11-16T08:37:29.722Z"
      },
      {
        "duration": 4,
        "start_time": "2022-11-16T08:43:31.993Z"
      },
      {
        "duration": 28,
        "start_time": "2022-11-16T08:43:37.730Z"
      },
      {
        "duration": 24,
        "start_time": "2022-11-16T08:47:16.193Z"
      },
      {
        "duration": 238,
        "start_time": "2022-11-16T08:47:32.480Z"
      },
      {
        "duration": 24,
        "start_time": "2022-11-16T08:49:24.600Z"
      },
      {
        "duration": 194,
        "start_time": "2022-11-16T08:49:25.104Z"
      },
      {
        "duration": 169,
        "start_time": "2022-11-16T08:49:55.250Z"
      },
      {
        "duration": 174,
        "start_time": "2022-11-16T08:50:07.457Z"
      },
      {
        "duration": 253,
        "start_time": "2022-11-16T08:50:13.313Z"
      },
      {
        "duration": 356,
        "start_time": "2022-11-16T08:54:53.640Z"
      },
      {
        "duration": 22,
        "start_time": "2022-11-16T10:56:11.418Z"
      },
      {
        "duration": 267,
        "start_time": "2022-11-16T10:56:15.528Z"
      },
      {
        "duration": 225,
        "start_time": "2022-11-16T10:56:22.280Z"
      },
      {
        "duration": 41,
        "start_time": "2022-11-16T10:58:49.405Z"
      },
      {
        "duration": 4,
        "start_time": "2022-11-16T11:01:30.611Z"
      },
      {
        "duration": 13,
        "start_time": "2022-11-16T11:18:53.888Z"
      },
      {
        "duration": 14,
        "start_time": "2022-11-16T11:19:00.968Z"
      },
      {
        "duration": 31,
        "start_time": "2022-11-16T11:19:10.976Z"
      },
      {
        "duration": 33,
        "start_time": "2022-11-16T11:19:22.651Z"
      },
      {
        "duration": 125,
        "start_time": "2022-11-16T11:24:23.032Z"
      },
      {
        "duration": 200,
        "start_time": "2022-11-16T11:58:14.603Z"
      },
      {
        "duration": 251,
        "start_time": "2022-11-16T12:00:10.752Z"
      },
      {
        "duration": 35,
        "start_time": "2022-11-16T12:00:54.885Z"
      },
      {
        "duration": 638,
        "start_time": "2022-11-16T12:00:56.525Z"
      },
      {
        "duration": 422,
        "start_time": "2022-11-16T12:09:46.645Z"
      },
      {
        "duration": 382,
        "start_time": "2022-11-16T12:10:45.088Z"
      },
      {
        "duration": 401,
        "start_time": "2022-11-16T12:10:59.701Z"
      },
      {
        "duration": 6,
        "start_time": "2022-11-16T12:11:29.783Z"
      },
      {
        "duration": 55,
        "start_time": "2022-11-16T12:11:36.446Z"
      },
      {
        "duration": 409,
        "start_time": "2022-11-16T12:11:49.928Z"
      },
      {
        "duration": 190,
        "start_time": "2022-11-16T12:12:16.454Z"
      },
      {
        "duration": 219,
        "start_time": "2022-11-16T12:13:23.766Z"
      },
      {
        "duration": 216,
        "start_time": "2022-11-16T12:14:55.414Z"
      },
      {
        "duration": 329,
        "start_time": "2022-11-16T12:15:21.639Z"
      },
      {
        "duration": 29,
        "start_time": "2022-11-16T12:15:33.901Z"
      },
      {
        "duration": 205,
        "start_time": "2022-11-16T12:15:46.142Z"
      },
      {
        "duration": 199,
        "start_time": "2022-11-16T12:15:53.997Z"
      },
      {
        "duration": 23,
        "start_time": "2022-11-16T12:16:07.589Z"
      },
      {
        "duration": 76,
        "start_time": "2022-11-16T13:22:27.187Z"
      },
      {
        "duration": 16,
        "start_time": "2022-11-16T13:22:55.514Z"
      },
      {
        "duration": 43,
        "start_time": "2022-11-16T13:26:08.198Z"
      },
      {
        "duration": 146,
        "start_time": "2022-11-16T13:27:08.003Z"
      },
      {
        "duration": 73,
        "start_time": "2022-11-16T13:27:16.234Z"
      },
      {
        "duration": 4,
        "start_time": "2022-11-16T13:28:43.698Z"
      },
      {
        "duration": 5,
        "start_time": "2022-11-16T13:30:18.683Z"
      },
      {
        "duration": 3,
        "start_time": "2022-11-16T13:30:38.490Z"
      },
      {
        "duration": 23,
        "start_time": "2022-11-16T13:30:58.745Z"
      },
      {
        "duration": 5,
        "start_time": "2022-11-16T13:31:07.066Z"
      },
      {
        "duration": 5,
        "start_time": "2022-11-16T13:31:21.986Z"
      },
      {
        "duration": 15,
        "start_time": "2022-11-16T13:36:16.816Z"
      },
      {
        "duration": 23,
        "start_time": "2022-11-16T13:36:41.155Z"
      },
      {
        "duration": 14,
        "start_time": "2022-11-16T13:36:46.754Z"
      },
      {
        "duration": 961,
        "start_time": "2022-11-16T13:46:33.249Z"
      },
      {
        "duration": 18,
        "start_time": "2022-11-16T13:46:50.642Z"
      },
      {
        "duration": 26,
        "start_time": "2022-11-16T13:51:38.143Z"
      },
      {
        "duration": 781,
        "start_time": "2022-11-16T13:51:38.171Z"
      },
      {
        "duration": 15,
        "start_time": "2022-11-16T13:51:38.954Z"
      },
      {
        "duration": 147,
        "start_time": "2022-11-16T13:51:38.971Z"
      },
      {
        "duration": 211,
        "start_time": "2022-11-16T13:51:39.121Z"
      },
      {
        "duration": 87,
        "start_time": "2022-11-16T13:51:39.336Z"
      },
      {
        "duration": 255,
        "start_time": "2022-11-16T13:51:39.424Z"
      },
      {
        "duration": 30,
        "start_time": "2022-11-16T13:51:39.680Z"
      },
      {
        "duration": 474,
        "start_time": "2022-11-16T13:51:39.712Z"
      },
      {
        "duration": 6,
        "start_time": "2022-11-16T13:51:40.188Z"
      },
      {
        "duration": 69,
        "start_time": "2022-11-16T13:51:40.196Z"
      },
      {
        "duration": 396,
        "start_time": "2022-11-16T13:51:40.267Z"
      },
      {
        "duration": 201,
        "start_time": "2022-11-16T13:51:40.665Z"
      },
      {
        "duration": 35,
        "start_time": "2022-11-16T13:51:40.869Z"
      },
      {
        "duration": 248,
        "start_time": "2022-11-16T13:51:40.905Z"
      },
      {
        "duration": 332,
        "start_time": "2022-11-16T13:51:41.155Z"
      },
      {
        "duration": 23,
        "start_time": "2022-11-16T13:51:41.488Z"
      },
      {
        "duration": 222,
        "start_time": "2022-11-16T13:51:41.513Z"
      },
      {
        "duration": 22,
        "start_time": "2022-11-16T13:51:41.737Z"
      },
      {
        "duration": 24,
        "start_time": "2022-11-16T13:51:41.761Z"
      },
      {
        "duration": 5,
        "start_time": "2022-11-16T13:51:41.787Z"
      },
      {
        "duration": 290,
        "start_time": "2022-11-16T13:51:41.793Z"
      },
      {
        "duration": 262,
        "start_time": "2022-11-16T13:51:42.085Z"
      },
      {
        "duration": 99,
        "start_time": "2022-11-16T13:51:42.349Z"
      },
      {
        "duration": 169,
        "start_time": "2022-11-16T13:51:42.450Z"
      },
      {
        "duration": 94,
        "start_time": "2022-11-16T13:51:42.622Z"
      },
      {
        "duration": 4,
        "start_time": "2022-11-16T13:51:42.717Z"
      },
      {
        "duration": 30,
        "start_time": "2022-11-16T13:51:42.723Z"
      },
      {
        "duration": 917,
        "start_time": "2022-11-16T13:51:46.625Z"
      },
      {
        "duration": 4,
        "start_time": "2022-11-16T13:52:07.515Z"
      },
      {
        "duration": 787,
        "start_time": "2022-11-16T13:52:07.521Z"
      },
      {
        "duration": 13,
        "start_time": "2022-11-16T13:52:08.310Z"
      },
      {
        "duration": 158,
        "start_time": "2022-11-16T13:52:08.326Z"
      },
      {
        "duration": 244,
        "start_time": "2022-11-16T13:52:08.485Z"
      },
      {
        "duration": 105,
        "start_time": "2022-11-16T13:52:08.731Z"
      },
      {
        "duration": 249,
        "start_time": "2022-11-16T13:52:08.838Z"
      },
      {
        "duration": 29,
        "start_time": "2022-11-16T13:52:09.088Z"
      },
      {
        "duration": 413,
        "start_time": "2022-11-16T13:52:09.134Z"
      },
      {
        "duration": 7,
        "start_time": "2022-11-16T13:52:09.550Z"
      },
      {
        "duration": 71,
        "start_time": "2022-11-16T13:52:09.558Z"
      },
      {
        "duration": 703,
        "start_time": "2022-11-16T13:52:09.635Z"
      },
      {
        "duration": 211,
        "start_time": "2022-11-16T13:52:10.339Z"
      },
      {
        "duration": 24,
        "start_time": "2022-11-16T13:52:10.552Z"
      },
      {
        "duration": 244,
        "start_time": "2022-11-16T13:52:10.577Z"
      },
      {
        "duration": 379,
        "start_time": "2022-11-16T13:52:10.823Z"
      },
      {
        "duration": 36,
        "start_time": "2022-11-16T13:52:11.205Z"
      },
      {
        "duration": 214,
        "start_time": "2022-11-16T13:52:11.243Z"
      },
      {
        "duration": 27,
        "start_time": "2022-11-16T13:52:11.458Z"
      },
      {
        "duration": 24,
        "start_time": "2022-11-16T13:52:11.487Z"
      },
      {
        "duration": 23,
        "start_time": "2022-11-16T13:52:11.513Z"
      },
      {
        "duration": 253,
        "start_time": "2022-11-16T13:52:11.537Z"
      },
      {
        "duration": 280,
        "start_time": "2022-11-16T13:52:11.792Z"
      },
      {
        "duration": 77,
        "start_time": "2022-11-16T13:52:12.075Z"
      },
      {
        "duration": 142,
        "start_time": "2022-11-16T13:52:12.154Z"
      },
      {
        "duration": 78,
        "start_time": "2022-11-16T13:52:12.298Z"
      },
      {
        "duration": 11,
        "start_time": "2022-11-16T13:52:12.377Z"
      },
      {
        "duration": 38,
        "start_time": "2022-11-16T13:52:12.390Z"
      },
      {
        "duration": 645,
        "start_time": "2022-11-16T13:52:12.430Z"
      },
      {
        "duration": 3,
        "start_time": "2022-11-16T13:59:28.041Z"
      },
      {
        "duration": 450,
        "start_time": "2022-11-16T13:59:33.377Z"
      },
      {
        "duration": 15,
        "start_time": "2022-11-16T14:06:34.898Z"
      },
      {
        "duration": 3,
        "start_time": "2022-11-16T14:06:54.188Z"
      },
      {
        "duration": 106,
        "start_time": "2022-11-16T14:06:58.886Z"
      },
      {
        "duration": 128,
        "start_time": "2022-11-16T14:07:16.210Z"
      },
      {
        "duration": 25,
        "start_time": "2022-11-16T14:11:45.874Z"
      },
      {
        "duration": 73,
        "start_time": "2022-11-16T14:12:02.181Z"
      },
      {
        "duration": 1577,
        "start_time": "2022-11-18T14:41:13.036Z"
      },
      {
        "duration": 1053,
        "start_time": "2022-11-18T14:41:14.615Z"
      },
      {
        "duration": 19,
        "start_time": "2022-11-18T14:41:15.669Z"
      },
      {
        "duration": 114,
        "start_time": "2022-11-18T14:41:15.690Z"
      },
      {
        "duration": 290,
        "start_time": "2022-11-18T14:41:15.805Z"
      },
      {
        "duration": 119,
        "start_time": "2022-11-18T14:41:16.097Z"
      },
      {
        "duration": 275,
        "start_time": "2022-11-18T14:41:16.218Z"
      },
      {
        "duration": 33,
        "start_time": "2022-11-18T14:41:16.494Z"
      },
      {
        "duration": 438,
        "start_time": "2022-11-18T14:41:16.530Z"
      },
      {
        "duration": 6,
        "start_time": "2022-11-18T14:41:16.971Z"
      },
      {
        "duration": 66,
        "start_time": "2022-11-18T14:41:16.978Z"
      },
      {
        "duration": 355,
        "start_time": "2022-11-18T14:41:17.046Z"
      },
      {
        "duration": 209,
        "start_time": "2022-11-18T14:41:17.403Z"
      },
      {
        "duration": 27,
        "start_time": "2022-11-18T14:41:17.614Z"
      },
      {
        "duration": 237,
        "start_time": "2022-11-18T14:41:17.643Z"
      },
      {
        "duration": 315,
        "start_time": "2022-11-18T14:41:17.881Z"
      },
      {
        "duration": 23,
        "start_time": "2022-11-18T14:41:18.198Z"
      },
      {
        "duration": 233,
        "start_time": "2022-11-18T14:41:18.222Z"
      },
      {
        "duration": 23,
        "start_time": "2022-11-18T14:41:18.456Z"
      },
      {
        "duration": 40,
        "start_time": "2022-11-18T14:41:18.481Z"
      },
      {
        "duration": 272,
        "start_time": "2022-11-18T14:41:18.522Z"
      },
      {
        "duration": 267,
        "start_time": "2022-11-18T14:41:18.796Z"
      },
      {
        "duration": 118,
        "start_time": "2022-11-18T14:41:19.065Z"
      },
      {
        "duration": 126,
        "start_time": "2022-11-18T14:41:19.185Z"
      },
      {
        "duration": 59,
        "start_time": "2022-11-18T14:41:19.313Z"
      },
      {
        "duration": 8,
        "start_time": "2022-11-18T14:41:19.374Z"
      },
      {
        "duration": 25,
        "start_time": "2022-11-18T14:41:19.383Z"
      },
      {
        "duration": 589,
        "start_time": "2022-11-18T14:41:19.411Z"
      },
      {
        "duration": 444,
        "start_time": "2022-11-18T14:41:20.002Z"
      },
      {
        "duration": 191,
        "start_time": "2022-11-18T15:00:16.467Z"
      },
      {
        "duration": 124,
        "start_time": "2022-11-18T15:05:07.684Z"
      },
      {
        "duration": 125,
        "start_time": "2022-11-18T15:05:36.386Z"
      },
      {
        "duration": 83,
        "start_time": "2022-11-18T15:08:59.236Z"
      },
      {
        "duration": 73,
        "start_time": "2022-11-18T15:12:12.506Z"
      },
      {
        "duration": 104,
        "start_time": "2022-11-18T15:14:12.705Z"
      },
      {
        "duration": 11,
        "start_time": "2022-11-18T15:19:17.893Z"
      },
      {
        "duration": 10,
        "start_time": "2022-11-18T15:19:25.717Z"
      },
      {
        "duration": 4,
        "start_time": "2022-11-18T15:19:53.571Z"
      },
      {
        "duration": 12,
        "start_time": "2022-11-18T15:20:00.138Z"
      },
      {
        "duration": 10,
        "start_time": "2022-11-18T15:20:33.437Z"
      },
      {
        "duration": 646,
        "start_time": "2022-11-18T15:20:43.643Z"
      },
      {
        "duration": 66,
        "start_time": "2022-11-19T15:54:11.900Z"
      },
      {
        "duration": 5,
        "start_time": "2022-11-19T15:54:40.279Z"
      },
      {
        "duration": 758,
        "start_time": "2022-11-19T15:54:40.286Z"
      },
      {
        "duration": 13,
        "start_time": "2022-11-19T15:54:41.046Z"
      },
      {
        "duration": 113,
        "start_time": "2022-11-19T15:54:41.061Z"
      },
      {
        "duration": 204,
        "start_time": "2022-11-19T15:54:41.176Z"
      },
      {
        "duration": 93,
        "start_time": "2022-11-19T15:54:41.382Z"
      },
      {
        "duration": 222,
        "start_time": "2022-11-19T15:54:41.476Z"
      },
      {
        "duration": 27,
        "start_time": "2022-11-19T15:54:41.700Z"
      },
      {
        "duration": 371,
        "start_time": "2022-11-19T15:54:41.729Z"
      },
      {
        "duration": 7,
        "start_time": "2022-11-19T15:54:42.102Z"
      },
      {
        "duration": 59,
        "start_time": "2022-11-19T15:54:42.111Z"
      },
      {
        "duration": 447,
        "start_time": "2022-11-19T15:54:42.172Z"
      },
      {
        "duration": 217,
        "start_time": "2022-11-19T15:54:42.621Z"
      },
      {
        "duration": 24,
        "start_time": "2022-11-19T15:54:42.840Z"
      },
      {
        "duration": 232,
        "start_time": "2022-11-19T15:54:42.866Z"
      },
      {
        "duration": 299,
        "start_time": "2022-11-19T15:54:43.100Z"
      },
      {
        "duration": 23,
        "start_time": "2022-11-19T15:54:43.401Z"
      },
      {
        "duration": 215,
        "start_time": "2022-11-19T15:54:43.425Z"
      },
      {
        "duration": 22,
        "start_time": "2022-11-19T15:54:43.641Z"
      },
      {
        "duration": 41,
        "start_time": "2022-11-19T15:54:43.664Z"
      },
      {
        "duration": 242,
        "start_time": "2022-11-19T15:54:43.706Z"
      },
      {
        "duration": 256,
        "start_time": "2022-11-19T15:54:43.949Z"
      },
      {
        "duration": 62,
        "start_time": "2022-11-19T15:54:44.206Z"
      },
      {
        "duration": 112,
        "start_time": "2022-11-19T15:54:44.271Z"
      },
      {
        "duration": 63,
        "start_time": "2022-11-19T15:54:44.384Z"
      },
      {
        "duration": 4,
        "start_time": "2022-11-19T15:54:44.448Z"
      },
      {
        "duration": 13,
        "start_time": "2022-11-19T15:54:44.453Z"
      },
      {
        "duration": 544,
        "start_time": "2022-11-19T15:54:44.467Z"
      },
      {
        "duration": 431,
        "start_time": "2022-11-19T15:54:50.765Z"
      },
      {
        "duration": 71,
        "start_time": "2022-11-19T15:54:55.097Z"
      },
      {
        "duration": 16,
        "start_time": "2022-11-19T15:58:23.955Z"
      },
      {
        "duration": 75,
        "start_time": "2022-11-19T15:58:52.843Z"
      },
      {
        "duration": 4,
        "start_time": "2022-11-19T15:59:13.439Z"
      },
      {
        "duration": 739,
        "start_time": "2022-11-19T15:59:15.161Z"
      },
      {
        "duration": 18,
        "start_time": "2022-11-19T15:59:16.131Z"
      },
      {
        "duration": 109,
        "start_time": "2022-11-19T15:59:23.254Z"
      },
      {
        "duration": 227,
        "start_time": "2022-11-19T16:01:09.547Z"
      },
      {
        "duration": 89,
        "start_time": "2022-11-19T16:01:12.152Z"
      },
      {
        "duration": 223,
        "start_time": "2022-11-19T16:01:18.553Z"
      },
      {
        "duration": 27,
        "start_time": "2022-11-19T16:01:21.578Z"
      },
      {
        "duration": 351,
        "start_time": "2022-11-19T16:01:25.392Z"
      },
      {
        "duration": 9,
        "start_time": "2022-11-19T16:01:25.827Z"
      },
      {
        "duration": 52,
        "start_time": "2022-11-19T16:01:26.890Z"
      },
      {
        "duration": 374,
        "start_time": "2022-11-19T16:01:29.945Z"
      },
      {
        "duration": 204,
        "start_time": "2022-11-19T16:01:33.471Z"
      },
      {
        "duration": 24,
        "start_time": "2022-11-19T16:01:37.490Z"
      },
      {
        "duration": 313,
        "start_time": "2022-11-19T16:01:38.347Z"
      },
      {
        "duration": 291,
        "start_time": "2022-11-19T16:01:39.346Z"
      },
      {
        "duration": 24,
        "start_time": "2022-11-19T16:01:42.476Z"
      },
      {
        "duration": 214,
        "start_time": "2022-11-19T16:01:43.000Z"
      },
      {
        "duration": 23,
        "start_time": "2022-11-19T16:01:49.571Z"
      },
      {
        "duration": 28,
        "start_time": "2022-11-19T16:01:53.672Z"
      },
      {
        "duration": 242,
        "start_time": "2022-11-19T16:02:02.786Z"
      },
      {
        "duration": 242,
        "start_time": "2022-11-19T16:02:03.755Z"
      },
      {
        "duration": 126,
        "start_time": "2022-11-19T16:02:31.276Z"
      },
      {
        "duration": 139,
        "start_time": "2022-11-19T16:02:32.816Z"
      },
      {
        "duration": 64,
        "start_time": "2022-11-19T16:02:45.772Z"
      },
      {
        "duration": 119,
        "start_time": "2022-11-19T16:02:55.114Z"
      },
      {
        "duration": 58,
        "start_time": "2022-11-19T16:02:56.364Z"
      },
      {
        "duration": 4,
        "start_time": "2022-11-19T16:02:59.163Z"
      },
      {
        "duration": 76,
        "start_time": "2022-11-19T16:03:01.710Z"
      },
      {
        "duration": 58,
        "start_time": "2022-11-19T16:03:04.186Z"
      },
      {
        "duration": 11,
        "start_time": "2022-11-19T16:03:12.237Z"
      },
      {
        "duration": 556,
        "start_time": "2022-11-19T16:03:22.644Z"
      },
      {
        "duration": 21,
        "start_time": "2022-11-19T16:03:31.159Z"
      },
      {
        "duration": 436,
        "start_time": "2022-11-19T16:03:49.863Z"
      },
      {
        "duration": 73,
        "start_time": "2022-11-19T16:04:20.266Z"
      },
      {
        "duration": 4,
        "start_time": "2022-11-19T16:05:42.736Z"
      },
      {
        "duration": 727,
        "start_time": "2022-11-19T16:05:42.741Z"
      },
      {
        "duration": 14,
        "start_time": "2022-11-19T16:05:43.469Z"
      },
      {
        "duration": 108,
        "start_time": "2022-11-19T16:05:43.496Z"
      },
      {
        "duration": 233,
        "start_time": "2022-11-19T16:05:43.605Z"
      },
      {
        "duration": 102,
        "start_time": "2022-11-19T16:05:43.840Z"
      },
      {
        "duration": 241,
        "start_time": "2022-11-19T16:05:43.944Z"
      },
      {
        "duration": 29,
        "start_time": "2022-11-19T16:05:44.187Z"
      },
      {
        "duration": 379,
        "start_time": "2022-11-19T16:05:44.219Z"
      },
      {
        "duration": 7,
        "start_time": "2022-11-19T16:05:44.600Z"
      },
      {
        "duration": 54,
        "start_time": "2022-11-19T16:05:44.608Z"
      },
      {
        "duration": 378,
        "start_time": "2022-11-19T16:05:44.664Z"
      },
      {
        "duration": 263,
        "start_time": "2022-11-19T16:05:45.043Z"
      },
      {
        "duration": 25,
        "start_time": "2022-11-19T16:05:45.308Z"
      },
      {
        "duration": 254,
        "start_time": "2022-11-19T16:05:45.335Z"
      },
      {
        "duration": 309,
        "start_time": "2022-11-19T16:05:45.590Z"
      },
      {
        "duration": 25,
        "start_time": "2022-11-19T16:05:45.901Z"
      },
      {
        "duration": 372,
        "start_time": "2022-11-19T16:05:45.928Z"
      },
      {
        "duration": 24,
        "start_time": "2022-11-19T16:05:46.302Z"
      },
      {
        "duration": 34,
        "start_time": "2022-11-19T16:05:46.328Z"
      },
      {
        "duration": 82,
        "start_time": "2022-11-19T16:05:46.364Z"
      },
      {
        "duration": 116,
        "start_time": "2022-11-19T16:05:46.448Z"
      },
      {
        "duration": 64,
        "start_time": "2022-11-19T16:05:46.565Z"
      },
      {
        "duration": 4,
        "start_time": "2022-11-19T16:05:46.632Z"
      },
      {
        "duration": 89,
        "start_time": "2022-11-19T16:05:46.637Z"
      },
      {
        "duration": 69,
        "start_time": "2022-11-19T16:05:46.727Z"
      },
      {
        "duration": 12,
        "start_time": "2022-11-19T16:05:46.798Z"
      },
      {
        "duration": 67,
        "start_time": "2022-11-19T16:05:49.529Z"
      },
      {
        "duration": 688,
        "start_time": "2022-11-19T16:05:52.500Z"
      },
      {
        "duration": 3,
        "start_time": "2022-11-19T16:06:47.721Z"
      },
      {
        "duration": 735,
        "start_time": "2022-11-19T16:06:47.726Z"
      },
      {
        "duration": 15,
        "start_time": "2022-11-19T16:06:48.462Z"
      },
      {
        "duration": 124,
        "start_time": "2022-11-19T16:06:48.479Z"
      },
      {
        "duration": 209,
        "start_time": "2022-11-19T16:06:48.605Z"
      },
      {
        "duration": 102,
        "start_time": "2022-11-19T16:06:48.815Z"
      },
      {
        "duration": 271,
        "start_time": "2022-11-19T16:06:48.919Z"
      },
      {
        "duration": 29,
        "start_time": "2022-11-19T16:06:49.191Z"
      },
      {
        "duration": 382,
        "start_time": "2022-11-19T16:06:49.222Z"
      },
      {
        "duration": 6,
        "start_time": "2022-11-19T16:06:49.605Z"
      },
      {
        "duration": 52,
        "start_time": "2022-11-19T16:06:49.612Z"
      },
      {
        "duration": 381,
        "start_time": "2022-11-19T16:06:49.665Z"
      },
      {
        "duration": 204,
        "start_time": "2022-11-19T16:06:50.048Z"
      },
      {
        "duration": 25,
        "start_time": "2022-11-19T16:06:50.254Z"
      },
      {
        "duration": 238,
        "start_time": "2022-11-19T16:06:50.281Z"
      },
      {
        "duration": 290,
        "start_time": "2022-11-19T16:06:50.521Z"
      },
      {
        "duration": 24,
        "start_time": "2022-11-19T16:06:50.813Z"
      },
      {
        "duration": 234,
        "start_time": "2022-11-19T16:06:50.838Z"
      },
      {
        "duration": 31,
        "start_time": "2022-11-19T16:06:51.073Z"
      },
      {
        "duration": 26,
        "start_time": "2022-11-19T16:06:51.106Z"
      },
      {
        "duration": 76,
        "start_time": "2022-11-19T16:06:51.134Z"
      },
      {
        "duration": 110,
        "start_time": "2022-11-19T16:06:51.211Z"
      },
      {
        "duration": 56,
        "start_time": "2022-11-19T16:06:51.322Z"
      },
      {
        "duration": 15,
        "start_time": "2022-11-19T16:06:51.382Z"
      },
      {
        "duration": 85,
        "start_time": "2022-11-19T16:06:51.399Z"
      },
      {
        "duration": 61,
        "start_time": "2022-11-19T16:06:51.486Z"
      },
      {
        "duration": 12,
        "start_time": "2022-11-19T16:06:51.549Z"
      },
      {
        "duration": 593,
        "start_time": "2022-11-19T16:06:51.562Z"
      },
      {
        "duration": 438,
        "start_time": "2022-11-19T16:06:52.158Z"
      },
      {
        "duration": 59,
        "start_time": "2022-11-19T16:06:52.598Z"
      },
      {
        "duration": 1533,
        "start_time": "2022-11-21T08:05:28.296Z"
      },
      {
        "duration": 5,
        "start_time": "2022-11-21T08:09:48.991Z"
      },
      {
        "duration": 1104,
        "start_time": "2022-11-21T08:09:48.997Z"
      },
      {
        "duration": 17,
        "start_time": "2022-11-21T08:09:50.102Z"
      },
      {
        "duration": 131,
        "start_time": "2022-11-21T08:09:50.121Z"
      },
      {
        "duration": 258,
        "start_time": "2022-11-21T08:09:50.253Z"
      },
      {
        "duration": 99,
        "start_time": "2022-11-21T08:09:50.513Z"
      },
      {
        "duration": 229,
        "start_time": "2022-11-21T08:09:50.614Z"
      },
      {
        "duration": 30,
        "start_time": "2022-11-21T08:09:50.845Z"
      },
      {
        "duration": 385,
        "start_time": "2022-11-21T08:09:50.877Z"
      },
      {
        "duration": 8,
        "start_time": "2022-11-21T08:09:51.265Z"
      },
      {
        "duration": 68,
        "start_time": "2022-11-21T08:09:51.275Z"
      },
      {
        "duration": 372,
        "start_time": "2022-11-21T08:09:51.344Z"
      },
      {
        "duration": 259,
        "start_time": "2022-11-21T08:09:51.722Z"
      },
      {
        "duration": 23,
        "start_time": "2022-11-21T08:09:51.983Z"
      },
      {
        "duration": 221,
        "start_time": "2022-11-21T08:09:52.007Z"
      },
      {
        "duration": 329,
        "start_time": "2022-11-21T08:09:52.229Z"
      },
      {
        "duration": 24,
        "start_time": "2022-11-21T08:09:52.560Z"
      },
      {
        "duration": 215,
        "start_time": "2022-11-21T08:09:52.586Z"
      },
      {
        "duration": 33,
        "start_time": "2022-11-21T08:09:52.803Z"
      },
      {
        "duration": 34,
        "start_time": "2022-11-21T08:09:52.837Z"
      },
      {
        "duration": 117,
        "start_time": "2022-11-21T08:09:52.872Z"
      },
      {
        "duration": 120,
        "start_time": "2022-11-21T08:09:52.990Z"
      },
      {
        "duration": 69,
        "start_time": "2022-11-21T08:09:53.112Z"
      },
      {
        "duration": 19,
        "start_time": "2022-11-21T08:09:53.183Z"
      },
      {
        "duration": 92,
        "start_time": "2022-11-21T08:09:53.203Z"
      },
      {
        "duration": 72,
        "start_time": "2022-11-21T08:09:53.297Z"
      },
      {
        "duration": 16,
        "start_time": "2022-11-21T08:09:53.371Z"
      },
      {
        "duration": 118,
        "start_time": "2022-11-21T08:12:18.499Z"
      },
      {
        "duration": 11,
        "start_time": "2022-11-21T08:23:20.149Z"
      },
      {
        "duration": 372,
        "start_time": "2022-11-21T08:23:32.916Z"
      },
      {
        "duration": 378,
        "start_time": "2022-11-21T08:23:38.675Z"
      },
      {
        "duration": 399,
        "start_time": "2022-11-21T08:24:00.195Z"
      },
      {
        "duration": 1175,
        "start_time": "2022-11-21T08:29:52.180Z"
      },
      {
        "duration": 1200,
        "start_time": "2022-11-21T08:32:32.116Z"
      },
      {
        "duration": 1181,
        "start_time": "2022-11-21T08:32:50.451Z"
      },
      {
        "duration": 584,
        "start_time": "2022-11-21T08:35:22.787Z"
      },
      {
        "duration": 427,
        "start_time": "2022-11-21T08:35:37.556Z"
      },
      {
        "duration": 139,
        "start_time": "2022-11-21T08:35:41.388Z"
      },
      {
        "duration": 26995,
        "start_time": "2022-11-21T08:35:46.636Z"
      },
      {
        "duration": 24401,
        "start_time": "2022-11-21T08:36:25.427Z"
      },
      {
        "duration": 9,
        "start_time": "2022-11-21T10:19:08.426Z"
      },
      {
        "duration": 4,
        "start_time": "2022-11-21T10:19:43.256Z"
      },
      {
        "duration": 431824,
        "start_time": "2022-11-21T10:19:47.436Z"
      },
      {
        "duration": 27786,
        "start_time": "2022-11-21T10:27:53.655Z"
      },
      {
        "duration": 28819,
        "start_time": "2022-11-21T10:29:04.552Z"
      },
      {
        "duration": 8,
        "start_time": "2022-11-21T10:30:41.607Z"
      },
      {
        "duration": 10,
        "start_time": "2022-11-21T10:32:18.569Z"
      },
      {
        "duration": 11528,
        "start_time": "2022-11-21T10:32:51.304Z"
      },
      {
        "duration": 5,
        "start_time": "2022-11-21T10:34:05.651Z"
      },
      {
        "duration": 4831,
        "start_time": "2022-11-21T10:34:30.057Z"
      },
      {
        "duration": 24079,
        "start_time": "2022-11-21T10:40:10.551Z"
      },
      {
        "duration": 24514,
        "start_time": "2022-11-21T10:49:00.022Z"
      },
      {
        "duration": 22795,
        "start_time": "2022-11-21T10:49:55.839Z"
      },
      {
        "duration": 27376,
        "start_time": "2022-11-21T10:53:14.846Z"
      },
      {
        "duration": 25636,
        "start_time": "2022-11-21T10:54:29.896Z"
      },
      {
        "duration": 25913,
        "start_time": "2022-11-21T10:57:19.030Z"
      },
      {
        "duration": 30558,
        "start_time": "2022-11-21T11:05:00.582Z"
      },
      {
        "duration": 422939,
        "start_time": "2022-11-21T11:05:49.677Z"
      },
      {
        "duration": 22,
        "start_time": "2022-11-21T11:12:52.619Z"
      },
      {
        "duration": 45,
        "start_time": "2022-11-21T11:13:41.310Z"
      },
      {
        "duration": 1437,
        "start_time": "2022-11-21T11:14:00.110Z"
      },
      {
        "duration": 81,
        "start_time": "2022-11-21T11:14:05.774Z"
      },
      {
        "duration": 10,
        "start_time": "2022-11-21T11:14:24.630Z"
      },
      {
        "duration": 9,
        "start_time": "2022-11-21T11:14:32.445Z"
      },
      {
        "duration": 3,
        "start_time": "2022-11-21T11:14:34.371Z"
      },
      {
        "duration": 1035,
        "start_time": "2022-11-21T11:14:34.376Z"
      },
      {
        "duration": 18,
        "start_time": "2022-11-21T11:14:35.413Z"
      },
      {
        "duration": 180,
        "start_time": "2022-11-21T11:14:35.433Z"
      },
      {
        "duration": 276,
        "start_time": "2022-11-21T11:14:35.615Z"
      },
      {
        "duration": 100,
        "start_time": "2022-11-21T11:14:35.892Z"
      },
      {
        "duration": 229,
        "start_time": "2022-11-21T11:14:35.994Z"
      },
      {
        "duration": 30,
        "start_time": "2022-11-21T11:14:36.225Z"
      },
      {
        "duration": 409,
        "start_time": "2022-11-21T11:14:36.257Z"
      },
      {
        "duration": 6,
        "start_time": "2022-11-21T11:14:36.667Z"
      },
      {
        "duration": 72,
        "start_time": "2022-11-21T11:14:36.675Z"
      },
      {
        "duration": 377,
        "start_time": "2022-11-21T11:14:36.749Z"
      },
      {
        "duration": 269,
        "start_time": "2022-11-21T11:14:37.127Z"
      },
      {
        "duration": 33,
        "start_time": "2022-11-21T11:14:37.398Z"
      },
      {
        "duration": 220,
        "start_time": "2022-11-21T11:14:37.433Z"
      },
      {
        "duration": 339,
        "start_time": "2022-11-21T11:14:37.655Z"
      },
      {
        "duration": 29,
        "start_time": "2022-11-21T11:14:37.996Z"
      },
      {
        "duration": 217,
        "start_time": "2022-11-21T11:14:38.027Z"
      },
      {
        "duration": 24,
        "start_time": "2022-11-21T11:14:38.247Z"
      },
      {
        "duration": 31,
        "start_time": "2022-11-21T11:14:38.273Z"
      },
      {
        "duration": 136,
        "start_time": "2022-11-21T11:14:38.321Z"
      },
      {
        "duration": 131,
        "start_time": "2022-11-21T11:14:38.458Z"
      },
      {
        "duration": 73,
        "start_time": "2022-11-21T11:14:38.590Z"
      },
      {
        "duration": 5,
        "start_time": "2022-11-21T11:14:38.664Z"
      },
      {
        "duration": 97,
        "start_time": "2022-11-21T11:14:38.670Z"
      },
      {
        "duration": 67,
        "start_time": "2022-11-21T11:14:38.769Z"
      },
      {
        "duration": 10,
        "start_time": "2022-11-21T11:14:38.837Z"
      },
      {
        "duration": 591,
        "start_time": "2022-11-21T11:14:38.849Z"
      },
      {
        "duration": 439,
        "start_time": "2022-11-21T11:14:39.443Z"
      },
      {
        "duration": 128,
        "start_time": "2022-11-21T11:14:39.884Z"
      },
      {
        "duration": 51,
        "start_time": "2022-11-21T11:16:34.909Z"
      },
      {
        "duration": 52,
        "start_time": "2022-11-21T11:16:56.286Z"
      },
      {
        "duration": 1375,
        "start_time": "2022-11-21T11:17:03.483Z"
      },
      {
        "duration": 1034,
        "start_time": "2022-11-21T11:17:04.860Z"
      },
      {
        "duration": 17,
        "start_time": "2022-11-21T11:17:05.896Z"
      },
      {
        "duration": 130,
        "start_time": "2022-11-21T11:17:05.914Z"
      },
      {
        "duration": 272,
        "start_time": "2022-11-21T11:17:06.045Z"
      },
      {
        "duration": 84,
        "start_time": "2022-11-21T11:17:06.319Z"
      },
      {
        "duration": 232,
        "start_time": "2022-11-21T11:17:06.404Z"
      },
      {
        "duration": 32,
        "start_time": "2022-11-21T11:17:06.638Z"
      },
      {
        "duration": 382,
        "start_time": "2022-11-21T11:17:06.672Z"
      },
      {
        "duration": 5,
        "start_time": "2022-11-21T11:17:07.057Z"
      },
      {
        "duration": 85,
        "start_time": "2022-11-21T11:17:07.064Z"
      },
      {
        "duration": 384,
        "start_time": "2022-11-21T11:17:07.151Z"
      },
      {
        "duration": 260,
        "start_time": "2022-11-21T11:17:07.537Z"
      },
      {
        "duration": 35,
        "start_time": "2022-11-21T11:17:07.799Z"
      },
      {
        "duration": 220,
        "start_time": "2022-11-21T11:17:07.836Z"
      },
      {
        "duration": 379,
        "start_time": "2022-11-21T11:17:08.058Z"
      },
      {
        "duration": 24,
        "start_time": "2022-11-21T11:17:08.439Z"
      },
      {
        "duration": 224,
        "start_time": "2022-11-21T11:17:08.465Z"
      },
      {
        "duration": 22,
        "start_time": "2022-11-21T11:17:08.690Z"
      },
      {
        "duration": 26,
        "start_time": "2022-11-21T11:17:08.720Z"
      },
      {
        "duration": 122,
        "start_time": "2022-11-21T11:17:08.748Z"
      },
      {
        "duration": 137,
        "start_time": "2022-11-21T11:17:08.872Z"
      },
      {
        "duration": 70,
        "start_time": "2022-11-21T11:17:09.011Z"
      },
      {
        "duration": 5,
        "start_time": "2022-11-21T11:17:09.083Z"
      },
      {
        "duration": 101,
        "start_time": "2022-11-21T11:17:09.090Z"
      },
      {
        "duration": 78,
        "start_time": "2022-11-21T11:17:09.193Z"
      },
      {
        "duration": 9,
        "start_time": "2022-11-21T11:17:09.273Z"
      },
      {
        "duration": 567,
        "start_time": "2022-11-21T11:17:09.285Z"
      },
      {
        "duration": 436,
        "start_time": "2022-11-21T11:17:09.854Z"
      },
      {
        "duration": 141,
        "start_time": "2022-11-21T11:17:10.291Z"
      },
      {
        "duration": 26691,
        "start_time": "2022-11-21T11:17:10.433Z"
      },
      {
        "duration": 422842,
        "start_time": "2022-11-21T11:24:50.190Z"
      },
      {
        "duration": 105,
        "start_time": "2022-11-21T11:31:53.033Z"
      },
      {
        "duration": 0,
        "start_time": "2022-11-21T11:31:53.173Z"
      },
      {
        "duration": 0,
        "start_time": "2022-11-21T11:31:53.222Z"
      },
      {
        "duration": 0,
        "start_time": "2022-11-21T11:31:53.223Z"
      },
      {
        "duration": 0,
        "start_time": "2022-11-21T11:31:53.225Z"
      },
      {
        "duration": 0,
        "start_time": "2022-11-21T11:31:53.226Z"
      },
      {
        "duration": 0,
        "start_time": "2022-11-21T11:31:53.227Z"
      },
      {
        "duration": 0,
        "start_time": "2022-11-21T11:31:53.229Z"
      },
      {
        "duration": 0,
        "start_time": "2022-11-21T11:31:53.230Z"
      },
      {
        "duration": 0,
        "start_time": "2022-11-21T11:31:53.231Z"
      },
      {
        "duration": 0,
        "start_time": "2022-11-21T11:31:53.232Z"
      },
      {
        "duration": 0,
        "start_time": "2022-11-21T11:31:53.233Z"
      },
      {
        "duration": 0,
        "start_time": "2022-11-21T11:31:53.235Z"
      },
      {
        "duration": 0,
        "start_time": "2022-11-21T11:31:53.236Z"
      },
      {
        "duration": 0,
        "start_time": "2022-11-21T11:31:53.237Z"
      },
      {
        "duration": 0,
        "start_time": "2022-11-21T11:31:53.238Z"
      },
      {
        "duration": 0,
        "start_time": "2022-11-21T11:31:53.239Z"
      },
      {
        "duration": 0,
        "start_time": "2022-11-21T11:31:53.241Z"
      },
      {
        "duration": 0,
        "start_time": "2022-11-21T11:31:53.242Z"
      },
      {
        "duration": 0,
        "start_time": "2022-11-21T11:31:53.243Z"
      },
      {
        "duration": 0,
        "start_time": "2022-11-21T11:31:53.245Z"
      },
      {
        "duration": 0,
        "start_time": "2022-11-21T11:31:53.246Z"
      },
      {
        "duration": 0,
        "start_time": "2022-11-21T11:31:53.247Z"
      },
      {
        "duration": 0,
        "start_time": "2022-11-21T11:31:53.248Z"
      },
      {
        "duration": 0,
        "start_time": "2022-11-21T11:31:53.250Z"
      },
      {
        "duration": 0,
        "start_time": "2022-11-21T11:31:53.251Z"
      },
      {
        "duration": 0,
        "start_time": "2022-11-21T11:31:53.253Z"
      },
      {
        "duration": 0,
        "start_time": "2022-11-21T11:31:53.253Z"
      },
      {
        "duration": 0,
        "start_time": "2022-11-21T11:31:53.254Z"
      },
      {
        "duration": 0,
        "start_time": "2022-11-21T11:31:53.256Z"
      },
      {
        "duration": 0,
        "start_time": "2022-11-21T11:31:53.256Z"
      },
      {
        "duration": 0,
        "start_time": "2022-11-21T11:31:53.258Z"
      },
      {
        "duration": 4,
        "start_time": "2022-11-21T11:31:56.764Z"
      },
      {
        "duration": 730,
        "start_time": "2022-11-21T11:31:59.005Z"
      },
      {
        "duration": 14,
        "start_time": "2022-11-21T11:32:00.260Z"
      },
      {
        "duration": 121,
        "start_time": "2022-11-21T11:32:00.444Z"
      },
      {
        "duration": 195,
        "start_time": "2022-11-21T11:32:01.014Z"
      },
      {
        "duration": 92,
        "start_time": "2022-11-21T11:32:01.389Z"
      },
      {
        "duration": 218,
        "start_time": "2022-11-21T11:32:02.556Z"
      },
      {
        "duration": 29,
        "start_time": "2022-11-21T11:32:02.940Z"
      },
      {
        "duration": 376,
        "start_time": "2022-11-21T11:32:03.724Z"
      },
      {
        "duration": 6,
        "start_time": "2022-11-21T11:32:04.101Z"
      },
      {
        "duration": 55,
        "start_time": "2022-11-21T11:32:04.308Z"
      },
      {
        "duration": 379,
        "start_time": "2022-11-21T11:32:04.932Z"
      },
      {
        "duration": 295,
        "start_time": "2022-11-21T11:32:05.341Z"
      },
      {
        "duration": 23,
        "start_time": "2022-11-21T11:32:05.732Z"
      },
      {
        "duration": 211,
        "start_time": "2022-11-21T11:32:06.317Z"
      },
      {
        "duration": 327,
        "start_time": "2022-11-21T11:32:06.529Z"
      },
      {
        "duration": 22,
        "start_time": "2022-11-21T11:32:06.924Z"
      },
      {
        "duration": 206,
        "start_time": "2022-11-21T11:32:07.170Z"
      },
      {
        "duration": 23,
        "start_time": "2022-11-21T11:32:07.540Z"
      },
      {
        "duration": 31,
        "start_time": "2022-11-21T11:32:08.380Z"
      },
      {
        "duration": 70,
        "start_time": "2022-11-21T11:32:11.039Z"
      },
      {
        "duration": 109,
        "start_time": "2022-11-21T11:32:11.770Z"
      },
      {
        "duration": 67,
        "start_time": "2022-11-21T11:32:12.133Z"
      },
      {
        "duration": 5,
        "start_time": "2022-11-21T11:32:12.316Z"
      },
      {
        "duration": 91,
        "start_time": "2022-11-21T11:32:12.492Z"
      },
      {
        "duration": 69,
        "start_time": "2022-11-21T11:32:12.873Z"
      },
      {
        "duration": 10,
        "start_time": "2022-11-21T11:32:13.421Z"
      },
      {
        "duration": 533,
        "start_time": "2022-11-21T11:32:13.991Z"
      },
      {
        "duration": 422,
        "start_time": "2022-11-21T11:32:14.884Z"
      },
      {
        "duration": 118,
        "start_time": "2022-11-21T11:32:16.605Z"
      },
      {
        "duration": 25391,
        "start_time": "2022-11-21T11:32:20.829Z"
      },
      {
        "duration": 440276,
        "start_time": "2022-11-21T11:32:54.855Z"
      },
      {
        "duration": 28253,
        "start_time": "2022-11-21T11:40:35.357Z"
      },
      {
        "duration": 27914,
        "start_time": "2022-11-21T11:41:47.029Z"
      },
      {
        "duration": 53,
        "start_time": "2022-11-21T11:42:21.677Z"
      },
      {
        "duration": 43,
        "start_time": "2022-11-21T11:43:00.094Z"
      },
      {
        "duration": 1021127,
        "start_time": "2022-11-21T11:43:05.479Z"
      },
      {
        "duration": 19196,
        "start_time": "2022-11-21T12:00:26.230Z"
      },
      {
        "duration": 6,
        "start_time": "2022-11-21T12:03:18.492Z"
      },
      {
        "duration": 11,
        "start_time": "2022-11-21T12:03:24.332Z"
      },
      {
        "duration": 12,
        "start_time": "2022-11-21T12:03:46.173Z"
      },
      {
        "duration": 45923,
        "start_time": "2022-11-21T12:05:50.620Z"
      },
      {
        "duration": 16,
        "start_time": "2022-11-21T12:08:22.965Z"
      },
      {
        "duration": 27900,
        "start_time": "2022-11-21T12:18:51.123Z"
      },
      {
        "duration": 4,
        "start_time": "2022-11-21T12:20:13.020Z"
      },
      {
        "duration": 21359,
        "start_time": "2022-11-21T12:20:18.468Z"
      },
      {
        "duration": 21139,
        "start_time": "2022-11-21T12:57:26.984Z"
      },
      {
        "duration": 19743,
        "start_time": "2022-11-21T12:59:44.082Z"
      },
      {
        "duration": 419009,
        "start_time": "2022-11-21T13:00:50.938Z"
      },
      {
        "duration": 27819,
        "start_time": "2022-11-21T13:10:23.161Z"
      },
      {
        "duration": 46487,
        "start_time": "2022-11-21T13:12:12.666Z"
      },
      {
        "duration": 13,
        "start_time": "2022-11-21T13:13:23.971Z"
      },
      {
        "duration": 2031,
        "start_time": "2022-11-22T10:52:43.906Z"
      },
      {
        "duration": 1086,
        "start_time": "2022-11-22T10:52:45.939Z"
      },
      {
        "duration": 18,
        "start_time": "2022-11-22T10:52:47.027Z"
      },
      {
        "duration": 119,
        "start_time": "2022-11-22T10:52:47.046Z"
      },
      {
        "duration": 266,
        "start_time": "2022-11-22T10:52:47.167Z"
      },
      {
        "duration": 111,
        "start_time": "2022-11-22T10:52:47.434Z"
      },
      {
        "duration": 256,
        "start_time": "2022-11-22T10:52:47.547Z"
      },
      {
        "duration": 28,
        "start_time": "2022-11-22T10:52:47.805Z"
      },
      {
        "duration": 385,
        "start_time": "2022-11-22T10:52:47.835Z"
      },
      {
        "duration": 5,
        "start_time": "2022-11-22T10:52:48.222Z"
      },
      {
        "duration": 68,
        "start_time": "2022-11-22T10:52:48.229Z"
      },
      {
        "duration": 361,
        "start_time": "2022-11-22T10:52:48.299Z"
      },
      {
        "duration": 291,
        "start_time": "2022-11-22T10:52:48.662Z"
      },
      {
        "duration": 27,
        "start_time": "2022-11-22T10:52:48.957Z"
      },
      {
        "duration": 255,
        "start_time": "2022-11-22T10:52:48.998Z"
      },
      {
        "duration": 338,
        "start_time": "2022-11-22T10:52:49.255Z"
      },
      {
        "duration": 33,
        "start_time": "2022-11-22T10:52:49.596Z"
      },
      {
        "duration": 232,
        "start_time": "2022-11-22T10:52:49.631Z"
      },
      {
        "duration": 32,
        "start_time": "2022-11-22T10:52:49.864Z"
      },
      {
        "duration": 25,
        "start_time": "2022-11-22T10:52:49.898Z"
      },
      {
        "duration": 115,
        "start_time": "2022-11-22T10:52:49.924Z"
      },
      {
        "duration": 116,
        "start_time": "2022-11-22T10:52:50.041Z"
      },
      {
        "duration": 67,
        "start_time": "2022-11-22T10:52:50.159Z"
      },
      {
        "duration": 4,
        "start_time": "2022-11-22T10:52:50.228Z"
      },
      {
        "duration": 103,
        "start_time": "2022-11-22T10:52:50.235Z"
      },
      {
        "duration": 69,
        "start_time": "2022-11-22T10:52:50.341Z"
      },
      {
        "duration": 11,
        "start_time": "2022-11-22T10:52:50.412Z"
      },
      {
        "duration": 610,
        "start_time": "2022-11-22T10:52:50.425Z"
      },
      {
        "duration": 459,
        "start_time": "2022-11-22T10:52:51.037Z"
      },
      {
        "duration": 143,
        "start_time": "2022-11-22T10:52:51.498Z"
      },
      {
        "duration": 19173,
        "start_time": "2022-11-22T10:52:51.642Z"
      },
      {
        "duration": 29,
        "start_time": "2022-11-22T10:53:59.706Z"
      },
      {
        "duration": 16,
        "start_time": "2022-11-22T10:54:50.407Z"
      },
      {
        "duration": 10,
        "start_time": "2022-11-22T10:55:14.755Z"
      },
      {
        "duration": 16,
        "start_time": "2022-11-22T10:56:10.466Z"
      },
      {
        "duration": 15,
        "start_time": "2022-11-22T10:56:14.546Z"
      },
      {
        "duration": 51,
        "start_time": "2022-11-22T11:39:45.868Z"
      },
      {
        "duration": 1525,
        "start_time": "2022-11-22T11:40:07.241Z"
      },
      {
        "duration": 2995,
        "start_time": "2022-11-22T11:40:08.768Z"
      },
      {
        "duration": 17,
        "start_time": "2022-11-22T11:40:11.765Z"
      },
      {
        "duration": 132,
        "start_time": "2022-11-22T11:40:11.783Z"
      },
      {
        "duration": 256,
        "start_time": "2022-11-22T11:40:11.916Z"
      },
      {
        "duration": 102,
        "start_time": "2022-11-22T11:40:12.177Z"
      },
      {
        "duration": 236,
        "start_time": "2022-11-22T11:40:12.280Z"
      },
      {
        "duration": 29,
        "start_time": "2022-11-22T11:40:12.518Z"
      },
      {
        "duration": 439,
        "start_time": "2022-11-22T11:40:12.548Z"
      },
      {
        "duration": 6,
        "start_time": "2022-11-22T11:40:12.989Z"
      },
      {
        "duration": 65,
        "start_time": "2022-11-22T11:40:12.997Z"
      },
      {
        "duration": 393,
        "start_time": "2022-11-22T11:40:13.064Z"
      },
      {
        "duration": 297,
        "start_time": "2022-11-22T11:40:13.459Z"
      },
      {
        "duration": 30,
        "start_time": "2022-11-22T11:40:13.757Z"
      },
      {
        "duration": 249,
        "start_time": "2022-11-22T11:40:13.788Z"
      },
      {
        "duration": 359,
        "start_time": "2022-11-22T11:40:14.039Z"
      },
      {
        "duration": 23,
        "start_time": "2022-11-22T11:40:14.399Z"
      },
      {
        "duration": 216,
        "start_time": "2022-11-22T11:40:14.423Z"
      },
      {
        "duration": 24,
        "start_time": "2022-11-22T11:40:14.641Z"
      },
      {
        "duration": 41,
        "start_time": "2022-11-22T11:40:14.667Z"
      },
      {
        "duration": 116,
        "start_time": "2022-11-22T11:40:14.710Z"
      },
      {
        "duration": 127,
        "start_time": "2022-11-22T11:40:14.828Z"
      },
      {
        "duration": 76,
        "start_time": "2022-11-22T11:40:14.957Z"
      },
      {
        "duration": 4,
        "start_time": "2022-11-22T11:40:15.035Z"
      },
      {
        "duration": 104,
        "start_time": "2022-11-22T11:40:15.041Z"
      },
      {
        "duration": 73,
        "start_time": "2022-11-22T11:40:15.147Z"
      },
      {
        "duration": 9,
        "start_time": "2022-11-22T11:40:15.221Z"
      },
      {
        "duration": 684,
        "start_time": "2022-11-22T11:40:15.233Z"
      },
      {
        "duration": 515,
        "start_time": "2022-11-22T11:42:32.868Z"
      },
      {
        "duration": 102,
        "start_time": "2022-11-22T11:42:39.214Z"
      },
      {
        "duration": 83,
        "start_time": "2022-11-22T11:53:40.393Z"
      },
      {
        "duration": 5,
        "start_time": "2022-11-22T11:53:52.737Z"
      },
      {
        "duration": 809,
        "start_time": "2022-11-22T11:53:52.743Z"
      },
      {
        "duration": 14,
        "start_time": "2022-11-22T11:53:53.554Z"
      },
      {
        "duration": 137,
        "start_time": "2022-11-22T11:53:53.570Z"
      },
      {
        "duration": 208,
        "start_time": "2022-11-22T11:53:53.708Z"
      },
      {
        "duration": 113,
        "start_time": "2022-11-22T11:53:53.917Z"
      },
      {
        "duration": 281,
        "start_time": "2022-11-22T11:53:54.032Z"
      },
      {
        "duration": 29,
        "start_time": "2022-11-22T11:53:54.315Z"
      },
      {
        "duration": 425,
        "start_time": "2022-11-22T11:53:54.346Z"
      },
      {
        "duration": 7,
        "start_time": "2022-11-22T11:53:54.773Z"
      },
      {
        "duration": 79,
        "start_time": "2022-11-22T11:53:54.782Z"
      },
      {
        "duration": 392,
        "start_time": "2022-11-22T11:53:54.863Z"
      },
      {
        "duration": 204,
        "start_time": "2022-11-22T11:53:55.257Z"
      },
      {
        "duration": 34,
        "start_time": "2022-11-22T11:53:55.463Z"
      },
      {
        "duration": 327,
        "start_time": "2022-11-22T11:53:55.498Z"
      },
      {
        "duration": 340,
        "start_time": "2022-11-22T11:53:55.826Z"
      },
      {
        "duration": 36,
        "start_time": "2022-11-22T11:53:56.168Z"
      },
      {
        "duration": 214,
        "start_time": "2022-11-22T11:53:56.206Z"
      },
      {
        "duration": 21,
        "start_time": "2022-11-22T11:53:56.422Z"
      },
      {
        "duration": 35,
        "start_time": "2022-11-22T11:53:56.444Z"
      },
      {
        "duration": 77,
        "start_time": "2022-11-22T11:53:56.481Z"
      },
      {
        "duration": 143,
        "start_time": "2022-11-22T11:53:56.559Z"
      },
      {
        "duration": 76,
        "start_time": "2022-11-22T11:53:56.705Z"
      },
      {
        "duration": 24,
        "start_time": "2022-11-22T11:53:56.783Z"
      },
      {
        "duration": 107,
        "start_time": "2022-11-22T11:53:56.809Z"
      },
      {
        "duration": 86,
        "start_time": "2022-11-22T11:53:56.917Z"
      },
      {
        "duration": 37,
        "start_time": "2022-11-22T11:53:57.005Z"
      },
      {
        "duration": 655,
        "start_time": "2022-11-22T11:54:00.204Z"
      },
      {
        "duration": 6,
        "start_time": "2022-11-22T11:54:43.220Z"
      },
      {
        "duration": 1030,
        "start_time": "2022-11-22T11:54:47.357Z"
      },
      {
        "duration": 990,
        "start_time": "2022-11-22T11:55:18.025Z"
      },
      {
        "duration": 1156,
        "start_time": "2022-11-22T11:55:29.198Z"
      },
      {
        "duration": 4,
        "start_time": "2022-11-22T11:55:38.933Z"
      },
      {
        "duration": 955,
        "start_time": "2022-11-22T11:55:57.526Z"
      },
      {
        "duration": 5,
        "start_time": "2022-11-22T11:56:06.371Z"
      },
      {
        "duration": 771,
        "start_time": "2022-11-22T11:56:06.377Z"
      },
      {
        "duration": 13,
        "start_time": "2022-11-22T11:56:07.150Z"
      },
      {
        "duration": 135,
        "start_time": "2022-11-22T11:56:07.165Z"
      },
      {
        "duration": 232,
        "start_time": "2022-11-22T11:56:07.302Z"
      },
      {
        "duration": 100,
        "start_time": "2022-11-22T11:56:07.535Z"
      },
      {
        "duration": 260,
        "start_time": "2022-11-22T11:56:07.637Z"
      },
      {
        "duration": 23,
        "start_time": "2022-11-22T11:56:07.899Z"
      },
      {
        "duration": 414,
        "start_time": "2022-11-22T11:56:07.925Z"
      },
      {
        "duration": 6,
        "start_time": "2022-11-22T11:56:08.341Z"
      },
      {
        "duration": 65,
        "start_time": "2022-11-22T11:56:08.349Z"
      },
      {
        "duration": 422,
        "start_time": "2022-11-22T11:56:08.415Z"
      },
      {
        "duration": 225,
        "start_time": "2022-11-22T11:56:08.839Z"
      },
      {
        "duration": 32,
        "start_time": "2022-11-22T11:56:09.067Z"
      },
      {
        "duration": 242,
        "start_time": "2022-11-22T11:56:09.101Z"
      },
      {
        "duration": 351,
        "start_time": "2022-11-22T11:56:09.344Z"
      },
      {
        "duration": 26,
        "start_time": "2022-11-22T11:56:09.696Z"
      },
      {
        "duration": 336,
        "start_time": "2022-11-22T11:56:09.723Z"
      },
      {
        "duration": 33,
        "start_time": "2022-11-22T11:56:10.061Z"
      },
      {
        "duration": 24,
        "start_time": "2022-11-22T11:56:10.096Z"
      },
      {
        "duration": 83,
        "start_time": "2022-11-22T11:56:10.122Z"
      },
      {
        "duration": 122,
        "start_time": "2022-11-22T11:56:10.206Z"
      },
      {
        "duration": 78,
        "start_time": "2022-11-22T11:56:10.329Z"
      },
      {
        "duration": 6,
        "start_time": "2022-11-22T11:56:10.410Z"
      },
      {
        "duration": 119,
        "start_time": "2022-11-22T11:56:10.418Z"
      },
      {
        "duration": 75,
        "start_time": "2022-11-22T11:56:10.539Z"
      },
      {
        "duration": 10,
        "start_time": "2022-11-22T11:56:10.616Z"
      },
      {
        "duration": 1000,
        "start_time": "2022-11-22T11:56:15.052Z"
      },
      {
        "duration": 1527,
        "start_time": "2022-11-22T11:56:53.118Z"
      },
      {
        "duration": 4,
        "start_time": "2022-11-22T11:57:37.956Z"
      },
      {
        "duration": 766,
        "start_time": "2022-11-22T11:57:37.963Z"
      },
      {
        "duration": 14,
        "start_time": "2022-11-22T11:57:38.731Z"
      },
      {
        "duration": 131,
        "start_time": "2022-11-22T11:57:38.747Z"
      },
      {
        "duration": 249,
        "start_time": "2022-11-22T11:57:38.880Z"
      },
      {
        "duration": 97,
        "start_time": "2022-11-22T11:57:39.130Z"
      },
      {
        "duration": 240,
        "start_time": "2022-11-22T11:57:39.228Z"
      },
      {
        "duration": 29,
        "start_time": "2022-11-22T11:57:39.469Z"
      },
      {
        "duration": 429,
        "start_time": "2022-11-22T11:57:39.500Z"
      },
      {
        "duration": 6,
        "start_time": "2022-11-22T11:57:39.933Z"
      },
      {
        "duration": 68,
        "start_time": "2022-11-22T11:57:39.941Z"
      },
      {
        "duration": 434,
        "start_time": "2022-11-22T11:57:40.011Z"
      },
      {
        "duration": 216,
        "start_time": "2022-11-22T11:57:40.446Z"
      },
      {
        "duration": 31,
        "start_time": "2022-11-22T11:57:40.663Z"
      },
      {
        "duration": 243,
        "start_time": "2022-11-22T11:57:40.696Z"
      },
      {
        "duration": 370,
        "start_time": "2022-11-22T11:57:40.941Z"
      },
      {
        "duration": 25,
        "start_time": "2022-11-22T11:57:41.313Z"
      },
      {
        "duration": 229,
        "start_time": "2022-11-22T11:57:41.339Z"
      },
      {
        "duration": 23,
        "start_time": "2022-11-22T11:57:41.570Z"
      },
      {
        "duration": 24,
        "start_time": "2022-11-22T11:57:41.595Z"
      },
      {
        "duration": 87,
        "start_time": "2022-11-22T11:57:41.620Z"
      },
      {
        "duration": 140,
        "start_time": "2022-11-22T11:57:41.708Z"
      },
      {
        "duration": 96,
        "start_time": "2022-11-22T11:57:41.850Z"
      },
      {
        "duration": 6,
        "start_time": "2022-11-22T11:57:41.948Z"
      },
      {
        "duration": 104,
        "start_time": "2022-11-22T11:57:41.956Z"
      },
      {
        "duration": 73,
        "start_time": "2022-11-22T11:57:42.062Z"
      },
      {
        "duration": 11,
        "start_time": "2022-11-22T11:57:42.137Z"
      },
      {
        "duration": 1470,
        "start_time": "2022-11-22T11:57:42.151Z"
      },
      {
        "duration": 20,
        "start_time": "2022-11-22T11:57:50.253Z"
      },
      {
        "duration": 33,
        "start_time": "2022-11-22T11:58:05.495Z"
      },
      {
        "duration": 608,
        "start_time": "2022-11-22T12:00:39.679Z"
      },
      {
        "duration": 507,
        "start_time": "2022-11-22T12:01:19.709Z"
      },
      {
        "duration": 204,
        "start_time": "2022-11-22T12:03:36.662Z"
      },
      {
        "duration": 181,
        "start_time": "2022-11-22T12:04:59.790Z"
      },
      {
        "duration": 149,
        "start_time": "2022-11-22T12:05:27.198Z"
      },
      {
        "duration": 19840,
        "start_time": "2022-11-22T12:06:52.739Z"
      },
      {
        "duration": 38026,
        "start_time": "2022-11-22T12:08:19.344Z"
      },
      {
        "duration": 23224,
        "start_time": "2022-11-22T12:10:00.693Z"
      },
      {
        "duration": 31930,
        "start_time": "2022-11-22T12:11:31.501Z"
      },
      {
        "duration": 1508,
        "start_time": "2022-11-22T12:35:06.430Z"
      },
      {
        "duration": 3041,
        "start_time": "2022-11-22T12:35:07.939Z"
      },
      {
        "duration": 18,
        "start_time": "2022-11-22T12:35:10.981Z"
      },
      {
        "duration": 149,
        "start_time": "2022-11-22T12:35:11.001Z"
      },
      {
        "duration": 269,
        "start_time": "2022-11-22T12:35:11.152Z"
      },
      {
        "duration": 101,
        "start_time": "2022-11-22T12:35:11.422Z"
      },
      {
        "duration": 232,
        "start_time": "2022-11-22T12:35:11.525Z"
      },
      {
        "duration": 37,
        "start_time": "2022-11-22T12:35:11.758Z"
      },
      {
        "duration": 408,
        "start_time": "2022-11-22T12:35:11.797Z"
      },
      {
        "duration": 6,
        "start_time": "2022-11-22T12:35:12.208Z"
      },
      {
        "duration": 68,
        "start_time": "2022-11-22T12:35:12.215Z"
      },
      {
        "duration": 414,
        "start_time": "2022-11-22T12:35:12.284Z"
      },
      {
        "duration": 306,
        "start_time": "2022-11-22T12:35:12.700Z"
      },
      {
        "duration": 28,
        "start_time": "2022-11-22T12:35:13.008Z"
      },
      {
        "duration": 245,
        "start_time": "2022-11-22T12:35:13.037Z"
      },
      {
        "duration": 374,
        "start_time": "2022-11-22T12:35:13.284Z"
      },
      {
        "duration": 34,
        "start_time": "2022-11-22T12:35:13.659Z"
      },
      {
        "duration": 228,
        "start_time": "2022-11-22T12:35:13.695Z"
      },
      {
        "duration": 29,
        "start_time": "2022-11-22T12:35:13.925Z"
      },
      {
        "duration": 55,
        "start_time": "2022-11-22T12:35:13.955Z"
      },
      {
        "duration": 154,
        "start_time": "2022-11-22T12:35:14.012Z"
      },
      {
        "duration": 138,
        "start_time": "2022-11-22T12:35:14.169Z"
      },
      {
        "duration": 78,
        "start_time": "2022-11-22T12:35:14.309Z"
      },
      {
        "duration": 5,
        "start_time": "2022-11-22T12:35:14.389Z"
      },
      {
        "duration": 101,
        "start_time": "2022-11-22T12:35:14.395Z"
      },
      {
        "duration": 81,
        "start_time": "2022-11-22T12:35:14.498Z"
      },
      {
        "duration": 13,
        "start_time": "2022-11-22T12:35:14.581Z"
      },
      {
        "duration": 1435,
        "start_time": "2022-11-22T12:35:14.597Z"
      },
      {
        "duration": 578,
        "start_time": "2022-11-22T12:35:16.034Z"
      },
      {
        "duration": 269,
        "start_time": "2022-11-22T12:35:27.630Z"
      },
      {
        "duration": 18129,
        "start_time": "2022-11-22T12:35:42.052Z"
      },
      {
        "duration": 128113,
        "start_time": "2022-11-22T12:36:28.179Z"
      },
      {
        "duration": 24835,
        "start_time": "2022-11-22T12:39:07.791Z"
      },
      {
        "duration": 338408,
        "start_time": "2022-11-22T12:39:40.218Z"
      },
      {
        "duration": 0,
        "start_time": "2022-11-22T12:45:18.706Z"
      },
      {
        "duration": 13,
        "start_time": "2022-11-22T13:11:48.496Z"
      },
      {
        "duration": 23524,
        "start_time": "2022-11-22T13:16:59.987Z"
      },
      {
        "duration": 390,
        "start_time": "2022-11-22T13:19:44.456Z"
      },
      {
        "duration": 60,
        "start_time": "2022-11-22T13:21:06.236Z"
      },
      {
        "duration": 60,
        "start_time": "2022-11-22T13:21:18.481Z"
      },
      {
        "duration": 23104,
        "start_time": "2022-11-22T13:21:25.911Z"
      },
      {
        "duration": 54,
        "start_time": "2022-11-23T10:23:48.374Z"
      },
      {
        "duration": 3816,
        "start_time": "2022-11-23T10:23:53.012Z"
      },
      {
        "duration": 1183,
        "start_time": "2022-11-23T10:23:56.830Z"
      },
      {
        "duration": 19,
        "start_time": "2022-11-23T10:23:58.014Z"
      },
      {
        "duration": 161,
        "start_time": "2022-11-23T10:23:58.035Z"
      },
      {
        "duration": 277,
        "start_time": "2022-11-23T10:23:58.198Z"
      },
      {
        "duration": 436,
        "start_time": "2022-11-23T10:23:58.486Z"
      },
      {
        "duration": 259,
        "start_time": "2022-11-23T10:23:58.923Z"
      },
      {
        "duration": 41,
        "start_time": "2022-11-23T10:23:59.183Z"
      },
      {
        "duration": 433,
        "start_time": "2022-11-23T10:23:59.225Z"
      },
      {
        "duration": 6,
        "start_time": "2022-11-23T10:23:59.661Z"
      },
      {
        "duration": 73,
        "start_time": "2022-11-23T10:23:59.678Z"
      },
      {
        "duration": 405,
        "start_time": "2022-11-23T10:23:59.753Z"
      },
      {
        "duration": 307,
        "start_time": "2022-11-23T10:24:00.160Z"
      },
      {
        "duration": 34,
        "start_time": "2022-11-23T10:24:00.468Z"
      },
      {
        "duration": 293,
        "start_time": "2022-11-23T10:24:00.504Z"
      },
      {
        "duration": 366,
        "start_time": "2022-11-23T10:24:00.799Z"
      },
      {
        "duration": 38,
        "start_time": "2022-11-23T10:24:01.167Z"
      },
      {
        "duration": 260,
        "start_time": "2022-11-23T10:24:01.207Z"
      },
      {
        "duration": 29,
        "start_time": "2022-11-23T10:24:01.476Z"
      },
      {
        "duration": 33,
        "start_time": "2022-11-23T10:24:01.507Z"
      },
      {
        "duration": 155,
        "start_time": "2022-11-23T10:24:01.542Z"
      },
      {
        "duration": 136,
        "start_time": "2022-11-23T10:24:01.699Z"
      },
      {
        "duration": 92,
        "start_time": "2022-11-23T10:24:01.837Z"
      },
      {
        "duration": 17,
        "start_time": "2022-11-23T10:24:01.930Z"
      },
      {
        "duration": 133,
        "start_time": "2022-11-23T10:24:01.949Z"
      },
      {
        "duration": 73,
        "start_time": "2022-11-23T10:24:02.093Z"
      },
      {
        "duration": 25,
        "start_time": "2022-11-23T10:24:02.167Z"
      },
      {
        "duration": 1428,
        "start_time": "2022-11-23T10:24:02.194Z"
      },
      {
        "duration": 615,
        "start_time": "2022-11-23T10:24:03.623Z"
      },
      {
        "duration": 12,
        "start_time": "2022-11-23T10:24:04.240Z"
      }
    ],
    "kernelspec": {
      "display_name": "Python 3 (ipykernel)",
      "language": "python",
      "name": "python3"
    },
    "language_info": {
      "codemirror_mode": {
        "name": "ipython",
        "version": 3
      },
      "file_extension": ".py",
      "mimetype": "text/x-python",
      "name": "python",
      "nbconvert_exporter": "python",
      "pygments_lexer": "ipython3",
      "version": "3.9.5"
    },
    "toc": {
      "base_numbering": 1,
      "nav_menu": {},
      "number_sections": true,
      "sideBar": true,
      "skip_h1_title": true,
      "title_cell": "Table of Contents",
      "title_sidebar": "Contents",
      "toc_cell": false,
      "toc_position": {},
      "toc_section_display": true,
      "toc_window_display": false
    },
    "colab": {
      "provenance": []
    }
  },
  "nbformat": 4,
  "nbformat_minor": 0
}