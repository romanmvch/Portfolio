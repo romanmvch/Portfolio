{
  "cells": [
    {
      "cell_type": "markdown",
      "metadata": {
        "id": "trQxoVGgK2qq"
      },
      "source": [
        "# Выбор локации для скважины"
      ]
    },
    {
      "cell_type": "markdown",
      "metadata": {
        "id": "eTkZtateK2qr"
      },
      "source": [
        "Допустим, вы работаете в добывающей компании «ГлавРосГосНефть». Нужно решить, где бурить новую скважину.\n",
        "\n",
        "Вам предоставлены пробы нефти в трёх регионах: в каждом 10 000 месторождений, где измерили качество нефти и объём её запасов. Постройте модель машинного обучения, которая поможет определить регион, где добыча принесёт наибольшую прибыль. Проанализируйте возможную прибыль и риски техникой *Bootstrap.*\n",
        "\n",
        "Шаги для выбора локации:\n",
        "\n",
        "- В избранном регионе ищут месторождения, для каждого определяют значения признаков;\n",
        "- Строят модель и оценивают объём запасов;\n",
        "- Выбирают месторождения с самым высокими оценками значений. Количество месторождений зависит от бюджета компании и стоимости разработки одной скважины;\n",
        "- Прибыль равна суммарной прибыли отобранных месторождений."
      ]
    },
    {
      "cell_type": "markdown",
      "metadata": {
        "id": "R1mvZ267K2qr"
      },
      "source": [
        "**Описание данных**\n",
        "\n",
        "Данные геологоразведки трёх регионов находятся в файлах:\n",
        "- /datasets/geo_data_0.csv. \n",
        "- /datasets/geo_data_1.csv. \n",
        "- /datasets/geo_data_2.csv. \n",
        "\n",
        "\n",
        "* id — уникальный идентификатор скважины;\n",
        "* f0, f1, f2 — три признака точек (неважно, что они означают, но сами признаки значимы);\n",
        "* product — объём запасов в скважине (тыс. баррелей)."
      ]
    },
    {
      "cell_type": "markdown",
      "metadata": {
        "id": "gmJfPhK5K2qs"
      },
      "source": [
        "## Загрузка и подготовка данных"
      ]
    },
    {
      "cell_type": "code",
      "execution_count": null,
      "metadata": {
        "id": "kVZIBEE3K2qt"
      },
      "outputs": [],
      "source": [
        "#Загрузка библиотек\n",
        "import pandas as pd\n",
        "import numpy as np\n",
        "import seaborn as sns\n",
        "import matplotlib.pyplot as plt\n",
        "\n",
        "from sklearn.model_selection import train_test_split\n",
        "\n",
        "from sklearn.metrics import accuracy_score\n",
        "from sklearn.metrics import mean_squared_error\n",
        "\n",
        "from sklearn.linear_model import LinearRegression\n",
        "\n",
        "from itertools import groupby"
      ]
    },
    {
      "cell_type": "code",
      "execution_count": null,
      "metadata": {
        "id": "L4aZFzi-K2qy"
      },
      "outputs": [],
      "source": [
        "#Загрузка датасетов\n",
        "data_1 = pd.read_csv('/datasets/geo_data_0.csv')\n",
        "data_2 = pd.read_csv('/datasets/geo_data_1.csv')\n",
        "data_3 = pd.read_csv('/datasets/geo_data_2.csv')"
      ]
    },
    {
      "cell_type": "code",
      "execution_count": null,
      "metadata": {
        "id": "r-E194CLK2qy",
        "outputId": "5299e7ed-8190-4077-c8ed-c0f59370056a"
      },
      "outputs": [
        {
          "name": "stdout",
          "output_type": "stream",
          "text": [
            "<class 'pandas.core.frame.DataFrame'>\n",
            "RangeIndex: 100000 entries, 0 to 99999\n",
            "Data columns (total 5 columns):\n",
            " #   Column   Non-Null Count   Dtype  \n",
            "---  ------   --------------   -----  \n",
            " 0   id       100000 non-null  object \n",
            " 1   f0       100000 non-null  float64\n",
            " 2   f1       100000 non-null  float64\n",
            " 3   f2       100000 non-null  float64\n",
            " 4   product  100000 non-null  float64\n",
            "dtypes: float64(4), object(1)\n",
            "memory usage: 3.8+ MB\n",
            "None\n",
            "Уникальных id: 99990\n",
            "Полных дубликатов 0\n",
            "****************************************\n",
            "<class 'pandas.core.frame.DataFrame'>\n",
            "RangeIndex: 100000 entries, 0 to 99999\n",
            "Data columns (total 5 columns):\n",
            " #   Column   Non-Null Count   Dtype  \n",
            "---  ------   --------------   -----  \n",
            " 0   id       100000 non-null  object \n",
            " 1   f0       100000 non-null  float64\n",
            " 2   f1       100000 non-null  float64\n",
            " 3   f2       100000 non-null  float64\n",
            " 4   product  100000 non-null  float64\n",
            "dtypes: float64(4), object(1)\n",
            "memory usage: 3.8+ MB\n",
            "None\n",
            "Уникальных id: 99996\n",
            "Полных дубликатов 0\n",
            "****************************************\n",
            "<class 'pandas.core.frame.DataFrame'>\n",
            "RangeIndex: 100000 entries, 0 to 99999\n",
            "Data columns (total 5 columns):\n",
            " #   Column   Non-Null Count   Dtype  \n",
            "---  ------   --------------   -----  \n",
            " 0   id       100000 non-null  object \n",
            " 1   f0       100000 non-null  float64\n",
            " 2   f1       100000 non-null  float64\n",
            " 3   f2       100000 non-null  float64\n",
            " 4   product  100000 non-null  float64\n",
            "dtypes: float64(4), object(1)\n",
            "memory usage: 3.8+ MB\n",
            "None\n",
            "Уникальных id: 99996\n",
            "Полных дубликатов 0\n",
            "****************************************\n"
          ]
        }
      ],
      "source": [
        "#Общая информация о загруженных данных\n",
        "for i in [data_1, data_2, data_3]:\n",
        "    print(i.info())\n",
        "    print('Уникальных id:', len(i['id'].unique()))\n",
        "    print('Полных дубликатов', i.duplicated().sum())\n",
        "    print('*'*40)"
      ]
    },
    {
      "cell_type": "markdown",
      "metadata": {
        "id": "6mKYgddgK2q0"
      },
      "source": [
        "В трех датасетах содержится по 100 тысяч строк, пропусков нет.\n",
        "\n",
        "Однако, есть повторяющиеся id: 10 для первого региона и по 4 для второго и третьего (это без приведения к нижнему регистру)."
      ]
    },
    {
      "cell_type": "code",
      "execution_count": null,
      "metadata": {
        "id": "Z4m-tf4GK2q1"
      },
      "outputs": [],
      "source": [
        "#Функция поиска дубликатов\n",
        "def duplicate(column):\n",
        "    duplicates = {}\n",
        "    for el, group in groupby(sorted(column)):\n",
        "        count = len(list(group))\n",
        "        if count > 1:\n",
        "            duplicates[el] = count\n",
        "\n",
        "    print(duplicates)"
      ]
    },
    {
      "cell_type": "code",
      "execution_count": null,
      "metadata": {
        "id": "Njebu-VvK2q1",
        "outputId": "33516c5b-2262-4797-a9a6-a84a93673b00"
      },
      "outputs": [
        {
          "name": "stdout",
          "output_type": "stream",
          "text": [
            "{'74z30': 2, 'A5aEY': 2, 'AGS9W': 2, 'HZww2': 2, 'QcMuo': 2, 'Tdehs': 2, 'TtcGQ': 2, 'bsk9y': 2, 'bxg6G': 2, 'fiKDv': 2}\n"
          ]
        }
      ],
      "source": [
        "#Дубликаты id\n",
        "duplicate(data_1['id'])"
      ]
    },
    {
      "cell_type": "code",
      "execution_count": null,
      "metadata": {
        "id": "LJZZFlZ2K2q2",
        "outputId": "054d70e6-994b-416b-b6bb-4efcefffd65f"
      },
      "outputs": [
        {
          "data": {
            "text/html": [
              "<div>\n",
              "<style scoped>\n",
              "    .dataframe tbody tr th:only-of-type {\n",
              "        vertical-align: middle;\n",
              "    }\n",
              "\n",
              "    .dataframe tbody tr th {\n",
              "        vertical-align: top;\n",
              "    }\n",
              "\n",
              "    .dataframe thead th {\n",
              "        text-align: right;\n",
              "    }\n",
              "</style>\n",
              "<table border=\"1\" class=\"dataframe\">\n",
              "  <thead>\n",
              "    <tr style=\"text-align: right;\">\n",
              "      <th></th>\n",
              "      <th>id</th>\n",
              "      <th>f0</th>\n",
              "      <th>f1</th>\n",
              "      <th>f2</th>\n",
              "      <th>product</th>\n",
              "    </tr>\n",
              "  </thead>\n",
              "  <tbody>\n",
              "    <tr>\n",
              "      <th>64022</th>\n",
              "      <td>74z30</td>\n",
              "      <td>0.741456</td>\n",
              "      <td>0.459229</td>\n",
              "      <td>5.153109</td>\n",
              "      <td>140.771492</td>\n",
              "    </tr>\n",
              "    <tr>\n",
              "      <th>66136</th>\n",
              "      <td>74z30</td>\n",
              "      <td>1.084962</td>\n",
              "      <td>-0.312358</td>\n",
              "      <td>6.990771</td>\n",
              "      <td>127.643327</td>\n",
              "    </tr>\n",
              "  </tbody>\n",
              "</table>\n",
              "</div>"
            ],
            "text/plain": [
              "          id        f0        f1        f2     product\n",
              "64022  74z30  0.741456  0.459229  5.153109  140.771492\n",
              "66136  74z30  1.084962 -0.312358  6.990771  127.643327"
            ]
          },
          "execution_count": 7,
          "metadata": {},
          "output_type": "execute_result"
        }
      ],
      "source": [
        "data_1[data_1['id'] == '74z30']"
      ]
    },
    {
      "cell_type": "markdown",
      "metadata": {
        "id": "u53VhUTzK2q3"
      },
      "source": [
        "Одинаковым id соответсвуют разные значения других признаков, все повторяющиеся id встечаются два раза."
      ]
    },
    {
      "cell_type": "code",
      "execution_count": null,
      "metadata": {
        "id": "OayEiyIWK2q4",
        "outputId": "30223add-f366-47fc-aa8f-c7cf96affc62"
      },
      "outputs": [
        {
          "name": "stdout",
          "output_type": "stream",
          "text": [
            "{'1sqvs': 2, '2phtu': 2, '2qwma': 2, '3unrm': 2, '5dnzj': 2, '74z30': 2, '7zuef': 2, '94egn': 2, '94xtx': 2, '9rkcu': 2, 'a5aey': 2, 'ags9w': 2, 'ajvfz': 2, 'b6dzo': 2, 'bfkqn': 2, 'bkzro': 2, 'bqlxc': 2, 'bsk9y': 2, 'buqcz': 2, 'bxg6g': 2, 'bymmp': 2, 'dgkct': 2, 'dj9gk': 2, 'dkud7': 2, 'dpvbg': 2, 'dsaar': 2, 'dwq3j': 2, 'el4n0': 2, 'elfng': 2, 'evnxd': 2, 'fasjm': 2, 'fejkn': 2, 'fikdv': 2, 'fugrf': 2, 'gcrjd': 2, 'gtvcc': 2, 'gyiz2': 2, 'hhlcy': 2, 'hnjbu': 2, 'hzww2': 2, 'icptm': 2, 'ifgrj': 2, 'ilkwc': 2, 'iu9sq': 2, 'jggye': 2, 'jihuv': 2, 'jqqnk': 2, 'k8uqc': 2, 'klet5': 2, 'l5fmt': 2, 'lcokp': 2, 'lemty': 2, 'lfw9w': 2, 'm9hvo': 2, 'mgbsp': 2, 'na4ga': 2, 'nvekv': 2, 'nxmhp': 2, 'nxqzx': 2, 'o7irh': 2, 'ocw1d': 2, 'oejbb': 2, 'ov4ms': 2, 'oxltr': 2, 'oznoo': 2, 'p8ngy': 2, 'pcvrd': 2, 'pixsi': 2, 'psulx': 2, 'puyuv': 2, 'qcmuo': 2, 'qncns': 2, 'qw6lh': 2, 'qztae': 2, 'rhndt': 2, 'rmsho': 2, 'rsutw': 2, 'rtymt': 2, 'rvgan': 2, 'safiv': 2, 'sn4s3': 2, 'stkqq': 2, 'swddr': 2, 't6pjk': 2, 't7zwi': 2, 'tdehs': 2, 'tkiei': 2, 'tmvod': 2, 'tmyfd': 2, 'ttcgq': 2, 'uhays': 2, 'uonfb': 2, 'v3bkx': 2, 'vmcve': 2, 'voqxx': 2, 'vqnrx': 2, 'wl9as': 2, 'x2hrd': 2, 'xddyo': 2, 'xebdr': 2, 'xibnk': 2, 'xmffl': 2, 'xmhgx': 2, 'xsdql': 2, 'xudjb': 2, 'yfcgc': 2, 'yohxk': 2, 'yp9a5': 2, 'yyfwi': 2, 'zdate': 2, 'zfbah': 2, 'zogg5': 2, 'zvksv': 2}\n"
          ]
        }
      ],
      "source": [
        "duplicate(data_1['id'].str.lower())"
      ]
    },
    {
      "cell_type": "markdown",
      "metadata": {
        "id": "FjeHC-aRK2q4"
      },
      "source": [
        "После приведения к нижнему регистру количество повторяющихся id увеличилось, встречаются все также парами. \n",
        "\n",
        "Что с этим делать не ясно: отличаются ли скважины с разным написанием id, почему встречаются с одинаковыми id, но разнами значениями.\n",
        "\n",
        "Требуется уточнить у заказчика возможную причину данной проблемы."
      ]
    },
    {
      "cell_type": "code",
      "execution_count": null,
      "metadata": {
        "id": "7qchqlqnK2q5",
        "outputId": "9e6e6175-5bb0-441d-bc11-6316eb18a3ba"
      },
      "outputs": [
        {
          "data": {
            "image/png": "[encoded data removed]",
            "text/plain": [
              "<Figure size 1080x504 with 1 Axes>"
            ]
          },
          "metadata": {
            "needs_background": "light"
          },
          "output_type": "display_data"
        },
        {
          "data": {
            "image/png": "[encoded data removed]",
            "text/plain": [
              "<Figure size 1080x504 with 1 Axes>"
            ]
          },
          "metadata": {
            "needs_background": "light"
          },
          "output_type": "display_data"
        },
        {
          "data": {
            "image/png": "[encoded data removed]",
            "text/plain": [
              "<Figure size 1080x504 with 1 Axes>"
            ]
          },
          "metadata": {
            "needs_background": "light"
          },
          "output_type": "display_data"
        }
      ],
      "source": [
        "#Диаграммы размаха данных\n",
        "for i in [data_1, data_2, data_3]:\n",
        "    i.boxplot(column=['f0','f1', 'f2', 'product'], sym='', figsize=(15, 7), vert=False)\n",
        "    plt.title('Размах данных')\n",
        "    plt.show()"
      ]
    },
    {
      "cell_type": "markdown",
      "metadata": {
        "id": "lEcCw4yEK2q6"
      },
      "source": [
        "Для проверки на мультиколлиниарность построим тепловые карты для трех выборок."
      ]
    },
    {
      "cell_type": "code",
      "execution_count": null,
      "metadata": {
        "id": "hVtzaO8uK2q6",
        "outputId": "cc9430fb-b2a7-4b2b-99e2-a8913c6d90a0"
      },
      "outputs": [
        {
          "data": {
            "image/png": "[encoded data removed]",
            "text/plain": [
              "<Figure size 432x288 with 2 Axes>"
            ]
          },
          "metadata": {
            "needs_background": "light"
          },
          "output_type": "display_data"
        },
        {
          "data": {
            "image/png": "[encoded data removed]",
            "text/plain": [
              "<Figure size 432x432 with 2 Axes>"
            ]
          },
          "metadata": {},
          "output_type": "display_data"
        },
        {
          "data": {
            "image/png": "[encoded data removed]",
            "text/plain": [
              "<Figure size 432x432 with 2 Axes>"
            ]
          },
          "metadata": {},
          "output_type": "display_data"
        }
      ],
      "source": [
        "#Тепловые карты для трех выборок\n",
        "for i in [data_1, data_2, data_3]:\n",
        "    plt.title('Попарная корреляция', y = 1.05, size = 10)\n",
        "    sns.set(rc={\"figure.figsize\": (6, 6)})\n",
        "    sns.heatmap(\n",
        "        i.corr(), \n",
        "        annot = True,\n",
        "        cmap = 'coolwarm', \n",
        "        square= True, \n",
        "        linewidths=1,\n",
        "        linecolor='black')\n",
        "    plt.show()"
      ]
    },
    {
      "cell_type": "markdown",
      "metadata": {
        "id": "mNBNWRAiK2q7"
      },
      "source": [
        "Для всех выборок характерна корреляция признака f2 и product. Однако в данных для второго региона зависимость этих показателей прямая."
      ]
    },
    {
      "cell_type": "markdown",
      "metadata": {
        "id": "AEq1F_DBK2q8"
      },
      "source": [
        "По диаграммам размаха и тепловым картам можно сказать, что регион 2 отличается от региона 1 и 3: медиана объема запасов сильно меньше."
      ]
    },
    {
      "cell_type": "markdown",
      "metadata": {
        "id": "JN2npEJpK2q9"
      },
      "source": [
        "## Обучение и проверка модели"
      ]
    },
    {
      "cell_type": "code",
      "execution_count": null,
      "metadata": {
        "id": "DpQAq4ihK2q-",
        "outputId": "b14045f2-860f-424b-c6a0-1cf4abd879b6"
      },
      "outputs": [
        {
          "name": "stdout",
          "output_type": "stream",
          "text": [
            "Средний запас предсказанного сырья: 92.59262394195822\n",
            "RMSE модели: 37.75936419888545\n",
            "****************************************\n",
            "Средний запас предсказанного сырья: 68.9853757142503\n",
            "RMSE модели: 0.8911009923282397\n",
            "****************************************\n",
            "Средний запас предсказанного сырья: 94.97970526303284\n",
            "RMSE модели: 39.99408520914196\n",
            "****************************************\n"
          ]
        }
      ],
      "source": [
        "predictions = []\n",
        "true = []\n",
        "for data in [data_1, data_2, data_3]:\n",
        "#Разделение выборок на тестовую и валидационную\n",
        "    features = data.drop(columns=['product','id'])\n",
        "    target = data['product']\n",
        "\n",
        "    features_train, features_valid, target_train, target_valid = train_test_split(\n",
        "        features, \n",
        "        target, \n",
        "        test_size=0.25, \n",
        "        train_size=0.75)\n",
        "#Обучение моделей    \n",
        "    model = LinearRegression()\n",
        "    model.fit(features_train, target_train)\n",
        "    y_pred_valid = model.predict(features_valid)\n",
        "    predictions.append(y_pred_valid)\n",
        "    true.append(target_valid)\n",
        "    print('Средний запас предсказанного сырья:', y_pred_valid.mean())\n",
        "    print('RMSE модели:', (mean_squared_error(target_valid, y_pred_valid))**(1/2))\n",
        "    print('*'*40)"
      ]
    },
    {
      "cell_type": "markdown",
      "metadata": {
        "id": "L-WB834oK2q_"
      },
      "source": [
        "RMSE data_1 и data_3 существенно выше, чем у data_2."
      ]
    },
    {
      "cell_type": "code",
      "execution_count": null,
      "metadata": {
        "id": "OghPxjiVK2q_",
        "outputId": "e7cbf956-0552-40db-f862-1277f77ca675"
      },
      "outputs": [
        {
          "data": {
            "text/html": [
              "<div>\n",
              "<style scoped>\n",
              "    .dataframe tbody tr th:only-of-type {\n",
              "        vertical-align: middle;\n",
              "    }\n",
              "\n",
              "    .dataframe tbody tr th {\n",
              "        vertical-align: top;\n",
              "    }\n",
              "\n",
              "    .dataframe thead th {\n",
              "        text-align: right;\n",
              "    }\n",
              "</style>\n",
              "<table border=\"1\" class=\"dataframe\">\n",
              "  <thead>\n",
              "    <tr style=\"text-align: right;\">\n",
              "      <th></th>\n",
              "      <th>predict</th>\n",
              "      <th>target_valid</th>\n",
              "    </tr>\n",
              "  </thead>\n",
              "  <tbody>\n",
              "    <tr>\n",
              "      <th>0</th>\n",
              "      <td>119.993696</td>\n",
              "      <td>169.641739</td>\n",
              "    </tr>\n",
              "    <tr>\n",
              "      <th>1</th>\n",
              "      <td>125.596090</td>\n",
              "      <td>173.660536</td>\n",
              "    </tr>\n",
              "    <tr>\n",
              "      <th>2</th>\n",
              "      <td>63.729259</td>\n",
              "      <td>62.031774</td>\n",
              "    </tr>\n",
              "    <tr>\n",
              "      <th>3</th>\n",
              "      <td>98.995847</td>\n",
              "      <td>32.012817</td>\n",
              "    </tr>\n",
              "    <tr>\n",
              "      <th>4</th>\n",
              "      <td>108.761442</td>\n",
              "      <td>117.557214</td>\n",
              "    </tr>\n",
              "    <tr>\n",
              "      <th>...</th>\n",
              "      <td>...</td>\n",
              "      <td>...</td>\n",
              "    </tr>\n",
              "    <tr>\n",
              "      <th>24995</th>\n",
              "      <td>62.830832</td>\n",
              "      <td>31.574286</td>\n",
              "    </tr>\n",
              "    <tr>\n",
              "      <th>24996</th>\n",
              "      <td>135.769226</td>\n",
              "      <td>178.804484</td>\n",
              "    </tr>\n",
              "    <tr>\n",
              "      <th>24997</th>\n",
              "      <td>76.399986</td>\n",
              "      <td>40.909558</td>\n",
              "    </tr>\n",
              "    <tr>\n",
              "      <th>24998</th>\n",
              "      <td>101.333114</td>\n",
              "      <td>157.420351</td>\n",
              "    </tr>\n",
              "    <tr>\n",
              "      <th>24999</th>\n",
              "      <td>82.421442</td>\n",
              "      <td>37.295175</td>\n",
              "    </tr>\n",
              "  </tbody>\n",
              "</table>\n",
              "<p>25000 rows × 2 columns</p>\n",
              "</div>"
            ],
            "text/plain": [
              "          predict  target_valid\n",
              "0      119.993696    169.641739\n",
              "1      125.596090    173.660536\n",
              "2       63.729259     62.031774\n",
              "3       98.995847     32.012817\n",
              "4      108.761442    117.557214\n",
              "...           ...           ...\n",
              "24995   62.830832     31.574286\n",
              "24996  135.769226    178.804484\n",
              "24997   76.399986     40.909558\n",
              "24998  101.333114    157.420351\n",
              "24999   82.421442     37.295175\n",
              "\n",
              "[25000 rows x 2 columns]"
            ]
          },
          "execution_count": 12,
          "metadata": {},
          "output_type": "execute_result"
        }
      ],
      "source": [
        "#Предсказания и правильные ответы на валидационной выборке для региона 1.\n",
        "data_1_pred = pd.DataFrame(predictions[0], columns =['predict'])\n",
        "data_1_pred['target_valid'] = pd.DataFrame(true[0]).reset_index()['product']\n",
        "data_1_pred"
      ]
    },
    {
      "cell_type": "code",
      "execution_count": null,
      "metadata": {
        "id": "iNaq-RInK2rA",
        "outputId": "83886ed0-4f72-4bf6-fe6b-2396a2fc99e7"
      },
      "outputs": [
        {
          "data": {
            "text/html": [
              "<div>\n",
              "<style scoped>\n",
              "    .dataframe tbody tr th:only-of-type {\n",
              "        vertical-align: middle;\n",
              "    }\n",
              "\n",
              "    .dataframe tbody tr th {\n",
              "        vertical-align: top;\n",
              "    }\n",
              "\n",
              "    .dataframe thead th {\n",
              "        text-align: right;\n",
              "    }\n",
              "</style>\n",
              "<table border=\"1\" class=\"dataframe\">\n",
              "  <thead>\n",
              "    <tr style=\"text-align: right;\">\n",
              "      <th></th>\n",
              "      <th>predict</th>\n",
              "      <th>target_valid</th>\n",
              "    </tr>\n",
              "  </thead>\n",
              "  <tbody>\n",
              "    <tr>\n",
              "      <th>0</th>\n",
              "      <td>56.838971</td>\n",
              "      <td>57.085625</td>\n",
              "    </tr>\n",
              "    <tr>\n",
              "      <th>1</th>\n",
              "      <td>137.800118</td>\n",
              "      <td>137.945408</td>\n",
              "    </tr>\n",
              "    <tr>\n",
              "      <th>2</th>\n",
              "      <td>-0.304927</td>\n",
              "      <td>0.000000</td>\n",
              "    </tr>\n",
              "    <tr>\n",
              "      <th>3</th>\n",
              "      <td>0.644186</td>\n",
              "      <td>0.000000</td>\n",
              "    </tr>\n",
              "    <tr>\n",
              "      <th>4</th>\n",
              "      <td>56.334888</td>\n",
              "      <td>57.085625</td>\n",
              "    </tr>\n",
              "    <tr>\n",
              "      <th>...</th>\n",
              "      <td>...</td>\n",
              "      <td>...</td>\n",
              "    </tr>\n",
              "    <tr>\n",
              "      <th>24995</th>\n",
              "      <td>85.083477</td>\n",
              "      <td>84.038886</td>\n",
              "    </tr>\n",
              "    <tr>\n",
              "      <th>24996</th>\n",
              "      <td>136.277247</td>\n",
              "      <td>137.945408</td>\n",
              "    </tr>\n",
              "    <tr>\n",
              "      <th>24997</th>\n",
              "      <td>2.681011</td>\n",
              "      <td>3.179103</td>\n",
              "    </tr>\n",
              "    <tr>\n",
              "      <th>24998</th>\n",
              "      <td>134.032525</td>\n",
              "      <td>134.766305</td>\n",
              "    </tr>\n",
              "    <tr>\n",
              "      <th>24999</th>\n",
              "      <td>135.292893</td>\n",
              "      <td>134.766305</td>\n",
              "    </tr>\n",
              "  </tbody>\n",
              "</table>\n",
              "<p>25000 rows × 2 columns</p>\n",
              "</div>"
            ],
            "text/plain": [
              "          predict  target_valid\n",
              "0       56.838971     57.085625\n",
              "1      137.800118    137.945408\n",
              "2       -0.304927      0.000000\n",
              "3        0.644186      0.000000\n",
              "4       56.334888     57.085625\n",
              "...           ...           ...\n",
              "24995   85.083477     84.038886\n",
              "24996  136.277247    137.945408\n",
              "24997    2.681011      3.179103\n",
              "24998  134.032525    134.766305\n",
              "24999  135.292893    134.766305\n",
              "\n",
              "[25000 rows x 2 columns]"
            ]
          },
          "execution_count": 13,
          "metadata": {},
          "output_type": "execute_result"
        }
      ],
      "source": [
        "#Предсказания и правильные ответы на валидационной выборке для региона 2.\n",
        "data_2_pred = pd.DataFrame(predictions[1], columns =['predict'])\n",
        "data_2_pred['target_valid'] = pd.DataFrame(true[1]).reset_index()['product']\n",
        "data_2_pred"
      ]
    },
    {
      "cell_type": "code",
      "execution_count": null,
      "metadata": {
        "id": "Vji9hEDeK2rB",
        "outputId": "84a42710-eb00-4778-bf42-421a1dae9913"
      },
      "outputs": [
        {
          "data": {
            "text/html": [
              "<div>\n",
              "<style scoped>\n",
              "    .dataframe tbody tr th:only-of-type {\n",
              "        vertical-align: middle;\n",
              "    }\n",
              "\n",
              "    .dataframe tbody tr th {\n",
              "        vertical-align: top;\n",
              "    }\n",
              "\n",
              "    .dataframe thead th {\n",
              "        text-align: right;\n",
              "    }\n",
              "</style>\n",
              "<table border=\"1\" class=\"dataframe\">\n",
              "  <thead>\n",
              "    <tr style=\"text-align: right;\">\n",
              "      <th></th>\n",
              "      <th>predict</th>\n",
              "      <th>target_valid</th>\n",
              "    </tr>\n",
              "  </thead>\n",
              "  <tbody>\n",
              "    <tr>\n",
              "      <th>0</th>\n",
              "      <td>108.587110</td>\n",
              "      <td>154.077629</td>\n",
              "    </tr>\n",
              "    <tr>\n",
              "      <th>1</th>\n",
              "      <td>105.343440</td>\n",
              "      <td>109.018548</td>\n",
              "    </tr>\n",
              "    <tr>\n",
              "      <th>2</th>\n",
              "      <td>105.293597</td>\n",
              "      <td>109.266789</td>\n",
              "    </tr>\n",
              "    <tr>\n",
              "      <th>3</th>\n",
              "      <td>129.747808</td>\n",
              "      <td>186.790537</td>\n",
              "    </tr>\n",
              "    <tr>\n",
              "      <th>4</th>\n",
              "      <td>82.655014</td>\n",
              "      <td>84.188394</td>\n",
              "    </tr>\n",
              "    <tr>\n",
              "      <th>...</th>\n",
              "      <td>...</td>\n",
              "      <td>...</td>\n",
              "    </tr>\n",
              "    <tr>\n",
              "      <th>24995</th>\n",
              "      <td>75.823664</td>\n",
              "      <td>55.490503</td>\n",
              "    </tr>\n",
              "    <tr>\n",
              "      <th>24996</th>\n",
              "      <td>104.656936</td>\n",
              "      <td>146.010122</td>\n",
              "    </tr>\n",
              "    <tr>\n",
              "      <th>24997</th>\n",
              "      <td>94.031541</td>\n",
              "      <td>78.362217</td>\n",
              "    </tr>\n",
              "    <tr>\n",
              "      <th>24998</th>\n",
              "      <td>96.732579</td>\n",
              "      <td>30.857493</td>\n",
              "    </tr>\n",
              "    <tr>\n",
              "      <th>24999</th>\n",
              "      <td>94.124436</td>\n",
              "      <td>50.088858</td>\n",
              "    </tr>\n",
              "  </tbody>\n",
              "</table>\n",
              "<p>25000 rows × 2 columns</p>\n",
              "</div>"
            ],
            "text/plain": [
              "          predict  target_valid\n",
              "0      108.587110    154.077629\n",
              "1      105.343440    109.018548\n",
              "2      105.293597    109.266789\n",
              "3      129.747808    186.790537\n",
              "4       82.655014     84.188394\n",
              "...           ...           ...\n",
              "24995   75.823664     55.490503\n",
              "24996  104.656936    146.010122\n",
              "24997   94.031541     78.362217\n",
              "24998   96.732579     30.857493\n",
              "24999   94.124436     50.088858\n",
              "\n",
              "[25000 rows x 2 columns]"
            ]
          },
          "execution_count": 14,
          "metadata": {},
          "output_type": "execute_result"
        }
      ],
      "source": [
        "#Предсказания и правильные ответы на валидационной выборке для региона 3.\n",
        "data_3_pred = pd.DataFrame(predictions[2], columns =['predict'])\n",
        "data_3_pred['target_valid'] = pd.DataFrame(true[2]).reset_index()['product']\n",
        "data_3_pred"
      ]
    },
    {
      "cell_type": "markdown",
      "metadata": {
        "id": "EfeWnUp-K2rB"
      },
      "source": [
        "## Подготовка к расчёту прибыли"
      ]
    },
    {
      "cell_type": "markdown",
      "metadata": {
        "id": "pj5_t0P7K2rE"
      },
      "source": [
        "Бюджет на разработку скважин в регионе — 10 млрд рублей.\n",
        "При нынешних ценах один баррель сырья приносит 450 рублей дохода. Доход с каждой единицы продукта составляет 450 тыс. рублей, поскольку объём указан в тысячах баррелей."
      ]
    },
    {
      "cell_type": "code",
      "execution_count": null,
      "metadata": {
        "id": "59k7GLe2K2rE",
        "outputId": "3b290b47-dee8-4b97-ffd1-d68d257fb2c8"
      },
      "outputs": [
        {
          "name": "stdout",
          "output_type": "stream",
          "text": [
            "Достаточный объём сырья в регионе для безубыточной разработки: 22222.222222222223\n",
            "Достаточный объём сырья в скважине для безубыточной разработки: 111.11111111111111\n"
          ]
        }
      ],
      "source": [
        "#Стоимость тысячи баррелей, бюджет на разработку\n",
        "PRICE = 450000\n",
        "BUDGET = 10000000000\n",
        "N_OF_WELLS = 200\n",
        "N_OF_POINTS = 500\n",
        "\n",
        "#Достаточный объём сырья в регионе для безубыточной разработки.\n",
        "print('Достаточный объём сырья в регионе для безубыточной разработки:', BUDGET/PRICE)\n",
        "\n",
        "#Достаточный объём сырья в скважине.\n",
        "print('Достаточный объём сырья в скважине для безубыточной разработки:', BUDGET/PRICE/N_OF_WELLS)"
      ]
    },
    {
      "cell_type": "markdown",
      "metadata": {
        "id": "7iEcIC0WK2rF"
      },
      "source": [
        "Для покрытия затрат на разработку в регионе необходимо наличие 22,2 млн баррелей."
      ]
    },
    {
      "cell_type": "markdown",
      "metadata": {
        "id": "WHs77LvmK2rG"
      },
      "source": [
        "## Расчёт прибыли и рисков "
      ]
    },
    {
      "cell_type": "code",
      "execution_count": null,
      "metadata": {
        "id": "zcSsZGjwK2rG"
      },
      "outputs": [],
      "source": [
        "#Функция для расчета прибыли на основе 200 скважин с самыми высокими значениями\n",
        "\n",
        "def revenue(target,predict, count):\n",
        "    probs_sorted = predict.sort_values(ascending=False)\n",
        "    selected = target[probs_sorted.index][:count]\n",
        "    return ((selected.sum()*PRICE - BUDGET)).round(2)"
      ]
    },
    {
      "cell_type": "code",
      "execution_count": null,
      "metadata": {
        "id": "SKUaUTzsK2rJ",
        "outputId": "5809bdca-f7f7-4a24-f12a-c11c22724de7"
      },
      "outputs": [
        {
          "name": "stdout",
          "output_type": "stream",
          "text": [
            "Прибыль: 3245497250.23\n",
            "Прибыль: 2415086696.68\n",
            "Прибыль: 2244010576.62\n"
          ]
        }
      ],
      "source": [
        "#Расчет прибыли на основе 200 скважин с самыми высокими значениями\n",
        "\n",
        "for i in [data_1_pred, data_2_pred, data_3_pred]:\n",
        "    target = i['target_valid']\n",
        "    probabilities = i['predict']\n",
        "    print('Прибыль:', revenue(target, probabilities, 200))"
      ]
    },
    {
      "cell_type": "code",
      "execution_count": null,
      "metadata": {
        "id": "AM_HvoHMK2rK",
        "outputId": "0be58009-a5d8-4342-fd28-c206ad6c473d"
      },
      "outputs": [
        {
          "name": "stdout",
          "output_type": "stream",
          "text": [
            "Средняя прибыль: 456329045.86275\n",
            "Доверительный интервал: -92584246.91799998 - 1002803481.6865\n",
            "Подходит для разработки, риск убытков: 4.6\n",
            "************************************************************\n",
            "Средняя прибыль: 526915409.07791\n",
            "Доверительный интервал: 116465427.70150001 - 986501143.8422499\n",
            "Подходит для разработки, риск убытков: 0.8999999999999999\n",
            "************************************************************\n",
            "Средняя прибыль: 404234254.73968\n",
            "Доверительный интервал: -138659809.43425 - 976207015.02125\n",
            "Подходит для разработки, риск убытков: 7.9\n",
            "************************************************************\n"
          ]
        }
      ],
      "source": [
        "#Средняя прибыль, 95%-й доверительный интервал и риск убытков.\n",
        "\n",
        "state = np.random.RandomState(12345)\n",
        "\n",
        "for i in [data_1_pred, data_2_pred, data_3_pred]:\n",
        "    target = i['target_valid']\n",
        "    probabilities = i['predict']   \n",
        "    values = []\n",
        "    for i in range(1000):\n",
        "        target_subsample = target.sample(n=N_OF_POINTS, replace=True, random_state=state)\n",
        "        probs_subsample = probabilities[target_subsample.index]\n",
        "        profit = revenue(target_subsample, probs_subsample, N_OF_WELLS)\n",
        "        values.append(profit)\n",
        "\n",
        "    values = pd.Series(values)\n",
        "    losses = (values<0).mean()*100\n",
        "    lower = values.quantile(0.025)\n",
        "    upper = values.quantile(0.975)\n",
        "\n",
        "    mean = values.mean()\n",
        "    print(\"Средняя прибыль:\", mean)\n",
        "    print(\"Доверительный интервал:\", lower,'-', upper)\n",
        "    if losses < 2.5:\n",
        "        print('Подходит для разработки, риск убытков:', losses)\n",
        "    else:\n",
        "        print('Подходит для разработки, риск убытков:', losses)\n",
        "    print('*'*60)"
      ]
    },
    {
      "cell_type": "markdown",
      "metadata": {
        "id": "gjB75EQGK2rL"
      },
      "source": [
        "Наиболее подходящим для разработки с точки зрения потенциальной прибыли является регион 2, так как ему соответсвует наибольшая средняя прибыль и самый маленький риск убытков."
      ]
    }
  ],
  "metadata": {
    "ExecuteTimeLog": [
      {
        "duration": 376,
        "start_time": "2022-10-15T11:40:42.643Z"
      },
      {
        "duration": 1724,
        "start_time": "2022-10-15T11:40:43.497Z"
      },
      {
        "duration": 18,
        "start_time": "2022-10-15T11:41:02.556Z"
      },
      {
        "duration": 16,
        "start_time": "2022-10-15T11:41:37.505Z"
      },
      {
        "duration": 9,
        "start_time": "2022-10-15T11:42:17.828Z"
      },
      {
        "duration": 12,
        "start_time": "2022-10-15T11:42:49.333Z"
      },
      {
        "duration": 3,
        "start_time": "2022-10-15T11:46:38.744Z"
      },
      {
        "duration": 16,
        "start_time": "2022-10-15T11:46:42.831Z"
      },
      {
        "duration": 14,
        "start_time": "2022-10-15T11:46:49.771Z"
      },
      {
        "duration": 15,
        "start_time": "2022-10-15T11:47:53.104Z"
      },
      {
        "duration": 14,
        "start_time": "2022-10-15T11:48:04.792Z"
      },
      {
        "duration": 4,
        "start_time": "2022-10-15T11:49:28.714Z"
      },
      {
        "duration": 69,
        "start_time": "2022-10-15T11:51:10.107Z"
      },
      {
        "duration": 28,
        "start_time": "2022-10-15T11:51:14.189Z"
      },
      {
        "duration": 24,
        "start_time": "2022-10-15T11:51:47.481Z"
      },
      {
        "duration": 24,
        "start_time": "2022-10-15T11:52:06.987Z"
      },
      {
        "duration": 24,
        "start_time": "2022-10-15T11:52:31.820Z"
      },
      {
        "duration": 24,
        "start_time": "2022-10-15T11:52:59.705Z"
      },
      {
        "duration": 4,
        "start_time": "2022-10-15T11:53:31.460Z"
      },
      {
        "duration": 40,
        "start_time": "2022-10-15T11:53:36.597Z"
      },
      {
        "duration": 37,
        "start_time": "2022-10-15T11:53:45.483Z"
      },
      {
        "duration": 402,
        "start_time": "2022-10-15T11:54:03.440Z"
      },
      {
        "duration": 43,
        "start_time": "2022-10-15T11:54:10.992Z"
      },
      {
        "duration": 14,
        "start_time": "2022-10-15T11:54:38.546Z"
      },
      {
        "duration": 36,
        "start_time": "2022-10-15T11:56:26.517Z"
      },
      {
        "duration": 11,
        "start_time": "2022-10-15T11:58:49.223Z"
      },
      {
        "duration": 8,
        "start_time": "2022-10-15T11:59:06.537Z"
      },
      {
        "duration": 18,
        "start_time": "2022-10-15T12:00:50.873Z"
      },
      {
        "duration": 51,
        "start_time": "2022-10-15T12:01:19.951Z"
      },
      {
        "duration": 44,
        "start_time": "2022-10-15T12:01:30.713Z"
      },
      {
        "duration": 46,
        "start_time": "2022-10-15T12:01:38.422Z"
      },
      {
        "duration": 370,
        "start_time": "2022-10-17T07:00:37.458Z"
      },
      {
        "duration": 687,
        "start_time": "2022-10-17T07:00:38.302Z"
      },
      {
        "duration": 37,
        "start_time": "2022-10-17T07:00:42.120Z"
      },
      {
        "duration": 50,
        "start_time": "2022-10-17T07:00:47.070Z"
      },
      {
        "duration": 22,
        "start_time": "2022-10-17T07:00:47.784Z"
      },
      {
        "duration": 26,
        "start_time": "2022-10-17T07:02:01.624Z"
      },
      {
        "duration": 90,
        "start_time": "2022-10-17T07:02:05.637Z"
      },
      {
        "duration": 49,
        "start_time": "2022-10-17T07:02:14.706Z"
      },
      {
        "duration": 8,
        "start_time": "2022-10-17T07:03:29.223Z"
      },
      {
        "duration": 87,
        "start_time": "2022-10-17T07:03:44.155Z"
      },
      {
        "duration": 15,
        "start_time": "2022-10-17T07:04:19.009Z"
      },
      {
        "duration": 7,
        "start_time": "2022-10-17T07:12:06.541Z"
      },
      {
        "duration": 17,
        "start_time": "2022-10-17T07:12:11.645Z"
      },
      {
        "duration": 9,
        "start_time": "2022-10-17T07:12:53.518Z"
      },
      {
        "duration": 30,
        "start_time": "2022-10-17T08:41:36.670Z"
      },
      {
        "duration": 92,
        "start_time": "2022-10-17T08:41:40.826Z"
      },
      {
        "duration": 23,
        "start_time": "2022-10-17T08:41:50.362Z"
      },
      {
        "duration": 15,
        "start_time": "2022-10-17T08:41:54.757Z"
      },
      {
        "duration": 15,
        "start_time": "2022-10-17T08:42:01.828Z"
      },
      {
        "duration": 15,
        "start_time": "2022-10-17T08:42:21.898Z"
      },
      {
        "duration": 19,
        "start_time": "2022-10-17T08:43:17.327Z"
      },
      {
        "duration": 67,
        "start_time": "2022-10-17T08:43:38.458Z"
      },
      {
        "duration": 69,
        "start_time": "2022-10-17T08:44:04.348Z"
      },
      {
        "duration": 53,
        "start_time": "2022-10-17T08:44:52.066Z"
      },
      {
        "duration": 70,
        "start_time": "2022-10-17T08:45:06.915Z"
      },
      {
        "duration": 174,
        "start_time": "2022-10-17T08:45:16.592Z"
      },
      {
        "duration": 171,
        "start_time": "2022-10-17T08:46:20.226Z"
      },
      {
        "duration": 82,
        "start_time": "2022-10-17T09:05:03.042Z"
      },
      {
        "duration": 15,
        "start_time": "2022-10-17T09:05:11.425Z"
      },
      {
        "duration": 344,
        "start_time": "2022-10-17T09:05:18.242Z"
      },
      {
        "duration": 86,
        "start_time": "2022-10-17T09:05:21.402Z"
      },
      {
        "duration": 14,
        "start_time": "2022-10-17T09:05:26.540Z"
      },
      {
        "duration": 180,
        "start_time": "2022-10-17T09:05:30.067Z"
      },
      {
        "duration": 3,
        "start_time": "2022-10-17T10:03:50.396Z"
      },
      {
        "duration": 70,
        "start_time": "2022-10-17T10:04:05.907Z"
      },
      {
        "duration": 32,
        "start_time": "2022-10-17T10:05:51.244Z"
      },
      {
        "duration": 106,
        "start_time": "2022-10-17T10:06:03.948Z"
      },
      {
        "duration": 340,
        "start_time": "2022-10-17T10:08:02.957Z"
      },
      {
        "duration": 115,
        "start_time": "2022-10-17T10:08:08.405Z"
      },
      {
        "duration": 749,
        "start_time": "2022-10-17T10:13:22.613Z"
      },
      {
        "duration": 3,
        "start_time": "2022-10-17T10:13:48.150Z"
      },
      {
        "duration": 13,
        "start_time": "2022-10-17T10:19:46.207Z"
      },
      {
        "duration": 4,
        "start_time": "2022-10-17T10:21:33.653Z"
      },
      {
        "duration": 113,
        "start_time": "2022-10-17T10:22:16.406Z"
      },
      {
        "duration": 12,
        "start_time": "2022-10-17T10:23:05.235Z"
      },
      {
        "duration": 51,
        "start_time": "2022-10-17T10:23:32.965Z"
      },
      {
        "duration": 19,
        "start_time": "2022-10-17T10:23:46.993Z"
      },
      {
        "duration": 229,
        "start_time": "2022-10-17T10:23:56.389Z"
      },
      {
        "duration": 264,
        "start_time": "2022-10-17T10:26:32.060Z"
      },
      {
        "duration": 5,
        "start_time": "2022-10-17T10:26:40.269Z"
      },
      {
        "duration": 749,
        "start_time": "2022-10-17T10:28:58.164Z"
      },
      {
        "duration": 705,
        "start_time": "2022-10-17T10:29:01.725Z"
      },
      {
        "duration": 9,
        "start_time": "2022-10-17T10:29:15.741Z"
      },
      {
        "duration": 7,
        "start_time": "2022-10-17T10:30:11.420Z"
      },
      {
        "duration": 9,
        "start_time": "2022-10-17T10:30:19.692Z"
      },
      {
        "duration": 18,
        "start_time": "2022-10-17T10:30:38.780Z"
      },
      {
        "duration": 19,
        "start_time": "2022-10-17T10:30:43.765Z"
      },
      {
        "duration": 767,
        "start_time": "2022-10-17T10:30:46.885Z"
      },
      {
        "duration": 8,
        "start_time": "2022-10-17T10:43:33.360Z"
      },
      {
        "duration": 8,
        "start_time": "2022-10-17T10:44:06.969Z"
      },
      {
        "duration": 14,
        "start_time": "2022-10-17T10:44:17.921Z"
      },
      {
        "duration": 704,
        "start_time": "2022-10-17T10:44:32.721Z"
      },
      {
        "duration": 8,
        "start_time": "2022-10-17T10:44:46.866Z"
      },
      {
        "duration": 9,
        "start_time": "2022-10-17T10:45:35.911Z"
      },
      {
        "duration": 12,
        "start_time": "2022-10-17T10:45:52.408Z"
      },
      {
        "duration": 8,
        "start_time": "2022-10-17T10:45:58.321Z"
      },
      {
        "duration": 320,
        "start_time": "2022-10-17T10:55:43.694Z"
      },
      {
        "duration": 8,
        "start_time": "2022-10-17T10:55:48.383Z"
      },
      {
        "duration": 9,
        "start_time": "2022-10-17T10:56:33.103Z"
      },
      {
        "duration": 6,
        "start_time": "2022-10-17T10:57:26.630Z"
      },
      {
        "duration": 12,
        "start_time": "2022-10-17T10:57:32.222Z"
      },
      {
        "duration": 7,
        "start_time": "2022-10-17T10:58:16.686Z"
      },
      {
        "duration": 6,
        "start_time": "2022-10-17T10:58:42.374Z"
      },
      {
        "duration": 5,
        "start_time": "2022-10-17T10:58:45.567Z"
      },
      {
        "duration": 4,
        "start_time": "2022-10-17T10:58:51.839Z"
      },
      {
        "duration": 5,
        "start_time": "2022-10-17T10:58:58.271Z"
      },
      {
        "duration": 835,
        "start_time": "2022-10-17T11:03:12.358Z"
      },
      {
        "duration": 5,
        "start_time": "2022-10-17T11:03:41.086Z"
      },
      {
        "duration": 10,
        "start_time": "2022-10-17T11:05:11.686Z"
      },
      {
        "duration": 14,
        "start_time": "2022-10-17T11:05:45.765Z"
      },
      {
        "duration": 7,
        "start_time": "2022-10-17T11:05:52.592Z"
      },
      {
        "duration": 9,
        "start_time": "2022-10-17T11:05:56.102Z"
      },
      {
        "duration": 9,
        "start_time": "2022-10-17T11:06:27.046Z"
      },
      {
        "duration": 8,
        "start_time": "2022-10-17T11:09:51.311Z"
      },
      {
        "duration": 9,
        "start_time": "2022-10-17T11:11:55.342Z"
      },
      {
        "duration": 12,
        "start_time": "2022-10-17T11:12:03.633Z"
      },
      {
        "duration": 12,
        "start_time": "2022-10-17T11:12:07.710Z"
      },
      {
        "duration": 9,
        "start_time": "2022-10-17T11:12:16.165Z"
      },
      {
        "duration": 9,
        "start_time": "2022-10-17T11:12:18.994Z"
      },
      {
        "duration": 11,
        "start_time": "2022-10-17T11:13:03.989Z"
      },
      {
        "duration": 12,
        "start_time": "2022-10-17T11:13:07.922Z"
      },
      {
        "duration": 17,
        "start_time": "2022-10-17T11:13:11.909Z"
      },
      {
        "duration": 875,
        "start_time": "2022-10-17T11:13:26.342Z"
      },
      {
        "duration": 5,
        "start_time": "2022-10-17T11:13:41.598Z"
      },
      {
        "duration": 862,
        "start_time": "2022-10-17T11:13:45.102Z"
      },
      {
        "duration": 10,
        "start_time": "2022-10-17T11:13:49.198Z"
      },
      {
        "duration": 12,
        "start_time": "2022-10-17T11:14:01.053Z"
      },
      {
        "duration": 11,
        "start_time": "2022-10-17T11:14:16.320Z"
      },
      {
        "duration": 13,
        "start_time": "2022-10-17T11:14:42.614Z"
      },
      {
        "duration": 13,
        "start_time": "2022-10-17T11:15:06.581Z"
      },
      {
        "duration": 11,
        "start_time": "2022-10-17T11:15:31.174Z"
      },
      {
        "duration": 315,
        "start_time": "2022-10-17T11:17:00.998Z"
      },
      {
        "duration": 232,
        "start_time": "2022-10-17T11:19:09.080Z"
      },
      {
        "duration": 234,
        "start_time": "2022-10-17T11:19:40.983Z"
      },
      {
        "duration": 925,
        "start_time": "2022-10-17T11:22:34.852Z"
      },
      {
        "duration": 27,
        "start_time": "2022-10-17T11:23:03.586Z"
      },
      {
        "duration": 13,
        "start_time": "2022-10-17T11:23:23.430Z"
      },
      {
        "duration": 3,
        "start_time": "2022-10-17T11:57:07.405Z"
      },
      {
        "duration": 2,
        "start_time": "2022-10-17T11:57:40.510Z"
      },
      {
        "duration": 3,
        "start_time": "2022-10-17T11:57:43.773Z"
      },
      {
        "duration": 4,
        "start_time": "2022-10-17T11:59:15.526Z"
      },
      {
        "duration": 4,
        "start_time": "2022-10-17T12:00:44.421Z"
      },
      {
        "duration": 11,
        "start_time": "2022-10-17T12:08:08.430Z"
      },
      {
        "duration": 9,
        "start_time": "2022-10-17T12:08:30.072Z"
      },
      {
        "duration": 12,
        "start_time": "2022-10-17T12:10:17.053Z"
      },
      {
        "duration": 14,
        "start_time": "2022-10-17T12:10:28.575Z"
      },
      {
        "duration": 12,
        "start_time": "2022-10-17T12:10:43.933Z"
      },
      {
        "duration": 6,
        "start_time": "2022-10-17T12:26:36.398Z"
      },
      {
        "duration": 12,
        "start_time": "2022-10-17T12:26:42.898Z"
      },
      {
        "duration": 5,
        "start_time": "2022-10-17T12:27:02.012Z"
      },
      {
        "duration": 9,
        "start_time": "2022-10-17T12:29:41.469Z"
      },
      {
        "duration": 4,
        "start_time": "2022-10-17T12:29:44.198Z"
      },
      {
        "duration": 2,
        "start_time": "2022-10-17T12:29:45.631Z"
      },
      {
        "duration": 5,
        "start_time": "2022-10-17T12:29:50.838Z"
      },
      {
        "duration": 4,
        "start_time": "2022-10-17T12:30:05.589Z"
      },
      {
        "duration": 4,
        "start_time": "2022-10-17T13:35:52.328Z"
      },
      {
        "duration": 4,
        "start_time": "2022-10-17T13:36:01.301Z"
      },
      {
        "duration": 4,
        "start_time": "2022-10-17T13:36:05.751Z"
      },
      {
        "duration": 4,
        "start_time": "2022-10-17T13:36:08.924Z"
      },
      {
        "duration": 520,
        "start_time": "2022-10-17T13:36:20.164Z"
      },
      {
        "duration": 9,
        "start_time": "2022-10-17T13:36:44.509Z"
      },
      {
        "duration": 179,
        "start_time": "2022-10-17T13:38:41.453Z"
      },
      {
        "duration": 156,
        "start_time": "2022-10-17T13:38:50.940Z"
      },
      {
        "duration": 156,
        "start_time": "2022-10-17T13:39:02.069Z"
      },
      {
        "duration": 224,
        "start_time": "2022-10-17T13:39:05.860Z"
      },
      {
        "duration": 169,
        "start_time": "2022-10-17T13:39:23.189Z"
      },
      {
        "duration": 329,
        "start_time": "2022-10-17T13:40:25.687Z"
      },
      {
        "duration": 330,
        "start_time": "2022-10-17T13:41:23.484Z"
      },
      {
        "duration": 12,
        "start_time": "2022-10-17T13:42:29.818Z"
      },
      {
        "duration": 13,
        "start_time": "2022-10-17T13:43:24.149Z"
      },
      {
        "duration": 165,
        "start_time": "2022-10-17T13:43:37.758Z"
      },
      {
        "duration": 12,
        "start_time": "2022-10-17T13:43:59.004Z"
      },
      {
        "duration": 4,
        "start_time": "2022-10-17T13:45:26.692Z"
      },
      {
        "duration": 5,
        "start_time": "2022-10-17T13:45:42.811Z"
      },
      {
        "duration": 285,
        "start_time": "2022-10-17T13:51:42.829Z"
      },
      {
        "duration": 1211,
        "start_time": "2022-10-18T07:17:27.529Z"
      },
      {
        "duration": 1684,
        "start_time": "2022-10-18T07:17:28.938Z"
      },
      {
        "duration": 3,
        "start_time": "2022-10-18T07:18:54.263Z"
      },
      {
        "duration": 72,
        "start_time": "2022-10-18T07:18:55.743Z"
      },
      {
        "duration": 22,
        "start_time": "2022-10-18T07:18:56.921Z"
      },
      {
        "duration": 110,
        "start_time": "2022-10-18T07:18:58.215Z"
      },
      {
        "duration": 439,
        "start_time": "2022-10-18T07:19:10.761Z"
      },
      {
        "duration": 13,
        "start_time": "2022-10-18T07:19:29.993Z"
      },
      {
        "duration": 14,
        "start_time": "2022-10-18T07:19:39.304Z"
      },
      {
        "duration": 14,
        "start_time": "2022-10-18T07:19:40.176Z"
      },
      {
        "duration": 3,
        "start_time": "2022-10-18T07:27:45.954Z"
      },
      {
        "duration": 13,
        "start_time": "2022-10-18T07:31:37.847Z"
      },
      {
        "duration": 10,
        "start_time": "2022-10-18T07:31:50.173Z"
      },
      {
        "duration": 10,
        "start_time": "2022-10-18T07:32:13.100Z"
      },
      {
        "duration": 3,
        "start_time": "2022-10-18T07:33:22.295Z"
      },
      {
        "duration": 121,
        "start_time": "2022-10-18T07:33:35.373Z"
      },
      {
        "duration": 4,
        "start_time": "2022-10-18T07:33:40.376Z"
      },
      {
        "duration": 8,
        "start_time": "2022-10-18T07:33:42.679Z"
      },
      {
        "duration": 4,
        "start_time": "2022-10-18T07:34:06.479Z"
      },
      {
        "duration": 7,
        "start_time": "2022-10-18T07:34:06.935Z"
      },
      {
        "duration": 4,
        "start_time": "2022-10-18T07:34:13.095Z"
      },
      {
        "duration": 8,
        "start_time": "2022-10-18T07:34:14.072Z"
      },
      {
        "duration": 15,
        "start_time": "2022-10-18T07:42:52.686Z"
      },
      {
        "duration": 17,
        "start_time": "2022-10-18T07:43:26.255Z"
      },
      {
        "duration": 14,
        "start_time": "2022-10-18T07:43:42.711Z"
      },
      {
        "duration": 3,
        "start_time": "2022-10-18T07:57:41.295Z"
      },
      {
        "duration": 15,
        "start_time": "2022-10-18T07:57:42.528Z"
      },
      {
        "duration": 1358,
        "start_time": "2022-10-18T08:21:56.432Z"
      },
      {
        "duration": 29,
        "start_time": "2022-10-18T08:26:02.233Z"
      },
      {
        "duration": 26,
        "start_time": "2022-10-18T08:26:06.841Z"
      },
      {
        "duration": 14,
        "start_time": "2022-10-18T08:26:32.071Z"
      },
      {
        "duration": 3,
        "start_time": "2022-10-18T08:26:33.912Z"
      },
      {
        "duration": 12,
        "start_time": "2022-10-18T08:26:34.934Z"
      },
      {
        "duration": 21,
        "start_time": "2022-10-18T08:26:45.529Z"
      },
      {
        "duration": 3,
        "start_time": "2022-10-18T08:26:56.072Z"
      },
      {
        "duration": 14,
        "start_time": "2022-10-18T08:26:56.456Z"
      },
      {
        "duration": 11,
        "start_time": "2022-10-18T08:33:35.439Z"
      },
      {
        "duration": 18,
        "start_time": "2022-10-18T08:33:49.568Z"
      },
      {
        "duration": 10,
        "start_time": "2022-10-18T08:34:21.672Z"
      },
      {
        "duration": 10,
        "start_time": "2022-10-18T08:34:26.135Z"
      },
      {
        "duration": 9,
        "start_time": "2022-10-18T08:35:08.640Z"
      },
      {
        "duration": 11,
        "start_time": "2022-10-18T08:35:16.223Z"
      },
      {
        "duration": 20,
        "start_time": "2022-10-18T08:54:11.191Z"
      },
      {
        "duration": 3884,
        "start_time": "2022-10-18T08:54:55.607Z"
      },
      {
        "duration": 4020,
        "start_time": "2022-10-18T08:55:38.856Z"
      },
      {
        "duration": 3890,
        "start_time": "2022-10-18T08:55:49.079Z"
      },
      {
        "duration": 1562,
        "start_time": "2022-10-18T10:27:49.828Z"
      },
      {
        "duration": 104,
        "start_time": "2022-10-18T10:28:16.189Z"
      },
      {
        "duration": 4,
        "start_time": "2022-10-18T10:28:36.903Z"
      },
      {
        "duration": 121,
        "start_time": "2022-10-18T10:28:40.949Z"
      },
      {
        "duration": 1605,
        "start_time": "2022-10-18T10:28:52.037Z"
      },
      {
        "duration": 423,
        "start_time": "2022-10-18T10:28:56.305Z"
      },
      {
        "duration": 361,
        "start_time": "2022-10-18T10:29:07.206Z"
      },
      {
        "duration": 324,
        "start_time": "2022-10-18T10:29:16.799Z"
      },
      {
        "duration": 339,
        "start_time": "2022-10-18T10:29:22.166Z"
      },
      {
        "duration": 341,
        "start_time": "2022-10-18T10:29:31.061Z"
      },
      {
        "duration": 447,
        "start_time": "2022-10-18T10:29:36.569Z"
      },
      {
        "duration": 317,
        "start_time": "2022-10-18T10:29:45.302Z"
      },
      {
        "duration": 333,
        "start_time": "2022-10-18T10:30:06.422Z"
      },
      {
        "duration": 294,
        "start_time": "2022-10-18T10:30:24.733Z"
      },
      {
        "duration": 324,
        "start_time": "2022-10-18T10:31:14.190Z"
      },
      {
        "duration": 656,
        "start_time": "2022-10-18T10:31:23.373Z"
      },
      {
        "duration": 910,
        "start_time": "2022-10-18T10:32:12.910Z"
      },
      {
        "duration": 967,
        "start_time": "2022-10-18T10:32:34.437Z"
      },
      {
        "duration": 907,
        "start_time": "2022-10-18T10:37:30.695Z"
      },
      {
        "duration": 934,
        "start_time": "2022-10-18T10:37:56.869Z"
      },
      {
        "duration": 1166,
        "start_time": "2022-10-18T10:38:06.317Z"
      },
      {
        "duration": 965,
        "start_time": "2022-10-18T10:38:19.840Z"
      },
      {
        "duration": 943,
        "start_time": "2022-10-18T10:38:24.037Z"
      },
      {
        "duration": 13,
        "start_time": "2022-10-18T10:46:49.189Z"
      },
      {
        "duration": 246,
        "start_time": "2022-10-18T10:46:56.661Z"
      },
      {
        "duration": 1658,
        "start_time": "2022-10-18T10:47:35.312Z"
      },
      {
        "duration": 1334,
        "start_time": "2022-10-18T10:47:52.196Z"
      },
      {
        "duration": 9,
        "start_time": "2022-10-18T10:48:05.518Z"
      },
      {
        "duration": 1163,
        "start_time": "2022-10-18T10:48:50.871Z"
      },
      {
        "duration": 0,
        "start_time": "2022-10-18T10:51:11.989Z"
      },
      {
        "duration": 1141,
        "start_time": "2022-10-18T10:51:16.797Z"
      },
      {
        "duration": 200,
        "start_time": "2022-10-18T10:51:40.558Z"
      },
      {
        "duration": 309,
        "start_time": "2022-10-18T10:54:43.975Z"
      },
      {
        "duration": 436,
        "start_time": "2022-10-18T10:55:15.470Z"
      },
      {
        "duration": 1334,
        "start_time": "2022-10-18T10:56:26.856Z"
      },
      {
        "duration": 1316,
        "start_time": "2022-10-18T10:57:00.102Z"
      },
      {
        "duration": 320,
        "start_time": "2022-10-18T11:00:54.278Z"
      },
      {
        "duration": 90,
        "start_time": "2022-10-18T11:02:50.838Z"
      },
      {
        "duration": 70,
        "start_time": "2022-10-18T11:02:53.695Z"
      },
      {
        "duration": 3,
        "start_time": "2022-10-18T11:07:22.933Z"
      },
      {
        "duration": 4,
        "start_time": "2022-10-18T11:07:29.501Z"
      },
      {
        "duration": 5,
        "start_time": "2022-10-18T11:10:45.652Z"
      },
      {
        "duration": 3,
        "start_time": "2022-10-18T11:12:49.539Z"
      },
      {
        "duration": 390,
        "start_time": "2022-10-18T11:12:50.724Z"
      },
      {
        "duration": 387,
        "start_time": "2022-10-18T11:12:59.612Z"
      },
      {
        "duration": 16,
        "start_time": "2022-10-18T11:13:05.252Z"
      },
      {
        "duration": 16,
        "start_time": "2022-10-18T11:13:06.668Z"
      },
      {
        "duration": 17,
        "start_time": "2022-10-18T11:13:06.860Z"
      },
      {
        "duration": 5,
        "start_time": "2022-10-18T11:13:09.755Z"
      },
      {
        "duration": 4,
        "start_time": "2022-10-18T11:13:19.197Z"
      },
      {
        "duration": 14,
        "start_time": "2022-10-18T11:13:50.181Z"
      },
      {
        "duration": 4,
        "start_time": "2022-10-18T11:14:32.405Z"
      },
      {
        "duration": 15,
        "start_time": "2022-10-18T11:14:37.742Z"
      },
      {
        "duration": 15,
        "start_time": "2022-10-18T11:15:20.080Z"
      },
      {
        "duration": 3443,
        "start_time": "2022-10-18T11:16:58.573Z"
      },
      {
        "duration": 3399,
        "start_time": "2022-10-18T11:28:18.597Z"
      },
      {
        "duration": 488,
        "start_time": "2022-10-18T11:29:05.655Z"
      },
      {
        "duration": 496,
        "start_time": "2022-10-18T11:29:19.120Z"
      },
      {
        "duration": 10,
        "start_time": "2022-10-18T12:44:35.344Z"
      },
      {
        "duration": 18,
        "start_time": "2022-10-18T12:44:53.350Z"
      },
      {
        "duration": 16,
        "start_time": "2022-10-18T12:48:54.342Z"
      },
      {
        "duration": 4,
        "start_time": "2022-10-18T12:53:51.415Z"
      },
      {
        "duration": 18,
        "start_time": "2022-10-18T12:54:28.418Z"
      },
      {
        "duration": 73,
        "start_time": "2022-10-18T12:59:52.757Z"
      },
      {
        "duration": 10,
        "start_time": "2022-10-18T13:00:12.290Z"
      },
      {
        "duration": 4,
        "start_time": "2022-10-18T13:00:19.716Z"
      },
      {
        "duration": 18,
        "start_time": "2022-10-18T13:00:21.211Z"
      },
      {
        "duration": 21,
        "start_time": "2022-10-18T13:00:41.443Z"
      },
      {
        "duration": 1344,
        "start_time": "2022-10-18T13:02:48.731Z"
      },
      {
        "duration": 4064,
        "start_time": "2022-10-18T13:04:00.587Z"
      },
      {
        "duration": 4181,
        "start_time": "2022-10-18T13:04:34.467Z"
      },
      {
        "duration": 4173,
        "start_time": "2022-10-18T13:05:26.851Z"
      },
      {
        "duration": 4007,
        "start_time": "2022-10-18T13:07:28.171Z"
      },
      {
        "duration": 4217,
        "start_time": "2022-10-18T13:11:33.323Z"
      },
      {
        "duration": 1661,
        "start_time": "2022-10-19T10:43:53.130Z"
      },
      {
        "duration": 814,
        "start_time": "2022-10-19T10:43:54.793Z"
      },
      {
        "duration": 182,
        "start_time": "2022-10-19T10:43:55.609Z"
      },
      {
        "duration": 3,
        "start_time": "2022-10-19T10:43:55.793Z"
      },
      {
        "duration": 78,
        "start_time": "2022-10-19T10:43:55.798Z"
      },
      {
        "duration": 19,
        "start_time": "2022-10-19T10:43:55.878Z"
      },
      {
        "duration": 93,
        "start_time": "2022-10-19T10:43:55.898Z"
      },
      {
        "duration": 1280,
        "start_time": "2022-10-19T10:43:55.993Z"
      },
      {
        "duration": 1017,
        "start_time": "2022-10-19T10:43:57.275Z"
      },
      {
        "duration": 323,
        "start_time": "2022-10-19T10:43:58.294Z"
      },
      {
        "duration": 99,
        "start_time": "2022-10-19T10:43:58.619Z"
      },
      {
        "duration": 14,
        "start_time": "2022-10-19T10:43:58.809Z"
      },
      {
        "duration": 15,
        "start_time": "2022-10-19T10:43:58.825Z"
      },
      {
        "duration": 5,
        "start_time": "2022-10-19T10:43:58.843Z"
      },
      {
        "duration": 8,
        "start_time": "2022-10-19T10:43:58.849Z"
      },
      {
        "duration": 24,
        "start_time": "2022-10-19T10:43:58.858Z"
      },
      {
        "duration": 129,
        "start_time": "2022-10-19T10:43:58.908Z"
      },
      {
        "duration": 4071,
        "start_time": "2022-10-19T10:44:14.222Z"
      },
      {
        "duration": 10,
        "start_time": "2022-10-19T10:44:47.641Z"
      },
      {
        "duration": 4,
        "start_time": "2022-10-19T10:45:15.822Z"
      },
      {
        "duration": 5,
        "start_time": "2022-10-19T10:45:18.222Z"
      },
      {
        "duration": 6,
        "start_time": "2022-10-19T10:45:29.822Z"
      },
      {
        "duration": 5,
        "start_time": "2022-10-19T10:47:42.846Z"
      },
      {
        "duration": 4,
        "start_time": "2022-10-19T10:47:44.964Z"
      },
      {
        "duration": 17,
        "start_time": "2022-10-19T10:47:46.271Z"
      },
      {
        "duration": 4039,
        "start_time": "2022-10-19T10:47:47.532Z"
      },
      {
        "duration": 4,
        "start_time": "2022-10-19T10:47:58.004Z"
      },
      {
        "duration": 4180,
        "start_time": "2022-10-19T10:49:40.922Z"
      },
      {
        "duration": 4,
        "start_time": "2022-10-19T10:49:48.792Z"
      },
      {
        "duration": 3,
        "start_time": "2022-10-19T10:49:51.644Z"
      },
      {
        "duration": 16,
        "start_time": "2022-10-19T10:49:53.638Z"
      },
      {
        "duration": 4084,
        "start_time": "2022-10-19T10:49:54.406Z"
      },
      {
        "duration": 18,
        "start_time": "2022-10-19T10:50:06.573Z"
      },
      {
        "duration": 4,
        "start_time": "2022-10-19T10:50:21.622Z"
      },
      {
        "duration": 6,
        "start_time": "2022-10-19T10:50:30.299Z"
      },
      {
        "duration": 26,
        "start_time": "2022-10-19T10:50:48.232Z"
      },
      {
        "duration": 6,
        "start_time": "2022-10-19T10:51:12.622Z"
      },
      {
        "duration": 8,
        "start_time": "2022-10-19T10:52:27.452Z"
      },
      {
        "duration": 22,
        "start_time": "2022-10-19T10:52:35.369Z"
      },
      {
        "duration": 4073,
        "start_time": "2022-10-19T10:52:44.463Z"
      },
      {
        "duration": 5,
        "start_time": "2022-10-19T10:53:07.960Z"
      },
      {
        "duration": 4,
        "start_time": "2022-10-19T10:53:37.192Z"
      },
      {
        "duration": 3,
        "start_time": "2022-10-19T10:53:39.088Z"
      },
      {
        "duration": 17,
        "start_time": "2022-10-19T10:53:41.120Z"
      },
      {
        "duration": 6,
        "start_time": "2022-10-19T10:53:42.896Z"
      },
      {
        "duration": 5,
        "start_time": "2022-10-19T10:53:43.051Z"
      },
      {
        "duration": 5,
        "start_time": "2022-10-19T10:53:43.240Z"
      },
      {
        "duration": 4069,
        "start_time": "2022-10-19T10:53:43.410Z"
      },
      {
        "duration": 6,
        "start_time": "2022-10-19T10:53:54.994Z"
      },
      {
        "duration": 3,
        "start_time": "2022-10-19T10:56:05.513Z"
      },
      {
        "duration": 11,
        "start_time": "2022-10-19T10:58:10.894Z"
      },
      {
        "duration": 16,
        "start_time": "2022-10-19T10:58:25.347Z"
      },
      {
        "duration": 17,
        "start_time": "2022-10-19T11:14:23.789Z"
      },
      {
        "duration": 3,
        "start_time": "2022-10-19T11:16:13.172Z"
      },
      {
        "duration": 42,
        "start_time": "2022-10-19T11:16:48.151Z"
      },
      {
        "duration": 1499,
        "start_time": "2022-10-19T11:17:02.888Z"
      },
      {
        "duration": 1650,
        "start_time": "2022-10-19T11:17:04.389Z"
      },
      {
        "duration": 175,
        "start_time": "2022-10-19T11:17:06.040Z"
      },
      {
        "duration": 3,
        "start_time": "2022-10-19T11:17:06.217Z"
      },
      {
        "duration": 85,
        "start_time": "2022-10-19T11:17:06.222Z"
      },
      {
        "duration": 18,
        "start_time": "2022-10-19T11:17:06.309Z"
      },
      {
        "duration": 103,
        "start_time": "2022-10-19T11:17:06.328Z"
      },
      {
        "duration": 1279,
        "start_time": "2022-10-19T11:17:06.432Z"
      },
      {
        "duration": 1087,
        "start_time": "2022-10-19T11:17:07.713Z"
      },
      {
        "duration": 306,
        "start_time": "2022-10-19T11:17:08.803Z"
      },
      {
        "duration": 85,
        "start_time": "2022-10-19T11:17:09.115Z"
      },
      {
        "duration": 31,
        "start_time": "2022-10-19T11:17:09.284Z"
      },
      {
        "duration": 13,
        "start_time": "2022-10-19T11:17:09.317Z"
      },
      {
        "duration": 5,
        "start_time": "2022-10-19T11:17:09.331Z"
      },
      {
        "duration": 26,
        "start_time": "2022-10-19T11:17:09.337Z"
      },
      {
        "duration": 21,
        "start_time": "2022-10-19T11:17:09.365Z"
      },
      {
        "duration": 70,
        "start_time": "2022-10-19T11:18:18.437Z"
      },
      {
        "duration": 4029,
        "start_time": "2022-10-19T11:22:04.348Z"
      },
      {
        "duration": 17,
        "start_time": "2022-10-19T11:22:45.893Z"
      },
      {
        "duration": 3844,
        "start_time": "2022-10-19T11:23:47.573Z"
      },
      {
        "duration": 18,
        "start_time": "2022-10-19T12:13:42.120Z"
      },
      {
        "duration": 4062,
        "start_time": "2022-10-19T12:13:43.295Z"
      },
      {
        "duration": 17,
        "start_time": "2022-10-19T12:18:34.811Z"
      },
      {
        "duration": 12,
        "start_time": "2022-10-19T12:19:02.439Z"
      },
      {
        "duration": 4038,
        "start_time": "2022-10-19T12:19:28.929Z"
      },
      {
        "duration": 3,
        "start_time": "2022-10-19T12:30:54.324Z"
      },
      {
        "duration": 6,
        "start_time": "2022-10-19T12:32:15.809Z"
      },
      {
        "duration": 18,
        "start_time": "2022-10-19T12:38:48.594Z"
      },
      {
        "duration": 3790,
        "start_time": "2022-10-19T12:58:28.340Z"
      },
      {
        "duration": 25,
        "start_time": "2022-10-19T13:09:04.510Z"
      },
      {
        "duration": 3,
        "start_time": "2022-10-19T13:09:46.508Z"
      },
      {
        "duration": 12,
        "start_time": "2022-10-19T13:09:53.307Z"
      },
      {
        "duration": 3,
        "start_time": "2022-10-19T13:10:00.378Z"
      },
      {
        "duration": 317,
        "start_time": "2022-10-19T13:10:02.195Z"
      },
      {
        "duration": 30,
        "start_time": "2022-10-19T13:10:07.404Z"
      },
      {
        "duration": 10,
        "start_time": "2022-10-19T13:10:26.072Z"
      },
      {
        "duration": 11,
        "start_time": "2022-10-19T13:11:08.627Z"
      },
      {
        "duration": 14,
        "start_time": "2022-10-19T13:11:16.948Z"
      },
      {
        "duration": 3,
        "start_time": "2022-10-19T13:11:24.051Z"
      },
      {
        "duration": 353,
        "start_time": "2022-10-19T13:11:26.143Z"
      },
      {
        "duration": 159,
        "start_time": "2022-10-19T13:11:28.756Z"
      },
      {
        "duration": 3,
        "start_time": "2022-10-19T13:11:34.061Z"
      },
      {
        "duration": 60,
        "start_time": "2022-10-19T13:11:35.363Z"
      },
      {
        "duration": 13,
        "start_time": "2022-10-19T13:11:36.347Z"
      },
      {
        "duration": 82,
        "start_time": "2022-10-19T13:11:37.843Z"
      },
      {
        "duration": 27,
        "start_time": "2022-10-19T13:11:41.851Z"
      },
      {
        "duration": 13,
        "start_time": "2022-10-19T13:16:06.940Z"
      },
      {
        "duration": 11,
        "start_time": "2022-10-19T13:16:12.035Z"
      },
      {
        "duration": 13,
        "start_time": "2022-10-19T13:16:37.019Z"
      },
      {
        "duration": 3,
        "start_time": "2022-10-19T13:16:43.811Z"
      },
      {
        "duration": 337,
        "start_time": "2022-10-19T13:16:44.477Z"
      },
      {
        "duration": 201,
        "start_time": "2022-10-19T13:16:44.816Z"
      },
      {
        "duration": 3,
        "start_time": "2022-10-19T13:16:46.298Z"
      },
      {
        "duration": 62,
        "start_time": "2022-10-19T13:16:46.548Z"
      },
      {
        "duration": 16,
        "start_time": "2022-10-19T13:16:47.150Z"
      },
      {
        "duration": 82,
        "start_time": "2022-10-19T13:16:49.346Z"
      },
      {
        "duration": 26,
        "start_time": "2022-10-19T13:16:51.835Z"
      },
      {
        "duration": 81,
        "start_time": "2022-10-19T13:18:08.155Z"
      },
      {
        "duration": 50,
        "start_time": "2022-10-19T13:18:17.101Z"
      },
      {
        "duration": 46,
        "start_time": "2022-10-19T13:18:30.907Z"
      },
      {
        "duration": 50,
        "start_time": "2022-10-19T13:18:37.939Z"
      },
      {
        "duration": 90,
        "start_time": "2022-10-19T13:20:18.863Z"
      },
      {
        "duration": 75,
        "start_time": "2022-10-19T13:20:26.979Z"
      },
      {
        "duration": 72,
        "start_time": "2022-10-19T13:20:42.003Z"
      },
      {
        "duration": 19,
        "start_time": "2022-10-19T13:20:54.195Z"
      },
      {
        "duration": 61,
        "start_time": "2022-10-19T13:21:08.603Z"
      },
      {
        "duration": 3,
        "start_time": "2022-10-19T13:23:30.303Z"
      },
      {
        "duration": 362,
        "start_time": "2022-10-19T13:23:30.307Z"
      },
      {
        "duration": 198,
        "start_time": "2022-10-19T13:23:30.671Z"
      },
      {
        "duration": 4,
        "start_time": "2022-10-19T13:23:30.871Z"
      },
      {
        "duration": 83,
        "start_time": "2022-10-19T13:23:30.876Z"
      },
      {
        "duration": 46,
        "start_time": "2022-10-19T13:23:30.961Z"
      },
      {
        "duration": 85,
        "start_time": "2022-10-19T13:23:31.009Z"
      },
      {
        "duration": 1254,
        "start_time": "2022-10-19T13:23:31.096Z"
      },
      {
        "duration": 938,
        "start_time": "2022-10-19T13:23:32.354Z"
      },
      {
        "duration": 299,
        "start_time": "2022-10-19T13:23:33.294Z"
      },
      {
        "duration": 197,
        "start_time": "2022-10-19T13:23:33.594Z"
      },
      {
        "duration": 18,
        "start_time": "2022-10-19T13:23:33.794Z"
      },
      {
        "duration": 15,
        "start_time": "2022-10-19T13:23:33.814Z"
      },
      {
        "duration": 24,
        "start_time": "2022-10-19T13:23:33.831Z"
      },
      {
        "duration": 35,
        "start_time": "2022-10-19T13:23:33.857Z"
      },
      {
        "duration": 46,
        "start_time": "2022-10-19T13:23:33.893Z"
      },
      {
        "duration": 4045,
        "start_time": "2022-10-19T13:23:33.941Z"
      },
      {
        "duration": 9,
        "start_time": "2022-10-20T05:29:49.552Z"
      },
      {
        "duration": 1636,
        "start_time": "2022-10-20T05:29:55.039Z"
      },
      {
        "duration": 1804,
        "start_time": "2022-10-20T05:29:56.677Z"
      },
      {
        "duration": 209,
        "start_time": "2022-10-20T05:29:58.483Z"
      },
      {
        "duration": 9,
        "start_time": "2022-10-20T05:29:58.700Z"
      },
      {
        "duration": 107,
        "start_time": "2022-10-20T05:29:58.711Z"
      },
      {
        "duration": 19,
        "start_time": "2022-10-20T05:29:58.820Z"
      },
      {
        "duration": 100,
        "start_time": "2022-10-20T05:29:58.841Z"
      },
      {
        "duration": 1396,
        "start_time": "2022-10-20T05:29:58.942Z"
      },
      {
        "duration": 1237,
        "start_time": "2022-10-20T05:30:00.340Z"
      },
      {
        "duration": 415,
        "start_time": "2022-10-20T05:30:01.580Z"
      },
      {
        "duration": 28,
        "start_time": "2022-10-20T05:30:01.997Z"
      },
      {
        "duration": 31,
        "start_time": "2022-10-20T05:30:02.095Z"
      },
      {
        "duration": 23,
        "start_time": "2022-10-20T05:30:02.128Z"
      },
      {
        "duration": 17,
        "start_time": "2022-10-20T05:30:02.153Z"
      },
      {
        "duration": 11,
        "start_time": "2022-10-20T05:30:02.172Z"
      },
      {
        "duration": 40,
        "start_time": "2022-10-20T05:30:02.185Z"
      },
      {
        "duration": 4234,
        "start_time": "2022-10-20T05:30:02.226Z"
      },
      {
        "duration": 4314,
        "start_time": "2022-10-20T05:31:16.065Z"
      },
      {
        "duration": 5,
        "start_time": "2022-10-20T05:32:38.075Z"
      },
      {
        "duration": 3,
        "start_time": "2022-10-20T05:32:40.827Z"
      },
      {
        "duration": 18,
        "start_time": "2022-10-20T05:32:42.763Z"
      },
      {
        "duration": 4141,
        "start_time": "2022-10-20T05:32:44.021Z"
      },
      {
        "duration": 6,
        "start_time": "2022-10-20T05:32:58.945Z"
      },
      {
        "duration": 9,
        "start_time": "2022-10-20T05:34:12.690Z"
      },
      {
        "duration": 4355,
        "start_time": "2022-10-20T05:34:18.317Z"
      },
      {
        "duration": 1455,
        "start_time": "2022-10-20T05:34:38.589Z"
      },
      {
        "duration": 388,
        "start_time": "2022-10-20T05:34:40.046Z"
      },
      {
        "duration": 211,
        "start_time": "2022-10-20T05:34:40.436Z"
      },
      {
        "duration": 3,
        "start_time": "2022-10-20T05:34:40.649Z"
      },
      {
        "duration": 94,
        "start_time": "2022-10-20T05:34:40.654Z"
      },
      {
        "duration": 26,
        "start_time": "2022-10-20T05:34:40.750Z"
      },
      {
        "duration": 113,
        "start_time": "2022-10-20T05:34:40.790Z"
      },
      {
        "duration": 1398,
        "start_time": "2022-10-20T05:34:40.904Z"
      },
      {
        "duration": 977,
        "start_time": "2022-10-20T05:34:42.304Z"
      },
      {
        "duration": 304,
        "start_time": "2022-10-20T05:34:43.295Z"
      },
      {
        "duration": 107,
        "start_time": "2022-10-20T05:34:43.601Z"
      },
      {
        "duration": 105,
        "start_time": "2022-10-20T05:34:43.709Z"
      },
      {
        "duration": 10,
        "start_time": "2022-10-20T05:34:43.816Z"
      },
      {
        "duration": 6,
        "start_time": "2022-10-20T05:34:43.828Z"
      },
      {
        "duration": 4,
        "start_time": "2022-10-20T05:34:43.836Z"
      },
      {
        "duration": 23,
        "start_time": "2022-10-20T05:34:43.841Z"
      },
      {
        "duration": 4295,
        "start_time": "2022-10-20T05:34:43.866Z"
      },
      {
        "duration": 55,
        "start_time": "2022-10-20T06:37:56.438Z"
      },
      {
        "duration": 1528,
        "start_time": "2022-10-20T06:37:59.836Z"
      },
      {
        "duration": 683,
        "start_time": "2022-10-20T06:38:01.366Z"
      },
      {
        "duration": 189,
        "start_time": "2022-10-20T06:38:02.050Z"
      },
      {
        "duration": 4,
        "start_time": "2022-10-20T06:38:02.241Z"
      },
      {
        "duration": 114,
        "start_time": "2022-10-20T06:38:02.247Z"
      },
      {
        "duration": 25,
        "start_time": "2022-10-20T06:38:02.363Z"
      },
      {
        "duration": 104,
        "start_time": "2022-10-20T06:38:02.389Z"
      },
      {
        "duration": 1382,
        "start_time": "2022-10-20T06:38:02.494Z"
      },
      {
        "duration": 1022,
        "start_time": "2022-10-20T06:38:03.878Z"
      },
      {
        "duration": 310,
        "start_time": "2022-10-20T06:38:04.908Z"
      },
      {
        "duration": 189,
        "start_time": "2022-10-20T06:38:05.220Z"
      },
      {
        "duration": 31,
        "start_time": "2022-10-20T06:38:05.411Z"
      },
      {
        "duration": 27,
        "start_time": "2022-10-20T06:38:05.443Z"
      },
      {
        "duration": 25,
        "start_time": "2022-10-20T06:38:05.471Z"
      },
      {
        "duration": 26,
        "start_time": "2022-10-20T06:38:05.498Z"
      },
      {
        "duration": 40,
        "start_time": "2022-10-20T06:38:05.526Z"
      },
      {
        "duration": 2698,
        "start_time": "2022-10-20T06:38:05.568Z"
      },
      {
        "duration": 2637,
        "start_time": "2022-10-20T06:42:35.921Z"
      },
      {
        "duration": 3,
        "start_time": "2022-10-20T06:42:58.231Z"
      },
      {
        "duration": 2684,
        "start_time": "2022-10-20T06:43:01.831Z"
      },
      {
        "duration": 4,
        "start_time": "2022-10-20T06:44:15.679Z"
      },
      {
        "duration": 63,
        "start_time": "2022-10-20T06:52:27.406Z"
      },
      {
        "duration": 4,
        "start_time": "2022-10-20T06:52:40.733Z"
      },
      {
        "duration": 3,
        "start_time": "2022-10-20T06:54:02.958Z"
      },
      {
        "duration": 4,
        "start_time": "2022-10-20T06:58:11.958Z"
      },
      {
        "duration": 84,
        "start_time": "2022-10-20T07:00:04.758Z"
      },
      {
        "duration": 4,
        "start_time": "2022-10-20T07:00:10.706Z"
      },
      {
        "duration": 3685,
        "start_time": "2022-10-20T07:00:14.285Z"
      }
    ],
    "kernelspec": {
      "display_name": "Python 3 (ipykernel)",
      "language": "python",
      "name": "python3"
    },
    "language_info": {
      "codemirror_mode": {
        "name": "ipython",
        "version": 3
      },
      "file_extension": ".py",
      "mimetype": "text/x-python",
      "name": "python",
      "nbconvert_exporter": "python",
      "pygments_lexer": "ipython3",
      "version": "3.9.5"
    },
    "toc": {
      "base_numbering": 1,
      "nav_menu": {},
      "number_sections": true,
      "sideBar": true,
      "skip_h1_title": true,
      "title_cell": "Table of Contents",
      "title_sidebar": "Contents",
      "toc_cell": false,
      "toc_position": {},
      "toc_section_display": true,
      "toc_window_display": false
    },
    "colab": {
      "provenance": []
    }
  },
  "nbformat": 4,
  "nbformat_minor": 0
}