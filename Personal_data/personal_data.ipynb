{
  "cells": [
    {
      "cell_type": "markdown",
      "metadata": {
        "id": "xc-tGCTkYZ7o"
      },
      "source": [
        "# Защита персональных данных клиентов"
      ]
    },
    {
      "cell_type": "markdown",
      "metadata": {
        "id": "9EnqWr7mYZ7p"
      },
      "source": [
        "Вам нужно защитить данные клиентов страховой компании «Хоть потоп». Разработайте такой метод преобразования данных, чтобы по ним было сложно восстановить персональную информацию. Обоснуйте корректность его работы.\n",
        "\n",
        "Нужно защитить данные, чтобы при преобразовании качество моделей машинного обучения не ухудшилось. Подбирать наилучшую модель не требуется."
      ]
    },
    {
      "cell_type": "markdown",
      "metadata": {
        "id": "UEJW3kQdYZ7q"
      },
      "source": [
        "## Загрузка данных"
      ]
    },
    {
      "cell_type": "code",
      "execution_count": null,
      "metadata": {
        "id": "tzvF5opuYZ7s"
      },
      "outputs": [],
      "source": [
        "#Подключение библиотек\n",
        "import pandas as pd\n",
        "import numpy as np\n",
        "\n",
        "from sklearn.linear_model import LinearRegression\n",
        "\n",
        "from sklearn.model_selection import train_test_split\n",
        "\n",
        "from sklearn.preprocessing import StandardScaler\n",
        "\n",
        "from sklearn.metrics import r2_score"
      ]
    },
    {
      "cell_type": "code",
      "execution_count": null,
      "metadata": {
        "id": "Ewa-4ZmsYZ7v"
      },
      "outputs": [],
      "source": [
        "#Загрузка данных\n",
        "data = pd.read_csv('/datasets/insurance.csv')"
      ]
    },
    {
      "cell_type": "code",
      "execution_count": null,
      "metadata": {
        "id": "ZR9umB4bYZ7y",
        "outputId": "d33a2fd9-de18-4b35-b976-b2d99459f78d"
      },
      "outputs": [
        {
          "data": {
            "text/html": [
              "<div>\n",
              "<style scoped>\n",
              "    .dataframe tbody tr th:only-of-type {\n",
              "        vertical-align: middle;\n",
              "    }\n",
              "\n",
              "    .dataframe tbody tr th {\n",
              "        vertical-align: top;\n",
              "    }\n",
              "\n",
              "    .dataframe thead th {\n",
              "        text-align: right;\n",
              "    }\n",
              "</style>\n",
              "<table border=\"1\" class=\"dataframe\">\n",
              "  <thead>\n",
              "    <tr style=\"text-align: right;\">\n",
              "      <th></th>\n",
              "      <th>Пол</th>\n",
              "      <th>Возраст</th>\n",
              "      <th>Зарплата</th>\n",
              "      <th>Члены семьи</th>\n",
              "      <th>Страховые выплаты</th>\n",
              "    </tr>\n",
              "  </thead>\n",
              "  <tbody>\n",
              "    <tr>\n",
              "      <th>0</th>\n",
              "      <td>1</td>\n",
              "      <td>41.0</td>\n",
              "      <td>49600.0</td>\n",
              "      <td>1</td>\n",
              "      <td>0</td>\n",
              "    </tr>\n",
              "    <tr>\n",
              "      <th>1</th>\n",
              "      <td>0</td>\n",
              "      <td>46.0</td>\n",
              "      <td>38000.0</td>\n",
              "      <td>1</td>\n",
              "      <td>1</td>\n",
              "    </tr>\n",
              "    <tr>\n",
              "      <th>2</th>\n",
              "      <td>0</td>\n",
              "      <td>29.0</td>\n",
              "      <td>21000.0</td>\n",
              "      <td>0</td>\n",
              "      <td>0</td>\n",
              "    </tr>\n",
              "    <tr>\n",
              "      <th>3</th>\n",
              "      <td>0</td>\n",
              "      <td>21.0</td>\n",
              "      <td>41700.0</td>\n",
              "      <td>2</td>\n",
              "      <td>0</td>\n",
              "    </tr>\n",
              "    <tr>\n",
              "      <th>4</th>\n",
              "      <td>1</td>\n",
              "      <td>28.0</td>\n",
              "      <td>26100.0</td>\n",
              "      <td>0</td>\n",
              "      <td>0</td>\n",
              "    </tr>\n",
              "    <tr>\n",
              "      <th>...</th>\n",
              "      <td>...</td>\n",
              "      <td>...</td>\n",
              "      <td>...</td>\n",
              "      <td>...</td>\n",
              "      <td>...</td>\n",
              "    </tr>\n",
              "    <tr>\n",
              "      <th>4995</th>\n",
              "      <td>0</td>\n",
              "      <td>28.0</td>\n",
              "      <td>35700.0</td>\n",
              "      <td>2</td>\n",
              "      <td>0</td>\n",
              "    </tr>\n",
              "    <tr>\n",
              "      <th>4996</th>\n",
              "      <td>0</td>\n",
              "      <td>34.0</td>\n",
              "      <td>52400.0</td>\n",
              "      <td>1</td>\n",
              "      <td>0</td>\n",
              "    </tr>\n",
              "    <tr>\n",
              "      <th>4997</th>\n",
              "      <td>0</td>\n",
              "      <td>20.0</td>\n",
              "      <td>33900.0</td>\n",
              "      <td>2</td>\n",
              "      <td>0</td>\n",
              "    </tr>\n",
              "    <tr>\n",
              "      <th>4998</th>\n",
              "      <td>1</td>\n",
              "      <td>22.0</td>\n",
              "      <td>32700.0</td>\n",
              "      <td>3</td>\n",
              "      <td>0</td>\n",
              "    </tr>\n",
              "    <tr>\n",
              "      <th>4999</th>\n",
              "      <td>1</td>\n",
              "      <td>28.0</td>\n",
              "      <td>40600.0</td>\n",
              "      <td>1</td>\n",
              "      <td>0</td>\n",
              "    </tr>\n",
              "  </tbody>\n",
              "</table>\n",
              "<p>5000 rows × 5 columns</p>\n",
              "</div>"
            ],
            "text/plain": [
              "      Пол  Возраст  Зарплата  Члены семьи  Страховые выплаты\n",
              "0       1     41.0   49600.0            1                  0\n",
              "1       0     46.0   38000.0            1                  1\n",
              "2       0     29.0   21000.0            0                  0\n",
              "3       0     21.0   41700.0            2                  0\n",
              "4       1     28.0   26100.0            0                  0\n",
              "...   ...      ...       ...          ...                ...\n",
              "4995    0     28.0   35700.0            2                  0\n",
              "4996    0     34.0   52400.0            1                  0\n",
              "4997    0     20.0   33900.0            2                  0\n",
              "4998    1     22.0   32700.0            3                  0\n",
              "4999    1     28.0   40600.0            1                  0\n",
              "\n",
              "[5000 rows x 5 columns]"
            ]
          },
          "execution_count": 121,
          "metadata": {},
          "output_type": "execute_result"
        }
      ],
      "source": [
        "data"
      ]
    },
    {
      "cell_type": "code",
      "execution_count": null,
      "metadata": {
        "id": "JuFK7mSJYZ70",
        "outputId": "8b9a98e8-76db-4467-c87b-8183f4502516"
      },
      "outputs": [
        {
          "name": "stdout",
          "output_type": "stream",
          "text": [
            "<class 'pandas.core.frame.DataFrame'>\n",
            "RangeIndex: 5000 entries, 0 to 4999\n",
            "Data columns (total 5 columns):\n",
            " #   Column             Non-Null Count  Dtype  \n",
            "---  ------             --------------  -----  \n",
            " 0   Пол                5000 non-null   int64  \n",
            " 1   Возраст            5000 non-null   float64\n",
            " 2   Зарплата           5000 non-null   float64\n",
            " 3   Члены семьи        5000 non-null   int64  \n",
            " 4   Страховые выплаты  5000 non-null   int64  \n",
            "dtypes: float64(2), int64(3)\n",
            "memory usage: 195.4 KB\n"
          ]
        }
      ],
      "source": [
        "data.info()"
      ]
    },
    {
      "cell_type": "code",
      "execution_count": null,
      "metadata": {
        "id": "QGsTyFQTYZ71",
        "outputId": "8f2d8182-a436-4b4e-dc9d-917dd8adc12d"
      },
      "outputs": [
        {
          "data": {
            "text/html": [
              "<div>\n",
              "<style scoped>\n",
              "    .dataframe tbody tr th:only-of-type {\n",
              "        vertical-align: middle;\n",
              "    }\n",
              "\n",
              "    .dataframe tbody tr th {\n",
              "        vertical-align: top;\n",
              "    }\n",
              "\n",
              "    .dataframe thead th {\n",
              "        text-align: right;\n",
              "    }\n",
              "</style>\n",
              "<table border=\"1\" class=\"dataframe\">\n",
              "  <thead>\n",
              "    <tr style=\"text-align: right;\">\n",
              "      <th></th>\n",
              "      <th>Пол</th>\n",
              "      <th>Возраст</th>\n",
              "      <th>Зарплата</th>\n",
              "      <th>Члены семьи</th>\n",
              "      <th>Страховые выплаты</th>\n",
              "    </tr>\n",
              "  </thead>\n",
              "  <tbody>\n",
              "    <tr>\n",
              "      <th>count</th>\n",
              "      <td>5000.000000</td>\n",
              "      <td>5000.000000</td>\n",
              "      <td>5000.000000</td>\n",
              "      <td>5000.000000</td>\n",
              "      <td>5000.000000</td>\n",
              "    </tr>\n",
              "    <tr>\n",
              "      <th>mean</th>\n",
              "      <td>0.499000</td>\n",
              "      <td>30.952800</td>\n",
              "      <td>39916.360000</td>\n",
              "      <td>1.194200</td>\n",
              "      <td>0.148000</td>\n",
              "    </tr>\n",
              "    <tr>\n",
              "      <th>std</th>\n",
              "      <td>0.500049</td>\n",
              "      <td>8.440807</td>\n",
              "      <td>9900.083569</td>\n",
              "      <td>1.091387</td>\n",
              "      <td>0.463183</td>\n",
              "    </tr>\n",
              "    <tr>\n",
              "      <th>min</th>\n",
              "      <td>0.000000</td>\n",
              "      <td>18.000000</td>\n",
              "      <td>5300.000000</td>\n",
              "      <td>0.000000</td>\n",
              "      <td>0.000000</td>\n",
              "    </tr>\n",
              "    <tr>\n",
              "      <th>25%</th>\n",
              "      <td>0.000000</td>\n",
              "      <td>24.000000</td>\n",
              "      <td>33300.000000</td>\n",
              "      <td>0.000000</td>\n",
              "      <td>0.000000</td>\n",
              "    </tr>\n",
              "    <tr>\n",
              "      <th>50%</th>\n",
              "      <td>0.000000</td>\n",
              "      <td>30.000000</td>\n",
              "      <td>40200.000000</td>\n",
              "      <td>1.000000</td>\n",
              "      <td>0.000000</td>\n",
              "    </tr>\n",
              "    <tr>\n",
              "      <th>75%</th>\n",
              "      <td>1.000000</td>\n",
              "      <td>37.000000</td>\n",
              "      <td>46600.000000</td>\n",
              "      <td>2.000000</td>\n",
              "      <td>0.000000</td>\n",
              "    </tr>\n",
              "    <tr>\n",
              "      <th>max</th>\n",
              "      <td>1.000000</td>\n",
              "      <td>65.000000</td>\n",
              "      <td>79000.000000</td>\n",
              "      <td>6.000000</td>\n",
              "      <td>5.000000</td>\n",
              "    </tr>\n",
              "  </tbody>\n",
              "</table>\n",
              "</div>"
            ],
            "text/plain": [
              "               Пол      Возраст      Зарплата  Члены семьи  Страховые выплаты\n",
              "count  5000.000000  5000.000000   5000.000000  5000.000000        5000.000000\n",
              "mean      0.499000    30.952800  39916.360000     1.194200           0.148000\n",
              "std       0.500049     8.440807   9900.083569     1.091387           0.463183\n",
              "min       0.000000    18.000000   5300.000000     0.000000           0.000000\n",
              "25%       0.000000    24.000000  33300.000000     0.000000           0.000000\n",
              "50%       0.000000    30.000000  40200.000000     1.000000           0.000000\n",
              "75%       1.000000    37.000000  46600.000000     2.000000           0.000000\n",
              "max       1.000000    65.000000  79000.000000     6.000000           5.000000"
            ]
          },
          "execution_count": 123,
          "metadata": {},
          "output_type": "execute_result"
        }
      ],
      "source": [
        "data.describe()"
      ]
    },
    {
      "cell_type": "markdown",
      "metadata": {
        "id": "kqsq9Rs7YZ72"
      },
      "source": [
        "Данные загружены. Пропуски отсутствуют. \n",
        "Тип данных столбцов \"Возраст\" и \"Зарплата\" можно изменить."
      ]
    },
    {
      "cell_type": "code",
      "execution_count": null,
      "metadata": {
        "id": "NOjyE3X1YZ73"
      },
      "outputs": [],
      "source": [
        "data['Возраст'] = pd.to_numeric(data['Возраст'])\n",
        "data['Зарплата'] = pd.to_numeric(data['Зарплата'])"
      ]
    },
    {
      "cell_type": "markdown",
      "metadata": {
        "id": "UEl9tzT_YZ75"
      },
      "source": [
        "## Умножение матриц"
      ]
    },
    {
      "cell_type": "code",
      "execution_count": null,
      "metadata": {
        "id": "iOmBim4OYZ78",
        "outputId": "81cfd0c4-ef13-4294-f818-e8ad92552c6c"
      },
      "outputs": [
        {
          "data": {
            "text/plain": [
              "array([-9.38235504e-01,  7.92580543e-03,  3.57083050e-02, -1.70080492e-07,\n",
              "       -1.35676623e-02])"
            ]
          },
          "execution_count": 125,
          "metadata": {},
          "output_type": "execute_result"
        }
      ],
      "source": [
        "#Признаки\n",
        "features = data.drop('Страховые выплаты', axis=1)\n",
        "\n",
        "#Целевой признак\n",
        "target = data['Страховые выплаты']\n",
        "\n",
        "#Матрица признаков (нулевой столбец состоит из единиц)\n",
        "X = np.concatenate((np.ones((features.shape[0], 1)), features), axis=1)\n",
        "\n",
        "#Вектор целевого признака\n",
        "y = target\n",
        "\n",
        "#Вектор весов линейной регрессии (нулевой элемент равен сдвигу)\n",
        "w = np.linalg.inv(X.T.dot(X)).dot(X.T).dot(y)\n",
        "w"
      ]
    },
    {
      "cell_type": "code",
      "execution_count": null,
      "metadata": {
        "id": "vjmjEgrPYZ78",
        "outputId": "7f1ab7e3-680f-489c-f9e7-9786d2de7126"
      },
      "outputs": [
        {
          "data": {
            "text/plain": [
              "array([ 7.92580543e-03,  3.57083050e-02, -1.70080492e-07, -1.35676623e-02])"
            ]
          },
          "execution_count": 126,
          "metadata": {},
          "output_type": "execute_result"
        }
      ],
      "source": [
        "#Проверка Линейной регрессии и полученной формулы\n",
        "model = LinearRegression()\n",
        "model.fit(features, target)\n",
        "model.coef_"
      ]
    },
    {
      "cell_type": "markdown",
      "metadata": {
        "id": "bN2KMPxBYZ7-"
      },
      "source": [
        "Заменим матрицу $X$ на матрицу $Z$, где $P$ - обратимая матрица с некими значениями, на которую может быть умножена матрица $X$:\n",
        "$$\n",
        "Z = XP\n",
        "$$\n",
        "\n",
        "Тогда $w1$ будет равно:\n",
        "\n",
        "$$\n",
        "w1 = (Z^T Z)^{-1} Z^T y = ((XP)^T XP)^{-1} (XP)^T y \n",
        "$$\n",
        "\n",
        "так как $(AB)^T=B^T A^T$ ,то:\n",
        "\n",
        "$$\n",
        "w1 = (P^T X^T  XP)^{-1} P^T X^T  y = (P^T (X^T X) P)^{-1} P^T X^T\n",
        "$$\n",
        "\n",
        "так как $(AB)^{-1} = B^{-1} A^{-1}$ ,то:\n",
        "\n",
        "$$\n",
        "w1 = P^{-1} (X^T X)^{-1} (P^T)^{-1}  P^T X^T  y\n",
        "$$\n",
        "\n",
        "так как $A A^{-1} = A^{-1} A = E$ ,то:\n",
        "\n",
        "$$\n",
        "w1 = P^{-1} (X^T X)^{-1} E X^T  y = P^{-1} (X^T X)^{-1} X^T  y\n",
        "$$\n",
        "\n",
        "\n",
        "так как $w = (X^T X)^{-1}X^Ty$ ,то:\n",
        "\n",
        "$$\n",
        "w1 = P^{-1}w\n",
        "$$\n",
        "\n",
        "\n",
        "Так как \n",
        "$$\n",
        "a = Xw\n",
        "$$\n",
        "\n",
        "То:\n",
        "$$\n",
        "a1 = Zw1 = ZP^{-1} w = XPP^{-1} w = XEw = Xw = a\n",
        "$$"
      ]
    },
    {
      "cell_type": "markdown",
      "metadata": {
        "id": "zzhwlgZNYZ8A"
      },
      "source": [
        "## Алгоритм преобразования"
      ]
    },
    {
      "cell_type": "markdown",
      "metadata": {
        "id": "HSQhdFhvYZ8B"
      },
      "source": [
        "**Алгоритм**\n",
        "\n",
        "1. Создание обратимой матрицы со случайными величинами размера исходной матрицы.\n",
        "2. Умножение исходной матрицы признаков на полученную обратимую матрицу.\n"
      ]
    },
    {
      "cell_type": "markdown",
      "metadata": {
        "id": "mci4LBPgYZ8C"
      },
      "source": [
        "**Обоснование**\n",
        "\n",
        "Создаваемая матрица должна обратимой, чтобы была возможность провести обратное преобразование и получить исходную матрицу.\n",
        "\n",
        "Создаваемая матрица должна иметь необходимую размерность $(nxn)$, где n - количество признаков для регрессии.\n",
        "Таким образом матрица, полученная после умножения, будет иметь туже размерность, что и исходная.\n"
      ]
    },
    {
      "cell_type": "markdown",
      "metadata": {
        "id": "mCYK0-1hYZ8D"
      },
      "source": [
        "## Проверка алгоритма"
      ]
    },
    {
      "cell_type": "markdown",
      "metadata": {
        "id": "18fSjmF7YZ8D"
      },
      "source": [
        "Проведем исследование модели по двум направлениям:\n",
        "1. Исследуем качество модели без преобразования:\n",
        "* С исходными признаками.\n",
        "* С отмасштабированными признаками.\n",
        "\n",
        "2. Исследуем качество модели с преобразованием:\n",
        "* С исходными признаками.\n",
        "* С отмасштабированными признаками."
      ]
    },
    {
      "cell_type": "code",
      "execution_count": null,
      "metadata": {
        "id": "K92CIWYmYZ8E"
      },
      "outputs": [],
      "source": [
        "#Разделение данных на обучающую и тестовую выборку\n",
        "features_train, features_test, target_train, target_test = train_test_split(\n",
        "    features, \n",
        "    target, \n",
        "    test_size=0.25, \n",
        "    random_state=12345)"
      ]
    },
    {
      "cell_type": "code",
      "execution_count": null,
      "metadata": {
        "id": "Z_T5XNDkYZ8E",
        "outputId": "f706234f-04ba-455c-a04c-2f915fd6034f"
      },
      "outputs": [
        {
          "name": "stdout",
          "output_type": "stream",
          "text": [
            "R2 = 0.43522757127026546\n"
          ]
        }
      ],
      "source": [
        "#Модель Линейной регресси на исходных данных\n",
        "model_1 = LinearRegression()\n",
        "model_1.fit(features_train, target_train)\n",
        "r2_1 = r2_score(target_test, model_1.predict(features_test))\n",
        "print(\"R2 =\", r2_1)\n"
      ]
    },
    {
      "cell_type": "code",
      "execution_count": null,
      "metadata": {
        "id": "0nRlIwL6YZ8G",
        "outputId": "30b61047-eb96-4692-bbf7-1c182bbd171c"
      },
      "outputs": [
        {
          "name": "stdout",
          "output_type": "stream",
          "text": [
            "R2 = 0.4352275712702668\n"
          ]
        }
      ],
      "source": [
        "#Модель Линейной регресси на стандартизированных данных\n",
        "model_2 = LinearRegression()\n",
        "scaler = StandardScaler()\n",
        "scaler.fit(features_train)\n",
        "features_train_scale = scaler.transform(features_train)\n",
        "features_test_scale = scaler.transform(features_test)\n",
        "model_2.fit(features_train_scale, target_train)\n",
        "r2_2 = r2_score(target_test, model_2.predict(features_test_scale))\n",
        "print(\"R2 =\", r2_2)"
      ]
    },
    {
      "cell_type": "markdown",
      "metadata": {
        "id": "d4ReYmUFYZ8H"
      },
      "source": [
        "Результаты моделей идентичны."
      ]
    },
    {
      "cell_type": "code",
      "execution_count": null,
      "metadata": {
        "id": "sZQIctm3YZ8I"
      },
      "outputs": [],
      "source": [
        "def convert(features):\n",
        "    convert_features = features\n",
        "    n = features.shape[1]\n",
        "    np.random.seed(12345)\n",
        "    matrix = np.random.randint(1, 10, (n,n))\n",
        "    det = np.linalg.det(matrix)\n",
        "    while det == 0:\n",
        "        np.random.seed(12345)\n",
        "        matrix = np.random.randint(1, 10, (n,n))\n",
        "        det = np.linalg.det(matrix)\n",
        "    convert_features = convert_features @ matrix\n",
        "    return convert_features, matrix"
      ]
    },
    {
      "cell_type": "code",
      "execution_count": null,
      "metadata": {
        "id": "-9G7MEweYZ8I",
        "outputId": "257c35e2-d352-409e-a429-02075663c55f"
      },
      "outputs": [
        {
          "data": {
            "text/html": [
              "<div>\n",
              "<style scoped>\n",
              "    .dataframe tbody tr th:only-of-type {\n",
              "        vertical-align: middle;\n",
              "    }\n",
              "\n",
              "    .dataframe tbody tr th {\n",
              "        vertical-align: top;\n",
              "    }\n",
              "\n",
              "    .dataframe thead th {\n",
              "        text-align: right;\n",
              "    }\n",
              "</style>\n",
              "<table border=\"1\" class=\"dataframe\">\n",
              "  <thead>\n",
              "    <tr style=\"text-align: right;\">\n",
              "      <th></th>\n",
              "      <th>Пол</th>\n",
              "      <th>Возраст</th>\n",
              "      <th>Зарплата</th>\n",
              "      <th>Члены семьи</th>\n",
              "    </tr>\n",
              "  </thead>\n",
              "  <tbody>\n",
              "    <tr>\n",
              "      <th>0</th>\n",
              "      <td>1</td>\n",
              "      <td>41.0</td>\n",
              "      <td>49600.0</td>\n",
              "      <td>1</td>\n",
              "    </tr>\n",
              "    <tr>\n",
              "      <th>1</th>\n",
              "      <td>0</td>\n",
              "      <td>46.0</td>\n",
              "      <td>38000.0</td>\n",
              "      <td>1</td>\n",
              "    </tr>\n",
              "    <tr>\n",
              "      <th>2</th>\n",
              "      <td>0</td>\n",
              "      <td>29.0</td>\n",
              "      <td>21000.0</td>\n",
              "      <td>0</td>\n",
              "    </tr>\n",
              "    <tr>\n",
              "      <th>3</th>\n",
              "      <td>0</td>\n",
              "      <td>21.0</td>\n",
              "      <td>41700.0</td>\n",
              "      <td>2</td>\n",
              "    </tr>\n",
              "    <tr>\n",
              "      <th>4</th>\n",
              "      <td>1</td>\n",
              "      <td>28.0</td>\n",
              "      <td>26100.0</td>\n",
              "      <td>0</td>\n",
              "    </tr>\n",
              "  </tbody>\n",
              "</table>\n",
              "</div>"
            ],
            "text/plain": [
              "   Пол  Возраст  Зарплата  Члены семьи\n",
              "0    1     41.0   49600.0            1\n",
              "1    0     46.0   38000.0            1\n",
              "2    0     29.0   21000.0            0\n",
              "3    0     21.0   41700.0            2\n",
              "4    1     28.0   26100.0            0"
            ]
          },
          "metadata": {},
          "output_type": "display_data"
        },
        {
          "data": {
            "text/html": [
              "<div>\n",
              "<style scoped>\n",
              "    .dataframe tbody tr th:only-of-type {\n",
              "        vertical-align: middle;\n",
              "    }\n",
              "\n",
              "    .dataframe tbody tr th {\n",
              "        vertical-align: top;\n",
              "    }\n",
              "\n",
              "    .dataframe thead th {\n",
              "        text-align: right;\n",
              "    }\n",
              "</style>\n",
              "<table border=\"1\" class=\"dataframe\">\n",
              "  <thead>\n",
              "    <tr style=\"text-align: right;\">\n",
              "      <th></th>\n",
              "      <th>0</th>\n",
              "      <th>1</th>\n",
              "      <th>2</th>\n",
              "      <th>3</th>\n",
              "    </tr>\n",
              "  </thead>\n",
              "  <tbody>\n",
              "    <tr>\n",
              "      <th>0</th>\n",
              "      <td>99452.0</td>\n",
              "      <td>396931.0</td>\n",
              "      <td>347287.0</td>\n",
              "      <td>49899.0</td>\n",
              "    </tr>\n",
              "    <tr>\n",
              "      <th>1</th>\n",
              "      <td>76279.0</td>\n",
              "      <td>304140.0</td>\n",
              "      <td>266095.0</td>\n",
              "      <td>38329.0</td>\n",
              "    </tr>\n",
              "    <tr>\n",
              "      <th>2</th>\n",
              "      <td>42174.0</td>\n",
              "      <td>168087.0</td>\n",
              "      <td>147058.0</td>\n",
              "      <td>21203.0</td>\n",
              "    </tr>\n",
              "    <tr>\n",
              "      <th>3</th>\n",
              "      <td>83532.0</td>\n",
              "      <td>333667.0</td>\n",
              "      <td>291948.0</td>\n",
              "      <td>41861.0</td>\n",
              "    </tr>\n",
              "    <tr>\n",
              "      <th>4</th>\n",
              "      <td>52371.0</td>\n",
              "      <td>208890.0</td>\n",
              "      <td>182758.0</td>\n",
              "      <td>26301.0</td>\n",
              "    </tr>\n",
              "  </tbody>\n",
              "</table>\n",
              "</div>"
            ],
            "text/plain": [
              "         0         1         2        3\n",
              "0  99452.0  396931.0  347287.0  49899.0\n",
              "1  76279.0  304140.0  266095.0  38329.0\n",
              "2  42174.0  168087.0  147058.0  21203.0\n",
              "3  83532.0  333667.0  291948.0  41861.0\n",
              "4  52371.0  208890.0  182758.0  26301.0"
            ]
          },
          "metadata": {},
          "output_type": "display_data"
        },
        {
          "data": {
            "text/plain": [
              "array([[3, 6, 2, 5],\n",
              "       [6, 3, 2, 7],\n",
              "       [2, 8, 7, 1],\n",
              "       [3, 2, 3, 7]])"
            ]
          },
          "execution_count": 138,
          "metadata": {},
          "output_type": "execute_result"
        }
      ],
      "source": [
        "display(features.head())\n",
        "convert_features, matrix = convert(features)\n",
        "display(convert_features.head())\n",
        "matrix"
      ]
    },
    {
      "cell_type": "code",
      "execution_count": null,
      "metadata": {
        "id": "LsjY1LdKYZ8J"
      },
      "outputs": [],
      "source": [
        "#Разделение данных на обучающую и тестовую выборку\n",
        "features_train, features_test, target_train, target_test = train_test_split(\n",
        "    features, \n",
        "    target, \n",
        "    test_size=0.25, \n",
        "    random_state=12345)"
      ]
    },
    {
      "cell_type": "code",
      "execution_count": null,
      "metadata": {
        "id": "YUgmbx_SYZ8K",
        "outputId": "3b40f3bc-f034-4f13-f35f-1da78218542e"
      },
      "outputs": [
        {
          "name": "stdout",
          "output_type": "stream",
          "text": [
            "R2 = 0.43522757127026546\n"
          ]
        }
      ],
      "source": [
        "#Модель Линейной регресси на преобразованных данных\n",
        "model_1_convert = LinearRegression()\n",
        "model_1_convert.fit(features_train, target_train)\n",
        "r2_1_convert = r2_score(target_test, model_1_convert.predict(features_test))\n",
        "print(\"R2 =\", r2_1_convert)"
      ]
    },
    {
      "cell_type": "code",
      "execution_count": null,
      "metadata": {
        "id": "k0Eaf8OxYZ8K",
        "outputId": "0dcb2023-3d46-46e0-9433-f16a9e528eef"
      },
      "outputs": [
        {
          "name": "stdout",
          "output_type": "stream",
          "text": [
            "R2 = 0.4352275712702668\n"
          ]
        }
      ],
      "source": [
        "#Модель Линейной регресси на стандартизированных преобразованных данных\n",
        "model_2_convert = LinearRegression()\n",
        "scaler = StandardScaler()\n",
        "scaler.fit(features_train)\n",
        "features_train_scale = scaler.transform(features_train)\n",
        "features_test_scale = scaler.transform(features_test)\n",
        "model_2_convert.fit(features_train_scale, target_train)\n",
        "r2_2_convert = r2_score(target_test, model_2_convert.predict(features_test_scale))\n",
        "print(\"R2 =\", r2_2_convert)"
      ]
    },
    {
      "cell_type": "markdown",
      "metadata": {
        "id": "6_0cKVTFYZ8L"
      },
      "source": [
        "Качество моделей не изменилось."
      ]
    },
    {
      "cell_type": "code",
      "execution_count": null,
      "metadata": {
        "id": "OFserV7SYZ8M",
        "outputId": "04968eae-73ad-4bd0-d22c-22f1a2cf843f"
      },
      "outputs": [
        {
          "data": {
            "text/html": [
              "<div>\n",
              "<style scoped>\n",
              "    .dataframe tbody tr th:only-of-type {\n",
              "        vertical-align: middle;\n",
              "    }\n",
              "\n",
              "    .dataframe tbody tr th {\n",
              "        vertical-align: top;\n",
              "    }\n",
              "\n",
              "    .dataframe thead th {\n",
              "        text-align: right;\n",
              "    }\n",
              "</style>\n",
              "<table border=\"1\" class=\"dataframe\">\n",
              "  <thead>\n",
              "    <tr style=\"text-align: right;\">\n",
              "      <th></th>\n",
              "      <th>0</th>\n",
              "      <th>1</th>\n",
              "      <th>2</th>\n",
              "      <th>3</th>\n",
              "    </tr>\n",
              "  </thead>\n",
              "  <tbody>\n",
              "    <tr>\n",
              "      <th>0</th>\n",
              "      <td>1.000000e+00</td>\n",
              "      <td>41.0</td>\n",
              "      <td>49600.0</td>\n",
              "      <td>1.000000e+00</td>\n",
              "    </tr>\n",
              "    <tr>\n",
              "      <th>1</th>\n",
              "      <td>-8.661377e-12</td>\n",
              "      <td>46.0</td>\n",
              "      <td>38000.0</td>\n",
              "      <td>1.000000e+00</td>\n",
              "    </tr>\n",
              "    <tr>\n",
              "      <th>2</th>\n",
              "      <td>-1.381367e-12</td>\n",
              "      <td>29.0</td>\n",
              "      <td>21000.0</td>\n",
              "      <td>-1.073114e-12</td>\n",
              "    </tr>\n",
              "    <tr>\n",
              "      <th>3</th>\n",
              "      <td>-7.930517e-12</td>\n",
              "      <td>21.0</td>\n",
              "      <td>41700.0</td>\n",
              "      <td>2.000000e+00</td>\n",
              "    </tr>\n",
              "    <tr>\n",
              "      <th>4</th>\n",
              "      <td>1.000000e+00</td>\n",
              "      <td>28.0</td>\n",
              "      <td>26100.0</td>\n",
              "      <td>-2.076811e-12</td>\n",
              "    </tr>\n",
              "  </tbody>\n",
              "</table>\n",
              "</div>"
            ],
            "text/plain": [
              "              0     1        2             3\n",
              "0  1.000000e+00  41.0  49600.0  1.000000e+00\n",
              "1 -8.661377e-12  46.0  38000.0  1.000000e+00\n",
              "2 -1.381367e-12  29.0  21000.0 -1.073114e-12\n",
              "3 -7.930517e-12  21.0  41700.0  2.000000e+00\n",
              "4  1.000000e+00  28.0  26100.0 -2.076811e-12"
            ]
          },
          "metadata": {},
          "output_type": "display_data"
        }
      ],
      "source": [
        "#Восстановление данных путем умножения на обратную матрицу\n",
        "unconvert_features = convert_features.dot(np.linalg.inv(matrix))\n",
        "display(unconvert_features.head())"
      ]
    },
    {
      "cell_type": "markdown",
      "metadata": {
        "id": "Gcqgc-VaYZ8N"
      },
      "source": [
        "Данные восстановлены. Имеются небольшие отклонения, корректирующиеся округлением."
      ]
    }
  ],
  "metadata": {
    "ExecuteTimeLog": [
      {
        "duration": 400,
        "start_time": "2022-11-08T08:19:37.328Z"
      },
      {
        "duration": 79,
        "start_time": "2022-11-08T08:20:09.855Z"
      },
      {
        "duration": 17,
        "start_time": "2022-11-08T08:20:26.103Z"
      },
      {
        "duration": 10,
        "start_time": "2022-11-08T08:25:33.928Z"
      },
      {
        "duration": 4,
        "start_time": "2022-11-08T08:38:56.642Z"
      },
      {
        "duration": 205,
        "start_time": "2022-11-08T08:38:57.581Z"
      },
      {
        "duration": 620,
        "start_time": "2022-11-08T08:39:10.454Z"
      },
      {
        "duration": 8,
        "start_time": "2022-11-08T08:39:15.150Z"
      },
      {
        "duration": 3,
        "start_time": "2022-11-08T08:47:20.685Z"
      },
      {
        "duration": 4,
        "start_time": "2022-11-08T08:47:28.406Z"
      },
      {
        "duration": 2,
        "start_time": "2022-11-08T08:47:45.421Z"
      },
      {
        "duration": 4,
        "start_time": "2022-11-08T08:47:49.972Z"
      },
      {
        "duration": 2,
        "start_time": "2022-11-08T08:48:17.837Z"
      },
      {
        "duration": 57,
        "start_time": "2022-11-10T10:45:38.762Z"
      },
      {
        "duration": 1113,
        "start_time": "2022-11-10T10:45:43.467Z"
      },
      {
        "duration": 115,
        "start_time": "2022-11-10T10:45:44.582Z"
      },
      {
        "duration": 20,
        "start_time": "2022-11-10T10:45:44.699Z"
      },
      {
        "duration": 13,
        "start_time": "2022-11-10T10:45:45.603Z"
      },
      {
        "duration": 62,
        "start_time": "2022-11-10T10:45:53.460Z"
      },
      {
        "duration": 5,
        "start_time": "2022-11-10T10:46:00.165Z"
      },
      {
        "duration": 56,
        "start_time": "2022-11-11T08:33:34.644Z"
      },
      {
        "duration": 998,
        "start_time": "2022-11-11T08:33:39.328Z"
      },
      {
        "duration": 82,
        "start_time": "2022-11-11T08:33:40.327Z"
      },
      {
        "duration": 20,
        "start_time": "2022-11-11T08:33:41.011Z"
      },
      {
        "duration": 13,
        "start_time": "2022-11-11T08:33:43.394Z"
      },
      {
        "duration": 24,
        "start_time": "2022-11-11T08:33:43.793Z"
      },
      {
        "duration": 4,
        "start_time": "2022-11-11T08:33:56.814Z"
      },
      {
        "duration": 7,
        "start_time": "2022-11-11T08:34:38.355Z"
      },
      {
        "duration": 61,
        "start_time": "2022-11-11T08:34:38.962Z"
      },
      {
        "duration": 26,
        "start_time": "2022-11-11T08:35:42.741Z"
      },
      {
        "duration": 10,
        "start_time": "2022-11-11T08:35:48.493Z"
      },
      {
        "duration": 8,
        "start_time": "2022-11-11T08:36:51.556Z"
      },
      {
        "duration": 4,
        "start_time": "2022-11-11T08:43:41.570Z"
      },
      {
        "duration": 11,
        "start_time": "2022-11-11T08:45:32.247Z"
      },
      {
        "duration": 8,
        "start_time": "2022-11-11T08:45:45.432Z"
      },
      {
        "duration": 8,
        "start_time": "2022-11-11T08:45:50.269Z"
      },
      {
        "duration": 5,
        "start_time": "2022-11-11T08:46:19.114Z"
      },
      {
        "duration": 3,
        "start_time": "2022-11-11T08:46:33.830Z"
      },
      {
        "duration": 3,
        "start_time": "2022-11-11T08:46:40.446Z"
      },
      {
        "duration": 81,
        "start_time": "2022-11-11T08:48:36.629Z"
      },
      {
        "duration": 4,
        "start_time": "2022-11-11T09:00:55.592Z"
      },
      {
        "duration": 9,
        "start_time": "2022-11-11T09:01:01.229Z"
      },
      {
        "duration": 5,
        "start_time": "2022-11-11T09:01:01.752Z"
      },
      {
        "duration": 5,
        "start_time": "2022-11-11T09:01:16.667Z"
      },
      {
        "duration": 8,
        "start_time": "2022-11-11T09:01:46.213Z"
      },
      {
        "duration": 3,
        "start_time": "2022-11-11T09:01:57.049Z"
      },
      {
        "duration": 3,
        "start_time": "2022-11-11T09:01:57.534Z"
      },
      {
        "duration": 5,
        "start_time": "2022-11-11T09:01:59.310Z"
      },
      {
        "duration": 5,
        "start_time": "2022-11-11T09:02:02.524Z"
      },
      {
        "duration": 9,
        "start_time": "2022-11-11T09:02:13.633Z"
      },
      {
        "duration": 3,
        "start_time": "2022-11-11T09:02:24.458Z"
      },
      {
        "duration": 9,
        "start_time": "2022-11-11T09:02:24.708Z"
      },
      {
        "duration": 4,
        "start_time": "2022-11-11T09:02:25.717Z"
      },
      {
        "duration": 2,
        "start_time": "2022-11-11T09:06:45.764Z"
      },
      {
        "duration": 4,
        "start_time": "2022-11-11T09:06:55.378Z"
      },
      {
        "duration": 4,
        "start_time": "2022-11-11T09:09:05.371Z"
      },
      {
        "duration": 7,
        "start_time": "2022-11-11T09:09:26.129Z"
      },
      {
        "duration": 3,
        "start_time": "2022-11-11T09:11:26.185Z"
      },
      {
        "duration": 10,
        "start_time": "2022-11-11T09:11:27.566Z"
      },
      {
        "duration": 4,
        "start_time": "2022-11-11T09:11:33.803Z"
      },
      {
        "duration": 4,
        "start_time": "2022-11-11T09:12:10.167Z"
      },
      {
        "duration": 9,
        "start_time": "2022-11-11T09:12:11.059Z"
      },
      {
        "duration": 6,
        "start_time": "2022-11-11T09:13:21.220Z"
      },
      {
        "duration": 10,
        "start_time": "2022-11-11T09:13:25.490Z"
      },
      {
        "duration": 7,
        "start_time": "2022-11-11T09:14:37.771Z"
      },
      {
        "duration": 4,
        "start_time": "2022-11-11T09:14:38.848Z"
      },
      {
        "duration": 58,
        "start_time": "2022-11-11T09:14:39.018Z"
      },
      {
        "duration": 3,
        "start_time": "2022-11-11T09:14:39.232Z"
      },
      {
        "duration": 4,
        "start_time": "2022-11-11T09:15:56.273Z"
      },
      {
        "duration": 8,
        "start_time": "2022-11-11T09:15:58.529Z"
      },
      {
        "duration": 4,
        "start_time": "2022-11-11T09:16:11.450Z"
      },
      {
        "duration": 9,
        "start_time": "2022-11-11T09:16:13.310Z"
      },
      {
        "duration": 3,
        "start_time": "2022-11-11T09:16:26.864Z"
      },
      {
        "duration": 10,
        "start_time": "2022-11-11T09:16:30.715Z"
      },
      {
        "duration": 3,
        "start_time": "2022-11-11T09:16:39.961Z"
      },
      {
        "duration": 48,
        "start_time": "2022-11-11T09:16:40.521Z"
      },
      {
        "duration": 4,
        "start_time": "2022-11-11T09:16:42.627Z"
      },
      {
        "duration": 53,
        "start_time": "2022-11-11T09:16:53.292Z"
      },
      {
        "duration": 3,
        "start_time": "2022-11-11T09:21:35.212Z"
      },
      {
        "duration": 5,
        "start_time": "2022-11-11T09:21:37.495Z"
      },
      {
        "duration": 5,
        "start_time": "2022-11-11T09:21:38.156Z"
      },
      {
        "duration": 11,
        "start_time": "2022-11-11T09:21:59.575Z"
      },
      {
        "duration": 3,
        "start_time": "2022-11-11T09:22:05.940Z"
      },
      {
        "duration": 3,
        "start_time": "2022-11-11T09:22:18.257Z"
      },
      {
        "duration": 7,
        "start_time": "2022-11-11T09:22:18.681Z"
      },
      {
        "duration": 4,
        "start_time": "2022-11-11T09:22:19.111Z"
      },
      {
        "duration": 3,
        "start_time": "2022-11-11T09:23:27.115Z"
      },
      {
        "duration": 8,
        "start_time": "2022-11-11T09:23:27.851Z"
      },
      {
        "duration": 3,
        "start_time": "2022-11-11T09:23:28.456Z"
      },
      {
        "duration": 4,
        "start_time": "2022-11-11T09:24:04.746Z"
      },
      {
        "duration": 6,
        "start_time": "2022-11-11T09:24:17.278Z"
      },
      {
        "duration": 10,
        "start_time": "2022-11-11T09:24:33.020Z"
      },
      {
        "duration": 4,
        "start_time": "2022-11-11T09:24:34.904Z"
      },
      {
        "duration": 4,
        "start_time": "2022-11-11T09:24:55.414Z"
      },
      {
        "duration": 5,
        "start_time": "2022-11-11T09:24:56.032Z"
      },
      {
        "duration": 3,
        "start_time": "2022-11-11T09:24:58.991Z"
      },
      {
        "duration": 4,
        "start_time": "2022-11-11T09:24:59.433Z"
      },
      {
        "duration": 3,
        "start_time": "2022-11-11T09:25:07.763Z"
      },
      {
        "duration": 59,
        "start_time": "2022-11-11T09:25:10.750Z"
      },
      {
        "duration": 55,
        "start_time": "2022-11-11T09:25:20.807Z"
      },
      {
        "duration": 4,
        "start_time": "2022-11-11T09:25:37.568Z"
      },
      {
        "duration": 4,
        "start_time": "2022-11-11T09:26:28.957Z"
      },
      {
        "duration": 4,
        "start_time": "2022-11-11T09:26:29.377Z"
      },
      {
        "duration": 3,
        "start_time": "2022-11-11T09:26:30.863Z"
      },
      {
        "duration": 4,
        "start_time": "2022-11-11T09:26:31.466Z"
      },
      {
        "duration": 5,
        "start_time": "2022-11-11T09:26:32.217Z"
      },
      {
        "duration": 58,
        "start_time": "2022-11-11T09:26:33.366Z"
      },
      {
        "duration": 79,
        "start_time": "2022-11-11T10:07:12.681Z"
      },
      {
        "duration": 8,
        "start_time": "2022-11-11T10:09:52.916Z"
      },
      {
        "duration": 3,
        "start_time": "2022-11-11T10:17:16.447Z"
      },
      {
        "duration": 6,
        "start_time": "2022-11-11T10:17:21.550Z"
      },
      {
        "duration": 11,
        "start_time": "2022-11-11T10:17:22.273Z"
      },
      {
        "duration": 3,
        "start_time": "2022-11-11T10:17:50.142Z"
      },
      {
        "duration": 57,
        "start_time": "2022-11-11T10:54:55.501Z"
      },
      {
        "duration": 57,
        "start_time": "2022-11-11T10:55:01.436Z"
      },
      {
        "duration": 10,
        "start_time": "2022-11-11T10:56:25.814Z"
      },
      {
        "duration": 14,
        "start_time": "2022-11-11T10:56:36.367Z"
      },
      {
        "duration": 11,
        "start_time": "2022-11-11T10:56:45.179Z"
      },
      {
        "duration": 12,
        "start_time": "2022-11-11T10:59:43.201Z"
      },
      {
        "duration": 9,
        "start_time": "2022-11-11T11:02:46.501Z"
      },
      {
        "duration": 11,
        "start_time": "2022-11-11T11:02:50.709Z"
      },
      {
        "duration": 4,
        "start_time": "2022-11-11T11:12:42.910Z"
      },
      {
        "duration": 8,
        "start_time": "2022-11-11T11:14:20.845Z"
      },
      {
        "duration": 4,
        "start_time": "2022-11-11T11:15:15.211Z"
      },
      {
        "duration": 12,
        "start_time": "2022-11-11T11:15:22.213Z"
      },
      {
        "duration": 4,
        "start_time": "2022-11-11T11:16:22.477Z"
      },
      {
        "duration": 12,
        "start_time": "2022-11-11T11:16:23.026Z"
      },
      {
        "duration": 4,
        "start_time": "2022-11-11T11:16:51.634Z"
      },
      {
        "duration": 13,
        "start_time": "2022-11-11T11:16:56.733Z"
      },
      {
        "duration": 17,
        "start_time": "2022-11-11T11:17:42.052Z"
      },
      {
        "duration": 3,
        "start_time": "2022-11-11T11:19:01.556Z"
      },
      {
        "duration": 17,
        "start_time": "2022-11-11T11:19:02.177Z"
      },
      {
        "duration": 19,
        "start_time": "2022-11-11T11:19:55.479Z"
      },
      {
        "duration": 21,
        "start_time": "2022-11-11T11:20:01.533Z"
      },
      {
        "duration": 5,
        "start_time": "2022-11-11T11:21:17.259Z"
      },
      {
        "duration": 8,
        "start_time": "2022-11-11T11:21:17.540Z"
      },
      {
        "duration": 12,
        "start_time": "2022-11-11T11:21:17.864Z"
      },
      {
        "duration": 20,
        "start_time": "2022-11-11T11:27:18.556Z"
      },
      {
        "duration": 3,
        "start_time": "2022-11-11T11:27:36.902Z"
      },
      {
        "duration": 32,
        "start_time": "2022-11-11T11:27:36.908Z"
      },
      {
        "duration": 13,
        "start_time": "2022-11-11T11:27:36.941Z"
      },
      {
        "duration": 11,
        "start_time": "2022-11-11T11:27:36.956Z"
      },
      {
        "duration": 22,
        "start_time": "2022-11-11T11:27:36.968Z"
      },
      {
        "duration": 3,
        "start_time": "2022-11-11T11:27:36.992Z"
      },
      {
        "duration": 7,
        "start_time": "2022-11-11T11:27:36.998Z"
      },
      {
        "duration": 10,
        "start_time": "2022-11-11T11:27:37.067Z"
      },
      {
        "duration": 91,
        "start_time": "2022-11-11T11:27:37.079Z"
      },
      {
        "duration": 12,
        "start_time": "2022-11-11T11:27:37.172Z"
      },
      {
        "duration": 12,
        "start_time": "2022-11-11T11:27:37.186Z"
      },
      {
        "duration": 6,
        "start_time": "2022-11-11T11:27:37.200Z"
      },
      {
        "duration": 22,
        "start_time": "2022-11-11T11:27:37.208Z"
      },
      {
        "duration": 5,
        "start_time": "2022-11-11T11:27:37.232Z"
      },
      {
        "duration": 15,
        "start_time": "2022-11-11T11:27:37.267Z"
      },
      {
        "duration": 0,
        "start_time": "2022-11-11T11:27:37.284Z"
      },
      {
        "duration": 11,
        "start_time": "2022-11-11T11:27:55.974Z"
      },
      {
        "duration": 19,
        "start_time": "2022-11-11T11:27:57.000Z"
      },
      {
        "duration": 13,
        "start_time": "2022-11-11T11:28:10.393Z"
      },
      {
        "duration": 5,
        "start_time": "2022-11-11T11:30:06.012Z"
      },
      {
        "duration": 17,
        "start_time": "2022-11-11T11:30:39.124Z"
      },
      {
        "duration": 8,
        "start_time": "2022-11-11T15:01:00.383Z"
      },
      {
        "duration": 4,
        "start_time": "2022-11-11T15:01:19.336Z"
      },
      {
        "duration": 15,
        "start_time": "2022-11-11T15:01:26.158Z"
      },
      {
        "duration": 11,
        "start_time": "2022-11-11T15:02:09.637Z"
      },
      {
        "duration": 13,
        "start_time": "2022-11-11T15:03:06.164Z"
      }
    ],
    "kernelspec": {
      "display_name": "Python 3 (ipykernel)",
      "language": "python",
      "name": "python3"
    },
    "language_info": {
      "codemirror_mode": {
        "name": "ipython",
        "version": 3
      },
      "file_extension": ".py",
      "mimetype": "text/x-python",
      "name": "python",
      "nbconvert_exporter": "python",
      "pygments_lexer": "ipython3",
      "version": "3.9.5"
    },
    "toc": {
      "base_numbering": 1,
      "nav_menu": {},
      "number_sections": true,
      "sideBar": true,
      "skip_h1_title": true,
      "title_cell": "Содержание",
      "title_sidebar": "Contents",
      "toc_cell": true,
      "toc_position": {},
      "toc_section_display": true,
      "toc_window_display": true
    },
    "colab": {
      "provenance": []
    }
  },
  "nbformat": 4,
  "nbformat_minor": 0
}