{
 "cells": [
  {
   "cell_type": "markdown",
   "metadata": {
    "id": "n4eUROpBBYkh",
    "toc": true
   },
   "source": [
    "<h1>Содержание<span class=\"tocSkip\"></span></h1>\n",
    "<div class=\"toc\"><ul class=\"toc-item\"><li><span><a href=\"#Подготовка-данных\" data-toc-modified-id=\"Подготовка-данных-1\"><span class=\"toc-item-num\">1&nbsp;&nbsp;</span>Подготовка данных</a></span><ul class=\"toc-item\"><li><span><a href=\"#Проверьте,-что-эффективность-обогащения-рассчитана-правильно.\" data-toc-modified-id=\"Проверьте,-что-эффективность-обогащения-рассчитана-правильно.-1.1\"><span class=\"toc-item-num\">1.1&nbsp;&nbsp;</span>Проверьте, что эффективность обогащения рассчитана правильно.</a></span></li><li><span><a href=\"#Проанализируйте-признаки,-недоступные-в-тестовой-выборке.-Что-это-за-параметры?-К-какому-типу-относятся?\" data-toc-modified-id=\"Проанализируйте-признаки,-недоступные-в-тестовой-выборке.-Что-это-за-параметры?-К-какому-типу-относятся?-1.2\"><span class=\"toc-item-num\">1.2&nbsp;&nbsp;</span>Проанализируйте признаки, недоступные в тестовой выборке. Что это за параметры? К какому типу относятся?</a></span></li><li><span><a href=\"#Проведите-предобработку-данных\" data-toc-modified-id=\"Проведите-предобработку-данных-1.3\"><span class=\"toc-item-num\">1.3&nbsp;&nbsp;</span>Проведите предобработку данных</a></span></li><li><span><a href=\"#Посмотрите,-как-меняется-концентрация-металлов-(Au,-Ag,-Pb)-на-различных-этапах-очистки.-Опишите-выводы.\" data-toc-modified-id=\"Посмотрите,-как-меняется-концентрация-металлов-(Au,-Ag,-Pb)-на-различных-этапах-очистки.-Опишите-выводы.-1.4\"><span class=\"toc-item-num\">1.4&nbsp;&nbsp;</span>Посмотрите, как меняется концентрация металлов (Au, Ag, Pb) на различных этапах очистки. Опишите выводы.</a></span></li><li><span><a href=\"#Сравните-распределения-размеров-гранул-сырья-на-обучающей-и-тестовой-выборках.-Если-распределения-сильно-отличаются-друг-от-друга,-оценка-модели-будет-неправильной.\" data-toc-modified-id=\"Сравните-распределения-размеров-гранул-сырья-на-обучающей-и-тестовой-выборках.-Если-распределения-сильно-отличаются-друг-от-друга,-оценка-модели-будет-неправильной.-1.5\"><span class=\"toc-item-num\">1.5&nbsp;&nbsp;</span>Сравните распределения размеров гранул сырья на обучающей и тестовой выборках. Если распределения сильно отличаются друг от друга, оценка модели будет неправильной.</a></span></li><li><span><a href=\"#Исследуйте-суммарную-концентрацию-всех-веществ-на-разных-стадиях:-в-сырье,-в-черновом-и-финальном-концентратах.\" data-toc-modified-id=\"Исследуйте-суммарную-концентрацию-всех-веществ-на-разных-стадиях:-в-сырье,-в-черновом-и-финальном-концентратах.-1.6\"><span class=\"toc-item-num\">1.6&nbsp;&nbsp;</span>Исследуйте суммарную концентрацию всех веществ на разных стадиях: в сырье, в черновом и финальном концентратах.</a></span></li></ul></li><li><span><a href=\"#Модель\" data-toc-modified-id=\"Модель-2\"><span class=\"toc-item-num\">2&nbsp;&nbsp;</span>Модель</a></span><ul class=\"toc-item\"><li><span><a href=\"#Напишите-функцию-для-вычисления-итоговой-sMAPE.\" data-toc-modified-id=\"Напишите-функцию-для-вычисления-итоговой-sMAPE.-2.1\"><span class=\"toc-item-num\">2.1&nbsp;&nbsp;</span>Напишите функцию для вычисления итоговой sMAPE.</a></span></li><li><span><a href=\"#Обучите-разные-модели-и-оцените-их-качество-кросс-валидацией.-Выберите-лучшую-модель-и-проверьте-её-на-тестовой-выборке.-Опишите-выводы.\" data-toc-modified-id=\"Обучите-разные-модели-и-оцените-их-качество-кросс-валидацией.-Выберите-лучшую-модель-и-проверьте-её-на-тестовой-выборке.-Опишите-выводы.-2.2\"><span class=\"toc-item-num\">2.2&nbsp;&nbsp;</span>Обучите разные модели и оцените их качество кросс-валидацией. Выберите лучшую модель и проверьте её на тестовой выборке. Опишите выводы.</a></span></li></ul></li><li><span><a href=\"#Общий-вывод\" data-toc-modified-id=\"Общий-вывод-3\"><span class=\"toc-item-num\">3&nbsp;&nbsp;</span>Общий вывод</a></span></li><li><span><a href=\"#Чек-лист-готовности-проекта\" data-toc-modified-id=\"Чек-лист-готовности-проекта-4\"><span class=\"toc-item-num\">4&nbsp;&nbsp;</span>Чек-лист готовности проекта</a></span></li></ul></div>"
   ]
  },
  {
   "cell_type": "markdown",
   "metadata": {
    "id": "O5mG-B_uBYkl"
   },
   "source": [
    "# Восстановление золота из руды"
   ]
  },
  {
   "cell_type": "markdown",
   "metadata": {
    "id": "kgOZU2brBYkm"
   },
   "source": [
    "Задание.\n",
    "\n",
    "Подготовьте прототип модели машинного обучения для «Цифры». Компания разрабатывает решения для эффективной работы промышленных предприятий.\n",
    "\n",
    "Модель должна предсказать коэффициент восстановления золота из золотосодержащей руды. Используйте данные с параметрами добычи и очистки. \n",
    "\n",
    "Модель поможет оптимизировать производство, чтобы не запускать предприятие с убыточными характеристиками.\n",
    "\n",
    "Вам нужно:\n",
    "\n",
    "1. Подготовить данные;\n",
    "2. Провести исследовательский анализ данных;\n",
    "3. Построить и обучить модель.\n",
    "\n",
    "Чтобы выполнить проект, обращайтесь к библиотекам *pandas*, *matplotlib* и *sklearn.* Вам поможет их документация."
   ]
  },
  {
   "cell_type": "markdown",
   "metadata": {
    "id": "fIMPKsnRBYkn"
   },
   "source": [
    "Данные находятся в трёх файлах:\n",
    "* gold_recovery_train_new.csv — обучающая выборка;\n",
    "* gold_recovery_test_new.csv — тестовая выборка;\n",
    "* gold_recovery_full_new.csv — исходные данные."
   ]
  },
  {
   "cell_type": "markdown",
   "metadata": {
    "id": "3Gf9YTd7BYko"
   },
   "source": [
    "**Описание данных**\n",
    "\n",
    "Технологический процесс:\n",
    "* Rougher feed — исходное сырье\n",
    "* Rougher additions (или reagent additions) — флотационные реагенты: Xanthate, Sulphate, Depressant\n",
    "* Xanthate — ксантогенат (промотер, или активатор флотации);\n",
    "* Sulphate — сульфат (на данном производстве сульфид натрия);\n",
    "* Depressant — депрессант (силикат натрия).\n",
    "* Rougher process (англ. «грубый процесс») — флотация\n",
    "* Rougher tails — отвальные хвосты\n",
    "* Float banks — флотационная установка\n",
    "* Cleaner process — очистка\n",
    "* Rougher Au — черновой концентрат золота\n",
    "* Final Au — финальный концентрат золота\n",
    "\n",
    "Параметры этапов\n",
    "* air amount — объём воздуха\n",
    "* fluid levels — уровень жидкости\n",
    "* feed size — размер гранул сырья\n",
    "* feed rate — скорость подачи\n",
    "\n",
    "Наименование признаков\n",
    "Наименование признаков должно быть такое: [этап].[тип_параметра].[название_параметра]\n",
    "\n",
    "Пример: rougher.input.feed_ag\n",
    "\n",
    "Возможные значения для блока [этап]:\n",
    "\n",
    "* rougher — флотация\n",
    "* primary_cleaner — первичная очистка\n",
    "* secondary_cleaner — вторичная очистка\n",
    "* final — финальные характеристики Возможные значения для блока [тип_параметра]:\n",
    "* input — параметры сырья\n",
    "* output — параметры продукта\n",
    "* state — параметры, характеризующие текущее состояние этапа\n",
    "* calculation — расчётные характеристики"
   ]
  },
  {
   "cell_type": "markdown",
   "metadata": {
    "id": "CQa7jPj3BYkp"
   },
   "source": [
    "## Подготовка данных"
   ]
  },
  {
   "cell_type": "code",
   "execution_count": 53,
   "metadata": {
    "executionInfo": {
     "elapsed": 1571,
     "status": "ok",
     "timestamp": 1666854200776,
     "user": {
      "displayName": "Роман Иванов",
      "userId": "11781047996542916843"
     },
     "user_tz": -180
    },
    "id": "u6anp-7UBYkq"
   },
   "outputs": [],
   "source": [
    "#Загрузка библиотек\n",
    "\n",
    "import pandas as pd\n",
    "import numpy as np\n",
    "\n",
    "import matplotlib.pyplot as plt\n",
    "import seaborn as sns\n",
    "\n",
    "from sklearn.model_selection import train_test_split\n",
    "from sklearn.model_selection import cross_val_score\n",
    "\n",
    "from sklearn.tree import DecisionTreeRegressor\n",
    "from sklearn.ensemble import RandomForestRegressor\n",
    "from sklearn.linear_model import LinearRegression\n",
    "from numpy.random import RandomState\n",
    "\n",
    "from sklearn.metrics import mean_absolute_error\n",
    "from sklearn.metrics import make_scorer\n",
    "\n",
    "from sklearn.dummy import DummyRegressor"
   ]
  },
  {
   "cell_type": "code",
   "execution_count": 54,
   "metadata": {
    "executionInfo": {
     "elapsed": 664,
     "status": "ok",
     "timestamp": 1666854201425,
     "user": {
      "displayName": "Роман Иванов",
      "userId": "11781047996542916843"
     },
     "user_tz": -180
    },
    "id": "sIcWZYQuBYkt"
   },
   "outputs": [],
   "source": [
    "#Загрузка данных\n",
    "\n",
    "try:\n",
    "    df_train = pd.read_csv('gold_recovery_train_new.csv')\n",
    "    df_test = pd.read_csv('gold_recovery_test_new.csv')\n",
    "    df_full = pd.read_csv('gold_recovery_full_new.csv')\n",
    "except:\n",
    "    try:\n",
    "        df_train = pd.read_csv('/datasets/gold_recovery_train_new.csv')\n",
    "        df_test = pd.read_csv('/datasets/gold_recovery_test_new.csv')\n",
    "        df_full = pd.read_csv('/datasets/gold_recovery_full_new.csv')\n",
    "    except:\n",
    "        print('Ошибка. Проверьте путь к файлу')\n"
   ]
  },
  {
   "cell_type": "code",
   "execution_count": 55,
   "metadata": {
    "colab": {
     "base_uri": "https://localhost:8080/"
    },
    "collapsed": true,
    "executionInfo": {
     "elapsed": 392,
     "status": "ok",
     "timestamp": 1666854201810,
     "user": {
      "displayName": "Роман Иванов",
      "userId": "11781047996542916843"
     },
     "user_tz": -180
    },
    "id": "tGnC2pgFBYku",
    "outputId": "ea9e0490-c492-462a-88c6-c8f64f50ad13"
   },
   "outputs": [
    {
     "name": "stdout",
     "output_type": "stream",
     "text": [
      "<class 'pandas.core.frame.DataFrame'>\n",
      "RangeIndex: 14149 entries, 0 to 14148\n",
      "Data columns (total 87 columns):\n",
      " #   Column                                              Non-Null Count  Dtype  \n",
      "---  ------                                              --------------  -----  \n",
      " 0   date                                                14149 non-null  object \n",
      " 1   final.output.concentrate_ag                         14148 non-null  float64\n",
      " 2   final.output.concentrate_pb                         14148 non-null  float64\n",
      " 3   final.output.concentrate_sol                        13938 non-null  float64\n",
      " 4   final.output.concentrate_au                         14149 non-null  float64\n",
      " 5   final.output.recovery                               14149 non-null  float64\n",
      " 6   final.output.tail_ag                                14149 non-null  float64\n",
      " 7   final.output.tail_pb                                14049 non-null  float64\n",
      " 8   final.output.tail_sol                               14144 non-null  float64\n",
      " 9   final.output.tail_au                                14149 non-null  float64\n",
      " 10  primary_cleaner.input.sulfate                       14129 non-null  float64\n",
      " 11  primary_cleaner.input.depressant                    14117 non-null  float64\n",
      " 12  primary_cleaner.input.feed_size                     14149 non-null  float64\n",
      " 13  primary_cleaner.input.xanthate                      14049 non-null  float64\n",
      " 14  primary_cleaner.output.concentrate_ag               14149 non-null  float64\n",
      " 15  primary_cleaner.output.concentrate_pb               14063 non-null  float64\n",
      " 16  primary_cleaner.output.concentrate_sol              13863 non-null  float64\n",
      " 17  primary_cleaner.output.concentrate_au               14149 non-null  float64\n",
      " 18  primary_cleaner.output.tail_ag                      14148 non-null  float64\n",
      " 19  primary_cleaner.output.tail_pb                      14134 non-null  float64\n",
      " 20  primary_cleaner.output.tail_sol                     14103 non-null  float64\n",
      " 21  primary_cleaner.output.tail_au                      14149 non-null  float64\n",
      " 22  primary_cleaner.state.floatbank8_a_air              14145 non-null  float64\n",
      " 23  primary_cleaner.state.floatbank8_a_level            14148 non-null  float64\n",
      " 24  primary_cleaner.state.floatbank8_b_air              14145 non-null  float64\n",
      " 25  primary_cleaner.state.floatbank8_b_level            14148 non-null  float64\n",
      " 26  primary_cleaner.state.floatbank8_c_air              14147 non-null  float64\n",
      " 27  primary_cleaner.state.floatbank8_c_level            14148 non-null  float64\n",
      " 28  primary_cleaner.state.floatbank8_d_air              14146 non-null  float64\n",
      " 29  primary_cleaner.state.floatbank8_d_level            14148 non-null  float64\n",
      " 30  rougher.calculation.sulfate_to_au_concentrate       14148 non-null  float64\n",
      " 31  rougher.calculation.floatbank10_sulfate_to_au_feed  14148 non-null  float64\n",
      " 32  rougher.calculation.floatbank11_sulfate_to_au_feed  14148 non-null  float64\n",
      " 33  rougher.calculation.au_pb_ratio                     14149 non-null  float64\n",
      " 34  rougher.input.feed_ag                               14149 non-null  float64\n",
      " 35  rougher.input.feed_pb                               14049 non-null  float64\n",
      " 36  rougher.input.feed_rate                             14141 non-null  float64\n",
      " 37  rougher.input.feed_size                             14005 non-null  float64\n",
      " 38  rougher.input.feed_sol                              14071 non-null  float64\n",
      " 39  rougher.input.feed_au                               14149 non-null  float64\n",
      " 40  rougher.input.floatbank10_sulfate                   14120 non-null  float64\n",
      " 41  rougher.input.floatbank10_xanthate                  14141 non-null  float64\n",
      " 42  rougher.input.floatbank11_sulfate                   14113 non-null  float64\n",
      " 43  rougher.input.floatbank11_xanthate                  13721 non-null  float64\n",
      " 44  rougher.output.concentrate_ag                       14149 non-null  float64\n",
      " 45  rougher.output.concentrate_pb                       14149 non-null  float64\n",
      " 46  rougher.output.concentrate_sol                      14127 non-null  float64\n",
      " 47  rougher.output.concentrate_au                       14149 non-null  float64\n",
      " 48  rougher.output.recovery                             14149 non-null  float64\n",
      " 49  rougher.output.tail_ag                              14148 non-null  float64\n",
      " 50  rougher.output.tail_pb                              14149 non-null  float64\n",
      " 51  rougher.output.tail_sol                             14149 non-null  float64\n",
      " 52  rougher.output.tail_au                              14149 non-null  float64\n",
      " 53  rougher.state.floatbank10_a_air                     14148 non-null  float64\n",
      " 54  rougher.state.floatbank10_a_level                   14148 non-null  float64\n",
      " 55  rougher.state.floatbank10_b_air                     14148 non-null  float64\n",
      " 56  rougher.state.floatbank10_b_level                   14148 non-null  float64\n",
      " 57  rougher.state.floatbank10_c_air                     14148 non-null  float64\n",
      " 58  rougher.state.floatbank10_c_level                   14148 non-null  float64\n",
      " 59  rougher.state.floatbank10_d_air                     14149 non-null  float64\n",
      " 60  rougher.state.floatbank10_d_level                   14149 non-null  float64\n",
      " 61  rougher.state.floatbank10_e_air                     13713 non-null  float64\n",
      " 62  rougher.state.floatbank10_e_level                   14149 non-null  float64\n",
      " 63  rougher.state.floatbank10_f_air                     14149 non-null  float64\n",
      " 64  rougher.state.floatbank10_f_level                   14149 non-null  float64\n",
      " 65  secondary_cleaner.output.tail_ag                    14147 non-null  float64\n",
      " 66  secondary_cleaner.output.tail_pb                    14139 non-null  float64\n",
      " 67  secondary_cleaner.output.tail_sol                   12544 non-null  float64\n",
      " 68  secondary_cleaner.output.tail_au                    14149 non-null  float64\n",
      " 69  secondary_cleaner.state.floatbank2_a_air            13932 non-null  float64\n",
      " 70  secondary_cleaner.state.floatbank2_a_level          14148 non-null  float64\n",
      " 71  secondary_cleaner.state.floatbank2_b_air            14128 non-null  float64\n",
      " 72  secondary_cleaner.state.floatbank2_b_level          14148 non-null  float64\n",
      " 73  secondary_cleaner.state.floatbank3_a_air            14145 non-null  float64\n",
      " 74  secondary_cleaner.state.floatbank3_a_level          14148 non-null  float64\n",
      " 75  secondary_cleaner.state.floatbank3_b_air            14148 non-null  float64\n",
      " 76  secondary_cleaner.state.floatbank3_b_level          14148 non-null  float64\n",
      " 77  secondary_cleaner.state.floatbank4_a_air            14143 non-null  float64\n",
      " 78  secondary_cleaner.state.floatbank4_a_level          14148 non-null  float64\n",
      " 79  secondary_cleaner.state.floatbank4_b_air            14148 non-null  float64\n",
      " 80  secondary_cleaner.state.floatbank4_b_level          14148 non-null  float64\n",
      " 81  secondary_cleaner.state.floatbank5_a_air            14148 non-null  float64\n",
      " 82  secondary_cleaner.state.floatbank5_a_level          14148 non-null  float64\n",
      " 83  secondary_cleaner.state.floatbank5_b_air            14148 non-null  float64\n",
      " 84  secondary_cleaner.state.floatbank5_b_level          14148 non-null  float64\n",
      " 85  secondary_cleaner.state.floatbank6_a_air            14147 non-null  float64\n",
      " 86  secondary_cleaner.state.floatbank6_a_level          14148 non-null  float64\n",
      "dtypes: float64(86), object(1)\n",
      "memory usage: 9.4+ MB\n"
     ]
    }
   ],
   "source": [
    "df_train.info()"
   ]
  },
  {
   "cell_type": "markdown",
   "metadata": {
    "id": "U-zpwHS2BYkw"
   },
   "source": [
    "Данные в столбце date изменим с типа object на datetime."
   ]
  },
  {
   "cell_type": "code",
   "execution_count": 56,
   "metadata": {
    "executionInfo": {
     "elapsed": 38,
     "status": "ok",
     "timestamp": 1666854201810,
     "user": {
      "displayName": "Роман Иванов",
      "userId": "11781047996542916843"
     },
     "user_tz": -180
    },
    "id": "nRJ9AolOBYkx"
   },
   "outputs": [],
   "source": [
    "#Преобразование столбца date в формат datetime\n",
    "df_train['date'] = pd.to_datetime(\n",
    "    df_train['date'])"
   ]
  },
  {
   "cell_type": "code",
   "execution_count": 57,
   "metadata": {
    "colab": {
     "base_uri": "https://localhost:8080/"
    },
    "executionInfo": {
     "elapsed": 32,
     "status": "ok",
     "timestamp": 1666854201811,
     "user": {
      "displayName": "Роман Иванов",
      "userId": "11781047996542916843"
     },
     "user_tz": -180
    },
    "id": "zzzW05V1BYkx",
    "outputId": "931ecdef-a896-4682-e148-a6a1716c81c9"
   },
   "outputs": [
    {
     "data": {
      "text/plain": [
       "0       2016-01-15 00:00:00\n",
       "1       2016-01-15 01:00:00\n",
       "2       2016-01-15 02:00:00\n",
       "3       2016-01-15 03:00:00\n",
       "4       2016-01-15 04:00:00\n",
       "                ...        \n",
       "14144   2018-08-18 06:59:59\n",
       "14145   2018-08-18 07:59:59\n",
       "14146   2018-08-18 08:59:59\n",
       "14147   2018-08-18 09:59:59\n",
       "14148   2018-08-18 10:59:59\n",
       "Name: date, Length: 14149, dtype: datetime64[ns]"
      ]
     },
     "execution_count": 57,
     "metadata": {},
     "output_type": "execute_result"
    }
   ],
   "source": [
    "df_train['date']"
   ]
  },
  {
   "cell_type": "markdown",
   "metadata": {
    "id": "Tc7OkCfRBYky"
   },
   "source": [
    "### Проверьте, что эффективность обогащения рассчитана правильно. \n",
    "\n",
    "Вычислите её на обучающей выборке для признака rougher.output.recovery. \n",
    "\n",
    "Найдите MAE между вашими расчётами и значением признака. Опишите выводы."
   ]
  },
  {
   "cell_type": "markdown",
   "metadata": {
    "id": "AL-LyiZ2BYkz"
   },
   "source": [
    "Эффективность обогащения рассчитывается по формуле:\n",
    "\n",
    "**Recovery = ((C * (F-T)) / (F * (C-T))) * 100%**,\n",
    "\n",
    "где:\n",
    "* C — доля золота в концентрате после флотации/очистки;\n",
    "* F — доля золота в сырье/концентрате до флотации/очистки;\n",
    "* T — доля золота в отвальных хвостах после флотации/очистки.\n"
   ]
  },
  {
   "cell_type": "code",
   "execution_count": 58,
   "metadata": {
    "colab": {
     "base_uri": "https://localhost:8080/"
    },
    "executionInfo": {
     "elapsed": 30,
     "status": "ok",
     "timestamp": 1666854201812,
     "user": {
      "displayName": "Роман Иванов",
      "userId": "11781047996542916843"
     },
     "user_tz": -180
    },
    "id": "EKDQAmb3BYkz",
    "outputId": "b2a3bfe6-c502-4389-c41a-241bc6aef073"
   },
   "outputs": [
    {
     "name": "stdout",
     "output_type": "stream",
     "text": [
      "0        87.107763\n",
      "1        86.843261\n",
      "2        86.842308\n",
      "3        87.226430\n",
      "4        86.688794\n",
      "           ...    \n",
      "14144    89.574376\n",
      "14145    87.724007\n",
      "14146    88.890579\n",
      "14147    89.858126\n",
      "14148    89.514960\n",
      "Length: 14149, dtype: float64\n"
     ]
    }
   ],
   "source": [
    "C = df_train['rougher.output.concentrate_au']\n",
    "F = df_train['rougher.input.feed_au']\n",
    "T = df_train['rougher.output.tail_au']\n",
    "\n",
    "recovery = ((C * (F-T)) / (F * (C-T))) * 100\n",
    "\n",
    "print(recovery)"
   ]
  },
  {
   "cell_type": "code",
   "execution_count": 59,
   "metadata": {
    "colab": {
     "base_uri": "https://localhost:8080/"
    },
    "executionInfo": {
     "elapsed": 26,
     "status": "ok",
     "timestamp": 1666854201813,
     "user": {
      "displayName": "Роман Иванов",
      "userId": "11781047996542916843"
     },
     "user_tz": -180
    },
    "id": "7pUMC8-DBYk0",
    "outputId": "396a2283-e1d8-44c9-fadc-c767b6b8da42"
   },
   "outputs": [
    {
     "name": "stdout",
     "output_type": "stream",
     "text": [
      "0        87.107763\n",
      "1        86.843261\n",
      "2        86.842308\n",
      "3        87.226430\n",
      "4        86.688794\n",
      "           ...    \n",
      "14144    89.574376\n",
      "14145    87.724007\n",
      "14146    88.890579\n",
      "14147    89.858126\n",
      "14148    89.514960\n",
      "Name: rougher.output.recovery, Length: 14149, dtype: float64\n"
     ]
    }
   ],
   "source": [
    "print(df_train['rougher.output.recovery'])"
   ]
  },
  {
   "cell_type": "code",
   "execution_count": 60,
   "metadata": {
    "colab": {
     "base_uri": "https://localhost:8080/"
    },
    "executionInfo": {
     "elapsed": 24,
     "status": "ok",
     "timestamp": 1666854201814,
     "user": {
      "displayName": "Роман Иванов",
      "userId": "11781047996542916843"
     },
     "user_tz": -180
    },
    "id": "jtq41syjBYk1",
    "outputId": "82b8cc61-cc32-4fbb-8226-f7a0b57a523a"
   },
   "outputs": [
    {
     "name": "stdout",
     "output_type": "stream",
     "text": [
      "9.73512347450521e-15\n"
     ]
    }
   ],
   "source": [
    "print(mean_absolute_error(recovery, df_train['rougher.output.recovery']))"
   ]
  },
  {
   "cell_type": "markdown",
   "metadata": {
    "id": "jBjbd-exBYk1"
   },
   "source": [
    "Метрика показывает как сильно предсказания в среднем отличаются от истинных значений. Полученное значение мало, значит расчеты верны."
   ]
  },
  {
   "cell_type": "markdown",
   "metadata": {
    "id": "oqkOwDAiBYk3"
   },
   "source": [
    "### Проанализируйте признаки, недоступные в тестовой выборке. Что это за параметры? К какому типу относятся?"
   ]
  },
  {
   "cell_type": "code",
   "execution_count": 61,
   "metadata": {
    "colab": {
     "base_uri": "https://localhost:8080/"
    },
    "executionInfo": {
     "elapsed": 21,
     "status": "ok",
     "timestamp": 1666854201814,
     "user": {
      "displayName": "Роман Иванов",
      "userId": "11781047996542916843"
     },
     "user_tz": -180
    },
    "id": "KdoIkgwBBYk3",
    "outputId": "5db54661-0c34-4e59-cf40-6b4ec1c5fb2e"
   },
   "outputs": [
    {
     "name": "stdout",
     "output_type": "stream",
     "text": [
      "(14149, 87)\n",
      "(5290, 53)\n"
     ]
    }
   ],
   "source": [
    "print(df_train.shape)\n",
    "print(df_test.shape)"
   ]
  },
  {
   "cell_type": "markdown",
   "metadata": {
    "id": "9rXXlvp8BYk3"
   },
   "source": [
    "В тестовой выборке на 34 признака меньше, чем в обучающей."
   ]
  },
  {
   "cell_type": "code",
   "execution_count": 62,
   "metadata": {
    "colab": {
     "base_uri": "https://localhost:8080/"
    },
    "executionInfo": {
     "elapsed": 21,
     "status": "ok",
     "timestamp": 1666854201816,
     "user": {
      "displayName": "Роман Иванов",
      "userId": "11781047996542916843"
     },
     "user_tz": -180
    },
    "id": "xJvkFleABYk4",
    "outputId": "531db2b7-af61-4065-b261-025671134e48"
   },
   "outputs": [
    {
     "name": "stdout",
     "output_type": "stream",
     "text": [
      "['final.output.concentrate_ag', 'final.output.concentrate_pb', 'final.output.concentrate_sol', 'final.output.concentrate_au', 'final.output.recovery', 'final.output.tail_ag', 'final.output.tail_pb', 'final.output.tail_sol', 'final.output.tail_au', 'primary_cleaner.output.concentrate_ag', 'primary_cleaner.output.concentrate_pb', 'primary_cleaner.output.concentrate_sol', 'primary_cleaner.output.concentrate_au', 'primary_cleaner.output.tail_ag', 'primary_cleaner.output.tail_pb', 'primary_cleaner.output.tail_sol', 'primary_cleaner.output.tail_au', 'rougher.calculation.sulfate_to_au_concentrate', 'rougher.calculation.floatbank10_sulfate_to_au_feed', 'rougher.calculation.floatbank11_sulfate_to_au_feed', 'rougher.calculation.au_pb_ratio', 'rougher.output.concentrate_ag', 'rougher.output.concentrate_pb', 'rougher.output.concentrate_sol', 'rougher.output.concentrate_au', 'rougher.output.recovery', 'rougher.output.tail_ag', 'rougher.output.tail_pb', 'rougher.output.tail_sol', 'rougher.output.tail_au', 'secondary_cleaner.output.tail_ag', 'secondary_cleaner.output.tail_pb', 'secondary_cleaner.output.tail_sol', 'secondary_cleaner.output.tail_au']\n",
      "\n",
      "Количество отсутствующих признаков: 34\n"
     ]
    }
   ],
   "source": [
    "df_train_attribute = df_train.columns\n",
    "df_test_attribute = df_test.columns\n",
    "\n",
    "missed_attribute = []\n",
    "for i in df_train_attribute:\n",
    "    if i not in df_test_attribute:\n",
    "        missed_attribute.append(i)\n",
    "print(missed_attribute)\n",
    "print()\n",
    "print('Количество отсутствующих признаков:', len(missed_attribute))"
   ]
  },
  {
   "cell_type": "markdown",
   "metadata": {
    "id": "mmob6NXmBYk4"
   },
   "source": [
    "В тестовой выборки недоступны параметры, относящиеся к типу output (параметры продукта) и calculation (расчетные характеристики).\n",
    "\n",
    "Как сказано в пояснениях к заданию, некоторые параметры недоступны, потому что замеряются и/или рассчитываются значительно позже. Из-за этого в тестовой выборке отсутствуют некоторые признаки, которые могут быть в обучающей. Также в тестовом наборе нет целевых признаков.\n",
    "\n",
    "Также в тестовой выборки отсутствуют целевые признаки **rougher.output.recovery** и **final.output.recovery**, которые будут нужны для расчета метрики качества. "
   ]
  },
  {
   "cell_type": "code",
   "execution_count": 63,
   "metadata": {
    "executionInfo": {
     "elapsed": 19,
     "status": "ok",
     "timestamp": 1666854201817,
     "user": {
      "displayName": "Роман Иванов",
      "userId": "11781047996542916843"
     },
     "user_tz": -180
    },
    "id": "DD435-Z3BYk6"
   },
   "outputs": [],
   "source": [
    "# Добавление в тестовую выборку целевых признаков\n",
    "\n",
    "df_test = df_test.merge(df_full.loc[:, ['date','rougher.output.recovery','final.output.recovery']], on='date')"
   ]
  },
  {
   "cell_type": "markdown",
   "metadata": {
    "id": "NoHu5g4JBYk7"
   },
   "source": [
    "### Проведите предобработку данных"
   ]
  },
  {
   "cell_type": "code",
   "execution_count": 64,
   "metadata": {
    "executionInfo": {
     "elapsed": 20,
     "status": "ok",
     "timestamp": 1666854201819,
     "user": {
      "displayName": "Роман Иванов",
      "userId": "11781047996542916843"
     },
     "user_tz": -180
    },
    "id": "lW7UmB4KBYk7"
   },
   "outputs": [],
   "source": [
    "def isna_view (df):\n",
    "    return  (\n",
    "                (df.isna().mean()*100)\n",
    "                .sort_values(ascending=False)\n",
    "                .to_frame()\n",
    "                .rename(columns = {0:'percent_space'})\n",
    "                .style.background_gradient('coolwarm').format(\"{:.1f}\")\n",
    "            )\n",
    "\n"
   ]
  },
  {
   "cell_type": "code",
   "execution_count": 65,
   "metadata": {
    "colab": {
     "base_uri": "https://localhost:8080/",
     "height": 1000
    },
    "executionInfo": {
     "elapsed": 316,
     "status": "ok",
     "timestamp": 1666854202115,
     "user": {
      "displayName": "Роман Иванов",
      "userId": "11781047996542916843"
     },
     "user_tz": -180
    },
    "id": "6BiyHixFBYk7",
    "outputId": "77018dff-b15d-46ab-c42f-4a7aa01a1ea9"
   },
   "outputs": [
    {
     "data": {
      "text/html": [
       "<style  type=\"text/css\" >\n",
       "#T_f655c_row0_col0{\n",
       "            background-color:  #b40426;\n",
       "            color:  #f1f1f1;\n",
       "        }#T_f655c_row1_col0{\n",
       "            background-color:  #90b2fe;\n",
       "            color:  #000000;\n",
       "        }#T_f655c_row2_col0{\n",
       "            background-color:  #8caffe;\n",
       "            color:  #000000;\n",
       "        }#T_f655c_row3_col0{\n",
       "            background-color:  #80a3fa;\n",
       "            color:  #000000;\n",
       "        }#T_f655c_row4_col0{\n",
       "            background-color:  #6282ea;\n",
       "            color:  #000000;\n",
       "        }#T_f655c_row5_col0{\n",
       "            background-color:  #5f7fe8;\n",
       "            color:  #000000;\n",
       "        }#T_f655c_row6_col0{\n",
       "            background-color:  #5470de;\n",
       "            color:  #000000;\n",
       "        }#T_f655c_row7_col0{\n",
       "            background-color:  #4e68d8;\n",
       "            color:  #000000;\n",
       "        }#T_f655c_row8_col0{\n",
       "            background-color:  #4c66d6;\n",
       "            color:  #000000;\n",
       "        }#T_f655c_row9_col0,#T_f655c_row10_col0,#T_f655c_row11_col0{\n",
       "            background-color:  #4b64d5;\n",
       "            color:  #f1f1f1;\n",
       "        }#T_f655c_row12_col0{\n",
       "            background-color:  #455cce;\n",
       "            color:  #f1f1f1;\n",
       "        }#T_f655c_row13_col0{\n",
       "            background-color:  #4257c9;\n",
       "            color:  #f1f1f1;\n",
       "        }#T_f655c_row14_col0{\n",
       "            background-color:  #4055c8;\n",
       "            color:  #f1f1f1;\n",
       "        }#T_f655c_row15_col0{\n",
       "            background-color:  #3f53c6;\n",
       "            color:  #f1f1f1;\n",
       "        }#T_f655c_row16_col0,#T_f655c_row17_col0,#T_f655c_row18_col0,#T_f655c_row19_col0{\n",
       "            background-color:  #3e51c5;\n",
       "            color:  #f1f1f1;\n",
       "        }#T_f655c_row20_col0,#T_f655c_row21_col0,#T_f655c_row22_col0,#T_f655c_row23_col0{\n",
       "            background-color:  #3c4ec2;\n",
       "            color:  #f1f1f1;\n",
       "        }#T_f655c_row24_col0,#T_f655c_row25_col0,#T_f655c_row26_col0,#T_f655c_row27_col0,#T_f655c_row28_col0,#T_f655c_row29_col0,#T_f655c_row30_col0,#T_f655c_row31_col0,#T_f655c_row32_col0,#T_f655c_row33_col0,#T_f655c_row34_col0,#T_f655c_row35_col0,#T_f655c_row36_col0,#T_f655c_row37_col0,#T_f655c_row38_col0,#T_f655c_row39_col0,#T_f655c_row40_col0,#T_f655c_row41_col0,#T_f655c_row42_col0,#T_f655c_row43_col0,#T_f655c_row44_col0,#T_f655c_row45_col0,#T_f655c_row46_col0,#T_f655c_row47_col0,#T_f655c_row48_col0,#T_f655c_row49_col0,#T_f655c_row50_col0,#T_f655c_row51_col0,#T_f655c_row52_col0,#T_f655c_row53_col0,#T_f655c_row54_col0,#T_f655c_row55_col0,#T_f655c_row56_col0,#T_f655c_row57_col0,#T_f655c_row58_col0,#T_f655c_row59_col0,#T_f655c_row60_col0,#T_f655c_row61_col0,#T_f655c_row62_col0,#T_f655c_row63_col0,#T_f655c_row64_col0,#T_f655c_row65_col0,#T_f655c_row66_col0,#T_f655c_row67_col0,#T_f655c_row68_col0,#T_f655c_row69_col0,#T_f655c_row70_col0,#T_f655c_row71_col0,#T_f655c_row72_col0,#T_f655c_row73_col0,#T_f655c_row74_col0,#T_f655c_row75_col0,#T_f655c_row76_col0,#T_f655c_row77_col0,#T_f655c_row78_col0,#T_f655c_row79_col0,#T_f655c_row80_col0,#T_f655c_row81_col0,#T_f655c_row82_col0,#T_f655c_row83_col0,#T_f655c_row84_col0,#T_f655c_row85_col0,#T_f655c_row86_col0{\n",
       "            background-color:  #3b4cc0;\n",
       "            color:  #f1f1f1;\n",
       "        }</style><table id=\"T_f655c_\" ><thead>    <tr>        <th class=\"blank level0\" ></th>        <th class=\"col_heading level0 col0\" >percent_space</th>    </tr></thead><tbody>\n",
       "                <tr>\n",
       "                        <th id=\"T_f655c_level0_row0\" class=\"row_heading level0 row0\" >secondary_cleaner.output.tail_sol</th>\n",
       "                        <td id=\"T_f655c_row0_col0\" class=\"data row0 col0\" >9.0</td>\n",
       "            </tr>\n",
       "            <tr>\n",
       "                        <th id=\"T_f655c_level0_row1\" class=\"row_heading level0 row1\" >rougher.input.floatbank11_xanthate</th>\n",
       "                        <td id=\"T_f655c_row1_col0\" class=\"data row1 col0\" >2.3</td>\n",
       "            </tr>\n",
       "            <tr>\n",
       "                        <th id=\"T_f655c_level0_row2\" class=\"row_heading level0 row2\" >rougher.state.floatbank10_e_air</th>\n",
       "                        <td id=\"T_f655c_row2_col0\" class=\"data row2 col0\" >2.2</td>\n",
       "            </tr>\n",
       "            <tr>\n",
       "                        <th id=\"T_f655c_level0_row3\" class=\"row_heading level0 row3\" >primary_cleaner.output.concentrate_sol</th>\n",
       "                        <td id=\"T_f655c_row3_col0\" class=\"data row3 col0\" >1.9</td>\n",
       "            </tr>\n",
       "            <tr>\n",
       "                        <th id=\"T_f655c_level0_row4\" class=\"row_heading level0 row4\" >secondary_cleaner.state.floatbank2_a_air</th>\n",
       "                        <td id=\"T_f655c_row4_col0\" class=\"data row4 col0\" >1.1</td>\n",
       "            </tr>\n",
       "            <tr>\n",
       "                        <th id=\"T_f655c_level0_row5\" class=\"row_heading level0 row5\" >final.output.concentrate_sol</th>\n",
       "                        <td id=\"T_f655c_row5_col0\" class=\"data row5 col0\" >1.1</td>\n",
       "            </tr>\n",
       "            <tr>\n",
       "                        <th id=\"T_f655c_level0_row6\" class=\"row_heading level0 row6\" >rougher.input.feed_size</th>\n",
       "                        <td id=\"T_f655c_row6_col0\" class=\"data row6 col0\" >0.7</td>\n",
       "            </tr>\n",
       "            <tr>\n",
       "                        <th id=\"T_f655c_level0_row7\" class=\"row_heading level0 row7\" >primary_cleaner.output.concentrate_pb</th>\n",
       "                        <td id=\"T_f655c_row7_col0\" class=\"data row7 col0\" >0.6</td>\n",
       "            </tr>\n",
       "            <tr>\n",
       "                        <th id=\"T_f655c_level0_row8\" class=\"row_heading level0 row8\" >primary_cleaner.input.xanthate</th>\n",
       "                        <td id=\"T_f655c_row8_col0\" class=\"data row8 col0\" >0.5</td>\n",
       "            </tr>\n",
       "            <tr>\n",
       "                        <th id=\"T_f655c_level0_row9\" class=\"row_heading level0 row9\" >final.output.tail_pb</th>\n",
       "                        <td id=\"T_f655c_row9_col0\" class=\"data row9 col0\" >0.5</td>\n",
       "            </tr>\n",
       "            <tr>\n",
       "                        <th id=\"T_f655c_level0_row10\" class=\"row_heading level0 row10\" >rougher.input.feed_pb</th>\n",
       "                        <td id=\"T_f655c_row10_col0\" class=\"data row10 col0\" >0.5</td>\n",
       "            </tr>\n",
       "            <tr>\n",
       "                        <th id=\"T_f655c_level0_row11\" class=\"row_heading level0 row11\" >rougher.input.feed_sol</th>\n",
       "                        <td id=\"T_f655c_row11_col0\" class=\"data row11 col0\" >0.5</td>\n",
       "            </tr>\n",
       "            <tr>\n",
       "                        <th id=\"T_f655c_level0_row12\" class=\"row_heading level0 row12\" >primary_cleaner.output.tail_sol</th>\n",
       "                        <td id=\"T_f655c_row12_col0\" class=\"data row12 col0\" >0.3</td>\n",
       "            </tr>\n",
       "            <tr>\n",
       "                        <th id=\"T_f655c_level0_row13\" class=\"row_heading level0 row13\" >rougher.input.floatbank11_sulfate</th>\n",
       "                        <td id=\"T_f655c_row13_col0\" class=\"data row13 col0\" >0.2</td>\n",
       "            </tr>\n",
       "            <tr>\n",
       "                        <th id=\"T_f655c_level0_row14\" class=\"row_heading level0 row14\" >primary_cleaner.input.depressant</th>\n",
       "                        <td id=\"T_f655c_row14_col0\" class=\"data row14 col0\" >0.2</td>\n",
       "            </tr>\n",
       "            <tr>\n",
       "                        <th id=\"T_f655c_level0_row15\" class=\"row_heading level0 row15\" >rougher.input.floatbank10_sulfate</th>\n",
       "                        <td id=\"T_f655c_row15_col0\" class=\"data row15 col0\" >0.2</td>\n",
       "            </tr>\n",
       "            <tr>\n",
       "                        <th id=\"T_f655c_level0_row16\" class=\"row_heading level0 row16\" >primary_cleaner.input.sulfate</th>\n",
       "                        <td id=\"T_f655c_row16_col0\" class=\"data row16 col0\" >0.1</td>\n",
       "            </tr>\n",
       "            <tr>\n",
       "                        <th id=\"T_f655c_level0_row17\" class=\"row_heading level0 row17\" >rougher.output.concentrate_sol</th>\n",
       "                        <td id=\"T_f655c_row17_col0\" class=\"data row17 col0\" >0.1</td>\n",
       "            </tr>\n",
       "            <tr>\n",
       "                        <th id=\"T_f655c_level0_row18\" class=\"row_heading level0 row18\" >secondary_cleaner.state.floatbank2_b_air</th>\n",
       "                        <td id=\"T_f655c_row18_col0\" class=\"data row18 col0\" >0.1</td>\n",
       "            </tr>\n",
       "            <tr>\n",
       "                        <th id=\"T_f655c_level0_row19\" class=\"row_heading level0 row19\" >primary_cleaner.output.tail_pb</th>\n",
       "                        <td id=\"T_f655c_row19_col0\" class=\"data row19 col0\" >0.1</td>\n",
       "            </tr>\n",
       "            <tr>\n",
       "                        <th id=\"T_f655c_level0_row20\" class=\"row_heading level0 row20\" >secondary_cleaner.state.floatbank3_a_air</th>\n",
       "                        <td id=\"T_f655c_row20_col0\" class=\"data row20 col0\" >0.1</td>\n",
       "            </tr>\n",
       "            <tr>\n",
       "                        <th id=\"T_f655c_level0_row21\" class=\"row_heading level0 row21\" >secondary_cleaner.output.tail_pb</th>\n",
       "                        <td id=\"T_f655c_row21_col0\" class=\"data row21 col0\" >0.1</td>\n",
       "            </tr>\n",
       "            <tr>\n",
       "                        <th id=\"T_f655c_level0_row22\" class=\"row_heading level0 row22\" >rougher.input.feed_rate</th>\n",
       "                        <td id=\"T_f655c_row22_col0\" class=\"data row22 col0\" >0.1</td>\n",
       "            </tr>\n",
       "            <tr>\n",
       "                        <th id=\"T_f655c_level0_row23\" class=\"row_heading level0 row23\" >rougher.input.floatbank10_xanthate</th>\n",
       "                        <td id=\"T_f655c_row23_col0\" class=\"data row23 col0\" >0.0</td>\n",
       "            </tr>\n",
       "            <tr>\n",
       "                        <th id=\"T_f655c_level0_row24\" class=\"row_heading level0 row24\" >final.output.tail_sol</th>\n",
       "                        <td id=\"T_f655c_row24_col0\" class=\"data row24 col0\" >0.0</td>\n",
       "            </tr>\n",
       "            <tr>\n",
       "                        <th id=\"T_f655c_level0_row25\" class=\"row_heading level0 row25\" >secondary_cleaner.state.floatbank4_a_air</th>\n",
       "                        <td id=\"T_f655c_row25_col0\" class=\"data row25 col0\" >0.0</td>\n",
       "            </tr>\n",
       "            <tr>\n",
       "                        <th id=\"T_f655c_level0_row26\" class=\"row_heading level0 row26\" >primary_cleaner.output.tail_ag</th>\n",
       "                        <td id=\"T_f655c_row26_col0\" class=\"data row26 col0\" >0.0</td>\n",
       "            </tr>\n",
       "            <tr>\n",
       "                        <th id=\"T_f655c_level0_row27\" class=\"row_heading level0 row27\" >primary_cleaner.state.floatbank8_b_air</th>\n",
       "                        <td id=\"T_f655c_row27_col0\" class=\"data row27 col0\" >0.0</td>\n",
       "            </tr>\n",
       "            <tr>\n",
       "                        <th id=\"T_f655c_level0_row28\" class=\"row_heading level0 row28\" >primary_cleaner.state.floatbank8_a_air</th>\n",
       "                        <td id=\"T_f655c_row28_col0\" class=\"data row28 col0\" >0.0</td>\n",
       "            </tr>\n",
       "            <tr>\n",
       "                        <th id=\"T_f655c_level0_row29\" class=\"row_heading level0 row29\" >primary_cleaner.state.floatbank8_d_air</th>\n",
       "                        <td id=\"T_f655c_row29_col0\" class=\"data row29 col0\" >0.0</td>\n",
       "            </tr>\n",
       "            <tr>\n",
       "                        <th id=\"T_f655c_level0_row30\" class=\"row_heading level0 row30\" >rougher.calculation.floatbank11_sulfate_to_au_feed</th>\n",
       "                        <td id=\"T_f655c_row30_col0\" class=\"data row30 col0\" >0.0</td>\n",
       "            </tr>\n",
       "            <tr>\n",
       "                        <th id=\"T_f655c_level0_row31\" class=\"row_heading level0 row31\" >secondary_cleaner.output.tail_ag</th>\n",
       "                        <td id=\"T_f655c_row31_col0\" class=\"data row31 col0\" >0.0</td>\n",
       "            </tr>\n",
       "            <tr>\n",
       "                        <th id=\"T_f655c_level0_row32\" class=\"row_heading level0 row32\" >primary_cleaner.state.floatbank8_c_air</th>\n",
       "                        <td id=\"T_f655c_row32_col0\" class=\"data row32 col0\" >0.0</td>\n",
       "            </tr>\n",
       "            <tr>\n",
       "                        <th id=\"T_f655c_level0_row33\" class=\"row_heading level0 row33\" >rougher.calculation.sulfate_to_au_concentrate</th>\n",
       "                        <td id=\"T_f655c_row33_col0\" class=\"data row33 col0\" >0.0</td>\n",
       "            </tr>\n",
       "            <tr>\n",
       "                        <th id=\"T_f655c_level0_row34\" class=\"row_heading level0 row34\" >secondary_cleaner.state.floatbank6_a_air</th>\n",
       "                        <td id=\"T_f655c_row34_col0\" class=\"data row34 col0\" >0.0</td>\n",
       "            </tr>\n",
       "            <tr>\n",
       "                        <th id=\"T_f655c_level0_row35\" class=\"row_heading level0 row35\" >rougher.calculation.floatbank10_sulfate_to_au_feed</th>\n",
       "                        <td id=\"T_f655c_row35_col0\" class=\"data row35 col0\" >0.0</td>\n",
       "            </tr>\n",
       "            <tr>\n",
       "                        <th id=\"T_f655c_level0_row36\" class=\"row_heading level0 row36\" >secondary_cleaner.state.floatbank2_b_level</th>\n",
       "                        <td id=\"T_f655c_row36_col0\" class=\"data row36 col0\" >0.0</td>\n",
       "            </tr>\n",
       "            <tr>\n",
       "                        <th id=\"T_f655c_level0_row37\" class=\"row_heading level0 row37\" >secondary_cleaner.state.floatbank5_a_air</th>\n",
       "                        <td id=\"T_f655c_row37_col0\" class=\"data row37 col0\" >0.0</td>\n",
       "            </tr>\n",
       "            <tr>\n",
       "                        <th id=\"T_f655c_level0_row38\" class=\"row_heading level0 row38\" >rougher.state.floatbank10_b_level</th>\n",
       "                        <td id=\"T_f655c_row38_col0\" class=\"data row38 col0\" >0.0</td>\n",
       "            </tr>\n",
       "            <tr>\n",
       "                        <th id=\"T_f655c_level0_row39\" class=\"row_heading level0 row39\" >rougher.state.floatbank10_c_air</th>\n",
       "                        <td id=\"T_f655c_row39_col0\" class=\"data row39 col0\" >0.0</td>\n",
       "            </tr>\n",
       "            <tr>\n",
       "                        <th id=\"T_f655c_level0_row40\" class=\"row_heading level0 row40\" >rougher.state.floatbank10_c_level</th>\n",
       "                        <td id=\"T_f655c_row40_col0\" class=\"data row40 col0\" >0.0</td>\n",
       "            </tr>\n",
       "            <tr>\n",
       "                        <th id=\"T_f655c_level0_row41\" class=\"row_heading level0 row41\" >secondary_cleaner.state.floatbank5_b_level</th>\n",
       "                        <td id=\"T_f655c_row41_col0\" class=\"data row41 col0\" >0.0</td>\n",
       "            </tr>\n",
       "            <tr>\n",
       "                        <th id=\"T_f655c_level0_row42\" class=\"row_heading level0 row42\" >secondary_cleaner.state.floatbank5_b_air</th>\n",
       "                        <td id=\"T_f655c_row42_col0\" class=\"data row42 col0\" >0.0</td>\n",
       "            </tr>\n",
       "            <tr>\n",
       "                        <th id=\"T_f655c_level0_row43\" class=\"row_heading level0 row43\" >secondary_cleaner.state.floatbank5_a_level</th>\n",
       "                        <td id=\"T_f655c_row43_col0\" class=\"data row43 col0\" >0.0</td>\n",
       "            </tr>\n",
       "            <tr>\n",
       "                        <th id=\"T_f655c_level0_row44\" class=\"row_heading level0 row44\" >secondary_cleaner.state.floatbank4_b_level</th>\n",
       "                        <td id=\"T_f655c_row44_col0\" class=\"data row44 col0\" >0.0</td>\n",
       "            </tr>\n",
       "            <tr>\n",
       "                        <th id=\"T_f655c_level0_row45\" class=\"row_heading level0 row45\" >secondary_cleaner.state.floatbank4_b_air</th>\n",
       "                        <td id=\"T_f655c_row45_col0\" class=\"data row45 col0\" >0.0</td>\n",
       "            </tr>\n",
       "            <tr>\n",
       "                        <th id=\"T_f655c_level0_row46\" class=\"row_heading level0 row46\" >secondary_cleaner.state.floatbank4_a_level</th>\n",
       "                        <td id=\"T_f655c_row46_col0\" class=\"data row46 col0\" >0.0</td>\n",
       "            </tr>\n",
       "            <tr>\n",
       "                        <th id=\"T_f655c_level0_row47\" class=\"row_heading level0 row47\" >secondary_cleaner.state.floatbank3_b_level</th>\n",
       "                        <td id=\"T_f655c_row47_col0\" class=\"data row47 col0\" >0.0</td>\n",
       "            </tr>\n",
       "            <tr>\n",
       "                        <th id=\"T_f655c_level0_row48\" class=\"row_heading level0 row48\" >secondary_cleaner.state.floatbank2_a_level</th>\n",
       "                        <td id=\"T_f655c_row48_col0\" class=\"data row48 col0\" >0.0</td>\n",
       "            </tr>\n",
       "            <tr>\n",
       "                        <th id=\"T_f655c_level0_row49\" class=\"row_heading level0 row49\" >secondary_cleaner.state.floatbank3_b_air</th>\n",
       "                        <td id=\"T_f655c_row49_col0\" class=\"data row49 col0\" >0.0</td>\n",
       "            </tr>\n",
       "            <tr>\n",
       "                        <th id=\"T_f655c_level0_row50\" class=\"row_heading level0 row50\" >rougher.state.floatbank10_a_level</th>\n",
       "                        <td id=\"T_f655c_row50_col0\" class=\"data row50 col0\" >0.0</td>\n",
       "            </tr>\n",
       "            <tr>\n",
       "                        <th id=\"T_f655c_level0_row51\" class=\"row_heading level0 row51\" >secondary_cleaner.state.floatbank3_a_level</th>\n",
       "                        <td id=\"T_f655c_row51_col0\" class=\"data row51 col0\" >0.0</td>\n",
       "            </tr>\n",
       "            <tr>\n",
       "                        <th id=\"T_f655c_level0_row52\" class=\"row_heading level0 row52\" >rougher.state.floatbank10_b_air</th>\n",
       "                        <td id=\"T_f655c_row52_col0\" class=\"data row52 col0\" >0.0</td>\n",
       "            </tr>\n",
       "            <tr>\n",
       "                        <th id=\"T_f655c_level0_row53\" class=\"row_heading level0 row53\" >secondary_cleaner.state.floatbank6_a_level</th>\n",
       "                        <td id=\"T_f655c_row53_col0\" class=\"data row53 col0\" >0.0</td>\n",
       "            </tr>\n",
       "            <tr>\n",
       "                        <th id=\"T_f655c_level0_row54\" class=\"row_heading level0 row54\" >rougher.state.floatbank10_a_air</th>\n",
       "                        <td id=\"T_f655c_row54_col0\" class=\"data row54 col0\" >0.0</td>\n",
       "            </tr>\n",
       "            <tr>\n",
       "                        <th id=\"T_f655c_level0_row55\" class=\"row_heading level0 row55\" >final.output.tail_ag</th>\n",
       "                        <td id=\"T_f655c_row55_col0\" class=\"data row55 col0\" >0.0</td>\n",
       "            </tr>\n",
       "            <tr>\n",
       "                        <th id=\"T_f655c_level0_row56\" class=\"row_heading level0 row56\" >final.output.concentrate_ag</th>\n",
       "                        <td id=\"T_f655c_row56_col0\" class=\"data row56 col0\" >0.0</td>\n",
       "            </tr>\n",
       "            <tr>\n",
       "                        <th id=\"T_f655c_level0_row57\" class=\"row_heading level0 row57\" >primary_cleaner.state.floatbank8_c_level</th>\n",
       "                        <td id=\"T_f655c_row57_col0\" class=\"data row57 col0\" >0.0</td>\n",
       "            </tr>\n",
       "            <tr>\n",
       "                        <th id=\"T_f655c_level0_row58\" class=\"row_heading level0 row58\" >primary_cleaner.state.floatbank8_b_level</th>\n",
       "                        <td id=\"T_f655c_row58_col0\" class=\"data row58 col0\" >0.0</td>\n",
       "            </tr>\n",
       "            <tr>\n",
       "                        <th id=\"T_f655c_level0_row59\" class=\"row_heading level0 row59\" >primary_cleaner.state.floatbank8_a_level</th>\n",
       "                        <td id=\"T_f655c_row59_col0\" class=\"data row59 col0\" >0.0</td>\n",
       "            </tr>\n",
       "            <tr>\n",
       "                        <th id=\"T_f655c_level0_row60\" class=\"row_heading level0 row60\" >primary_cleaner.state.floatbank8_d_level</th>\n",
       "                        <td id=\"T_f655c_row60_col0\" class=\"data row60 col0\" >0.0</td>\n",
       "            </tr>\n",
       "            <tr>\n",
       "                        <th id=\"T_f655c_level0_row61\" class=\"row_heading level0 row61\" >rougher.output.tail_ag</th>\n",
       "                        <td id=\"T_f655c_row61_col0\" class=\"data row61 col0\" >0.0</td>\n",
       "            </tr>\n",
       "            <tr>\n",
       "                        <th id=\"T_f655c_level0_row62\" class=\"row_heading level0 row62\" >final.output.concentrate_pb</th>\n",
       "                        <td id=\"T_f655c_row62_col0\" class=\"data row62 col0\" >0.0</td>\n",
       "            </tr>\n",
       "            <tr>\n",
       "                        <th id=\"T_f655c_level0_row63\" class=\"row_heading level0 row63\" >final.output.tail_au</th>\n",
       "                        <td id=\"T_f655c_row63_col0\" class=\"data row63 col0\" >0.0</td>\n",
       "            </tr>\n",
       "            <tr>\n",
       "                        <th id=\"T_f655c_level0_row64\" class=\"row_heading level0 row64\" >rougher.calculation.au_pb_ratio</th>\n",
       "                        <td id=\"T_f655c_row64_col0\" class=\"data row64 col0\" >0.0</td>\n",
       "            </tr>\n",
       "            <tr>\n",
       "                        <th id=\"T_f655c_level0_row65\" class=\"row_heading level0 row65\" >primary_cleaner.output.concentrate_ag</th>\n",
       "                        <td id=\"T_f655c_row65_col0\" class=\"data row65 col0\" >0.0</td>\n",
       "            </tr>\n",
       "            <tr>\n",
       "                        <th id=\"T_f655c_level0_row66\" class=\"row_heading level0 row66\" >primary_cleaner.output.concentrate_au</th>\n",
       "                        <td id=\"T_f655c_row66_col0\" class=\"data row66 col0\" >0.0</td>\n",
       "            </tr>\n",
       "            <tr>\n",
       "                        <th id=\"T_f655c_level0_row67\" class=\"row_heading level0 row67\" >primary_cleaner.output.tail_au</th>\n",
       "                        <td id=\"T_f655c_row67_col0\" class=\"data row67 col0\" >0.0</td>\n",
       "            </tr>\n",
       "            <tr>\n",
       "                        <th id=\"T_f655c_level0_row68\" class=\"row_heading level0 row68\" >final.output.recovery</th>\n",
       "                        <td id=\"T_f655c_row68_col0\" class=\"data row68 col0\" >0.0</td>\n",
       "            </tr>\n",
       "            <tr>\n",
       "                        <th id=\"T_f655c_level0_row69\" class=\"row_heading level0 row69\" >final.output.concentrate_au</th>\n",
       "                        <td id=\"T_f655c_row69_col0\" class=\"data row69 col0\" >0.0</td>\n",
       "            </tr>\n",
       "            <tr>\n",
       "                        <th id=\"T_f655c_level0_row70\" class=\"row_heading level0 row70\" >primary_cleaner.input.feed_size</th>\n",
       "                        <td id=\"T_f655c_row70_col0\" class=\"data row70 col0\" >0.0</td>\n",
       "            </tr>\n",
       "            <tr>\n",
       "                        <th id=\"T_f655c_level0_row71\" class=\"row_heading level0 row71\" >rougher.input.feed_au</th>\n",
       "                        <td id=\"T_f655c_row71_col0\" class=\"data row71 col0\" >0.0</td>\n",
       "            </tr>\n",
       "            <tr>\n",
       "                        <th id=\"T_f655c_level0_row72\" class=\"row_heading level0 row72\" >rougher.input.feed_ag</th>\n",
       "                        <td id=\"T_f655c_row72_col0\" class=\"data row72 col0\" >0.0</td>\n",
       "            </tr>\n",
       "            <tr>\n",
       "                        <th id=\"T_f655c_level0_row73\" class=\"row_heading level0 row73\" >rougher.output.tail_au</th>\n",
       "                        <td id=\"T_f655c_row73_col0\" class=\"data row73 col0\" >0.0</td>\n",
       "            </tr>\n",
       "            <tr>\n",
       "                        <th id=\"T_f655c_level0_row74\" class=\"row_heading level0 row74\" >secondary_cleaner.output.tail_au</th>\n",
       "                        <td id=\"T_f655c_row74_col0\" class=\"data row74 col0\" >0.0</td>\n",
       "            </tr>\n",
       "            <tr>\n",
       "                        <th id=\"T_f655c_level0_row75\" class=\"row_heading level0 row75\" >rougher.output.concentrate_ag</th>\n",
       "                        <td id=\"T_f655c_row75_col0\" class=\"data row75 col0\" >0.0</td>\n",
       "            </tr>\n",
       "            <tr>\n",
       "                        <th id=\"T_f655c_level0_row76\" class=\"row_heading level0 row76\" >rougher.output.concentrate_pb</th>\n",
       "                        <td id=\"T_f655c_row76_col0\" class=\"data row76 col0\" >0.0</td>\n",
       "            </tr>\n",
       "            <tr>\n",
       "                        <th id=\"T_f655c_level0_row77\" class=\"row_heading level0 row77\" >rougher.output.concentrate_au</th>\n",
       "                        <td id=\"T_f655c_row77_col0\" class=\"data row77 col0\" >0.0</td>\n",
       "            </tr>\n",
       "            <tr>\n",
       "                        <th id=\"T_f655c_level0_row78\" class=\"row_heading level0 row78\" >rougher.state.floatbank10_f_level</th>\n",
       "                        <td id=\"T_f655c_row78_col0\" class=\"data row78 col0\" >0.0</td>\n",
       "            </tr>\n",
       "            <tr>\n",
       "                        <th id=\"T_f655c_level0_row79\" class=\"row_heading level0 row79\" >rougher.state.floatbank10_f_air</th>\n",
       "                        <td id=\"T_f655c_row79_col0\" class=\"data row79 col0\" >0.0</td>\n",
       "            </tr>\n",
       "            <tr>\n",
       "                        <th id=\"T_f655c_level0_row80\" class=\"row_heading level0 row80\" >rougher.state.floatbank10_e_level</th>\n",
       "                        <td id=\"T_f655c_row80_col0\" class=\"data row80 col0\" >0.0</td>\n",
       "            </tr>\n",
       "            <tr>\n",
       "                        <th id=\"T_f655c_level0_row81\" class=\"row_heading level0 row81\" >rougher.output.recovery</th>\n",
       "                        <td id=\"T_f655c_row81_col0\" class=\"data row81 col0\" >0.0</td>\n",
       "            </tr>\n",
       "            <tr>\n",
       "                        <th id=\"T_f655c_level0_row82\" class=\"row_heading level0 row82\" >rougher.state.floatbank10_d_level</th>\n",
       "                        <td id=\"T_f655c_row82_col0\" class=\"data row82 col0\" >0.0</td>\n",
       "            </tr>\n",
       "            <tr>\n",
       "                        <th id=\"T_f655c_level0_row83\" class=\"row_heading level0 row83\" >rougher.state.floatbank10_d_air</th>\n",
       "                        <td id=\"T_f655c_row83_col0\" class=\"data row83 col0\" >0.0</td>\n",
       "            </tr>\n",
       "            <tr>\n",
       "                        <th id=\"T_f655c_level0_row84\" class=\"row_heading level0 row84\" >rougher.output.tail_pb</th>\n",
       "                        <td id=\"T_f655c_row84_col0\" class=\"data row84 col0\" >0.0</td>\n",
       "            </tr>\n",
       "            <tr>\n",
       "                        <th id=\"T_f655c_level0_row85\" class=\"row_heading level0 row85\" >rougher.output.tail_sol</th>\n",
       "                        <td id=\"T_f655c_row85_col0\" class=\"data row85 col0\" >0.0</td>\n",
       "            </tr>\n",
       "            <tr>\n",
       "                        <th id=\"T_f655c_level0_row86\" class=\"row_heading level0 row86\" >date</th>\n",
       "                        <td id=\"T_f655c_row86_col0\" class=\"data row86 col0\" >0.0</td>\n",
       "            </tr>\n",
       "    </tbody></table>"
      ],
      "text/plain": [
       "<pandas.io.formats.style.Styler at 0x7f4b322ab6d0>"
      ]
     },
     "execution_count": 65,
     "metadata": {},
     "output_type": "execute_result"
    }
   ],
   "source": [
    "isna_view (df_full)"
   ]
  },
  {
   "cell_type": "code",
   "execution_count": 66,
   "metadata": {
    "colab": {
     "base_uri": "https://localhost:8080/",
     "height": 1000
    },
    "executionInfo": {
     "elapsed": 22,
     "status": "ok",
     "timestamp": 1666854202117,
     "user": {
      "displayName": "Роман Иванов",
      "userId": "11781047996542916843"
     },
     "user_tz": -180
    },
    "id": "4vQCLcW-BYk8",
    "outputId": "b85e695c-585c-42d7-f3b7-d412834937c0"
   },
   "outputs": [
    {
     "data": {
      "text/html": [
       "<style  type=\"text/css\" >\n",
       "#T_83eca_row0_col0{\n",
       "            background-color:  #b40426;\n",
       "            color:  #f1f1f1;\n",
       "        }#T_83eca_row1_col0{\n",
       "            background-color:  #94b6ff;\n",
       "            color:  #000000;\n",
       "        }#T_83eca_row2_col0{\n",
       "            background-color:  #93b5fe;\n",
       "            color:  #000000;\n",
       "        }#T_83eca_row3_col0{\n",
       "            background-color:  #7396f5;\n",
       "            color:  #000000;\n",
       "        }#T_83eca_row4_col0{\n",
       "            background-color:  #6485ec;\n",
       "            color:  #000000;\n",
       "        }#T_83eca_row5_col0{\n",
       "            background-color:  #6384eb;\n",
       "            color:  #000000;\n",
       "        }#T_83eca_row6_col0{\n",
       "            background-color:  #5572df;\n",
       "            color:  #000000;\n",
       "        }#T_83eca_row7_col0,#T_83eca_row8_col0,#T_83eca_row9_col0{\n",
       "            background-color:  #4c66d6;\n",
       "            color:  #000000;\n",
       "        }#T_83eca_row10_col0{\n",
       "            background-color:  #4a63d3;\n",
       "            color:  #f1f1f1;\n",
       "        }#T_83eca_row11_col0{\n",
       "            background-color:  #4961d2;\n",
       "            color:  #f1f1f1;\n",
       "        }#T_83eca_row12_col0{\n",
       "            background-color:  #4358cb;\n",
       "            color:  #f1f1f1;\n",
       "        }#T_83eca_row13_col0,#T_83eca_row14_col0{\n",
       "            background-color:  #4055c8;\n",
       "            color:  #f1f1f1;\n",
       "        }#T_83eca_row15_col0{\n",
       "            background-color:  #3f53c6;\n",
       "            color:  #f1f1f1;\n",
       "        }#T_83eca_row16_col0,#T_83eca_row17_col0,#T_83eca_row18_col0{\n",
       "            background-color:  #3e51c5;\n",
       "            color:  #f1f1f1;\n",
       "        }#T_83eca_row19_col0{\n",
       "            background-color:  #3d50c3;\n",
       "            color:  #f1f1f1;\n",
       "        }#T_83eca_row20_col0,#T_83eca_row21_col0,#T_83eca_row22_col0{\n",
       "            background-color:  #3c4ec2;\n",
       "            color:  #f1f1f1;\n",
       "        }#T_83eca_row23_col0,#T_83eca_row24_col0,#T_83eca_row25_col0,#T_83eca_row26_col0,#T_83eca_row27_col0,#T_83eca_row28_col0,#T_83eca_row29_col0,#T_83eca_row30_col0,#T_83eca_row31_col0,#T_83eca_row32_col0,#T_83eca_row33_col0,#T_83eca_row34_col0,#T_83eca_row35_col0,#T_83eca_row36_col0,#T_83eca_row37_col0,#T_83eca_row38_col0,#T_83eca_row39_col0,#T_83eca_row40_col0,#T_83eca_row41_col0,#T_83eca_row42_col0,#T_83eca_row43_col0,#T_83eca_row44_col0,#T_83eca_row45_col0,#T_83eca_row46_col0,#T_83eca_row47_col0,#T_83eca_row48_col0,#T_83eca_row49_col0,#T_83eca_row50_col0,#T_83eca_row51_col0,#T_83eca_row52_col0,#T_83eca_row53_col0,#T_83eca_row54_col0,#T_83eca_row55_col0,#T_83eca_row56_col0,#T_83eca_row57_col0,#T_83eca_row58_col0,#T_83eca_row59_col0,#T_83eca_row60_col0,#T_83eca_row61_col0,#T_83eca_row62_col0,#T_83eca_row63_col0,#T_83eca_row64_col0,#T_83eca_row65_col0,#T_83eca_row66_col0,#T_83eca_row67_col0,#T_83eca_row68_col0,#T_83eca_row69_col0,#T_83eca_row70_col0,#T_83eca_row71_col0,#T_83eca_row72_col0,#T_83eca_row73_col0,#T_83eca_row74_col0,#T_83eca_row75_col0,#T_83eca_row76_col0,#T_83eca_row77_col0,#T_83eca_row78_col0,#T_83eca_row79_col0,#T_83eca_row80_col0,#T_83eca_row81_col0,#T_83eca_row82_col0,#T_83eca_row83_col0,#T_83eca_row84_col0,#T_83eca_row85_col0,#T_83eca_row86_col0{\n",
       "            background-color:  #3b4cc0;\n",
       "            color:  #f1f1f1;\n",
       "        }</style><table id=\"T_83eca_\" ><thead>    <tr>        <th class=\"blank level0\" ></th>        <th class=\"col_heading level0 col0\" >percent_space</th>    </tr></thead><tbody>\n",
       "                <tr>\n",
       "                        <th id=\"T_83eca_level0_row0\" class=\"row_heading level0 row0\" >secondary_cleaner.output.tail_sol</th>\n",
       "                        <td id=\"T_83eca_row0_col0\" class=\"data row0 col0\" >11.3</td>\n",
       "            </tr>\n",
       "            <tr>\n",
       "                        <th id=\"T_83eca_level0_row1\" class=\"row_heading level0 row1\" >rougher.state.floatbank10_e_air</th>\n",
       "                        <td id=\"T_83eca_row1_col0\" class=\"data row1 col0\" >3.1</td>\n",
       "            </tr>\n",
       "            <tr>\n",
       "                        <th id=\"T_83eca_level0_row2\" class=\"row_heading level0 row2\" >rougher.input.floatbank11_xanthate</th>\n",
       "                        <td id=\"T_83eca_row2_col0\" class=\"data row2 col0\" >3.0</td>\n",
       "            </tr>\n",
       "            <tr>\n",
       "                        <th id=\"T_83eca_level0_row3\" class=\"row_heading level0 row3\" >primary_cleaner.output.concentrate_sol</th>\n",
       "                        <td id=\"T_83eca_row3_col0\" class=\"data row3 col0\" >2.0</td>\n",
       "            </tr>\n",
       "            <tr>\n",
       "                        <th id=\"T_83eca_level0_row4\" class=\"row_heading level0 row4\" >secondary_cleaner.state.floatbank2_a_air</th>\n",
       "                        <td id=\"T_83eca_row4_col0\" class=\"data row4 col0\" >1.5</td>\n",
       "            </tr>\n",
       "            <tr>\n",
       "                        <th id=\"T_83eca_level0_row5\" class=\"row_heading level0 row5\" >final.output.concentrate_sol</th>\n",
       "                        <td id=\"T_83eca_row5_col0\" class=\"data row5 col0\" >1.5</td>\n",
       "            </tr>\n",
       "            <tr>\n",
       "                        <th id=\"T_83eca_level0_row6\" class=\"row_heading level0 row6\" >rougher.input.feed_size</th>\n",
       "                        <td id=\"T_83eca_row6_col0\" class=\"data row6 col0\" >1.0</td>\n",
       "            </tr>\n",
       "            <tr>\n",
       "                        <th id=\"T_83eca_level0_row7\" class=\"row_heading level0 row7\" >primary_cleaner.input.xanthate</th>\n",
       "                        <td id=\"T_83eca_row7_col0\" class=\"data row7 col0\" >0.7</td>\n",
       "            </tr>\n",
       "            <tr>\n",
       "                        <th id=\"T_83eca_level0_row8\" class=\"row_heading level0 row8\" >rougher.input.feed_pb</th>\n",
       "                        <td id=\"T_83eca_row8_col0\" class=\"data row8 col0\" >0.7</td>\n",
       "            </tr>\n",
       "            <tr>\n",
       "                        <th id=\"T_83eca_level0_row9\" class=\"row_heading level0 row9\" >final.output.tail_pb</th>\n",
       "                        <td id=\"T_83eca_row9_col0\" class=\"data row9 col0\" >0.7</td>\n",
       "            </tr>\n",
       "            <tr>\n",
       "                        <th id=\"T_83eca_level0_row10\" class=\"row_heading level0 row10\" >primary_cleaner.output.concentrate_pb</th>\n",
       "                        <td id=\"T_83eca_row10_col0\" class=\"data row10 col0\" >0.6</td>\n",
       "            </tr>\n",
       "            <tr>\n",
       "                        <th id=\"T_83eca_level0_row11\" class=\"row_heading level0 row11\" >rougher.input.feed_sol</th>\n",
       "                        <td id=\"T_83eca_row11_col0\" class=\"data row11 col0\" >0.6</td>\n",
       "            </tr>\n",
       "            <tr>\n",
       "                        <th id=\"T_83eca_level0_row12\" class=\"row_heading level0 row12\" >primary_cleaner.output.tail_sol</th>\n",
       "                        <td id=\"T_83eca_row12_col0\" class=\"data row12 col0\" >0.3</td>\n",
       "            </tr>\n",
       "            <tr>\n",
       "                        <th id=\"T_83eca_level0_row13\" class=\"row_heading level0 row13\" >rougher.input.floatbank11_sulfate</th>\n",
       "                        <td id=\"T_83eca_row13_col0\" class=\"data row13 col0\" >0.3</td>\n",
       "            </tr>\n",
       "            <tr>\n",
       "                        <th id=\"T_83eca_level0_row14\" class=\"row_heading level0 row14\" >primary_cleaner.input.depressant</th>\n",
       "                        <td id=\"T_83eca_row14_col0\" class=\"data row14 col0\" >0.2</td>\n",
       "            </tr>\n",
       "            <tr>\n",
       "                        <th id=\"T_83eca_level0_row15\" class=\"row_heading level0 row15\" >rougher.input.floatbank10_sulfate</th>\n",
       "                        <td id=\"T_83eca_row15_col0\" class=\"data row15 col0\" >0.2</td>\n",
       "            </tr>\n",
       "            <tr>\n",
       "                        <th id=\"T_83eca_level0_row16\" class=\"row_heading level0 row16\" >rougher.output.concentrate_sol</th>\n",
       "                        <td id=\"T_83eca_row16_col0\" class=\"data row16 col0\" >0.2</td>\n",
       "            </tr>\n",
       "            <tr>\n",
       "                        <th id=\"T_83eca_level0_row17\" class=\"row_heading level0 row17\" >secondary_cleaner.state.floatbank2_b_air</th>\n",
       "                        <td id=\"T_83eca_row17_col0\" class=\"data row17 col0\" >0.1</td>\n",
       "            </tr>\n",
       "            <tr>\n",
       "                        <th id=\"T_83eca_level0_row18\" class=\"row_heading level0 row18\" >primary_cleaner.input.sulfate</th>\n",
       "                        <td id=\"T_83eca_row18_col0\" class=\"data row18 col0\" >0.1</td>\n",
       "            </tr>\n",
       "            <tr>\n",
       "                        <th id=\"T_83eca_level0_row19\" class=\"row_heading level0 row19\" >primary_cleaner.output.tail_pb</th>\n",
       "                        <td id=\"T_83eca_row19_col0\" class=\"data row19 col0\" >0.1</td>\n",
       "            </tr>\n",
       "            <tr>\n",
       "                        <th id=\"T_83eca_level0_row20\" class=\"row_heading level0 row20\" >secondary_cleaner.output.tail_pb</th>\n",
       "                        <td id=\"T_83eca_row20_col0\" class=\"data row20 col0\" >0.1</td>\n",
       "            </tr>\n",
       "            <tr>\n",
       "                        <th id=\"T_83eca_level0_row21\" class=\"row_heading level0 row21\" >rougher.input.feed_rate</th>\n",
       "                        <td id=\"T_83eca_row21_col0\" class=\"data row21 col0\" >0.1</td>\n",
       "            </tr>\n",
       "            <tr>\n",
       "                        <th id=\"T_83eca_level0_row22\" class=\"row_heading level0 row22\" >rougher.input.floatbank10_xanthate</th>\n",
       "                        <td id=\"T_83eca_row22_col0\" class=\"data row22 col0\" >0.1</td>\n",
       "            </tr>\n",
       "            <tr>\n",
       "                        <th id=\"T_83eca_level0_row23\" class=\"row_heading level0 row23\" >secondary_cleaner.state.floatbank4_a_air</th>\n",
       "                        <td id=\"T_83eca_row23_col0\" class=\"data row23 col0\" >0.0</td>\n",
       "            </tr>\n",
       "            <tr>\n",
       "                        <th id=\"T_83eca_level0_row24\" class=\"row_heading level0 row24\" >final.output.tail_sol</th>\n",
       "                        <td id=\"T_83eca_row24_col0\" class=\"data row24 col0\" >0.0</td>\n",
       "            </tr>\n",
       "            <tr>\n",
       "                        <th id=\"T_83eca_level0_row25\" class=\"row_heading level0 row25\" >secondary_cleaner.state.floatbank3_a_air</th>\n",
       "                        <td id=\"T_83eca_row25_col0\" class=\"data row25 col0\" >0.0</td>\n",
       "            </tr>\n",
       "            <tr>\n",
       "                        <th id=\"T_83eca_level0_row26\" class=\"row_heading level0 row26\" >primary_cleaner.state.floatbank8_a_air</th>\n",
       "                        <td id=\"T_83eca_row26_col0\" class=\"data row26 col0\" >0.0</td>\n",
       "            </tr>\n",
       "            <tr>\n",
       "                        <th id=\"T_83eca_level0_row27\" class=\"row_heading level0 row27\" >primary_cleaner.state.floatbank8_b_air</th>\n",
       "                        <td id=\"T_83eca_row27_col0\" class=\"data row27 col0\" >0.0</td>\n",
       "            </tr>\n",
       "            <tr>\n",
       "                        <th id=\"T_83eca_level0_row28\" class=\"row_heading level0 row28\" >primary_cleaner.state.floatbank8_d_air</th>\n",
       "                        <td id=\"T_83eca_row28_col0\" class=\"data row28 col0\" >0.0</td>\n",
       "            </tr>\n",
       "            <tr>\n",
       "                        <th id=\"T_83eca_level0_row29\" class=\"row_heading level0 row29\" >primary_cleaner.state.floatbank8_c_air</th>\n",
       "                        <td id=\"T_83eca_row29_col0\" class=\"data row29 col0\" >0.0</td>\n",
       "            </tr>\n",
       "            <tr>\n",
       "                        <th id=\"T_83eca_level0_row30\" class=\"row_heading level0 row30\" >secondary_cleaner.output.tail_ag</th>\n",
       "                        <td id=\"T_83eca_row30_col0\" class=\"data row30 col0\" >0.0</td>\n",
       "            </tr>\n",
       "            <tr>\n",
       "                        <th id=\"T_83eca_level0_row31\" class=\"row_heading level0 row31\" >secondary_cleaner.state.floatbank6_a_air</th>\n",
       "                        <td id=\"T_83eca_row31_col0\" class=\"data row31 col0\" >0.0</td>\n",
       "            </tr>\n",
       "            <tr>\n",
       "                        <th id=\"T_83eca_level0_row32\" class=\"row_heading level0 row32\" >rougher.state.floatbank10_b_level</th>\n",
       "                        <td id=\"T_83eca_row32_col0\" class=\"data row32 col0\" >0.0</td>\n",
       "            </tr>\n",
       "            <tr>\n",
       "                        <th id=\"T_83eca_level0_row33\" class=\"row_heading level0 row33\" >rougher.state.floatbank10_b_air</th>\n",
       "                        <td id=\"T_83eca_row33_col0\" class=\"data row33 col0\" >0.0</td>\n",
       "            </tr>\n",
       "            <tr>\n",
       "                        <th id=\"T_83eca_level0_row34\" class=\"row_heading level0 row34\" >rougher.state.floatbank10_c_level</th>\n",
       "                        <td id=\"T_83eca_row34_col0\" class=\"data row34 col0\" >0.0</td>\n",
       "            </tr>\n",
       "            <tr>\n",
       "                        <th id=\"T_83eca_level0_row35\" class=\"row_heading level0 row35\" >rougher.state.floatbank10_c_air</th>\n",
       "                        <td id=\"T_83eca_row35_col0\" class=\"data row35 col0\" >0.0</td>\n",
       "            </tr>\n",
       "            <tr>\n",
       "                        <th id=\"T_83eca_level0_row36\" class=\"row_heading level0 row36\" >secondary_cleaner.state.floatbank3_a_level</th>\n",
       "                        <td id=\"T_83eca_row36_col0\" class=\"data row36 col0\" >0.0</td>\n",
       "            </tr>\n",
       "            <tr>\n",
       "                        <th id=\"T_83eca_level0_row37\" class=\"row_heading level0 row37\" >secondary_cleaner.state.floatbank2_a_level</th>\n",
       "                        <td id=\"T_83eca_row37_col0\" class=\"data row37 col0\" >0.0</td>\n",
       "            </tr>\n",
       "            <tr>\n",
       "                        <th id=\"T_83eca_level0_row38\" class=\"row_heading level0 row38\" >secondary_cleaner.state.floatbank2_b_level</th>\n",
       "                        <td id=\"T_83eca_row38_col0\" class=\"data row38 col0\" >0.0</td>\n",
       "            </tr>\n",
       "            <tr>\n",
       "                        <th id=\"T_83eca_level0_row39\" class=\"row_heading level0 row39\" >rougher.state.floatbank10_a_air</th>\n",
       "                        <td id=\"T_83eca_row39_col0\" class=\"data row39 col0\" >0.0</td>\n",
       "            </tr>\n",
       "            <tr>\n",
       "                        <th id=\"T_83eca_level0_row40\" class=\"row_heading level0 row40\" >secondary_cleaner.state.floatbank3_b_air</th>\n",
       "                        <td id=\"T_83eca_row40_col0\" class=\"data row40 col0\" >0.0</td>\n",
       "            </tr>\n",
       "            <tr>\n",
       "                        <th id=\"T_83eca_level0_row41\" class=\"row_heading level0 row41\" >secondary_cleaner.state.floatbank3_b_level</th>\n",
       "                        <td id=\"T_83eca_row41_col0\" class=\"data row41 col0\" >0.0</td>\n",
       "            </tr>\n",
       "            <tr>\n",
       "                        <th id=\"T_83eca_level0_row42\" class=\"row_heading level0 row42\" >secondary_cleaner.state.floatbank4_a_level</th>\n",
       "                        <td id=\"T_83eca_row42_col0\" class=\"data row42 col0\" >0.0</td>\n",
       "            </tr>\n",
       "            <tr>\n",
       "                        <th id=\"T_83eca_level0_row43\" class=\"row_heading level0 row43\" >secondary_cleaner.state.floatbank4_b_air</th>\n",
       "                        <td id=\"T_83eca_row43_col0\" class=\"data row43 col0\" >0.0</td>\n",
       "            </tr>\n",
       "            <tr>\n",
       "                        <th id=\"T_83eca_level0_row44\" class=\"row_heading level0 row44\" >secondary_cleaner.state.floatbank4_b_level</th>\n",
       "                        <td id=\"T_83eca_row44_col0\" class=\"data row44 col0\" >0.0</td>\n",
       "            </tr>\n",
       "            <tr>\n",
       "                        <th id=\"T_83eca_level0_row45\" class=\"row_heading level0 row45\" >secondary_cleaner.state.floatbank5_a_air</th>\n",
       "                        <td id=\"T_83eca_row45_col0\" class=\"data row45 col0\" >0.0</td>\n",
       "            </tr>\n",
       "            <tr>\n",
       "                        <th id=\"T_83eca_level0_row46\" class=\"row_heading level0 row46\" >secondary_cleaner.state.floatbank5_a_level</th>\n",
       "                        <td id=\"T_83eca_row46_col0\" class=\"data row46 col0\" >0.0</td>\n",
       "            </tr>\n",
       "            <tr>\n",
       "                        <th id=\"T_83eca_level0_row47\" class=\"row_heading level0 row47\" >secondary_cleaner.state.floatbank5_b_air</th>\n",
       "                        <td id=\"T_83eca_row47_col0\" class=\"data row47 col0\" >0.0</td>\n",
       "            </tr>\n",
       "            <tr>\n",
       "                        <th id=\"T_83eca_level0_row48\" class=\"row_heading level0 row48\" >secondary_cleaner.state.floatbank5_b_level</th>\n",
       "                        <td id=\"T_83eca_row48_col0\" class=\"data row48 col0\" >0.0</td>\n",
       "            </tr>\n",
       "            <tr>\n",
       "                        <th id=\"T_83eca_level0_row49\" class=\"row_heading level0 row49\" >rougher.state.floatbank10_a_level</th>\n",
       "                        <td id=\"T_83eca_row49_col0\" class=\"data row49 col0\" >0.0</td>\n",
       "            </tr>\n",
       "            <tr>\n",
       "                        <th id=\"T_83eca_level0_row50\" class=\"row_heading level0 row50\" >secondary_cleaner.state.floatbank6_a_level</th>\n",
       "                        <td id=\"T_83eca_row50_col0\" class=\"data row50 col0\" >0.0</td>\n",
       "            </tr>\n",
       "            <tr>\n",
       "                        <th id=\"T_83eca_level0_row51\" class=\"row_heading level0 row51\" >rougher.calculation.floatbank11_sulfate_to_au_feed</th>\n",
       "                        <td id=\"T_83eca_row51_col0\" class=\"data row51 col0\" >0.0</td>\n",
       "            </tr>\n",
       "            <tr>\n",
       "                        <th id=\"T_83eca_level0_row52\" class=\"row_heading level0 row52\" >rougher.calculation.floatbank10_sulfate_to_au_feed</th>\n",
       "                        <td id=\"T_83eca_row52_col0\" class=\"data row52 col0\" >0.0</td>\n",
       "            </tr>\n",
       "            <tr>\n",
       "                        <th id=\"T_83eca_level0_row53\" class=\"row_heading level0 row53\" >primary_cleaner.state.floatbank8_d_level</th>\n",
       "                        <td id=\"T_83eca_row53_col0\" class=\"data row53 col0\" >0.0</td>\n",
       "            </tr>\n",
       "            <tr>\n",
       "                        <th id=\"T_83eca_level0_row54\" class=\"row_heading level0 row54\" >primary_cleaner.state.floatbank8_c_level</th>\n",
       "                        <td id=\"T_83eca_row54_col0\" class=\"data row54 col0\" >0.0</td>\n",
       "            </tr>\n",
       "            <tr>\n",
       "                        <th id=\"T_83eca_level0_row55\" class=\"row_heading level0 row55\" >primary_cleaner.state.floatbank8_b_level</th>\n",
       "                        <td id=\"T_83eca_row55_col0\" class=\"data row55 col0\" >0.0</td>\n",
       "            </tr>\n",
       "            <tr>\n",
       "                        <th id=\"T_83eca_level0_row56\" class=\"row_heading level0 row56\" >primary_cleaner.state.floatbank8_a_level</th>\n",
       "                        <td id=\"T_83eca_row56_col0\" class=\"data row56 col0\" >0.0</td>\n",
       "            </tr>\n",
       "            <tr>\n",
       "                        <th id=\"T_83eca_level0_row57\" class=\"row_heading level0 row57\" >primary_cleaner.output.tail_ag</th>\n",
       "                        <td id=\"T_83eca_row57_col0\" class=\"data row57 col0\" >0.0</td>\n",
       "            </tr>\n",
       "            <tr>\n",
       "                        <th id=\"T_83eca_level0_row58\" class=\"row_heading level0 row58\" >final.output.concentrate_ag</th>\n",
       "                        <td id=\"T_83eca_row58_col0\" class=\"data row58 col0\" >0.0</td>\n",
       "            </tr>\n",
       "            <tr>\n",
       "                        <th id=\"T_83eca_level0_row59\" class=\"row_heading level0 row59\" >rougher.calculation.sulfate_to_au_concentrate</th>\n",
       "                        <td id=\"T_83eca_row59_col0\" class=\"data row59 col0\" >0.0</td>\n",
       "            </tr>\n",
       "            <tr>\n",
       "                        <th id=\"T_83eca_level0_row60\" class=\"row_heading level0 row60\" >rougher.output.tail_ag</th>\n",
       "                        <td id=\"T_83eca_row60_col0\" class=\"data row60 col0\" >0.0</td>\n",
       "            </tr>\n",
       "            <tr>\n",
       "                        <th id=\"T_83eca_level0_row61\" class=\"row_heading level0 row61\" >final.output.concentrate_pb</th>\n",
       "                        <td id=\"T_83eca_row61_col0\" class=\"data row61 col0\" >0.0</td>\n",
       "            </tr>\n",
       "            <tr>\n",
       "                        <th id=\"T_83eca_level0_row62\" class=\"row_heading level0 row62\" >primary_cleaner.input.feed_size</th>\n",
       "                        <td id=\"T_83eca_row62_col0\" class=\"data row62 col0\" >0.0</td>\n",
       "            </tr>\n",
       "            <tr>\n",
       "                        <th id=\"T_83eca_level0_row63\" class=\"row_heading level0 row63\" >final.output.tail_au</th>\n",
       "                        <td id=\"T_83eca_row63_col0\" class=\"data row63 col0\" >0.0</td>\n",
       "            </tr>\n",
       "            <tr>\n",
       "                        <th id=\"T_83eca_level0_row64\" class=\"row_heading level0 row64\" >primary_cleaner.output.concentrate_au</th>\n",
       "                        <td id=\"T_83eca_row64_col0\" class=\"data row64 col0\" >0.0</td>\n",
       "            </tr>\n",
       "            <tr>\n",
       "                        <th id=\"T_83eca_level0_row65\" class=\"row_heading level0 row65\" >final.output.tail_ag</th>\n",
       "                        <td id=\"T_83eca_row65_col0\" class=\"data row65 col0\" >0.0</td>\n",
       "            </tr>\n",
       "            <tr>\n",
       "                        <th id=\"T_83eca_level0_row66\" class=\"row_heading level0 row66\" >primary_cleaner.output.tail_au</th>\n",
       "                        <td id=\"T_83eca_row66_col0\" class=\"data row66 col0\" >0.0</td>\n",
       "            </tr>\n",
       "            <tr>\n",
       "                        <th id=\"T_83eca_level0_row67\" class=\"row_heading level0 row67\" >final.output.recovery</th>\n",
       "                        <td id=\"T_83eca_row67_col0\" class=\"data row67 col0\" >0.0</td>\n",
       "            </tr>\n",
       "            <tr>\n",
       "                        <th id=\"T_83eca_level0_row68\" class=\"row_heading level0 row68\" >final.output.concentrate_au</th>\n",
       "                        <td id=\"T_83eca_row68_col0\" class=\"data row68 col0\" >0.0</td>\n",
       "            </tr>\n",
       "            <tr>\n",
       "                        <th id=\"T_83eca_level0_row69\" class=\"row_heading level0 row69\" >primary_cleaner.output.concentrate_ag</th>\n",
       "                        <td id=\"T_83eca_row69_col0\" class=\"data row69 col0\" >0.0</td>\n",
       "            </tr>\n",
       "            <tr>\n",
       "                        <th id=\"T_83eca_level0_row70\" class=\"row_heading level0 row70\" >rougher.output.tail_sol</th>\n",
       "                        <td id=\"T_83eca_row70_col0\" class=\"data row70 col0\" >0.0</td>\n",
       "            </tr>\n",
       "            <tr>\n",
       "                        <th id=\"T_83eca_level0_row71\" class=\"row_heading level0 row71\" >rougher.output.tail_au</th>\n",
       "                        <td id=\"T_83eca_row71_col0\" class=\"data row71 col0\" >0.0</td>\n",
       "            </tr>\n",
       "            <tr>\n",
       "                        <th id=\"T_83eca_level0_row72\" class=\"row_heading level0 row72\" >secondary_cleaner.output.tail_au</th>\n",
       "                        <td id=\"T_83eca_row72_col0\" class=\"data row72 col0\" >0.0</td>\n",
       "            </tr>\n",
       "            <tr>\n",
       "                        <th id=\"T_83eca_level0_row73\" class=\"row_heading level0 row73\" >rougher.calculation.au_pb_ratio</th>\n",
       "                        <td id=\"T_83eca_row73_col0\" class=\"data row73 col0\" >0.0</td>\n",
       "            </tr>\n",
       "            <tr>\n",
       "                        <th id=\"T_83eca_level0_row74\" class=\"row_heading level0 row74\" >rougher.input.feed_ag</th>\n",
       "                        <td id=\"T_83eca_row74_col0\" class=\"data row74 col0\" >0.0</td>\n",
       "            </tr>\n",
       "            <tr>\n",
       "                        <th id=\"T_83eca_level0_row75\" class=\"row_heading level0 row75\" >rougher.input.feed_au</th>\n",
       "                        <td id=\"T_83eca_row75_col0\" class=\"data row75 col0\" >0.0</td>\n",
       "            </tr>\n",
       "            <tr>\n",
       "                        <th id=\"T_83eca_level0_row76\" class=\"row_heading level0 row76\" >rougher.state.floatbank10_f_level</th>\n",
       "                        <td id=\"T_83eca_row76_col0\" class=\"data row76 col0\" >0.0</td>\n",
       "            </tr>\n",
       "            <tr>\n",
       "                        <th id=\"T_83eca_level0_row77\" class=\"row_heading level0 row77\" >rougher.state.floatbank10_f_air</th>\n",
       "                        <td id=\"T_83eca_row77_col0\" class=\"data row77 col0\" >0.0</td>\n",
       "            </tr>\n",
       "            <tr>\n",
       "                        <th id=\"T_83eca_level0_row78\" class=\"row_heading level0 row78\" >rougher.state.floatbank10_e_level</th>\n",
       "                        <td id=\"T_83eca_row78_col0\" class=\"data row78 col0\" >0.0</td>\n",
       "            </tr>\n",
       "            <tr>\n",
       "                        <th id=\"T_83eca_level0_row79\" class=\"row_heading level0 row79\" >rougher.state.floatbank10_d_level</th>\n",
       "                        <td id=\"T_83eca_row79_col0\" class=\"data row79 col0\" >0.0</td>\n",
       "            </tr>\n",
       "            <tr>\n",
       "                        <th id=\"T_83eca_level0_row80\" class=\"row_heading level0 row80\" >rougher.state.floatbank10_d_air</th>\n",
       "                        <td id=\"T_83eca_row80_col0\" class=\"data row80 col0\" >0.0</td>\n",
       "            </tr>\n",
       "            <tr>\n",
       "                        <th id=\"T_83eca_level0_row81\" class=\"row_heading level0 row81\" >rougher.output.concentrate_ag</th>\n",
       "                        <td id=\"T_83eca_row81_col0\" class=\"data row81 col0\" >0.0</td>\n",
       "            </tr>\n",
       "            <tr>\n",
       "                        <th id=\"T_83eca_level0_row82\" class=\"row_heading level0 row82\" >rougher.output.concentrate_pb</th>\n",
       "                        <td id=\"T_83eca_row82_col0\" class=\"data row82 col0\" >0.0</td>\n",
       "            </tr>\n",
       "            <tr>\n",
       "                        <th id=\"T_83eca_level0_row83\" class=\"row_heading level0 row83\" >rougher.output.concentrate_au</th>\n",
       "                        <td id=\"T_83eca_row83_col0\" class=\"data row83 col0\" >0.0</td>\n",
       "            </tr>\n",
       "            <tr>\n",
       "                        <th id=\"T_83eca_level0_row84\" class=\"row_heading level0 row84\" >rougher.output.recovery</th>\n",
       "                        <td id=\"T_83eca_row84_col0\" class=\"data row84 col0\" >0.0</td>\n",
       "            </tr>\n",
       "            <tr>\n",
       "                        <th id=\"T_83eca_level0_row85\" class=\"row_heading level0 row85\" >rougher.output.tail_pb</th>\n",
       "                        <td id=\"T_83eca_row85_col0\" class=\"data row85 col0\" >0.0</td>\n",
       "            </tr>\n",
       "            <tr>\n",
       "                        <th id=\"T_83eca_level0_row86\" class=\"row_heading level0 row86\" >date</th>\n",
       "                        <td id=\"T_83eca_row86_col0\" class=\"data row86 col0\" >0.0</td>\n",
       "            </tr>\n",
       "    </tbody></table>"
      ],
      "text/plain": [
       "<pandas.io.formats.style.Styler at 0x7f4b318d5a30>"
      ]
     },
     "execution_count": 66,
     "metadata": {},
     "output_type": "execute_result"
    }
   ],
   "source": [
    "isna_view (df_train)"
   ]
  },
  {
   "cell_type": "code",
   "execution_count": 67,
   "metadata": {
    "colab": {
     "base_uri": "https://localhost:8080/",
     "height": 1000
    },
    "collapsed": true,
    "executionInfo": {
     "elapsed": 21,
     "status": "ok",
     "timestamp": 1666854202119,
     "user": {
      "displayName": "Роман Иванов",
      "userId": "11781047996542916843"
     },
     "user_tz": -180
    },
    "id": "cavWg-s5BYk8",
    "outputId": "953a7158-219b-4b31-badc-96ee844c15b1"
   },
   "outputs": [
    {
     "data": {
      "text/html": [
       "<style  type=\"text/css\" >\n",
       "#T_53b67_row0_col0{\n",
       "            background-color:  #b40426;\n",
       "            color:  #f1f1f1;\n",
       "        }#T_53b67_row1_col0{\n",
       "            background-color:  #e57058;\n",
       "            color:  #000000;\n",
       "        }#T_53b67_row2_col0{\n",
       "            background-color:  #b3cdfb;\n",
       "            color:  #000000;\n",
       "        }#T_53b67_row3_col0{\n",
       "            background-color:  #a5c3fe;\n",
       "            color:  #000000;\n",
       "        }#T_53b67_row4_col0,#T_53b67_row5_col0{\n",
       "            background-color:  #7b9ff9;\n",
       "            color:  #000000;\n",
       "        }#T_53b67_row6_col0,#T_53b67_row7_col0{\n",
       "            background-color:  #6c8ff1;\n",
       "            color:  #000000;\n",
       "        }#T_53b67_row8_col0,#T_53b67_row9_col0{\n",
       "            background-color:  #5f7fe8;\n",
       "            color:  #000000;\n",
       "        }#T_53b67_row10_col0{\n",
       "            background-color:  #536edd;\n",
       "            color:  #000000;\n",
       "        }#T_53b67_row11_col0{\n",
       "            background-color:  #465ecf;\n",
       "            color:  #f1f1f1;\n",
       "        }#T_53b67_row12_col0,#T_53b67_row13_col0,#T_53b67_row14_col0,#T_53b67_row15_col0,#T_53b67_row16_col0,#T_53b67_row17_col0,#T_53b67_row18_col0,#T_53b67_row19_col0,#T_53b67_row20_col0,#T_53b67_row21_col0,#T_53b67_row22_col0,#T_53b67_row23_col0,#T_53b67_row24_col0,#T_53b67_row25_col0,#T_53b67_row26_col0,#T_53b67_row27_col0,#T_53b67_row28_col0,#T_53b67_row29_col0,#T_53b67_row30_col0,#T_53b67_row31_col0,#T_53b67_row32_col0,#T_53b67_row33_col0,#T_53b67_row34_col0,#T_53b67_row35_col0,#T_53b67_row36_col0,#T_53b67_row37_col0,#T_53b67_row38_col0,#T_53b67_row39_col0,#T_53b67_row40_col0,#T_53b67_row41_col0,#T_53b67_row42_col0,#T_53b67_row43_col0,#T_53b67_row44_col0,#T_53b67_row45_col0,#T_53b67_row46_col0,#T_53b67_row47_col0,#T_53b67_row48_col0,#T_53b67_row49_col0,#T_53b67_row50_col0,#T_53b67_row51_col0,#T_53b67_row52_col0,#T_53b67_row53_col0,#T_53b67_row54_col0{\n",
       "            background-color:  #3b4cc0;\n",
       "            color:  #f1f1f1;\n",
       "        }</style><table id=\"T_53b67_\" ><thead>    <tr>        <th class=\"blank level0\" ></th>        <th class=\"col_heading level0 col0\" >percent_space</th>    </tr></thead><tbody>\n",
       "                <tr>\n",
       "                        <th id=\"T_53b67_level0_row0\" class=\"row_heading level0 row0\" >rougher.input.floatbank11_xanthate</th>\n",
       "                        <td id=\"T_53b67_row0_col0\" class=\"data row0 col0\" >0.5</td>\n",
       "            </tr>\n",
       "            <tr>\n",
       "                        <th id=\"T_53b67_level0_row1\" class=\"row_heading level0 row1\" >rougher.input.feed_sol</th>\n",
       "                        <td id=\"T_53b67_row1_col0\" class=\"data row1 col0\" >0.4</td>\n",
       "            </tr>\n",
       "            <tr>\n",
       "                        <th id=\"T_53b67_level0_row2\" class=\"row_heading level0 row2\" >secondary_cleaner.state.floatbank3_a_air</th>\n",
       "                        <td id=\"T_53b67_row2_col0\" class=\"data row2 col0\" >0.2</td>\n",
       "            </tr>\n",
       "            <tr>\n",
       "                        <th id=\"T_53b67_level0_row3\" class=\"row_heading level0 row3\" >rougher.input.floatbank11_sulfate</th>\n",
       "                        <td id=\"T_53b67_row3_col0\" class=\"data row3 col0\" >0.2</td>\n",
       "            </tr>\n",
       "            <tr>\n",
       "                        <th id=\"T_53b67_level0_row4\" class=\"row_heading level0 row4\" >primary_cleaner.input.depressant</th>\n",
       "                        <td id=\"T_53b67_row4_col0\" class=\"data row4 col0\" >0.1</td>\n",
       "            </tr>\n",
       "            <tr>\n",
       "                        <th id=\"T_53b67_level0_row5\" class=\"row_heading level0 row5\" >rougher.input.floatbank10_sulfate</th>\n",
       "                        <td id=\"T_53b67_row5_col0\" class=\"data row5 col0\" >0.1</td>\n",
       "            </tr>\n",
       "            <tr>\n",
       "                        <th id=\"T_53b67_level0_row6\" class=\"row_heading level0 row6\" >primary_cleaner.input.xanthate</th>\n",
       "                        <td id=\"T_53b67_row6_col0\" class=\"data row6 col0\" >0.1</td>\n",
       "            </tr>\n",
       "            <tr>\n",
       "                        <th id=\"T_53b67_level0_row7\" class=\"row_heading level0 row7\" >primary_cleaner.input.sulfate</th>\n",
       "                        <td id=\"T_53b67_row7_col0\" class=\"data row7 col0\" >0.1</td>\n",
       "            </tr>\n",
       "            <tr>\n",
       "                        <th id=\"T_53b67_level0_row8\" class=\"row_heading level0 row8\" >secondary_cleaner.state.floatbank2_a_air</th>\n",
       "                        <td id=\"T_53b67_row8_col0\" class=\"data row8 col0\" >0.1</td>\n",
       "            </tr>\n",
       "            <tr>\n",
       "                        <th id=\"T_53b67_level0_row9\" class=\"row_heading level0 row9\" >rougher.input.feed_rate</th>\n",
       "                        <td id=\"T_53b67_row9_col0\" class=\"data row9 col0\" >0.1</td>\n",
       "            </tr>\n",
       "            <tr>\n",
       "                        <th id=\"T_53b67_level0_row10\" class=\"row_heading level0 row10\" >secondary_cleaner.state.floatbank2_b_air</th>\n",
       "                        <td id=\"T_53b67_row10_col0\" class=\"data row10 col0\" >0.0</td>\n",
       "            </tr>\n",
       "            <tr>\n",
       "                        <th id=\"T_53b67_level0_row11\" class=\"row_heading level0 row11\" >rougher.input.feed_size</th>\n",
       "                        <td id=\"T_53b67_row11_col0\" class=\"data row11 col0\" >0.0</td>\n",
       "            </tr>\n",
       "            <tr>\n",
       "                        <th id=\"T_53b67_level0_row12\" class=\"row_heading level0 row12\" >secondary_cleaner.state.floatbank3_a_level</th>\n",
       "                        <td id=\"T_53b67_row12_col0\" class=\"data row12 col0\" >0.0</td>\n",
       "            </tr>\n",
       "            <tr>\n",
       "                        <th id=\"T_53b67_level0_row13\" class=\"row_heading level0 row13\" >secondary_cleaner.state.floatbank3_b_level</th>\n",
       "                        <td id=\"T_53b67_row13_col0\" class=\"data row13 col0\" >0.0</td>\n",
       "            </tr>\n",
       "            <tr>\n",
       "                        <th id=\"T_53b67_level0_row14\" class=\"row_heading level0 row14\" >secondary_cleaner.state.floatbank3_b_air</th>\n",
       "                        <td id=\"T_53b67_row14_col0\" class=\"data row14 col0\" >0.0</td>\n",
       "            </tr>\n",
       "            <tr>\n",
       "                        <th id=\"T_53b67_level0_row15\" class=\"row_heading level0 row15\" >secondary_cleaner.state.floatbank2_a_level</th>\n",
       "                        <td id=\"T_53b67_row15_col0\" class=\"data row15 col0\" >0.0</td>\n",
       "            </tr>\n",
       "            <tr>\n",
       "                        <th id=\"T_53b67_level0_row16\" class=\"row_heading level0 row16\" >rougher.state.floatbank10_f_level</th>\n",
       "                        <td id=\"T_53b67_row16_col0\" class=\"data row16 col0\" >0.0</td>\n",
       "            </tr>\n",
       "            <tr>\n",
       "                        <th id=\"T_53b67_level0_row17\" class=\"row_heading level0 row17\" >secondary_cleaner.state.floatbank2_b_level</th>\n",
       "                        <td id=\"T_53b67_row17_col0\" class=\"data row17 col0\" >0.0</td>\n",
       "            </tr>\n",
       "            <tr>\n",
       "                        <th id=\"T_53b67_level0_row18\" class=\"row_heading level0 row18\" >date</th>\n",
       "                        <td id=\"T_53b67_row18_col0\" class=\"data row18 col0\" >0.0</td>\n",
       "            </tr>\n",
       "            <tr>\n",
       "                        <th id=\"T_53b67_level0_row19\" class=\"row_heading level0 row19\" >rougher.state.floatbank10_e_level</th>\n",
       "                        <td id=\"T_53b67_row19_col0\" class=\"data row19 col0\" >0.0</td>\n",
       "            </tr>\n",
       "            <tr>\n",
       "                        <th id=\"T_53b67_level0_row20\" class=\"row_heading level0 row20\" >secondary_cleaner.state.floatbank4_a_air</th>\n",
       "                        <td id=\"T_53b67_row20_col0\" class=\"data row20 col0\" >0.0</td>\n",
       "            </tr>\n",
       "            <tr>\n",
       "                        <th id=\"T_53b67_level0_row21\" class=\"row_heading level0 row21\" >secondary_cleaner.state.floatbank4_a_level</th>\n",
       "                        <td id=\"T_53b67_row21_col0\" class=\"data row21 col0\" >0.0</td>\n",
       "            </tr>\n",
       "            <tr>\n",
       "                        <th id=\"T_53b67_level0_row22\" class=\"row_heading level0 row22\" >secondary_cleaner.state.floatbank4_b_air</th>\n",
       "                        <td id=\"T_53b67_row22_col0\" class=\"data row22 col0\" >0.0</td>\n",
       "            </tr>\n",
       "            <tr>\n",
       "                        <th id=\"T_53b67_level0_row23\" class=\"row_heading level0 row23\" >secondary_cleaner.state.floatbank4_b_level</th>\n",
       "                        <td id=\"T_53b67_row23_col0\" class=\"data row23 col0\" >0.0</td>\n",
       "            </tr>\n",
       "            <tr>\n",
       "                        <th id=\"T_53b67_level0_row24\" class=\"row_heading level0 row24\" >secondary_cleaner.state.floatbank5_a_air</th>\n",
       "                        <td id=\"T_53b67_row24_col0\" class=\"data row24 col0\" >0.0</td>\n",
       "            </tr>\n",
       "            <tr>\n",
       "                        <th id=\"T_53b67_level0_row25\" class=\"row_heading level0 row25\" >secondary_cleaner.state.floatbank5_a_level</th>\n",
       "                        <td id=\"T_53b67_row25_col0\" class=\"data row25 col0\" >0.0</td>\n",
       "            </tr>\n",
       "            <tr>\n",
       "                        <th id=\"T_53b67_level0_row26\" class=\"row_heading level0 row26\" >secondary_cleaner.state.floatbank5_b_air</th>\n",
       "                        <td id=\"T_53b67_row26_col0\" class=\"data row26 col0\" >0.0</td>\n",
       "            </tr>\n",
       "            <tr>\n",
       "                        <th id=\"T_53b67_level0_row27\" class=\"row_heading level0 row27\" >secondary_cleaner.state.floatbank5_b_level</th>\n",
       "                        <td id=\"T_53b67_row27_col0\" class=\"data row27 col0\" >0.0</td>\n",
       "            </tr>\n",
       "            <tr>\n",
       "                        <th id=\"T_53b67_level0_row28\" class=\"row_heading level0 row28\" >secondary_cleaner.state.floatbank6_a_air</th>\n",
       "                        <td id=\"T_53b67_row28_col0\" class=\"data row28 col0\" >0.0</td>\n",
       "            </tr>\n",
       "            <tr>\n",
       "                        <th id=\"T_53b67_level0_row29\" class=\"row_heading level0 row29\" >secondary_cleaner.state.floatbank6_a_level</th>\n",
       "                        <td id=\"T_53b67_row29_col0\" class=\"data row29 col0\" >0.0</td>\n",
       "            </tr>\n",
       "            <tr>\n",
       "                        <th id=\"T_53b67_level0_row30\" class=\"row_heading level0 row30\" >rougher.output.recovery</th>\n",
       "                        <td id=\"T_53b67_row30_col0\" class=\"data row30 col0\" >0.0</td>\n",
       "            </tr>\n",
       "            <tr>\n",
       "                        <th id=\"T_53b67_level0_row31\" class=\"row_heading level0 row31\" >rougher.state.floatbank10_f_air</th>\n",
       "                        <td id=\"T_53b67_row31_col0\" class=\"data row31 col0\" >0.0</td>\n",
       "            </tr>\n",
       "            <tr>\n",
       "                        <th id=\"T_53b67_level0_row32\" class=\"row_heading level0 row32\" >rougher.state.floatbank10_c_air</th>\n",
       "                        <td id=\"T_53b67_row32_col0\" class=\"data row32 col0\" >0.0</td>\n",
       "            </tr>\n",
       "            <tr>\n",
       "                        <th id=\"T_53b67_level0_row33\" class=\"row_heading level0 row33\" >rougher.state.floatbank10_e_air</th>\n",
       "                        <td id=\"T_53b67_row33_col0\" class=\"data row33 col0\" >0.0</td>\n",
       "            </tr>\n",
       "            <tr>\n",
       "                        <th id=\"T_53b67_level0_row34\" class=\"row_heading level0 row34\" >rougher.state.floatbank10_d_level</th>\n",
       "                        <td id=\"T_53b67_row34_col0\" class=\"data row34 col0\" >0.0</td>\n",
       "            </tr>\n",
       "            <tr>\n",
       "                        <th id=\"T_53b67_level0_row35\" class=\"row_heading level0 row35\" >primary_cleaner.input.feed_size</th>\n",
       "                        <td id=\"T_53b67_row35_col0\" class=\"data row35 col0\" >0.0</td>\n",
       "            </tr>\n",
       "            <tr>\n",
       "                        <th id=\"T_53b67_level0_row36\" class=\"row_heading level0 row36\" >primary_cleaner.state.floatbank8_a_air</th>\n",
       "                        <td id=\"T_53b67_row36_col0\" class=\"data row36 col0\" >0.0</td>\n",
       "            </tr>\n",
       "            <tr>\n",
       "                        <th id=\"T_53b67_level0_row37\" class=\"row_heading level0 row37\" >primary_cleaner.state.floatbank8_a_level</th>\n",
       "                        <td id=\"T_53b67_row37_col0\" class=\"data row37 col0\" >0.0</td>\n",
       "            </tr>\n",
       "            <tr>\n",
       "                        <th id=\"T_53b67_level0_row38\" class=\"row_heading level0 row38\" >primary_cleaner.state.floatbank8_b_air</th>\n",
       "                        <td id=\"T_53b67_row38_col0\" class=\"data row38 col0\" >0.0</td>\n",
       "            </tr>\n",
       "            <tr>\n",
       "                        <th id=\"T_53b67_level0_row39\" class=\"row_heading level0 row39\" >primary_cleaner.state.floatbank8_b_level</th>\n",
       "                        <td id=\"T_53b67_row39_col0\" class=\"data row39 col0\" >0.0</td>\n",
       "            </tr>\n",
       "            <tr>\n",
       "                        <th id=\"T_53b67_level0_row40\" class=\"row_heading level0 row40\" >primary_cleaner.state.floatbank8_c_air</th>\n",
       "                        <td id=\"T_53b67_row40_col0\" class=\"data row40 col0\" >0.0</td>\n",
       "            </tr>\n",
       "            <tr>\n",
       "                        <th id=\"T_53b67_level0_row41\" class=\"row_heading level0 row41\" >primary_cleaner.state.floatbank8_c_level</th>\n",
       "                        <td id=\"T_53b67_row41_col0\" class=\"data row41 col0\" >0.0</td>\n",
       "            </tr>\n",
       "            <tr>\n",
       "                        <th id=\"T_53b67_level0_row42\" class=\"row_heading level0 row42\" >primary_cleaner.state.floatbank8_d_air</th>\n",
       "                        <td id=\"T_53b67_row42_col0\" class=\"data row42 col0\" >0.0</td>\n",
       "            </tr>\n",
       "            <tr>\n",
       "                        <th id=\"T_53b67_level0_row43\" class=\"row_heading level0 row43\" >primary_cleaner.state.floatbank8_d_level</th>\n",
       "                        <td id=\"T_53b67_row43_col0\" class=\"data row43 col0\" >0.0</td>\n",
       "            </tr>\n",
       "            <tr>\n",
       "                        <th id=\"T_53b67_level0_row44\" class=\"row_heading level0 row44\" >rougher.input.feed_ag</th>\n",
       "                        <td id=\"T_53b67_row44_col0\" class=\"data row44 col0\" >0.0</td>\n",
       "            </tr>\n",
       "            <tr>\n",
       "                        <th id=\"T_53b67_level0_row45\" class=\"row_heading level0 row45\" >rougher.input.feed_pb</th>\n",
       "                        <td id=\"T_53b67_row45_col0\" class=\"data row45 col0\" >0.0</td>\n",
       "            </tr>\n",
       "            <tr>\n",
       "                        <th id=\"T_53b67_level0_row46\" class=\"row_heading level0 row46\" >rougher.input.feed_au</th>\n",
       "                        <td id=\"T_53b67_row46_col0\" class=\"data row46 col0\" >0.0</td>\n",
       "            </tr>\n",
       "            <tr>\n",
       "                        <th id=\"T_53b67_level0_row47\" class=\"row_heading level0 row47\" >rougher.input.floatbank10_xanthate</th>\n",
       "                        <td id=\"T_53b67_row47_col0\" class=\"data row47 col0\" >0.0</td>\n",
       "            </tr>\n",
       "            <tr>\n",
       "                        <th id=\"T_53b67_level0_row48\" class=\"row_heading level0 row48\" >rougher.state.floatbank10_a_air</th>\n",
       "                        <td id=\"T_53b67_row48_col0\" class=\"data row48 col0\" >0.0</td>\n",
       "            </tr>\n",
       "            <tr>\n",
       "                        <th id=\"T_53b67_level0_row49\" class=\"row_heading level0 row49\" >rougher.state.floatbank10_a_level</th>\n",
       "                        <td id=\"T_53b67_row49_col0\" class=\"data row49 col0\" >0.0</td>\n",
       "            </tr>\n",
       "            <tr>\n",
       "                        <th id=\"T_53b67_level0_row50\" class=\"row_heading level0 row50\" >rougher.state.floatbank10_b_air</th>\n",
       "                        <td id=\"T_53b67_row50_col0\" class=\"data row50 col0\" >0.0</td>\n",
       "            </tr>\n",
       "            <tr>\n",
       "                        <th id=\"T_53b67_level0_row51\" class=\"row_heading level0 row51\" >rougher.state.floatbank10_b_level</th>\n",
       "                        <td id=\"T_53b67_row51_col0\" class=\"data row51 col0\" >0.0</td>\n",
       "            </tr>\n",
       "            <tr>\n",
       "                        <th id=\"T_53b67_level0_row52\" class=\"row_heading level0 row52\" >rougher.state.floatbank10_c_level</th>\n",
       "                        <td id=\"T_53b67_row52_col0\" class=\"data row52 col0\" >0.0</td>\n",
       "            </tr>\n",
       "            <tr>\n",
       "                        <th id=\"T_53b67_level0_row53\" class=\"row_heading level0 row53\" >rougher.state.floatbank10_d_air</th>\n",
       "                        <td id=\"T_53b67_row53_col0\" class=\"data row53 col0\" >0.0</td>\n",
       "            </tr>\n",
       "            <tr>\n",
       "                        <th id=\"T_53b67_level0_row54\" class=\"row_heading level0 row54\" >final.output.recovery</th>\n",
       "                        <td id=\"T_53b67_row54_col0\" class=\"data row54 col0\" >0.0</td>\n",
       "            </tr>\n",
       "    </tbody></table>"
      ],
      "text/plain": [
       "<pandas.io.formats.style.Styler at 0x7f4b31c2bf40>"
      ]
     },
     "execution_count": 67,
     "metadata": {},
     "output_type": "execute_result"
    }
   ],
   "source": [
    "isna_view (df_test)"
   ]
  },
  {
   "cell_type": "markdown",
   "metadata": {
    "id": "E94lVv7WBYk9"
   },
   "source": [
    "Количество пропусков существенное, удалять их не корректно. \n",
    "\n",
    "По условиям задания, соседние по времени параметры часто похожи. Поэтому заполним пропуски на основании соседних значений.\n"
   ]
  },
  {
   "cell_type": "code",
   "execution_count": 68,
   "metadata": {
    "executionInfo": {
     "elapsed": 22,
     "status": "ok",
     "timestamp": 1666854202121,
     "user": {
      "displayName": "Роман Иванов",
      "userId": "11781047996542916843"
     },
     "user_tz": -180
    },
    "id": "wEVgPV3ZBYk_"
   },
   "outputs": [],
   "source": [
    "df_full = df_full.ffill(axis=0)\n",
    "df_train = df_train.ffill(axis=0)\n",
    "df_test = df_test.ffill(axis=0)"
   ]
  },
  {
   "cell_type": "markdown",
   "metadata": {
    "id": "c6mYmmmkBYk_"
   },
   "source": [
    "### Посмотрите, как меняется концентрация металлов (Au, Ag, Pb) на различных этапах очистки. Опишите выводы."
   ]
  },
  {
   "cell_type": "code",
   "execution_count": 69,
   "metadata": {
    "colab": {
     "base_uri": "https://localhost:8080/",
     "height": 89
    },
    "executionInfo": {
     "elapsed": 850,
     "status": "ok",
     "timestamp": 1666854202949,
     "user": {
      "displayName": "Роман Иванов",
      "userId": "11781047996542916843"
     },
     "user_tz": -180
    },
    "id": "WVM2UNANBYk_",
    "outputId": "4545c3bd-3671-438b-fd72-fae2b80ce47a"
   },
   "outputs": [
    {
     "data": {
      "image/png": "[encoded data removed]",
      "text/plain": [
       "<Figure size 720x360 with 1 Axes>"
      ]
     },
     "metadata": {
      "needs_background": "light"
     },
     "output_type": "display_data"
    },
    {
     "data": {
      "image/png": "[encoded data removed]",
      "text/plain": [
       "<Figure size 720x360 with 1 Axes>"
      ]
     },
     "metadata": {
      "needs_background": "light"
     },
     "output_type": "display_data"
    },
    {
     "data": {
      "image/png": "[encoded data removed]",
      "text/plain": [
       "<Figure size 720x360 with 1 Axes>"
      ]
     },
     "metadata": {
      "needs_background": "light"
     },
     "output_type": "display_data"
    }
   ],
   "source": [
    "df_train[[\n",
    "    'rougher.input.feed_au',\n",
    "    'rougher.output.concentrate_au', \n",
    "    'primary_cleaner.output.concentrate_au',\n",
    "    'final.output.concentrate_au']].boxplot(figsize=(10, 5), vert=False)\n",
    "plt.title('Изменение концентрации Au на различных этапах очистки')\n",
    "plt.show()\n",
    "\n",
    "df_train[[\n",
    "    'rougher.input.feed_ag',\n",
    "    'rougher.output.concentrate_ag', \n",
    "    'primary_cleaner.output.concentrate_ag',\n",
    "    'final.output.concentrate_ag']].boxplot(figsize=(10, 5), vert=False)\n",
    "plt.title('Изменение концентрации Ag на различных этапах очистки')\n",
    "plt.show()\n",
    "\n",
    "df_train[[\n",
    "    'rougher.input.feed_pb',\n",
    "    'rougher.output.concentrate_pb', \n",
    "    'primary_cleaner.output.concentrate_pb',\n",
    "    'final.output.concentrate_pb']].boxplot(figsize=(10, 5), vert=False)\n",
    "plt.title('Изменение концентрации Pb на различных этапах очистки')\n",
    "plt.show()"
   ]
  },
  {
   "cell_type": "markdown",
   "metadata": {
    "id": "BpIgveDfBYlA"
   },
   "source": [
    "Доля **золота (Au)** после каждого этапа очитски постепенно увеличивается.\n",
    "\n",
    "Доля **серебра (Ag)**  увеличивается на этапе флотации, а затем постепенно уменьшается.\n",
    "\n",
    "Доля **свинца (Pb)** сначала увеличивается на этапе флотации и после первичной очитски, затем остатется примерно на одном уровне.\n",
    "\n",
    "В данных для каждого металла присутствуют выбросы."
   ]
  },
  {
   "cell_type": "markdown",
   "metadata": {
    "id": "yYCdbUYNBYlC"
   },
   "source": [
    "### Сравните распределения размеров гранул сырья на обучающей и тестовой выборках. Если распределения сильно отличаются друг от друга, оценка модели будет неправильной."
   ]
  },
  {
   "cell_type": "code",
   "execution_count": 70,
   "metadata": {
    "colab": {
     "base_uri": "https://localhost:8080/",
     "height": 72
    },
    "executionInfo": {
     "elapsed": 406,
     "status": "ok",
     "timestamp": 1666854203351,
     "user": {
      "displayName": "Роман Иванов",
      "userId": "11781047996542916843"
     },
     "user_tz": -180
    },
    "id": "KKJyoUrdBYlD",
    "outputId": "08091f58-e22a-4c76-a87b-1701efa8ab73"
   },
   "outputs": [
    {
     "data": {
      "image/png": "[encoded data removed]",
      "text/plain": [
       "<Figure size 720x216 with 1 Axes>"
      ]
     },
     "metadata": {
      "needs_background": "light"
     },
     "output_type": "display_data"
    },
    {
     "data": {
      "image/png": "[encoded data removed]",
      "text/plain": [
       "<Figure size 720x216 with 1 Axes>"
      ]
     },
     "metadata": {
      "needs_background": "light"
     },
     "output_type": "display_data"
    }
   ],
   "source": [
    "df_train[['rougher.input.feed_size']].boxplot(figsize=(10, 3), vert=False)\n",
    "plt.title('Размеры гранул сырья на этапе rougher на обучающей выборке')\n",
    "plt.show()\n",
    "df_test[['rougher.input.feed_size']].boxplot(figsize=(10, 3), vert=False)\n",
    "plt.title('Размеры гранул сырья на этапе rougher на тестовой выборке')\n",
    "plt.show()"
   ]
  },
  {
   "cell_type": "code",
   "execution_count": 71,
   "metadata": {
    "colab": {
     "base_uri": "https://localhost:8080/",
     "height": 72
    },
    "executionInfo": {
     "elapsed": 298,
     "status": "ok",
     "timestamp": 1666854203628,
     "user": {
      "displayName": "Роман Иванов",
      "userId": "11781047996542916843"
     },
     "user_tz": -180
    },
    "id": "0geYEiNzBYlD",
    "outputId": "b6ad4184-6623-439f-9646-4ae14513586f"
   },
   "outputs": [
    {
     "data": {
      "image/png": "[encoded data removed]",
      "text/plain": [
       "<Figure size 720x216 with 1 Axes>"
      ]
     },
     "metadata": {
      "needs_background": "light"
     },
     "output_type": "display_data"
    },
    {
     "data": {
      "image/png": "[encoded data removed]",
      "text/plain": [
       "<Figure size 720x216 with 1 Axes>"
      ]
     },
     "metadata": {
      "needs_background": "light"
     },
     "output_type": "display_data"
    }
   ],
   "source": [
    "df_train[['primary_cleaner.input.feed_size']].boxplot(figsize=(10, 3), vert=False)\n",
    "plt.title('Размеры гранул сырья на этапе primary_cleaner на обучающей выборке')\n",
    "plt.show()\n",
    "df_test[['primary_cleaner.input.feed_size']].boxplot(figsize=(10, 3), vert=False)\n",
    "plt.title('Размеры гранул сырья на этапе primary_cleaner на тестовой выборке')\n",
    "plt.show()"
   ]
  },
  {
   "cell_type": "code",
   "execution_count": 72,
   "metadata": {
    "colab": {
     "base_uri": "https://localhost:8080/",
     "height": 364
    },
    "executionInfo": {
     "elapsed": 21,
     "status": "ok",
     "timestamp": 1666854203634,
     "user": {
      "displayName": "Роман Иванов",
      "userId": "11781047996542916843"
     },
     "user_tz": -180
    },
    "id": "TcnkepQiBYlE",
    "outputId": "b6894589-5973-416d-faf8-9be55b8ec6af"
   },
   "outputs": [
    {
     "data": {
      "text/html": [
       "<div>\n",
       "<style scoped>\n",
       "    .dataframe tbody tr th:only-of-type {\n",
       "        vertical-align: middle;\n",
       "    }\n",
       "\n",
       "    .dataframe tbody tr th {\n",
       "        vertical-align: top;\n",
       "    }\n",
       "\n",
       "    .dataframe thead th {\n",
       "        text-align: right;\n",
       "    }\n",
       "</style>\n",
       "<table border=\"1\" class=\"dataframe\">\n",
       "  <thead>\n",
       "    <tr style=\"text-align: right;\">\n",
       "      <th></th>\n",
       "      <th>rougher.input.feed_size</th>\n",
       "      <th>primary_cleaner.input.feed_size</th>\n",
       "    </tr>\n",
       "  </thead>\n",
       "  <tbody>\n",
       "    <tr>\n",
       "      <th>count</th>\n",
       "      <td>14149.000000</td>\n",
       "      <td>14149.000000</td>\n",
       "    </tr>\n",
       "    <tr>\n",
       "      <th>mean</th>\n",
       "      <td>60.239856</td>\n",
       "      <td>7.322310</td>\n",
       "    </tr>\n",
       "    <tr>\n",
       "      <th>std</th>\n",
       "      <td>23.005310</td>\n",
       "      <td>0.614062</td>\n",
       "    </tr>\n",
       "    <tr>\n",
       "      <th>min</th>\n",
       "      <td>9.659576</td>\n",
       "      <td>1.080000</td>\n",
       "    </tr>\n",
       "    <tr>\n",
       "      <th>25%</th>\n",
       "      <td>48.966751</td>\n",
       "      <td>6.960000</td>\n",
       "    </tr>\n",
       "    <tr>\n",
       "      <th>50%</th>\n",
       "      <td>55.269784</td>\n",
       "      <td>7.290000</td>\n",
       "    </tr>\n",
       "    <tr>\n",
       "      <th>75%</th>\n",
       "      <td>66.007526</td>\n",
       "      <td>7.700000</td>\n",
       "    </tr>\n",
       "    <tr>\n",
       "      <th>max</th>\n",
       "      <td>484.967466</td>\n",
       "      <td>10.470000</td>\n",
       "    </tr>\n",
       "  </tbody>\n",
       "</table>\n",
       "</div>"
      ],
      "text/plain": [
       "       rougher.input.feed_size  primary_cleaner.input.feed_size\n",
       "count             14149.000000                     14149.000000\n",
       "mean                 60.239856                         7.322310\n",
       "std                  23.005310                         0.614062\n",
       "min                   9.659576                         1.080000\n",
       "25%                  48.966751                         6.960000\n",
       "50%                  55.269784                         7.290000\n",
       "75%                  66.007526                         7.700000\n",
       "max                 484.967466                        10.470000"
      ]
     },
     "execution_count": 72,
     "metadata": {},
     "output_type": "execute_result"
    }
   ],
   "source": [
    "df_train[[\n",
    "    'rougher.input.feed_size', \n",
    "    'primary_cleaner.input.feed_size']].describe()"
   ]
  },
  {
   "cell_type": "code",
   "execution_count": 73,
   "metadata": {
    "colab": {
     "base_uri": "https://localhost:8080/",
     "height": 364
    },
    "executionInfo": {
     "elapsed": 284,
     "status": "ok",
     "timestamp": 1666854203898,
     "user": {
      "displayName": "Роман Иванов",
      "userId": "11781047996542916843"
     },
     "user_tz": -180
    },
    "id": "MZJtFNspBYlF",
    "outputId": "bc561ddb-516e-4093-cb28-b156a4f4b03a"
   },
   "outputs": [
    {
     "data": {
      "text/html": [
       "<div>\n",
       "<style scoped>\n",
       "    .dataframe tbody tr th:only-of-type {\n",
       "        vertical-align: middle;\n",
       "    }\n",
       "\n",
       "    .dataframe tbody tr th {\n",
       "        vertical-align: top;\n",
       "    }\n",
       "\n",
       "    .dataframe thead th {\n",
       "        text-align: right;\n",
       "    }\n",
       "</style>\n",
       "<table border=\"1\" class=\"dataframe\">\n",
       "  <thead>\n",
       "    <tr style=\"text-align: right;\">\n",
       "      <th></th>\n",
       "      <th>rougher.input.feed_size</th>\n",
       "      <th>primary_cleaner.input.feed_size</th>\n",
       "    </tr>\n",
       "  </thead>\n",
       "  <tbody>\n",
       "    <tr>\n",
       "      <th>count</th>\n",
       "      <td>5290.000000</td>\n",
       "      <td>5290.000000</td>\n",
       "    </tr>\n",
       "    <tr>\n",
       "      <th>mean</th>\n",
       "      <td>55.952754</td>\n",
       "      <td>7.266339</td>\n",
       "    </tr>\n",
       "    <tr>\n",
       "      <th>std</th>\n",
       "      <td>19.080334</td>\n",
       "      <td>0.610219</td>\n",
       "    </tr>\n",
       "    <tr>\n",
       "      <th>min</th>\n",
       "      <td>0.046369</td>\n",
       "      <td>5.650000</td>\n",
       "    </tr>\n",
       "    <tr>\n",
       "      <th>25%</th>\n",
       "      <td>43.906504</td>\n",
       "      <td>6.890000</td>\n",
       "    </tr>\n",
       "    <tr>\n",
       "      <th>50%</th>\n",
       "      <td>50.846843</td>\n",
       "      <td>7.250000</td>\n",
       "    </tr>\n",
       "    <tr>\n",
       "      <th>75%</th>\n",
       "      <td>62.451165</td>\n",
       "      <td>7.600000</td>\n",
       "    </tr>\n",
       "    <tr>\n",
       "      <th>max</th>\n",
       "      <td>392.494040</td>\n",
       "      <td>15.500000</td>\n",
       "    </tr>\n",
       "  </tbody>\n",
       "</table>\n",
       "</div>"
      ],
      "text/plain": [
       "       rougher.input.feed_size  primary_cleaner.input.feed_size\n",
       "count              5290.000000                      5290.000000\n",
       "mean                 55.952754                         7.266339\n",
       "std                  19.080334                         0.610219\n",
       "min                   0.046369                         5.650000\n",
       "25%                  43.906504                         6.890000\n",
       "50%                  50.846843                         7.250000\n",
       "75%                  62.451165                         7.600000\n",
       "max                 392.494040                        15.500000"
      ]
     },
     "execution_count": 73,
     "metadata": {},
     "output_type": "execute_result"
    }
   ],
   "source": [
    "df_test[[\n",
    "    'rougher.input.feed_size', \n",
    "    'primary_cleaner.input.feed_size']].describe()"
   ]
  },
  {
   "cell_type": "markdown",
   "metadata": {
    "id": "OWuJc16EBYlG"
   },
   "source": [
    "Для этапа флотации и первичной очистки распределение гранул находится примерно в одинаковом диапазоне.\n",
    "\n",
    "Значимых различий между распределениями для выборок не наблюдается.\n"
   ]
  },
  {
   "cell_type": "markdown",
   "metadata": {
    "id": "LH9KIrodBYlH"
   },
   "source": [
    "### Исследуйте суммарную концентрацию всех веществ на разных стадиях: в сырье, в черновом и финальном концентратах."
   ]
  },
  {
   "cell_type": "code",
   "execution_count": 74,
   "metadata": {
    "executionInfo": {
     "elapsed": 19,
     "status": "ok",
     "timestamp": 1666854203899,
     "user": {
      "displayName": "Роман Иванов",
      "userId": "11781047996542916843"
     },
     "user_tz": -180
    },
    "id": "YDKCQqNWBYlH"
   },
   "outputs": [],
   "source": [
    "#Суммарная концентрация веществ в сырье\n",
    "sum_concentrate_rougher = pd.DataFrame(\n",
    "    df_full['rougher.input.feed_ag'] + \n",
    "    df_full['rougher.input.feed_pb'] + \n",
    "    df_full['rougher.input.feed_sol'] +\n",
    "    df_full['rougher.input.feed_au'])\n",
    "\n",
    "#Суммарная концентрация веществ в черновом концентрате\n",
    "sum_concentrate_rougher_output = pd.DataFrame(\n",
    "    df_full['rougher.output.concentrate_ag'] + \n",
    "    df_full['rougher.output.concentrate_pb'] + \n",
    "    df_full['rougher.output.concentrate_sol'] +\n",
    "    df_full['rougher.output.concentrate_au'])\n",
    "\n",
    "#Суммарная концентрация веществ в первичной очистке.\n",
    "sum_concentrate_primary_cleaner = pd.DataFrame(\n",
    "    df_full['primary_cleaner.output.concentrate_ag'] + \n",
    "    df_full['primary_cleaner.output.concentrate_pb'] + \n",
    "    df_full['primary_cleaner.output.concentrate_sol'] +\n",
    "    df_full['primary_cleaner.output.concentrate_au'])\n",
    "\n",
    "#Суммарная концентрация веществ в финальном концентрате\n",
    "sum_concentrate_final = pd.DataFrame(\n",
    "    df_full['final.output.concentrate_ag'] + \n",
    "    df_full['final.output.concentrate_pb'] + \n",
    "    df_full['final.output.concentrate_sol'] +\n",
    "    df_full['final.output.concentrate_au'])"
   ]
  },
  {
   "cell_type": "code",
   "execution_count": 75,
   "metadata": {
    "colab": {
     "base_uri": "https://localhost:8080/",
     "height": 424
    },
    "executionInfo": {
     "elapsed": 21,
     "status": "ok",
     "timestamp": 1666854203902,
     "user": {
      "displayName": "Роман Иванов",
      "userId": "11781047996542916843"
     },
     "user_tz": -180
    },
    "id": "SafYe8QcBYlJ",
    "outputId": "7e233255-8233-4665-b497-7f2a4c3f1d74"
   },
   "outputs": [
    {
     "data": {
      "text/html": [
       "<div>\n",
       "<style scoped>\n",
       "    .dataframe tbody tr th:only-of-type {\n",
       "        vertical-align: middle;\n",
       "    }\n",
       "\n",
       "    .dataframe tbody tr th {\n",
       "        vertical-align: top;\n",
       "    }\n",
       "\n",
       "    .dataframe thead th {\n",
       "        text-align: right;\n",
       "    }\n",
       "</style>\n",
       "<table border=\"1\" class=\"dataframe\">\n",
       "  <thead>\n",
       "    <tr style=\"text-align: right;\">\n",
       "      <th></th>\n",
       "      <th>sum_concentrate_rougher</th>\n",
       "      <th>sum_concentrate_rougher_output</th>\n",
       "      <th>sum_concentrate_primary_cleaner</th>\n",
       "      <th>sum_concentrate_final</th>\n",
       "    </tr>\n",
       "  </thead>\n",
       "  <tbody>\n",
       "    <tr>\n",
       "      <th>0</th>\n",
       "      <td>51.680034</td>\n",
       "      <td>66.424950</td>\n",
       "      <td>72.640924</td>\n",
       "      <td>63.644396</td>\n",
       "    </tr>\n",
       "    <tr>\n",
       "      <th>1</th>\n",
       "      <td>50.659114</td>\n",
       "      <td>67.012710</td>\n",
       "      <td>72.543485</td>\n",
       "      <td>63.957723</td>\n",
       "    </tr>\n",
       "    <tr>\n",
       "      <th>2</th>\n",
       "      <td>50.609929</td>\n",
       "      <td>66.103793</td>\n",
       "      <td>72.095042</td>\n",
       "      <td>64.311180</td>\n",
       "    </tr>\n",
       "    <tr>\n",
       "      <th>3</th>\n",
       "      <td>51.061546</td>\n",
       "      <td>65.752751</td>\n",
       "      <td>59.957723</td>\n",
       "      <td>63.573449</td>\n",
       "    </tr>\n",
       "    <tr>\n",
       "      <th>4</th>\n",
       "      <td>47.859163</td>\n",
       "      <td>65.908382</td>\n",
       "      <td>71.321010</td>\n",
       "      <td>64.004667</td>\n",
       "    </tr>\n",
       "    <tr>\n",
       "      <th>...</th>\n",
       "      <td>...</td>\n",
       "      <td>...</td>\n",
       "      <td>...</td>\n",
       "      <td>...</td>\n",
       "    </tr>\n",
       "    <tr>\n",
       "      <th>19434</th>\n",
       "      <td>53.415050</td>\n",
       "      <td>70.781325</td>\n",
       "      <td>59.001692</td>\n",
       "      <td>68.098589</td>\n",
       "    </tr>\n",
       "    <tr>\n",
       "      <th>19435</th>\n",
       "      <td>53.696482</td>\n",
       "      <td>70.539603</td>\n",
       "      <td>59.703912</td>\n",
       "      <td>68.274362</td>\n",
       "    </tr>\n",
       "    <tr>\n",
       "      <th>19436</th>\n",
       "      <td>54.589604</td>\n",
       "      <td>55.376330</td>\n",
       "      <td>59.561096</td>\n",
       "      <td>68.226068</td>\n",
       "    </tr>\n",
       "    <tr>\n",
       "      <th>19437</th>\n",
       "      <td>54.027355</td>\n",
       "      <td>69.201689</td>\n",
       "      <td>57.216686</td>\n",
       "      <td>68.200449</td>\n",
       "    </tr>\n",
       "    <tr>\n",
       "      <th>19438</th>\n",
       "      <td>53.535054</td>\n",
       "      <td>69.544003</td>\n",
       "      <td>55.748041</td>\n",
       "      <td>68.353154</td>\n",
       "    </tr>\n",
       "  </tbody>\n",
       "</table>\n",
       "<p>19439 rows × 4 columns</p>\n",
       "</div>"
      ],
      "text/plain": [
       "       sum_concentrate_rougher  sum_concentrate_rougher_output  \\\n",
       "0                    51.680034                       66.424950   \n",
       "1                    50.659114                       67.012710   \n",
       "2                    50.609929                       66.103793   \n",
       "3                    51.061546                       65.752751   \n",
       "4                    47.859163                       65.908382   \n",
       "...                        ...                             ...   \n",
       "19434                53.415050                       70.781325   \n",
       "19435                53.696482                       70.539603   \n",
       "19436                54.589604                       55.376330   \n",
       "19437                54.027355                       69.201689   \n",
       "19438                53.535054                       69.544003   \n",
       "\n",
       "       sum_concentrate_primary_cleaner  sum_concentrate_final  \n",
       "0                            72.640924              63.644396  \n",
       "1                            72.543485              63.957723  \n",
       "2                            72.095042              64.311180  \n",
       "3                            59.957723              63.573449  \n",
       "4                            71.321010              64.004667  \n",
       "...                                ...                    ...  \n",
       "19434                        59.001692              68.098589  \n",
       "19435                        59.703912              68.274362  \n",
       "19436                        59.561096              68.226068  \n",
       "19437                        57.216686              68.200449  \n",
       "19438                        55.748041              68.353154  \n",
       "\n",
       "[19439 rows x 4 columns]"
      ]
     },
     "execution_count": 75,
     "metadata": {},
     "output_type": "execute_result"
    }
   ],
   "source": [
    "sum_concentrate = pd.concat(\n",
    "    [sum_concentrate_rougher, sum_concentrate_rougher_output, sum_concentrate_primary_cleaner,sum_concentrate_final], \n",
    "    axis=1, \n",
    "    join='inner')\n",
    "\n",
    "sum_concentrate.columns = (\n",
    "    ['sum_concentrate_rougher',\n",
    "     'sum_concentrate_rougher_output',\n",
    "     'sum_concentrate_primary_cleaner', \n",
    "     'sum_concentrate_final'])\n",
    "\n",
    "sum_concentrate"
   ]
  },
  {
   "cell_type": "code",
   "execution_count": 76,
   "metadata": {
    "colab": {
     "base_uri": "https://localhost:8080/",
     "height": 338
    },
    "executionInfo": {
     "elapsed": 316,
     "status": "ok",
     "timestamp": 1666854204199,
     "user": {
      "displayName": "Роман Иванов",
      "userId": "11781047996542916843"
     },
     "user_tz": -180
    },
    "id": "Xta6uiMgBYlJ",
    "outputId": "82a4eec3-9ca1-4e87-aed9-86633bcd2f20"
   },
   "outputs": [
    {
     "data": {
      "text/plain": [
       "<AxesSubplot:>"
      ]
     },
     "execution_count": 76,
     "metadata": {},
     "output_type": "execute_result"
    },
    {
     "data": {
      "image/png": "[encoded data removed]",
      "text/plain": [
       "<Figure size 720x360 with 1 Axes>"
      ]
     },
     "metadata": {
      "needs_background": "light"
     },
     "output_type": "display_data"
    }
   ],
   "source": [
    "sum_concentrate.boxplot(figsize=(10, 5), vert=False)"
   ]
  },
  {
   "cell_type": "code",
   "execution_count": 80,
   "metadata": {},
   "outputs": [
    {
     "data": {
      "text/plain": [
       "(13716, 87)"
      ]
     },
     "execution_count": 80,
     "metadata": {},
     "output_type": "execute_result"
    }
   ],
   "source": [
    "df_train.shape"
   ]
  },
  {
   "cell_type": "code",
   "execution_count": 79,
   "metadata": {},
   "outputs": [],
   "source": [
    "#Удалим нулевые значения концентраций\n",
    "\n",
    "df_train = df_train[(\n",
    "    (df_train['rougher.input.feed_ag'] != 0) & \n",
    "    (df_train['rougher.input.feed_pb'] != 0) & \n",
    "    (df_train['rougher.input.feed_sol'] != 0) & \n",
    "    (df_train['rougher.input.feed_au'] != 0))]\n",
    "\n",
    "df_train = df_train[(\n",
    "    (df_train['rougher.output.concentrate_au'] != 0) & \n",
    "    (df_train['rougher.output.concentrate_ag'] != 0) & \n",
    "    (df_train['rougher.output.concentrate_pb'] != 0) & \n",
    "    (df_train['rougher.output.concentrate_sol'] != 0))]\n",
    "\n",
    "df_train = df_train[(\n",
    "    (df_train['primary_cleaner.output.concentrate_au'] != 0) & \n",
    "    (df_train['primary_cleaner.output.concentrate_ag'] != 0) & \n",
    "    (df_train['primary_cleaner.output.concentrate_pb'] != 0) & \n",
    "    (df_train['primary_cleaner.output.concentrate_sol'] != 0))]\n",
    "\n",
    "df_train = df_train[(\n",
    "    (df_train['final.output.concentrate_au'] != 0) & \n",
    "    (df_train['final.output.concentrate_ag'] != 0) & \n",
    "    (df_train['final.output.concentrate_pb'] != 0) & \n",
    "    (df_train['final.output.concentrate_sol'] != 0))]\n",
    "\n"
   ]
  },
  {
   "cell_type": "code",
   "execution_count": 94,
   "metadata": {},
   "outputs": [
    {
     "data": {
      "text/plain": [
       "(13716, 54)"
      ]
     },
     "execution_count": 94,
     "metadata": {},
     "output_type": "execute_result"
    }
   ],
   "source": [
    "df_train.shape"
   ]
  },
  {
   "cell_type": "markdown",
   "metadata": {
    "id": "XmXRxQDgBYlK"
   },
   "source": [
    "Суммарная концентрация увеличивается к финальному этапу, одновременно с этим сократился межквартильный размах.\n"
   ]
  },
  {
   "cell_type": "markdown",
   "metadata": {
    "id": "YpnLwJGJBYlK"
   },
   "source": [
    "## Модель"
   ]
  },
  {
   "cell_type": "markdown",
   "metadata": {
    "id": "woOqwzuNBYlK"
   },
   "source": [
    "### Напишите функцию для вычисления итоговой sMAPE."
   ]
  },
  {
   "cell_type": "markdown",
   "metadata": {
    "id": "X47oe3bPBYlL"
   },
   "source": [
    "Для решения задачи введём новую метрику качества — sMAPE (англ. Symmetric Mean Absolute Percentage Error, «симметричное среднее абсолютное процентное отклонение»).\n",
    "Она похожа на MAE, но выражается не в абсолютных величинах, а в относительных. \n",
    "\n",
    "Она одинаково учитывает масштаб и целевого признака, и предсказания.\n",
    "Метрика sMAPE вычисляется так:\n",
    "\n",
    "**sSMAPE = ( 1/N Σ((|Yi - Y'i|) / ((|Yi| + |Y'i|) / 2))) * 100%**"
   ]
  },
  {
   "cell_type": "code",
   "execution_count": 81,
   "metadata": {
    "executionInfo": {
     "elapsed": 304,
     "status": "ok",
     "timestamp": 1666854311067,
     "user": {
      "displayName": "Роман Иванов",
      "userId": "11781047996542916843"
     },
     "user_tz": -180
    },
    "id": "B0MdyV-BBYlL"
   },
   "outputs": [],
   "source": [
    "#Функция для выисления sMAPE\n",
    "\n",
    "def get_smape(target, predict):\n",
    "    smape = (1/len(target))*np.sum((np.abs(target - predict))/((np.abs(target)+np.abs(predict))/2))*100\n",
    "    return smape\n",
    "\n",
    "smape_scorer = make_scorer(get_smape, greater_is_better = False)\n",
    "\n",
    "#Итоговая метрика sMAPE\n",
    "\n",
    "def get_final_smape(rougher, final):\n",
    "    final = 0.25*rougher+0.75*final\n",
    "    return final"
   ]
  },
  {
   "cell_type": "markdown",
   "metadata": {
    "id": "qY09G9rABYlL"
   },
   "source": [
    "### Обучите разные модели и оцените их качество кросс-валидацией. Выберите лучшую модель и проверьте её на тестовой выборке. Опишите выводы."
   ]
  },
  {
   "cell_type": "markdown",
   "metadata": {
    "id": "TWvlga-sBYlL"
   },
   "source": [
    "Учитывая, что тестовая и тренировочная выборки отличаются количеством признаков, следует удалить лишние."
   ]
  },
  {
   "cell_type": "code",
   "execution_count": 82,
   "metadata": {
    "executionInfo": {
     "elapsed": 293,
     "status": "ok",
     "timestamp": 1666854314811,
     "user": {
      "displayName": "Роман Иванов",
      "userId": "11781047996542916843"
     },
     "user_tz": -180
    },
    "id": "40LLjBo2BYlM"
   },
   "outputs": [],
   "source": [
    "#Из удаляемых признаков уберем целевые\n",
    "for_drop = set(missed_attribute) - set(['rougher.output.recovery','final.output.recovery'])\n",
    "\n",
    "#Удалим из обучающей выборки лишние признаки\n",
    "df_train = df_train.drop(columns=for_drop, axis=1)"
   ]
  },
  {
   "cell_type": "code",
   "execution_count": 83,
   "metadata": {
    "executionInfo": {
     "elapsed": 7,
     "status": "ok",
     "timestamp": 1666854315859,
     "user": {
      "displayName": "Роман Иванов",
      "userId": "11781047996542916843"
     },
     "user_tz": -180
    },
    "id": "Fzo8le2wBYlM"
   },
   "outputs": [],
   "source": [
    "#Удалим столбцы с датой, так как они далее не понадобятся\n",
    "df_train = df_train.drop('date', axis=1)\n",
    "df_test = df_test.drop('date', axis=1)"
   ]
  },
  {
   "cell_type": "code",
   "execution_count": 84,
   "metadata": {
    "executionInfo": {
     "elapsed": 3,
     "status": "ok",
     "timestamp": 1666854316833,
     "user": {
      "displayName": "Роман Иванов",
      "userId": "11781047996542916843"
     },
     "user_tz": -180
    },
    "id": "1F0g0p10BYlN"
   },
   "outputs": [],
   "source": [
    "#Разделение данных тренировочной выборки.\n",
    "\n",
    "features_train = df_train.drop(['rougher.output.recovery','final.output.recovery'], axis=1)\n",
    "target_rougher_train = df_train['rougher.output.recovery']\n",
    "target_final_train = df_train['final.output.recovery']"
   ]
  },
  {
   "cell_type": "code",
   "execution_count": 85,
   "metadata": {
    "executionInfo": {
     "elapsed": 5,
     "status": "ok",
     "timestamp": 1666854317918,
     "user": {
      "displayName": "Роман Иванов",
      "userId": "11781047996542916843"
     },
     "user_tz": -180
    },
    "id": "pcjHm80nBYlN"
   },
   "outputs": [],
   "source": [
    "#Cписок для записи результатов кросс валидации разных алгоритмов\n",
    "itog_val = {}"
   ]
  },
  {
   "cell_type": "code",
   "execution_count": 86,
   "metadata": {
    "colab": {
     "base_uri": "https://localhost:8080/"
    },
    "executionInfo": {
     "elapsed": 555,
     "status": "ok",
     "timestamp": 1666854321499,
     "user": {
      "displayName": "Роман Иванов",
      "userId": "11781047996542916843"
     },
     "user_tz": -180
    },
    "id": "GqQWwYvoBYlN",
    "outputId": "e9e6c95e-6048-4584-89fa-25ac8a3987d9"
   },
   "outputs": [
    {
     "name": "stdout",
     "output_type": "stream",
     "text": [
      "Итоговая sMAPE: 10.023124524855415\n"
     ]
    }
   ],
   "source": [
    "#Модель Линейная регрессия\n",
    "model_LR_rougher = LinearRegression()\n",
    "#sMAPE этапа rougher\n",
    "smape_rougher = cross_val_score(model_LR_rougher,\n",
    "                          features_train,\n",
    "                          target_rougher_train,\n",
    "                          scoring=smape_scorer,\n",
    "                          cv=5)\n",
    "final_smape_rougher = smape_rougher.mean()\n",
    "final_smape_rougher\n",
    "#Модель Линейная регрессия\n",
    "model_LR_final = LinearRegression()\n",
    "#sMAPE этапа final\n",
    "smape_final = cross_val_score(model_LR_final,\n",
    "                        features_train,\n",
    "                        target_final_train,\n",
    "                        scoring=smape_scorer,\n",
    "                        cv=5)\n",
    "final_smape_final = smape_final.mean()\n",
    "\n",
    "#Итоговая метрика sMAPE\n",
    "result_smape = get_final_smape(final_smape_rougher, final_smape_final)*(-1)\n",
    "#Сохранение результата\n",
    "itog_val['LogisticRegression'] = result_smape\n",
    "print('Итоговая sMAPE:', result_smape)"
   ]
  },
  {
   "cell_type": "code",
   "execution_count": 88,
   "metadata": {
    "colab": {
     "base_uri": "https://localhost:8080/"
    },
    "executionInfo": {
     "elapsed": 891811,
     "status": "ok",
     "timestamp": 1666855222476,
     "user": {
      "displayName": "Роман Иванов",
      "userId": "11781047996542916843"
     },
     "user_tz": -180
    },
    "id": "k4MjiDwhBYlO",
    "outputId": "9bacf880-c898-4d2a-cda8-c7fd49752ace"
   },
   "outputs": [
    {
     "name": "stdout",
     "output_type": "stream",
     "text": [
      "Итоговая sMAPE: 8.610267702780122\n",
      "Лучшие параметры: 40 4\n"
     ]
    }
   ],
   "source": [
    "#Модель Случайный Лес\n",
    "best_result = 100\n",
    "best_est = 0\n",
    "best_depth = 0\n",
    "for est in range(20, 100, 20):\n",
    "    for depth in range (2,8,2):\n",
    "        #Модель\n",
    "        model_RFR_rougher = RandomForestRegressor(n_estimators=est, max_depth=depth, random_state=12345)\n",
    "        #sMAPE этапа rougher\n",
    "        smape_rougher = cross_val_score(model_RFR_rougher,\n",
    "                                  features_train,\n",
    "                                  target_rougher_train,\n",
    "                                  scoring=smape_scorer,\n",
    "                                  cv=5)\n",
    "        final_smape_rougher = smape_rougher.mean()\n",
    "        #Модель \n",
    "        model_RFR_final = RandomForestRegressor(n_estimators=est, max_depth=depth, random_state=12345)\n",
    "        #sMAPE этапа final\n",
    "        smape_final = cross_val_score(model_RFR_final,\n",
    "                                features_train,\n",
    "                                target_final_train,\n",
    "                                scoring=smape_scorer,\n",
    "                                cv=5)\n",
    "        final_smape_final = smape_final.mean()\n",
    "\n",
    "        #Итоговая метрика sMAPE\n",
    "        result_smape = get_final_smape(final_smape_rougher, final_smape_final)*(-1)\n",
    "    \n",
    "        if result_smape < best_result:\n",
    "                    best_result = result_smape\n",
    "                    best_est = est\n",
    "                    best_depth = depth\n",
    "#Сохранение результата\n",
    "itog_val['RandomForestRegressor'] = result_smape\n",
    "print('Итоговая sMAPE:', result_smape)\n",
    "print('Лучшие параметры:', best_est, best_depth)"
   ]
  },
  {
   "cell_type": "code",
   "execution_count": 89,
   "metadata": {
    "colab": {
     "base_uri": "https://localhost:8080/"
    },
    "executionInfo": {
     "elapsed": 26234,
     "status": "ok",
     "timestamp": 1666855615774,
     "user": {
      "displayName": "Роман Иванов",
      "userId": "11781047996542916843"
     },
     "user_tz": -180
    },
    "id": "vk56hUVtBYlO",
    "outputId": "0c49e48d-bbd6-4766-cb84-f3c9a93743f8"
   },
   "outputs": [
    {
     "name": "stdout",
     "output_type": "stream",
     "text": [
      "Итоговая sMAPE: 10.858586828476508\n",
      "Лучшие параметры: 3\n"
     ]
    }
   ],
   "source": [
    "#Модель Деревья решений\n",
    "best_result = 100\n",
    "best_depth = 0\n",
    "\n",
    "for depth in range (2,10,1):\n",
    "    #Модель\n",
    "    model_DTR_rougher = DecisionTreeRegressor(max_depth=depth, random_state=12345)\n",
    "    #sMAPE этапа rougher\n",
    "    smape_rougher = cross_val_score(model_DTR_rougher,\n",
    "                                features_train,\n",
    "                                target_rougher_train,\n",
    "                                scoring=smape_scorer,\n",
    "                                cv=5)\n",
    "    final_smape_rougher = smape_rougher.mean()\n",
    "    #Модель\n",
    "    model_DTR_final = DecisionTreeRegressor(max_depth=depth, random_state=12345)\n",
    "    #sMAPE этапа final\n",
    "    smape_final = cross_val_score(model_DTR_final,\n",
    "                            features_train,\n",
    "                            target_final_train,\n",
    "                            scoring=smape_scorer,\n",
    "                            cv=5)\n",
    "    final_smape_final = smape_final.mean()\n",
    "\n",
    "    #Итоговая метрика sMAPE\n",
    "    result_smape = get_final_smape(final_smape_rougher, final_smape_final)*(-1)\n",
    "    \n",
    "    if result_smape < best_result:\n",
    "                best_result = result_smape\n",
    "                best_depth = depth\n",
    "#Сохранение результата\n",
    "itog_val['DecisionTreeRegressor'] = result_smape\n",
    "print('Итоговая sMAPE:', result_smape)\n",
    "print('Лучшие параметры:', best_depth)"
   ]
  },
  {
   "cell_type": "code",
   "execution_count": 90,
   "metadata": {
    "colab": {
     "base_uri": "https://localhost:8080/",
     "height": 143
    },
    "executionInfo": {
     "elapsed": 296,
     "status": "ok",
     "timestamp": 1666855657894,
     "user": {
      "displayName": "Роман Иванов",
      "userId": "11781047996542916843"
     },
     "user_tz": -180
    },
    "id": "TEBZRzcUBYlP",
    "outputId": "07f28baa-dd27-4614-eb18-a80e7294b78b"
   },
   "outputs": [
    {
     "data": {
      "text/html": [
       "<div>\n",
       "<style scoped>\n",
       "    .dataframe tbody tr th:only-of-type {\n",
       "        vertical-align: middle;\n",
       "    }\n",
       "\n",
       "    .dataframe tbody tr th {\n",
       "        vertical-align: top;\n",
       "    }\n",
       "\n",
       "    .dataframe thead th {\n",
       "        text-align: right;\n",
       "    }\n",
       "</style>\n",
       "<table border=\"1\" class=\"dataframe\">\n",
       "  <thead>\n",
       "    <tr style=\"text-align: right;\">\n",
       "      <th></th>\n",
       "      <th>Models</th>\n",
       "      <th>sMAPE</th>\n",
       "    </tr>\n",
       "  </thead>\n",
       "  <tbody>\n",
       "    <tr>\n",
       "      <th>0</th>\n",
       "      <td>LogisticRegression</td>\n",
       "      <td>10.023125</td>\n",
       "    </tr>\n",
       "    <tr>\n",
       "      <th>1</th>\n",
       "      <td>RandomForestRegressor</td>\n",
       "      <td>8.610268</td>\n",
       "    </tr>\n",
       "    <tr>\n",
       "      <th>2</th>\n",
       "      <td>DecisionTreeRegressor</td>\n",
       "      <td>10.858587</td>\n",
       "    </tr>\n",
       "  </tbody>\n",
       "</table>\n",
       "</div>"
      ],
      "text/plain": [
       "                  Models      sMAPE\n",
       "0     LogisticRegression  10.023125\n",
       "1  RandomForestRegressor   8.610268\n",
       "2  DecisionTreeRegressor  10.858587"
      ]
     },
     "execution_count": 90,
     "metadata": {},
     "output_type": "execute_result"
    }
   ],
   "source": [
    "#Результаты моделей\n",
    "\n",
    "itog_val_table = pd.DataFrame(list(itog_val.items()),columns=['Models', 'sMAPE'])\n",
    "itog_val_table"
   ]
  },
  {
   "cell_type": "markdown",
   "metadata": {
    "id": "Z13V1pf2V7nr"
   },
   "source": [
    "Лучший результат у RandomForestRegressor с параметрами количество деревьев: 20, глубина: 4."
   ]
  },
  {
   "cell_type": "code",
   "execution_count": 91,
   "metadata": {
    "executionInfo": {
     "elapsed": 238,
     "status": "ok",
     "timestamp": 1666855539700,
     "user": {
      "displayName": "Роман Иванов",
      "userId": "11781047996542916843"
     },
     "user_tz": -180
    },
    "id": "04IrL4_yBYlQ"
   },
   "outputs": [],
   "source": [
    "#Разделение данных тренировочной выборки.\n",
    "features_test = df_test.drop(['rougher.output.recovery','final.output.recovery'], axis=1)\n",
    "target_rougher_test = df_test['rougher.output.recovery']\n",
    "target_final_test = df_test['final.output.recovery']"
   ]
  },
  {
   "cell_type": "code",
   "execution_count": 92,
   "metadata": {
    "colab": {
     "base_uri": "https://localhost:8080/"
    },
    "executionInfo": {
     "elapsed": 9014,
     "status": "ok",
     "timestamp": 1666855553661,
     "user": {
      "displayName": "Роман Иванов",
      "userId": "11781047996542916843"
     },
     "user_tz": -180
    },
    "id": "cl0idpf4BYlQ",
    "outputId": "cfc46935-5f85-408a-87b6-9d643a56f91c"
   },
   "outputs": [
    {
     "data": {
      "text/plain": [
       "9.408783788062488"
      ]
     },
     "execution_count": 92,
     "metadata": {},
     "output_type": "execute_result"
    }
   ],
   "source": [
    "#Обучение модели на тестовой выборке, получение предсказаний\n",
    "\n",
    "model_test_rougher = RandomForestRegressor(n_estimators=40, max_depth=4, random_state=12345)\n",
    "model_test_rougher.fit(features_train, target_rougher_train)\n",
    "predicted_rougher = model_test_rougher.predict(features_test)\n",
    "\n",
    "model_test_final = RandomForestRegressor(n_estimators=40, max_depth=4, random_state=12345)\n",
    "model_test_final.fit(features_train, target_final_train)\n",
    "predicted_final = model_test_final.predict(features_test)\n",
    "\n",
    "#Рассчет метрики sMAPE\n",
    "smape_test_rougher = get_smape(target_rougher_test, predicted_rougher)\n",
    "smape_test_final = get_smape(target_final_test, predicted_final)\n",
    "final_smape_test = get_final_smape(smape_test_rougher, smape_test_final)\n",
    "\n",
    "final_smape_test"
   ]
  },
  {
   "cell_type": "code",
   "execution_count": 93,
   "metadata": {
    "colab": {
     "base_uri": "https://localhost:8080/"
    },
    "executionInfo": {
     "elapsed": 394,
     "status": "ok",
     "timestamp": 1666855557888,
     "user": {
      "displayName": "Роман Иванов",
      "userId": "11781047996542916843"
     },
     "user_tz": -180
    },
    "id": "LCaMwdcMd18F",
    "outputId": "b38c3e9b-87e1-451c-f002-f21a96a1e37c"
   },
   "outputs": [
    {
     "data": {
      "text/plain": [
       "9.827613822597584"
      ]
     },
     "execution_count": 93,
     "metadata": {},
     "output_type": "execute_result"
    }
   ],
   "source": [
    "#Обучение DummyRegressor\n",
    "dummy_rougher = DummyRegressor(strategy=\"mean\").fit(features_train, target_rougher_train)\n",
    "dummy_final = DummyRegressor(strategy=\"mean\").fit(features_train, target_final_train)\n",
    "#Получение предсказаний\n",
    "dummy_predicted_rougher = dummy_rougher.predict(features_test)\n",
    "dummy_predicted_final = dummy_final.predict(features_test)\n",
    "#Рассчет метрики sMAPE\n",
    "dummy_rougher_smape = get_smape(target_rougher_test, dummy_predicted_rougher)\n",
    "dummy_final_smape = get_smape(target_final_test, dummy_predicted_final)\n",
    "dummy_smape = get_final_smape(dummy_rougher_smape, dummy_final_smape)\n",
    "\n",
    "dummy_smape"
   ]
  },
  {
   "cell_type": "markdown",
   "metadata": {
    "id": "7e2-JmafWRC3"
   },
   "source": [
    "Используемая модель показала результат лучше, чем фиктивный DummyRegressor, что говорит о качестве полученной модели."
   ]
  },
  {
   "cell_type": "markdown",
   "metadata": {},
   "source": [
    "## Общий вывод"
   ]
  },
  {
   "cell_type": "markdown",
   "metadata": {},
   "source": [
    "В проекте рассмотрены данные технологического процесса по получчению золота из руды (обогащение).\n",
    "\n",
    "Изучаемые данные содержат информацию о различных показателях сырья, промежуточных и конечных продуктах, а также параметры протекания процесса на различных этапах.\n",
    "\n",
    "В ходе работы имеющиеся данные были обработаны, заполнены пропуски, удалены нулевые значения. Также была проверена правильность расчета эффективности обогащения.\n",
    "\n",
    "Исследование суммарной концентрации веществ на различных этапах показало, что: \n",
    "* доля золота (Au) после каждого этапа очитски постепенно увеличивается.\n",
    "* доля серебра (Ag) увеличивается на этапе флотации, а затем постепенно уменьшается.\n",
    "* доля свинца (Pb) сначала увеличивается на этапе флотации и после первичной очитски, затем остатется примерно на одном уровне.\n",
    "\n",
    "Для возможности прогнозирования результата обогащения была построена и проверена на адекватность регрессионная модель.\n",
    "Модель, показавшая лучший результат прогноза - RandomForestRegressor.\n",
    "\n",
    "\n"
   ]
  }
 ],
 "metadata": {
  "ExecuteTimeLog": [
   {
    "duration": 558,
    "start_time": "2022-10-21T06:52:31.242Z"
   },
   {
    "duration": 112,
    "start_time": "2022-10-21T06:52:33.144Z"
   },
   {
    "duration": 1625,
    "start_time": "2022-10-21T06:53:05.474Z"
   },
   {
    "duration": 12,
    "start_time": "2022-10-21T06:58:06.801Z"
   },
   {
    "duration": 41,
    "start_time": "2022-10-21T06:58:24.624Z"
   },
   {
    "duration": 321,
    "start_time": "2022-10-21T06:58:54.779Z"
   },
   {
    "duration": 30,
    "start_time": "2022-10-21T07:49:32.814Z"
   },
   {
    "duration": 8,
    "start_time": "2022-10-21T07:50:24.323Z"
   },
   {
    "duration": 15,
    "start_time": "2022-10-21T07:52:54.845Z"
   },
   {
    "duration": 8,
    "start_time": "2022-10-21T07:55:08.188Z"
   },
   {
    "duration": 9,
    "start_time": "2022-10-21T07:55:27.900Z"
   },
   {
    "duration": 5,
    "start_time": "2022-10-21T07:55:58.333Z"
   },
   {
    "duration": 16,
    "start_time": "2022-10-21T07:56:43.930Z"
   },
   {
    "duration": 5,
    "start_time": "2022-10-21T08:41:05.597Z"
   },
   {
    "duration": 7,
    "start_time": "2022-10-21T08:41:52.599Z"
   },
   {
    "duration": 723,
    "start_time": "2022-10-21T08:43:50.889Z"
   },
   {
    "duration": 5,
    "start_time": "2022-10-21T08:44:40.312Z"
   },
   {
    "duration": 5,
    "start_time": "2022-10-21T08:44:54.312Z"
   },
   {
    "duration": 7,
    "start_time": "2022-10-21T08:46:34.536Z"
   },
   {
    "duration": 10,
    "start_time": "2022-10-21T08:46:38.857Z"
   },
   {
    "duration": 5,
    "start_time": "2022-10-21T08:46:40.744Z"
   },
   {
    "duration": 9,
    "start_time": "2022-10-21T08:46:43.152Z"
   },
   {
    "duration": 46,
    "start_time": "2022-10-21T10:10:10.107Z"
   },
   {
    "duration": 3,
    "start_time": "2022-10-21T10:10:18.370Z"
   },
   {
    "duration": 4,
    "start_time": "2022-10-21T10:10:30.279Z"
   },
   {
    "duration": 4,
    "start_time": "2022-10-21T10:11:06.372Z"
   },
   {
    "duration": 2,
    "start_time": "2022-10-21T10:12:48.104Z"
   },
   {
    "duration": 9,
    "start_time": "2022-10-21T10:15:27.087Z"
   },
   {
    "duration": 20,
    "start_time": "2022-10-21T10:15:36.487Z"
   },
   {
    "duration": 5,
    "start_time": "2022-10-21T10:16:06.104Z"
   },
   {
    "duration": 11,
    "start_time": "2022-10-21T10:16:17.047Z"
   },
   {
    "duration": 14,
    "start_time": "2022-10-21T10:17:11.622Z"
   },
   {
    "duration": 4,
    "start_time": "2022-10-21T10:30:04.462Z"
   },
   {
    "duration": 5,
    "start_time": "2022-10-21T10:30:15.782Z"
   },
   {
    "duration": 5,
    "start_time": "2022-10-21T10:30:39.998Z"
   },
   {
    "duration": 5,
    "start_time": "2022-10-21T10:30:57.998Z"
   },
   {
    "duration": 4,
    "start_time": "2022-10-21T10:32:19.439Z"
   },
   {
    "duration": 30,
    "start_time": "2022-10-21T10:45:52.121Z"
   },
   {
    "duration": 254,
    "start_time": "2022-10-21T10:46:01.801Z"
   },
   {
    "duration": 34,
    "start_time": "2022-10-21T10:47:16.184Z"
   },
   {
    "duration": 55,
    "start_time": "2022-10-21T10:47:30.692Z"
   },
   {
    "duration": 48,
    "start_time": "2022-10-21T10:47:43.377Z"
   },
   {
    "duration": 41,
    "start_time": "2022-10-21T10:51:23.928Z"
   },
   {
    "duration": 48,
    "start_time": "2022-10-21T10:51:31.288Z"
   },
   {
    "duration": 10,
    "start_time": "2022-10-21T10:56:43.831Z"
   },
   {
    "duration": 2,
    "start_time": "2022-10-21T10:57:47.732Z"
   },
   {
    "duration": 9,
    "start_time": "2022-10-21T10:57:48.232Z"
   },
   {
    "duration": 3,
    "start_time": "2022-10-21T10:58:32.318Z"
   },
   {
    "duration": 10,
    "start_time": "2022-10-21T10:58:33.541Z"
   },
   {
    "duration": 5,
    "start_time": "2022-10-21T10:59:11.518Z"
   },
   {
    "duration": 3,
    "start_time": "2022-10-21T11:16:59.096Z"
   },
   {
    "duration": 685,
    "start_time": "2022-10-21T11:16:59.940Z"
   },
   {
    "duration": 25,
    "start_time": "2022-10-21T11:17:03.278Z"
   },
   {
    "duration": 124,
    "start_time": "2022-10-21T11:17:08.182Z"
   },
   {
    "duration": 110,
    "start_time": "2022-10-21T11:17:08.814Z"
   },
   {
    "duration": 5,
    "start_time": "2022-10-21T11:17:10.687Z"
   },
   {
    "duration": 3,
    "start_time": "2022-10-21T11:17:11.374Z"
   },
   {
    "duration": 5,
    "start_time": "2022-10-21T11:17:12.414Z"
   },
   {
    "duration": 3,
    "start_time": "2022-10-21T11:17:14.789Z"
   },
   {
    "duration": 19,
    "start_time": "2022-10-21T11:17:15.254Z"
   },
   {
    "duration": 2249,
    "start_time": "2022-10-21T11:17:17.974Z"
   },
   {
    "duration": 5,
    "start_time": "2022-10-21T11:20:43.670Z"
   },
   {
    "duration": 659,
    "start_time": "2022-10-21T11:20:44.766Z"
   },
   {
    "duration": 19,
    "start_time": "2022-10-21T11:20:45.829Z"
   },
   {
    "duration": 28294,
    "start_time": "2022-10-21T11:20:54.984Z"
   },
   {
    "duration": 4,
    "start_time": "2022-10-21T11:32:33.210Z"
   },
   {
    "duration": 3,
    "start_time": "2022-10-21T11:32:52.823Z"
   },
   {
    "duration": 647,
    "start_time": "2022-10-21T11:32:57.200Z"
   },
   {
    "duration": 21,
    "start_time": "2022-10-21T11:32:57.850Z"
   },
   {
    "duration": 12,
    "start_time": "2022-10-21T11:33:03.041Z"
   },
   {
    "duration": 31,
    "start_time": "2022-10-21T11:33:08.512Z"
   },
   {
    "duration": 11,
    "start_time": "2022-10-21T11:40:37.304Z"
   },
   {
    "duration": 534,
    "start_time": "2022-10-21T11:44:38.784Z"
   },
   {
    "duration": 25,
    "start_time": "2022-10-21T11:44:42.780Z"
   },
   {
    "duration": 27,
    "start_time": "2022-10-21T11:44:49.431Z"
   },
   {
    "duration": 209,
    "start_time": "2022-10-21T11:46:11.761Z"
   },
   {
    "duration": 970,
    "start_time": "2022-10-21T11:46:39.456Z"
   },
   {
    "duration": 304,
    "start_time": "2022-10-21T11:46:46.887Z"
   },
   {
    "duration": 158,
    "start_time": "2022-10-21T11:49:02.823Z"
   },
   {
    "duration": 292,
    "start_time": "2022-10-21T11:49:27.947Z"
   },
   {
    "duration": 190,
    "start_time": "2022-10-21T11:49:37.681Z"
   },
   {
    "duration": 165,
    "start_time": "2022-10-21T11:49:44.407Z"
   },
   {
    "duration": 51,
    "start_time": "2022-10-21T11:51:56.479Z"
   },
   {
    "duration": 359,
    "start_time": "2022-10-21T11:52:02.231Z"
   },
   {
    "duration": 352,
    "start_time": "2022-10-21T11:52:09.895Z"
   },
   {
    "duration": 296,
    "start_time": "2022-10-21T11:52:26.171Z"
   },
   {
    "duration": 258,
    "start_time": "2022-10-21T11:52:43.715Z"
   },
   {
    "duration": 244,
    "start_time": "2022-10-21T11:52:48.791Z"
   },
   {
    "duration": 231,
    "start_time": "2022-10-21T11:52:52.966Z"
   },
   {
    "duration": 346,
    "start_time": "2022-10-21T11:55:09.865Z"
   },
   {
    "duration": 205,
    "start_time": "2022-10-21T11:55:10.345Z"
   },
   {
    "duration": 275,
    "start_time": "2022-10-21T11:55:15.648Z"
   },
   {
    "duration": 297,
    "start_time": "2022-10-21T11:55:15.999Z"
   },
   {
    "duration": 344,
    "start_time": "2022-10-21T11:55:34.696Z"
   },
   {
    "duration": 155,
    "start_time": "2022-10-21T11:55:37.583Z"
   },
   {
    "duration": 8,
    "start_time": "2022-10-21T12:22:58.773Z"
   },
   {
    "duration": 12,
    "start_time": "2022-10-21T12:23:20.911Z"
   },
   {
    "duration": 151,
    "start_time": "2022-10-21T12:23:43.077Z"
   },
   {
    "duration": 146,
    "start_time": "2022-10-21T12:23:54.903Z"
   },
   {
    "duration": 15,
    "start_time": "2022-10-21T12:24:23.686Z"
   },
   {
    "duration": 18,
    "start_time": "2022-10-21T12:25:41.223Z"
   },
   {
    "duration": 21,
    "start_time": "2022-10-21T12:25:49.711Z"
   },
   {
    "duration": 52,
    "start_time": "2022-10-21T12:26:52.074Z"
   },
   {
    "duration": 19,
    "start_time": "2022-10-21T12:27:14.079Z"
   },
   {
    "duration": 4,
    "start_time": "2022-10-21T12:33:07.148Z"
   },
   {
    "duration": 27,
    "start_time": "2022-10-21T12:33:12.231Z"
   },
   {
    "duration": 16,
    "start_time": "2022-10-21T12:33:23.080Z"
   },
   {
    "duration": 14,
    "start_time": "2022-10-21T12:33:34.305Z"
   },
   {
    "duration": 56,
    "start_time": "2022-10-21T12:59:25.681Z"
   },
   {
    "duration": 10,
    "start_time": "2022-10-21T12:59:35.272Z"
   },
   {
    "duration": 5,
    "start_time": "2022-10-21T13:00:19.430Z"
   },
   {
    "duration": 10,
    "start_time": "2022-10-21T13:03:26.377Z"
   },
   {
    "duration": 7,
    "start_time": "2022-10-21T13:04:13.398Z"
   },
   {
    "duration": 12,
    "start_time": "2022-10-21T13:05:33.027Z"
   },
   {
    "duration": 9,
    "start_time": "2022-10-21T13:06:02.876Z"
   },
   {
    "duration": 9,
    "start_time": "2022-10-21T13:06:15.389Z"
   },
   {
    "duration": 8,
    "start_time": "2022-10-21T13:06:32.074Z"
   },
   {
    "duration": 183,
    "start_time": "2022-10-21T13:06:32.982Z"
   },
   {
    "duration": 173,
    "start_time": "2022-10-21T13:07:02.449Z"
   },
   {
    "duration": 8,
    "start_time": "2022-10-21T13:08:18.060Z"
   },
   {
    "duration": 12,
    "start_time": "2022-10-21T13:08:22.781Z"
   },
   {
    "duration": 17,
    "start_time": "2022-10-21T13:10:51.296Z"
   },
   {
    "duration": 5,
    "start_time": "2022-10-21T13:11:42.798Z"
   },
   {
    "duration": 15,
    "start_time": "2022-10-21T13:11:45.150Z"
   },
   {
    "duration": 4,
    "start_time": "2022-10-21T13:12:39.270Z"
   },
   {
    "duration": 15,
    "start_time": "2022-10-21T13:12:40.001Z"
   },
   {
    "duration": 6,
    "start_time": "2022-10-21T13:13:25.302Z"
   },
   {
    "duration": 14,
    "start_time": "2022-10-21T13:13:26.164Z"
   },
   {
    "duration": 205,
    "start_time": "2022-10-21T13:13:36.503Z"
   },
   {
    "duration": 15,
    "start_time": "2022-10-21T13:14:29.750Z"
   },
   {
    "duration": 184,
    "start_time": "2022-10-21T13:14:34.318Z"
   },
   {
    "duration": 1470,
    "start_time": "2022-10-24T07:14:54.357Z"
   },
   {
    "duration": 1449,
    "start_time": "2022-10-24T07:14:56.251Z"
   },
   {
    "duration": 8,
    "start_time": "2022-10-24T07:15:48.346Z"
   },
   {
    "duration": 512,
    "start_time": "2022-10-24T07:29:51.115Z"
   },
   {
    "duration": 6,
    "start_time": "2022-10-24T07:30:20.146Z"
   },
   {
    "duration": 6,
    "start_time": "2022-10-24T07:30:27.206Z"
   },
   {
    "duration": 42,
    "start_time": "2022-10-24T07:41:49.608Z"
   },
   {
    "duration": 5,
    "start_time": "2022-10-24T07:43:39.518Z"
   },
   {
    "duration": 77,
    "start_time": "2022-10-24T07:55:53.532Z"
   },
   {
    "duration": 4,
    "start_time": "2022-10-24T07:56:27.605Z"
   },
   {
    "duration": 22,
    "start_time": "2022-10-24T07:56:28.245Z"
   },
   {
    "duration": 22,
    "start_time": "2022-10-24T07:56:48.678Z"
   },
   {
    "duration": 23,
    "start_time": "2022-10-24T07:57:00.117Z"
   },
   {
    "duration": 13,
    "start_time": "2022-10-24T08:02:55.988Z"
   },
   {
    "duration": 36,
    "start_time": "2022-10-24T08:03:00.662Z"
   },
   {
    "duration": 85,
    "start_time": "2022-10-24T08:03:27.869Z"
   },
   {
    "duration": 16,
    "start_time": "2022-10-24T08:04:23.482Z"
   },
   {
    "duration": 123,
    "start_time": "2022-10-24T08:04:42.797Z"
   },
   {
    "duration": 782,
    "start_time": "2022-10-24T08:13:10.095Z"
   },
   {
    "duration": 27,
    "start_time": "2022-10-24T08:18:34.172Z"
   },
   {
    "duration": 126,
    "start_time": "2022-10-24T08:18:49.695Z"
   },
   {
    "duration": 28,
    "start_time": "2022-10-24T08:18:53.597Z"
   },
   {
    "duration": 51,
    "start_time": "2022-10-24T08:19:12.829Z"
   },
   {
    "duration": 20,
    "start_time": "2022-10-24T08:19:15.413Z"
   },
   {
    "duration": 166,
    "start_time": "2022-10-24T08:30:11.748Z"
   },
   {
    "duration": 5,
    "start_time": "2022-10-24T08:33:36.223Z"
   },
   {
    "duration": 123,
    "start_time": "2022-10-24T08:37:06.996Z"
   },
   {
    "duration": 49,
    "start_time": "2022-10-24T08:37:33.717Z"
   },
   {
    "duration": 10,
    "start_time": "2022-10-24T08:37:44.182Z"
   },
   {
    "duration": 4,
    "start_time": "2022-10-24T08:37:57.822Z"
   },
   {
    "duration": 8,
    "start_time": "2022-10-24T10:29:55.073Z"
   },
   {
    "duration": 5,
    "start_time": "2022-10-24T10:29:56.780Z"
   },
   {
    "duration": 4,
    "start_time": "2022-10-24T10:29:59.329Z"
   },
   {
    "duration": 4,
    "start_time": "2022-10-24T10:31:13.825Z"
   },
   {
    "duration": 5,
    "start_time": "2022-10-24T10:32:08.352Z"
   },
   {
    "duration": 4,
    "start_time": "2022-10-24T10:32:20.017Z"
   },
   {
    "duration": 15,
    "start_time": "2022-10-24T10:36:20.225Z"
   },
   {
    "duration": 12,
    "start_time": "2022-10-24T10:36:29.829Z"
   },
   {
    "duration": 10,
    "start_time": "2022-10-24T10:41:21.897Z"
   },
   {
    "duration": 10,
    "start_time": "2022-10-24T10:41:42.362Z"
   },
   {
    "duration": 998,
    "start_time": "2022-10-24T10:42:27.977Z"
   },
   {
    "duration": 959,
    "start_time": "2022-10-24T10:43:36.195Z"
   },
   {
    "duration": 1019,
    "start_time": "2022-10-24T10:44:27.442Z"
   },
   {
    "duration": 948,
    "start_time": "2022-10-24T10:44:37.230Z"
   },
   {
    "duration": 11,
    "start_time": "2022-10-24T10:46:20.408Z"
   },
   {
    "duration": 10,
    "start_time": "2022-10-24T10:51:20.369Z"
   },
   {
    "duration": 10,
    "start_time": "2022-10-24T10:52:05.145Z"
   },
   {
    "duration": 10,
    "start_time": "2022-10-24T10:52:54.584Z"
   },
   {
    "duration": 4,
    "start_time": "2022-10-24T10:53:49.540Z"
   },
   {
    "duration": 12,
    "start_time": "2022-10-24T10:53:58.953Z"
   },
   {
    "duration": 9,
    "start_time": "2022-10-24T10:54:00.496Z"
   },
   {
    "duration": 12,
    "start_time": "2022-10-24T10:54:03.000Z"
   },
   {
    "duration": 12,
    "start_time": "2022-10-24T10:54:33.953Z"
   },
   {
    "duration": 10,
    "start_time": "2022-10-24T10:54:37.217Z"
   },
   {
    "duration": 4,
    "start_time": "2022-10-24T10:54:43.040Z"
   },
   {
    "duration": 1150,
    "start_time": "2022-10-24T10:54:48.379Z"
   },
   {
    "duration": 1296,
    "start_time": "2022-10-24T10:55:46.721Z"
   },
   {
    "duration": 1258,
    "start_time": "2022-10-24T10:55:57.441Z"
   },
   {
    "duration": 1242,
    "start_time": "2022-10-24T10:56:43.160Z"
   },
   {
    "duration": 1157,
    "start_time": "2022-10-24T10:56:56.848Z"
   },
   {
    "duration": 1299,
    "start_time": "2022-10-24T10:57:16.784Z"
   },
   {
    "duration": 1329,
    "start_time": "2022-10-24T10:57:26.048Z"
   },
   {
    "duration": 1265,
    "start_time": "2022-10-24T10:58:00.449Z"
   },
   {
    "duration": 217,
    "start_time": "2022-10-24T10:59:51.411Z"
   },
   {
    "duration": 213,
    "start_time": "2022-10-24T11:06:38.435Z"
   },
   {
    "duration": 420,
    "start_time": "2022-10-24T11:07:01.562Z"
   },
   {
    "duration": 418,
    "start_time": "2022-10-24T11:07:08.305Z"
   },
   {
    "duration": 664,
    "start_time": "2022-10-24T11:07:56.417Z"
   },
   {
    "duration": 11,
    "start_time": "2022-10-24T11:13:02.600Z"
   },
   {
    "duration": 4,
    "start_time": "2022-10-24T11:13:29.815Z"
   },
   {
    "duration": 5,
    "start_time": "2022-10-24T11:13:36.376Z"
   },
   {
    "duration": 6,
    "start_time": "2022-10-24T11:51:01.693Z"
   },
   {
    "duration": 11,
    "start_time": "2022-10-24T11:51:03.272Z"
   },
   {
    "duration": 3,
    "start_time": "2022-10-24T11:51:28.566Z"
   },
   {
    "duration": 11,
    "start_time": "2022-10-24T11:51:33.022Z"
   },
   {
    "duration": 3,
    "start_time": "2022-10-24T11:52:04.758Z"
   },
   {
    "duration": 316,
    "start_time": "2022-10-24T11:52:08.925Z"
   },
   {
    "duration": 578,
    "start_time": "2022-10-24T11:52:29.711Z"
   },
   {
    "duration": 2123,
    "start_time": "2022-10-24T11:52:38.901Z"
   },
   {
    "duration": 520,
    "start_time": "2022-10-24T11:55:15.766Z"
   },
   {
    "duration": 1518,
    "start_time": "2022-10-25T06:28:40.319Z"
   },
   {
    "duration": 1863,
    "start_time": "2022-10-25T06:28:41.839Z"
   },
   {
    "duration": 6,
    "start_time": "2022-10-25T06:28:50.832Z"
   },
   {
    "duration": 8,
    "start_time": "2022-10-25T06:28:51.694Z"
   },
   {
    "duration": 149,
    "start_time": "2022-10-25T06:47:38.705Z"
   },
   {
    "duration": 213,
    "start_time": "2022-10-25T06:48:48.040Z"
   },
   {
    "duration": 122,
    "start_time": "2022-10-25T06:48:54.174Z"
   },
   {
    "duration": 11,
    "start_time": "2022-10-25T06:49:24.223Z"
   },
   {
    "duration": 9,
    "start_time": "2022-10-25T06:49:35.046Z"
   },
   {
    "duration": 98,
    "start_time": "2022-10-25T06:50:57.481Z"
   },
   {
    "duration": 8,
    "start_time": "2022-10-25T06:53:46.958Z"
   },
   {
    "duration": 11,
    "start_time": "2022-10-25T06:53:57.269Z"
   },
   {
    "duration": 12,
    "start_time": "2022-10-25T06:54:23.949Z"
   },
   {
    "duration": 183,
    "start_time": "2022-10-25T06:54:38.405Z"
   },
   {
    "duration": 11,
    "start_time": "2022-10-25T06:56:03.925Z"
   },
   {
    "duration": 11,
    "start_time": "2022-10-25T06:56:30.293Z"
   },
   {
    "duration": 95,
    "start_time": "2022-10-25T07:00:35.757Z"
   },
   {
    "duration": 94,
    "start_time": "2022-10-25T07:01:17.469Z"
   },
   {
    "duration": 5,
    "start_time": "2022-10-25T07:02:53.157Z"
   },
   {
    "duration": 11,
    "start_time": "2022-10-25T07:03:15.485Z"
   },
   {
    "duration": 268,
    "start_time": "2022-10-25T07:06:57.798Z"
   },
   {
    "duration": 291,
    "start_time": "2022-10-25T07:07:11.686Z"
   },
   {
    "duration": 221,
    "start_time": "2022-10-25T07:08:01.376Z"
   },
   {
    "duration": 234,
    "start_time": "2022-10-25T07:08:28.837Z"
   },
   {
    "duration": 277,
    "start_time": "2022-10-25T07:09:11.454Z"
   },
   {
    "duration": 16,
    "start_time": "2022-10-25T07:09:46.733Z"
   },
   {
    "duration": 20,
    "start_time": "2022-10-25T07:10:17.965Z"
   },
   {
    "duration": 15,
    "start_time": "2022-10-25T07:11:07.989Z"
   },
   {
    "duration": 17,
    "start_time": "2022-10-25T07:11:21.885Z"
   },
   {
    "duration": 9,
    "start_time": "2022-10-25T07:21:38.541Z"
   },
   {
    "duration": 5,
    "start_time": "2022-10-25T07:21:46.876Z"
   },
   {
    "duration": 8,
    "start_time": "2022-10-25T07:21:58.894Z"
   },
   {
    "duration": 14,
    "start_time": "2022-10-25T07:30:26.852Z"
   },
   {
    "duration": 12,
    "start_time": "2022-10-25T07:30:32.828Z"
   },
   {
    "duration": 12,
    "start_time": "2022-10-25T07:30:38.060Z"
   },
   {
    "duration": 4,
    "start_time": "2022-10-25T07:31:00.568Z"
   },
   {
    "duration": 665,
    "start_time": "2022-10-25T07:31:00.573Z"
   },
   {
    "duration": 16,
    "start_time": "2022-10-25T07:31:01.239Z"
   },
   {
    "duration": 35,
    "start_time": "2022-10-25T07:31:01.257Z"
   },
   {
    "duration": 13,
    "start_time": "2022-10-25T07:31:01.293Z"
   },
   {
    "duration": 20,
    "start_time": "2022-10-25T07:31:01.308Z"
   },
   {
    "duration": 21,
    "start_time": "2022-10-25T07:31:01.329Z"
   },
   {
    "duration": 25,
    "start_time": "2022-10-25T07:31:01.352Z"
   },
   {
    "duration": 15,
    "start_time": "2022-10-25T07:31:01.379Z"
   },
   {
    "duration": 23,
    "start_time": "2022-10-25T07:31:01.396Z"
   },
   {
    "duration": 16,
    "start_time": "2022-10-25T07:31:01.420Z"
   },
   {
    "duration": 17,
    "start_time": "2022-10-25T07:31:01.437Z"
   },
   {
    "duration": 142,
    "start_time": "2022-10-25T07:31:01.455Z"
   },
   {
    "duration": 16,
    "start_time": "2022-10-25T07:31:01.599Z"
   },
   {
    "duration": 33,
    "start_time": "2022-10-25T07:31:01.621Z"
   },
   {
    "duration": 87,
    "start_time": "2022-10-25T07:31:01.656Z"
   },
   {
    "duration": 534,
    "start_time": "2022-10-25T07:31:01.745Z"
   },
   {
    "duration": 238,
    "start_time": "2022-10-25T07:31:02.280Z"
   },
   {
    "duration": 220,
    "start_time": "2022-10-25T07:31:02.520Z"
   },
   {
    "duration": 17,
    "start_time": "2022-10-25T07:31:02.741Z"
   },
   {
    "duration": 15,
    "start_time": "2022-10-25T07:31:02.760Z"
   },
   {
    "duration": 8,
    "start_time": "2022-10-25T07:31:02.777Z"
   },
   {
    "duration": 43,
    "start_time": "2022-10-25T07:31:02.787Z"
   },
   {
    "duration": 153,
    "start_time": "2022-10-25T07:31:02.831Z"
   },
   {
    "duration": 3,
    "start_time": "2022-10-25T07:31:02.986Z"
   },
   {
    "duration": 5,
    "start_time": "2022-10-25T07:31:07.883Z"
   },
   {
    "duration": 15,
    "start_time": "2022-10-25T07:31:08.923Z"
   },
   {
    "duration": 70,
    "start_time": "2022-10-25T07:31:57.628Z"
   },
   {
    "duration": 3,
    "start_time": "2022-10-25T07:32:07.800Z"
   },
   {
    "duration": 627,
    "start_time": "2022-10-25T07:32:07.805Z"
   },
   {
    "duration": 18,
    "start_time": "2022-10-25T07:32:08.434Z"
   },
   {
    "duration": 6,
    "start_time": "2022-10-25T07:32:08.454Z"
   },
   {
    "duration": 8,
    "start_time": "2022-10-25T07:32:08.461Z"
   },
   {
    "duration": 7,
    "start_time": "2022-10-25T07:32:08.471Z"
   },
   {
    "duration": 4,
    "start_time": "2022-10-25T07:32:08.480Z"
   },
   {
    "duration": 8,
    "start_time": "2022-10-25T07:32:08.486Z"
   },
   {
    "duration": 27,
    "start_time": "2022-10-25T07:32:08.495Z"
   },
   {
    "duration": 3,
    "start_time": "2022-10-25T07:32:08.525Z"
   },
   {
    "duration": 20,
    "start_time": "2022-10-25T07:32:08.530Z"
   },
   {
    "duration": 3,
    "start_time": "2022-10-25T07:32:08.552Z"
   },
   {
    "duration": 26,
    "start_time": "2022-10-25T07:32:08.556Z"
   },
   {
    "duration": 19,
    "start_time": "2022-10-25T07:32:08.584Z"
   },
   {
    "duration": 15,
    "start_time": "2022-10-25T07:32:08.621Z"
   },
   {
    "duration": 72,
    "start_time": "2022-10-25T07:32:08.638Z"
   },
   {
    "duration": 639,
    "start_time": "2022-10-25T07:32:08.712Z"
   },
   {
    "duration": 235,
    "start_time": "2022-10-25T07:32:09.353Z"
   },
   {
    "duration": 200,
    "start_time": "2022-10-25T07:32:09.589Z"
   },
   {
    "duration": 13,
    "start_time": "2022-10-25T07:32:09.791Z"
   },
   {
    "duration": 24,
    "start_time": "2022-10-25T07:32:09.806Z"
   },
   {
    "duration": 8,
    "start_time": "2022-10-25T07:32:09.831Z"
   },
   {
    "duration": 18,
    "start_time": "2022-10-25T07:32:09.840Z"
   },
   {
    "duration": 162,
    "start_time": "2022-10-25T07:32:09.859Z"
   },
   {
    "duration": 4,
    "start_time": "2022-10-25T07:32:10.023Z"
   },
   {
    "duration": 73,
    "start_time": "2022-10-25T07:32:11.981Z"
   },
   {
    "duration": 73,
    "start_time": "2022-10-25T07:32:23.844Z"
   },
   {
    "duration": 64,
    "start_time": "2022-10-25T07:33:08.244Z"
   },
   {
    "duration": 8,
    "start_time": "2022-10-25T07:33:15.592Z"
   },
   {
    "duration": 4,
    "start_time": "2022-10-25T07:33:45.325Z"
   },
   {
    "duration": 11,
    "start_time": "2022-10-25T07:34:03.708Z"
   },
   {
    "duration": 9,
    "start_time": "2022-10-25T07:34:50.125Z"
   },
   {
    "duration": 3,
    "start_time": "2022-10-25T07:36:47.405Z"
   },
   {
    "duration": 8,
    "start_time": "2022-10-25T07:37:25.065Z"
   },
   {
    "duration": 6,
    "start_time": "2022-10-25T07:39:31.340Z"
   },
   {
    "duration": 12,
    "start_time": "2022-10-25T07:40:36.372Z"
   },
   {
    "duration": 5,
    "start_time": "2022-10-25T07:40:49.903Z"
   },
   {
    "duration": 672,
    "start_time": "2022-10-25T07:40:49.910Z"
   },
   {
    "duration": 15,
    "start_time": "2022-10-25T07:40:50.584Z"
   },
   {
    "duration": 5,
    "start_time": "2022-10-25T07:40:50.600Z"
   },
   {
    "duration": 19,
    "start_time": "2022-10-25T07:40:50.607Z"
   },
   {
    "duration": 16,
    "start_time": "2022-10-25T07:40:50.627Z"
   },
   {
    "duration": 13,
    "start_time": "2022-10-25T07:40:50.644Z"
   },
   {
    "duration": 26,
    "start_time": "2022-10-25T07:40:50.659Z"
   },
   {
    "duration": 25,
    "start_time": "2022-10-25T07:40:50.687Z"
   },
   {
    "duration": 13,
    "start_time": "2022-10-25T07:40:50.714Z"
   },
   {
    "duration": 41,
    "start_time": "2022-10-25T07:40:50.728Z"
   },
   {
    "duration": 15,
    "start_time": "2022-10-25T07:40:50.770Z"
   },
   {
    "duration": 36,
    "start_time": "2022-10-25T07:40:50.787Z"
   },
   {
    "duration": 18,
    "start_time": "2022-10-25T07:40:50.825Z"
   },
   {
    "duration": 16,
    "start_time": "2022-10-25T07:40:50.844Z"
   },
   {
    "duration": 102,
    "start_time": "2022-10-25T07:40:50.862Z"
   },
   {
    "duration": 533,
    "start_time": "2022-10-25T07:40:50.966Z"
   },
   {
    "duration": 216,
    "start_time": "2022-10-25T07:40:51.501Z"
   },
   {
    "duration": 328,
    "start_time": "2022-10-25T07:40:51.721Z"
   },
   {
    "duration": 16,
    "start_time": "2022-10-25T07:40:52.051Z"
   },
   {
    "duration": 15,
    "start_time": "2022-10-25T07:40:52.068Z"
   },
   {
    "duration": 7,
    "start_time": "2022-10-25T07:40:52.084Z"
   },
   {
    "duration": 31,
    "start_time": "2022-10-25T07:40:52.093Z"
   },
   {
    "duration": 157,
    "start_time": "2022-10-25T07:40:52.126Z"
   },
   {
    "duration": 3,
    "start_time": "2022-10-25T07:40:52.285Z"
   },
   {
    "duration": 9,
    "start_time": "2022-10-25T07:40:52.290Z"
   },
   {
    "duration": 6,
    "start_time": "2022-10-25T07:40:57.812Z"
   },
   {
    "duration": 46,
    "start_time": "2022-10-25T07:41:03.460Z"
   },
   {
    "duration": 119,
    "start_time": "2022-10-25T07:46:39.309Z"
   },
   {
    "duration": 40,
    "start_time": "2022-10-25T07:46:51.772Z"
   },
   {
    "duration": 43,
    "start_time": "2022-10-25T07:49:48.198Z"
   },
   {
    "duration": 40,
    "start_time": "2022-10-25T07:50:13.965Z"
   },
   {
    "duration": 2,
    "start_time": "2022-10-25T08:02:59.948Z"
   },
   {
    "duration": 41,
    "start_time": "2022-10-25T08:03:01.644Z"
   },
   {
    "duration": 41,
    "start_time": "2022-10-25T08:03:09.933Z"
   },
   {
    "duration": 4,
    "start_time": "2022-10-25T08:03:27.772Z"
   },
   {
    "duration": 46,
    "start_time": "2022-10-25T08:06:37.174Z"
   },
   {
    "duration": 9,
    "start_time": "2022-10-25T08:10:15.181Z"
   },
   {
    "duration": 6,
    "start_time": "2022-10-25T08:10:23.213Z"
   },
   {
    "duration": 14,
    "start_time": "2022-10-25T08:11:07.772Z"
   },
   {
    "duration": 42,
    "start_time": "2022-10-25T08:11:14.228Z"
   },
   {
    "duration": 2,
    "start_time": "2022-10-25T08:11:59.517Z"
   },
   {
    "duration": 5,
    "start_time": "2022-10-25T08:12:31.344Z"
   },
   {
    "duration": 734,
    "start_time": "2022-10-25T08:12:31.351Z"
   },
   {
    "duration": 16,
    "start_time": "2022-10-25T08:12:32.086Z"
   },
   {
    "duration": 33,
    "start_time": "2022-10-25T08:12:32.104Z"
   },
   {
    "duration": 14,
    "start_time": "2022-10-25T08:12:32.139Z"
   },
   {
    "duration": 41,
    "start_time": "2022-10-25T08:12:32.154Z"
   },
   {
    "duration": 38,
    "start_time": "2022-10-25T08:12:32.197Z"
   },
   {
    "duration": 20,
    "start_time": "2022-10-25T08:12:32.237Z"
   },
   {
    "duration": 29,
    "start_time": "2022-10-25T08:12:32.259Z"
   },
   {
    "duration": 14,
    "start_time": "2022-10-25T08:12:32.290Z"
   },
   {
    "duration": 43,
    "start_time": "2022-10-25T08:12:32.305Z"
   },
   {
    "duration": 18,
    "start_time": "2022-10-25T08:12:32.349Z"
   },
   {
    "duration": 68,
    "start_time": "2022-10-25T08:12:32.368Z"
   },
   {
    "duration": 57,
    "start_time": "2022-10-25T08:12:32.437Z"
   },
   {
    "duration": 23,
    "start_time": "2022-10-25T08:12:32.495Z"
   },
   {
    "duration": 22,
    "start_time": "2022-10-25T08:12:32.520Z"
   },
   {
    "duration": 558,
    "start_time": "2022-10-25T08:12:32.543Z"
   },
   {
    "duration": 251,
    "start_time": "2022-10-25T08:12:33.102Z"
   },
   {
    "duration": 239,
    "start_time": "2022-10-25T08:12:33.355Z"
   },
   {
    "duration": 28,
    "start_time": "2022-10-25T08:12:33.596Z"
   },
   {
    "duration": 17,
    "start_time": "2022-10-25T08:12:33.625Z"
   },
   {
    "duration": 42,
    "start_time": "2022-10-25T08:12:33.644Z"
   },
   {
    "duration": 17,
    "start_time": "2022-10-25T08:12:33.688Z"
   },
   {
    "duration": 154,
    "start_time": "2022-10-25T08:12:33.707Z"
   },
   {
    "duration": 4,
    "start_time": "2022-10-25T08:12:33.862Z"
   },
   {
    "duration": 10,
    "start_time": "2022-10-25T08:12:33.867Z"
   },
   {
    "duration": 12,
    "start_time": "2022-10-25T08:12:33.878Z"
   },
   {
    "duration": 3,
    "start_time": "2022-10-25T08:12:38.903Z"
   },
   {
    "duration": 45,
    "start_time": "2022-10-25T08:18:00.419Z"
   },
   {
    "duration": 42,
    "start_time": "2022-10-25T08:19:50.117Z"
   },
   {
    "duration": 5,
    "start_time": "2022-10-25T08:20:50.780Z"
   },
   {
    "duration": 42,
    "start_time": "2022-10-25T08:21:04.501Z"
   },
   {
    "duration": 13115,
    "start_time": "2022-10-25T09:26:46.241Z"
   },
   {
    "duration": 3011,
    "start_time": "2022-10-25T09:26:59.358Z"
   },
   {
    "duration": 27,
    "start_time": "2022-10-25T09:27:02.371Z"
   },
   {
    "duration": 9,
    "start_time": "2022-10-25T09:27:02.400Z"
   },
   {
    "duration": 42,
    "start_time": "2022-10-25T09:27:02.410Z"
   },
   {
    "duration": 18,
    "start_time": "2022-10-25T09:27:02.454Z"
   },
   {
    "duration": 19,
    "start_time": "2022-10-25T09:27:02.474Z"
   },
   {
    "duration": 12,
    "start_time": "2022-10-25T09:27:02.494Z"
   },
   {
    "duration": 15,
    "start_time": "2022-10-25T09:27:02.507Z"
   },
   {
    "duration": 9,
    "start_time": "2022-10-25T09:27:02.525Z"
   },
   {
    "duration": 25,
    "start_time": "2022-10-25T09:27:02.535Z"
   },
   {
    "duration": 5,
    "start_time": "2022-10-25T09:27:02.562Z"
   },
   {
    "duration": 81,
    "start_time": "2022-10-25T09:27:02.569Z"
   },
   {
    "duration": 28,
    "start_time": "2022-10-25T09:27:02.653Z"
   },
   {
    "duration": 18,
    "start_time": "2022-10-25T09:27:02.683Z"
   },
   {
    "duration": 26,
    "start_time": "2022-10-25T09:27:02.723Z"
   },
   {
    "duration": 671,
    "start_time": "2022-10-25T09:27:02.751Z"
   },
   {
    "duration": 240,
    "start_time": "2022-10-25T09:27:03.424Z"
   },
   {
    "duration": 243,
    "start_time": "2022-10-25T09:27:03.666Z"
   },
   {
    "duration": 27,
    "start_time": "2022-10-25T09:27:03.911Z"
   },
   {
    "duration": 23,
    "start_time": "2022-10-25T09:27:03.940Z"
   },
   {
    "duration": 9,
    "start_time": "2022-10-25T09:27:03.965Z"
   },
   {
    "duration": 41,
    "start_time": "2022-10-25T09:27:03.976Z"
   },
   {
    "duration": 179,
    "start_time": "2022-10-25T09:27:04.018Z"
   },
   {
    "duration": 4,
    "start_time": "2022-10-25T09:27:04.198Z"
   },
   {
    "duration": 15,
    "start_time": "2022-10-25T09:27:04.203Z"
   },
   {
    "duration": 8,
    "start_time": "2022-10-25T09:27:04.220Z"
   },
   {
    "duration": 9,
    "start_time": "2022-10-25T09:27:04.231Z"
   },
   {
    "duration": 5,
    "start_time": "2022-10-25T09:27:04.241Z"
   },
   {
    "duration": 1573,
    "start_time": "2022-10-25T09:27:04.248Z"
   },
   {
    "duration": 1378,
    "start_time": "2022-10-25T09:27:39.344Z"
   },
   {
    "duration": 1540,
    "start_time": "2022-10-25T09:28:09.381Z"
   },
   {
    "duration": 1225,
    "start_time": "2022-10-25T09:28:23.598Z"
   },
   {
    "duration": 2605,
    "start_time": "2022-10-25T09:28:50.820Z"
   },
   {
    "duration": 2575,
    "start_time": "2022-10-25T09:29:14.048Z"
   },
   {
    "duration": 9177,
    "start_time": "2022-10-25T09:31:25.055Z"
   },
   {
    "duration": 9063,
    "start_time": "2022-10-25T09:31:46.454Z"
   },
   {
    "duration": 527340,
    "start_time": "2022-10-25T09:32:22.316Z"
   },
   {
    "duration": 45,
    "start_time": "2022-10-25T10:17:44.751Z"
   },
   {
    "duration": 6,
    "start_time": "2022-10-25T10:18:06.893Z"
   },
   {
    "duration": 1397,
    "start_time": "2022-10-25T10:18:10.842Z"
   },
   {
    "duration": 1737,
    "start_time": "2022-10-25T10:18:12.241Z"
   },
   {
    "duration": 17,
    "start_time": "2022-10-25T10:18:13.980Z"
   },
   {
    "duration": 29,
    "start_time": "2022-10-25T10:18:13.998Z"
   },
   {
    "duration": 54,
    "start_time": "2022-10-25T10:18:14.029Z"
   },
   {
    "duration": 38,
    "start_time": "2022-10-25T10:18:14.085Z"
   },
   {
    "duration": 74,
    "start_time": "2022-10-25T10:18:14.124Z"
   },
   {
    "duration": 44,
    "start_time": "2022-10-25T10:18:14.199Z"
   },
   {
    "duration": 52,
    "start_time": "2022-10-25T10:18:14.244Z"
   },
   {
    "duration": 33,
    "start_time": "2022-10-25T10:18:14.297Z"
   },
   {
    "duration": 74,
    "start_time": "2022-10-25T10:18:14.331Z"
   },
   {
    "duration": 56,
    "start_time": "2022-10-25T10:18:14.407Z"
   },
   {
    "duration": 100,
    "start_time": "2022-10-25T10:18:14.465Z"
   },
   {
    "duration": 34,
    "start_time": "2022-10-25T10:18:14.567Z"
   },
   {
    "duration": 35,
    "start_time": "2022-10-25T10:18:14.603Z"
   },
   {
    "duration": 59,
    "start_time": "2022-10-25T10:18:14.639Z"
   },
   {
    "duration": 593,
    "start_time": "2022-10-25T10:18:14.700Z"
   },
   {
    "duration": 212,
    "start_time": "2022-10-25T10:18:15.294Z"
   },
   {
    "duration": 193,
    "start_time": "2022-10-25T10:18:15.507Z"
   },
   {
    "duration": 17,
    "start_time": "2022-10-25T10:18:15.702Z"
   },
   {
    "duration": 24,
    "start_time": "2022-10-25T10:18:15.721Z"
   },
   {
    "duration": 44,
    "start_time": "2022-10-25T10:18:15.746Z"
   },
   {
    "duration": 7,
    "start_time": "2022-10-25T10:18:59.076Z"
   },
   {
    "duration": 12,
    "start_time": "2022-10-25T10:19:04.293Z"
   },
   {
    "duration": 171,
    "start_time": "2022-10-25T10:19:07.885Z"
   },
   {
    "duration": 7,
    "start_time": "2022-10-25T10:20:40.037Z"
   },
   {
    "duration": 4,
    "start_time": "2022-10-25T10:20:55.395Z"
   },
   {
    "duration": 7,
    "start_time": "2022-10-25T10:20:56.341Z"
   },
   {
    "duration": 7,
    "start_time": "2022-10-25T10:20:56.516Z"
   },
   {
    "duration": 5,
    "start_time": "2022-10-25T10:20:56.693Z"
   },
   {
    "duration": 2,
    "start_time": "2022-10-25T10:20:56.874Z"
   },
   {
    "duration": 2456,
    "start_time": "2022-10-25T10:20:57.821Z"
   },
   {
    "duration": 8664,
    "start_time": "2022-10-25T10:21:11.140Z"
   },
   {
    "duration": 474861,
    "start_time": "2022-10-25T10:21:19.805Z"
   },
   {
    "duration": 225717,
    "start_time": "2022-10-25T12:20:42.492Z"
   },
   {
    "duration": 2596955,
    "start_time": "2022-10-25T12:24:33.737Z"
   },
   {
    "duration": 5531,
    "start_time": "2022-10-25T13:08:14.246Z"
   },
   {
    "duration": 83119,
    "start_time": "2022-10-25T13:08:24.822Z"
   },
   {
    "duration": 44252,
    "start_time": "2022-10-25T13:41:27.935Z"
   },
   {
    "duration": 10,
    "start_time": "2022-10-25T13:42:15.437Z"
   },
   {
    "duration": 6,
    "start_time": "2022-10-25T13:42:21.353Z"
   },
   {
    "duration": 2307,
    "start_time": "2022-10-25T13:42:26.075Z"
   },
   {
    "duration": 8406,
    "start_time": "2022-10-25T13:42:45.866Z"
   },
   {
    "duration": 2490,
    "start_time": "2022-10-25T13:43:09.194Z"
   },
   {
    "duration": 9907,
    "start_time": "2022-10-25T13:45:34.478Z"
   },
   {
    "duration": 9,
    "start_time": "2022-10-25T13:45:50.475Z"
   },
   {
    "duration": 4,
    "start_time": "2022-10-25T13:46:05.690Z"
   },
   {
    "duration": 0,
    "start_time": "2022-10-25T13:55:23.577Z"
   },
   {
    "duration": 0,
    "start_time": "2022-10-25T13:55:23.578Z"
   },
   {
    "duration": 33834,
    "start_time": "2022-10-25T13:55:35.920Z"
   },
   {
    "duration": 1730,
    "start_time": "2022-10-27T15:32:26.543Z"
   },
   {
    "duration": 3260,
    "start_time": "2022-10-27T15:32:28.274Z"
   },
   {
    "duration": 19,
    "start_time": "2022-10-27T15:32:31.535Z"
   },
   {
    "duration": 6,
    "start_time": "2022-10-27T15:32:31.556Z"
   },
   {
    "duration": 8,
    "start_time": "2022-10-27T15:32:31.564Z"
   },
   {
    "duration": 14,
    "start_time": "2022-10-27T15:32:31.574Z"
   },
   {
    "duration": 5,
    "start_time": "2022-10-27T15:32:31.589Z"
   },
   {
    "duration": 12,
    "start_time": "2022-10-27T15:32:31.595Z"
   },
   {
    "duration": 11,
    "start_time": "2022-10-27T15:32:31.608Z"
   },
   {
    "duration": 4,
    "start_time": "2022-10-27T15:32:31.623Z"
   },
   {
    "duration": 21,
    "start_time": "2022-10-27T15:32:31.628Z"
   },
   {
    "duration": 3,
    "start_time": "2022-10-27T15:32:31.650Z"
   },
   {
    "duration": 63,
    "start_time": "2022-10-27T15:32:31.654Z"
   },
   {
    "duration": 17,
    "start_time": "2022-10-27T15:32:31.719Z"
   },
   {
    "duration": 13,
    "start_time": "2022-10-27T15:32:31.737Z"
   },
   {
    "duration": 23,
    "start_time": "2022-10-27T15:32:31.752Z"
   },
   {
    "duration": 598,
    "start_time": "2022-10-27T15:32:31.777Z"
   },
   {
    "duration": 212,
    "start_time": "2022-10-27T15:32:32.376Z"
   },
   {
    "duration": 204,
    "start_time": "2022-10-27T15:32:32.590Z"
   },
   {
    "duration": 16,
    "start_time": "2022-10-27T15:32:32.795Z"
   },
   {
    "duration": 12,
    "start_time": "2022-10-27T15:32:32.822Z"
   },
   {
    "duration": 8,
    "start_time": "2022-10-27T15:32:32.836Z"
   },
   {
    "duration": 16,
    "start_time": "2022-10-27T15:32:32.845Z"
   },
   {
    "duration": 196,
    "start_time": "2022-10-27T15:32:32.862Z"
   },
   {
    "duration": 52,
    "start_time": "2022-10-28T06:52:48.524Z"
   },
   {
    "duration": 1688,
    "start_time": "2022-10-28T06:52:54.757Z"
   },
   {
    "duration": 2191,
    "start_time": "2022-10-28T06:52:56.448Z"
   },
   {
    "duration": 26,
    "start_time": "2022-10-28T06:52:58.640Z"
   },
   {
    "duration": 7,
    "start_time": "2022-10-28T06:52:58.668Z"
   },
   {
    "duration": 10,
    "start_time": "2022-10-28T06:52:58.677Z"
   },
   {
    "duration": 11,
    "start_time": "2022-10-28T06:52:58.688Z"
   },
   {
    "duration": 5,
    "start_time": "2022-10-28T06:52:58.701Z"
   },
   {
    "duration": 5,
    "start_time": "2022-10-28T06:52:58.724Z"
   },
   {
    "duration": 4,
    "start_time": "2022-10-28T06:52:58.731Z"
   },
   {
    "duration": 5,
    "start_time": "2022-10-28T06:52:58.738Z"
   },
   {
    "duration": 15,
    "start_time": "2022-10-28T06:52:58.745Z"
   },
   {
    "duration": 4,
    "start_time": "2022-10-28T06:52:58.761Z"
   },
   {
    "duration": 99,
    "start_time": "2022-10-28T06:52:58.766Z"
   },
   {
    "duration": 35,
    "start_time": "2022-10-28T06:52:58.868Z"
   },
   {
    "duration": 46,
    "start_time": "2022-10-28T06:52:58.906Z"
   },
   {
    "duration": 33,
    "start_time": "2022-10-28T06:52:58.955Z"
   },
   {
    "duration": 736,
    "start_time": "2022-10-28T06:52:58.990Z"
   },
   {
    "duration": 272,
    "start_time": "2022-10-28T06:52:59.727Z"
   },
   {
    "duration": 263,
    "start_time": "2022-10-28T06:53:00.001Z"
   },
   {
    "duration": 24,
    "start_time": "2022-10-28T06:53:00.266Z"
   },
   {
    "duration": 44,
    "start_time": "2022-10-28T06:53:00.292Z"
   },
   {
    "duration": 14,
    "start_time": "2022-10-28T06:53:00.338Z"
   },
   {
    "duration": 27,
    "start_time": "2022-10-28T06:53:00.355Z"
   },
   {
    "duration": 202,
    "start_time": "2022-10-28T06:53:19.070Z"
   },
   {
    "duration": 77,
    "start_time": "2022-10-28T06:53:20.751Z"
   },
   {
    "duration": 4,
    "start_time": "2022-10-28T06:53:26.726Z"
   },
   {
    "duration": 6,
    "start_time": "2022-10-28T06:53:35.406Z"
   },
   {
    "duration": 1160,
    "start_time": "2022-10-28T06:53:38.503Z"
   },
   {
    "duration": 1149,
    "start_time": "2022-10-28T06:54:18.328Z"
   },
   {
    "duration": 6,
    "start_time": "2022-10-28T06:54:39.048Z"
   },
   {
    "duration": 4,
    "start_time": "2022-10-28T06:54:58.262Z"
   },
   {
    "duration": 38,
    "start_time": "2022-10-28T06:55:11.175Z"
   },
   {
    "duration": 1220,
    "start_time": "2022-10-28T06:56:00.815Z"
   },
   {
    "duration": 1153,
    "start_time": "2022-10-28T06:56:32.200Z"
   },
   {
    "duration": 1557,
    "start_time": "2022-10-28T06:57:01.975Z"
   },
   {
    "duration": 4,
    "start_time": "2022-10-28T06:57:29.271Z"
   },
   {
    "duration": 4,
    "start_time": "2022-10-28T06:57:30.495Z"
   },
   {
    "duration": 1182,
    "start_time": "2022-10-28T06:57:58.991Z"
   },
   {
    "duration": 1297,
    "start_time": "2022-10-28T06:58:15.527Z"
   },
   {
    "duration": 23,
    "start_time": "2022-10-28T06:58:28.135Z"
   },
   {
    "duration": 1208,
    "start_time": "2022-10-28T07:00:33.049Z"
   },
   {
    "duration": 17,
    "start_time": "2022-10-28T07:03:22.928Z"
   },
   {
    "duration": 17,
    "start_time": "2022-10-28T07:06:37.688Z"
   },
   {
    "duration": 16,
    "start_time": "2022-10-28T07:06:41.649Z"
   },
   {
    "duration": 12,
    "start_time": "2022-10-28T07:07:40.281Z"
   },
   {
    "duration": 13,
    "start_time": "2022-10-28T07:07:47.103Z"
   },
   {
    "duration": 15,
    "start_time": "2022-10-28T07:07:55.774Z"
   },
   {
    "duration": 40,
    "start_time": "2022-10-28T07:09:10.200Z"
   },
   {
    "duration": 11,
    "start_time": "2022-10-28T07:09:13.095Z"
   },
   {
    "duration": 15,
    "start_time": "2022-10-28T07:09:14.944Z"
   },
   {
    "duration": 215,
    "start_time": "2022-10-28T07:09:17.727Z"
   },
   {
    "duration": 5,
    "start_time": "2022-10-28T07:10:32.754Z"
   },
   {
    "duration": 798,
    "start_time": "2022-10-28T07:10:32.763Z"
   },
   {
    "duration": 18,
    "start_time": "2022-10-28T07:10:33.563Z"
   },
   {
    "duration": 7,
    "start_time": "2022-10-28T07:10:33.584Z"
   },
   {
    "duration": 9,
    "start_time": "2022-10-28T07:10:33.593Z"
   },
   {
    "duration": 9,
    "start_time": "2022-10-28T07:10:33.624Z"
   },
   {
    "duration": 4,
    "start_time": "2022-10-28T07:10:33.635Z"
   },
   {
    "duration": 5,
    "start_time": "2022-10-28T07:10:33.641Z"
   },
   {
    "duration": 8,
    "start_time": "2022-10-28T07:10:33.648Z"
   },
   {
    "duration": 6,
    "start_time": "2022-10-28T07:10:33.658Z"
   },
   {
    "duration": 18,
    "start_time": "2022-10-28T07:10:33.666Z"
   },
   {
    "duration": 39,
    "start_time": "2022-10-28T07:10:33.686Z"
   },
   {
    "duration": 32,
    "start_time": "2022-10-28T07:10:33.727Z"
   },
   {
    "duration": 23,
    "start_time": "2022-10-28T07:10:33.760Z"
   },
   {
    "duration": 49,
    "start_time": "2022-10-28T07:10:33.785Z"
   },
   {
    "duration": 22,
    "start_time": "2022-10-28T07:10:33.837Z"
   },
   {
    "duration": 657,
    "start_time": "2022-10-28T07:10:33.861Z"
   },
   {
    "duration": 371,
    "start_time": "2022-10-28T07:10:34.523Z"
   },
   {
    "duration": 281,
    "start_time": "2022-10-28T07:10:34.896Z"
   },
   {
    "duration": 23,
    "start_time": "2022-10-28T07:10:35.179Z"
   },
   {
    "duration": 37,
    "start_time": "2022-10-28T07:10:35.204Z"
   },
   {
    "duration": 15,
    "start_time": "2022-10-28T07:10:35.244Z"
   },
   {
    "duration": 15,
    "start_time": "2022-10-28T07:10:35.261Z"
   },
   {
    "duration": 280,
    "start_time": "2022-10-28T07:10:35.280Z"
   },
   {
    "duration": 4,
    "start_time": "2022-10-28T07:10:35.562Z"
   },
   {
    "duration": 5,
    "start_time": "2022-10-28T07:11:33.607Z"
   },
   {
    "duration": 22,
    "start_time": "2022-10-28T07:11:35.145Z"
   },
   {
    "duration": 5,
    "start_time": "2022-10-28T07:11:36.791Z"
   },
   {
    "duration": 5,
    "start_time": "2022-10-28T07:12:57.718Z"
   },
   {
    "duration": 7,
    "start_time": "2022-10-28T07:13:00.157Z"
   },
   {
    "duration": 7,
    "start_time": "2022-10-28T07:13:02.478Z"
   },
   {
    "duration": 6,
    "start_time": "2022-10-28T07:13:02.822Z"
   },
   {
    "duration": 3,
    "start_time": "2022-10-28T07:13:03.253Z"
   },
   {
    "duration": 2790,
    "start_time": "2022-10-28T07:13:03.944Z"
   },
   {
    "duration": 72,
    "start_time": "2022-10-28T07:13:18.119Z"
   },
   {
    "duration": 886953,
    "start_time": "2022-10-28T07:15:23.672Z"
   },
   {
    "duration": 25352,
    "start_time": "2022-10-28T07:30:24.803Z"
   },
   {
    "duration": 10,
    "start_time": "2022-10-28T07:38:13.753Z"
   },
   {
    "duration": 6,
    "start_time": "2022-10-28T07:38:17.366Z"
   },
   {
    "duration": 14855,
    "start_time": "2022-10-28T07:38:24.045Z"
   },
   {
    "duration": 13,
    "start_time": "2022-10-28T07:39:21.534Z"
   },
   {
    "duration": 5,
    "start_time": "2022-10-28T07:43:24.134Z"
   },
   {
    "duration": 77,
    "start_time": "2022-10-28T08:05:14.742Z"
   }
  ],
  "colab": {
   "provenance": []
  },
  "kernelspec": {
   "display_name": "Python 3 (ipykernel)",
   "language": "python",
   "name": "python3"
  },
  "language_info": {
   "codemirror_mode": {
    "name": "ipython",
    "version": 3
   },
   "file_extension": ".py",
   "mimetype": "text/x-python",
   "name": "python",
   "nbconvert_exporter": "python",
   "pygments_lexer": "ipython3",
   "version": "3.9.5"
  },
  "toc": {
   "base_numbering": 1,
   "nav_menu": {},
   "number_sections": true,
   "sideBar": true,
   "skip_h1_title": true,
   "title_cell": "Содержание",
   "title_sidebar": "Contents",
   "toc_cell": true,
   "toc_position": {
    "height": "calc(100% - 180px)",
    "left": "10px",
    "top": "150px",
    "width": "165px"
   },
   "toc_section_display": true,
   "toc_window_display": true
  }
 },
 "nbformat": 4,
 "nbformat_minor": 1
}
