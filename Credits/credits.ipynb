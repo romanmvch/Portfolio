{
  "cells": [
    {
      "cell_type": "markdown",
      "id": "450082ec",
      "metadata": {
        "deletable": false,
        "editable": false,
        "id": "450082ec"
      },
      "source": [
        "# Исследование надежности заемщиков\n"
      ]
    },
    {
      "cell_type": "markdown",
      "id": "dccd94cb",
      "metadata": {
        "deletable": false,
        "editable": false,
        "id": "dccd94cb"
      },
      "source": [
        "Заказчик — кредитный отдел банка. Нужно разобраться, влияет ли семейное положение и количество детей клиента на факт погашения кредита в срок. Входные данные от банка — статистика о платёжеспособности клиентов.\n",
        "Результаты исследования будут учтены при построении модели кредитного скоринга — специальной системы, которая оценивает способность потенциального заёмщика вернуть кредит банку.\n",
        "\n",
        "Описание данных\n",
        "- children — количество детей в семье\n",
        "- days_employed — общий трудовой стаж в днях\n",
        "- dob_years — возраст клиента в годах\n",
        "- education — уровень образования клиента\n",
        "- education_id — идентификатор уровня образования\n",
        "- family_status — семейное положение\n",
        "- family_status_id — идентификатор семейного положения\n",
        "- gender — пол клиента\n",
        "- income_type — тип занятости\n",
        "- debt — имел ли задолженность по возврату кредитов\n",
        "- total_income — ежемесячный доход\n",
        "- purpose — цель получения кредита. \n",
        "\n"
      ]
    },
    {
      "cell_type": "markdown",
      "id": "2f4fc555",
      "metadata": {
        "deletable": false,
        "editable": false,
        "id": "2f4fc555"
      },
      "source": [
        "## Откройте таблицу и изучите общую информацию о данных"
      ]
    },
    {
      "cell_type": "markdown",
      "id": "e5511365",
      "metadata": {
        "deletable": false,
        "editable": false,
        "id": "e5511365"
      },
      "source": [
        "Импорт библиотеки pandas. Загрузка данных. Путь к файлу:\n",
        "\n",
        "`/datasets/data.csv`"
      ]
    },
    {
      "cell_type": "code",
      "source": [
        "import pandas as pd"
      ],
      "metadata": {
        "id": "wuCj5n4rLX0h"
      },
      "id": "wuCj5n4rLX0h",
      "execution_count": null,
      "outputs": []
    },
    {
      "cell_type": "code",
      "execution_count": null,
      "id": "ab6d9863",
      "metadata": {
        "deletable": false,
        "id": "ab6d9863"
      },
      "outputs": [],
      "source": [
        "try:\n",
        "    data = pd.read_csv('/datasets/data.csv')\n",
        "except:\n",
        "    data = pd.read_csv('https://code.s3.yandex.net/datasets/data.csv')"
      ]
    },
    {
      "cell_type": "markdown",
      "id": "ec10c140",
      "metadata": {
        "deletable": false,
        "editable": false,
        "id": "ec10c140"
      },
      "source": [
        "### Вывод первых 20 строчек датафрейма `data` на экран."
      ]
    },
    {
      "cell_type": "code",
      "execution_count": null,
      "id": "236d6c88",
      "metadata": {
        "deletable": false,
        "id": "236d6c88",
        "outputId": "1a8f3ef2-d323-4ec2-ddf7-89670b5944c4"
      },
      "outputs": [
        {
          "data": {
            "text/html": [
              "<div>\n",
              "<style scoped>\n",
              "    .dataframe tbody tr th:only-of-type {\n",
              "        vertical-align: middle;\n",
              "    }\n",
              "\n",
              "    .dataframe tbody tr th {\n",
              "        vertical-align: top;\n",
              "    }\n",
              "\n",
              "    .dataframe thead th {\n",
              "        text-align: right;\n",
              "    }\n",
              "</style>\n",
              "<table border=\"1\" class=\"dataframe\">\n",
              "  <thead>\n",
              "    <tr style=\"text-align: right;\">\n",
              "      <th></th>\n",
              "      <th>children</th>\n",
              "      <th>days_employed</th>\n",
              "      <th>dob_years</th>\n",
              "      <th>education</th>\n",
              "      <th>education_id</th>\n",
              "      <th>family_status</th>\n",
              "      <th>family_status_id</th>\n",
              "      <th>gender</th>\n",
              "      <th>income_type</th>\n",
              "      <th>debt</th>\n",
              "      <th>total_income</th>\n",
              "      <th>purpose</th>\n",
              "    </tr>\n",
              "  </thead>\n",
              "  <tbody>\n",
              "    <tr>\n",
              "      <th>0</th>\n",
              "      <td>1</td>\n",
              "      <td>-8437.673028</td>\n",
              "      <td>42</td>\n",
              "      <td>высшее</td>\n",
              "      <td>0</td>\n",
              "      <td>женат / замужем</td>\n",
              "      <td>0</td>\n",
              "      <td>F</td>\n",
              "      <td>сотрудник</td>\n",
              "      <td>0</td>\n",
              "      <td>253875.639453</td>\n",
              "      <td>покупка жилья</td>\n",
              "    </tr>\n",
              "    <tr>\n",
              "      <th>1</th>\n",
              "      <td>1</td>\n",
              "      <td>-4024.803754</td>\n",
              "      <td>36</td>\n",
              "      <td>среднее</td>\n",
              "      <td>1</td>\n",
              "      <td>женат / замужем</td>\n",
              "      <td>0</td>\n",
              "      <td>F</td>\n",
              "      <td>сотрудник</td>\n",
              "      <td>0</td>\n",
              "      <td>112080.014102</td>\n",
              "      <td>приобретение автомобиля</td>\n",
              "    </tr>\n",
              "    <tr>\n",
              "      <th>2</th>\n",
              "      <td>0</td>\n",
              "      <td>-5623.422610</td>\n",
              "      <td>33</td>\n",
              "      <td>Среднее</td>\n",
              "      <td>1</td>\n",
              "      <td>женат / замужем</td>\n",
              "      <td>0</td>\n",
              "      <td>M</td>\n",
              "      <td>сотрудник</td>\n",
              "      <td>0</td>\n",
              "      <td>145885.952297</td>\n",
              "      <td>покупка жилья</td>\n",
              "    </tr>\n",
              "    <tr>\n",
              "      <th>3</th>\n",
              "      <td>3</td>\n",
              "      <td>-4124.747207</td>\n",
              "      <td>32</td>\n",
              "      <td>среднее</td>\n",
              "      <td>1</td>\n",
              "      <td>женат / замужем</td>\n",
              "      <td>0</td>\n",
              "      <td>M</td>\n",
              "      <td>сотрудник</td>\n",
              "      <td>0</td>\n",
              "      <td>267628.550329</td>\n",
              "      <td>дополнительное образование</td>\n",
              "    </tr>\n",
              "    <tr>\n",
              "      <th>4</th>\n",
              "      <td>0</td>\n",
              "      <td>340266.072047</td>\n",
              "      <td>53</td>\n",
              "      <td>среднее</td>\n",
              "      <td>1</td>\n",
              "      <td>гражданский брак</td>\n",
              "      <td>1</td>\n",
              "      <td>F</td>\n",
              "      <td>пенсионер</td>\n",
              "      <td>0</td>\n",
              "      <td>158616.077870</td>\n",
              "      <td>сыграть свадьбу</td>\n",
              "    </tr>\n",
              "    <tr>\n",
              "      <th>5</th>\n",
              "      <td>0</td>\n",
              "      <td>-926.185831</td>\n",
              "      <td>27</td>\n",
              "      <td>высшее</td>\n",
              "      <td>0</td>\n",
              "      <td>гражданский брак</td>\n",
              "      <td>1</td>\n",
              "      <td>M</td>\n",
              "      <td>компаньон</td>\n",
              "      <td>0</td>\n",
              "      <td>255763.565419</td>\n",
              "      <td>покупка жилья</td>\n",
              "    </tr>\n",
              "    <tr>\n",
              "      <th>6</th>\n",
              "      <td>0</td>\n",
              "      <td>-2879.202052</td>\n",
              "      <td>43</td>\n",
              "      <td>высшее</td>\n",
              "      <td>0</td>\n",
              "      <td>женат / замужем</td>\n",
              "      <td>0</td>\n",
              "      <td>F</td>\n",
              "      <td>компаньон</td>\n",
              "      <td>0</td>\n",
              "      <td>240525.971920</td>\n",
              "      <td>операции с жильем</td>\n",
              "    </tr>\n",
              "    <tr>\n",
              "      <th>7</th>\n",
              "      <td>0</td>\n",
              "      <td>-152.779569</td>\n",
              "      <td>50</td>\n",
              "      <td>СРЕДНЕЕ</td>\n",
              "      <td>1</td>\n",
              "      <td>женат / замужем</td>\n",
              "      <td>0</td>\n",
              "      <td>M</td>\n",
              "      <td>сотрудник</td>\n",
              "      <td>0</td>\n",
              "      <td>135823.934197</td>\n",
              "      <td>образование</td>\n",
              "    </tr>\n",
              "    <tr>\n",
              "      <th>8</th>\n",
              "      <td>2</td>\n",
              "      <td>-6929.865299</td>\n",
              "      <td>35</td>\n",
              "      <td>ВЫСШЕЕ</td>\n",
              "      <td>0</td>\n",
              "      <td>гражданский брак</td>\n",
              "      <td>1</td>\n",
              "      <td>F</td>\n",
              "      <td>сотрудник</td>\n",
              "      <td>0</td>\n",
              "      <td>95856.832424</td>\n",
              "      <td>на проведение свадьбы</td>\n",
              "    </tr>\n",
              "    <tr>\n",
              "      <th>9</th>\n",
              "      <td>0</td>\n",
              "      <td>-2188.756445</td>\n",
              "      <td>41</td>\n",
              "      <td>среднее</td>\n",
              "      <td>1</td>\n",
              "      <td>женат / замужем</td>\n",
              "      <td>0</td>\n",
              "      <td>M</td>\n",
              "      <td>сотрудник</td>\n",
              "      <td>0</td>\n",
              "      <td>144425.938277</td>\n",
              "      <td>покупка жилья для семьи</td>\n",
              "    </tr>\n",
              "    <tr>\n",
              "      <th>10</th>\n",
              "      <td>2</td>\n",
              "      <td>-4171.483647</td>\n",
              "      <td>36</td>\n",
              "      <td>высшее</td>\n",
              "      <td>0</td>\n",
              "      <td>женат / замужем</td>\n",
              "      <td>0</td>\n",
              "      <td>M</td>\n",
              "      <td>компаньон</td>\n",
              "      <td>0</td>\n",
              "      <td>113943.491460</td>\n",
              "      <td>покупка недвижимости</td>\n",
              "    </tr>\n",
              "    <tr>\n",
              "      <th>11</th>\n",
              "      <td>0</td>\n",
              "      <td>-792.701887</td>\n",
              "      <td>40</td>\n",
              "      <td>среднее</td>\n",
              "      <td>1</td>\n",
              "      <td>женат / замужем</td>\n",
              "      <td>0</td>\n",
              "      <td>F</td>\n",
              "      <td>сотрудник</td>\n",
              "      <td>0</td>\n",
              "      <td>77069.234271</td>\n",
              "      <td>покупка коммерческой недвижимости</td>\n",
              "    </tr>\n",
              "    <tr>\n",
              "      <th>12</th>\n",
              "      <td>0</td>\n",
              "      <td>NaN</td>\n",
              "      <td>65</td>\n",
              "      <td>среднее</td>\n",
              "      <td>1</td>\n",
              "      <td>гражданский брак</td>\n",
              "      <td>1</td>\n",
              "      <td>M</td>\n",
              "      <td>пенсионер</td>\n",
              "      <td>0</td>\n",
              "      <td>NaN</td>\n",
              "      <td>сыграть свадьбу</td>\n",
              "    </tr>\n",
              "    <tr>\n",
              "      <th>13</th>\n",
              "      <td>0</td>\n",
              "      <td>-1846.641941</td>\n",
              "      <td>54</td>\n",
              "      <td>неоконченное высшее</td>\n",
              "      <td>2</td>\n",
              "      <td>женат / замужем</td>\n",
              "      <td>0</td>\n",
              "      <td>F</td>\n",
              "      <td>сотрудник</td>\n",
              "      <td>0</td>\n",
              "      <td>130458.228857</td>\n",
              "      <td>приобретение автомобиля</td>\n",
              "    </tr>\n",
              "    <tr>\n",
              "      <th>14</th>\n",
              "      <td>0</td>\n",
              "      <td>-1844.956182</td>\n",
              "      <td>56</td>\n",
              "      <td>высшее</td>\n",
              "      <td>0</td>\n",
              "      <td>гражданский брак</td>\n",
              "      <td>1</td>\n",
              "      <td>F</td>\n",
              "      <td>компаньон</td>\n",
              "      <td>1</td>\n",
              "      <td>165127.911772</td>\n",
              "      <td>покупка жилой недвижимости</td>\n",
              "    </tr>\n",
              "    <tr>\n",
              "      <th>15</th>\n",
              "      <td>1</td>\n",
              "      <td>-972.364419</td>\n",
              "      <td>26</td>\n",
              "      <td>среднее</td>\n",
              "      <td>1</td>\n",
              "      <td>женат / замужем</td>\n",
              "      <td>0</td>\n",
              "      <td>F</td>\n",
              "      <td>сотрудник</td>\n",
              "      <td>0</td>\n",
              "      <td>116820.904450</td>\n",
              "      <td>строительство собственной недвижимости</td>\n",
              "    </tr>\n",
              "    <tr>\n",
              "      <th>16</th>\n",
              "      <td>0</td>\n",
              "      <td>-1719.934226</td>\n",
              "      <td>35</td>\n",
              "      <td>среднее</td>\n",
              "      <td>1</td>\n",
              "      <td>женат / замужем</td>\n",
              "      <td>0</td>\n",
              "      <td>F</td>\n",
              "      <td>сотрудник</td>\n",
              "      <td>0</td>\n",
              "      <td>289202.704229</td>\n",
              "      <td>недвижимость</td>\n",
              "    </tr>\n",
              "    <tr>\n",
              "      <th>17</th>\n",
              "      <td>0</td>\n",
              "      <td>-2369.999720</td>\n",
              "      <td>33</td>\n",
              "      <td>высшее</td>\n",
              "      <td>0</td>\n",
              "      <td>гражданский брак</td>\n",
              "      <td>1</td>\n",
              "      <td>M</td>\n",
              "      <td>сотрудник</td>\n",
              "      <td>0</td>\n",
              "      <td>90410.586745</td>\n",
              "      <td>строительство недвижимости</td>\n",
              "    </tr>\n",
              "    <tr>\n",
              "      <th>18</th>\n",
              "      <td>0</td>\n",
              "      <td>400281.136913</td>\n",
              "      <td>53</td>\n",
              "      <td>среднее</td>\n",
              "      <td>1</td>\n",
              "      <td>вдовец / вдова</td>\n",
              "      <td>2</td>\n",
              "      <td>F</td>\n",
              "      <td>пенсионер</td>\n",
              "      <td>0</td>\n",
              "      <td>56823.777243</td>\n",
              "      <td>на покупку подержанного автомобиля</td>\n",
              "    </tr>\n",
              "    <tr>\n",
              "      <th>19</th>\n",
              "      <td>0</td>\n",
              "      <td>-10038.818549</td>\n",
              "      <td>48</td>\n",
              "      <td>СРЕДНЕЕ</td>\n",
              "      <td>1</td>\n",
              "      <td>в разводе</td>\n",
              "      <td>3</td>\n",
              "      <td>F</td>\n",
              "      <td>сотрудник</td>\n",
              "      <td>0</td>\n",
              "      <td>242831.107982</td>\n",
              "      <td>на покупку своего автомобиля</td>\n",
              "    </tr>\n",
              "  </tbody>\n",
              "</table>\n",
              "</div>"
            ],
            "text/plain": [
              "    children  days_employed  dob_years            education  education_id  \\\n",
              "0          1   -8437.673028         42               высшее             0   \n",
              "1          1   -4024.803754         36              среднее             1   \n",
              "2          0   -5623.422610         33              Среднее             1   \n",
              "3          3   -4124.747207         32              среднее             1   \n",
              "4          0  340266.072047         53              среднее             1   \n",
              "5          0    -926.185831         27               высшее             0   \n",
              "6          0   -2879.202052         43               высшее             0   \n",
              "7          0    -152.779569         50              СРЕДНЕЕ             1   \n",
              "8          2   -6929.865299         35               ВЫСШЕЕ             0   \n",
              "9          0   -2188.756445         41              среднее             1   \n",
              "10         2   -4171.483647         36               высшее             0   \n",
              "11         0    -792.701887         40              среднее             1   \n",
              "12         0            NaN         65              среднее             1   \n",
              "13         0   -1846.641941         54  неоконченное высшее             2   \n",
              "14         0   -1844.956182         56               высшее             0   \n",
              "15         1    -972.364419         26              среднее             1   \n",
              "16         0   -1719.934226         35              среднее             1   \n",
              "17         0   -2369.999720         33               высшее             0   \n",
              "18         0  400281.136913         53              среднее             1   \n",
              "19         0  -10038.818549         48              СРЕДНЕЕ             1   \n",
              "\n",
              "       family_status  family_status_id gender income_type  debt  \\\n",
              "0    женат / замужем                 0      F   сотрудник     0   \n",
              "1    женат / замужем                 0      F   сотрудник     0   \n",
              "2    женат / замужем                 0      M   сотрудник     0   \n",
              "3    женат / замужем                 0      M   сотрудник     0   \n",
              "4   гражданский брак                 1      F   пенсионер     0   \n",
              "5   гражданский брак                 1      M   компаньон     0   \n",
              "6    женат / замужем                 0      F   компаньон     0   \n",
              "7    женат / замужем                 0      M   сотрудник     0   \n",
              "8   гражданский брак                 1      F   сотрудник     0   \n",
              "9    женат / замужем                 0      M   сотрудник     0   \n",
              "10   женат / замужем                 0      M   компаньон     0   \n",
              "11   женат / замужем                 0      F   сотрудник     0   \n",
              "12  гражданский брак                 1      M   пенсионер     0   \n",
              "13   женат / замужем                 0      F   сотрудник     0   \n",
              "14  гражданский брак                 1      F   компаньон     1   \n",
              "15   женат / замужем                 0      F   сотрудник     0   \n",
              "16   женат / замужем                 0      F   сотрудник     0   \n",
              "17  гражданский брак                 1      M   сотрудник     0   \n",
              "18    вдовец / вдова                 2      F   пенсионер     0   \n",
              "19         в разводе                 3      F   сотрудник     0   \n",
              "\n",
              "     total_income                                 purpose  \n",
              "0   253875.639453                           покупка жилья  \n",
              "1   112080.014102                 приобретение автомобиля  \n",
              "2   145885.952297                           покупка жилья  \n",
              "3   267628.550329              дополнительное образование  \n",
              "4   158616.077870                         сыграть свадьбу  \n",
              "5   255763.565419                           покупка жилья  \n",
              "6   240525.971920                       операции с жильем  \n",
              "7   135823.934197                             образование  \n",
              "8    95856.832424                   на проведение свадьбы  \n",
              "9   144425.938277                 покупка жилья для семьи  \n",
              "10  113943.491460                    покупка недвижимости  \n",
              "11   77069.234271       покупка коммерческой недвижимости  \n",
              "12            NaN                         сыграть свадьбу  \n",
              "13  130458.228857                 приобретение автомобиля  \n",
              "14  165127.911772              покупка жилой недвижимости  \n",
              "15  116820.904450  строительство собственной недвижимости  \n",
              "16  289202.704229                            недвижимость  \n",
              "17   90410.586745              строительство недвижимости  \n",
              "18   56823.777243      на покупку подержанного автомобиля  \n",
              "19  242831.107982            на покупку своего автомобиля  "
            ]
          },
          "execution_count": 2,
          "metadata": {},
          "output_type": "execute_result"
        }
      ],
      "source": [
        "data.head(20)"
      ]
    },
    {
      "cell_type": "markdown",
      "id": "7832efd8",
      "metadata": {
        "deletable": false,
        "editable": false,
        "id": "7832efd8"
      },
      "source": [
        "### Вывод основной информации о датафрейме с помощью метода `info()`."
      ]
    },
    {
      "cell_type": "code",
      "execution_count": null,
      "id": "73f3082b",
      "metadata": {
        "deletable": false,
        "id": "73f3082b",
        "outputId": "15376089-8dad-46c9-b520-c05248d43158"
      },
      "outputs": [
        {
          "name": "stdout",
          "output_type": "stream",
          "text": [
            "<class 'pandas.core.frame.DataFrame'>\n",
            "RangeIndex: 21525 entries, 0 to 21524\n",
            "Data columns (total 12 columns):\n",
            " #   Column            Non-Null Count  Dtype  \n",
            "---  ------            --------------  -----  \n",
            " 0   children          21525 non-null  int64  \n",
            " 1   days_employed     19351 non-null  float64\n",
            " 2   dob_years         21525 non-null  int64  \n",
            " 3   education         21525 non-null  object \n",
            " 4   education_id      21525 non-null  int64  \n",
            " 5   family_status     21525 non-null  object \n",
            " 6   family_status_id  21525 non-null  int64  \n",
            " 7   gender            21525 non-null  object \n",
            " 8   income_type       21525 non-null  object \n",
            " 9   debt              21525 non-null  int64  \n",
            " 10  total_income      19351 non-null  float64\n",
            " 11  purpose           21525 non-null  object \n",
            "dtypes: float64(2), int64(5), object(5)\n",
            "memory usage: 2.0+ MB\n"
          ]
        }
      ],
      "source": [
        "data.info()"
      ]
    },
    {
      "cell_type": "markdown",
      "id": "455ace7a",
      "metadata": {
        "deletable": false,
        "editable": false,
        "id": "455ace7a"
      },
      "source": [
        "## Предобработка данных"
      ]
    },
    {
      "cell_type": "markdown",
      "id": "0122a148",
      "metadata": {
        "deletable": false,
        "editable": false,
        "id": "0122a148"
      },
      "source": [
        "### Удаление пропусков"
      ]
    },
    {
      "cell_type": "markdown",
      "id": "53c9b9a9",
      "metadata": {
        "deletable": false,
        "editable": false,
        "id": "53c9b9a9"
      },
      "source": [
        "### Вывод количества пропущенных значений для каждого столбца."
      ]
    },
    {
      "cell_type": "code",
      "execution_count": null,
      "id": "2ec7ca46",
      "metadata": {
        "deletable": false,
        "id": "2ec7ca46",
        "outputId": "81f4d817-781c-465c-ed15-91ce4446810d"
      },
      "outputs": [
        {
          "data": {
            "text/plain": [
              "children               0\n",
              "days_employed       2174\n",
              "dob_years              0\n",
              "education              0\n",
              "education_id           0\n",
              "family_status          0\n",
              "family_status_id       0\n",
              "gender                 0\n",
              "income_type            0\n",
              "debt                   0\n",
              "total_income        2174\n",
              "purpose                0\n",
              "dtype: int64"
            ]
          },
          "execution_count": 4,
          "metadata": {},
          "output_type": "execute_result"
        }
      ],
      "source": [
        "data.isna().sum()"
      ]
    },
    {
      "cell_type": "markdown",
      "id": "a91946b7",
      "metadata": {
        "deletable": false,
        "editable": false,
        "id": "a91946b7"
      },
      "source": [
        "В двух столбцах есть пропущенные значения. Один из них — `days_employed`. \n",
        "Столбец с пропущенными значениями — `total_income` — хранит данные о доходах. На сумму дохода сильнее всего влияет тип занятости, поэтому заполнить пропуски в этом столбце нужно медианным значением по каждому типу из столбца `income_type`. Например, у человека с типом занятости `сотрудник` пропуск в столбце `total_income` должен быть заполнен медианным доходом среди всех записей с тем же типом."
      ]
    },
    {
      "cell_type": "code",
      "execution_count": null,
      "id": "70f9c5fe",
      "metadata": {
        "deletable": false,
        "id": "70f9c5fe"
      },
      "outputs": [],
      "source": [
        "for t in data['income_type'].unique():\n",
        "    data.loc[(data['income_type'] == t) & (data['total_income'].isna()), 'total_income'] = \\\n",
        "    data.loc[(data['income_type'] == t), 'total_income'].median()"
      ]
    },
    {
      "cell_type": "markdown",
      "id": "34a694c0",
      "metadata": {
        "deletable": false,
        "editable": false,
        "id": "34a694c0"
      },
      "source": [
        "### Обработка аномальных значений"
      ]
    },
    {
      "cell_type": "markdown",
      "id": "d63942c6",
      "metadata": {
        "deletable": false,
        "editable": false,
        "id": "d63942c6"
      },
      "source": [
        "В данных могут встречаться артефакты (аномалии) — значения, которые не отражают действительность и появились по какой-то ошибке. таким артефактом будет отрицательное количество дней трудового стажа в столбце `days_employed`. Для реальных данных это нормально. Требуется обработать значения в этом столбце: заменить все отрицательные значения положительными с помощью метода `abs()`."
      ]
    },
    {
      "cell_type": "code",
      "execution_count": null,
      "id": "c6c63195",
      "metadata": {
        "deletable": false,
        "id": "c6c63195"
      },
      "outputs": [],
      "source": [
        "data['days_employed'] = data['days_employed'].abs()"
      ]
    },
    {
      "cell_type": "markdown",
      "id": "e376cba0",
      "metadata": {
        "deletable": false,
        "editable": false,
        "id": "e376cba0"
      },
      "source": [
        "### Вывод для каждого типа занятости медианное значение трудового стажа `days_employed` в днях."
      ]
    },
    {
      "cell_type": "code",
      "execution_count": null,
      "id": "d655908b",
      "metadata": {
        "deletable": false,
        "id": "d655908b",
        "outputId": "801ef80e-522b-4668-f34e-565af7432bcf"
      },
      "outputs": [
        {
          "data": {
            "text/plain": [
              "income_type\n",
              "безработный        366413.652744\n",
              "в декрете            3296.759962\n",
              "госслужащий          2689.368353\n",
              "компаньон            1547.382223\n",
              "пенсионер          365213.306266\n",
              "предприниматель       520.848083\n",
              "сотрудник            1574.202821\n",
              "студент               578.751554\n",
              "Name: days_employed, dtype: float64"
            ]
          },
          "execution_count": 7,
          "metadata": {},
          "output_type": "execute_result"
        }
      ],
      "source": [
        "data.groupby('income_type')['days_employed'].agg('median')"
      ]
    },
    {
      "cell_type": "markdown",
      "id": "a336903b",
      "metadata": {
        "deletable": false,
        "editable": false,
        "id": "a336903b"
      },
      "source": [
        "У двух типов (безработные и пенсионеры) получатся аномально большие значения. Исправить такие значения сложно, поэтому оставьте их как есть. Тем более этот столбец не понадобится вам для исследования."
      ]
    },
    {
      "cell_type": "markdown",
      "id": "9ddd03e4",
      "metadata": {
        "deletable": false,
        "editable": false,
        "id": "9ddd03e4"
      },
      "source": [
        "### Вывод перечня уникальных значений столбца `children`."
      ]
    },
    {
      "cell_type": "code",
      "execution_count": null,
      "id": "26da1080",
      "metadata": {
        "deletable": false,
        "id": "26da1080",
        "outputId": "6975b15c-7f95-4697-d16d-a0c79b657b03"
      },
      "outputs": [
        {
          "data": {
            "text/plain": [
              "array([ 1,  0,  3,  2, -1,  4, 20,  5])"
            ]
          },
          "execution_count": 8,
          "metadata": {},
          "output_type": "execute_result"
        }
      ],
      "source": [
        "data['children'].unique()"
      ]
    },
    {
      "cell_type": "markdown",
      "id": "085631ad",
      "metadata": {
        "deletable": false,
        "editable": false,
        "id": "085631ad"
      },
      "source": [
        "В столбце `children` есть два аномальных значения. Нужно удалить строки, в которых встречаются такие аномальные значения из датафрейма `data`."
      ]
    },
    {
      "cell_type": "code",
      "execution_count": null,
      "id": "4131c9c2",
      "metadata": {
        "deletable": false,
        "id": "4131c9c2"
      },
      "outputs": [],
      "source": [
        "data = data[(data['children'] != -1) & (data['children'] != 20)]"
      ]
    },
    {
      "cell_type": "code",
      "execution_count": null,
      "id": "ef87d6d9",
      "metadata": {
        "deletable": false,
        "id": "ef87d6d9",
        "outputId": "b2097101-d49d-44d9-901b-32a65c9463d1"
      },
      "outputs": [
        {
          "data": {
            "text/plain": [
              "array([1, 0, 3, 2, 4, 5])"
            ]
          },
          "execution_count": 10,
          "metadata": {},
          "output_type": "execute_result"
        }
      ],
      "source": [
        "data['children'].unique()"
      ]
    },
    {
      "cell_type": "markdown",
      "id": "533ab51a",
      "metadata": {
        "deletable": false,
        "editable": false,
        "id": "533ab51a"
      },
      "source": [
        "### Удаление пропусков (продолжение)"
      ]
    },
    {
      "cell_type": "markdown",
      "id": "ca64993c",
      "metadata": {
        "deletable": false,
        "editable": false,
        "id": "ca64993c"
      },
      "source": [
        "Заполнение пропусков в столбце `days_employed` медианными значениями по каждого типа занятости `income_type`."
      ]
    },
    {
      "cell_type": "code",
      "execution_count": null,
      "id": "81a6a40f",
      "metadata": {
        "deletable": false,
        "id": "81a6a40f"
      },
      "outputs": [],
      "source": [
        "for t in data['income_type'].unique():\n",
        "    data.loc[(data['income_type'] == t) & (data['days_employed'].isna()), 'days_employed'] = \\\n",
        "    data.loc[(data['income_type'] == t), 'days_employed'].median()"
      ]
    },
    {
      "cell_type": "code",
      "execution_count": null,
      "id": "80a0e977",
      "metadata": {
        "deletable": false,
        "id": "80a0e977",
        "outputId": "8da1e4e1-358e-4e87-98c9-f261bce0a7b2"
      },
      "outputs": [
        {
          "data": {
            "text/plain": [
              "children            0\n",
              "days_employed       0\n",
              "dob_years           0\n",
              "education           0\n",
              "education_id        0\n",
              "family_status       0\n",
              "family_status_id    0\n",
              "gender              0\n",
              "income_type         0\n",
              "debt                0\n",
              "total_income        0\n",
              "purpose             0\n",
              "dtype: int64"
            ]
          },
          "execution_count": 12,
          "metadata": {},
          "output_type": "execute_result"
        }
      ],
      "source": [
        "data.isna().sum()"
      ]
    },
    {
      "cell_type": "markdown",
      "id": "5d305683",
      "metadata": {
        "deletable": false,
        "editable": false,
        "id": "5d305683"
      },
      "source": [
        "### Изменение типов данных"
      ]
    },
    {
      "cell_type": "markdown",
      "id": "eadc79d6",
      "metadata": {
        "deletable": false,
        "editable": false,
        "id": "eadc79d6"
      },
      "source": [
        "Замена вещественного тип данных в столбце `total_income` на целочисленный с помощью метода `astype()`."
      ]
    },
    {
      "cell_type": "code",
      "execution_count": null,
      "id": "8ff1de96",
      "metadata": {
        "deletable": false,
        "id": "8ff1de96"
      },
      "outputs": [],
      "source": [
        "data['total_income'] = data['total_income'].astype(int)"
      ]
    },
    {
      "cell_type": "markdown",
      "id": "71609d21",
      "metadata": {
        "deletable": false,
        "editable": false,
        "id": "71609d21"
      },
      "source": [
        "### Обработка дубликатов"
      ]
    },
    {
      "cell_type": "markdown",
      "id": "833c672a",
      "metadata": {
        "deletable": false,
        "editable": false,
        "id": "833c672a"
      },
      "source": [
        "Обработка неявных дубликатов в столбце `education`. В этом столбце есть одни и те же значения, но записанные по-разному: с использованием заглавных и строчных букв."
      ]
    },
    {
      "cell_type": "code",
      "execution_count": null,
      "id": "40c82ee8",
      "metadata": {
        "deletable": false,
        "id": "40c82ee8"
      },
      "outputs": [],
      "source": [
        "data['education'] = data['education'].str.lower()"
      ]
    },
    {
      "cell_type": "markdown",
      "id": "2f28a1ab",
      "metadata": {
        "deletable": false,
        "editable": false,
        "id": "2f28a1ab"
      },
      "source": [
        "Вывод на экран количество строк-дубликатов в данных."
      ]
    },
    {
      "cell_type": "code",
      "execution_count": null,
      "id": "42e2e83a",
      "metadata": {
        "deletable": false,
        "id": "42e2e83a",
        "outputId": "9684deba-1934-42d1-99e1-cda61740f822"
      },
      "outputs": [
        {
          "data": {
            "text/plain": [
              "71"
            ]
          },
          "execution_count": 15,
          "metadata": {},
          "output_type": "execute_result"
        }
      ],
      "source": [
        "data.duplicated().sum()"
      ]
    },
    {
      "cell_type": "code",
      "execution_count": null,
      "id": "6317694b",
      "metadata": {
        "deletable": false,
        "id": "6317694b"
      },
      "outputs": [],
      "source": [
        "data = data.drop_duplicates()"
      ]
    },
    {
      "cell_type": "markdown",
      "id": "ebaf3294",
      "metadata": {
        "deletable": false,
        "editable": false,
        "id": "ebaf3294"
      },
      "source": [
        "### Категоризация данных"
      ]
    },
    {
      "cell_type": "markdown",
      "id": "1df538f5",
      "metadata": {
        "deletable": false,
        "editable": false,
        "id": "1df538f5"
      },
      "source": [
        "На основании диапазонов, указанных ниже, создание в датафрейме `data` столбца `total_income_category` с категориями:\n",
        "\n",
        "- 0–30000 — `'E'`;\n",
        "- 30001–50000 — `'D'`;\n",
        "- 50001–200000 — `'C'`;\n",
        "- 200001–1000000 — `'B'`;\n",
        "- 1000001 и выше — `'A'`."
      ]
    },
    {
      "cell_type": "code",
      "execution_count": null,
      "id": "c6346064",
      "metadata": {
        "deletable": false,
        "id": "c6346064"
      },
      "outputs": [],
      "source": [
        "def categorize_income(income):\n",
        "    try:\n",
        "        if 0 <= income <= 30000:\n",
        "            return 'E'\n",
        "        elif 30001 <= income <= 50000:\n",
        "            return 'D'\n",
        "        elif 50001 <= income <= 200000:\n",
        "            return 'C'\n",
        "        elif 200001 <= income <= 1000000:\n",
        "            return 'B'\n",
        "        elif income >= 1000001:\n",
        "            return 'A'\n",
        "    except:\n",
        "        pass"
      ]
    },
    {
      "cell_type": "code",
      "execution_count": null,
      "id": "263838cc",
      "metadata": {
        "deletable": false,
        "id": "263838cc"
      },
      "outputs": [],
      "source": [
        "data['total_income_category'] = data['total_income'].apply(categorize_income)"
      ]
    },
    {
      "cell_type": "markdown",
      "id": "63678b4b",
      "metadata": {
        "deletable": false,
        "editable": false,
        "id": "63678b4b"
      },
      "source": [
        "Создание функции, которая на основании данных из столбца `purpose` сформирует новый столбец `purpose_category`, в который войдут следующие категории:\n",
        "\n",
        "- `'операции с автомобилем'`,\n",
        "- `'операции с недвижимостью'`,\n",
        "- `'проведение свадьбы'`,\n",
        "- `'получение образования'`.\n"
      ]
    },
    {
      "cell_type": "code",
      "execution_count": null,
      "id": "ecccf973",
      "metadata": {
        "deletable": false,
        "id": "ecccf973"
      },
      "outputs": [],
      "source": [
        "def categorize_purpose(row):\n",
        "    try:\n",
        "        if 'автом' in row:\n",
        "            return 'операции с автомобилем'\n",
        "        elif 'жил' in row or 'недвиж' in row:\n",
        "            return 'операции с недвижимостью'\n",
        "        elif 'свад' in row:\n",
        "            return 'проведение свадьбы'\n",
        "        elif 'образов' in row:\n",
        "            return 'получение образования'\n",
        "    except:\n",
        "        return 'нет категории'"
      ]
    },
    {
      "cell_type": "code",
      "execution_count": null,
      "id": "db54ec62",
      "metadata": {
        "deletable": false,
        "id": "db54ec62"
      },
      "outputs": [],
      "source": [
        "data['purpose_category'] = data['purpose'].apply(categorize_purpose)"
      ]
    },
    {
      "cell_type": "markdown",
      "id": "3172761d",
      "metadata": {
        "deletable": false,
        "editable": false,
        "id": "3172761d"
      },
      "source": [
        "### Шаг 3. Исследование данных"
      ]
    },
    {
      "cell_type": "markdown",
      "id": "e8fb1352",
      "metadata": {
        "deletable": false,
        "editable": false,
        "id": "e8fb1352"
      },
      "source": [
        "#### 3.1 Есть ли зависимость между количеством детей и возвратом кредита в срок?"
      ]
    },
    {
      "cell_type": "code",
      "execution_count": null,
      "id": "eeac037d",
      "metadata": {
        "deletable": false,
        "id": "eeac037d",
        "outputId": "1ad07f5d-3ddf-46a7-e654-576db243fe99"
      },
      "outputs": [
        {
          "data": {
            "text/plain": [
              "0.02464341543959104"
            ]
          },
          "execution_count": 22,
          "metadata": {},
          "output_type": "execute_result"
        }
      ],
      "source": [
        "# Ваш код будет здесь. Вы можете создавать новые ячейки.\n",
        "data['debt'].corr(data['children'])"
      ]
    },
    {
      "cell_type": "code",
      "execution_count": null,
      "id": "b295ef3d",
      "metadata": {
        "id": "b295ef3d",
        "outputId": "a632785e-bfb8-4377-a800-0dc0f7447964"
      },
      "outputs": [
        {
          "data": {
            "text/plain": [
              "<AxesSubplot:xlabel='children'>"
            ]
          },
          "execution_count": 23,
          "metadata": {},
          "output_type": "execute_result"
        },
        {
          "data": {
            "image/png": "[encoded data removed]",
            "text/plain": [
              "<Figure size 432x288 with 1 Axes>"
            ]
          },
          "metadata": {
            "needs_background": "light"
          },
          "output_type": "display_data"
        }
      ],
      "source": [
        "#Построим сводную таблицу по количеству детей и среднему значению долгов, визуализируем результат\n",
        "pd.pivot_table(data[['debt','children']], index=['children'], aggfunc='mean').plot()"
      ]
    },
    {
      "cell_type": "code",
      "execution_count": null,
      "id": "d4508a1a",
      "metadata": {
        "id": "d4508a1a",
        "outputId": "39d79868-dff2-43fc-8899-93a155416ced"
      },
      "outputs": [
        {
          "data": {
            "text/plain": [
              "0    14091\n",
              "1     4808\n",
              "2     2052\n",
              "3      330\n",
              "4       41\n",
              "5        9\n",
              "Name: children, dtype: int64"
            ]
          },
          "execution_count": 24,
          "metadata": {},
          "output_type": "execute_result"
        }
      ],
      "source": [
        "#Проверим количество строк по каждому значению\n",
        "data['children'].value_counts()"
      ]
    },
    {
      "cell_type": "code",
      "execution_count": null,
      "id": "2cc8b3c9",
      "metadata": {
        "id": "2cc8b3c9",
        "outputId": "f1235817-1188-473e-ff69-dda27a878c0e"
      },
      "outputs": [
        {
          "data": {
            "text/html": [
              "<div>\n",
              "<style scoped>\n",
              "    .dataframe tbody tr th:only-of-type {\n",
              "        vertical-align: middle;\n",
              "    }\n",
              "\n",
              "    .dataframe tbody tr th {\n",
              "        vertical-align: top;\n",
              "    }\n",
              "\n",
              "    .dataframe thead th {\n",
              "        text-align: right;\n",
              "    }\n",
              "</style>\n",
              "<table border=\"1\" class=\"dataframe\">\n",
              "  <thead>\n",
              "    <tr style=\"text-align: right;\">\n",
              "      <th></th>\n",
              "      <th>total_count</th>\n",
              "      <th>debt_count</th>\n",
              "      <th>debt_percentage</th>\n",
              "    </tr>\n",
              "    <tr>\n",
              "      <th>children</th>\n",
              "      <th></th>\n",
              "      <th></th>\n",
              "      <th></th>\n",
              "    </tr>\n",
              "  </thead>\n",
              "  <tbody>\n",
              "    <tr>\n",
              "      <th>0</th>\n",
              "      <td>14091</td>\n",
              "      <td>1063</td>\n",
              "      <td>7.543822</td>\n",
              "    </tr>\n",
              "    <tr>\n",
              "      <th>1</th>\n",
              "      <td>4808</td>\n",
              "      <td>444</td>\n",
              "      <td>9.234609</td>\n",
              "    </tr>\n",
              "    <tr>\n",
              "      <th>2</th>\n",
              "      <td>2052</td>\n",
              "      <td>194</td>\n",
              "      <td>9.454191</td>\n",
              "    </tr>\n",
              "    <tr>\n",
              "      <th>3</th>\n",
              "      <td>330</td>\n",
              "      <td>27</td>\n",
              "      <td>8.181818</td>\n",
              "    </tr>\n",
              "    <tr>\n",
              "      <th>4</th>\n",
              "      <td>41</td>\n",
              "      <td>4</td>\n",
              "      <td>9.756098</td>\n",
              "    </tr>\n",
              "    <tr>\n",
              "      <th>5</th>\n",
              "      <td>9</td>\n",
              "      <td>0</td>\n",
              "      <td>0.000000</td>\n",
              "    </tr>\n",
              "  </tbody>\n",
              "</table>\n",
              "</div>"
            ],
            "text/plain": [
              "          total_count  debt_count  debt_percentage\n",
              "children                                          \n",
              "0               14091        1063         7.543822\n",
              "1                4808         444         9.234609\n",
              "2                2052         194         9.454191\n",
              "3                 330          27         8.181818\n",
              "4                  41           4         9.756098\n",
              "5                   9           0         0.000000"
            ]
          },
          "execution_count": 25,
          "metadata": {},
          "output_type": "execute_result"
        }
      ],
      "source": [
        "#Сводная таблица,содержащая свдения о проценте просроченных долгов по категориям\n",
        "children_factor = pd.pivot_table(data[['debt','children']], index=['children'], aggfunc=['count', 'sum'])\n",
        "children_factor.columns = ['total_count', 'debt_count']\n",
        "children_factor['debt_percentage'] = (children_factor['debt_count']/children_factor['total_count'])*100\n",
        "children_factor"
      ]
    },
    {
      "cell_type": "markdown",
      "id": "08a7c65e",
      "metadata": {
        "deletable": false,
        "id": "08a7c65e"
      },
      "source": [
        "**Вывод:** \n",
        "Явной зависимости между количеством детей и возвратом кредита в срок нет, случаев с пятью детьми мало.\n",
        "В категории без детей (0) процент возвратов кредитов в среднем на 2% выше, чем у остальных категорий. "
      ]
    },
    {
      "cell_type": "markdown",
      "id": "f5713d12",
      "metadata": {
        "deletable": false,
        "editable": false,
        "id": "f5713d12"
      },
      "source": [
        "#### 3.2 Есть ли зависимость между семейным положением и возвратом кредита в срок?"
      ]
    },
    {
      "cell_type": "code",
      "execution_count": null,
      "id": "8b6fe4b7",
      "metadata": {
        "deletable": false,
        "id": "8b6fe4b7",
        "outputId": "b905ca0f-6d02-45b5-e515-0dfc9db63710"
      },
      "outputs": [
        {
          "data": {
            "text/plain": [
              "<AxesSubplot:xlabel='family_status'>"
            ]
          },
          "execution_count": 26,
          "metadata": {},
          "output_type": "execute_result"
        },
        {
          "data": {
            "image/png": "[encoded data removed]",
            "text/plain": [
              "<Figure size 1080x360 with 1 Axes>"
            ]
          },
          "metadata": {
            "needs_background": "light"
          },
          "output_type": "display_data"
        }
      ],
      "source": [
        "# Ваш код будет здесь. Вы можете создавать новые ячейки.\n",
        "pd.pivot_table(data[['debt','family_status']], index=['family_status'], aggfunc='mean').plot(figsize=(15, 5))"
      ]
    },
    {
      "cell_type": "code",
      "execution_count": null,
      "id": "f6222ef7",
      "metadata": {
        "id": "f6222ef7",
        "outputId": "d861dbfc-f4e5-4ac8-9c2b-83da76e5e327"
      },
      "outputs": [
        {
          "data": {
            "text/html": [
              "<div>\n",
              "<style scoped>\n",
              "    .dataframe tbody tr th:only-of-type {\n",
              "        vertical-align: middle;\n",
              "    }\n",
              "\n",
              "    .dataframe tbody tr th {\n",
              "        vertical-align: top;\n",
              "    }\n",
              "\n",
              "    .dataframe thead th {\n",
              "        text-align: right;\n",
              "    }\n",
              "</style>\n",
              "<table border=\"1\" class=\"dataframe\">\n",
              "  <thead>\n",
              "    <tr style=\"text-align: right;\">\n",
              "      <th></th>\n",
              "      <th>total_count</th>\n",
              "      <th>debt_count</th>\n",
              "      <th>debt_percentage</th>\n",
              "    </tr>\n",
              "    <tr>\n",
              "      <th>family_status</th>\n",
              "      <th></th>\n",
              "      <th></th>\n",
              "      <th></th>\n",
              "    </tr>\n",
              "  </thead>\n",
              "  <tbody>\n",
              "    <tr>\n",
              "      <th>Не женат / не замужем</th>\n",
              "      <td>2796</td>\n",
              "      <td>273</td>\n",
              "      <td>9.763948</td>\n",
              "    </tr>\n",
              "    <tr>\n",
              "      <th>гражданский брак</th>\n",
              "      <td>4134</td>\n",
              "      <td>385</td>\n",
              "      <td>9.313014</td>\n",
              "    </tr>\n",
              "    <tr>\n",
              "      <th>женат / замужем</th>\n",
              "      <td>12261</td>\n",
              "      <td>927</td>\n",
              "      <td>7.560558</td>\n",
              "    </tr>\n",
              "    <tr>\n",
              "      <th>в разводе</th>\n",
              "      <td>1189</td>\n",
              "      <td>84</td>\n",
              "      <td>7.064760</td>\n",
              "    </tr>\n",
              "    <tr>\n",
              "      <th>вдовец / вдова</th>\n",
              "      <td>951</td>\n",
              "      <td>63</td>\n",
              "      <td>6.624606</td>\n",
              "    </tr>\n",
              "  </tbody>\n",
              "</table>\n",
              "</div>"
            ],
            "text/plain": [
              "                       total_count  debt_count  debt_percentage\n",
              "family_status                                                  \n",
              "Не женат / не замужем         2796         273         9.763948\n",
              "гражданский брак              4134         385         9.313014\n",
              "женат / замужем              12261         927         7.560558\n",
              "в разводе                     1189          84         7.064760\n",
              "вдовец / вдова                 951          63         6.624606"
            ]
          },
          "execution_count": 27,
          "metadata": {},
          "output_type": "execute_result"
        }
      ],
      "source": [
        "#Сводная таблица,содержащая свдения о проценте просроченных долгов по категориям\n",
        "family_status_factor = pd.pivot_table(data[['debt','family_status']], index=['family_status'], aggfunc=['count', 'sum'])\n",
        "family_status_factor.columns = ['total_count', 'debt_count']\n",
        "family_status_factor['debt_percentage'] = (family_status_factor['debt_count']/family_status_factor['total_count'])*100\n",
        "family_status_factor.sort_values(by='debt_percentage', ascending=False)"
      ]
    },
    {
      "cell_type": "markdown",
      "id": "bfd42a02",
      "metadata": {
        "deletable": false,
        "id": "bfd42a02"
      },
      "source": [
        "**Вывод:** \n",
        "Наблюдается увеличение количества долгов у не женатых/не замужних и у людей в гражданском браке."
      ]
    },
    {
      "cell_type": "markdown",
      "id": "51ec6ead",
      "metadata": {
        "deletable": false,
        "editable": false,
        "id": "51ec6ead"
      },
      "source": [
        "#### 3.3 Есть ли зависимость между уровнем дохода и возвратом кредита в срок?"
      ]
    },
    {
      "cell_type": "code",
      "execution_count": null,
      "id": "421bb4f1",
      "metadata": {
        "deletable": false,
        "id": "421bb4f1",
        "outputId": "507540ca-464a-45c9-8d23-aab254551e9f"
      },
      "outputs": [
        {
          "data": {
            "text/plain": [
              "<AxesSubplot:xlabel='total_income_category'>"
            ]
          },
          "execution_count": 28,
          "metadata": {},
          "output_type": "execute_result"
        },
        {
          "data": {
            "image/png": "[encoded data removed]",
            "text/plain": [
              "<Figure size 1080x360 with 1 Axes>"
            ]
          },
          "metadata": {
            "needs_background": "light"
          },
          "output_type": "display_data"
        }
      ],
      "source": [
        "# Ваш код будет здесь. Вы можете создавать новые ячейки.\n",
        "pd.pivot_table(data[['debt','total_income_category']], index=['total_income_category'], aggfunc='mean').plot(figsize=(15, 5))"
      ]
    },
    {
      "cell_type": "code",
      "execution_count": null,
      "id": "48005139",
      "metadata": {
        "id": "48005139",
        "outputId": "1a12bf95-9b6f-47ca-b0d6-45e13533ef09"
      },
      "outputs": [
        {
          "data": {
            "text/plain": [
              "C    15921\n",
              "B     5014\n",
              "D      349\n",
              "A       25\n",
              "E       22\n",
              "Name: total_income_category, dtype: int64"
            ]
          },
          "execution_count": 29,
          "metadata": {},
          "output_type": "execute_result"
        }
      ],
      "source": [
        "#Проверим количество строк по каждому значению\n",
        "data['total_income_category'].value_counts()"
      ]
    },
    {
      "cell_type": "code",
      "execution_count": null,
      "id": "1e8bc7c5",
      "metadata": {
        "id": "1e8bc7c5",
        "outputId": "27285ce8-4835-43f0-c2f8-72ae5aae069f"
      },
      "outputs": [
        {
          "data": {
            "text/html": [
              "<div>\n",
              "<style scoped>\n",
              "    .dataframe tbody tr th:only-of-type {\n",
              "        vertical-align: middle;\n",
              "    }\n",
              "\n",
              "    .dataframe tbody tr th {\n",
              "        vertical-align: top;\n",
              "    }\n",
              "\n",
              "    .dataframe thead th {\n",
              "        text-align: right;\n",
              "    }\n",
              "</style>\n",
              "<table border=\"1\" class=\"dataframe\">\n",
              "  <thead>\n",
              "    <tr style=\"text-align: right;\">\n",
              "      <th></th>\n",
              "      <th>total_count</th>\n",
              "      <th>debt_count</th>\n",
              "      <th>debt_percentage</th>\n",
              "    </tr>\n",
              "    <tr>\n",
              "      <th>total_income_category</th>\n",
              "      <th></th>\n",
              "      <th></th>\n",
              "      <th></th>\n",
              "    </tr>\n",
              "  </thead>\n",
              "  <tbody>\n",
              "    <tr>\n",
              "      <th>A</th>\n",
              "      <td>25</td>\n",
              "      <td>2</td>\n",
              "      <td>8.000000</td>\n",
              "    </tr>\n",
              "    <tr>\n",
              "      <th>B</th>\n",
              "      <td>5014</td>\n",
              "      <td>354</td>\n",
              "      <td>7.060231</td>\n",
              "    </tr>\n",
              "    <tr>\n",
              "      <th>C</th>\n",
              "      <td>15921</td>\n",
              "      <td>1353</td>\n",
              "      <td>8.498210</td>\n",
              "    </tr>\n",
              "    <tr>\n",
              "      <th>D</th>\n",
              "      <td>349</td>\n",
              "      <td>21</td>\n",
              "      <td>6.017192</td>\n",
              "    </tr>\n",
              "    <tr>\n",
              "      <th>E</th>\n",
              "      <td>22</td>\n",
              "      <td>2</td>\n",
              "      <td>9.090909</td>\n",
              "    </tr>\n",
              "  </tbody>\n",
              "</table>\n",
              "</div>"
            ],
            "text/plain": [
              "                       total_count  debt_count  debt_percentage\n",
              "total_income_category                                          \n",
              "A                               25           2         8.000000\n",
              "B                             5014         354         7.060231\n",
              "C                            15921        1353         8.498210\n",
              "D                              349          21         6.017192\n",
              "E                               22           2         9.090909"
            ]
          },
          "execution_count": 30,
          "metadata": {},
          "output_type": "execute_result"
        }
      ],
      "source": [
        "#Сводная таблица,содержащая свдения о проценте просроченных долгов по категориям\n",
        "total_income_category_factor = pd.pivot_table(data[['debt','total_income_category']], index=['total_income_category'], aggfunc=['count', 'sum'])\n",
        "total_income_category_factor.columns = ['total_count', 'debt_count']\n",
        "total_income_category_factor['debt_percentage'] = (total_income_category_factor['debt_count']/total_income_category_factor['total_count'])*100\n",
        "total_income_category_factor"
      ]
    },
    {
      "cell_type": "markdown",
      "id": "d1eb9f8c",
      "metadata": {
        "deletable": false,
        "id": "d1eb9f8c"
      },
      "source": [
        "**Вывод:** \n",
        "Исходя из малого количества данных, относящихся к категориям A(25), D(349), E(22), целесообразно сравнить категории B и C. Люди с доходом 50001–200000 (категория 'C') возвращают долги чаще людей с доходом 200001–1000000 (категория 'В') почти на 1,5%."
      ]
    },
    {
      "cell_type": "markdown",
      "id": "d93c721a",
      "metadata": {
        "deletable": false,
        "editable": false,
        "id": "d93c721a"
      },
      "source": [
        "#### 3.4 Как разные цели кредита влияют на его возврат в срок?"
      ]
    },
    {
      "cell_type": "code",
      "execution_count": null,
      "id": "9dca2f57",
      "metadata": {
        "deletable": false,
        "id": "9dca2f57",
        "outputId": "47e45c3f-266d-4833-8551-c17b98c5161a"
      },
      "outputs": [
        {
          "data": {
            "text/plain": [
              "<AxesSubplot:xlabel='purpose_category'>"
            ]
          },
          "execution_count": 31,
          "metadata": {},
          "output_type": "execute_result"
        },
        {
          "data": {
            "image/png": "[encoded data removed]",
            "text/plain": [
              "<Figure size 1080x360 with 1 Axes>"
            ]
          },
          "metadata": {
            "needs_background": "light"
          },
          "output_type": "display_data"
        }
      ],
      "source": [
        "# Ваш код будет здесь. Вы можете создавать новые ячейки.\n",
        "pd.pivot_table(data[['debt','purpose_category']], index=['purpose_category'], aggfunc='mean').plot(figsize=(15, 5))"
      ]
    },
    {
      "cell_type": "code",
      "execution_count": null,
      "id": "ffb3f913",
      "metadata": {
        "id": "ffb3f913",
        "outputId": "822c2144-6eea-49dd-f3f4-6f16a80a1fcb"
      },
      "outputs": [
        {
          "data": {
            "text/plain": [
              "операции с недвижимостью    10751\n",
              "операции с автомобилем       4279\n",
              "получение образования        3988\n",
              "проведение свадьбы           2313\n",
              "Name: purpose_category, dtype: int64"
            ]
          },
          "execution_count": 32,
          "metadata": {},
          "output_type": "execute_result"
        }
      ],
      "source": [
        "#Проверим количество строк по каждому значению\n",
        "data['purpose_category'].value_counts()"
      ]
    },
    {
      "cell_type": "code",
      "execution_count": null,
      "id": "fcdb7151",
      "metadata": {
        "id": "fcdb7151",
        "outputId": "aa7c2711-1ef0-4f1c-9b51-2bbdd3ac0913"
      },
      "outputs": [
        {
          "data": {
            "text/html": [
              "<div>\n",
              "<style scoped>\n",
              "    .dataframe tbody tr th:only-of-type {\n",
              "        vertical-align: middle;\n",
              "    }\n",
              "\n",
              "    .dataframe tbody tr th {\n",
              "        vertical-align: top;\n",
              "    }\n",
              "\n",
              "    .dataframe thead th {\n",
              "        text-align: right;\n",
              "    }\n",
              "</style>\n",
              "<table border=\"1\" class=\"dataframe\">\n",
              "  <thead>\n",
              "    <tr style=\"text-align: right;\">\n",
              "      <th></th>\n",
              "      <th>total_count</th>\n",
              "      <th>debt_count</th>\n",
              "      <th>debt_percentage</th>\n",
              "    </tr>\n",
              "    <tr>\n",
              "      <th>purpose_category</th>\n",
              "      <th></th>\n",
              "      <th></th>\n",
              "      <th></th>\n",
              "    </tr>\n",
              "  </thead>\n",
              "  <tbody>\n",
              "    <tr>\n",
              "      <th>операции с автомобилем</th>\n",
              "      <td>4279</td>\n",
              "      <td>400</td>\n",
              "      <td>9.347978</td>\n",
              "    </tr>\n",
              "    <tr>\n",
              "      <th>получение образования</th>\n",
              "      <td>3988</td>\n",
              "      <td>369</td>\n",
              "      <td>9.252758</td>\n",
              "    </tr>\n",
              "    <tr>\n",
              "      <th>проведение свадьбы</th>\n",
              "      <td>2313</td>\n",
              "      <td>183</td>\n",
              "      <td>7.911803</td>\n",
              "    </tr>\n",
              "    <tr>\n",
              "      <th>операции с недвижимостью</th>\n",
              "      <td>10751</td>\n",
              "      <td>780</td>\n",
              "      <td>7.255139</td>\n",
              "    </tr>\n",
              "  </tbody>\n",
              "</table>\n",
              "</div>"
            ],
            "text/plain": [
              "                          total_count  debt_count  debt_percentage\n",
              "purpose_category                                                  \n",
              "операции с автомобилем           4279         400         9.347978\n",
              "получение образования            3988         369         9.252758\n",
              "проведение свадьбы               2313         183         7.911803\n",
              "операции с недвижимостью        10751         780         7.255139"
            ]
          },
          "execution_count": 33,
          "metadata": {},
          "output_type": "execute_result"
        }
      ],
      "source": [
        "#Сводная таблица,содержащая свдения о проценте просроченных долгов по категориям\n",
        "purpose_category_factor = pd.pivot_table(data[['debt','purpose_category']], index=['purpose_category'], aggfunc=['count', 'sum'])\n",
        "purpose_category_factor.columns = ['total_count', 'debt_count']\n",
        "purpose_category_factor['debt_percentage'] = (purpose_category_factor['debt_count']/purpose_category_factor['total_count'])*100\n",
        "purpose_category_factor.sort_values(by='debt_percentage', ascending=False)"
      ]
    },
    {
      "cell_type": "markdown",
      "id": "92a0fa92",
      "metadata": {
        "deletable": false,
        "id": "92a0fa92"
      },
      "source": [
        "**Вывод:** \n",
        "Хуже всего возвращают кредиты на операции с автомобилем и получение образования. Лучше всего возвращают кредиты на недвижимость."
      ]
    },
    {
      "cell_type": "markdown",
      "id": "40dcd910",
      "metadata": {
        "deletable": false,
        "editable": false,
        "id": "40dcd910"
      },
      "source": [
        "#### 3.5 Возможные причины появления пропусков в исходных данных."
      ]
    },
    {
      "cell_type": "markdown",
      "id": "5b2a1f41",
      "metadata": {
        "deletable": false,
        "id": "5b2a1f41"
      },
      "source": [
        "Пропуски в исходных данных встречаются в двух параметрах: days_employed (стаж работы) и total_income (доход). Вероятно, эту информацию о себе люди не указали (при заполнении анкеты). Причинами пропусков могут также быть ошибки ввода или извлечения данных."
      ]
    },
    {
      "cell_type": "markdown",
      "id": "6298d98c",
      "metadata": {
        "deletable": false,
        "editable": false,
        "id": "6298d98c"
      },
      "source": [
        "### Шаг 4: общий вывод."
      ]
    },
    {
      "cell_type": "markdown",
      "id": "e75281d2",
      "metadata": {
        "deletable": false,
        "id": "e75281d2"
      },
      "source": [
        "Были рассмотрены несколько факторов, которые предполагаемо могуут влиять на своевременный возврат кредита, а именно: количество детей у заявителя, его семейное положение, уровень дохода и цель кредита.\n",
        "\n",
        "- Явной зависимости между количеством детей и возвратом кредита в срок нет, случаев с пятью детьми мало. В категории без детей (0) процент возвратов кредитов в среднем на 2% выше, чем у остальных категорий. В случае с пятью детьми наблюдается  отсутсвие неоплаченных долгов, однако трудно делать определенный вывод, так как такое количество детей встречается только 9 раз.\n",
        "- В зависимости от семейного положения наблюдается разное положение с возвратами кредитов: лучше всего возвращают разведенные, вдовцы и женатые, а хуже всего холостые.(возможное объяснение: различный возраст - холостые моложе, и, как следствие, стаж работы/доход)\n",
        "- Уровень дохода влияет на возврат кредита, лучше всего возвращают люди с доходом в категории D и B, а хуже всего с E. Исходя из малого количества данных, относящихся к категориям A(25), D(349), E(22), целесообразно сравнить категории B и C. Люди с доходом 50001–200000 (категория 'C') возвращают долги чаще людей с доходом 200001–1000000 (категория 'В') почти на 1,5%. \n",
        "- Кредиты на недвижимость возвращают лучше всего (возможное объяснение: сумма как правило существенная и берется осознанно, зачастую под залог) и на свадьбу (возможное объяснение: сумма, как правило, небольшая, частично может возвращаеться с подарков), а хуже всего на операции с автомобилем.\n",
        "\n",
        "Возможно стоит продолжить исследование, взяв более широкую выборку для полноценного учета всех категорий.\n",
        "Также стоит рассмотреть влияние суммы кредита на процент возвратов."
      ]
    }
  ],
  "metadata": {
    "ExecuteTimeLog": [
      {
        "duration": 705,
        "start_time": "2022-08-30T12:35:18.817Z"
      },
      {
        "duration": 20,
        "start_time": "2022-08-30T12:35:19.523Z"
      },
      {
        "duration": 14,
        "start_time": "2022-08-30T12:35:19.869Z"
      },
      {
        "duration": 9,
        "start_time": "2022-08-30T12:35:21.227Z"
      },
      {
        "duration": 32,
        "start_time": "2022-08-30T12:35:21.607Z"
      },
      {
        "duration": 4,
        "start_time": "2022-08-30T12:35:22.206Z"
      },
      {
        "duration": 9,
        "start_time": "2022-08-30T12:35:22.591Z"
      },
      {
        "duration": 5,
        "start_time": "2022-08-30T12:35:24.163Z"
      },
      {
        "duration": 7,
        "start_time": "2022-08-30T12:35:24.921Z"
      },
      {
        "duration": 4,
        "start_time": "2022-08-30T12:35:25.493Z"
      },
      {
        "duration": 32,
        "start_time": "2022-08-30T12:35:26.880Z"
      },
      {
        "duration": 10,
        "start_time": "2022-08-30T12:35:27.509Z"
      },
      {
        "duration": 4,
        "start_time": "2022-08-30T12:35:28.083Z"
      },
      {
        "duration": 16,
        "start_time": "2022-08-30T12:35:28.676Z"
      },
      {
        "duration": 27,
        "start_time": "2022-08-30T12:35:29.407Z"
      },
      {
        "duration": 17,
        "start_time": "2022-08-30T12:35:29.890Z"
      },
      {
        "duration": 4,
        "start_time": "2022-08-30T12:35:30.907Z"
      },
      {
        "duration": 9,
        "start_time": "2022-08-30T12:35:31.418Z"
      },
      {
        "duration": 6,
        "start_time": "2022-08-30T12:35:32.238Z"
      },
      {
        "duration": 3,
        "start_time": "2022-08-30T12:35:33.209Z"
      },
      {
        "duration": 8,
        "start_time": "2022-08-30T12:35:33.732Z"
      },
      {
        "duration": 2,
        "start_time": "2022-08-30T12:35:35.242Z"
      },
      {
        "duration": 44,
        "start_time": "2022-08-30T14:09:07.231Z"
      },
      {
        "duration": 674,
        "start_time": "2022-08-30T14:09:14.170Z"
      },
      {
        "duration": 23,
        "start_time": "2022-08-30T14:09:14.846Z"
      },
      {
        "duration": 15,
        "start_time": "2022-08-30T14:09:15.176Z"
      },
      {
        "duration": 9,
        "start_time": "2022-08-30T14:09:17.549Z"
      },
      {
        "duration": 29,
        "start_time": "2022-08-30T14:09:17.918Z"
      },
      {
        "duration": 4,
        "start_time": "2022-08-30T14:09:18.486Z"
      },
      {
        "duration": 8,
        "start_time": "2022-08-30T14:09:18.843Z"
      },
      {
        "duration": 5,
        "start_time": "2022-08-30T14:09:19.384Z"
      },
      {
        "duration": 7,
        "start_time": "2022-08-30T14:09:19.733Z"
      },
      {
        "duration": 5,
        "start_time": "2022-08-30T14:09:20.063Z"
      },
      {
        "duration": 31,
        "start_time": "2022-08-30T14:09:20.862Z"
      },
      {
        "duration": 9,
        "start_time": "2022-08-30T14:09:21.238Z"
      },
      {
        "duration": 4,
        "start_time": "2022-08-30T14:09:22.030Z"
      },
      {
        "duration": 10,
        "start_time": "2022-08-30T14:09:22.554Z"
      },
      {
        "duration": 18,
        "start_time": "2022-08-30T14:09:22.935Z"
      },
      {
        "duration": 16,
        "start_time": "2022-08-30T14:09:23.146Z"
      },
      {
        "duration": 5,
        "start_time": "2022-08-30T14:09:23.848Z"
      },
      {
        "duration": 10,
        "start_time": "2022-08-30T14:09:24.693Z"
      },
      {
        "duration": 6,
        "start_time": "2022-08-30T14:09:25.744Z"
      },
      {
        "duration": 3,
        "start_time": "2022-08-30T14:09:26.704Z"
      },
      {
        "duration": 8,
        "start_time": "2022-08-30T14:09:27.122Z"
      },
      {
        "duration": 22,
        "start_time": "2022-08-30T14:09:28.862Z"
      },
      {
        "duration": 20,
        "start_time": "2022-08-30T14:13:22.061Z"
      },
      {
        "duration": 1157,
        "start_time": "2022-08-30T14:18:07.353Z"
      },
      {
        "duration": 836,
        "start_time": "2022-08-30T14:18:20.045Z"
      },
      {
        "duration": 21,
        "start_time": "2022-08-30T14:18:26.368Z"
      },
      {
        "duration": 802,
        "start_time": "2022-08-30T14:18:43.431Z"
      },
      {
        "duration": 795,
        "start_time": "2022-08-30T14:19:07.039Z"
      },
      {
        "duration": 790,
        "start_time": "2022-08-30T14:19:15.706Z"
      },
      {
        "duration": 1054,
        "start_time": "2022-08-30T14:19:25.259Z"
      },
      {
        "duration": 1236,
        "start_time": "2022-08-30T14:20:08.746Z"
      },
      {
        "duration": 10,
        "start_time": "2022-08-30T14:20:55.357Z"
      },
      {
        "duration": 756,
        "start_time": "2022-08-30T14:21:20.813Z"
      },
      {
        "duration": 6,
        "start_time": "2022-08-30T14:23:56.736Z"
      },
      {
        "duration": 22,
        "start_time": "2022-08-30T14:24:42.437Z"
      },
      {
        "duration": 878,
        "start_time": "2022-08-30T14:25:49.925Z"
      },
      {
        "duration": 5,
        "start_time": "2022-08-30T14:29:25.564Z"
      },
      {
        "duration": 10,
        "start_time": "2022-08-30T14:29:35.879Z"
      },
      {
        "duration": 17,
        "start_time": "2022-08-30T14:31:51.579Z"
      },
      {
        "duration": 34,
        "start_time": "2022-08-30T14:32:05.782Z"
      },
      {
        "duration": 3,
        "start_time": "2022-08-30T14:32:14.866Z"
      },
      {
        "duration": 13,
        "start_time": "2022-08-30T14:32:27.129Z"
      },
      {
        "duration": 14,
        "start_time": "2022-08-30T14:33:44.395Z"
      },
      {
        "duration": 135,
        "start_time": "2022-08-30T14:34:15.099Z"
      },
      {
        "duration": 126,
        "start_time": "2022-08-30T14:34:29.518Z"
      },
      {
        "duration": 152,
        "start_time": "2022-08-30T14:35:58.731Z"
      },
      {
        "duration": 623,
        "start_time": "2022-08-30T14:36:29.823Z"
      },
      {
        "duration": 148,
        "start_time": "2022-08-30T14:38:49.278Z"
      },
      {
        "duration": 153,
        "start_time": "2022-08-30T14:38:59.251Z"
      },
      {
        "duration": 2,
        "start_time": "2022-08-30T14:41:17.095Z"
      },
      {
        "duration": 225,
        "start_time": "2022-08-30T14:41:29.537Z"
      },
      {
        "duration": 2088,
        "start_time": "2022-08-30T14:42:42.751Z"
      },
      {
        "duration": 15,
        "start_time": "2022-08-30T14:42:52.668Z"
      },
      {
        "duration": 11,
        "start_time": "2022-08-30T14:43:07.883Z"
      },
      {
        "duration": 14,
        "start_time": "2022-08-30T14:43:34.382Z"
      },
      {
        "duration": 11,
        "start_time": "2022-08-30T14:43:42.517Z"
      },
      {
        "duration": 14,
        "start_time": "2022-08-30T14:44:15.990Z"
      },
      {
        "duration": 251,
        "start_time": "2022-08-30T14:53:35.669Z"
      },
      {
        "duration": 147,
        "start_time": "2022-08-30T14:54:17.923Z"
      },
      {
        "duration": 142,
        "start_time": "2022-08-30T14:58:35.718Z"
      },
      {
        "duration": 25,
        "start_time": "2022-08-30T15:02:07.165Z"
      },
      {
        "duration": 9,
        "start_time": "2022-08-30T15:25:14.828Z"
      },
      {
        "duration": 23,
        "start_time": "2022-08-30T15:25:28.949Z"
      },
      {
        "duration": 21,
        "start_time": "2022-08-30T15:25:46.354Z"
      },
      {
        "duration": 9,
        "start_time": "2022-08-30T15:29:01.525Z"
      },
      {
        "duration": 8,
        "start_time": "2022-08-30T15:29:42.335Z"
      },
      {
        "duration": 5,
        "start_time": "2022-08-30T15:30:07.200Z"
      },
      {
        "duration": 6,
        "start_time": "2022-08-30T15:30:46.169Z"
      },
      {
        "duration": 8,
        "start_time": "2022-08-30T15:31:11.228Z"
      },
      {
        "duration": 37,
        "start_time": "2022-08-31T04:54:41.135Z"
      },
      {
        "duration": 3,
        "start_time": "2022-08-31T04:54:41.173Z"
      },
      {
        "duration": 11,
        "start_time": "2022-08-31T04:54:41.177Z"
      },
      {
        "duration": 21,
        "start_time": "2022-08-31T04:54:41.189Z"
      },
      {
        "duration": 9,
        "start_time": "2022-08-31T04:54:41.211Z"
      },
      {
        "duration": 4,
        "start_time": "2022-08-31T04:54:41.223Z"
      },
      {
        "duration": 33,
        "start_time": "2022-08-31T04:54:41.228Z"
      },
      {
        "duration": 9,
        "start_time": "2022-08-31T04:54:41.263Z"
      },
      {
        "duration": 3,
        "start_time": "2022-08-31T04:54:41.273Z"
      },
      {
        "duration": 40,
        "start_time": "2022-08-31T04:54:41.278Z"
      },
      {
        "duration": 24,
        "start_time": "2022-08-31T04:54:41.320Z"
      },
      {
        "duration": 17,
        "start_time": "2022-08-31T04:54:41.346Z"
      },
      {
        "duration": 45,
        "start_time": "2022-08-31T04:54:41.365Z"
      },
      {
        "duration": 12,
        "start_time": "2022-08-31T04:54:41.412Z"
      },
      {
        "duration": 6,
        "start_time": "2022-08-31T04:54:41.425Z"
      },
      {
        "duration": 6,
        "start_time": "2022-08-31T04:54:41.433Z"
      },
      {
        "duration": 13,
        "start_time": "2022-08-31T04:54:41.441Z"
      },
      {
        "duration": 10,
        "start_time": "2022-08-31T04:54:41.455Z"
      },
      {
        "duration": 544,
        "start_time": "2022-08-31T04:54:41.467Z"
      },
      {
        "duration": 7,
        "start_time": "2022-08-31T04:54:42.014Z"
      },
      {
        "duration": 187,
        "start_time": "2022-08-31T04:54:42.022Z"
      },
      {
        "duration": 8,
        "start_time": "2022-08-31T04:54:42.211Z"
      },
      {
        "duration": 165,
        "start_time": "2022-08-31T04:54:42.221Z"
      },
      {
        "duration": 6,
        "start_time": "2022-08-31T04:54:42.389Z"
      },
      {
        "duration": 161,
        "start_time": "2022-08-31T04:54:42.408Z"
      },
      {
        "duration": 7,
        "start_time": "2022-08-31T04:54:42.571Z"
      },
      {
        "duration": 490,
        "start_time": "2022-08-31T04:56:17.172Z"
      },
      {
        "duration": 24,
        "start_time": "2022-08-31T04:56:17.664Z"
      },
      {
        "duration": 32,
        "start_time": "2022-08-31T04:56:17.690Z"
      },
      {
        "duration": 16,
        "start_time": "2022-08-31T04:56:17.725Z"
      },
      {
        "duration": 36,
        "start_time": "2022-08-31T04:56:17.744Z"
      },
      {
        "duration": 4,
        "start_time": "2022-08-31T04:56:17.782Z"
      },
      {
        "duration": 30,
        "start_time": "2022-08-31T04:56:17.787Z"
      },
      {
        "duration": 5,
        "start_time": "2022-08-31T04:56:17.818Z"
      },
      {
        "duration": 8,
        "start_time": "2022-08-31T04:56:17.825Z"
      },
      {
        "duration": 7,
        "start_time": "2022-08-31T04:56:17.835Z"
      },
      {
        "duration": 66,
        "start_time": "2022-08-31T04:56:17.843Z"
      },
      {
        "duration": 10,
        "start_time": "2022-08-31T04:56:17.911Z"
      },
      {
        "duration": 3,
        "start_time": "2022-08-31T04:56:17.922Z"
      },
      {
        "duration": 11,
        "start_time": "2022-08-31T04:56:17.929Z"
      },
      {
        "duration": 19,
        "start_time": "2022-08-31T04:56:17.942Z"
      },
      {
        "duration": 49,
        "start_time": "2022-08-31T04:56:17.963Z"
      },
      {
        "duration": 4,
        "start_time": "2022-08-31T04:56:18.014Z"
      },
      {
        "duration": 11,
        "start_time": "2022-08-31T04:56:18.020Z"
      },
      {
        "duration": 6,
        "start_time": "2022-08-31T04:56:18.033Z"
      },
      {
        "duration": 3,
        "start_time": "2022-08-31T04:56:18.041Z"
      },
      {
        "duration": 15,
        "start_time": "2022-08-31T04:56:18.045Z"
      },
      {
        "duration": 6,
        "start_time": "2022-08-31T04:56:18.061Z"
      },
      {
        "duration": 373,
        "start_time": "2022-08-31T04:56:18.068Z"
      },
      {
        "duration": 6,
        "start_time": "2022-08-31T04:56:18.442Z"
      },
      {
        "duration": 176,
        "start_time": "2022-08-31T04:56:18.449Z"
      },
      {
        "duration": 8,
        "start_time": "2022-08-31T04:56:18.626Z"
      },
      {
        "duration": 170,
        "start_time": "2022-08-31T04:56:18.635Z"
      },
      {
        "duration": 7,
        "start_time": "2022-08-31T04:56:18.808Z"
      },
      {
        "duration": 156,
        "start_time": "2022-08-31T04:56:18.816Z"
      },
      {
        "duration": 7,
        "start_time": "2022-08-31T04:56:18.974Z"
      },
      {
        "duration": 48,
        "start_time": "2022-09-03T12:42:52.888Z"
      },
      {
        "duration": 749,
        "start_time": "2022-09-03T12:43:04.479Z"
      },
      {
        "duration": 23,
        "start_time": "2022-09-03T12:43:05.464Z"
      },
      {
        "duration": 19,
        "start_time": "2022-09-03T12:43:05.890Z"
      },
      {
        "duration": 12,
        "start_time": "2022-09-03T12:43:06.903Z"
      },
      {
        "duration": 43,
        "start_time": "2022-09-03T12:43:07.288Z"
      },
      {
        "duration": 4,
        "start_time": "2022-09-03T12:43:07.871Z"
      },
      {
        "duration": 8,
        "start_time": "2022-09-03T12:43:08.252Z"
      },
      {
        "duration": 5,
        "start_time": "2022-09-03T12:43:08.848Z"
      },
      {
        "duration": 6,
        "start_time": "2022-09-03T12:43:09.255Z"
      },
      {
        "duration": 5,
        "start_time": "2022-09-03T12:43:09.622Z"
      },
      {
        "duration": 33,
        "start_time": "2022-09-03T12:43:10.222Z"
      },
      {
        "duration": 11,
        "start_time": "2022-09-03T12:43:10.605Z"
      },
      {
        "duration": 5,
        "start_time": "2022-09-03T12:43:11.193Z"
      },
      {
        "duration": 16,
        "start_time": "2022-09-03T12:43:11.814Z"
      },
      {
        "duration": 28,
        "start_time": "2022-09-03T12:43:12.179Z"
      },
      {
        "duration": 19,
        "start_time": "2022-09-03T12:43:12.411Z"
      },
      {
        "duration": 4,
        "start_time": "2022-09-03T12:43:12.992Z"
      },
      {
        "duration": 10,
        "start_time": "2022-09-03T12:43:13.167Z"
      },
      {
        "duration": 7,
        "start_time": "2022-09-03T12:43:13.924Z"
      },
      {
        "duration": 5,
        "start_time": "2022-09-03T12:43:14.553Z"
      },
      {
        "duration": 12,
        "start_time": "2022-09-03T12:43:14.777Z"
      },
      {
        "duration": 6,
        "start_time": "2022-09-03T12:43:15.619Z"
      },
      {
        "duration": 537,
        "start_time": "2022-09-03T12:43:16.020Z"
      },
      {
        "duration": 6,
        "start_time": "2022-09-03T12:43:18.704Z"
      },
      {
        "duration": 22,
        "start_time": "2022-09-03T12:43:19.332Z"
      },
      {
        "duration": 45,
        "start_time": "2022-09-03T12:46:46.015Z"
      },
      {
        "duration": 130,
        "start_time": "2022-09-03T12:46:52.311Z"
      },
      {
        "duration": 136,
        "start_time": "2022-09-03T12:47:23.875Z"
      },
      {
        "duration": 191,
        "start_time": "2022-09-03T12:47:38.241Z"
      },
      {
        "duration": 13,
        "start_time": "2022-09-03T12:51:25.061Z"
      },
      {
        "duration": 13,
        "start_time": "2022-09-03T12:51:29.377Z"
      },
      {
        "duration": 128,
        "start_time": "2022-09-03T12:52:00.914Z"
      },
      {
        "duration": 263,
        "start_time": "2022-09-03T12:52:27.647Z"
      },
      {
        "duration": 286,
        "start_time": "2022-09-03T12:52:50.204Z"
      },
      {
        "duration": 14,
        "start_time": "2022-09-03T12:54:24.420Z"
      },
      {
        "duration": 17,
        "start_time": "2022-09-03T12:54:27.112Z"
      },
      {
        "duration": 15,
        "start_time": "2022-09-03T12:55:37.319Z"
      },
      {
        "duration": 194,
        "start_time": "2022-09-03T12:57:14.017Z"
      },
      {
        "duration": 202,
        "start_time": "2022-09-03T12:57:55.876Z"
      },
      {
        "duration": 1199,
        "start_time": "2022-09-03T12:58:15.674Z"
      },
      {
        "duration": 944,
        "start_time": "2022-09-03T12:58:31.638Z"
      },
      {
        "duration": 186,
        "start_time": "2022-09-03T12:58:47.230Z"
      },
      {
        "duration": 138,
        "start_time": "2022-09-03T12:59:38.017Z"
      },
      {
        "duration": 163,
        "start_time": "2022-09-03T12:59:55.184Z"
      },
      {
        "duration": 1826,
        "start_time": "2022-09-03T13:00:25.019Z"
      },
      {
        "duration": 2518,
        "start_time": "2022-09-03T13:00:37.439Z"
      },
      {
        "duration": 23,
        "start_time": "2022-09-03T13:07:24.850Z"
      },
      {
        "duration": 25,
        "start_time": "2022-09-03T13:07:53.827Z"
      },
      {
        "duration": 89,
        "start_time": "2022-09-03T13:10:32.934Z"
      },
      {
        "duration": 23,
        "start_time": "2022-09-03T13:21:33.983Z"
      },
      {
        "duration": 32,
        "start_time": "2022-09-03T13:23:09.493Z"
      },
      {
        "duration": 503,
        "start_time": "2022-09-03T16:44:23.571Z"
      },
      {
        "duration": 24,
        "start_time": "2022-09-03T16:44:24.076Z"
      },
      {
        "duration": 24,
        "start_time": "2022-09-03T16:44:24.102Z"
      },
      {
        "duration": 15,
        "start_time": "2022-09-03T16:44:24.128Z"
      },
      {
        "duration": 63,
        "start_time": "2022-09-03T16:44:24.146Z"
      },
      {
        "duration": 4,
        "start_time": "2022-09-03T16:44:24.211Z"
      },
      {
        "duration": 29,
        "start_time": "2022-09-03T16:44:24.217Z"
      },
      {
        "duration": 7,
        "start_time": "2022-09-03T16:44:24.248Z"
      },
      {
        "duration": 29,
        "start_time": "2022-09-03T16:44:24.257Z"
      },
      {
        "duration": 34,
        "start_time": "2022-09-03T16:44:24.289Z"
      },
      {
        "duration": 81,
        "start_time": "2022-09-03T16:44:24.325Z"
      },
      {
        "duration": 16,
        "start_time": "2022-09-03T16:44:24.408Z"
      },
      {
        "duration": 19,
        "start_time": "2022-09-03T16:44:24.426Z"
      },
      {
        "duration": 21,
        "start_time": "2022-09-03T16:44:24.450Z"
      },
      {
        "duration": 56,
        "start_time": "2022-09-03T16:44:24.473Z"
      },
      {
        "duration": 22,
        "start_time": "2022-09-03T16:44:24.531Z"
      },
      {
        "duration": 4,
        "start_time": "2022-09-03T16:44:24.554Z"
      },
      {
        "duration": 27,
        "start_time": "2022-09-03T16:44:24.560Z"
      },
      {
        "duration": 17,
        "start_time": "2022-09-03T16:44:24.588Z"
      },
      {
        "duration": 21,
        "start_time": "2022-09-03T16:44:24.607Z"
      },
      {
        "duration": 24,
        "start_time": "2022-09-03T16:44:24.629Z"
      },
      {
        "duration": 29,
        "start_time": "2022-09-03T16:44:24.655Z"
      },
      {
        "duration": 469,
        "start_time": "2022-09-03T16:44:24.687Z"
      },
      {
        "duration": 6,
        "start_time": "2022-09-03T16:44:25.158Z"
      },
      {
        "duration": 45,
        "start_time": "2022-09-03T16:44:25.166Z"
      },
      {
        "duration": 219,
        "start_time": "2022-09-03T16:44:25.213Z"
      },
      {
        "duration": 26,
        "start_time": "2022-09-03T16:44:25.434Z"
      },
      {
        "duration": 225,
        "start_time": "2022-09-03T16:44:25.462Z"
      },
      {
        "duration": 7,
        "start_time": "2022-09-03T16:44:25.689Z"
      },
      {
        "duration": 32,
        "start_time": "2022-09-03T16:44:25.704Z"
      },
      {
        "duration": 183,
        "start_time": "2022-09-03T16:44:25.738Z"
      },
      {
        "duration": 10,
        "start_time": "2022-09-03T16:44:25.923Z"
      },
      {
        "duration": 38,
        "start_time": "2022-09-03T16:44:25.936Z"
      }
    ],
    "colab": {
      "provenance": []
    },
    "kernelspec": {
      "display_name": "Python 3 (ipykernel)",
      "language": "python",
      "name": "python3"
    },
    "language_info": {
      "codemirror_mode": {
        "name": "ipython",
        "version": 3
      },
      "file_extension": ".py",
      "mimetype": "text/x-python",
      "name": "python",
      "nbconvert_exporter": "python",
      "pygments_lexer": "ipython3",
      "version": "3.9.5"
    },
    "toc": {
      "base_numbering": 1,
      "nav_menu": {},
      "number_sections": true,
      "sideBar": true,
      "skip_h1_title": true,
      "title_cell": "Table of Contents",
      "title_sidebar": "Contents",
      "toc_cell": false,
      "toc_position": {},
      "toc_section_display": true,
      "toc_window_display": false
    }
  },
  "nbformat": 4,
  "nbformat_minor": 5
}